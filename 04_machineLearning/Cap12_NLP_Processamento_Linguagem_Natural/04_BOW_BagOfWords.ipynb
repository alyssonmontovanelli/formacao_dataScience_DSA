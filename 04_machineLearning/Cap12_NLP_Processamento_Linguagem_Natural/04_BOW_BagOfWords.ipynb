{
 "cells": [
  {
   "cell_type": "markdown",
   "metadata": {},
   "source": [
    "# <font color = \"red\"> Modelo de Classificação de Idiomas de Setenças com Bag of Words e Pytorch"
   ]
  },
  {
   "cell_type": "code",
   "execution_count": 1,
   "metadata": {},
   "outputs": [],
   "source": [
    "!pip install -q -U torch torchvision"
   ]
  },
  {
   "cell_type": "code",
   "execution_count": 2,
   "metadata": {},
   "outputs": [],
   "source": [
    "# Imports\n",
    "import numpy as np\n",
    "import pandas as pd\n",
    "import matplotlib.pyplot as plt\n",
    "import torch\n",
    "import torch.nn.functional as F\n",
    "from torch import nn, optim"
   ]
  },
  {
   "cell_type": "markdown",
   "metadata": {},
   "source": [
    "## Preparação dos Dados"
   ]
  },
  {
   "cell_type": "code",
   "execution_count": 3,
   "metadata": {},
   "outputs": [],
   "source": [
    "# Dados de Treino \n",
    "dados_treino = [(\"Tenho vinte paginas de leitura\".lower().split(), \"Portuguese\"),\n",
    "                (\"I will visit the library\".lower().split(), \"English\"),\n",
    "                (\"I am reading a book\".lower().split(), \"English\"),\n",
    "                (\"This is my favourtie chapter\".lower().split(), \"English\"),\n",
    "                (\"Estou na biblioteca lendo meu livro preferido\".lower().split(), \"Portuguese\"),\n",
    "                (\"Gosto de livrios sobre viagens\".lower().split(), \"Portuguese\")]"
   ]
  },
  {
   "cell_type": "code",
   "execution_count": 4,
   "metadata": {},
   "outputs": [
    {
     "data": {
      "text/plain": [
       "list"
      ]
     },
     "execution_count": 4,
     "metadata": {},
     "output_type": "execute_result"
    }
   ],
   "source": [
    "type(dados_treino)"
   ]
  },
  {
   "cell_type": "code",
   "execution_count": 5,
   "metadata": {},
   "outputs": [
    {
     "data": {
      "text/plain": [
       "[(['tenho', 'vinte', 'paginas', 'de', 'leitura'], 'Portuguese'),\n",
       " (['i', 'will', 'visit', 'the', 'library'], 'English'),\n",
       " (['i', 'am', 'reading', 'a', 'book'], 'English'),\n",
       " (['this', 'is', 'my', 'favourtie', 'chapter'], 'English'),\n",
       " (['estou', 'na', 'biblioteca', 'lendo', 'meu', 'livro', 'preferido'],\n",
       "  'Portuguese'),\n",
       " (['gosto', 'de', 'livrios', 'sobre', 'viagens'], 'Portuguese')]"
      ]
     },
     "execution_count": 5,
     "metadata": {},
     "output_type": "execute_result"
    }
   ],
   "source": [
    "dados_treino"
   ]
  },
  {
   "cell_type": "code",
   "execution_count": 8,
   "metadata": {},
   "outputs": [],
   "source": [
    "# Dados Teste\n",
    "dados_teste = [(\"Estou lendo\".lower().split(), \"Portuguese\"),\n",
    "               (\"this is not my favourite book\".lower().split(), \"English\")]"
   ]
  },
  {
   "cell_type": "code",
   "execution_count": 10,
   "metadata": {},
   "outputs": [],
   "source": [
    "# Prepara o dicionário do vocabulário\n",
    "\n",
    "# Dicionário para o vocabulário \n",
    "dict_vocab = {}\n",
    "\n",
    "# Contador \n",
    "i = 0\n",
    "\n",
    "# Loop pelos dados de treino e teste\n",
    "for palavras, idiomas in dados_treino + dados_teste:\n",
    " for palavra in palavras:\n",
    "  if palavra not in dict_vocab:\n",
    "   dict_vocab[palavra] = i\n",
    "   i+=1\n"
   ]
  },
  {
   "cell_type": "code",
   "execution_count": 11,
   "metadata": {},
   "outputs": [
    {
     "data": {
      "text/plain": [
       "{'tenho': 0,\n",
       " 'vinte': 1,\n",
       " 'paginas': 2,\n",
       " 'de': 3,\n",
       " 'leitura': 4,\n",
       " 'i': 5,\n",
       " 'will': 6,\n",
       " 'visit': 7,\n",
       " 'the': 8,\n",
       " 'library': 9,\n",
       " 'am': 10,\n",
       " 'reading': 11,\n",
       " 'a': 12,\n",
       " 'book': 13,\n",
       " 'this': 14,\n",
       " 'is': 15,\n",
       " 'my': 16,\n",
       " 'favourtie': 17,\n",
       " 'chapter': 18,\n",
       " 'estou': 19,\n",
       " 'na': 20,\n",
       " 'biblioteca': 21,\n",
       " 'lendo': 22,\n",
       " 'meu': 23,\n",
       " 'livro': 24,\n",
       " 'preferido': 25,\n",
       " 'gosto': 26,\n",
       " 'livrios': 27,\n",
       " 'sobre': 28,\n",
       " 'viagens': 29,\n",
       " 'not': 30,\n",
       " 'favourite': 31}"
      ]
     },
     "execution_count": 11,
     "metadata": {},
     "output_type": "execute_result"
    }
   ],
   "source": [
    "dict_vocab"
   ]
  },
  {
   "cell_type": "code",
   "execution_count": 12,
   "metadata": {},
   "outputs": [],
   "source": [
    "# Numero de idiomas \n",
    "idiomas = 2"
   ]
  },
  {
   "cell_type": "code",
   "execution_count": 13,
   "metadata": {},
   "outputs": [],
   "source": [
    "tamanho_corpus = len(dict_vocab)"
   ]
  },
  {
   "cell_type": "code",
   "execution_count": 14,
   "metadata": {},
   "outputs": [
    {
     "data": {
      "text/plain": [
       "32"
      ]
     },
     "execution_count": 14,
     "metadata": {},
     "output_type": "execute_result"
    }
   ],
   "source": [
    "tamanho_corpus"
   ]
  },
  {
   "cell_type": "code",
   "execution_count": 16,
   "metadata": {},
   "outputs": [],
   "source": [
    "# Indice para os idiomas \n",
    "label_index = {\"Portuguese\":0, \"English\":1}"
   ]
  },
  {
   "cell_type": "markdown",
   "metadata": {},
   "source": [
    "## <font color = \"red\">Construção do Modelo"
   ]
  },
  {
   "cell_type": "code",
   "execution_count": 20,
   "metadata": {},
   "outputs": [],
   "source": [
    "# Classe para o modelo BOW de classificação \n",
    "\n",
    "class ModeloBOW(nn.Module): ## Classe recebe propriedades da classe mãe - \"nn\" do Pythorch\n",
    "\n",
    " # Método construtor\n",
    " def __init__(self, lista_idiomas, tamanho_corpus):\n",
    "  super(ModeloBOW, self).__init__()\n",
    "  self.linear = nn.Linear(tamanho_corpus, lista_idiomas) # Cria camada linear (multiplicação)\n",
    "\n",
    " # Feed Forward - Treinamento propriamente dito\n",
    " def forward(self, bow_vec): # Recebe o vetor do bag of words\n",
    "  return F.log_softmax(self.linear(bow_vec), dim = 1)\n",
    " \n",
    " # \"F\" - pacote de funções de ativação do PyTorch"
   ]
  },
  {
   "cell_type": "code",
   "execution_count": 19,
   "metadata": {},
   "outputs": [],
   "source": [
    "# Função para criar o vetor BOW necessário para o treinamento\n",
    "def cria_bow_vetor(sentence, word_index):\n",
    " word_vec = torch.zeros(tamanho_corpus) # matriz de 0 com msm dim do corpus\n",
    " \n",
    " for word in sentence:\n",
    "  word_vec[dict_vocab[word]] += 1\n",
    " return word_vec.view(1, -1)"
   ]
  },
  {
   "cell_type": "code",
   "execution_count": 21,
   "metadata": {},
   "outputs": [],
   "source": [
    "# Função para criar a variável target\n",
    "def cria_target(label, label_index):\n",
    " return torch.LongTensor([label_index[label]])"
   ]
  },
  {
   "cell_type": "code",
   "execution_count": 22,
   "metadata": {},
   "outputs": [],
   "source": [
    "# Cria o Modelo\n",
    "modelo = ModeloBOW(idiomas, tamanho_corpus)"
   ]
  },
  {
   "cell_type": "code",
   "execution_count": 23,
   "metadata": {},
   "outputs": [],
   "source": [
    "# Função de perda (loss) - calculo negativo binomial\n",
    "loss_function = nn.NLLLoss()"
   ]
  },
  {
   "cell_type": "code",
   "execution_count": 25,
   "metadata": {},
   "outputs": [],
   "source": [
    "# Otimizador\n",
    "optimizer = optim.SGD(modelo.parameters(), lr = 0.1) # lr = learning Rate\n",
    "# Stocate Gradient Descent"
   ]
  },
  {
   "cell_type": "markdown",
   "metadata": {},
   "source": [
    "## <font color = \"red\"> Treinamento do Modelo"
   ]
  },
  {
   "cell_type": "code",
   "execution_count": 26,
   "metadata": {},
   "outputs": [
    {
     "name": "stdout",
     "output_type": "stream",
     "text": [
      "Epoch: 1, Loss: 0.44626864790916443\n",
      "Epoch: 11, Loss: 0.07579302787780762\n",
      "Epoch: 21, Loss: 0.04040587693452835\n",
      "Epoch: 31, Loss: 0.027490265667438507\n",
      "Epoch: 41, Loss: 0.0208209790289402\n",
      "Epoch: 51, Loss: 0.01675274968147278\n",
      "Epoch: 61, Loss: 0.014013230800628662\n",
      "Epoch: 71, Loss: 0.012043262831866741\n",
      "Epoch: 81, Loss: 0.010558576323091984\n",
      "Epoch: 91, Loss: 0.00939968228340149\n"
     ]
    }
   ],
   "source": [
    "# Loop de treinaemnto \n",
    "\n",
    "for epoch in range(100):\n",
    " \n",
    " for setence, label in dados_treino:\n",
    "\n",
    "  modelo.zero_grad() # Inicia os Pesos\n",
    "  \n",
    "  bow_vec = cria_bow_vetor(setence, dict_vocab) # precisa do dicionario para criar o vetor\n",
    "  target = cria_target(label, label_index) \n",
    "\n",
    "  log_probs = modelo(bow_vec) # calculando probaliblidade passando o vetor BOW\n",
    "\n",
    "  loss = loss_function(log_probs, target) # calcula o erro verificando o target com as previsoes\n",
    "  loss.backward()\n",
    "  optimizer.step()\n",
    "\n",
    " if epoch % 10 == 0:\n",
    "  print(f\"Epoch: {str(epoch+1)}, Loss: {str(loss.item())}\")"
   ]
  },
  {
   "cell_type": "markdown",
   "metadata": {},
   "source": [
    "## <font color = \"red\">Previsões e Avaliação do Modelo"
   ]
  },
  {
   "cell_type": "code",
   "execution_count": 28,
   "metadata": {},
   "outputs": [],
   "source": [
    "# Função para previsões\n",
    "def faz_previsao(data):\n",
    "\n",
    " with torch.no_grad():\n",
    "  setence = data[0]\n",
    "  label = data[1]\n",
    "  bow_vec = cria_bow_vetor(setence, dict_vocab)\n",
    "  log_probs = modelo(bow_vec)\n",
    "  print(setence)\n",
    "  print(f\"Probabilidade de ser o label {label} é igual a: {np.exp(log_probs)}\")"
   ]
  },
  {
   "cell_type": "code",
   "execution_count": 29,
   "metadata": {},
   "outputs": [
    {
     "name": "stdout",
     "output_type": "stream",
     "text": [
      "['estou', 'lendo']\n",
      "Probabilidade de ser o label Portuguese é igual a: tensor([[0.7819, 0.2181]])\n"
     ]
    }
   ],
   "source": [
    "# Previsão com a primeira setença de teste\n",
    "\n",
    "faz_previsao(dados_teste[0])"
   ]
  },
  {
   "cell_type": "code",
   "execution_count": 30,
   "metadata": {},
   "outputs": [
    {
     "data": {
      "text/plain": [
       "(['estou', 'lendo'], 'Portuguese')"
      ]
     },
     "execution_count": 30,
     "metadata": {},
     "output_type": "execute_result"
    }
   ],
   "source": [
    "dados_teste[0]"
   ]
  },
  {
   "cell_type": "code",
   "execution_count": 31,
   "metadata": {},
   "outputs": [
    {
     "data": {
      "text/plain": [
       "(['this', 'is', 'not', 'my', 'favourite', 'book'], 'English')"
      ]
     },
     "execution_count": 31,
     "metadata": {},
     "output_type": "execute_result"
    }
   ],
   "source": [
    "dados_teste[1]"
   ]
  },
  {
   "cell_type": "code",
   "execution_count": 32,
   "metadata": {},
   "outputs": [
    {
     "name": "stdout",
     "output_type": "stream",
     "text": [
      "['this', 'is', 'not', 'my', 'favourite', 'book']\n",
      "Probabilidade de ser o label English é igual a: tensor([[0.0284, 0.9716]])\n"
     ]
    }
   ],
   "source": [
    "faz_previsao(dados_teste[1])"
   ]
  },
  {
   "cell_type": "markdown",
   "metadata": {},
   "source": [
    "## <font color = \"red\">Previsões com Novas Frases"
   ]
  },
  {
   "cell_type": "code",
   "execution_count": 63,
   "metadata": {},
   "outputs": [],
   "source": [
    "# Dados Teste\n",
    "novas_frases = [(\"Meu livro de biblioteca\".lower().split(), \"Portuguese\"),\n",
    "               (\"I am visit\".lower().split(), \"English\")]"
   ]
  },
  {
   "cell_type": "code",
   "execution_count": 64,
   "metadata": {},
   "outputs": [
    {
     "data": {
      "text/plain": [
       "[(['meu', 'livro', 'de', 'biblioteca'], 'Portuguese'),\n",
       " (['i', 'am', 'visit'], 'English')]"
      ]
     },
     "execution_count": 64,
     "metadata": {},
     "output_type": "execute_result"
    }
   ],
   "source": [
    "novas_frases"
   ]
  },
  {
   "cell_type": "code",
   "execution_count": 65,
   "metadata": {},
   "outputs": [
    {
     "data": {
      "text/plain": [
       "[(['tenho', 'vinte', 'paginas', 'de', 'leitura'], 'Portuguese'),\n",
       " (['i', 'will', 'visit', 'the', 'library'], 'English'),\n",
       " (['i', 'am', 'reading', 'a', 'book'], 'English'),\n",
       " (['this', 'is', 'my', 'favourtie', 'chapter'], 'English'),\n",
       " (['estou', 'na', 'biblioteca', 'lendo', 'meu', 'livro', 'preferido'],\n",
       "  'Portuguese'),\n",
       " (['gosto', 'de', 'livrios', 'sobre', 'viagens'], 'Portuguese')]"
      ]
     },
     "execution_count": 65,
     "metadata": {},
     "output_type": "execute_result"
    }
   ],
   "source": [
    "dados_treino"
   ]
  },
  {
   "cell_type": "code",
   "execution_count": 66,
   "metadata": {},
   "outputs": [
    {
     "name": "stdout",
     "output_type": "stream",
     "text": [
      "['meu', 'livro', 'de', 'biblioteca']\n",
      "Probabilidade de ser o label Portuguese é igual a: tensor([[0.9687, 0.0313]])\n"
     ]
    }
   ],
   "source": [
    "faz_previsao(novas_frases[0])"
   ]
  },
  {
   "cell_type": "code",
   "execution_count": 67,
   "metadata": {},
   "outputs": [
    {
     "name": "stdout",
     "output_type": "stream",
     "text": [
      "['i', 'am', 'visit']\n",
      "Probabilidade de ser o label English é igual a: tensor([[0.0451, 0.9549]])\n"
     ]
    }
   ],
   "source": [
    "faz_previsao(novas_frases[1])"
   ]
  }
 ],
 "metadata": {
  "kernelspec": {
   "display_name": "base",
   "language": "python",
   "name": "python3"
  },
  "language_info": {
   "codemirror_mode": {
    "name": "ipython",
    "version": 3
   },
   "file_extension": ".py",
   "mimetype": "text/x-python",
   "name": "python",
   "nbconvert_exporter": "python",
   "pygments_lexer": "ipython3",
   "version": "3.9.13"
  }
 },
 "nbformat": 4,
 "nbformat_minor": 2
}
