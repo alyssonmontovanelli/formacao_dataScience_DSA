{
 "cells": [
  {
   "cell_type": "markdown",
   "metadata": {},
   "source": [
    "## Introdução ao Framework PyTorch"
   ]
  },
  {
   "cell_type": "markdown",
   "metadata": {},
   "source": [
    "A computação em modelos de Deep Learning é feita com tensores, que são generalizações de uma matriz que pode ser indexada em mais de duas dimensões. O PyTorch é um framework que aplica operações matemáticas a tensores para então treinar modelos de Deep Learning."
   ]
  },
  {
   "cell_type": "markdown",
   "metadata": {},
   "source": [
    "**TorchScript**\n",
    "\n",
    "O PyTorch TorchScript ajuda a criar modelos serializáveis e otimizáveis. Depois que treinamos esses modelos, eles também podem ser executados independentemente. Isso ajuda quando estamos no estágio de implantação do modelo de um projeto de Data Science.\n",
    "\n",
    "Você pode treinar um modelo no PyTorch usando Python e depois exportá-lo via TorchScript para um ambiente de produção em que Python não esteja disponível. \n",
    "\n",
    "**Treinamento Distribuído**\n",
    "\n",
    "O PyTorch também oferece suporte a treinamento distribuído que permite que pesquisadores e profissionais paralelizem seus cálculos. O treinamento distribuído possibilita o uso de várias GPUs para processar lotes maiores de dados de entrada. Isso, por sua vez, reduz o tempo de computação.\n",
    "\n",
    "**Suporte para Python**\n",
    "\n",
    "O PyTorch tem uma interação muito boa com o Python. De fato, a codificação no PyTorch é bastante semelhante ao que fazemos em Python. Portanto, se você se sentir confortável com o Python, vai adorar trabalhar com o PyTorch."
   ]
  },
  {
   "cell_type": "code",
   "execution_count": 2,
   "metadata": {},
   "outputs": [
    {
     "name": "stderr",
     "output_type": "stream",
     "text": [
      "\n",
      "[notice] A new release of pip is available: 24.0 -> 24.2\n",
      "[notice] To update, run: python.exe -m pip install --upgrade pip\n"
     ]
    }
   ],
   "source": [
    "# Instalando o PyTorch\n",
    "\n",
    "!pip install -q -U torch torchvision"
   ]
  },
  {
   "cell_type": "code",
   "execution_count": 3,
   "metadata": {},
   "outputs": [],
   "source": [
    "# Imports \n",
    "import numpy as np\n",
    "import torch\n",
    "import torchvision"
   ]
  },
  {
   "cell_type": "markdown",
   "metadata": {},
   "source": [
    "# <font color = \"red\"> Criando e Manipulando Tensores"
   ]
  },
  {
   "cell_type": "markdown",
   "metadata": {},
   "source": [
    "A razão pela qual usamos o Numpy em Machine Learning é que é muito mais rápido do que as listas Python na execução de operações de matriz. \n",
    "\n",
    "Por quê? Internamente, NumPy faz a maior parte do trabalho pesado em Linguagem C, que é muito mais veloz que Python. \n",
    "\n",
    "Mas, no caso de treinar redes neurais profundas (<a href=\"http://www.deeplearningbook.com.br/\">Deep Learning</a>), os arrays NumPy levariam meses para treinar algumas das redes de ponta. É aqui que os tensores entram em cena. O PyTorch nos fornece uma estrutura de dados chamada Tensor, que é muito semelhante à matriz ND do NumPy. Mas, diferentemente do último, os tensores podem aproveitar os recursos de uma GPU para acelerar significativamente as operações com matrizes."
   ]
  },
  {
   "cell_type": "code",
   "execution_count": 4,
   "metadata": {},
   "outputs": [],
   "source": [
    "# Criando um tensor\n",
    "\n",
    "x = torch.tensor([1., 2.])"
   ]
  },
  {
   "cell_type": "code",
   "execution_count": 5,
   "metadata": {},
   "outputs": [
    {
     "data": {
      "text/plain": [
       "torch.Tensor"
      ]
     },
     "execution_count": 5,
     "metadata": {},
     "output_type": "execute_result"
    }
   ],
   "source": [
    "type(x)"
   ]
  },
  {
   "cell_type": "code",
   "execution_count": 6,
   "metadata": {},
   "outputs": [
    {
     "name": "stdout",
     "output_type": "stream",
     "text": [
      "tensor([1., 2.])\n"
     ]
    }
   ],
   "source": [
    "print(x)"
   ]
  },
  {
   "cell_type": "code",
   "execution_count": 7,
   "metadata": {},
   "outputs": [],
   "source": [
    "# Criando um tensor\n",
    "t = torch.tensor([[1,1,1,1],\n",
    "                  [2,2,2,2],\n",
    "                  [3,3,3,3]], dtype = torch.float32)"
   ]
  },
  {
   "cell_type": "code",
   "execution_count": 8,
   "metadata": {},
   "outputs": [
    {
     "data": {
      "text/plain": [
       "tensor([[1., 1., 1., 1.],\n",
       "        [2., 2., 2., 2.],\n",
       "        [3., 3., 3., 3.]])"
      ]
     },
     "execution_count": 8,
     "metadata": {},
     "output_type": "execute_result"
    }
   ],
   "source": [
    "t"
   ]
  },
  {
   "cell_type": "code",
   "execution_count": 9,
   "metadata": {},
   "outputs": [
    {
     "data": {
      "text/plain": [
       "torch.Size([3, 4])"
      ]
     },
     "execution_count": 9,
     "metadata": {},
     "output_type": "execute_result"
    }
   ],
   "source": [
    "t.shape"
   ]
  },
  {
   "cell_type": "markdown",
   "metadata": {},
   "source": [
    "Para determinar a forma desse tensor, examinamos primeiro as linhas (3) e depois as colunas (4). Portanto, esse tensor é 3 x 4 de classificação (rank) 2. \n",
    "\n",
    "Rank é uma palavra comumente usada e significa apenas o número de dimensões presentes no tensor.\n",
    "\n",
    "No PyTorch, temos duas maneiras de obter a forma (shape):"
   ]
  },
  {
   "cell_type": "code",
   "execution_count": 10,
   "metadata": {},
   "outputs": [
    {
     "data": {
      "text/plain": [
       "torch.Size([3, 4])"
      ]
     },
     "execution_count": 10,
     "metadata": {},
     "output_type": "execute_result"
    }
   ],
   "source": [
    "t.size()"
   ]
  },
  {
   "cell_type": "code",
   "execution_count": 11,
   "metadata": {},
   "outputs": [
    {
     "data": {
      "text/plain": [
       "torch.Size([2])"
      ]
     },
     "execution_count": 11,
     "metadata": {},
     "output_type": "execute_result"
    }
   ],
   "source": [
    "x.shape"
   ]
  },
  {
   "cell_type": "markdown",
   "metadata": {},
   "source": [
    "No PyTorch, o tamanho e a forma de um tensor significam a mesma coisa.\n",
    "\n",
    "Normalmente, depois de conhecermos a forma de um tensor, podemos deduzir algumas coisas. Primeiro, podemos deduzir o rank do tensor. O rank de um tensor é igual ao comprimento da forma do tensor."
   ]
  },
  {
   "cell_type": "code",
   "execution_count": 12,
   "metadata": {},
   "outputs": [
    {
     "data": {
      "text/plain": [
       "2"
      ]
     },
     "execution_count": 12,
     "metadata": {},
     "output_type": "execute_result"
    }
   ],
   "source": [
    "len(t.shape)"
   ]
  },
  {
   "cell_type": "markdown",
   "metadata": {},
   "source": [
    "Também podemos deduzir o número de elementos contidos no tensor. O número de elementos dentro de um tensor (12 no nosso caso do tensor t e 2 no tensor x) é igual ao produto dos valores dos componentes da forma."
   ]
  },
  {
   "cell_type": "code",
   "execution_count": 13,
   "metadata": {},
   "outputs": [
    {
     "data": {
      "text/plain": [
       "tensor(12)"
      ]
     },
     "execution_count": 13,
     "metadata": {},
     "output_type": "execute_result"
    }
   ],
   "source": [
    "torch.tensor(t.shape).prod()"
   ]
  },
  {
   "cell_type": "code",
   "execution_count": 14,
   "metadata": {},
   "outputs": [
    {
     "data": {
      "text/plain": [
       "tensor(2)"
      ]
     },
     "execution_count": 14,
     "metadata": {},
     "output_type": "execute_result"
    }
   ],
   "source": [
    "torch.tensor(x.shape).prod()"
   ]
  },
  {
   "cell_type": "code",
   "execution_count": 15,
   "metadata": {},
   "outputs": [],
   "source": [
    "# Retornando um elemento de um tensor\n",
    "\n",
    "z = torch.tensor([[1.,2.],\n",
    "                  [5.,3.],\n",
    "                  [0.,4.]])"
   ]
  },
  {
   "cell_type": "code",
   "execution_count": 16,
   "metadata": {},
   "outputs": [
    {
     "data": {
      "text/plain": [
       "tensor([[1., 2.],\n",
       "        [5., 3.],\n",
       "        [0., 4.]])"
      ]
     },
     "execution_count": 16,
     "metadata": {},
     "output_type": "execute_result"
    }
   ],
   "source": [
    "z"
   ]
  },
  {
   "cell_type": "code",
   "execution_count": 17,
   "metadata": {},
   "outputs": [
    {
     "data": {
      "text/plain": [
       "torch.Size([3, 2])"
      ]
     },
     "execution_count": 17,
     "metadata": {},
     "output_type": "execute_result"
    }
   ],
   "source": [
    "# Shape\n",
    "z.shape"
   ]
  },
  {
   "cell_type": "code",
   "execution_count": 18,
   "metadata": {},
   "outputs": [
    {
     "data": {
      "text/plain": [
       "tensor(1.)"
      ]
     },
     "execution_count": 18,
     "metadata": {},
     "output_type": "execute_result"
    }
   ],
   "source": [
    "z[0][0]"
   ]
  },
  {
   "cell_type": "code",
   "execution_count": 19,
   "metadata": {},
   "outputs": [
    {
     "data": {
      "text/plain": [
       "1.0"
      ]
     },
     "execution_count": 19,
     "metadata": {},
     "output_type": "execute_result"
    }
   ],
   "source": [
    "z[0][0].item()"
   ]
  },
  {
   "cell_type": "markdown",
   "metadata": {},
   "source": [
    "Quando criamos tensores randômicos"
   ]
  },
  {
   "cell_type": "code",
   "execution_count": 20,
   "metadata": {},
   "outputs": [],
   "source": [
    "input1 = torch.randn([1,4,4,2]) # dimensões do tensor"
   ]
  },
  {
   "cell_type": "code",
   "execution_count": 21,
   "metadata": {},
   "outputs": [],
   "source": [
    "input2 = torch.randn(1,4,4,2) # dimensões do tensor"
   ]
  },
  {
   "cell_type": "code",
   "execution_count": 22,
   "metadata": {},
   "outputs": [
    {
     "data": {
      "text/plain": [
       "torch.Size([1, 4, 4, 2])"
      ]
     },
     "execution_count": 22,
     "metadata": {},
     "output_type": "execute_result"
    }
   ],
   "source": [
    "input1.shape"
   ]
  },
  {
   "cell_type": "code",
   "execution_count": 23,
   "metadata": {},
   "outputs": [
    {
     "data": {
      "text/plain": [
       "torch.Size([1, 4, 4, 2])"
      ]
     },
     "execution_count": 23,
     "metadata": {},
     "output_type": "execute_result"
    }
   ],
   "source": [
    "input2.shape"
   ]
  },
  {
   "cell_type": "code",
   "execution_count": 24,
   "metadata": {},
   "outputs": [
    {
     "data": {
      "text/plain": [
       "tensor([[[[ 1.2203,  0.5879],\n",
       "          [ 0.5096,  0.9521],\n",
       "          [ 0.7110,  0.1273],\n",
       "          [ 0.5357, -0.1864]],\n",
       "\n",
       "         [[ 1.0555, -1.0520],\n",
       "          [-0.5798,  0.5294],\n",
       "          [ 0.7682, -1.1244],\n",
       "          [-0.4007, -1.3752]],\n",
       "\n",
       "         [[ 0.1771,  0.1002],\n",
       "          [-0.7342, -0.6756],\n",
       "          [ 0.9680, -0.4251],\n",
       "          [ 0.1707,  0.7173]],\n",
       "\n",
       "         [[-1.1676,  0.8598],\n",
       "          [-0.7218, -0.1816],\n",
       "          [-0.4682, -0.2801],\n",
       "          [ 0.1759, -0.2912]]]])"
      ]
     },
     "execution_count": 24,
     "metadata": {},
     "output_type": "execute_result"
    }
   ],
   "source": [
    "input1"
   ]
  },
  {
   "cell_type": "code",
   "execution_count": 25,
   "metadata": {},
   "outputs": [
    {
     "data": {
      "text/plain": [
       "tensor([[[[ 1.2916,  0.8772],\n",
       "          [ 0.1565,  0.7790],\n",
       "          [ 0.3530, -0.3958],\n",
       "          [ 1.5127,  0.0281]],\n",
       "\n",
       "         [[-0.5889, -0.4491],\n",
       "          [ 1.6400, -0.3576],\n",
       "          [ 0.7487,  1.0776],\n",
       "          [ 1.2426,  0.8363]],\n",
       "\n",
       "         [[ 0.9001,  1.9691],\n",
       "          [ 1.0171, -0.7569],\n",
       "          [-0.7837, -1.9109],\n",
       "          [-0.6520, -0.1323]],\n",
       "\n",
       "         [[-0.9059,  0.7521],\n",
       "          [-0.3560,  0.7828],\n",
       "          [ 0.3046, -1.1433],\n",
       "          [ 0.7606,  1.4190]]]])"
      ]
     },
     "execution_count": 25,
     "metadata": {},
     "output_type": "execute_result"
    }
   ],
   "source": [
    "input2"
   ]
  },
  {
   "cell_type": "code",
   "execution_count": 26,
   "metadata": {},
   "outputs": [
    {
     "data": {
      "text/plain": [
       "4"
      ]
     },
     "execution_count": 26,
     "metadata": {},
     "output_type": "execute_result"
    }
   ],
   "source": [
    "len(input1.shape) # RANK 4"
   ]
  },
  {
   "cell_type": "markdown",
   "metadata": {},
   "source": [
    "Considere tensores como o número de listas que uma dimensão contém. Por exemplo, um tensor (1, 4, 4, 2) terá:\n",
    "\n",
    "1 lista contendo 4 elementos de 4 elementos de 2 elementos.\n",
    "\n",
    "- A primeira dimensão pode conter 1 elemento.\n",
    "- A segunda dimensão pode conter 4 elementos.\n",
    "- A terceira dimensão pode conter 4 elementos.\n",
    "- A quarta dimensão pode conter 2 elementos."
   ]
  },
  {
   "cell_type": "markdown",
   "metadata": {},
   "source": [
    "###  <font color = \"green\">Array Numpy x Tensor PyTorch"
   ]
  },
  {
   "cell_type": "code",
   "execution_count": 27,
   "metadata": {},
   "outputs": [],
   "source": [
    "# Criando array Numpy\n",
    "a = np.array(1)\n",
    "\n",
    "# Criando um tensor PyTorch\n",
    "b = torch.tensor(1)"
   ]
  },
  {
   "cell_type": "code",
   "execution_count": 28,
   "metadata": {},
   "outputs": [
    {
     "data": {
      "text/plain": [
       "numpy.ndarray"
      ]
     },
     "execution_count": 28,
     "metadata": {},
     "output_type": "execute_result"
    }
   ],
   "source": [
    "type(a)"
   ]
  },
  {
   "cell_type": "code",
   "execution_count": 29,
   "metadata": {},
   "outputs": [
    {
     "data": {
      "text/plain": [
       "torch.Tensor"
      ]
     },
     "execution_count": 29,
     "metadata": {},
     "output_type": "execute_result"
    }
   ],
   "source": [
    "type(b)"
   ]
  },
  {
   "cell_type": "code",
   "execution_count": 30,
   "metadata": {},
   "outputs": [
    {
     "name": "stdout",
     "output_type": "stream",
     "text": [
      "1\n",
      "tensor(1)\n"
     ]
    }
   ],
   "source": [
    "print(a)\n",
    "print(b)"
   ]
  },
  {
   "cell_type": "markdown",
   "metadata": {},
   "source": [
    "###  <font color = \"green\">Operações com Tensores"
   ]
  },
  {
   "cell_type": "code",
   "execution_count": 31,
   "metadata": {},
   "outputs": [
    {
     "name": "stdout",
     "output_type": "stream",
     "text": [
      "tensor(12) tensor(4)\n"
     ]
    }
   ],
   "source": [
    "# Criando 2 tensores\n",
    "t1 = torch.tensor(12)\n",
    "t2 = torch.tensor(4)\n",
    "\n",
    "print(t1,t2)"
   ]
  },
  {
   "cell_type": "code",
   "execution_count": 32,
   "metadata": {},
   "outputs": [
    {
     "name": "stdout",
     "output_type": "stream",
     "text": [
      "tensor(16)\n",
      "tensor(8)\n",
      "tensor(48)\n",
      "tensor(3.)\n"
     ]
    }
   ],
   "source": [
    "# Operações\n",
    "print(t1 + t2)\n",
    "print(t1 - t2)\n",
    "print(t1 * t2)\n",
    "print(t1 / t2)"
   ]
  },
  {
   "cell_type": "markdown",
   "metadata": {},
   "source": [
    "###  <font color = \"green\">Operações com Matrizes"
   ]
  },
  {
   "cell_type": "code",
   "execution_count": 33,
   "metadata": {},
   "outputs": [
    {
     "data": {
      "text/plain": [
       "tensor([[ 0.7124, -0.0788,  0.5999],\n",
       "        [-0.4323, -1.6272, -1.5149],\n",
       "        [ 1.2206, -0.2145, -0.7042]])"
      ]
     },
     "execution_count": 33,
     "metadata": {},
     "output_type": "execute_result"
    }
   ],
   "source": [
    "# Matriz (tensor rank 2) de números randomicos\n",
    "\n",
    "t_rank2 = torch.randn(3,3)\n",
    "t_rank2"
   ]
  },
  {
   "cell_type": "code",
   "execution_count": 34,
   "metadata": {},
   "outputs": [
    {
     "data": {
      "text/plain": [
       "tensor([[[ 1.5223,  0.8161,  0.7900],\n",
       "         [ 0.3050,  0.5300, -1.0120],\n",
       "         [ 0.4399,  0.4866,  0.5294]],\n",
       "\n",
       "        [[-0.3552, -0.0850,  0.1343],\n",
       "         [ 1.4736,  0.3980,  0.8333],\n",
       "         [ 0.7913,  1.3257, -1.1465]],\n",
       "\n",
       "        [[-0.3199, -1.8298, -0.8159],\n",
       "         [ 1.0909, -0.0784, -1.0942],\n",
       "         [ 0.9880, -0.2991, -1.4457]]])"
      ]
     },
     "execution_count": 34,
     "metadata": {},
     "output_type": "execute_result"
    }
   ],
   "source": [
    "# Tensor (tensor rank 3) de números randomicos\n",
    "\n",
    "t_rank3 = torch.randn(3,3,3)\n",
    "t_rank3"
   ]
  },
  {
   "cell_type": "code",
   "execution_count": 35,
   "metadata": {},
   "outputs": [
    {
     "data": {
      "text/plain": [
       "tensor([[[[ 0.7711, -1.3898, -0.2500],\n",
       "          [-0.8478, -1.2022, -0.0053],\n",
       "          [ 0.0486,  0.2441, -1.4416]],\n",
       "\n",
       "         [[ 1.1281,  0.2417, -0.0394],\n",
       "          [-1.2206,  0.9756,  1.4264],\n",
       "          [-0.4642, -0.7695,  1.5576]],\n",
       "\n",
       "         [[-0.4175, -0.7117,  0.2053],\n",
       "          [ 0.2113, -0.0438,  0.2232],\n",
       "          [ 0.3566,  0.1974,  1.0227]]],\n",
       "\n",
       "\n",
       "        [[[-0.5355,  0.6644, -1.4372],\n",
       "          [ 2.5216, -0.2925, -0.4249],\n",
       "          [-0.5397, -1.7578,  0.8084]],\n",
       "\n",
       "         [[ 0.0208, -0.5669,  0.3912],\n",
       "          [ 0.2375,  0.8687,  0.7309],\n",
       "          [-1.2892, -0.1461, -0.7296]],\n",
       "\n",
       "         [[ 0.8267,  0.0766,  0.0308],\n",
       "          [ 0.6296,  0.1954,  0.2968],\n",
       "          [ 0.4078, -1.3901,  1.1360]]],\n",
       "\n",
       "\n",
       "        [[[-0.2452,  0.2646, -1.1904],\n",
       "          [ 1.0139,  1.3802, -1.2012],\n",
       "          [ 0.1038, -1.8596, -0.4290]],\n",
       "\n",
       "         [[-0.1290,  1.0075,  1.4208],\n",
       "          [-0.6223,  0.2648, -1.4618],\n",
       "          [-0.0382, -0.1587, -0.7667]],\n",
       "\n",
       "         [[ 0.3754,  0.5690,  0.8524],\n",
       "          [-0.4754,  1.2502, -0.2116],\n",
       "          [ 1.2054,  1.0204, -1.1392]]]])"
      ]
     },
     "execution_count": 35,
     "metadata": {},
     "output_type": "execute_result"
    }
   ],
   "source": [
    "# Tensor (tensor rank 4) de números randomicos\n",
    "\n",
    "t_rank4 = torch.randn(3,3,3,3)\n",
    "t_rank4"
   ]
  },
  {
   "cell_type": "code",
   "execution_count": 36,
   "metadata": {},
   "outputs": [],
   "source": [
    "# Mutiplicação entre 2 tensores\n",
    "A = torch.tensor([[1,2,3], [4,5,6], [7,8,9]])\n",
    "B = torch.tensor([[9,8,7], [6,5,4], [3,2,1]])"
   ]
  },
  {
   "cell_type": "code",
   "execution_count": 37,
   "metadata": {},
   "outputs": [
    {
     "data": {
      "text/plain": [
       "torch.Size([3, 3])"
      ]
     },
     "execution_count": 37,
     "metadata": {},
     "output_type": "execute_result"
    }
   ],
   "source": [
    "A.shape"
   ]
  },
  {
   "cell_type": "code",
   "execution_count": 38,
   "metadata": {},
   "outputs": [
    {
     "data": {
      "text/plain": [
       "torch.Size([3, 3])"
      ]
     },
     "execution_count": 38,
     "metadata": {},
     "output_type": "execute_result"
    }
   ],
   "source": [
    "B.shape"
   ]
  },
  {
   "cell_type": "code",
   "execution_count": 39,
   "metadata": {},
   "outputs": [
    {
     "data": {
      "text/plain": [
       "3"
      ]
     },
     "execution_count": 39,
     "metadata": {},
     "output_type": "execute_result"
    }
   ],
   "source": [
    "len(A)"
   ]
  },
  {
   "cell_type": "code",
   "execution_count": 40,
   "metadata": {},
   "outputs": [
    {
     "data": {
      "text/plain": [
       "3"
      ]
     },
     "execution_count": 40,
     "metadata": {},
     "output_type": "execute_result"
    }
   ],
   "source": [
    "len(B)"
   ]
  },
  {
   "cell_type": "code",
   "execution_count": 41,
   "metadata": {},
   "outputs": [],
   "source": [
    "resultado1 = A * B"
   ]
  },
  {
   "cell_type": "code",
   "execution_count": 42,
   "metadata": {},
   "outputs": [
    {
     "data": {
      "text/plain": [
       "tensor([[ 9, 16, 21],\n",
       "        [24, 25, 24],\n",
       "        [21, 16,  9]])"
      ]
     },
     "execution_count": 42,
     "metadata": {},
     "output_type": "execute_result"
    }
   ],
   "source": [
    "resultado1"
   ]
  },
  {
   "cell_type": "code",
   "execution_count": 43,
   "metadata": {},
   "outputs": [],
   "source": [
    "resultado2 = torch.matmul(A,B)"
   ]
  },
  {
   "cell_type": "code",
   "execution_count": 44,
   "metadata": {},
   "outputs": [
    {
     "data": {
      "text/plain": [
       "tensor([[ 30,  24,  18],\n",
       "        [ 84,  69,  54],\n",
       "        [138, 114,  90]])"
      ]
     },
     "execution_count": 44,
     "metadata": {},
     "output_type": "execute_result"
    }
   ],
   "source": [
    "resultado2"
   ]
  },
  {
   "cell_type": "code",
   "execution_count": 45,
   "metadata": {},
   "outputs": [],
   "source": [
    "resultado3 = torch.sum(A * B)"
   ]
  },
  {
   "cell_type": "code",
   "execution_count": 46,
   "metadata": {},
   "outputs": [
    {
     "data": {
      "text/plain": [
       "tensor(165)"
      ]
     },
     "execution_count": 46,
     "metadata": {},
     "output_type": "execute_result"
    }
   ],
   "source": [
    "resultado3"
   ]
  },
  {
   "cell_type": "markdown",
   "metadata": {},
   "source": [
    "Para Multiplicação de matrizes, fazemos assim em PyTorch:"
   ]
  },
  {
   "cell_type": "code",
   "execution_count": 51,
   "metadata": {},
   "outputs": [],
   "source": [
    "AB1 = A.mm(B)\n",
    "# Ou\n",
    "AB2 = torch.mm(A, B)\n",
    "# OU\n",
    "AB3 = torch.matmul(A, B) \n",
    "# OU\n",
    "AB4 = A @ B"
   ]
  },
  {
   "cell_type": "code",
   "execution_count": 52,
   "metadata": {},
   "outputs": [
    {
     "name": "stdout",
     "output_type": "stream",
     "text": [
      "tensor([[ 30,  24,  18],\n",
      "        [ 84,  69,  54],\n",
      "        [138, 114,  90]]) tensor([[ 30,  24,  18],\n",
      "        [ 84,  69,  54],\n",
      "        [138, 114,  90]]) tensor([[ 30,  24,  18],\n",
      "        [ 84,  69,  54],\n",
      "        [138, 114,  90]]) tensor([[ 30,  24,  18],\n",
      "        [ 84,  69,  54],\n",
      "        [138, 114,  90]])\n"
     ]
    }
   ],
   "source": [
    "print(AB1, AB2, AB3, AB4)"
   ]
  },
  {
   "cell_type": "code",
   "execution_count": 53,
   "metadata": {},
   "outputs": [
    {
     "data": {
      "text/plain": [
       "tensor([[ 9, 16, 21],\n",
       "        [24, 25, 24],\n",
       "        [21, 16,  9]])"
      ]
     },
     "execution_count": 53,
     "metadata": {},
     "output_type": "execute_result"
    }
   ],
   "source": [
    "## Essa notação abaixo realiza a multiplicação element-wise:\n",
    "A * B"
   ]
  },
  {
   "cell_type": "code",
   "execution_count": 54,
   "metadata": {},
   "outputs": [],
   "source": [
    "# Usando seed para iniciar 2 tensores com valores randomicos\n",
    "torch.manual_seed(42)\n",
    "a = torch.randn(3,3)\n",
    "b = torch.randn(3,3)"
   ]
  },
  {
   "cell_type": "code",
   "execution_count": 55,
   "metadata": {},
   "outputs": [
    {
     "data": {
      "text/plain": [
       "tensor([[ 0.6040,  0.6637,  1.0438],\n",
       "        [ 1.3406, -2.8127, -1.1753],\n",
       "        [ 3.1662,  0.6841,  1.2788]])"
      ]
     },
     "execution_count": 55,
     "metadata": {},
     "output_type": "execute_result"
    }
   ],
   "source": [
    "# Adição de Matrizes\n",
    "torch.add(a,b)"
   ]
  },
  {
   "cell_type": "code",
   "execution_count": 56,
   "metadata": {},
   "outputs": [
    {
     "data": {
      "text/plain": [
       "tensor([[ 0.0693, -0.4061, -0.5749],\n",
       "        [-0.8800,  0.5669,  0.8026],\n",
       "        [ 1.2502, -1.9601, -0.3555]])"
      ]
     },
     "execution_count": 56,
     "metadata": {},
     "output_type": "execute_result"
    }
   ],
   "source": [
    "# Subtração de Matrizes\n",
    "torch.sub(a,b)"
   ]
  },
  {
   "cell_type": "code",
   "execution_count": 57,
   "metadata": {},
   "outputs": [
    {
     "data": {
      "text/plain": [
       "tensor([[ 0.4576,  0.2724,  0.3367],\n",
       "        [-1.3636,  1.7743,  1.1446],\n",
       "        [ 0.3243,  2.8696,  2.7954]])"
      ]
     },
     "execution_count": 57,
     "metadata": {},
     "output_type": "execute_result"
    }
   ],
   "source": [
    "# Multiplicação \n",
    "torch.mm(a,b)"
   ]
  },
  {
   "cell_type": "code",
   "execution_count": 58,
   "metadata": {},
   "outputs": [
    {
     "data": {
      "text/plain": [
       "tensor([[ 1.2594,  0.2408,  0.2897],\n",
       "        [ 0.2075,  0.6645,  0.1884],\n",
       "        [ 2.3051, -0.4826,  0.5649]])"
      ]
     },
     "execution_count": 58,
     "metadata": {},
     "output_type": "execute_result"
    }
   ],
   "source": [
    "# Divisão Matrizes\n",
    "torch.div(a, b)"
   ]
  },
  {
   "cell_type": "code",
   "execution_count": 59,
   "metadata": {},
   "outputs": [
    {
     "name": "stdout",
     "output_type": "stream",
     "text": [
      "tensor([[ 0.3367,  0.1288,  0.2345],\n",
      "        [ 0.2303, -1.1229, -0.1863],\n",
      "        [ 2.2082, -0.6380,  0.4617]]) \n",
      "\n",
      "tensor([[ 0.3367,  0.2303,  2.2082],\n",
      "        [ 0.1288, -1.1229, -0.6380],\n",
      "        [ 0.2345, -0.1863,  0.4617]])\n"
     ]
    }
   ],
   "source": [
    "# Matriz original\n",
    "print(a, \"\\n\")\n",
    "\n",
    "# Matriz transposta\n",
    "print(torch.t(a))"
   ]
  },
  {
   "cell_type": "code",
   "execution_count": null,
   "metadata": {},
   "outputs": [],
   "source": []
  }
 ],
 "metadata": {
  "kernelspec": {
   "display_name": "base",
   "language": "python",
   "name": "python3"
  },
  "language_info": {
   "codemirror_mode": {
    "name": "ipython",
    "version": 3
   },
   "file_extension": ".py",
   "mimetype": "text/x-python",
   "name": "python",
   "nbconvert_exporter": "python",
   "pygments_lexer": "ipython3",
   "version": "3.9.13"
  }
 },
 "nbformat": 4,
 "nbformat_minor": 2
}
