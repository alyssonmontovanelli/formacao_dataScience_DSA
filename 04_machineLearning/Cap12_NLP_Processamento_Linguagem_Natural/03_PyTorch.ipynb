{
 "cells": [
  {
   "cell_type": "markdown",
   "metadata": {},
   "source": []
  },
  {
   "cell_type": "markdown",
   "metadata": {},
   "source": [
    "## Introdução ao Framework PyTorch"
   ]
  },
  {
   "cell_type": "markdown",
   "metadata": {},
   "source": [
    "A computação em modelos de Deep Learning é feita com tensores, que são generalizações de uma matriz que pode ser indexada em mais de duas dimensões. O PyTorch é um framework que aplica operações matemáticas a tensores para então treinar modelos de Deep Learning."
   ]
  },
  {
   "cell_type": "markdown",
   "metadata": {},
   "source": [
    "**TorchScript**\n",
    "\n",
    "O PyTorch TorchScript ajuda a criar modelos serializáveis e otimizáveis. Depois que treinamos esses modelos, eles também podem ser executados independentemente. Isso ajuda quando estamos no estágio de implantação do modelo de um projeto de Data Science.\n",
    "\n",
    "Você pode treinar um modelo no PyTorch usando Python e depois exportá-lo via TorchScript para um ambiente de produção em que Python não esteja disponível. \n",
    "\n",
    "**Treinamento Distribuído**\n",
    "\n",
    "O PyTorch também oferece suporte a treinamento distribuído que permite que pesquisadores e profissionais paralelizem seus cálculos. O treinamento distribuído possibilita o uso de várias GPUs para processar lotes maiores de dados de entrada. Isso, por sua vez, reduz o tempo de computação.\n",
    "\n",
    "**Suporte para Python**\n",
    "\n",
    "O PyTorch tem uma interação muito boa com o Python. De fato, a codificação no PyTorch é bastante semelhante ao que fazemos em Python. Portanto, se você se sentir confortável com o Python, vai adorar trabalhar com o PyTorch."
   ]
  },
  {
   "cell_type": "code",
   "execution_count": 2,
   "metadata": {},
   "outputs": [],
   "source": [
    "# Instalando o PyTorch\n",
    "\n",
    "!pip install -q -U torch torchvision"
   ]
  },
  {
   "cell_type": "code",
   "execution_count": 3,
   "metadata": {},
   "outputs": [],
   "source": [
    "# Imports \n",
    "import numpy as np\n",
    "import torch\n",
    "import torchvision"
   ]
  },
  {
   "cell_type": "markdown",
   "metadata": {},
   "source": [
    "# <font color = \"red\"> Criando e Manipulando Tensores"
   ]
  },
  {
   "cell_type": "markdown",
   "metadata": {},
   "source": [
    "A razão pela qual usamos o Numpy em Machine Learning é que é muito mais rápido do que as listas Python na execução de operações de matriz. \n",
    "\n",
    "Por quê? Internamente, NumPy faz a maior parte do trabalho pesado em Linguagem C, que é muito mais veloz que Python. \n",
    "\n",
    "Mas, no caso de treinar redes neurais profundas (<a href=\"http://www.deeplearningbook.com.br/\">Deep Learning</a>), os arrays NumPy levariam meses para treinar algumas das redes de ponta. É aqui que os tensores entram em cena. O PyTorch nos fornece uma estrutura de dados chamada Tensor, que é muito semelhante à matriz ND do NumPy. Mas, diferentemente do último, os tensores podem aproveitar os recursos de uma GPU para acelerar significativamente as operações com matrizes."
   ]
  },
  {
   "cell_type": "code",
   "execution_count": 4,
   "metadata": {},
   "outputs": [],
   "source": [
    "# Criando um tensor\n",
    "\n",
    "x = torch.tensor([1., 2.])"
   ]
  },
  {
   "cell_type": "code",
   "execution_count": 5,
   "metadata": {},
   "outputs": [
    {
     "data": {
      "text/plain": [
       "torch.Tensor"
      ]
     },
     "execution_count": 5,
     "metadata": {},
     "output_type": "execute_result"
    }
   ],
   "source": [
    "type(x)"
   ]
  },
  {
   "cell_type": "code",
   "execution_count": 6,
   "metadata": {},
   "outputs": [
    {
     "name": "stdout",
     "output_type": "stream",
     "text": [
      "tensor([1., 2.])\n"
     ]
    }
   ],
   "source": [
    "print(x)"
   ]
  },
  {
   "cell_type": "code",
   "execution_count": 7,
   "metadata": {},
   "outputs": [],
   "source": [
    "# Criando um tensor\n",
    "t = torch.tensor([[1,1,1,1],\n",
    "                  [2,2,2,2],\n",
    "                  [3,3,3,3]], dtype = torch.float32)"
   ]
  },
  {
   "cell_type": "code",
   "execution_count": 8,
   "metadata": {},
   "outputs": [
    {
     "data": {
      "text/plain": [
       "tensor([[1., 1., 1., 1.],\n",
       "        [2., 2., 2., 2.],\n",
       "        [3., 3., 3., 3.]])"
      ]
     },
     "execution_count": 8,
     "metadata": {},
     "output_type": "execute_result"
    }
   ],
   "source": [
    "t"
   ]
  },
  {
   "cell_type": "code",
   "execution_count": 9,
   "metadata": {},
   "outputs": [
    {
     "data": {
      "text/plain": [
       "torch.Size([3, 4])"
      ]
     },
     "execution_count": 9,
     "metadata": {},
     "output_type": "execute_result"
    }
   ],
   "source": [
    "t.shape"
   ]
  },
  {
   "cell_type": "markdown",
   "metadata": {},
   "source": [
    "Para determinar a forma desse tensor, examinamos primeiro as linhas (3) e depois as colunas (4). Portanto, esse tensor é 3 x 4 de classificação (rank) 2. \n",
    "\n",
    "Rank é uma palavra comumente usada e significa apenas o número de dimensões presentes no tensor.\n",
    "\n",
    "No PyTorch, temos duas maneiras de obter a forma (shape):"
   ]
  },
  {
   "cell_type": "code",
   "execution_count": 13,
   "metadata": {},
   "outputs": [
    {
     "data": {
      "text/plain": [
       "torch.Size([3, 4])"
      ]
     },
     "execution_count": 13,
     "metadata": {},
     "output_type": "execute_result"
    }
   ],
   "source": [
    "t.size()"
   ]
  },
  {
   "cell_type": "code",
   "execution_count": 11,
   "metadata": {},
   "outputs": [
    {
     "data": {
      "text/plain": [
       "torch.Size([2])"
      ]
     },
     "execution_count": 11,
     "metadata": {},
     "output_type": "execute_result"
    }
   ],
   "source": [
    "x.shape"
   ]
  },
  {
   "cell_type": "markdown",
   "metadata": {},
   "source": [
    "No PyTorch, o tamanho e a forma de um tensor significam a mesma coisa.\n",
    "\n",
    "Normalmente, depois de conhecermos a forma de um tensor, podemos deduzir algumas coisas. Primeiro, podemos deduzir o rank do tensor. O rank de um tensor é igual ao comprimento da forma do tensor."
   ]
  },
  {
   "cell_type": "code",
   "execution_count": 17,
   "metadata": {},
   "outputs": [
    {
     "data": {
      "text/plain": [
       "2"
      ]
     },
     "execution_count": 17,
     "metadata": {},
     "output_type": "execute_result"
    }
   ],
   "source": [
    "len(t.shape)"
   ]
  },
  {
   "cell_type": "markdown",
   "metadata": {},
   "source": [
    "Também podemos deduzir o número de elementos contidos no tensor. O número de elementos dentro de um tensor (12 no nosso caso do tensor t e 2 no tensor x) é igual ao produto dos valores dos componentes da forma."
   ]
  },
  {
   "cell_type": "code",
   "execution_count": 18,
   "metadata": {},
   "outputs": [
    {
     "data": {
      "text/plain": [
       "tensor(12)"
      ]
     },
     "execution_count": 18,
     "metadata": {},
     "output_type": "execute_result"
    }
   ],
   "source": [
    "torch.tensor(t.shape).prod()"
   ]
  },
  {
   "cell_type": "code",
   "execution_count": 19,
   "metadata": {},
   "outputs": [
    {
     "data": {
      "text/plain": [
       "tensor(2)"
      ]
     },
     "execution_count": 19,
     "metadata": {},
     "output_type": "execute_result"
    }
   ],
   "source": [
    "torch.tensor(x.shape).prod()"
   ]
  },
  {
   "cell_type": "code",
   "execution_count": 20,
   "metadata": {},
   "outputs": [],
   "source": [
    "# Retornando um elemento de um tensor\n",
    "\n",
    "z = torch.tensor([[1.,2.],\n",
    "                  [5.,3.],\n",
    "                  [0.,4.]])"
   ]
  },
  {
   "cell_type": "code",
   "execution_count": 21,
   "metadata": {},
   "outputs": [
    {
     "data": {
      "text/plain": [
       "tensor([[1., 2.],\n",
       "        [5., 3.],\n",
       "        [0., 4.]])"
      ]
     },
     "execution_count": 21,
     "metadata": {},
     "output_type": "execute_result"
    }
   ],
   "source": [
    "z"
   ]
  },
  {
   "cell_type": "code",
   "execution_count": 22,
   "metadata": {},
   "outputs": [
    {
     "data": {
      "text/plain": [
       "torch.Size([3, 2])"
      ]
     },
     "execution_count": 22,
     "metadata": {},
     "output_type": "execute_result"
    }
   ],
   "source": [
    "# Shape\n",
    "z.shape"
   ]
  },
  {
   "cell_type": "code",
   "execution_count": 23,
   "metadata": {},
   "outputs": [
    {
     "data": {
      "text/plain": [
       "tensor(1.)"
      ]
     },
     "execution_count": 23,
     "metadata": {},
     "output_type": "execute_result"
    }
   ],
   "source": [
    "z[0][0]"
   ]
  },
  {
   "cell_type": "code",
   "execution_count": 24,
   "metadata": {},
   "outputs": [
    {
     "data": {
      "text/plain": [
       "1.0"
      ]
     },
     "execution_count": 24,
     "metadata": {},
     "output_type": "execute_result"
    }
   ],
   "source": [
    "z[0][0].item()"
   ]
  },
  {
   "cell_type": "markdown",
   "metadata": {},
   "source": [
    "Quando criamos tensores randômicos"
   ]
  },
  {
   "cell_type": "code",
   "execution_count": 41,
   "metadata": {},
   "outputs": [],
   "source": [
    "input1 = torch.randn([1,4,4,2]) # dimensões do tensor"
   ]
  },
  {
   "cell_type": "code",
   "execution_count": 42,
   "metadata": {},
   "outputs": [],
   "source": [
    "input2 = torch.randn(1,4,4,2) # dimensões do tensor"
   ]
  },
  {
   "cell_type": "code",
   "execution_count": 43,
   "metadata": {},
   "outputs": [
    {
     "data": {
      "text/plain": [
       "torch.Size([1, 4, 4, 2])"
      ]
     },
     "execution_count": 43,
     "metadata": {},
     "output_type": "execute_result"
    }
   ],
   "source": [
    "input1.shape"
   ]
  },
  {
   "cell_type": "code",
   "execution_count": 44,
   "metadata": {},
   "outputs": [
    {
     "data": {
      "text/plain": [
       "torch.Size([1, 4, 4, 2])"
      ]
     },
     "execution_count": 44,
     "metadata": {},
     "output_type": "execute_result"
    }
   ],
   "source": [
    "input2.shape"
   ]
  },
  {
   "cell_type": "code",
   "execution_count": 45,
   "metadata": {},
   "outputs": [
    {
     "data": {
      "text/plain": [
       "tensor([[[[ 0.1643,  0.1486],\n",
       "          [ 0.8985, -0.6294],\n",
       "          [-0.0918,  0.4505],\n",
       "          [-0.9676, -0.4790]],\n",
       "\n",
       "         [[ 0.7347,  1.5642],\n",
       "          [-0.8199, -0.7453],\n",
       "          [ 0.0284, -0.4516],\n",
       "          [-0.7107, -0.2014]],\n",
       "\n",
       "         [[-0.5033, -0.3423],\n",
       "          [ 0.2814,  2.2864],\n",
       "          [ 0.0108, -0.4845],\n",
       "          [-0.2157,  1.6830]],\n",
       "\n",
       "         [[-0.4998, -0.6228],\n",
       "          [-1.0163, -1.3636],\n",
       "          [ 0.8310,  3.1312],\n",
       "          [-0.8119, -0.3565]]]])"
      ]
     },
     "execution_count": 45,
     "metadata": {},
     "output_type": "execute_result"
    }
   ],
   "source": [
    "input1"
   ]
  },
  {
   "cell_type": "code",
   "execution_count": 36,
   "metadata": {},
   "outputs": [
    {
     "data": {
      "text/plain": [
       "tensor([[[[ 0.5870,  0.0788],\n",
       "          [-1.6567, -0.2717],\n",
       "          [-1.2855, -1.4114],\n",
       "          [-1.1243,  0.0335]],\n",
       "\n",
       "         [[ 1.1991, -0.1319],\n",
       "          [-0.8631, -1.3661],\n",
       "          [-0.5823,  0.5173],\n",
       "          [ 1.0526, -0.7876]],\n",
       "\n",
       "         [[-1.5064,  1.1880],\n",
       "          [ 0.6268,  0.4618],\n",
       "          [-0.8898,  0.7651],\n",
       "          [-0.9481,  1.2074]],\n",
       "\n",
       "         [[ 0.6822, -1.2363],\n",
       "          [-0.3276, -0.2010],\n",
       "          [-1.8800, -1.5855],\n",
       "          [-0.8695, -0.5985]]]])"
      ]
     },
     "execution_count": 36,
     "metadata": {},
     "output_type": "execute_result"
    }
   ],
   "source": [
    "input2"
   ]
  },
  {
   "cell_type": "code",
   "execution_count": 38,
   "metadata": {},
   "outputs": [
    {
     "data": {
      "text/plain": [
       "4"
      ]
     },
     "execution_count": 38,
     "metadata": {},
     "output_type": "execute_result"
    }
   ],
   "source": [
    "len(input1.shape) # RANK 4"
   ]
  },
  {
   "cell_type": "markdown",
   "metadata": {},
   "source": [
    "Considere tensores como o número de listas que uma dimensão contém. Por exemplo, um tensor (1, 4, 4, 2) terá:\n",
    "\n",
    "1 lista contendo 4 elementos de 4 elementos de 2 elementos.\n",
    "\n",
    "- A primeira dimensão pode conter 1 elemento.\n",
    "- A segunda dimensão pode conter 4 elementos.\n",
    "- A terceira dimensão pode conter 4 elementos.\n",
    "- A quarta dimensão pode conter 2 elementos."
   ]
  },
  {
   "cell_type": "markdown",
   "metadata": {},
   "source": [
    "###  <font color = \"green\">Array Numpy x Tensor PyTorch"
   ]
  },
  {
   "cell_type": "code",
   "execution_count": 46,
   "metadata": {},
   "outputs": [],
   "source": [
    "# Criando array Numpy\n",
    "a = np.array(1)\n",
    "\n",
    "# Criando um tensor PyTorch\n",
    "b = torch.tensor(1)"
   ]
  },
  {
   "cell_type": "code",
   "execution_count": 47,
   "metadata": {},
   "outputs": [
    {
     "data": {
      "text/plain": [
       "numpy.ndarray"
      ]
     },
     "execution_count": 47,
     "metadata": {},
     "output_type": "execute_result"
    }
   ],
   "source": [
    "type(a)"
   ]
  },
  {
   "cell_type": "code",
   "execution_count": 48,
   "metadata": {},
   "outputs": [
    {
     "data": {
      "text/plain": [
       "torch.Tensor"
      ]
     },
     "execution_count": 48,
     "metadata": {},
     "output_type": "execute_result"
    }
   ],
   "source": [
    "type(b)"
   ]
  },
  {
   "cell_type": "code",
   "execution_count": 49,
   "metadata": {},
   "outputs": [
    {
     "name": "stdout",
     "output_type": "stream",
     "text": [
      "1\n",
      "tensor(1)\n"
     ]
    }
   ],
   "source": [
    "print(a)\n",
    "print(b)"
   ]
  },
  {
   "cell_type": "markdown",
   "metadata": {},
   "source": [
    "###  <font color = \"green\">Operações com Tensores"
   ]
  },
  {
   "cell_type": "code",
   "execution_count": 50,
   "metadata": {},
   "outputs": [
    {
     "name": "stdout",
     "output_type": "stream",
     "text": [
      "tensor(12) tensor(4)\n"
     ]
    }
   ],
   "source": [
    "# Criando 2 tensores\n",
    "t1 = torch.tensor(12)\n",
    "t2 = torch.tensor(4)\n",
    "\n",
    "print(t1,t2)"
   ]
  },
  {
   "cell_type": "code",
   "execution_count": 52,
   "metadata": {},
   "outputs": [
    {
     "name": "stdout",
     "output_type": "stream",
     "text": [
      "tensor(16)\n",
      "tensor(8)\n",
      "tensor(48)\n",
      "tensor(3.)\n"
     ]
    }
   ],
   "source": [
    "# Operações\n",
    "print(t1 + t2)\n",
    "print(t1 - t2)\n",
    "print(t1 * t2)\n",
    "print(t1 / t2)"
   ]
  },
  {
   "cell_type": "markdown",
   "metadata": {},
   "source": [
    "###  <font color = \"green\">Operações com Matrizes"
   ]
  },
  {
   "cell_type": "code",
   "execution_count": 54,
   "metadata": {},
   "outputs": [
    {
     "data": {
      "text/plain": [
       "tensor([[-0.3247,  0.1889, -0.6690],\n",
       "        [ 1.0157, -0.1726,  1.0947],\n",
       "        [ 0.1652, -0.2980, -0.1682]])"
      ]
     },
     "execution_count": 54,
     "metadata": {},
     "output_type": "execute_result"
    }
   ],
   "source": [
    "# Matriz (tensor rank 2) de números randomicos\n",
    "\n",
    "t_rank2 = torch.randn(3,3)\n",
    "t_rank2"
   ]
  },
  {
   "cell_type": "code",
   "execution_count": 57,
   "metadata": {},
   "outputs": [
    {
     "data": {
      "text/plain": [
       "tensor([[[ 0.8125, -0.3230, -0.8699],\n",
       "         [ 0.5505,  0.1190, -0.5249],\n",
       "         [ 1.7949, -0.8090, -1.9392]],\n",
       "\n",
       "        [[ 2.2560,  0.1035, -0.3726],\n",
       "         [ 0.3126, -0.6173, -0.8427],\n",
       "         [ 1.5152, -0.4343,  0.0078]],\n",
       "\n",
       "        [[ 1.0150, -0.2387,  0.8862],\n",
       "         [-0.3351,  0.0314,  0.5624],\n",
       "         [-0.2471, -0.4633,  1.0696]]])"
      ]
     },
     "execution_count": 57,
     "metadata": {},
     "output_type": "execute_result"
    }
   ],
   "source": [
    "# Tensor (tensor rank 3) de números randomicos\n",
    "\n",
    "t_rank3 = torch.randn(3,3,3)\n",
    "t_rank3"
   ]
  },
  {
   "cell_type": "code",
   "execution_count": 58,
   "metadata": {},
   "outputs": [
    {
     "data": {
      "text/plain": [
       "tensor([[[[ 1.5322,  0.1275,  1.1957],\n",
       "          [-1.5322, -2.2177,  1.7363],\n",
       "          [-0.4405, -0.4699, -1.9216]],\n",
       "\n",
       "         [[ 0.2426, -1.4975,  1.2237],\n",
       "          [-0.3164,  2.1180, -0.3118],\n",
       "          [ 1.6194, -0.0109,  2.0434]],\n",
       "\n",
       "         [[ 0.4795,  0.2652, -1.3765],\n",
       "          [-1.0976, -0.9796,  1.8729],\n",
       "          [-0.3111, -0.1316,  1.6434]]],\n",
       "\n",
       "\n",
       "        [[[-0.7905, -1.1851, -2.0578],\n",
       "          [ 0.5177, -0.1524,  0.6133],\n",
       "          [-1.1481, -0.9651,  1.1097]],\n",
       "\n",
       "         [[ 1.3164, -0.1983, -1.7553],\n",
       "          [ 1.1230,  0.6357,  0.2421],\n",
       "          [ 1.2728,  0.4188,  0.0394]],\n",
       "\n",
       "         [[ 0.1967, -1.5376, -0.3514],\n",
       "          [-0.2686, -1.4002, -0.5415],\n",
       "          [ 0.8546,  0.2792, -0.2349]]],\n",
       "\n",
       "\n",
       "        [[[-0.3279, -1.1308,  0.4731],\n",
       "          [-1.6290, -0.5311, -0.9946],\n",
       "          [-1.4048, -0.0287, -0.1310]],\n",
       "\n",
       "         [[ 0.7324,  1.4018,  1.5915],\n",
       "          [-1.3931, -0.0172, -0.6674],\n",
       "          [ 0.2712,  0.7211,  0.7056]],\n",
       "\n",
       "         [[-0.2058,  0.0913,  0.5160],\n",
       "          [-0.9837, -0.0657,  0.0276],\n",
       "          [-0.3743, -1.1994, -0.9206]]]])"
      ]
     },
     "execution_count": 58,
     "metadata": {},
     "output_type": "execute_result"
    }
   ],
   "source": [
    "# Tensor (tensor rank 4) de números randomicos\n",
    "\n",
    "t_rank4 = torch.randn(3,3,3,3)\n",
    "t_rank4"
   ]
  },
  {
   "cell_type": "code",
   "execution_count": 59,
   "metadata": {},
   "outputs": [],
   "source": [
    "# Mutiplicação entre 2 tensores\n",
    "A = torch.tensor([[1,2,3], [4,5,6], [7,8,9]])\n",
    "B = torch.tensor([[9,8,7], [6,5,4], [3,2,1]])"
   ]
  },
  {
   "cell_type": "code",
   "execution_count": 61,
   "metadata": {},
   "outputs": [
    {
     "data": {
      "text/plain": [
       "torch.Size([3, 3])"
      ]
     },
     "execution_count": 61,
     "metadata": {},
     "output_type": "execute_result"
    }
   ],
   "source": [
    "A.shape"
   ]
  },
  {
   "cell_type": "code",
   "execution_count": 62,
   "metadata": {},
   "outputs": [
    {
     "data": {
      "text/plain": [
       "torch.Size([3, 3])"
      ]
     },
     "execution_count": 62,
     "metadata": {},
     "output_type": "execute_result"
    }
   ],
   "source": [
    "B.shape"
   ]
  },
  {
   "cell_type": "code",
   "execution_count": 63,
   "metadata": {},
   "outputs": [
    {
     "data": {
      "text/plain": [
       "3"
      ]
     },
     "execution_count": 63,
     "metadata": {},
     "output_type": "execute_result"
    }
   ],
   "source": [
    "len(A)"
   ]
  },
  {
   "cell_type": "code",
   "execution_count": 64,
   "metadata": {},
   "outputs": [
    {
     "data": {
      "text/plain": [
       "3"
      ]
     },
     "execution_count": 64,
     "metadata": {},
     "output_type": "execute_result"
    }
   ],
   "source": [
    "len(B)"
   ]
  },
  {
   "cell_type": "code",
   "execution_count": 67,
   "metadata": {},
   "outputs": [],
   "source": [
    "resultado1 = A * B"
   ]
  },
  {
   "cell_type": "code",
   "execution_count": 69,
   "metadata": {},
   "outputs": [
    {
     "data": {
      "text/plain": [
       "tensor([[ 9, 16, 21],\n",
       "        [24, 25, 24],\n",
       "        [21, 16,  9]])"
      ]
     },
     "execution_count": 69,
     "metadata": {},
     "output_type": "execute_result"
    }
   ],
   "source": [
    "resultado1"
   ]
  },
  {
   "cell_type": "code",
   "execution_count": 68,
   "metadata": {},
   "outputs": [],
   "source": [
    "resultado2 = torch.matmul(A,B)"
   ]
  },
  {
   "cell_type": "code",
   "execution_count": 70,
   "metadata": {},
   "outputs": [
    {
     "data": {
      "text/plain": [
       "tensor([[ 30,  24,  18],\n",
       "        [ 84,  69,  54],\n",
       "        [138, 114,  90]])"
      ]
     },
     "execution_count": 70,
     "metadata": {},
     "output_type": "execute_result"
    }
   ],
   "source": [
    "resultado2"
   ]
  },
  {
   "cell_type": "code",
   "execution_count": 72,
   "metadata": {},
   "outputs": [],
   "source": [
    "resultado3 = torch.sum(A * B)"
   ]
  },
  {
   "cell_type": "code",
   "execution_count": 73,
   "metadata": {},
   "outputs": [
    {
     "data": {
      "text/plain": [
       "tensor(165)"
      ]
     },
     "execution_count": 73,
     "metadata": {},
     "output_type": "execute_result"
    }
   ],
   "source": [
    "resultado3"
   ]
  },
  {
   "cell_type": "code",
   "execution_count": null,
   "metadata": {},
   "outputs": [],
   "source": []
  },
  {
   "cell_type": "code",
   "execution_count": null,
   "metadata": {},
   "outputs": [],
   "source": []
  },
  {
   "cell_type": "code",
   "execution_count": 66,
   "metadata": {},
   "outputs": [
    {
     "data": {
      "text/plain": [
       "tensor([[ 9, 16, 21],\n",
       "        [24, 25, 24],\n",
       "        [21, 16,  9]])"
      ]
     },
     "execution_count": 66,
     "metadata": {},
     "output_type": "execute_result"
    }
   ],
   "source": [
    "multiplica"
   ]
  },
  {
   "cell_type": "code",
   "execution_count": null,
   "metadata": {},
   "outputs": [],
   "source": []
  }
 ],
 "metadata": {
  "kernelspec": {
   "display_name": "base",
   "language": "python",
   "name": "python3"
  },
  "language_info": {
   "codemirror_mode": {
    "name": "ipython",
    "version": 3
   },
   "file_extension": ".py",
   "mimetype": "text/x-python",
   "name": "python",
   "nbconvert_exporter": "python",
   "pygments_lexer": "ipython3",
   "version": "3.9.13"
  }
 },
 "nbformat": 4,
 "nbformat_minor": 2
}
