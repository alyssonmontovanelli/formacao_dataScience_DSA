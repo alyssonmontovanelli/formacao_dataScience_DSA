{
 "cells": [
  {
   "cell_type": "markdown",
   "metadata": {},
   "source": [
    "# <font color='blue'>Data Science Academy - Machine Learning</font>\n",
    "\n",
    "# <font color='blue'>Capítulo 12 - Processamento de Linguagem Natural</font>"
   ]
  },
  {
   "cell_type": "code",
   "execution_count": 1,
   "metadata": {},
   "outputs": [
    {
     "name": "stdout",
     "output_type": "stream",
     "text": [
      "Versão da Linguagem Python Usada Neste Jupyter Notebook: 3.7.6\n"
     ]
    }
   ],
   "source": [
    "# Versão da Linguagem Python\n",
    "from platform import python_version\n",
    "print('Versão da Linguagem Python Usada Neste Jupyter Notebook:', python_version())"
   ]
  },
  {
   "cell_type": "markdown",
   "metadata": {},
   "source": [
    "Obs: Este é um material de bônus incluído neste curso. PyTorch é estudado em detalhes no curso <a href=\"https://www.datascienceacademy.com.br/course?courseid=deep-learning-frameworks\">Deep Learning Frameworks</a> e aplicado em PLN no curso <a href=\"https://www.datascienceacademy.com.br/course?courseid=processamento-de-linguagem-natural-e-reconhecimento-de-voz\">Processamento de Linguagem Natural</a>."
   ]
  },
  {
   "cell_type": "markdown",
   "metadata": {},
   "source": [
    "### Estudo de Caso - Buscador de Palavras em Texto Por Similaridade"
   ]
  },
  {
   "cell_type": "markdown",
   "metadata": {},
   "source": [
    "![title](imagens/buscador.png)"
   ]
  },
  {
   "cell_type": "markdown",
   "metadata": {},
   "source": [
    "**A definição deste estudo de caso está no manual em pdf no Capítulo 12 do Curso de <a href=\"https://www.datascienceacademy.com.br/course?courseid=machine-learning-engineer\">Machine Learning</a>**. \n",
    "\n",
    "Faça a leitura do manual antes de prosseguir com o Estudo de Caso."
   ]
  },
  {
   "cell_type": "code",
   "execution_count": 2,
   "metadata": {},
   "outputs": [],
   "source": [
    "# Para atualizar um pacote, execute o comando abaixo no terminal ou prompt de comando:\n",
    "# pip install -U nome_pacote\n",
    "\n",
    "# Para instalar a versão exata de um pacote, execute o comando abaixo no terminal ou prompt de comando:\n",
    "# !pip install torch==1.5.0\n",
    "\n",
    "# Depois de instalar ou atualizar o pacote, reinicie o jupyter notebook.\n",
    "\n",
    "# Instala o pacote watermark. \n",
    "# Esse pacote é usado para gravar as versões de outros pacotes usados neste jupyter notebook.\n",
    "!pip install -q -U watermark"
   ]
  },
  {
   "cell_type": "code",
   "execution_count": 3,
   "metadata": {},
   "outputs": [],
   "source": [
    "# Instala o PyTorch\n",
    "!pip install -q torch "
   ]
  },
  {
   "cell_type": "code",
   "execution_count": 1,
   "metadata": {},
   "outputs": [
    {
     "data": {
      "text/plain": [
       "<torch._C.Generator at 0x1c82348d7f0>"
      ]
     },
     "execution_count": 1,
     "metadata": {},
     "output_type": "execute_result"
    }
   ],
   "source": [
    "# Imports\n",
    "import torch\n",
    "import numpy as np\n",
    "import torch.nn as nn\n",
    "import torch.optim as optim\n",
    "import matplotlib\n",
    "import matplotlib.pyplot as plt\n",
    "from tqdm import tqdm\n",
    "from torch.autograd import Variable\n",
    "from nltk.tokenize import word_tokenize\n",
    "%matplotlib inline\n",
    "torch.manual_seed(1)"
   ]
  },
  {
   "cell_type": "code",
   "execution_count": 2,
   "metadata": {},
   "outputs": [
    {
     "name": "stdout",
     "output_type": "stream",
     "text": [
      "Author: Alysson Melo\n",
      "\n",
      "numpy     : 1.22.2\n",
      "torch     : 2.5.0\n",
      "matplotlib: 3.7.1\n",
      "\n"
     ]
    }
   ],
   "source": [
    "# Versões dos pacotes usados neste jupyter notebook\n",
    "%reload_ext watermark\n",
    "%watermark -a \"Alysson Melo\" --iversions"
   ]
  },
  {
   "cell_type": "markdown",
   "metadata": {},
   "source": [
    "### Carregando e Processando os Dados\n",
    "\n",
    "Para este estudo de caso, usaremos o famoso texto de Isaac Asimov: The Last Question.\n",
    "\n",
    "http://users.ece.cmu.edu/~gamvrosi/thelastq.html\n",
    "\n",
    "Traduzimos o texto e usaremos para treinar o modelo GloVe e depois buscar palavras por similaridade. Recomendados a leitura do arquivo asimov.txt (usado na célula abaixo) antes de executar o restante do Jupyter Notebook."
   ]
  },
  {
   "cell_type": "code",
   "execution_count": 10,
   "metadata": {},
   "outputs": [],
   "source": [
    "# Abre o arquivo para leitura e carrega na variável arquivo_texto\n",
    "arquivo_texto = open('C:/formacao_dataScience_DSA_DADOS/04_machineLearning/asimov.txt', 'r')"
   ]
  },
  {
   "cell_type": "code",
   "execution_count": 11,
   "metadata": {},
   "outputs": [],
   "source": [
    "# Converte as palavars para minúsculo\n",
    "texto = arquivo_texto.read().lower()"
   ]
  },
  {
   "cell_type": "code",
   "execution_count": 12,
   "metadata": {},
   "outputs": [],
   "source": [
    "# Fecha o arquivo\n",
    "arquivo_texto.close()"
   ]
  },
  {
   "cell_type": "code",
   "execution_count": 15,
   "metadata": {},
   "outputs": [
    {
     "data": {
      "text/plain": [
       "'a última pergunta foi feita pela primeira vez, meio que de brincadeira, no\\ndia 21 de maio de 2061, quando a humanidade dava seus primeiros passos\\nem direção à luz. a questão nasceu como resultado de uma aposta de cinco\\ndólares movida a álcool, e aconteceu da seguinte forma.\\nalexander adell e bertram lupov eram dois dos fiéis assistentes de\\nmultivac. eles conheciam melhor do que qualquer outro ser humano o que\\nse passava por trás das milhas e milhas da carcaça luminosa, fria e ruidosa\\ndaquele gigantesco computador. ainda assim, os dois homens tinham\\napenas uma vaga noção do plano geral de circuitos que há muito haviam\\ncrescido além do ponto em que um humano solitário poderia sequer tentar\\nentender.\\nmultivac ajustava-se e corrigia-se sozinho. e assim tinha de ser, pois\\nnenhum ser humano poderia fazê-lo com velocidade suficiente, e tampouco\\nda forma adequada. deste modo, adell e lupov operavam o gigante apenas\\nsutil e superficialmente, mas, ainda assim, tão bem quanto era\\nhumanamente possível. eles o alimentavam com novos dados, ajustavam as\\nperguntas de acordo com as necessidades do sistema e traduziam as\\nrespostas que lhes eram fornecidas. os dois, assim como seus colegas,\\ncertamente tinham todo o direito de compartilhar da glória que era\\nmultivac.\\npor décadas, multivac ajudou a projetar as naves e enredar as trajetórias\\nque permitiram ao homem chegar à lua, marte e vênus, mas para além\\ndestes planetas, os parcos recursos da terra não foram capazes de sustentar\\na exploração. fazia-se necessária uma quantidade de energia grande demais\\npara as longas viagens. a terra explorava suas reservas de carvão e urânio\\ncom eficiência crescente, mas havia um limite para a quantidade de ambos.\\nno entanto, lentamente multivac acumulou conhecimento suficiente para\\nresponder questões mais profundas com maior fundamentação, e em 14 de\\nmaio de 2061, o que não passava de teoria tornou-se real.\\na energia do sol foi capturada, convertida e utilizada diretamente em escala\\nplanetária. toda a terra paralisou suas usinas de carvão e fissões de urânio,\\ngirando a alavanca que conectou o planeta inteiro a uma pequena estação,\\nde uma milha de diâmetro, orbitando a terra à metade da distância da lua.\\no mundo passou a correr através de feixes invisíveis de energia solar. \\nsete dias não foram o suficiente para diminuir a glória do feito e adell e\\nlupov finalmente conseguiram escapar das funções públicas e encontrar-se\\nem segredo onde ninguém pensaria em procurá-los, nas câmaras desertas\\nsubterrâneas onde se encontravam as porções do esplendoroso corpo\\nenterrado de multivac. subutilizado, descansando e processando\\ninformações com estalos preguiçosos, multivac também havia recebido\\nférias, e os dois apreciavam isso. a princípio, eles não tinham a intenção de\\nincomodá-lo.\\nhaviam trazido uma garrafa consigo e a única preocupação de ambos era\\nrelaxar na companhia do outro e da bebida.\\n“é incrível quando você pára pra pensar…,” disse adell. seu rosto largo\\nguardava as linhas da idade e ele agitava o seu drink vagarosamente,\\nenquanto observava os cubos de gelo nadando desengonçados. “toda a\\nenergia que for necessária, de graça, completamente de graça! energia\\nsuficiente, se nós quiséssemos, para derreter toda a terra em uma grande\\ngota de ferro líquido, e ainda assim não sentiríamos falta da energia\\nutilizada no processo. toda a energia que nós poderíamos um dia precisar,\\npara sempre e eternamente.”\\nlupov movimentou a cabeça para os lados. ele costumava fazer isso\\nquando queria contrariar, e agora ele queria, em parte porque havia tido de\\ncarregar o gelo e os utensílios. “eternamente não,” ele disse.\\n“ah, diabos, quase eternamente. até o sol se apagar, bert.”\\n“isso não é eternamente.”\\n“está bem. bilhões e bilhões de anos. dez bilhões, talvez. está satisfeito?”\\nlupov passou os dedos por entre seus finos fios de cabelo como que para\\nse assegurar de que o problema ainda não estava acabado e tomou um gole\\ngentil da sua bebida. “dez bilhões de anos não é a eternidade”\\n“bom, vai durar pelo nosso tempo, não vai?”\\n“o carvão e o urânio também iriam.”\\n“está certo, mas agora nós podemos ligar cada nave individual na estação\\nsolar, e elas podem ir a plutão e voltar um milhão de vezes sem nunca nos\\npreocuparmos com o combustível. você não conseguiria fazer isso com\\ncarvão e urânio. se não acredita em mim, pergunte ao multivac.”\\n“não preciso perguntar a multivac. eu sei disso” \\n“então trate de parar de diminuir o que multivac fez por nós,” disse adell\\nnervosamente, “ele fez tudo certo”.\\n“e quem disse que não fez? o que estou dizendo é que o sol não vai durar\\npara sempre. isso é tudo que estou dizendo. nós estamos seguros por dez\\nbilhões de anos, mas e depois?” lupov apontou um dedo levemente\\ntrêmulo para o companheiro. “e não venha me dizer que nós iremos trocar\\nde sol”\\nhouve um breve silêncio. adell levou o copo aos lábios apenas\\nocasionalmente e os olhos de lupov se fecharam. descansaram um pouco,\\ne quando suas pálpebras se abriram, disse, “você está pensando que iremos\\nconseguir outro sol quando o nosso estiver acabado, não está?”\\n“não, não estou pensando.”\\n“é claro que está. você é fraco em lógica, esse é o seu problema. é como o\\npersonagem da história, que, quando surpreendido por uma chuva, corre\\npara um grupo de árvores e abriga-se embaixo de uma. ele não se preocupa\\nporque quando uma árvore fica molhada demais, simplesmente vai para\\nbaixo de outra.”\\n“entendi,” disse adell. “não precisa gritar. quando o sol se for, as outras\\nestrelas também terão se acabado.”\\n“pode estar certo que sim” murmurou lupov. “tudo teve início na\\nexplosão cósmica original, o que quer que tenha sido, e tudo terá um fim\\nquando as estrelas se apagarem. algumas se apagam mais rápido que as\\noutras. ora, as gigantes não duram cem milhões de anos. o sol irá brilhar\\npor dez bilhões de anos e talvez as anãs permaneçam assim por duzentos\\nbilhões. mas nos dê um trilhão de anos e só restará a escuridão. a entropia\\ndeve aumentar ao seu máximo, e é tudo.”\\n“eu sei tudo sobre a entropia,” disse adell, mantendo a sua dignidade.\\n“duvido que saiba.”\\n“eu sei tanto quanto você.”\\n“então você sabe que um dia tudo terá um fim.”\\n“está certo. e quem disse que não terá?”\\n“você disse, seu tonto. você disse que nós tínhamos toda a energia de que\\nprecisávamos, para sempre. você disse ´para sempre`.” \\nera a vez de adell contrariar. “talvez nós possamos reconstruir as coisas\\nde volta um dia,” ele disse.\\n“nunca.”\\n“por que não? algum dia.”\\n“nunca”\\n“pergunte a multivac.”\\n“você pergunta a multivac. eu te desafio. aposto cinco dólares que isso\\nnão pode ser feito.”\\nadell estava bêbado o bastante para tentar, e sóbrio o suficiente para\\nconstruir uma sentença com os símbolos e as operações necessárias em\\numa questão que, em palavras, corresponderia a esta: a humanidade poderá\\num dia sem nenhuma energia disponível ser capaz de reconstituir o sol a\\nsua juventude mesmo depois de sua morte?\\nou talvez a pergunta possa ser posta de forma mais simples da seguinte\\nmaneira: a quantidade total de entropia no universo pode ser revertida?\\nmultivac mergulhou em silêncio. as luzes brilhantes cessaram, os estalos\\ndistantes pararam.\\ne então, quando os técnicos assustados já não conseguiam mais segurar a\\nrespiração, houve uma súbita volta à vida no visor integrado àquela porção\\nde multivac. cinco palavras foram impressas: “dados insuficientes\\npara resposta significativa.”\\nna manhã seguinte, os dois, com dor de cabeça e a boca seca, já não\\nlembravam do incidente.\\n* * *\\njerrodd, jerrodine, e jerrodette i e ii observavam a paisagem estelar no\\nvisor se transformar enquanto a passagem pelo hiperespaço consumava-se\\nem uma fração de segundos. de repente, a presença fulgurante das estrelas\\ndeu lugar a um disco solitário e brilhante, semelhante a uma peça de\\nmármore centralizada no televisor.\\n“este é x-23,” disse jerrodd em tom de confidência. suas mãos finas se\\napertaram com força por trás das costas até que as juntas ficassem pálidas.\\nas pequenas jerodettes haviam experimentado uma passagem pelo\\nhiperespaço pela primeira vez em suas vidas e ainda estavam conscientes \\nda sensação momentânea de tontura. elas cessaram as risadas e começaram\\na correr em volta da mãe, gritando, “nós chegamos em x-23, nós\\nchegamos em x-23!”\\n“quietas, crianças.” disse jerrodine asperamente. “você tem certeza\\njerrodd?”\\n“e por que não teria?” perguntou jerrodd, observando a protuberância\\nmetálica que jazia abaixo do teto. ela tinha o comprimento da sala,\\ndesaparecendo nos dois lados da parede, e, em verdade, era tão longa\\nquanto a nave.\\njerrodd tinha conhecimentos muito limitados acerca do sólido tubo de\\nmetal. sabia, por exemplo, que se chamava microvac, que era permitido\\nlhe fazer questões quando necessário, e que ele tinha a função de guiar a\\nnave para um destino pré-estabelecido, além de abastecer-se com a energia\\ndas várias estações sub-galácticas e fazer os cálculos para saltos no\\nhiperespaço.\\njerrodd e sua família tinham apenas de aguardar e viver nos confortáveis\\ncompartimentos da nave. alguém um dia disse a jerrodd que as letras “ac”\\nna extremidade de microvac significavam “automatic computer” em inglês\\narcaico, mas ele mal era capaz de se lembrar disso.\\nos olhos de jerrodine ficaram úmidos quando observava o visor. “não tem\\njeito. ainda não me acostumei com a idéia de deixar a terra.”\\n“por que, meu deus?” inquiriu jerrodd. “nós não tínhamos nada lá. nós\\nteremos tudo em x-23. você não estará sozinha. você não será uma\\npioneira. há mais de um milhão de pessoas no planeta. por deus, nosso\\nbisneto terá que procurar por novos mundos porque x-23 já estará super\\npovoado.” e, depois de uma pausa reflexiva, “no ritmo em que a raça tem\\nse expandido, é uma benção que os computadores tenham viabilizado a\\nviagem interestelar.”\\n“eu sei, eu sei”, disse jerrodine com descaso.\\njerrodete i disse prontamente, “nosso microvac é o melhor de todos.”\\n“eu também acho,” disse jerrodd, alisando o cabelo da filha.\\nter um microvac próprio produzia uma sensação aconchegante em jerrodd\\ne o deixava feliz por fazer parte daquela geração e não de outra. na\\njuventude de seu pai, os únicos computadores haviam sido máquinas\\nmonstruosas, ocupando centenas de milhas quadradas, e cada planeta\\nabrigava apenas um. eram chamados de acs planetários. durante um \\nmilhar de anos, eles só fizeram aumentar em tamanho, até que, de súbito,\\nveio o refinamento. no lugar dos transistores, foram implementadas\\nválvulas moleculares, permitindo que até mesmo o maior dos acs\\nplanetários fosse reduzido à metade do volume de uma espaçonave.\\njerrodd sentiu-se elevado, como sempre acontecia quando pensava que seu\\nmicrovac pessoal era muitas vezes mais complexo do que o antigo e\\nprimitivo multivac que pela primeira vez domou o sol, e quase tão\\ncomplexo quanto o ac planetário da terra, o maior de todos, quando este\\nsolucionou o problema da viagem hiperespacial e tornou possível ao\\nhomem chegar às estrelas.\\n“tantas estrelas, tantos planetas,” pigarreou jerrodine, ocupada com seus\\npensamentos. “eu acho que as famílias estarão sempre à procura de novos\\nmundos, como nós estamos agora.”\\n“não para sempre,” disse jerrodd, com um sorriso. “a migração vai\\nterminar um dia, mas não antes de bilhões de anos. muitos bilhões. até as\\nestrelas têm um fim, você sabe. a entropia precisa aumentar.”\\n“o que é entropia, papai?” jerrodette ii perguntou, interessada.\\n“entropia, meu bem, é uma palavra para o nível de desgaste do universo.\\ntudo se gasta e acaba, foi assim que aconteceu com o seu robozinho de\\ncontrole remoto, lembra?”\\n“você não pode colocar pilhas novas, como em meu robô?”\\n“as estrelas são as pilhas do universo, querida. uma vez que elas estiverem\\nacabadas, não haverá mais pilhas.”\\njerrodette i se prontificou a responder. “não deixe, papai. não deixe que as\\nestrelas se apaguem.”\\n“olha o que você fez,” sussurrou jerrodine, exasperada.\\n“como eu ia saber que elas ficariam assustadas?” jerrodd sussurrou de\\nvolta.\\n“pergunte ao microvac,” propôs jerrodette i. “pergunte a ele como acender\\nas estrelas de novo.”\\n“vá em frente,” disse jerrodine. “ele vai aquietá-las.” (jerrodette ii já\\nestava começando a chorar.)\\njerrodd se mostrou incomodado. “bem, bem, meus anjinhos, vou perguntar\\na microvac. não se preocupem, ele vai nos ajudar.” \\nele fez a pergunta ao computador, adicionando, “imprima a resposta”.\\njerrodd olhou para a o fino pedaço de papel e disse, alegremente, “viram?\\nmicrovac disse que irá cuidar de tudo quando a hora chegar, então não há\\nporque se preocupar.”\\njerrodine disse, “e agora crianças, é hora de ir para a cama. em breve nós\\nestaremos em nosso novo lar.”\\njerrodd leu as palavras no papel mais uma vez antes de destruí-lo: dados\\ninsuficientes para resposta significativa.\\nele deu de ombros e olhou para o televisor, x-23 estava logo à frente.\\n* * *\\nvj-23x de lameth fixou os olhos nos espaços negros do mapa\\ntridimensional em pequena escala da galáxia e disse, “me pergunto se não\\né ridículo nos preocuparmos tanto com esta questão.”\\nmq-17j de nicron balançou a cabeça. “creio que não. no presente ritmo\\nde expansão, você sabe que a galáxia estará completamente tomada dentro\\nde cinco anos.”\\nambos pareciam estar nos seus vinte anos, ambos eram altos e tinham\\ncorpos perfeitos.\\n“ainda assim,” disse vj-23x, “hesitei em enviar um relatório pessimista ao\\nconselho galáctico.”\\n“eu não consigo pensar em outro tipo de relatório. agite-os. nós\\nprecisamos chacoalhá-los um pouco.”\\nvj-23x suspirou. “o espaço é infinito. cem bilhões de galáxias estão a\\nnossa espera. talvez mais.”\\n“cem bilhões não é o infinito, e está ficando menos ainda a cada segundo.\\npense! há vinte mil anos, a humanidade solucionou pela primeira vez o\\nparadigma da utilização da energia solar, e, poucos séculos depois, a\\nviagem interestelar tornou-se viável. a humanidade demorou um milhão de\\nanos para encher um mundo pequeno e, depois disso, quinze mil para\\nabarrotar o resto da galáxia. agora a população dobra a cada dez anos…”\\nvj-23x interrompeu. “devemos agradecer à imortalidade por isso.”\\n“muito bem. a imortalidade existe e nós devemos levá-la em conta.\\nadmito que ela tenha o seu lado negativo. o ac galáctico já solucionou \\nmuitos problemas, mas, ao fornecer a resposta sobre como impedir o\\nenvelhecimento e a morte, sobrepujou todas as outras conquistas.”\\n“no entanto, suponho que você não gostaria de abandonar a vida.”\\n“nem um pouco.” respondeu mq-17j, emendando. “ainda não. eu não\\nestou velho o bastante. você tem quantos anos?”\\n“duzentos e vinte e três, e você?”\\n“ainda não cheguei aos duzentos. mas, voltando à questão; a população\\ndobra a cada dez anos, uma vez que esta galáxia estiver lotada, haverá uma\\noutra cheia dentro de dez anos. mais dez e teremos ocupado por inteiro\\nmais duas galáxias. outra década e encheremos mais quatro. em cem anos,\\ncontaremos um milhar de galáxias transbordando de gente. em mil anos,\\num milhão de galáxias. em dez mil, todo o universo conhecido. e depois?\\nvj-23x disse, “além disso, há um problema de transporte. eu me pergunto\\nquantas unidades de energia solar serão necessárias para movimentar as\\npopulações de uma galáxia para outra.”\\n“boa questão. no presente momento, a humanidade consome duas\\nunidades de energia solar por ano.”\\n“da qual a maior parte é desperdiçada. afinal, nossa galáxia sozinha\\nproduz mil unidades de energia solar por ano e nós aproveitamos apenas\\nduas.”\\n“certo, mas mesmo com 100% de eficiência, podemos apenas adiar o fim.\\nnossa demanda energética tem crescido em progressão geométrica, de\\nmaneira ainda mais acelerada do que a população. ficaremos sem energia\\nantes mesmo que nos faltem galáxias. é uma boa questão. de fato uma\\nótima questão.”\\n“nós precisaremos construir novas estrelas a partir do gás interestelar.”\\n“ou a partir do calor dissipado?” perguntou mq-17j, sarcástico.\\n“pode haver algum jeito de reverter a entropia. nós devíamos perguntar ao\\nac galáctico.”\\nvj-23x não estava realmente falando sério, mas mq-17j retirou o seu\\ncomunicador-ac do bolso e colocou na mesa diante dele.\\n“parece-me uma boa idéia,” ele disse. “é algo que a raça humana terá de\\nenfrentar um dia.” \\nele lançou um olhar sóbrio para o seu pequeno comunicador-ac. tinha\\napenas duas polegadas cúbicas e nada dentro, mas estava conectado através\\ndo hiperespaço com o poderoso ac galáctico que servia a toda a\\nhumanidade. o próprio hiperespaço era parte integral do ac galáctico.\\nmq-17j fez uma pausa para pensar se algum dia em sua vida imortal teria a\\nchance de ver o ac galáctico. a máquina habitava um mundo dedicado,\\nonde uma rede de raios de força emaranhados alimentava a matéria dentro\\nda qual ondas de submésons haviam tomado o lugar das velhas e\\ndesajeitadas válvulas moleculares. ainda assim, apesar de seus\\ncomponentes etéreos, o ac galáctico possuía mais de mil pés de\\ncomprimento.\\nde súbito, mq-17j perguntou para o seu comunicador-ac, “poderá um\\ndia a entropia ser revertida?”\\nvj-23x disse, surpreso, “oh, eu não queria que você realmente fizesse essa\\npergunta.”\\n“por que não?”\\n“nós dois sabemos que a entropia não pode ser revertida. você não pode\\nconstruir uma árvore de volta a partir de fumaça e cinzas.”\\n“existem árvores no seu mundo?” perguntou mq-17j.\\no som do ac galáctico fez com que silenciassem. sua voz brotou\\nmelodiosa e bela do pequeno comunicador-ac em cima da mesa. dizia:\\ndados insuficientes para resposta significativa.\\nvj-23x disse, “viu!”\\nos dois homens retornaram à questão do relatório que tinham de apresentar\\nao conselho galáctico.\\n* * *\\na mente de zee prime navegou pela nova galáxia com um leve interesse\\nnos incontáveis turbilhões de estrelas que pontilhavam o espaço. ele nunca\\nhavia visto aquela galáxia antes. será que um dia conseguiria ver todas?\\neram tantas, cada uma com a sua carga de humanidade. ainda que essa\\ncarga fosse, virtualmente, peso morto. há tempos a verdadeira essência do\\nhomem habitava o espaço.\\nmentes, não corpos! há eons os corpos imortais ficaram para trás, em\\nsuspensão nos planetas. de quando em quando erguiam-se para realizar \\nalguma atividade material, mas estes momentos tornavam-se cada vez mais\\nraros. além disso, poucos novos indivíduos vinham se juntar à multidão\\nincrivelmente maciça de humanos, mas o que importava? havia pouco\\nespaço no universo para novos indivíduos.\\nzee prime deixou seus devaneios para trás ao cruzar com os filamentos\\nemaranhados de outra mente.\\n“sou zee prime, e você?”\\n“dee sub wun. e a sua galáxia, qual é?”\\n“nós a chamamos apenas de galáxia. e você?”\\n“nós também. todos os homens chamam as suas galáxias de galáxias, não\\né?”\\n“verdade, já que todas as galáxias são iguais.”\\n“nem todas. alguma em particular deu origem à raça humana. isso a torna\\ndiferente.”\\nzee prime disse, “em qual delas?”\\n“não posso responder. o ac universal deve saber.”\\n“vamos perguntar? estou curioso.”\\na percepção de zee prime se expandiu até que as próprias galáxias\\nencolhessem e se transformassem em uma infinidade de pontos difusos a\\nbrilhar sobre um largo plano de fundo. tantos bilhões de galáxias, todas\\nabrigando seus seres imortais, todas contando com o peso da inteligência\\nem mentes que vagavam livremente pelo espaço. e ainda assim, nenhuma\\ndelas se afigurava singular o bastante para merecer o título de galáxia\\noriginal. apesar das aparências, uma delas, em um passado muito distante,\\nfoi a única do universo a abrigar a espécie humana.\\nzee prime, imerso em curiosidade, chamou: “ac universal! em qual\\ngaláxia nasceu o homem?”\\no ac universal ouviu, pois em cada mundo e através de todo o espaço,\\nseus receptores faziam-se presentes. e cada receptor ligava-se a algum\\nponto desconhecido onde se assentava o ac universal através do\\nhiperespaço. \\nzee prime sabia de um único homem cujos pensamentos haviam penetrado\\nno campo de percepção do ac universal, e tudo o que ele viu foi um globo\\nbrilhante difícil de enxergar, com dois pés de comprimento.\\n“como pode o ac universal ser apenas isso?” zee prime perguntou.\\n“a maior parte dele permanece no hiperespaço, onde não é possível\\nimaginar as suas proporções.”\\nninguém podia, pois a última vez em que alguém ajudou a construir um\\nac universal jazia muito distante no tempo. cada ac universal planejava\\ne construía seu sucessor, no qual toda a sua bagagem única de informações\\nera inserida.\\no ac universal interrompeu os pensamentos de zee prime, não com\\npalavras, mas com orientação. sua mente foi guiada através do espesso\\noceano das galáxias, e uma em particular expandiu-se e se abriu em\\nestrelas.\\num pensamento lhe alcançou, infinitamente distante, infinitamente claro.\\n“esta é a galáxia original do homem.”\\nela não tinha nada de especial, era como tantas outras. zee prime ficou\\ndesapontado.\\n“dee sub wun, cuja mente acompanhara a outra, disse de súbito, “e\\nalguma dessas é a estrela original do homem?”\\no ac universal disse, “a estrela original do homem entrou\\nem colapso. agora é uma anã branca.”\\n“os homens que lá viviam morreram?” perguntou zee prime, sem pensar.\\n“um novo mundo foi erguido para seus corpos há\\ntempo.”\\n“sim, é claro,” disse zee prime. sentiu uma distante sensação de perda\\ntomar-lhe conta. sua mente soltou-se da galáxia do homem e perdeu-se\\nentre os pontos pálidos e esfumaçados. ele nunca mais queria vê-la.\\ndee sub wun disse, “o que houve?”\\n“as estrelas estão morrendo. aquela que serviu de berço à humanidade já\\nestá morta.”\\n“todas devem morrer, não?” \\n“sim. mas quando toda a energia acabar, nossos corpos irão finalmente\\nmorrer, e você e eu partiremos junto com eles.”\\n“vai levar bilhões de anos.”\\n“não quero que isso aconteça nem em bilhões de anos. ac universal!\\ncomo a morte das estrelas pode ser evitada?”\\ndee sub wun disse perplexo, “você perguntou se há como reverter a\\ndireção da entropia!”\\ne o ac universal respondeu: “ainda não hà dados suficientes\\npara uma resposta significativa.”\\nos pensamentos de zee prime retornaram para sua galáxia. não dispensou\\nmais atenção a dee sub wun, cujo corpo poderia estar a trilhões de anos\\nluz, ou na estrela vizinha do corpo de zee prime. não importava.\\ncom tristeza, zee prime passou a coletar hidrogênio interestelar para\\nconstruir uma pequena estrela para si. se as estrelas devem morrer, ao\\nmenos algumas ainda podiam ser construídas.\\n* * *\\no homem pensou consigo mesmo, pois, de alguma forma, ele era apenas\\num. consistia de trilhões, trilhões e trilhões de corpos muito antigos, cada\\num em seu lugar, descansando incorruptível e calmamente, sob os cuidados\\nde autômatos perfeitos, igualmente incorruptíveis, enquanto as mentes de\\ntodos os corpos haviam escolhido fundir-se umas às outras, indistintamente.\\n“o universo está morrendo.”\\no homem olhou as galáxias opacas. as estrelas gigantes, esbanjadoras, há\\nmuito já não existiam. desde o passado mais remoto, praticamente todas as\\nestrelas consistiam-se em anãs brancas, lentamente esvaindo-se em direção\\na morte.\\nnovas estrelas foram construídas a partir da poeira interestelar, algumas\\npor processo natural, outras pelo próprio homem, e estas também já\\nestavam em seus momentos finais. as anãs brancas ainda podiam colidirse e, das enormes forças resultantes, novas estrelas nascerem, mas apenas\\nna proporção de uma nova estrela para cada mil anãs brancas destruídas, e\\nestas também se apagariam um dia.\\no homem disse, “cuidadosamente controlada pelo ac cósmico, a energia\\nque resta em todo o universo ainda vai durar por um bilhão de anos.” \\n“ainda assim, vai eventualmente acabar. por mais que possa ser poupada,\\numa vez gasta, não há como recuperá-la. a entropia precisa aumentar ao\\nseu máximo.”\\n“pode a entropia ser revertida? vamos perguntar ao ac cósmico.”\\no ac cósmico cercava-os por todos os lados, mas não através do espaço.\\nnenhuma parte sua permanecia no espaço físico. jazia no hiperespaço e era\\nfeito de algo que não era matéria nem energia. as definições sobre seu\\ntamanho e natureza não faziam sentido em quaisquer termos\\ncompreensíveis pelo homem.\\n“ac cósmico,” disse o homem, “como é possível reverter a entropia?”\\no ac cósmico disse, “ainda não hà dados suficientes para\\numa resposta significativa.”\\no homem disse, “colete dados adicionais.”\\no ac cósmico disse, “eu o farei. tenho feito isso por cem\\nbilhões de anos. meus predescessores e eu ouvimos\\nesta pergunta muitas vezes. mas os dados que tenho\\npermanecem insuficientes.”\\n“haverá um dia,” disse o homem, “em que os dados serão suficientes ou o\\nproblema é insolúvel em todas as circunstâncias concebíveis?”\\no ac cósmico disse, “nenhum problema é insolúvel em\\ntodas as circunstâncias concebíveis.”\\n“você vai continuar trabalhando nisso?”\\n“vou.”\\no homem disse, “nós iremos aguardar.”\\n* * *\\nas estrelas e as galáxias se apagaram e morreram, o espaço tornou-se negro\\napós dez trilhões de anos de atividade.\\num a um, o homem fundiu-se ao ac, cada corpo físico perdendo a sua\\nidentidade mental, acontecimento que era, de alguma forma, benéfico.\\na última mente humana parou antes da fusão, olhando para o espaço vazio\\na não ser pelos restos de uma estrela negra e um punhado de matéria \\nextremamente rarefeita, agitada aleatoriamente pelo calor que aos poucos\\nse dissipava, em direção ao zero absoluto.\\no homem disse, “ac, este é o fim? não há como reverter este caos? não\\npode ser feito?”\\no ac disse, “ainda não há dados suficientes para uma\\nresposta significativa.”\\na última mente humana uniu-se às outras e apenas ac passou a existir – e,\\nainda assim, no hiperespaço.\\n* * *\\na matéria e a energia se acabaram e, com elas, o tempo e o espaço. ac\\ncontinuava a existir apenas em função da última pergunta que nunca havia\\nsido respondida, desde a época em que um técnico de computação\\nembriagado, há dez trilhões de anos, a fizera para um computador que\\nguardava menos semelhanças com o ac do que o homem com o homem.\\ntodas as outras questões haviam sido solucionadas, e até que a derradeira\\ntambém o fosse, ac não poderia descansar sua consciência.\\na coleta de dados havia chegado ao seu fim. não havia mais nada para\\naprender.\\nno entanto, os dados obtidos ainda precisavam ser cruzados e\\ncorrelacionados de todas as maneiras possíveis.\\num intervalo imensurável foi gasto neste empreendimento.\\nfinalmente, ac descobriu como reverter a direção da entropia.\\nnão havia homem algum para quem ac pudesse dar a resposta final. mas\\nnão importava. a resposta – por definição – também tomaria conta disso.\\npor outro incontável período, ac pensou na melhor maneira de agir.\\ncuidadosamente, ac organizou o programa.\\na consciência de ac abarcou tudo o que um dia foi um universo e tudo o\\nque agora era o caos. passo a passo, isso precisava ser feito.\\ne ac disse:\\n“faça-se a luz!”\\ne fez-se a luz. '"
      ]
     },
     "execution_count": 15,
     "metadata": {},
     "output_type": "execute_result"
    }
   ],
   "source": [
    "texto"
   ]
  },
  {
   "cell_type": "code",
   "execution_count": 14,
   "metadata": {},
   "outputs": [],
   "source": [
    "# Tokenização do texto\n",
    "texto_token = word_tokenize(texto)"
   ]
  },
  {
   "cell_type": "code",
   "execution_count": 16,
   "metadata": {},
   "outputs": [
    {
     "data": {
      "text/plain": [
       "['a',\n",
       " 'última',\n",
       " 'pergunta',\n",
       " 'foi',\n",
       " 'feita',\n",
       " 'pela',\n",
       " 'primeira',\n",
       " 'vez',\n",
       " ',',\n",
       " 'meio',\n",
       " 'que',\n",
       " 'de',\n",
       " 'brincadeira',\n",
       " ',',\n",
       " 'no',\n",
       " 'dia',\n",
       " '21',\n",
       " 'de',\n",
       " 'maio',\n",
       " 'de',\n",
       " '2061',\n",
       " ',',\n",
       " 'quando',\n",
       " 'a',\n",
       " 'humanidade',\n",
       " 'dava',\n",
       " 'seus',\n",
       " 'primeiros',\n",
       " 'passos',\n",
       " 'em',\n",
       " 'direção',\n",
       " 'à',\n",
       " 'luz',\n",
       " '.',\n",
       " 'a',\n",
       " 'questão',\n",
       " 'nasceu',\n",
       " 'como',\n",
       " 'resultado',\n",
       " 'de',\n",
       " 'uma',\n",
       " 'aposta',\n",
       " 'de',\n",
       " 'cinco',\n",
       " 'dólares',\n",
       " 'movida',\n",
       " 'a',\n",
       " 'álcool',\n",
       " ',',\n",
       " 'e',\n",
       " 'aconteceu',\n",
       " 'da',\n",
       " 'seguinte',\n",
       " 'forma',\n",
       " '.',\n",
       " 'alexander',\n",
       " 'adell',\n",
       " 'e',\n",
       " 'bertram',\n",
       " 'lupov',\n",
       " 'eram',\n",
       " 'dois',\n",
       " 'dos',\n",
       " 'fiéis',\n",
       " 'assistentes',\n",
       " 'de',\n",
       " 'multivac',\n",
       " '.',\n",
       " 'eles',\n",
       " 'conheciam',\n",
       " 'melhor',\n",
       " 'do',\n",
       " 'que',\n",
       " 'qualquer',\n",
       " 'outro',\n",
       " 'ser',\n",
       " 'humano',\n",
       " 'o',\n",
       " 'que',\n",
       " 'se',\n",
       " 'passava',\n",
       " 'por',\n",
       " 'trás',\n",
       " 'das',\n",
       " 'milhas',\n",
       " 'e',\n",
       " 'milhas',\n",
       " 'da',\n",
       " 'carcaça',\n",
       " 'luminosa',\n",
       " ',',\n",
       " 'fria',\n",
       " 'e',\n",
       " 'ruidosa',\n",
       " 'daquele',\n",
       " 'gigantesco',\n",
       " 'computador',\n",
       " '.',\n",
       " 'ainda',\n",
       " 'assim',\n",
       " ',',\n",
       " 'os',\n",
       " 'dois',\n",
       " 'homens',\n",
       " 'tinham',\n",
       " 'apenas',\n",
       " 'uma',\n",
       " 'vaga',\n",
       " 'noção',\n",
       " 'do',\n",
       " 'plano',\n",
       " 'geral',\n",
       " 'de',\n",
       " 'circuitos',\n",
       " 'que',\n",
       " 'há',\n",
       " 'muito',\n",
       " 'haviam',\n",
       " 'crescido',\n",
       " 'além',\n",
       " 'do',\n",
       " 'ponto',\n",
       " 'em',\n",
       " 'que',\n",
       " 'um',\n",
       " 'humano',\n",
       " 'solitário',\n",
       " 'poderia',\n",
       " 'sequer',\n",
       " 'tentar',\n",
       " 'entender',\n",
       " '.',\n",
       " 'multivac',\n",
       " 'ajustava-se',\n",
       " 'e',\n",
       " 'corrigia-se',\n",
       " 'sozinho',\n",
       " '.',\n",
       " 'e',\n",
       " 'assim',\n",
       " 'tinha',\n",
       " 'de',\n",
       " 'ser',\n",
       " ',',\n",
       " 'pois',\n",
       " 'nenhum',\n",
       " 'ser',\n",
       " 'humano',\n",
       " 'poderia',\n",
       " 'fazê-lo',\n",
       " 'com',\n",
       " 'velocidade',\n",
       " 'suficiente',\n",
       " ',',\n",
       " 'e',\n",
       " 'tampouco',\n",
       " 'da',\n",
       " 'forma',\n",
       " 'adequada',\n",
       " '.',\n",
       " 'deste',\n",
       " 'modo',\n",
       " ',',\n",
       " 'adell',\n",
       " 'e',\n",
       " 'lupov',\n",
       " 'operavam',\n",
       " 'o',\n",
       " 'gigante',\n",
       " 'apenas',\n",
       " 'sutil',\n",
       " 'e',\n",
       " 'superficialmente',\n",
       " ',',\n",
       " 'mas',\n",
       " ',',\n",
       " 'ainda',\n",
       " 'assim',\n",
       " ',',\n",
       " 'tão',\n",
       " 'bem',\n",
       " 'quanto',\n",
       " 'era',\n",
       " 'humanamente',\n",
       " 'possível',\n",
       " '.',\n",
       " 'eles',\n",
       " 'o',\n",
       " 'alimentavam',\n",
       " 'com',\n",
       " 'novos',\n",
       " 'dados',\n",
       " ',',\n",
       " 'ajustavam',\n",
       " 'as',\n",
       " 'perguntas',\n",
       " 'de',\n",
       " 'acordo',\n",
       " 'com',\n",
       " 'as',\n",
       " 'necessidades',\n",
       " 'do',\n",
       " 'sistema',\n",
       " 'e',\n",
       " 'traduziam',\n",
       " 'as',\n",
       " 'respostas',\n",
       " 'que',\n",
       " 'lhes',\n",
       " 'eram',\n",
       " 'fornecidas',\n",
       " '.',\n",
       " 'os',\n",
       " 'dois',\n",
       " ',',\n",
       " 'assim',\n",
       " 'como',\n",
       " 'seus',\n",
       " 'colegas',\n",
       " ',',\n",
       " 'certamente',\n",
       " 'tinham',\n",
       " 'todo',\n",
       " 'o',\n",
       " 'direito',\n",
       " 'de',\n",
       " 'compartilhar',\n",
       " 'da',\n",
       " 'glória',\n",
       " 'que',\n",
       " 'era',\n",
       " 'multivac',\n",
       " '.',\n",
       " 'por',\n",
       " 'décadas',\n",
       " ',',\n",
       " 'multivac',\n",
       " 'ajudou',\n",
       " 'a',\n",
       " 'projetar',\n",
       " 'as',\n",
       " 'naves',\n",
       " 'e',\n",
       " 'enredar',\n",
       " 'as',\n",
       " 'trajetórias',\n",
       " 'que',\n",
       " 'permitiram',\n",
       " 'ao',\n",
       " 'homem',\n",
       " 'chegar',\n",
       " 'à',\n",
       " 'lua',\n",
       " ',',\n",
       " 'marte',\n",
       " 'e',\n",
       " 'vênus',\n",
       " ',',\n",
       " 'mas',\n",
       " 'para',\n",
       " 'além',\n",
       " 'destes',\n",
       " 'planetas',\n",
       " ',',\n",
       " 'os',\n",
       " 'parcos',\n",
       " 'recursos',\n",
       " 'da',\n",
       " 'terra',\n",
       " 'não',\n",
       " 'foram',\n",
       " 'capazes',\n",
       " 'de',\n",
       " 'sustentar',\n",
       " 'a',\n",
       " 'exploração',\n",
       " '.',\n",
       " 'fazia-se',\n",
       " 'necessária',\n",
       " 'uma',\n",
       " 'quantidade',\n",
       " 'de',\n",
       " 'energia',\n",
       " 'grande',\n",
       " 'demais',\n",
       " 'para',\n",
       " 'as',\n",
       " 'longas',\n",
       " 'viagens',\n",
       " '.',\n",
       " 'a',\n",
       " 'terra',\n",
       " 'explorava',\n",
       " 'suas',\n",
       " 'reservas',\n",
       " 'de',\n",
       " 'carvão',\n",
       " 'e',\n",
       " 'urânio',\n",
       " 'com',\n",
       " 'eficiência',\n",
       " 'crescente',\n",
       " ',',\n",
       " 'mas',\n",
       " 'havia',\n",
       " 'um',\n",
       " 'limite',\n",
       " 'para',\n",
       " 'a',\n",
       " 'quantidade',\n",
       " 'de',\n",
       " 'ambos',\n",
       " '.',\n",
       " 'no',\n",
       " 'entanto',\n",
       " ',',\n",
       " 'lentamente',\n",
       " 'multivac',\n",
       " 'acumulou',\n",
       " 'conhecimento',\n",
       " 'suficiente',\n",
       " 'para',\n",
       " 'responder',\n",
       " 'questões',\n",
       " 'mais',\n",
       " 'profundas',\n",
       " 'com',\n",
       " 'maior',\n",
       " 'fundamentação',\n",
       " ',',\n",
       " 'e',\n",
       " 'em',\n",
       " '14',\n",
       " 'de',\n",
       " 'maio',\n",
       " 'de',\n",
       " '2061',\n",
       " ',',\n",
       " 'o',\n",
       " 'que',\n",
       " 'não',\n",
       " 'passava',\n",
       " 'de',\n",
       " 'teoria',\n",
       " 'tornou-se',\n",
       " 'real',\n",
       " '.',\n",
       " 'a',\n",
       " 'energia',\n",
       " 'do',\n",
       " 'sol',\n",
       " 'foi',\n",
       " 'capturada',\n",
       " ',',\n",
       " 'convertida',\n",
       " 'e',\n",
       " 'utilizada',\n",
       " 'diretamente',\n",
       " 'em',\n",
       " 'escala',\n",
       " 'planetária',\n",
       " '.',\n",
       " 'toda',\n",
       " 'a',\n",
       " 'terra',\n",
       " 'paralisou',\n",
       " 'suas',\n",
       " 'usinas',\n",
       " 'de',\n",
       " 'carvão',\n",
       " 'e',\n",
       " 'fissões',\n",
       " 'de',\n",
       " 'urânio',\n",
       " ',',\n",
       " 'girando',\n",
       " 'a',\n",
       " 'alavanca',\n",
       " 'que',\n",
       " 'conectou',\n",
       " 'o',\n",
       " 'planeta',\n",
       " 'inteiro',\n",
       " 'a',\n",
       " 'uma',\n",
       " 'pequena',\n",
       " 'estação',\n",
       " ',',\n",
       " 'de',\n",
       " 'uma',\n",
       " 'milha',\n",
       " 'de',\n",
       " 'diâmetro',\n",
       " ',',\n",
       " 'orbitando',\n",
       " 'a',\n",
       " 'terra',\n",
       " 'à',\n",
       " 'metade',\n",
       " 'da',\n",
       " 'distância',\n",
       " 'da',\n",
       " 'lua',\n",
       " '.',\n",
       " 'o',\n",
       " 'mundo',\n",
       " 'passou',\n",
       " 'a',\n",
       " 'correr',\n",
       " 'através',\n",
       " 'de',\n",
       " 'feixes',\n",
       " 'invisíveis',\n",
       " 'de',\n",
       " 'energia',\n",
       " 'solar',\n",
       " '.',\n",
       " 'sete',\n",
       " 'dias',\n",
       " 'não',\n",
       " 'foram',\n",
       " 'o',\n",
       " 'suficiente',\n",
       " 'para',\n",
       " 'diminuir',\n",
       " 'a',\n",
       " 'glória',\n",
       " 'do',\n",
       " 'feito',\n",
       " 'e',\n",
       " 'adell',\n",
       " 'e',\n",
       " 'lupov',\n",
       " 'finalmente',\n",
       " 'conseguiram',\n",
       " 'escapar',\n",
       " 'das',\n",
       " 'funções',\n",
       " 'públicas',\n",
       " 'e',\n",
       " 'encontrar-se',\n",
       " 'em',\n",
       " 'segredo',\n",
       " 'onde',\n",
       " 'ninguém',\n",
       " 'pensaria',\n",
       " 'em',\n",
       " 'procurá-los',\n",
       " ',',\n",
       " 'nas',\n",
       " 'câmaras',\n",
       " 'desertas',\n",
       " 'subterrâneas',\n",
       " 'onde',\n",
       " 'se',\n",
       " 'encontravam',\n",
       " 'as',\n",
       " 'porções',\n",
       " 'do',\n",
       " 'esplendoroso',\n",
       " 'corpo',\n",
       " 'enterrado',\n",
       " 'de',\n",
       " 'multivac',\n",
       " '.',\n",
       " 'subutilizado',\n",
       " ',',\n",
       " 'descansando',\n",
       " 'e',\n",
       " 'processando',\n",
       " 'informações',\n",
       " 'com',\n",
       " 'estalos',\n",
       " 'preguiçosos',\n",
       " ',',\n",
       " 'multivac',\n",
       " 'também',\n",
       " 'havia',\n",
       " 'recebido',\n",
       " 'férias',\n",
       " ',',\n",
       " 'e',\n",
       " 'os',\n",
       " 'dois',\n",
       " 'apreciavam',\n",
       " 'isso',\n",
       " '.',\n",
       " 'a',\n",
       " 'princípio',\n",
       " ',',\n",
       " 'eles',\n",
       " 'não',\n",
       " 'tinham',\n",
       " 'a',\n",
       " 'intenção',\n",
       " 'de',\n",
       " 'incomodá-lo',\n",
       " '.',\n",
       " 'haviam',\n",
       " 'trazido',\n",
       " 'uma',\n",
       " 'garrafa',\n",
       " 'consigo',\n",
       " 'e',\n",
       " 'a',\n",
       " 'única',\n",
       " 'preocupação',\n",
       " 'de',\n",
       " 'ambos',\n",
       " 'era',\n",
       " 'relaxar',\n",
       " 'na',\n",
       " 'companhia',\n",
       " 'do',\n",
       " 'outro',\n",
       " 'e',\n",
       " 'da',\n",
       " 'bebida',\n",
       " '.',\n",
       " '“',\n",
       " 'é',\n",
       " 'incrível',\n",
       " 'quando',\n",
       " 'você',\n",
       " 'pára',\n",
       " 'pra',\n",
       " 'pensar…',\n",
       " ',',\n",
       " '”',\n",
       " 'disse',\n",
       " 'adell',\n",
       " '.',\n",
       " 'seu',\n",
       " 'rosto',\n",
       " 'largo',\n",
       " 'guardava',\n",
       " 'as',\n",
       " 'linhas',\n",
       " 'da',\n",
       " 'idade',\n",
       " 'e',\n",
       " 'ele',\n",
       " 'agitava',\n",
       " 'o',\n",
       " 'seu',\n",
       " 'drink',\n",
       " 'vagarosamente',\n",
       " ',',\n",
       " 'enquanto',\n",
       " 'observava',\n",
       " 'os',\n",
       " 'cubos',\n",
       " 'de',\n",
       " 'gelo',\n",
       " 'nadando',\n",
       " 'desengonçados',\n",
       " '.',\n",
       " '“',\n",
       " 'toda',\n",
       " 'a',\n",
       " 'energia',\n",
       " 'que',\n",
       " 'for',\n",
       " 'necessária',\n",
       " ',',\n",
       " 'de',\n",
       " 'graça',\n",
       " ',',\n",
       " 'completamente',\n",
       " 'de',\n",
       " 'graça',\n",
       " '!',\n",
       " 'energia',\n",
       " 'suficiente',\n",
       " ',',\n",
       " 'se',\n",
       " 'nós',\n",
       " 'quiséssemos',\n",
       " ',',\n",
       " 'para',\n",
       " 'derreter',\n",
       " 'toda',\n",
       " 'a',\n",
       " 'terra',\n",
       " 'em',\n",
       " 'uma',\n",
       " 'grande',\n",
       " 'gota',\n",
       " 'de',\n",
       " 'ferro',\n",
       " 'líquido',\n",
       " ',',\n",
       " 'e',\n",
       " 'ainda',\n",
       " 'assim',\n",
       " 'não',\n",
       " 'sentiríamos',\n",
       " 'falta',\n",
       " 'da',\n",
       " 'energia',\n",
       " 'utilizada',\n",
       " 'no',\n",
       " 'processo',\n",
       " '.',\n",
       " 'toda',\n",
       " 'a',\n",
       " 'energia',\n",
       " 'que',\n",
       " 'nós',\n",
       " 'poderíamos',\n",
       " 'um',\n",
       " 'dia',\n",
       " 'precisar',\n",
       " ',',\n",
       " 'para',\n",
       " 'sempre',\n",
       " 'e',\n",
       " 'eternamente.',\n",
       " '”',\n",
       " 'lupov',\n",
       " 'movimentou',\n",
       " 'a',\n",
       " 'cabeça',\n",
       " 'para',\n",
       " 'os',\n",
       " 'lados',\n",
       " '.',\n",
       " 'ele',\n",
       " 'costumava',\n",
       " 'fazer',\n",
       " 'isso',\n",
       " 'quando',\n",
       " 'queria',\n",
       " 'contrariar',\n",
       " ',',\n",
       " 'e',\n",
       " 'agora',\n",
       " 'ele',\n",
       " 'queria',\n",
       " ',',\n",
       " 'em',\n",
       " 'parte',\n",
       " 'porque',\n",
       " 'havia',\n",
       " 'tido',\n",
       " 'de',\n",
       " 'carregar',\n",
       " 'o',\n",
       " 'gelo',\n",
       " 'e',\n",
       " 'os',\n",
       " 'utensílios',\n",
       " '.',\n",
       " '“',\n",
       " 'eternamente',\n",
       " 'não',\n",
       " ',',\n",
       " '”',\n",
       " 'ele',\n",
       " 'disse',\n",
       " '.',\n",
       " '“',\n",
       " 'ah',\n",
       " ',',\n",
       " 'diabos',\n",
       " ',',\n",
       " 'quase',\n",
       " 'eternamente',\n",
       " '.',\n",
       " 'até',\n",
       " 'o',\n",
       " 'sol',\n",
       " 'se',\n",
       " 'apagar',\n",
       " ',',\n",
       " 'bert.',\n",
       " '”',\n",
       " '“',\n",
       " 'isso',\n",
       " 'não',\n",
       " 'é',\n",
       " 'eternamente.',\n",
       " '”',\n",
       " '“',\n",
       " 'está',\n",
       " 'bem',\n",
       " '.',\n",
       " 'bilhões',\n",
       " 'e',\n",
       " 'bilhões',\n",
       " 'de',\n",
       " 'anos',\n",
       " '.',\n",
       " 'dez',\n",
       " 'bilhões',\n",
       " ',',\n",
       " 'talvez',\n",
       " '.',\n",
       " 'está',\n",
       " 'satisfeito',\n",
       " '?',\n",
       " '”',\n",
       " 'lupov',\n",
       " 'passou',\n",
       " 'os',\n",
       " 'dedos',\n",
       " 'por',\n",
       " 'entre',\n",
       " 'seus',\n",
       " 'finos',\n",
       " 'fios',\n",
       " 'de',\n",
       " 'cabelo',\n",
       " 'como',\n",
       " 'que',\n",
       " 'para',\n",
       " 'se',\n",
       " 'assegurar',\n",
       " 'de',\n",
       " 'que',\n",
       " 'o',\n",
       " 'problema',\n",
       " 'ainda',\n",
       " 'não',\n",
       " 'estava',\n",
       " 'acabado',\n",
       " 'e',\n",
       " 'tomou',\n",
       " 'um',\n",
       " 'gole',\n",
       " 'gentil',\n",
       " 'da',\n",
       " 'sua',\n",
       " 'bebida',\n",
       " '.',\n",
       " '“',\n",
       " 'dez',\n",
       " 'bilhões',\n",
       " 'de',\n",
       " 'anos',\n",
       " 'não',\n",
       " 'é',\n",
       " 'a',\n",
       " 'eternidade',\n",
       " '”',\n",
       " '“',\n",
       " 'bom',\n",
       " ',',\n",
       " 'vai',\n",
       " 'durar',\n",
       " 'pelo',\n",
       " 'nosso',\n",
       " 'tempo',\n",
       " ',',\n",
       " 'não',\n",
       " 'vai',\n",
       " '?',\n",
       " '”',\n",
       " '“',\n",
       " 'o',\n",
       " 'carvão',\n",
       " 'e',\n",
       " 'o',\n",
       " 'urânio',\n",
       " 'também',\n",
       " 'iriam.',\n",
       " '”',\n",
       " '“',\n",
       " 'está',\n",
       " 'certo',\n",
       " ',',\n",
       " 'mas',\n",
       " 'agora',\n",
       " 'nós',\n",
       " 'podemos',\n",
       " 'ligar',\n",
       " 'cada',\n",
       " 'nave',\n",
       " 'individual',\n",
       " 'na',\n",
       " 'estação',\n",
       " 'solar',\n",
       " ',',\n",
       " 'e',\n",
       " 'elas',\n",
       " 'podem',\n",
       " 'ir',\n",
       " 'a',\n",
       " 'plutão',\n",
       " 'e',\n",
       " 'voltar',\n",
       " 'um',\n",
       " 'milhão',\n",
       " 'de',\n",
       " 'vezes',\n",
       " 'sem',\n",
       " 'nunca',\n",
       " 'nos',\n",
       " 'preocuparmos',\n",
       " 'com',\n",
       " 'o',\n",
       " 'combustível',\n",
       " '.',\n",
       " 'você',\n",
       " 'não',\n",
       " 'conseguiria',\n",
       " 'fazer',\n",
       " 'isso',\n",
       " 'com',\n",
       " 'carvão',\n",
       " 'e',\n",
       " 'urânio',\n",
       " '.',\n",
       " 'se',\n",
       " 'não',\n",
       " 'acredita',\n",
       " 'em',\n",
       " 'mim',\n",
       " ',',\n",
       " 'pergunte',\n",
       " 'ao',\n",
       " 'multivac.',\n",
       " '”',\n",
       " '“',\n",
       " 'não',\n",
       " 'preciso',\n",
       " 'perguntar',\n",
       " 'a',\n",
       " 'multivac',\n",
       " '.',\n",
       " 'eu',\n",
       " 'sei',\n",
       " 'disso',\n",
       " '”',\n",
       " '“',\n",
       " 'então',\n",
       " 'trate',\n",
       " 'de',\n",
       " 'parar',\n",
       " 'de',\n",
       " 'diminuir',\n",
       " 'o',\n",
       " 'que',\n",
       " 'multivac',\n",
       " 'fez',\n",
       " 'por',\n",
       " 'nós',\n",
       " ',',\n",
       " '”',\n",
       " 'disse',\n",
       " 'adell',\n",
       " 'nervosamente',\n",
       " ',',\n",
       " '“',\n",
       " 'ele',\n",
       " 'fez',\n",
       " 'tudo',\n",
       " 'certo',\n",
       " '”',\n",
       " '.',\n",
       " '“',\n",
       " 'e',\n",
       " 'quem',\n",
       " 'disse',\n",
       " 'que',\n",
       " 'não',\n",
       " 'fez',\n",
       " '?',\n",
       " 'o',\n",
       " 'que',\n",
       " 'estou',\n",
       " 'dizendo',\n",
       " 'é',\n",
       " 'que',\n",
       " 'o',\n",
       " 'sol',\n",
       " 'não',\n",
       " 'vai',\n",
       " 'durar',\n",
       " 'para',\n",
       " 'sempre',\n",
       " '.',\n",
       " 'isso',\n",
       " 'é',\n",
       " 'tudo',\n",
       " 'que',\n",
       " 'estou',\n",
       " 'dizendo',\n",
       " '.',\n",
       " 'nós',\n",
       " 'estamos',\n",
       " 'seguros',\n",
       " 'por',\n",
       " 'dez',\n",
       " 'bilhões',\n",
       " 'de',\n",
       " 'anos',\n",
       " ',',\n",
       " 'mas',\n",
       " 'e',\n",
       " 'depois',\n",
       " '?',\n",
       " '”',\n",
       " 'lupov',\n",
       " 'apontou',\n",
       " 'um',\n",
       " 'dedo',\n",
       " 'levemente',\n",
       " 'trêmulo',\n",
       " 'para',\n",
       " 'o',\n",
       " 'companheiro',\n",
       " '.',\n",
       " '“',\n",
       " 'e',\n",
       " 'não',\n",
       " 'venha',\n",
       " 'me',\n",
       " 'dizer',\n",
       " 'que',\n",
       " 'nós',\n",
       " 'iremos',\n",
       " 'trocar',\n",
       " 'de',\n",
       " 'sol',\n",
       " '”',\n",
       " 'houve',\n",
       " 'um',\n",
       " 'breve',\n",
       " 'silêncio',\n",
       " '.',\n",
       " 'adell',\n",
       " 'levou',\n",
       " 'o',\n",
       " 'copo',\n",
       " 'aos',\n",
       " 'lábios',\n",
       " 'apenas',\n",
       " 'ocasionalmente',\n",
       " 'e',\n",
       " 'os',\n",
       " 'olhos',\n",
       " 'de',\n",
       " 'lupov',\n",
       " 'se',\n",
       " 'fecharam',\n",
       " '.',\n",
       " 'descansaram',\n",
       " 'um',\n",
       " 'pouco',\n",
       " ',',\n",
       " 'e',\n",
       " 'quando',\n",
       " 'suas',\n",
       " 'pálpebras',\n",
       " 'se',\n",
       " 'abriram',\n",
       " ',',\n",
       " 'disse',\n",
       " ',',\n",
       " '“',\n",
       " 'você',\n",
       " 'está',\n",
       " 'pensando',\n",
       " 'que',\n",
       " 'iremos',\n",
       " 'conseguir',\n",
       " 'outro',\n",
       " 'sol',\n",
       " 'quando',\n",
       " 'o',\n",
       " 'nosso',\n",
       " 'estiver',\n",
       " 'acabado',\n",
       " ',',\n",
       " 'não',\n",
       " 'está',\n",
       " '?',\n",
       " '”',\n",
       " '“',\n",
       " 'não',\n",
       " ',',\n",
       " 'não',\n",
       " 'estou',\n",
       " 'pensando.',\n",
       " '”',\n",
       " '“',\n",
       " 'é',\n",
       " 'claro',\n",
       " 'que',\n",
       " 'está',\n",
       " '.',\n",
       " 'você',\n",
       " 'é',\n",
       " 'fraco',\n",
       " 'em',\n",
       " 'lógica',\n",
       " ',',\n",
       " 'esse',\n",
       " 'é',\n",
       " ...]"
      ]
     },
     "execution_count": 16,
     "metadata": {},
     "output_type": "execute_result"
    }
   ],
   "source": [
    "texto_token"
   ]
  },
  {
   "cell_type": "code",
   "execution_count": 17,
   "metadata": {},
   "outputs": [],
   "source": [
    "# Variável para o comprimento total dos tokens\n",
    "comp_tokens = len(texto_token)"
   ]
  },
  {
   "cell_type": "code",
   "execution_count": 18,
   "metadata": {},
   "outputs": [
    {
     "name": "stdout",
     "output_type": "stream",
     "text": [
      "Número de Tokens:  5282\n"
     ]
    }
   ],
   "source": [
    "print(\"Número de Tokens: \", comp_tokens)"
   ]
  },
  {
   "cell_type": "markdown",
   "metadata": {},
   "source": [
    "### Criando o Vocabulário"
   ]
  },
  {
   "cell_type": "code",
   "execution_count": 19,
   "metadata": {},
   "outputs": [
    {
     "name": "stdout",
     "output_type": "stream",
     "text": [
      "Tamanho do Vocabulário: 1397\n"
     ]
    }
   ],
   "source": [
    "# Criando o vocabulário\n",
    "vocab = set(texto_token)\n",
    "vocab_size = len(vocab)\n",
    "print(\"Tamanho do Vocabulário:\", vocab_size)"
   ]
  },
  {
   "cell_type": "code",
   "execution_count": 24,
   "metadata": {},
   "outputs": [
    {
     "data": {
      "text/plain": [
       "{'quadradas': 0,\n",
       " 'seres': 1,\n",
       " 'me': 2,\n",
       " 'estação': 3,\n",
       " 'seguros': 4,\n",
       " 'apontou': 5,\n",
       " 'morrendo.': 6,\n",
       " 'teve': 7,\n",
       " 'cujo': 8,\n",
       " 'máquina': 9,\n",
       " 'ficaremos': 10,\n",
       " 'lembravam': 11,\n",
       " 'tamanho': 12,\n",
       " 'ótima': 13,\n",
       " 'exemplo': 14,\n",
       " 'serviu': 15,\n",
       " 'poderoso': 16,\n",
       " 'anjinhos': 17,\n",
       " 'oceano': 18,\n",
       " 'singular': 19,\n",
       " 'possuía': 20,\n",
       " 'tipo': 21,\n",
       " 'confidência': 22,\n",
       " 'sei': 23,\n",
       " 'fecharam': 24,\n",
       " 'significativa': 25,\n",
       " 'início': 26,\n",
       " 'apagaram': 27,\n",
       " 'presença': 28,\n",
       " 'imprima': 29,\n",
       " 'assegurar': 30,\n",
       " 'computadores': 31,\n",
       " 'começando': 32,\n",
       " 'solucionadas': 33,\n",
       " 'mais': 34,\n",
       " 'inglês': 35,\n",
       " 'galáxia': 36,\n",
       " 'melhor': 37,\n",
       " 'iriam.': 38,\n",
       " 'quanto': 39,\n",
       " 'peça': 40,\n",
       " 'adiar': 41,\n",
       " 'sozinha': 42,\n",
       " 'nossos': 43,\n",
       " 'acabaram': 44,\n",
       " 'for': 45,\n",
       " 'fixou': 46,\n",
       " 'mesmo': 47,\n",
       " 'admito': 48,\n",
       " 'virtualmente': 49,\n",
       " 'ligar': 50,\n",
       " 'erguiam-se': 51,\n",
       " 'lentamente': 52,\n",
       " 'tido': 53,\n",
       " 'isso': 54,\n",
       " 'embriagado': 55,\n",
       " 'pelo': 56,\n",
       " 'descansando': 57,\n",
       " 'tenham': 58,\n",
       " 'subutilizado': 59,\n",
       " 'válvulas': 60,\n",
       " 'espécie': 61,\n",
       " 'diâmetro': 62,\n",
       " 'lá': 63,\n",
       " 'abaixo': 64,\n",
       " 'conseguiam': 65,\n",
       " 'fulgurante': 66,\n",
       " 'zero': 67,\n",
       " 'realmente': 68,\n",
       " 'duzentos': 69,\n",
       " 'informações': 70,\n",
       " 'tentar': 71,\n",
       " 'fica': 72,\n",
       " 'desperdiçada': 73,\n",
       " 'inquiriu': 74,\n",
       " 'finas': 75,\n",
       " 'perguntas': 76,\n",
       " 'entropia': 77,\n",
       " 'perfeitos': 78,\n",
       " 'paradigma': 79,\n",
       " 'dignidade': 80,\n",
       " 'computação': 81,\n",
       " 'nadando': 82,\n",
       " 'certamente': 83,\n",
       " 'anos…': 84,\n",
       " 'particular': 85,\n",
       " 'sub-galácticas': 86,\n",
       " 'acho': 87,\n",
       " 'duvido': 88,\n",
       " 'companhia': 89,\n",
       " 'indistintamente': 90,\n",
       " 'pensava': 91,\n",
       " 'limite': 92,\n",
       " 'pálidos': 93,\n",
       " 'procura': 94,\n",
       " 'pilhas': 95,\n",
       " 'sentiríamos': 96,\n",
       " 'lados': 97,\n",
       " 'mas': 98,\n",
       " 'eternidade': 99,\n",
       " 'chacoalhá-los': 100,\n",
       " 'elevado': 101,\n",
       " '100': 102,\n",
       " 'líquido': 103,\n",
       " 'boca': 104,\n",
       " 'origem': 105,\n",
       " 'intervalo': 106,\n",
       " 'colocar': 107,\n",
       " 'linhas': 108,\n",
       " 'sabe': 109,\n",
       " 'próprio': 110,\n",
       " 'integrado': 111,\n",
       " 'esta': 112,\n",
       " 'bisneto': 113,\n",
       " 'porção': 114,\n",
       " 'dados': 115,\n",
       " 'fração': 116,\n",
       " 'certeza': 117,\n",
       " 'cubos': 118,\n",
       " 'antigo': 119,\n",
       " 'complexo': 120,\n",
       " 'juventude': 121,\n",
       " 'anos': 122,\n",
       " 'apenas': 123,\n",
       " 'tempo': 124,\n",
       " 'paisagem': 125,\n",
       " 'punhado': 126,\n",
       " 'essência': 127,\n",
       " 'ouviu': 128,\n",
       " 'quero': 129,\n",
       " 'aquietá-las.': 130,\n",
       " 'filamentos': 131,\n",
       " 'dessas': 132,\n",
       " 'ligava-se': 133,\n",
       " 'desaparecendo': 134,\n",
       " 'receptor': 135,\n",
       " 'mundo': 136,\n",
       " 'humanidade': 137,\n",
       " 'diabos': 138,\n",
       " 'melodiosa': 139,\n",
       " 'wun': 140,\n",
       " 'nas': 141,\n",
       " 'jerrodette': 142,\n",
       " 'mundos': 143,\n",
       " 'deve': 144,\n",
       " 'modo': 145,\n",
       " 'técnico': 146,\n",
       " 'três': 147,\n",
       " 'entre': 148,\n",
       " 'meus': 149,\n",
       " 'trajetórias': 150,\n",
       " 'movida': 151,\n",
       " 'tornou-se': 152,\n",
       " 'boa': 153,\n",
       " 'cósmico.': 154,\n",
       " 'gigante': 155,\n",
       " 'existe': 156,\n",
       " 'consigo': 157,\n",
       " 'quiséssemos': 158,\n",
       " 'posso': 159,\n",
       " 'acontecimento': 160,\n",
       " 'necessidades': 161,\n",
       " '.': 162,\n",
       " 'conhecido': 163,\n",
       " 'fez': 164,\n",
       " 'quatro': 165,\n",
       " 'bom': 166,\n",
       " 'berço': 167,\n",
       " 'assustados': 168,\n",
       " 'urânio': 169,\n",
       " 'agir': 170,\n",
       " 'dois': 171,\n",
       " 'por': 172,\n",
       " 'consome': 173,\n",
       " 'deixar': 174,\n",
       " 'foi': 175,\n",
       " 'daquela': 176,\n",
       " 'embaixo': 177,\n",
       " 'estiverem': 178,\n",
       " 'faziam': 179,\n",
       " 'àquela': 180,\n",
       " ':': 181,\n",
       " 'máximo': 182,\n",
       " 'mentes': 183,\n",
       " 'campo': 184,\n",
       " 'muitos': 185,\n",
       " 'nível': 186,\n",
       " 'quantidade': 187,\n",
       " 'nisso': 188,\n",
       " 'fundir-se': 189,\n",
       " 'daquele': 190,\n",
       " 'recursos': 191,\n",
       " 'pensando.': 192,\n",
       " 'alcançou': 193,\n",
       " 'permitiram': 194,\n",
       " 'fazia-se': 195,\n",
       " 'logo': 196,\n",
       " 'terminar': 197,\n",
       " 'talvez': 198,\n",
       " 'acumulou': 199,\n",
       " 'desajeitadas': 200,\n",
       " 'tristeza': 201,\n",
       " 'destes': 202,\n",
       " 'segredo': 203,\n",
       " 'eternamente': 204,\n",
       " 'será': 205,\n",
       " 'derreter': 206,\n",
       " 'sóbrio': 207,\n",
       " 'abriga-se': 208,\n",
       " 'incomodá-lo': 209,\n",
       " 'problemas': 210,\n",
       " 'mergulhou': 211,\n",
       " 'conectado': 212,\n",
       " 'produz': 213,\n",
       " 'foram': 214,\n",
       " 'transporte': 215,\n",
       " 'empreendimento': 216,\n",
       " 'raros': 217,\n",
       " 'velho': 218,\n",
       " 'partir': 219,\n",
       " 'morrer': 220,\n",
       " 'benéfico': 221,\n",
       " 'após': 222,\n",
       " 'fizeram': 223,\n",
       " 'galáctico': 224,\n",
       " 'está': 225,\n",
       " 'inteiro': 226,\n",
       " 'personagem': 227,\n",
       " 'algum': 228,\n",
       " 'pedaço': 229,\n",
       " 'experimentado': 230,\n",
       " 'qualquer': 231,\n",
       " 'momentos': 232,\n",
       " 'pequena': 233,\n",
       " 'plutão': 234,\n",
       " 'submésons': 235,\n",
       " 'parte': 236,\n",
       " 'planetas': 237,\n",
       " 'capturada': 238,\n",
       " 'terão': 239,\n",
       " 'desconhecido': 240,\n",
       " 'seus': 241,\n",
       " 'imerso': 242,\n",
       " 'dedicado': 243,\n",
       " 'aumentar': 244,\n",
       " 'função': 245,\n",
       " 'multidão': 246,\n",
       " 'pára': 247,\n",
       " 'humanos': 248,\n",
       " 'altos': 249,\n",
       " 'gole': 250,\n",
       " 'peso': 251,\n",
       " 'imortalidade': 252,\n",
       " 'parece-me': 253,\n",
       " 'metálica': 254,\n",
       " 'venha': 255,\n",
       " 'poderá': 256,\n",
       " 'construir': 257,\n",
       " 'faltem': 258,\n",
       " 'olhou': 259,\n",
       " 'difícil': 260,\n",
       " 'definição': 261,\n",
       " 'significavam': 262,\n",
       " 'surpreso': 263,\n",
       " '2061': 264,\n",
       " 'mal': 265,\n",
       " 'povoado.': 266,\n",
       " 'únicos': 267,\n",
       " 'prontamente': 268,\n",
       " 'mesa': 269,\n",
       " 'pouco.': 270,\n",
       " 'haverá': 271,\n",
       " 'verdade': 272,\n",
       " 'neste': 273,\n",
       " 'gelo': 274,\n",
       " 'movimentou': 275,\n",
       " 'duram': 276,\n",
       " 'sorriso': 277,\n",
       " 'pensaria': 278,\n",
       " 'abastecer-se': 279,\n",
       " 'ambos': 280,\n",
       " 'palavra': 281,\n",
       " 'lançou': 282,\n",
       " 'finalmente': 283,\n",
       " 'é': 284,\n",
       " 'ia': 285,\n",
       " 'estiver': 286,\n",
       " 'perguntou': 287,\n",
       " 'afinal': 288,\n",
       " 'milhão': 289,\n",
       " 'recuperá-la': 290,\n",
       " 'momento': 291,\n",
       " 'aposto': 292,\n",
       " 'acerca': 293,\n",
       " 'chamou': 294,\n",
       " 'novos': 295,\n",
       " 'revertida': 296,\n",
       " 'hidrogênio': 297,\n",
       " 'cercava-os': 298,\n",
       " 'tem': 299,\n",
       " 'traduziam': 300,\n",
       " 'respiração': 301,\n",
       " 'claro': 302,\n",
       " 'curioso.': 303,\n",
       " 'tomar-lhe': 304,\n",
       " 'pareciam': 305,\n",
       " 'afigurava': 306,\n",
       " 'milhões': 307,\n",
       " 'distante': 308,\n",
       " 'pergunta': 309,\n",
       " 'sala': 310,\n",
       " 'encheremos': 311,\n",
       " 'estes': 312,\n",
       " 'tubo': 313,\n",
       " 'luminosa': 314,\n",
       " 'muitas': 315,\n",
       " 'serão': 316,\n",
       " 'onde': 317,\n",
       " 'energia': 318,\n",
       " 'brotou': 319,\n",
       " 'solucionou': 320,\n",
       " 'costas': 321,\n",
       " 'olhar': 322,\n",
       " 'esplendoroso': 323,\n",
       " 'outras': 324,\n",
       " 'murmurou': 325,\n",
       " 'mármore': 326,\n",
       " 'expandiu': 327,\n",
       " 'feito': 328,\n",
       " 'década': 329,\n",
       " 'morte': 330,\n",
       " 'meio': 331,\n",
       " 'definições': 332,\n",
       " 'emendando': 333,\n",
       " 'tão': 334,\n",
       " 'precisavam': 335,\n",
       " 'nasceu': 336,\n",
       " 'ter': 337,\n",
       " 'rápido': 338,\n",
       " 'presentes': 339,\n",
       " 'desafio': 340,\n",
       " 'existiam': 341,\n",
       " 'transistores': 342,\n",
       " 'fornecer': 343,\n",
       " 'alimentavam': 344,\n",
       " 'realizar': 345,\n",
       " 'vamos': 346,\n",
       " 'tenha': 347,\n",
       " 'perplexo': 348,\n",
       " 'porções': 349,\n",
       " 'ajudar.': 350,\n",
       " 'depois': 351,\n",
       " 'significativa.': 352,\n",
       " 'espera': 353,\n",
       " 'orbitando': 354,\n",
       " 'superficialmente': 355,\n",
       " 'de': 356,\n",
       " ')': 357,\n",
       " 'bilhão': 358,\n",
       " 'tínhamos': 359,\n",
       " 'automatic': 360,\n",
       " 'rarefeita': 361,\n",
       " 'explorava': 362,\n",
       " 'certo': 363,\n",
       " 'eternamente.': 364,\n",
       " 'ficassem': 365,\n",
       " 'estarão': 366,\n",
       " 'fundiu-se': 367,\n",
       " 'olhos': 368,\n",
       " 'bert.': 369,\n",
       " 'exploração': 370,\n",
       " 'vizinha': 371,\n",
       " 'lado': 372,\n",
       " 'longa': 373,\n",
       " 'simplesmente': 374,\n",
       " 'nada': 375,\n",
       " 'estará': 376,\n",
       " 'veio': 377,\n",
       " 'abriram': 378,\n",
       " 'plano': 379,\n",
       " 'toda': 380,\n",
       " 'suficiente': 381,\n",
       " 'perda': 382,\n",
       " 'sabemos': 383,\n",
       " 'resultado': 384,\n",
       " 'risadas': 385,\n",
       " 'eram': 386,\n",
       " 'nos': 387,\n",
       " 'alavanca': 388,\n",
       " 'explosão': 389,\n",
       " 'cuidadosamente': 390,\n",
       " 'atenção': 391,\n",
       " 'apaguem.': 392,\n",
       " 'pessimista': 393,\n",
       " 'reverter': 394,\n",
       " 'ninguém': 395,\n",
       " 'árvores': 396,\n",
       " 'estrela': 397,\n",
       " 'deste': 398,\n",
       " 'fundo': 399,\n",
       " 'quem': 400,\n",
       " 'transbordando': 401,\n",
       " 'opacas': 402,\n",
       " 'ora': 403,\n",
       " 'soltou-se': 404,\n",
       " 'zee': 405,\n",
       " 'através': 406,\n",
       " 'dizer': 407,\n",
       " 'ver': 408,\n",
       " 'eles.': 409,\n",
       " 'menos': 410,\n",
       " 'haver': 411,\n",
       " 'jerrodete': 412,\n",
       " 'pararam': 413,\n",
       " 'dedo': 414,\n",
       " 'como': 415,\n",
       " 'computador': 416,\n",
       " 'levar': 417,\n",
       " 'morrendo': 418,\n",
       " 'além': 419,\n",
       " 'respostas': 420,\n",
       " 'primeira': 421,\n",
       " 'direito': 422,\n",
       " 'vê-la': 423,\n",
       " 'dias': 424,\n",
       " 'apesar': 425,\n",
       " 'delas': 426,\n",
       " 'ajustava-se': 427,\n",
       " 'grupo': 428,\n",
       " 'ritmo': 429,\n",
       " 'pessoal': 430,\n",
       " 'procurá-los': 431,\n",
       " ',': 432,\n",
       " 'matéria': 433,\n",
       " 'pessoas': 434,\n",
       " 'feito.': 435,\n",
       " 'pré-estabelecido': 436,\n",
       " 'cósmica': 437,\n",
       " 'imensurável': 438,\n",
       " 'usinas': 439,\n",
       " 'espesso': 440,\n",
       " 'incorruptíveis': 441,\n",
       " 'fim.': 442,\n",
       " 'negro': 443,\n",
       " 'encontrar-se': 444,\n",
       " 'suponho': 445,\n",
       " 'emaranhados': 446,\n",
       " 'correlacionados': 447,\n",
       " 'gota': 448,\n",
       " 'robozinho': 449,\n",
       " 'centralizada': 450,\n",
       " 'eventualmente': 451,\n",
       " 'aconteça': 452,\n",
       " 'glória': 453,\n",
       " 'precisaremos': 454,\n",
       " 'levá-la': 455,\n",
       " 'cheguei': 456,\n",
       " 'aguardar.': 457,\n",
       " 'lameth': 458,\n",
       " 'apagar': 459,\n",
       " 'ano.': 460,\n",
       " 'viagem': 461,\n",
       " 'movimentar': 462,\n",
       " 'quantos': 463,\n",
       " 'pilhas.': 464,\n",
       " 'conseguiria': 465,\n",
       " 'chamados': 466,\n",
       " 'entender': 467,\n",
       " 'fornecidas': 468,\n",
       " 'original': 469,\n",
       " 'relaxar': 470,\n",
       " 'desapontado': 471,\n",
       " 'metade': 472,\n",
       " 'apreciavam': 473,\n",
       " 'encher': 474,\n",
       " 'levou': 475,\n",
       " 'confortáveis': 476,\n",
       " 'dissipava': 477,\n",
       " 'poeira': 478,\n",
       " 'juntas': 479,\n",
       " 'comprimento': 480,\n",
       " 'físico': 481,\n",
       " 'disponível': 482,\n",
       " 'saltos': 483,\n",
       " 'diminuir': 484,\n",
       " 'igualmente': 485,\n",
       " 'acabadas': 486,\n",
       " 'sim': 487,\n",
       " 'espaço': 488,\n",
       " 'maneira': 489,\n",
       " 'bêbado': 490,\n",
       " 'estas': 491,\n",
       " 'podemos': 492,\n",
       " 'idade': 493,\n",
       " 'moleculares': 494,\n",
       " 'irão': 495,\n",
       " 'eles': 496,\n",
       " 'etéreos': 497,\n",
       " 'acelerada': 498,\n",
       " 'havia': 499,\n",
       " 'feixes': 500,\n",
       " 'conseguir': 501,\n",
       " 'enviar': 502,\n",
       " 'vaga': 503,\n",
       " 'sensação': 504,\n",
       " 'era': 505,\n",
       " 'teoria': 506,\n",
       " 'processo': 507,\n",
       " 'história': 508,\n",
       " 'perguntar': 509,\n",
       " 'entendi': 510,\n",
       " 'fissões': 511,\n",
       " 'sub': 512,\n",
       " 'sentiu': 513,\n",
       " 'bilhões': 514,\n",
       " 'incrivelmente': 515,\n",
       " 'esvaindo-se': 516,\n",
       " 'incontáveis': 517,\n",
       " 'construídas': 518,\n",
       " 'direção': 519,\n",
       " 'volta': 520,\n",
       " '–': 521,\n",
       " ';': 522,\n",
       " 'permanecem': 523,\n",
       " 'desde': 524,\n",
       " 'longas': 525,\n",
       " 'lembrar': 526,\n",
       " 'pouco': 527,\n",
       " 'apresentar': 528,\n",
       " 'carvão': 529,\n",
       " 'luzes': 530,\n",
       " 'abarrotar': 531,\n",
       " 'no': 532,\n",
       " 'cruzar': 533,\n",
       " 'verdadeira': 534,\n",
       " 'durante': 535,\n",
       " 'chegar': 536,\n",
       " 'acabado': 537,\n",
       " 'alguém': 538,\n",
       " 'fosse': 539,\n",
       " 'identidade': 540,\n",
       " 'em': 541,\n",
       " 'implementadas': 542,\n",
       " 'cheia': 543,\n",
       " 'mim': 544,\n",
       " 'estrelas': 545,\n",
       " 'haviam': 546,\n",
       " 'drink': 547,\n",
       " 'nascerem': 548,\n",
       " 'respondeu': 549,\n",
       " 'hesitei': 550,\n",
       " 'dez': 551,\n",
       " 'pergunta.': 552,\n",
       " 'maior': 553,\n",
       " 'benção': 554,\n",
       " 'quantas': 555,\n",
       " 'descaso': 556,\n",
       " 'abrigava': 557,\n",
       " 'largo': 558,\n",
       " 'quando': 559,\n",
       " 'lotada': 560,\n",
       " 'devem': 561,\n",
       " 'pode': 562,\n",
       " 'poucos': 563,\n",
       " 'olhando': 564,\n",
       " 'consistiam-se': 565,\n",
       " 'dizia': 566,\n",
       " 'viviam': 567,\n",
       " 'acordo': 568,\n",
       " 'projetar': 569,\n",
       " 'ocupando': 570,\n",
       " 'graça': 571,\n",
       " 'cúbicas': 572,\n",
       " '”': 573,\n",
       " 'impressas': 574,\n",
       " 'apertaram': 575,\n",
       " 'lhe': 576,\n",
       " 'chegamos': 577,\n",
       " 'cessaram': 578,\n",
       " 'passava': 579,\n",
       " 'pequeno': 580,\n",
       " 'operações': 581,\n",
       " 'milhar': 582,\n",
       " 'servia': 583,\n",
       " 'um': 584,\n",
       " 'primitivo': 585,\n",
       " 'ano': 586,\n",
       " 'feliz': 587,\n",
       " 'planetária': 588,\n",
       " 'força': 589,\n",
       " 'turbilhões': 590,\n",
       " 'interesse': 591,\n",
       " 'chamam': 592,\n",
       " 'tomou': 593,\n",
       " 'ficou': 594,\n",
       " 'solar': 595,\n",
       " 'concebíveis': 596,\n",
       " 'torna': 597,\n",
       " 'partiremos': 598,\n",
       " 'dólares': 599,\n",
       " 'ouvimos': 600,\n",
       " 'devíamos': 601,\n",
       " 'relatório': 602,\n",
       " 'tomaria': 603,\n",
       " 'imortais': 604,\n",
       " 'companheiro': 605,\n",
       " 'observava': 606,\n",
       " 'dele': 607,\n",
       " 'combustível': 608,\n",
       " 'geométrica': 609,\n",
       " 'infinidade': 610,\n",
       " 'curiosidade': 611,\n",
       " 'deixava': 612,\n",
       " 'transformar': 613,\n",
       " 'descansar': 614,\n",
       " 'eficiência': 615,\n",
       " '*': 616,\n",
       " 'momentânea': 617,\n",
       " 'esfumaçados': 618,\n",
       " 'satisfeito': 619,\n",
       " 'correr': 620,\n",
       " 'velocidade': 621,\n",
       " 'esse': 622,\n",
       " 'baixo': 623,\n",
       " 'vinte': 624,\n",
       " 'colete': 625,\n",
       " 'centenas': 626,\n",
       " 'estavam': 627,\n",
       " 'arcaico': 628,\n",
       " 'resposta': 629,\n",
       " 'fez-se': 630,\n",
       " 'voz': 631,\n",
       " 'passou': 632,\n",
       " 'naves': 633,\n",
       " 'corpos': 634,\n",
       " 'proporções.': 635,\n",
       " 'termos': 636,\n",
       " 'alegremente': 637,\n",
       " 'das': 638,\n",
       " 'tantos': 639,\n",
       " 'fusão': 640,\n",
       " 'silenciassem': 641,\n",
       " 'controlada': 642,\n",
       " 'segurar': 643,\n",
       " 'preocupem': 644,\n",
       " 'tridimensional': 645,\n",
       " 'fraco': 646,\n",
       " 'derradeira': 647,\n",
       " 'velhas': 648,\n",
       " 'demanda': 649,\n",
       " 'estações': 650,\n",
       " 'gentil': 651,\n",
       " 'acender': 652,\n",
       " 'reservas': 653,\n",
       " 'homem': 654,\n",
       " 'ac': 655,\n",
       " 'volume': 656,\n",
       " 'pausa': 657,\n",
       " 'cuidados': 658,\n",
       " 'pensamentos': 659,\n",
       " 'deixou': 660,\n",
       " 'pés': 661,\n",
       " 'encolhessem': 662,\n",
       " 'entanto': 663,\n",
       " 'assentava': 664,\n",
       " 'solitário': 665,\n",
       " 'precisávamos': 666,\n",
       " 'bastante': 667,\n",
       " 'calmamente': 668,\n",
       " 'coletar': 669,\n",
       " 'abandonar': 670,\n",
       " 'os': 671,\n",
       " 'tomado': 672,\n",
       " 'deu': 673,\n",
       " 'pensar': 674,\n",
       " 'nenhum': 675,\n",
       " 'cama': 676,\n",
       " 'eu': 677,\n",
       " 'aguardar': 678,\n",
       " 'girando': 679,\n",
       " 'extremamente': 680,\n",
       " 'resultantes': 681,\n",
       " 'material': 682,\n",
       " 'destruídas': 683,\n",
       " 'tudo.': 684,\n",
       " 'habitava': 685,\n",
       " 'título': 686,\n",
       " 'da': 687,\n",
       " 'proporção': 688,\n",
       " 'negros': 689,\n",
       " 'questão.': 690,\n",
       " 'prime': 691,\n",
       " 'insolúvel': 692,\n",
       " 'gás': 693,\n",
       " 'mental': 694,\n",
       " 'fios': 695,\n",
       " 'operavam': 696,\n",
       " 'multivac': 697,\n",
       " 'infinito': 698,\n",
       " 'programa': 699,\n",
       " 'poupada': 700,\n",
       " 'precisamos': 701,\n",
       " 'milhas': 702,\n",
       " 'incrível': 703,\n",
       " 'geral': 704,\n",
       " 'corpo': 705,\n",
       " 'agitava': 706,\n",
       " 'aconchegante': 707,\n",
       " 'não': 708,\n",
       " 'corre': 709,\n",
       " 'você.': 710,\n",
       " 'parcos': 711,\n",
       " 'unidades': 712,\n",
       " 'resto': 713,\n",
       " 'querida': 714,\n",
       " 'tinham': 715,\n",
       " 'limitados': 716,\n",
       " 'aprender': 717,\n",
       " 'respondida': 718,\n",
       " 'várias': 719,\n",
       " 'dar': 720,\n",
       " 'semelhanças': 721,\n",
       " 'estava': 722,\n",
       " 'disse': 723,\n",
       " 'fizera': 724,\n",
       " 'protuberância': 725,\n",
       " 'mq-17j': 726,\n",
       " 'existir': 727,\n",
       " 'públicas': 728,\n",
       " 'sou': 729,\n",
       " 'ondas': 730,\n",
       " 'ponto': 731,\n",
       " 'ocupado': 732,\n",
       " 'e': 733,\n",
       " 'idéia': 734,\n",
       " 'frente': 735,\n",
       " 'planetários': 736,\n",
       " 'vá': 737,\n",
       " 'uma': 738,\n",
       " 'forma': 739,\n",
       " 'recebido': 740,\n",
       " 'dentro': 741,\n",
       " 'outro': 742,\n",
       " 'luz': 743,\n",
       " 'viram': 744,\n",
       " '%': 745,\n",
       " 'tempo.': 746,\n",
       " 'acontecia': 747,\n",
       " 'natural': 748,\n",
       " 'lua': 749,\n",
       " 'aquela': 750,\n",
       " 'câmaras': 751,\n",
       " 'tornavam-se': 752,\n",
       " 'nosso': 753,\n",
       " 'fizesse': 754,\n",
       " 'único': 755,\n",
       " 'guardava': 756,\n",
       " 'homem.': 757,\n",
       " 'acompanhara': 758,\n",
       " 'espaços': 759,\n",
       " 'pensando': 760,\n",
       " 'escala': 761,\n",
       " 'chuva': 762,\n",
       " 'mãos': 763,\n",
       " 'permaneçam': 764,\n",
       " 'carcaça': 765,\n",
       " 'símbolos': 766,\n",
       " 'autômatos': 767,\n",
       " 'coisas': 768,\n",
       " 'nossa': 769,\n",
       " 'real': 770,\n",
       " 'famílias': 771,\n",
       " 'necessárias': 772,\n",
       " '“': 773,\n",
       " 'navegou': 774,\n",
       " 'cabelo': 775,\n",
       " 'remoto': 776,\n",
       " 'antigos': 777,\n",
       " 'sentido': 778,\n",
       " 'procurar': 779,\n",
       " 'predescessores': 780,\n",
       " 'vezes': 781,\n",
       " 'essa': 782,\n",
       " 'pontos': 783,\n",
       " 'rosto': 784,\n",
       " 'do': 785,\n",
       " 'faziam-se': 786,\n",
       " 'escuridão': 787,\n",
       " 'lupov': 788,\n",
       " 'ir': 789,\n",
       " 'alexander': 790,\n",
       " 'diferente.': 791,\n",
       " 'trazido': 792,\n",
       " 'retornaram': 793,\n",
       " 'tom': 794,\n",
       " 'podem': 795,\n",
       " 'convertida': 796,\n",
       " 'semelhante': 797,\n",
       " 'adell': 798,\n",
       " 'estalos': 799,\n",
       " 'sentiu-se': 800,\n",
       " 'diante': 801,\n",
       " 'qual': 802,\n",
       " 'ainda': 803,\n",
       " 'existem': 804,\n",
       " 'intenção': 805,\n",
       " 'período': 806,\n",
       " 'estão': 807,\n",
       " 'tanto': 808,\n",
       " 'enxergar': 809,\n",
       " 'praticamente': 810,\n",
       " 'circunstâncias': 811,\n",
       " 'interestelar': 812,\n",
       " 'cinco': 813,\n",
       " 'sem': 814,\n",
       " 'décadas': 815,\n",
       " 'porque': 816,\n",
       " 'trilhão': 817,\n",
       " 'suficientes': 818,\n",
       " 'quaisquer': 819,\n",
       " 'maio': 820,\n",
       " 'difusos': 821,\n",
       " 'distância': 822,\n",
       " 'lábios': 823,\n",
       " 'descobriu': 824,\n",
       " 'chorar': 825,\n",
       " 'tampouco': 826,\n",
       " 'fazê-lo': 827,\n",
       " 'anãs': 828,\n",
       " 'jeito': 829,\n",
       " 'concebíveis.': 830,\n",
       " 'maciça': 831,\n",
       " 'pai': 832,\n",
       " 'gigantes': 833,\n",
       " 'raios': 834,\n",
       " 'absoluto': 835,\n",
       " 'todos.': 836,\n",
       " 'você': 837,\n",
       " 'bela': 838,\n",
       " 'todo': 839,\n",
       " 'faça-se': 840,\n",
       " 'individual': 841,\n",
       " 'quer': 842,\n",
       " 'responder': 843,\n",
       " 'crescente': 844,\n",
       " 'paralisou': 845,\n",
       " '21': 846,\n",
       " 'contrariar': 847,\n",
       " 'assistentes': 848,\n",
       " 'trocar': 849,\n",
       " 'vida': 850,\n",
       " 'bagagem': 851,\n",
       " 'marte': 852,\n",
       " 'expandido': 853,\n",
       " 'colapso': 854,\n",
       " 'sempre': 855,\n",
       " 'passado': 856,\n",
       " 'precisa': 857,\n",
       " 'ele': 858,\n",
       " 'fim': 859,\n",
       " 'incorruptível': 860,\n",
       " 'calor': 861,\n",
       " 'preocupação': 862,\n",
       " 'negativo': 863,\n",
       " 'cruzados': 864,\n",
       " 'brancas': 865,\n",
       " 'tinha': 866,\n",
       " 'contando': 867,\n",
       " 'tontura': 868,\n",
       " 'outra.': 869,\n",
       " 'homens': 870,\n",
       " 'terra': 871,\n",
       " 'profundas': 872,\n",
       " 'pigarreou': 873,\n",
       " 'sólido': 874,\n",
       " 'cósmico': 875,\n",
       " 'possamos': 876,\n",
       " 'escolhido': 877,\n",
       " '!': 878,\n",
       " 'até': 879,\n",
       " 'dê': 880,\n",
       " 'viável': 881,\n",
       " 'sequer': 882,\n",
       " 'insuficientes': 883,\n",
       " 'bertram': 884,\n",
       " 'parar': 885,\n",
       " 'abrigar': 886,\n",
       " 'novas': 887,\n",
       " 'viagens': 888,\n",
       " 'máximo.': 889,\n",
       " 'tornou': 890,\n",
       " 'simples': 891,\n",
       " 'ah': 892,\n",
       " 'agora': 893,\n",
       " 'possível': 894,\n",
       " 'passagem': 895,\n",
       " 'já': 896,\n",
       " 'gigantesco': 897,\n",
       " 'obtidos': 898,\n",
       " 'tenho': 899,\n",
       " 'escapar': 900,\n",
       " 'agite-os': 901,\n",
       " 'molhada': 902,\n",
       " 'trate': 903,\n",
       " 'mantendo': 904,\n",
       " 'circuitos': 905,\n",
       " 'ficariam': 906,\n",
       " 'agradecer': 907,\n",
       " 'ou': 908,\n",
       " 'trilhões': 909,\n",
       " 'morto': 910,\n",
       " 'conscientes': 911,\n",
       " 'sozinho': 912,\n",
       " 'progressão': 913,\n",
       " 'começaram': 914,\n",
       " 'energética': 915,\n",
       " 'feita': 916,\n",
       " 'transformassem': 917,\n",
       " 'ficaram': 918,\n",
       " 'expansão': 919,\n",
       " 'apagariam': 920,\n",
       " 'continuar': 921,\n",
       " 'penetrado': 922,\n",
       " 'alimentava': 923,\n",
       " 'iguais.': 924,\n",
       " 'interrompeu': 925,\n",
       " 'algumas': 926,\n",
       " 'sido': 927,\n",
       " 'manhã': 928,\n",
       " 'brilhantes': 929,\n",
       " 'destino': 930,\n",
       " 'sobre': 931,\n",
       " 'preocuparmos': 932,\n",
       " 'posta': 933,\n",
       " 'estar': 934,\n",
       " 'vou': 935,\n",
       " 'vidas': 936,\n",
       " 'úmidos': 937,\n",
       " 'funções': 938,\n",
       " 'reflexiva': 939,\n",
       " 'teremos': 940,\n",
       " 'esbanjadoras': 941,\n",
       " 'entrou': 942,\n",
       " 'abarcou': 943,\n",
       " 'vinham': 944,\n",
       " 'fria': 945,\n",
       " 'precisava': 946,\n",
       " 'pálidas': 947,\n",
       " 'infinitamente': 948,\n",
       " 'colidirse': 949,\n",
       " 'reduzido': 950,\n",
       " 'duas': 951,\n",
       " 'então': 952,\n",
       " 'colocou': 953,\n",
       " 'técnicos': 954,\n",
       " 'coleta': 955,\n",
       " 'enredar': 956,\n",
       " 'estamos': 957,\n",
       " 'quietas': 958,\n",
       " 'expandiu-se': 959,\n",
       " 'raça': 960,\n",
       " 'acredita': 961,\n",
       " 'voltar': 962,\n",
       " 'i': 963,\n",
       " 'utilizada': 964,\n",
       " 'observando': 965,\n",
       " 'hiperespaço': 966,\n",
       " 'reconstituir': 967,\n",
       " 'milha': 968,\n",
       " 'pontilhavam': 969,\n",
       " 'consumava-se': 970,\n",
       " 'apagam': 971,\n",
       " 'deus': 972,\n",
       " '(': 973,\n",
       " 'vez': 974,\n",
       " 'uniu-se': 975,\n",
       " 'tonto': 976,\n",
       " 'estaremos': 977,\n",
       " 'pequenas': 978,\n",
       " 'acaba': 979,\n",
       " 'são': 980,\n",
       " 'erguido': 981,\n",
       " 'sucessor': 982,\n",
       " 'apagarem': 983,\n",
       " 'desertas': 984,\n",
       " 'precisar': 985,\n",
       " 'preocupar.': 986,\n",
       " 'insuficientes.': 987,\n",
       " 'negra': 988,\n",
       " 'tudo': 989,\n",
       " 'brilhante': 990,\n",
       " 'mãe': 991,\n",
       " 'sutil': 992,\n",
       " 'mostrou': 993,\n",
       " 'muito': 994,\n",
       " 'teto': 995,\n",
       " 'desengonçados': 996,\n",
       " 'aos': 997,\n",
       " 'atividade': 998,\n",
       " 'todos': 999,\n",
       " ...}"
      ]
     },
     "execution_count": 24,
     "metadata": {},
     "output_type": "execute_result"
    }
   ],
   "source": [
    "# Dicionário para mapear as palavras aos índices\n",
    "palavra_indice = {palavra: i for i, palavra in enumerate(vocab)}\n",
    "palavra_indice"
   ]
  },
  {
   "cell_type": "code",
   "execution_count": 25,
   "metadata": {},
   "outputs": [
    {
     "data": {
      "text/plain": [
       "{0: 'quadradas',\n",
       " 1: 'seres',\n",
       " 2: 'me',\n",
       " 3: 'estação',\n",
       " 4: 'seguros',\n",
       " 5: 'apontou',\n",
       " 6: 'morrendo.',\n",
       " 7: 'teve',\n",
       " 8: 'cujo',\n",
       " 9: 'máquina',\n",
       " 10: 'ficaremos',\n",
       " 11: 'lembravam',\n",
       " 12: 'tamanho',\n",
       " 13: 'ótima',\n",
       " 14: 'exemplo',\n",
       " 15: 'serviu',\n",
       " 16: 'poderoso',\n",
       " 17: 'anjinhos',\n",
       " 18: 'oceano',\n",
       " 19: 'singular',\n",
       " 20: 'possuía',\n",
       " 21: 'tipo',\n",
       " 22: 'confidência',\n",
       " 23: 'sei',\n",
       " 24: 'fecharam',\n",
       " 25: 'significativa',\n",
       " 26: 'início',\n",
       " 27: 'apagaram',\n",
       " 28: 'presença',\n",
       " 29: 'imprima',\n",
       " 30: 'assegurar',\n",
       " 31: 'computadores',\n",
       " 32: 'começando',\n",
       " 33: 'solucionadas',\n",
       " 34: 'mais',\n",
       " 35: 'inglês',\n",
       " 36: 'galáxia',\n",
       " 37: 'melhor',\n",
       " 38: 'iriam.',\n",
       " 39: 'quanto',\n",
       " 40: 'peça',\n",
       " 41: 'adiar',\n",
       " 42: 'sozinha',\n",
       " 43: 'nossos',\n",
       " 44: 'acabaram',\n",
       " 45: 'for',\n",
       " 46: 'fixou',\n",
       " 47: 'mesmo',\n",
       " 48: 'admito',\n",
       " 49: 'virtualmente',\n",
       " 50: 'ligar',\n",
       " 51: 'erguiam-se',\n",
       " 52: 'lentamente',\n",
       " 53: 'tido',\n",
       " 54: 'isso',\n",
       " 55: 'embriagado',\n",
       " 56: 'pelo',\n",
       " 57: 'descansando',\n",
       " 58: 'tenham',\n",
       " 59: 'subutilizado',\n",
       " 60: 'válvulas',\n",
       " 61: 'espécie',\n",
       " 62: 'diâmetro',\n",
       " 63: 'lá',\n",
       " 64: 'abaixo',\n",
       " 65: 'conseguiam',\n",
       " 66: 'fulgurante',\n",
       " 67: 'zero',\n",
       " 68: 'realmente',\n",
       " 69: 'duzentos',\n",
       " 70: 'informações',\n",
       " 71: 'tentar',\n",
       " 72: 'fica',\n",
       " 73: 'desperdiçada',\n",
       " 74: 'inquiriu',\n",
       " 75: 'finas',\n",
       " 76: 'perguntas',\n",
       " 77: 'entropia',\n",
       " 78: 'perfeitos',\n",
       " 79: 'paradigma',\n",
       " 80: 'dignidade',\n",
       " 81: 'computação',\n",
       " 82: 'nadando',\n",
       " 83: 'certamente',\n",
       " 84: 'anos…',\n",
       " 85: 'particular',\n",
       " 86: 'sub-galácticas',\n",
       " 87: 'acho',\n",
       " 88: 'duvido',\n",
       " 89: 'companhia',\n",
       " 90: 'indistintamente',\n",
       " 91: 'pensava',\n",
       " 92: 'limite',\n",
       " 93: 'pálidos',\n",
       " 94: 'procura',\n",
       " 95: 'pilhas',\n",
       " 96: 'sentiríamos',\n",
       " 97: 'lados',\n",
       " 98: 'mas',\n",
       " 99: 'eternidade',\n",
       " 100: 'chacoalhá-los',\n",
       " 101: 'elevado',\n",
       " 102: '100',\n",
       " 103: 'líquido',\n",
       " 104: 'boca',\n",
       " 105: 'origem',\n",
       " 106: 'intervalo',\n",
       " 107: 'colocar',\n",
       " 108: 'linhas',\n",
       " 109: 'sabe',\n",
       " 110: 'próprio',\n",
       " 111: 'integrado',\n",
       " 112: 'esta',\n",
       " 113: 'bisneto',\n",
       " 114: 'porção',\n",
       " 115: 'dados',\n",
       " 116: 'fração',\n",
       " 117: 'certeza',\n",
       " 118: 'cubos',\n",
       " 119: 'antigo',\n",
       " 120: 'complexo',\n",
       " 121: 'juventude',\n",
       " 122: 'anos',\n",
       " 123: 'apenas',\n",
       " 124: 'tempo',\n",
       " 125: 'paisagem',\n",
       " 126: 'punhado',\n",
       " 127: 'essência',\n",
       " 128: 'ouviu',\n",
       " 129: 'quero',\n",
       " 130: 'aquietá-las.',\n",
       " 131: 'filamentos',\n",
       " 132: 'dessas',\n",
       " 133: 'ligava-se',\n",
       " 134: 'desaparecendo',\n",
       " 135: 'receptor',\n",
       " 136: 'mundo',\n",
       " 137: 'humanidade',\n",
       " 138: 'diabos',\n",
       " 139: 'melodiosa',\n",
       " 140: 'wun',\n",
       " 141: 'nas',\n",
       " 142: 'jerrodette',\n",
       " 143: 'mundos',\n",
       " 144: 'deve',\n",
       " 145: 'modo',\n",
       " 146: 'técnico',\n",
       " 147: 'três',\n",
       " 148: 'entre',\n",
       " 149: 'meus',\n",
       " 150: 'trajetórias',\n",
       " 151: 'movida',\n",
       " 152: 'tornou-se',\n",
       " 153: 'boa',\n",
       " 154: 'cósmico.',\n",
       " 155: 'gigante',\n",
       " 156: 'existe',\n",
       " 157: 'consigo',\n",
       " 158: 'quiséssemos',\n",
       " 159: 'posso',\n",
       " 160: 'acontecimento',\n",
       " 161: 'necessidades',\n",
       " 162: '.',\n",
       " 163: 'conhecido',\n",
       " 164: 'fez',\n",
       " 165: 'quatro',\n",
       " 166: 'bom',\n",
       " 167: 'berço',\n",
       " 168: 'assustados',\n",
       " 169: 'urânio',\n",
       " 170: 'agir',\n",
       " 171: 'dois',\n",
       " 172: 'por',\n",
       " 173: 'consome',\n",
       " 174: 'deixar',\n",
       " 175: 'foi',\n",
       " 176: 'daquela',\n",
       " 177: 'embaixo',\n",
       " 178: 'estiverem',\n",
       " 179: 'faziam',\n",
       " 180: 'àquela',\n",
       " 181: ':',\n",
       " 182: 'máximo',\n",
       " 183: 'mentes',\n",
       " 184: 'campo',\n",
       " 185: 'muitos',\n",
       " 186: 'nível',\n",
       " 187: 'quantidade',\n",
       " 188: 'nisso',\n",
       " 189: 'fundir-se',\n",
       " 190: 'daquele',\n",
       " 191: 'recursos',\n",
       " 192: 'pensando.',\n",
       " 193: 'alcançou',\n",
       " 194: 'permitiram',\n",
       " 195: 'fazia-se',\n",
       " 196: 'logo',\n",
       " 197: 'terminar',\n",
       " 198: 'talvez',\n",
       " 199: 'acumulou',\n",
       " 200: 'desajeitadas',\n",
       " 201: 'tristeza',\n",
       " 202: 'destes',\n",
       " 203: 'segredo',\n",
       " 204: 'eternamente',\n",
       " 205: 'será',\n",
       " 206: 'derreter',\n",
       " 207: 'sóbrio',\n",
       " 208: 'abriga-se',\n",
       " 209: 'incomodá-lo',\n",
       " 210: 'problemas',\n",
       " 211: 'mergulhou',\n",
       " 212: 'conectado',\n",
       " 213: 'produz',\n",
       " 214: 'foram',\n",
       " 215: 'transporte',\n",
       " 216: 'empreendimento',\n",
       " 217: 'raros',\n",
       " 218: 'velho',\n",
       " 219: 'partir',\n",
       " 220: 'morrer',\n",
       " 221: 'benéfico',\n",
       " 222: 'após',\n",
       " 223: 'fizeram',\n",
       " 224: 'galáctico',\n",
       " 225: 'está',\n",
       " 226: 'inteiro',\n",
       " 227: 'personagem',\n",
       " 228: 'algum',\n",
       " 229: 'pedaço',\n",
       " 230: 'experimentado',\n",
       " 231: 'qualquer',\n",
       " 232: 'momentos',\n",
       " 233: 'pequena',\n",
       " 234: 'plutão',\n",
       " 235: 'submésons',\n",
       " 236: 'parte',\n",
       " 237: 'planetas',\n",
       " 238: 'capturada',\n",
       " 239: 'terão',\n",
       " 240: 'desconhecido',\n",
       " 241: 'seus',\n",
       " 242: 'imerso',\n",
       " 243: 'dedicado',\n",
       " 244: 'aumentar',\n",
       " 245: 'função',\n",
       " 246: 'multidão',\n",
       " 247: 'pára',\n",
       " 248: 'humanos',\n",
       " 249: 'altos',\n",
       " 250: 'gole',\n",
       " 251: 'peso',\n",
       " 252: 'imortalidade',\n",
       " 253: 'parece-me',\n",
       " 254: 'metálica',\n",
       " 255: 'venha',\n",
       " 256: 'poderá',\n",
       " 257: 'construir',\n",
       " 258: 'faltem',\n",
       " 259: 'olhou',\n",
       " 260: 'difícil',\n",
       " 261: 'definição',\n",
       " 262: 'significavam',\n",
       " 263: 'surpreso',\n",
       " 264: '2061',\n",
       " 265: 'mal',\n",
       " 266: 'povoado.',\n",
       " 267: 'únicos',\n",
       " 268: 'prontamente',\n",
       " 269: 'mesa',\n",
       " 270: 'pouco.',\n",
       " 271: 'haverá',\n",
       " 272: 'verdade',\n",
       " 273: 'neste',\n",
       " 274: 'gelo',\n",
       " 275: 'movimentou',\n",
       " 276: 'duram',\n",
       " 277: 'sorriso',\n",
       " 278: 'pensaria',\n",
       " 279: 'abastecer-se',\n",
       " 280: 'ambos',\n",
       " 281: 'palavra',\n",
       " 282: 'lançou',\n",
       " 283: 'finalmente',\n",
       " 284: 'é',\n",
       " 285: 'ia',\n",
       " 286: 'estiver',\n",
       " 287: 'perguntou',\n",
       " 288: 'afinal',\n",
       " 289: 'milhão',\n",
       " 290: 'recuperá-la',\n",
       " 291: 'momento',\n",
       " 292: 'aposto',\n",
       " 293: 'acerca',\n",
       " 294: 'chamou',\n",
       " 295: 'novos',\n",
       " 296: 'revertida',\n",
       " 297: 'hidrogênio',\n",
       " 298: 'cercava-os',\n",
       " 299: 'tem',\n",
       " 300: 'traduziam',\n",
       " 301: 'respiração',\n",
       " 302: 'claro',\n",
       " 303: 'curioso.',\n",
       " 304: 'tomar-lhe',\n",
       " 305: 'pareciam',\n",
       " 306: 'afigurava',\n",
       " 307: 'milhões',\n",
       " 308: 'distante',\n",
       " 309: 'pergunta',\n",
       " 310: 'sala',\n",
       " 311: 'encheremos',\n",
       " 312: 'estes',\n",
       " 313: 'tubo',\n",
       " 314: 'luminosa',\n",
       " 315: 'muitas',\n",
       " 316: 'serão',\n",
       " 317: 'onde',\n",
       " 318: 'energia',\n",
       " 319: 'brotou',\n",
       " 320: 'solucionou',\n",
       " 321: 'costas',\n",
       " 322: 'olhar',\n",
       " 323: 'esplendoroso',\n",
       " 324: 'outras',\n",
       " 325: 'murmurou',\n",
       " 326: 'mármore',\n",
       " 327: 'expandiu',\n",
       " 328: 'feito',\n",
       " 329: 'década',\n",
       " 330: 'morte',\n",
       " 331: 'meio',\n",
       " 332: 'definições',\n",
       " 333: 'emendando',\n",
       " 334: 'tão',\n",
       " 335: 'precisavam',\n",
       " 336: 'nasceu',\n",
       " 337: 'ter',\n",
       " 338: 'rápido',\n",
       " 339: 'presentes',\n",
       " 340: 'desafio',\n",
       " 341: 'existiam',\n",
       " 342: 'transistores',\n",
       " 343: 'fornecer',\n",
       " 344: 'alimentavam',\n",
       " 345: 'realizar',\n",
       " 346: 'vamos',\n",
       " 347: 'tenha',\n",
       " 348: 'perplexo',\n",
       " 349: 'porções',\n",
       " 350: 'ajudar.',\n",
       " 351: 'depois',\n",
       " 352: 'significativa.',\n",
       " 353: 'espera',\n",
       " 354: 'orbitando',\n",
       " 355: 'superficialmente',\n",
       " 356: 'de',\n",
       " 357: ')',\n",
       " 358: 'bilhão',\n",
       " 359: 'tínhamos',\n",
       " 360: 'automatic',\n",
       " 361: 'rarefeita',\n",
       " 362: 'explorava',\n",
       " 363: 'certo',\n",
       " 364: 'eternamente.',\n",
       " 365: 'ficassem',\n",
       " 366: 'estarão',\n",
       " 367: 'fundiu-se',\n",
       " 368: 'olhos',\n",
       " 369: 'bert.',\n",
       " 370: 'exploração',\n",
       " 371: 'vizinha',\n",
       " 372: 'lado',\n",
       " 373: 'longa',\n",
       " 374: 'simplesmente',\n",
       " 375: 'nada',\n",
       " 376: 'estará',\n",
       " 377: 'veio',\n",
       " 378: 'abriram',\n",
       " 379: 'plano',\n",
       " 380: 'toda',\n",
       " 381: 'suficiente',\n",
       " 382: 'perda',\n",
       " 383: 'sabemos',\n",
       " 384: 'resultado',\n",
       " 385: 'risadas',\n",
       " 386: 'eram',\n",
       " 387: 'nos',\n",
       " 388: 'alavanca',\n",
       " 389: 'explosão',\n",
       " 390: 'cuidadosamente',\n",
       " 391: 'atenção',\n",
       " 392: 'apaguem.',\n",
       " 393: 'pessimista',\n",
       " 394: 'reverter',\n",
       " 395: 'ninguém',\n",
       " 396: 'árvores',\n",
       " 397: 'estrela',\n",
       " 398: 'deste',\n",
       " 399: 'fundo',\n",
       " 400: 'quem',\n",
       " 401: 'transbordando',\n",
       " 402: 'opacas',\n",
       " 403: 'ora',\n",
       " 404: 'soltou-se',\n",
       " 405: 'zee',\n",
       " 406: 'através',\n",
       " 407: 'dizer',\n",
       " 408: 'ver',\n",
       " 409: 'eles.',\n",
       " 410: 'menos',\n",
       " 411: 'haver',\n",
       " 412: 'jerrodete',\n",
       " 413: 'pararam',\n",
       " 414: 'dedo',\n",
       " 415: 'como',\n",
       " 416: 'computador',\n",
       " 417: 'levar',\n",
       " 418: 'morrendo',\n",
       " 419: 'além',\n",
       " 420: 'respostas',\n",
       " 421: 'primeira',\n",
       " 422: 'direito',\n",
       " 423: 'vê-la',\n",
       " 424: 'dias',\n",
       " 425: 'apesar',\n",
       " 426: 'delas',\n",
       " 427: 'ajustava-se',\n",
       " 428: 'grupo',\n",
       " 429: 'ritmo',\n",
       " 430: 'pessoal',\n",
       " 431: 'procurá-los',\n",
       " 432: ',',\n",
       " 433: 'matéria',\n",
       " 434: 'pessoas',\n",
       " 435: 'feito.',\n",
       " 436: 'pré-estabelecido',\n",
       " 437: 'cósmica',\n",
       " 438: 'imensurável',\n",
       " 439: 'usinas',\n",
       " 440: 'espesso',\n",
       " 441: 'incorruptíveis',\n",
       " 442: 'fim.',\n",
       " 443: 'negro',\n",
       " 444: 'encontrar-se',\n",
       " 445: 'suponho',\n",
       " 446: 'emaranhados',\n",
       " 447: 'correlacionados',\n",
       " 448: 'gota',\n",
       " 449: 'robozinho',\n",
       " 450: 'centralizada',\n",
       " 451: 'eventualmente',\n",
       " 452: 'aconteça',\n",
       " 453: 'glória',\n",
       " 454: 'precisaremos',\n",
       " 455: 'levá-la',\n",
       " 456: 'cheguei',\n",
       " 457: 'aguardar.',\n",
       " 458: 'lameth',\n",
       " 459: 'apagar',\n",
       " 460: 'ano.',\n",
       " 461: 'viagem',\n",
       " 462: 'movimentar',\n",
       " 463: 'quantos',\n",
       " 464: 'pilhas.',\n",
       " 465: 'conseguiria',\n",
       " 466: 'chamados',\n",
       " 467: 'entender',\n",
       " 468: 'fornecidas',\n",
       " 469: 'original',\n",
       " 470: 'relaxar',\n",
       " 471: 'desapontado',\n",
       " 472: 'metade',\n",
       " 473: 'apreciavam',\n",
       " 474: 'encher',\n",
       " 475: 'levou',\n",
       " 476: 'confortáveis',\n",
       " 477: 'dissipava',\n",
       " 478: 'poeira',\n",
       " 479: 'juntas',\n",
       " 480: 'comprimento',\n",
       " 481: 'físico',\n",
       " 482: 'disponível',\n",
       " 483: 'saltos',\n",
       " 484: 'diminuir',\n",
       " 485: 'igualmente',\n",
       " 486: 'acabadas',\n",
       " 487: 'sim',\n",
       " 488: 'espaço',\n",
       " 489: 'maneira',\n",
       " 490: 'bêbado',\n",
       " 491: 'estas',\n",
       " 492: 'podemos',\n",
       " 493: 'idade',\n",
       " 494: 'moleculares',\n",
       " 495: 'irão',\n",
       " 496: 'eles',\n",
       " 497: 'etéreos',\n",
       " 498: 'acelerada',\n",
       " 499: 'havia',\n",
       " 500: 'feixes',\n",
       " 501: 'conseguir',\n",
       " 502: 'enviar',\n",
       " 503: 'vaga',\n",
       " 504: 'sensação',\n",
       " 505: 'era',\n",
       " 506: 'teoria',\n",
       " 507: 'processo',\n",
       " 508: 'história',\n",
       " 509: 'perguntar',\n",
       " 510: 'entendi',\n",
       " 511: 'fissões',\n",
       " 512: 'sub',\n",
       " 513: 'sentiu',\n",
       " 514: 'bilhões',\n",
       " 515: 'incrivelmente',\n",
       " 516: 'esvaindo-se',\n",
       " 517: 'incontáveis',\n",
       " 518: 'construídas',\n",
       " 519: 'direção',\n",
       " 520: 'volta',\n",
       " 521: '–',\n",
       " 522: ';',\n",
       " 523: 'permanecem',\n",
       " 524: 'desde',\n",
       " 525: 'longas',\n",
       " 526: 'lembrar',\n",
       " 527: 'pouco',\n",
       " 528: 'apresentar',\n",
       " 529: 'carvão',\n",
       " 530: 'luzes',\n",
       " 531: 'abarrotar',\n",
       " 532: 'no',\n",
       " 533: 'cruzar',\n",
       " 534: 'verdadeira',\n",
       " 535: 'durante',\n",
       " 536: 'chegar',\n",
       " 537: 'acabado',\n",
       " 538: 'alguém',\n",
       " 539: 'fosse',\n",
       " 540: 'identidade',\n",
       " 541: 'em',\n",
       " 542: 'implementadas',\n",
       " 543: 'cheia',\n",
       " 544: 'mim',\n",
       " 545: 'estrelas',\n",
       " 546: 'haviam',\n",
       " 547: 'drink',\n",
       " 548: 'nascerem',\n",
       " 549: 'respondeu',\n",
       " 550: 'hesitei',\n",
       " 551: 'dez',\n",
       " 552: 'pergunta.',\n",
       " 553: 'maior',\n",
       " 554: 'benção',\n",
       " 555: 'quantas',\n",
       " 556: 'descaso',\n",
       " 557: 'abrigava',\n",
       " 558: 'largo',\n",
       " 559: 'quando',\n",
       " 560: 'lotada',\n",
       " 561: 'devem',\n",
       " 562: 'pode',\n",
       " 563: 'poucos',\n",
       " 564: 'olhando',\n",
       " 565: 'consistiam-se',\n",
       " 566: 'dizia',\n",
       " 567: 'viviam',\n",
       " 568: 'acordo',\n",
       " 569: 'projetar',\n",
       " 570: 'ocupando',\n",
       " 571: 'graça',\n",
       " 572: 'cúbicas',\n",
       " 573: '”',\n",
       " 574: 'impressas',\n",
       " 575: 'apertaram',\n",
       " 576: 'lhe',\n",
       " 577: 'chegamos',\n",
       " 578: 'cessaram',\n",
       " 579: 'passava',\n",
       " 580: 'pequeno',\n",
       " 581: 'operações',\n",
       " 582: 'milhar',\n",
       " 583: 'servia',\n",
       " 584: 'um',\n",
       " 585: 'primitivo',\n",
       " 586: 'ano',\n",
       " 587: 'feliz',\n",
       " 588: 'planetária',\n",
       " 589: 'força',\n",
       " 590: 'turbilhões',\n",
       " 591: 'interesse',\n",
       " 592: 'chamam',\n",
       " 593: 'tomou',\n",
       " 594: 'ficou',\n",
       " 595: 'solar',\n",
       " 596: 'concebíveis',\n",
       " 597: 'torna',\n",
       " 598: 'partiremos',\n",
       " 599: 'dólares',\n",
       " 600: 'ouvimos',\n",
       " 601: 'devíamos',\n",
       " 602: 'relatório',\n",
       " 603: 'tomaria',\n",
       " 604: 'imortais',\n",
       " 605: 'companheiro',\n",
       " 606: 'observava',\n",
       " 607: 'dele',\n",
       " 608: 'combustível',\n",
       " 609: 'geométrica',\n",
       " 610: 'infinidade',\n",
       " 611: 'curiosidade',\n",
       " 612: 'deixava',\n",
       " 613: 'transformar',\n",
       " 614: 'descansar',\n",
       " 615: 'eficiência',\n",
       " 616: '*',\n",
       " 617: 'momentânea',\n",
       " 618: 'esfumaçados',\n",
       " 619: 'satisfeito',\n",
       " 620: 'correr',\n",
       " 621: 'velocidade',\n",
       " 622: 'esse',\n",
       " 623: 'baixo',\n",
       " 624: 'vinte',\n",
       " 625: 'colete',\n",
       " 626: 'centenas',\n",
       " 627: 'estavam',\n",
       " 628: 'arcaico',\n",
       " 629: 'resposta',\n",
       " 630: 'fez-se',\n",
       " 631: 'voz',\n",
       " 632: 'passou',\n",
       " 633: 'naves',\n",
       " 634: 'corpos',\n",
       " 635: 'proporções.',\n",
       " 636: 'termos',\n",
       " 637: 'alegremente',\n",
       " 638: 'das',\n",
       " 639: 'tantos',\n",
       " 640: 'fusão',\n",
       " 641: 'silenciassem',\n",
       " 642: 'controlada',\n",
       " 643: 'segurar',\n",
       " 644: 'preocupem',\n",
       " 645: 'tridimensional',\n",
       " 646: 'fraco',\n",
       " 647: 'derradeira',\n",
       " 648: 'velhas',\n",
       " 649: 'demanda',\n",
       " 650: 'estações',\n",
       " 651: 'gentil',\n",
       " 652: 'acender',\n",
       " 653: 'reservas',\n",
       " 654: 'homem',\n",
       " 655: 'ac',\n",
       " 656: 'volume',\n",
       " 657: 'pausa',\n",
       " 658: 'cuidados',\n",
       " 659: 'pensamentos',\n",
       " 660: 'deixou',\n",
       " 661: 'pés',\n",
       " 662: 'encolhessem',\n",
       " 663: 'entanto',\n",
       " 664: 'assentava',\n",
       " 665: 'solitário',\n",
       " 666: 'precisávamos',\n",
       " 667: 'bastante',\n",
       " 668: 'calmamente',\n",
       " 669: 'coletar',\n",
       " 670: 'abandonar',\n",
       " 671: 'os',\n",
       " 672: 'tomado',\n",
       " 673: 'deu',\n",
       " 674: 'pensar',\n",
       " 675: 'nenhum',\n",
       " 676: 'cama',\n",
       " 677: 'eu',\n",
       " 678: 'aguardar',\n",
       " 679: 'girando',\n",
       " 680: 'extremamente',\n",
       " 681: 'resultantes',\n",
       " 682: 'material',\n",
       " 683: 'destruídas',\n",
       " 684: 'tudo.',\n",
       " 685: 'habitava',\n",
       " 686: 'título',\n",
       " 687: 'da',\n",
       " 688: 'proporção',\n",
       " 689: 'negros',\n",
       " 690: 'questão.',\n",
       " 691: 'prime',\n",
       " 692: 'insolúvel',\n",
       " 693: 'gás',\n",
       " 694: 'mental',\n",
       " 695: 'fios',\n",
       " 696: 'operavam',\n",
       " 697: 'multivac',\n",
       " 698: 'infinito',\n",
       " 699: 'programa',\n",
       " 700: 'poupada',\n",
       " 701: 'precisamos',\n",
       " 702: 'milhas',\n",
       " 703: 'incrível',\n",
       " 704: 'geral',\n",
       " 705: 'corpo',\n",
       " 706: 'agitava',\n",
       " 707: 'aconchegante',\n",
       " 708: 'não',\n",
       " 709: 'corre',\n",
       " 710: 'você.',\n",
       " 711: 'parcos',\n",
       " 712: 'unidades',\n",
       " 713: 'resto',\n",
       " 714: 'querida',\n",
       " 715: 'tinham',\n",
       " 716: 'limitados',\n",
       " 717: 'aprender',\n",
       " 718: 'respondida',\n",
       " 719: 'várias',\n",
       " 720: 'dar',\n",
       " 721: 'semelhanças',\n",
       " 722: 'estava',\n",
       " 723: 'disse',\n",
       " 724: 'fizera',\n",
       " 725: 'protuberância',\n",
       " 726: 'mq-17j',\n",
       " 727: 'existir',\n",
       " 728: 'públicas',\n",
       " 729: 'sou',\n",
       " 730: 'ondas',\n",
       " 731: 'ponto',\n",
       " 732: 'ocupado',\n",
       " 733: 'e',\n",
       " 734: 'idéia',\n",
       " 735: 'frente',\n",
       " 736: 'planetários',\n",
       " 737: 'vá',\n",
       " 738: 'uma',\n",
       " 739: 'forma',\n",
       " 740: 'recebido',\n",
       " 741: 'dentro',\n",
       " 742: 'outro',\n",
       " 743: 'luz',\n",
       " 744: 'viram',\n",
       " 745: '%',\n",
       " 746: 'tempo.',\n",
       " 747: 'acontecia',\n",
       " 748: 'natural',\n",
       " 749: 'lua',\n",
       " 750: 'aquela',\n",
       " 751: 'câmaras',\n",
       " 752: 'tornavam-se',\n",
       " 753: 'nosso',\n",
       " 754: 'fizesse',\n",
       " 755: 'único',\n",
       " 756: 'guardava',\n",
       " 757: 'homem.',\n",
       " 758: 'acompanhara',\n",
       " 759: 'espaços',\n",
       " 760: 'pensando',\n",
       " 761: 'escala',\n",
       " 762: 'chuva',\n",
       " 763: 'mãos',\n",
       " 764: 'permaneçam',\n",
       " 765: 'carcaça',\n",
       " 766: 'símbolos',\n",
       " 767: 'autômatos',\n",
       " 768: 'coisas',\n",
       " 769: 'nossa',\n",
       " 770: 'real',\n",
       " 771: 'famílias',\n",
       " 772: 'necessárias',\n",
       " 773: '“',\n",
       " 774: 'navegou',\n",
       " 775: 'cabelo',\n",
       " 776: 'remoto',\n",
       " 777: 'antigos',\n",
       " 778: 'sentido',\n",
       " 779: 'procurar',\n",
       " 780: 'predescessores',\n",
       " 781: 'vezes',\n",
       " 782: 'essa',\n",
       " 783: 'pontos',\n",
       " 784: 'rosto',\n",
       " 785: 'do',\n",
       " 786: 'faziam-se',\n",
       " 787: 'escuridão',\n",
       " 788: 'lupov',\n",
       " 789: 'ir',\n",
       " 790: 'alexander',\n",
       " 791: 'diferente.',\n",
       " 792: 'trazido',\n",
       " 793: 'retornaram',\n",
       " 794: 'tom',\n",
       " 795: 'podem',\n",
       " 796: 'convertida',\n",
       " 797: 'semelhante',\n",
       " 798: 'adell',\n",
       " 799: 'estalos',\n",
       " 800: 'sentiu-se',\n",
       " 801: 'diante',\n",
       " 802: 'qual',\n",
       " 803: 'ainda',\n",
       " 804: 'existem',\n",
       " 805: 'intenção',\n",
       " 806: 'período',\n",
       " 807: 'estão',\n",
       " 808: 'tanto',\n",
       " 809: 'enxergar',\n",
       " 810: 'praticamente',\n",
       " 811: 'circunstâncias',\n",
       " 812: 'interestelar',\n",
       " 813: 'cinco',\n",
       " 814: 'sem',\n",
       " 815: 'décadas',\n",
       " 816: 'porque',\n",
       " 817: 'trilhão',\n",
       " 818: 'suficientes',\n",
       " 819: 'quaisquer',\n",
       " 820: 'maio',\n",
       " 821: 'difusos',\n",
       " 822: 'distância',\n",
       " 823: 'lábios',\n",
       " 824: 'descobriu',\n",
       " 825: 'chorar',\n",
       " 826: 'tampouco',\n",
       " 827: 'fazê-lo',\n",
       " 828: 'anãs',\n",
       " 829: 'jeito',\n",
       " 830: 'concebíveis.',\n",
       " 831: 'maciça',\n",
       " 832: 'pai',\n",
       " 833: 'gigantes',\n",
       " 834: 'raios',\n",
       " 835: 'absoluto',\n",
       " 836: 'todos.',\n",
       " 837: 'você',\n",
       " 838: 'bela',\n",
       " 839: 'todo',\n",
       " 840: 'faça-se',\n",
       " 841: 'individual',\n",
       " 842: 'quer',\n",
       " 843: 'responder',\n",
       " 844: 'crescente',\n",
       " 845: 'paralisou',\n",
       " 846: '21',\n",
       " 847: 'contrariar',\n",
       " 848: 'assistentes',\n",
       " 849: 'trocar',\n",
       " 850: 'vida',\n",
       " 851: 'bagagem',\n",
       " 852: 'marte',\n",
       " 853: 'expandido',\n",
       " 854: 'colapso',\n",
       " 855: 'sempre',\n",
       " 856: 'passado',\n",
       " 857: 'precisa',\n",
       " 858: 'ele',\n",
       " 859: 'fim',\n",
       " 860: 'incorruptível',\n",
       " 861: 'calor',\n",
       " 862: 'preocupação',\n",
       " 863: 'negativo',\n",
       " 864: 'cruzados',\n",
       " 865: 'brancas',\n",
       " 866: 'tinha',\n",
       " 867: 'contando',\n",
       " 868: 'tontura',\n",
       " 869: 'outra.',\n",
       " 870: 'homens',\n",
       " 871: 'terra',\n",
       " 872: 'profundas',\n",
       " 873: 'pigarreou',\n",
       " 874: 'sólido',\n",
       " 875: 'cósmico',\n",
       " 876: 'possamos',\n",
       " 877: 'escolhido',\n",
       " 878: '!',\n",
       " 879: 'até',\n",
       " 880: 'dê',\n",
       " 881: 'viável',\n",
       " 882: 'sequer',\n",
       " 883: 'insuficientes',\n",
       " 884: 'bertram',\n",
       " 885: 'parar',\n",
       " 886: 'abrigar',\n",
       " 887: 'novas',\n",
       " 888: 'viagens',\n",
       " 889: 'máximo.',\n",
       " 890: 'tornou',\n",
       " 891: 'simples',\n",
       " 892: 'ah',\n",
       " 893: 'agora',\n",
       " 894: 'possível',\n",
       " 895: 'passagem',\n",
       " 896: 'já',\n",
       " 897: 'gigantesco',\n",
       " 898: 'obtidos',\n",
       " 899: 'tenho',\n",
       " 900: 'escapar',\n",
       " 901: 'agite-os',\n",
       " 902: 'molhada',\n",
       " 903: 'trate',\n",
       " 904: 'mantendo',\n",
       " 905: 'circuitos',\n",
       " 906: 'ficariam',\n",
       " 907: 'agradecer',\n",
       " 908: 'ou',\n",
       " 909: 'trilhões',\n",
       " 910: 'morto',\n",
       " 911: 'conscientes',\n",
       " 912: 'sozinho',\n",
       " 913: 'progressão',\n",
       " 914: 'começaram',\n",
       " 915: 'energética',\n",
       " 916: 'feita',\n",
       " 917: 'transformassem',\n",
       " 918: 'ficaram',\n",
       " 919: 'expansão',\n",
       " 920: 'apagariam',\n",
       " 921: 'continuar',\n",
       " 922: 'penetrado',\n",
       " 923: 'alimentava',\n",
       " 924: 'iguais.',\n",
       " 925: 'interrompeu',\n",
       " 926: 'algumas',\n",
       " 927: 'sido',\n",
       " 928: 'manhã',\n",
       " 929: 'brilhantes',\n",
       " 930: 'destino',\n",
       " 931: 'sobre',\n",
       " 932: 'preocuparmos',\n",
       " 933: 'posta',\n",
       " 934: 'estar',\n",
       " 935: 'vou',\n",
       " 936: 'vidas',\n",
       " 937: 'úmidos',\n",
       " 938: 'funções',\n",
       " 939: 'reflexiva',\n",
       " 940: 'teremos',\n",
       " 941: 'esbanjadoras',\n",
       " 942: 'entrou',\n",
       " 943: 'abarcou',\n",
       " 944: 'vinham',\n",
       " 945: 'fria',\n",
       " 946: 'precisava',\n",
       " 947: 'pálidas',\n",
       " 948: 'infinitamente',\n",
       " 949: 'colidirse',\n",
       " 950: 'reduzido',\n",
       " 951: 'duas',\n",
       " 952: 'então',\n",
       " 953: 'colocou',\n",
       " 954: 'técnicos',\n",
       " 955: 'coleta',\n",
       " 956: 'enredar',\n",
       " 957: 'estamos',\n",
       " 958: 'quietas',\n",
       " 959: 'expandiu-se',\n",
       " 960: 'raça',\n",
       " 961: 'acredita',\n",
       " 962: 'voltar',\n",
       " 963: 'i',\n",
       " 964: 'utilizada',\n",
       " 965: 'observando',\n",
       " 966: 'hiperespaço',\n",
       " 967: 'reconstituir',\n",
       " 968: 'milha',\n",
       " 969: 'pontilhavam',\n",
       " 970: 'consumava-se',\n",
       " 971: 'apagam',\n",
       " 972: 'deus',\n",
       " 973: '(',\n",
       " 974: 'vez',\n",
       " 975: 'uniu-se',\n",
       " 976: 'tonto',\n",
       " 977: 'estaremos',\n",
       " 978: 'pequenas',\n",
       " 979: 'acaba',\n",
       " 980: 'são',\n",
       " 981: 'erguido',\n",
       " 982: 'sucessor',\n",
       " 983: 'apagarem',\n",
       " 984: 'desertas',\n",
       " 985: 'precisar',\n",
       " 986: 'preocupar.',\n",
       " 987: 'insuficientes.',\n",
       " 988: 'negra',\n",
       " 989: 'tudo',\n",
       " 990: 'brilhante',\n",
       " 991: 'mãe',\n",
       " 992: 'sutil',\n",
       " 993: 'mostrou',\n",
       " 994: 'muito',\n",
       " 995: 'teto',\n",
       " 996: 'desengonçados',\n",
       " 997: 'aos',\n",
       " 998: 'atividade',\n",
       " 999: 'todos',\n",
       " ...}"
      ]
     },
     "execution_count": 25,
     "metadata": {},
     "output_type": "execute_result"
    }
   ],
   "source": [
    "# Dicionário para mapear os índices às palavras\n",
    "indice_palavra = {i: palavra for i, palavra in enumerate(vocab)}\n",
    "indice_palavra"
   ]
  },
  {
   "cell_type": "markdown",
   "metadata": {},
   "source": [
    "Salvo indicação em contrário, usamos um contexto de dez palavras à esquerda e dez palavras à direita."
   ]
  },
  {
   "cell_type": "code",
   "execution_count": 26,
   "metadata": {},
   "outputs": [
    {
     "data": {
      "text/plain": [
       "1397"
      ]
     },
     "execution_count": 26,
     "metadata": {},
     "output_type": "execute_result"
    }
   ],
   "source": [
    "vocab_size"
   ]
  },
  {
   "cell_type": "code",
   "execution_count": 29,
   "metadata": {},
   "outputs": [],
   "source": [
    "# Tamanho do contexto\n",
    "CONTEXT_SIZE = 10"
   ]
  },
  {
   "cell_type": "code",
   "execution_count": 30,
   "metadata": {},
   "outputs": [
    {
     "data": {
      "text/plain": [
       "array([[0., 0., 0., ..., 0., 0., 0.],\n",
       "       [0., 0., 0., ..., 0., 0., 0.],\n",
       "       [0., 0., 0., ..., 0., 0., 0.],\n",
       "       ...,\n",
       "       [0., 0., 0., ..., 0., 0., 0.],\n",
       "       [0., 0., 0., ..., 0., 0., 0.],\n",
       "       [0., 0., 0., ..., 0., 0., 0.]])"
      ]
     },
     "execution_count": 30,
     "metadata": {},
     "output_type": "execute_result"
    }
   ],
   "source": [
    "# Matriz de co-ocorrência preenchida com zeros\n",
    "co_occ_mat = np.zeros((vocab_size, vocab_size))\n",
    "co_occ_mat"
   ]
  },
  {
   "cell_type": "markdown",
   "metadata": {},
   "source": [
    "Agora percorremos os dicionários de mapeamento criados anteriormente e preenchemos a matriz de co-ocorrência."
   ]
  },
  {
   "cell_type": "code",
   "execution_count": 31,
   "metadata": {},
   "outputs": [],
   "source": [
    "# Loop externo por todo comprimento do vocabulário\n",
    "for i in range(comp_tokens):\n",
    "    \n",
    "    # Loop interno pelo tamanho do contexto\n",
    "    for dist in range(1, CONTEXT_SIZE + 1):\n",
    "        \n",
    "        # Obtém o índice do token\n",
    "        ix = palavra_indice[texto_token[i]]\n",
    "        \n",
    "        # Se a palara estiver à esquerda, inserimos à esquerda na matriz de co-ocorrência\n",
    "        if i - dist > 0:\n",
    "            left_ix = palavra_indice[texto_token[i - dist]]\n",
    "            co_occ_mat[ix, left_ix] += 1.0 / dist\n",
    "            \n",
    "        # Se a palara estiver à direita, inserimos à direita na matriz de co-ocorrência\n",
    "        if i + dist < len(texto_token):\n",
    "            right_ix = palavra_indice[texto_token[i + dist]]\n",
    "            co_occ_mat[ix, right_ix] += 1.0 / dist"
   ]
  },
  {
   "cell_type": "code",
   "execution_count": 32,
   "metadata": {},
   "outputs": [
    {
     "data": {
      "text/plain": [
       "array([[0. , 0. , 0. , ..., 0. , 0. , 0. ],\n",
       "       [0. , 0. , 0. , ..., 0. , 0. , 0. ],\n",
       "       [0. , 0. , 0. , ..., 0. , 0. , 0. ],\n",
       "       ...,\n",
       "       [0. , 0. , 0. , ..., 0. , 0. , 0. ],\n",
       "       [0. , 0. , 0. , ..., 0. , 0. , 0. ],\n",
       "       [0. , 0. , 0. , ..., 0. , 0. , 0.4]])"
      ]
     },
     "execution_count": 32,
     "metadata": {},
     "output_type": "execute_result"
    }
   ],
   "source": [
    "# Matriz de co-ocorrência\n",
    "co_occ_mat"
   ]
  },
  {
   "cell_type": "code",
   "execution_count": 36,
   "metadata": {},
   "outputs": [
    {
     "data": {
      "text/plain": [
       "1397"
      ]
     },
     "execution_count": 36,
     "metadata": {},
     "output_type": "execute_result"
    }
   ],
   "source": [
    "len(co_occ_mat[1])"
   ]
  },
  {
   "cell_type": "code",
   "execution_count": 37,
   "metadata": {},
   "outputs": [
    {
     "data": {
      "text/plain": [
       "1397"
      ]
     },
     "execution_count": 37,
     "metadata": {},
     "output_type": "execute_result"
    }
   ],
   "source": [
    "len(co_occ_mat)"
   ]
  },
  {
   "cell_type": "code",
   "execution_count": 38,
   "metadata": {},
   "outputs": [],
   "source": [
    "# Transposta da matriz de co-ocorrências\n",
    "# Retorna um array 2-D com uma linha para cada elemento não-zero \n",
    "co_occs = np.transpose(np.nonzero(co_occ_mat))"
   ]
  },
  {
   "cell_type": "code",
   "execution_count": 41,
   "metadata": {},
   "outputs": [
    {
     "data": {
      "text/plain": [
       "array([[   0,   31],\n",
       "       [   0,  123],\n",
       "       [   0,  162],\n",
       "       ...,\n",
       "       [1396, 1269],\n",
       "       [1396, 1390],\n",
       "       [1396, 1396]], dtype=int64)"
      ]
     },
     "execution_count": 41,
     "metadata": {},
     "output_type": "execute_result"
    }
   ],
   "source": [
    "co_occs"
   ]
  },
  {
   "cell_type": "code",
   "execution_count": 42,
   "metadata": {},
   "outputs": [
    {
     "name": "stdout",
     "output_type": "stream",
     "text": [
      "Shape da Matriz de Co-Ocorrência: (1397, 1397)\n"
     ]
    }
   ],
   "source": [
    "# Print\n",
    "print(\"Shape da Matriz de Co-Ocorrência:\", co_occ_mat.shape)"
   ]
  },
  {
   "cell_type": "code",
   "execution_count": 43,
   "metadata": {},
   "outputs": [
    {
     "name": "stdout",
     "output_type": "stream",
     "text": [
      "Matriz de Co-Ocorrência Não-Zero:\n",
      " [[   0   31]\n",
      " [   0  123]\n",
      " [   0  162]\n",
      " ...\n",
      " [1396 1269]\n",
      " [1396 1390]\n",
      " [1396 1396]]\n"
     ]
    }
   ],
   "source": [
    "# Print\n",
    "print(\"Matriz de Co-Ocorrência Não-Zero:\\n\", co_occs)"
   ]
  },
  {
   "cell_type": "markdown",
   "metadata": {},
   "source": [
    "### Criando o Modelo"
   ]
  },
  {
   "cell_type": "code",
   "execution_count": 44,
   "metadata": {},
   "outputs": [],
   "source": [
    "# Tamanho da embedding\n",
    "EMBEDDING_SIZE = 50"
   ]
  },
  {
   "cell_type": "code",
   "execution_count": 46,
   "metadata": {},
   "outputs": [],
   "source": [
    "# Hiperparâmetros\n",
    "X_MAX = 100 # Frequencia maxima de ocorrencia, se exceder, o efeito da plavra é suavizado\n",
    "ALPHA = 0.75 # Ponderação GloVe. para freq menores q X_MAX, o alpha suaviza \n",
    "BATCH_SIZE = 32 # Quantidade de amostras process de uma só vez\n",
    "LEARNING_RATE = 0.05 # Tx de aprendizagem\n",
    "EPOCHS = 200 # Número de epocas, qtas vezes o modelo verá todo o cj de dados"
   ]
  },
  {
   "cell_type": "code",
   "execution_count": 47,
   "metadata": {},
   "outputs": [],
   "source": [
    "# Classe para o modelo\n",
    "class Glove(nn.Module):\n",
    "\n",
    "    # Método construtor\n",
    "    def __init__(self, vocab_size, comat, embedding_size, x_max, alpha):\n",
    "        super(Glove, self).__init__()\n",
    "        \n",
    "        # Matriz de embeddings com as palavras centrais\n",
    "        self.embedding_V = nn.Embedding(vocab_size, embedding_size)\n",
    "        \n",
    "        # Matriz de embeddings com as palavras de contexto\n",
    "        self.embedding_U = nn.Embedding(vocab_size, embedding_size)\n",
    "\n",
    "        # Bias\n",
    "        self.v_bias = nn.Embedding(vocab_size, 1)\n",
    "        self.u_bias = nn.Embedding(vocab_size, 1)\n",
    "        \n",
    "        # Inicializa os parâmtetros (pesos que a rede aprende durante o treinamento)\n",
    "        for params in self.parameters():\n",
    "            nn.init.uniform_(params, a = -0.5, b = 0.5)\n",
    "            \n",
    "        # Define os hiperparâmetros (que controlam o treinamento)\n",
    "        self.x_max = x_max\n",
    "        self.alpha = alpha\n",
    "        self.comat = comat\n",
    "    \n",
    "    # Função de forward\n",
    "    def forward(self, center_word_lookup, context_word_lookup):\n",
    "        \n",
    "        # Matrizes embedding de pesos para centro e contexto\n",
    "        center_embed = self.embedding_V(center_word_lookup)\n",
    "        target_embed = self.embedding_U(context_word_lookup)\n",
    "\n",
    "        # Matrizes embedding de bias para centro e contexto\n",
    "        center_bias = self.v_bias(center_word_lookup).squeeze(1)\n",
    "        target_bias = self.u_bias(context_word_lookup).squeeze(1)\n",
    "\n",
    "        # Elementos da matriz de co-ocorrência\n",
    "        co_occurrences = torch.tensor([self.comat[center_word_lookup[i].item(), context_word_lookup[i].item()]\n",
    "                                       for i in range(BATCH_SIZE)])\n",
    "        \n",
    "        # Carrega os pesos\n",
    "        weights = torch.tensor([self.weight_fn(var) for var in co_occurrences])\n",
    "\n",
    "        # Funçã de perda\n",
    "        loss = torch.sum(torch.pow((torch.sum(center_embed * target_embed, dim = 1)\n",
    "            + center_bias + target_bias) - torch.log(co_occurrences), 2) * weights)\n",
    "        \n",
    "        return loss\n",
    "       \n",
    "    # Definição do peso\n",
    "    def weight_fn(self, x):\n",
    "        if x < self.x_max:\n",
    "            return (x / self.x_max) ** self.alpha\n",
    "        return 1\n",
    "        \n",
    "    # Soma de V e U como nossos vetores de palavras\n",
    "    def embeddings(self):\n",
    "        return self.embedding_V.weight.data + self.embedding_U.weight.data"
   ]
  },
  {
   "cell_type": "code",
   "execution_count": 48,
   "metadata": {},
   "outputs": [],
   "source": [
    "# Função para gerar um bacth de palavras\n",
    "def gera_batch(model, batch_size = BATCH_SIZE):\n",
    "    \n",
    "    # Extrai uma amostra\n",
    "    sample = np.random.choice(np.arange(len(co_occs)), size = batch_size, replace = False)\n",
    "    \n",
    "    # Listas de vetores\n",
    "    v_vecs_ix, u_vecs_ix = [], []\n",
    "    \n",
    "    # Loop pela amostra para gerar os vetores\n",
    "    for chosen in sample:\n",
    "        ind = tuple(co_occs[chosen])  \n",
    "        \n",
    "        lookup_ix_v = ind[0]\n",
    "        lookup_ix_u = ind[1]\n",
    "        \n",
    "        v_vecs_ix.append(lookup_ix_v)\n",
    "        u_vecs_ix.append(lookup_ix_u) \n",
    "        \n",
    "    return torch.tensor(v_vecs_ix), torch.tensor(u_vecs_ix)"
   ]
  },
  {
   "cell_type": "markdown",
   "metadata": {},
   "source": [
    "### Treinamento do Modelo"
   ]
  },
  {
   "cell_type": "code",
   "execution_count": 49,
   "metadata": {},
   "outputs": [],
   "source": [
    "# Função para o treinamento\n",
    "def treina_glove(comat):\n",
    "    \n",
    "    # Lista para os erros\n",
    "    losses = []\n",
    "    \n",
    "    # Cria o modelo Glove\n",
    "    model = Glove(vocab_size, comat, embedding_size = EMBEDDING_SIZE, x_max = X_MAX, alpha = ALPHA)\n",
    "    \n",
    "    # Otimizador\n",
    "    optimizer = optim.Adagrad(model.parameters(), lr = LEARNING_RATE)\n",
    "    \n",
    "    # Loop pelo número de épocas\n",
    "    for epoch in range(EPOCHS):\n",
    "        \n",
    "        # Erro total\n",
    "        total_loss = 0\n",
    "        \n",
    "        # Número de bacthes\n",
    "        num_batches = int(len(texto_token) / BATCH_SIZE)\n",
    "        \n",
    "        # Loop pelos batches\n",
    "        for batch in tqdm(range(num_batches)):\n",
    "            \n",
    "            # Zera os gradientes do modelo\n",
    "            model.zero_grad()\n",
    "            \n",
    "            # Obtém o bacth de dados\n",
    "            data = gera_batch(model, BATCH_SIZE)\n",
    "            \n",
    "            # Calcula o erro\n",
    "            loss = model(*data)\n",
    "            \n",
    "            # Executa o backpropagation\n",
    "            loss.backward()\n",
    "            \n",
    "            # Otimiza os pesos (aqui é onde ocorre o aprendizado)\n",
    "            optimizer.step()\n",
    "            \n",
    "            # Erro total para a epoch\n",
    "            total_loss += loss.item()\n",
    "            \n",
    "        # Erros do modelo\n",
    "        losses.append(total_loss)\n",
    "        \n",
    "        # Print da epoch e erro médio do modelo\n",
    "        print('Epoch : %d, Erro Médio : %.02f' % (epoch, np.mean(losses)))\n",
    "        \n",
    "    return model, losses "
   ]
  },
  {
   "cell_type": "code",
   "execution_count": 50,
   "metadata": {},
   "outputs": [
    {
     "name": "stderr",
     "output_type": "stream",
     "text": [
      "100%|██████████| 165/165 [00:01<00:00, 159.33it/s]\n"
     ]
    },
    {
     "name": "stdout",
     "output_type": "stream",
     "text": [
      "Epoch : 0, Erro Médio : 205.04\n"
     ]
    },
    {
     "name": "stderr",
     "output_type": "stream",
     "text": [
      "100%|██████████| 165/165 [00:00<00:00, 170.98it/s]\n"
     ]
    },
    {
     "name": "stdout",
     "output_type": "stream",
     "text": [
      "Epoch : 1, Erro Médio : 197.71\n"
     ]
    },
    {
     "name": "stderr",
     "output_type": "stream",
     "text": [
      "100%|██████████| 165/165 [00:00<00:00, 194.69it/s]\n"
     ]
    },
    {
     "name": "stdout",
     "output_type": "stream",
     "text": [
      "Epoch : 2, Erro Médio : 187.58\n"
     ]
    },
    {
     "name": "stderr",
     "output_type": "stream",
     "text": [
      "100%|██████████| 165/165 [00:01<00:00, 154.51it/s]\n"
     ]
    },
    {
     "name": "stdout",
     "output_type": "stream",
     "text": [
      "Epoch : 3, Erro Médio : 180.94\n"
     ]
    },
    {
     "name": "stderr",
     "output_type": "stream",
     "text": [
      "100%|██████████| 165/165 [00:01<00:00, 145.93it/s]\n"
     ]
    },
    {
     "name": "stdout",
     "output_type": "stream",
     "text": [
      "Epoch : 4, Erro Médio : 178.31\n"
     ]
    },
    {
     "name": "stderr",
     "output_type": "stream",
     "text": [
      "100%|██████████| 165/165 [00:00<00:00, 193.05it/s]\n"
     ]
    },
    {
     "name": "stdout",
     "output_type": "stream",
     "text": [
      "Epoch : 5, Erro Médio : 172.33\n"
     ]
    },
    {
     "name": "stderr",
     "output_type": "stream",
     "text": [
      "100%|██████████| 165/165 [00:00<00:00, 195.68it/s]\n"
     ]
    },
    {
     "name": "stdout",
     "output_type": "stream",
     "text": [
      "Epoch : 6, Erro Médio : 168.20\n"
     ]
    },
    {
     "name": "stderr",
     "output_type": "stream",
     "text": [
      "100%|██████████| 165/165 [00:00<00:00, 186.05it/s]\n"
     ]
    },
    {
     "name": "stdout",
     "output_type": "stream",
     "text": [
      "Epoch : 7, Erro Médio : 162.78\n"
     ]
    },
    {
     "name": "stderr",
     "output_type": "stream",
     "text": [
      "100%|██████████| 165/165 [00:01<00:00, 140.16it/s]\n"
     ]
    },
    {
     "name": "stdout",
     "output_type": "stream",
     "text": [
      "Epoch : 8, Erro Médio : 159.75\n"
     ]
    },
    {
     "name": "stderr",
     "output_type": "stream",
     "text": [
      "100%|██████████| 165/165 [00:01<00:00, 137.94it/s]\n"
     ]
    },
    {
     "name": "stdout",
     "output_type": "stream",
     "text": [
      "Epoch : 9, Erro Médio : 153.73\n"
     ]
    },
    {
     "name": "stderr",
     "output_type": "stream",
     "text": [
      "100%|██████████| 165/165 [00:01<00:00, 143.40it/s]\n"
     ]
    },
    {
     "name": "stdout",
     "output_type": "stream",
     "text": [
      "Epoch : 10, Erro Médio : 149.37\n"
     ]
    },
    {
     "name": "stderr",
     "output_type": "stream",
     "text": [
      "100%|██████████| 165/165 [00:01<00:00, 133.06it/s]\n"
     ]
    },
    {
     "name": "stdout",
     "output_type": "stream",
     "text": [
      "Epoch : 11, Erro Médio : 144.43\n"
     ]
    },
    {
     "name": "stderr",
     "output_type": "stream",
     "text": [
      "100%|██████████| 165/165 [00:01<00:00, 131.58it/s]\n"
     ]
    },
    {
     "name": "stdout",
     "output_type": "stream",
     "text": [
      "Epoch : 12, Erro Médio : 139.60\n"
     ]
    },
    {
     "name": "stderr",
     "output_type": "stream",
     "text": [
      "100%|██████████| 165/165 [00:01<00:00, 108.72it/s]\n"
     ]
    },
    {
     "name": "stdout",
     "output_type": "stream",
     "text": [
      "Epoch : 13, Erro Médio : 135.78\n"
     ]
    },
    {
     "name": "stderr",
     "output_type": "stream",
     "text": [
      "100%|██████████| 165/165 [00:01<00:00, 123.34it/s]\n"
     ]
    },
    {
     "name": "stdout",
     "output_type": "stream",
     "text": [
      "Epoch : 14, Erro Médio : 132.53\n"
     ]
    },
    {
     "name": "stderr",
     "output_type": "stream",
     "text": [
      "100%|██████████| 165/165 [00:01<00:00, 153.05it/s]\n"
     ]
    },
    {
     "name": "stdout",
     "output_type": "stream",
     "text": [
      "Epoch : 15, Erro Médio : 129.28\n"
     ]
    },
    {
     "name": "stderr",
     "output_type": "stream",
     "text": [
      "100%|██████████| 165/165 [00:01<00:00, 118.83it/s]\n"
     ]
    },
    {
     "name": "stdout",
     "output_type": "stream",
     "text": [
      "Epoch : 16, Erro Médio : 126.93\n"
     ]
    },
    {
     "name": "stderr",
     "output_type": "stream",
     "text": [
      "100%|██████████| 165/165 [00:01<00:00, 120.77it/s]\n"
     ]
    },
    {
     "name": "stdout",
     "output_type": "stream",
     "text": [
      "Epoch : 17, Erro Médio : 123.88\n"
     ]
    },
    {
     "name": "stderr",
     "output_type": "stream",
     "text": [
      "100%|██████████| 165/165 [00:01<00:00, 151.31it/s]\n"
     ]
    },
    {
     "name": "stdout",
     "output_type": "stream",
     "text": [
      "Epoch : 18, Erro Médio : 121.14\n"
     ]
    },
    {
     "name": "stderr",
     "output_type": "stream",
     "text": [
      "100%|██████████| 165/165 [00:01<00:00, 158.57it/s]\n"
     ]
    },
    {
     "name": "stdout",
     "output_type": "stream",
     "text": [
      "Epoch : 19, Erro Médio : 118.91\n"
     ]
    },
    {
     "name": "stderr",
     "output_type": "stream",
     "text": [
      "100%|██████████| 165/165 [00:01<00:00, 138.15it/s]\n"
     ]
    },
    {
     "name": "stdout",
     "output_type": "stream",
     "text": [
      "Epoch : 20, Erro Médio : 116.46\n"
     ]
    },
    {
     "name": "stderr",
     "output_type": "stream",
     "text": [
      "100%|██████████| 165/165 [00:01<00:00, 140.51it/s]\n"
     ]
    },
    {
     "name": "stdout",
     "output_type": "stream",
     "text": [
      "Epoch : 21, Erro Médio : 114.10\n"
     ]
    },
    {
     "name": "stderr",
     "output_type": "stream",
     "text": [
      "100%|██████████| 165/165 [00:01<00:00, 153.22it/s]\n"
     ]
    },
    {
     "name": "stdout",
     "output_type": "stream",
     "text": [
      "Epoch : 22, Erro Médio : 111.87\n"
     ]
    },
    {
     "name": "stderr",
     "output_type": "stream",
     "text": [
      "100%|██████████| 165/165 [00:01<00:00, 151.61it/s]\n"
     ]
    },
    {
     "name": "stdout",
     "output_type": "stream",
     "text": [
      "Epoch : 23, Erro Médio : 109.60\n"
     ]
    },
    {
     "name": "stderr",
     "output_type": "stream",
     "text": [
      "100%|██████████| 165/165 [00:01<00:00, 145.52it/s]\n"
     ]
    },
    {
     "name": "stdout",
     "output_type": "stream",
     "text": [
      "Epoch : 24, Erro Médio : 107.53\n"
     ]
    },
    {
     "name": "stderr",
     "output_type": "stream",
     "text": [
      "100%|██████████| 165/165 [00:01<00:00, 147.09it/s]\n"
     ]
    },
    {
     "name": "stdout",
     "output_type": "stream",
     "text": [
      "Epoch : 25, Erro Médio : 105.54\n"
     ]
    },
    {
     "name": "stderr",
     "output_type": "stream",
     "text": [
      "100%|██████████| 165/165 [00:01<00:00, 136.91it/s]\n"
     ]
    },
    {
     "name": "stdout",
     "output_type": "stream",
     "text": [
      "Epoch : 26, Erro Médio : 103.63\n"
     ]
    },
    {
     "name": "stderr",
     "output_type": "stream",
     "text": [
      "100%|██████████| 165/165 [00:01<00:00, 152.79it/s]\n"
     ]
    },
    {
     "name": "stdout",
     "output_type": "stream",
     "text": [
      "Epoch : 27, Erro Médio : 101.86\n"
     ]
    },
    {
     "name": "stderr",
     "output_type": "stream",
     "text": [
      "100%|██████████| 165/165 [00:01<00:00, 152.19it/s]\n"
     ]
    },
    {
     "name": "stdout",
     "output_type": "stream",
     "text": [
      "Epoch : 28, Erro Médio : 100.18\n"
     ]
    },
    {
     "name": "stderr",
     "output_type": "stream",
     "text": [
      "100%|██████████| 165/165 [00:01<00:00, 156.62it/s]\n"
     ]
    },
    {
     "name": "stdout",
     "output_type": "stream",
     "text": [
      "Epoch : 29, Erro Médio : 98.55\n"
     ]
    },
    {
     "name": "stderr",
     "output_type": "stream",
     "text": [
      "100%|██████████| 165/165 [00:01<00:00, 148.35it/s]\n"
     ]
    },
    {
     "name": "stdout",
     "output_type": "stream",
     "text": [
      "Epoch : 30, Erro Médio : 96.92\n"
     ]
    },
    {
     "name": "stderr",
     "output_type": "stream",
     "text": [
      "100%|██████████| 165/165 [00:01<00:00, 138.95it/s]\n"
     ]
    },
    {
     "name": "stdout",
     "output_type": "stream",
     "text": [
      "Epoch : 31, Erro Médio : 95.36\n"
     ]
    },
    {
     "name": "stderr",
     "output_type": "stream",
     "text": [
      "100%|██████████| 165/165 [00:01<00:00, 157.07it/s]\n"
     ]
    },
    {
     "name": "stdout",
     "output_type": "stream",
     "text": [
      "Epoch : 32, Erro Médio : 94.04\n"
     ]
    },
    {
     "name": "stderr",
     "output_type": "stream",
     "text": [
      "100%|██████████| 165/165 [00:01<00:00, 151.44it/s]\n"
     ]
    },
    {
     "name": "stdout",
     "output_type": "stream",
     "text": [
      "Epoch : 33, Erro Médio : 92.57\n"
     ]
    },
    {
     "name": "stderr",
     "output_type": "stream",
     "text": [
      "100%|██████████| 165/165 [00:01<00:00, 147.88it/s]\n"
     ]
    },
    {
     "name": "stdout",
     "output_type": "stream",
     "text": [
      "Epoch : 34, Erro Médio : 91.22\n"
     ]
    },
    {
     "name": "stderr",
     "output_type": "stream",
     "text": [
      "100%|██████████| 165/165 [00:01<00:00, 131.91it/s]\n"
     ]
    },
    {
     "name": "stdout",
     "output_type": "stream",
     "text": [
      "Epoch : 35, Erro Médio : 89.89\n"
     ]
    },
    {
     "name": "stderr",
     "output_type": "stream",
     "text": [
      "100%|██████████| 165/165 [00:01<00:00, 137.78it/s]\n"
     ]
    },
    {
     "name": "stdout",
     "output_type": "stream",
     "text": [
      "Epoch : 36, Erro Médio : 88.59\n"
     ]
    },
    {
     "name": "stderr",
     "output_type": "stream",
     "text": [
      "100%|██████████| 165/165 [00:01<00:00, 128.73it/s]\n"
     ]
    },
    {
     "name": "stdout",
     "output_type": "stream",
     "text": [
      "Epoch : 37, Erro Médio : 87.43\n"
     ]
    },
    {
     "name": "stderr",
     "output_type": "stream",
     "text": [
      "100%|██████████| 165/165 [00:01<00:00, 136.97it/s]\n"
     ]
    },
    {
     "name": "stdout",
     "output_type": "stream",
     "text": [
      "Epoch : 38, Erro Médio : 86.25\n"
     ]
    },
    {
     "name": "stderr",
     "output_type": "stream",
     "text": [
      "100%|██████████| 165/165 [00:01<00:00, 136.33it/s]\n"
     ]
    },
    {
     "name": "stdout",
     "output_type": "stream",
     "text": [
      "Epoch : 39, Erro Médio : 85.15\n"
     ]
    },
    {
     "name": "stderr",
     "output_type": "stream",
     "text": [
      "100%|██████████| 165/165 [00:01<00:00, 156.16it/s]\n"
     ]
    },
    {
     "name": "stdout",
     "output_type": "stream",
     "text": [
      "Epoch : 40, Erro Médio : 84.00\n"
     ]
    },
    {
     "name": "stderr",
     "output_type": "stream",
     "text": [
      "100%|██████████| 165/165 [00:01<00:00, 136.34it/s]\n"
     ]
    },
    {
     "name": "stdout",
     "output_type": "stream",
     "text": [
      "Epoch : 41, Erro Médio : 83.01\n"
     ]
    },
    {
     "name": "stderr",
     "output_type": "stream",
     "text": [
      "100%|██████████| 165/165 [00:01<00:00, 138.17it/s]\n"
     ]
    },
    {
     "name": "stdout",
     "output_type": "stream",
     "text": [
      "Epoch : 42, Erro Médio : 82.02\n"
     ]
    },
    {
     "name": "stderr",
     "output_type": "stream",
     "text": [
      "100%|██████████| 165/165 [00:01<00:00, 129.12it/s]\n"
     ]
    },
    {
     "name": "stdout",
     "output_type": "stream",
     "text": [
      "Epoch : 43, Erro Médio : 81.14\n"
     ]
    },
    {
     "name": "stderr",
     "output_type": "stream",
     "text": [
      "100%|██████████| 165/165 [00:01<00:00, 155.52it/s]\n"
     ]
    },
    {
     "name": "stdout",
     "output_type": "stream",
     "text": [
      "Epoch : 44, Erro Médio : 80.17\n"
     ]
    },
    {
     "name": "stderr",
     "output_type": "stream",
     "text": [
      "100%|██████████| 165/165 [00:01<00:00, 152.53it/s]\n"
     ]
    },
    {
     "name": "stdout",
     "output_type": "stream",
     "text": [
      "Epoch : 45, Erro Médio : 79.26\n"
     ]
    },
    {
     "name": "stderr",
     "output_type": "stream",
     "text": [
      "100%|██████████| 165/165 [00:01<00:00, 153.96it/s]\n"
     ]
    },
    {
     "name": "stdout",
     "output_type": "stream",
     "text": [
      "Epoch : 46, Erro Médio : 78.37\n"
     ]
    },
    {
     "name": "stderr",
     "output_type": "stream",
     "text": [
      "100%|██████████| 165/165 [00:01<00:00, 160.21it/s]\n"
     ]
    },
    {
     "name": "stdout",
     "output_type": "stream",
     "text": [
      "Epoch : 47, Erro Médio : 77.48\n"
     ]
    },
    {
     "name": "stderr",
     "output_type": "stream",
     "text": [
      "100%|██████████| 165/165 [00:01<00:00, 130.13it/s]\n"
     ]
    },
    {
     "name": "stdout",
     "output_type": "stream",
     "text": [
      "Epoch : 48, Erro Médio : 76.62\n"
     ]
    },
    {
     "name": "stderr",
     "output_type": "stream",
     "text": [
      "100%|██████████| 165/165 [00:01<00:00, 130.08it/s]\n"
     ]
    },
    {
     "name": "stdout",
     "output_type": "stream",
     "text": [
      "Epoch : 49, Erro Médio : 75.76\n"
     ]
    },
    {
     "name": "stderr",
     "output_type": "stream",
     "text": [
      "100%|██████████| 165/165 [00:01<00:00, 130.45it/s]\n"
     ]
    },
    {
     "name": "stdout",
     "output_type": "stream",
     "text": [
      "Epoch : 50, Erro Médio : 74.99\n"
     ]
    },
    {
     "name": "stderr",
     "output_type": "stream",
     "text": [
      "100%|██████████| 165/165 [00:01<00:00, 108.18it/s]\n"
     ]
    },
    {
     "name": "stdout",
     "output_type": "stream",
     "text": [
      "Epoch : 51, Erro Médio : 74.22\n"
     ]
    },
    {
     "name": "stderr",
     "output_type": "stream",
     "text": [
      "100%|██████████| 165/165 [00:01<00:00, 105.39it/s]\n"
     ]
    },
    {
     "name": "stdout",
     "output_type": "stream",
     "text": [
      "Epoch : 52, Erro Médio : 73.50\n"
     ]
    },
    {
     "name": "stderr",
     "output_type": "stream",
     "text": [
      "100%|██████████| 165/165 [00:01<00:00, 131.24it/s]\n"
     ]
    },
    {
     "name": "stdout",
     "output_type": "stream",
     "text": [
      "Epoch : 53, Erro Médio : 72.79\n"
     ]
    },
    {
     "name": "stderr",
     "output_type": "stream",
     "text": [
      "100%|██████████| 165/165 [00:03<00:00, 46.32it/s]\n"
     ]
    },
    {
     "name": "stdout",
     "output_type": "stream",
     "text": [
      "Epoch : 54, Erro Médio : 72.05\n"
     ]
    },
    {
     "name": "stderr",
     "output_type": "stream",
     "text": [
      "100%|██████████| 165/165 [00:02<00:00, 59.24it/s]\n"
     ]
    },
    {
     "name": "stdout",
     "output_type": "stream",
     "text": [
      "Epoch : 55, Erro Médio : 71.37\n"
     ]
    },
    {
     "name": "stderr",
     "output_type": "stream",
     "text": [
      "100%|██████████| 165/165 [00:03<00:00, 49.94it/s]\n"
     ]
    },
    {
     "name": "stdout",
     "output_type": "stream",
     "text": [
      "Epoch : 56, Erro Médio : 70.70\n"
     ]
    },
    {
     "name": "stderr",
     "output_type": "stream",
     "text": [
      "100%|██████████| 165/165 [00:03<00:00, 43.05it/s]\n"
     ]
    },
    {
     "name": "stdout",
     "output_type": "stream",
     "text": [
      "Epoch : 57, Erro Médio : 70.03\n"
     ]
    },
    {
     "name": "stderr",
     "output_type": "stream",
     "text": [
      "100%|██████████| 165/165 [00:02<00:00, 67.68it/s]\n"
     ]
    },
    {
     "name": "stdout",
     "output_type": "stream",
     "text": [
      "Epoch : 58, Erro Médio : 69.37\n"
     ]
    },
    {
     "name": "stderr",
     "output_type": "stream",
     "text": [
      "100%|██████████| 165/165 [00:02<00:00, 69.77it/s]\n"
     ]
    },
    {
     "name": "stdout",
     "output_type": "stream",
     "text": [
      "Epoch : 59, Erro Médio : 68.73\n"
     ]
    },
    {
     "name": "stderr",
     "output_type": "stream",
     "text": [
      "100%|██████████| 165/165 [00:02<00:00, 65.91it/s]\n"
     ]
    },
    {
     "name": "stdout",
     "output_type": "stream",
     "text": [
      "Epoch : 60, Erro Médio : 68.11\n"
     ]
    },
    {
     "name": "stderr",
     "output_type": "stream",
     "text": [
      "100%|██████████| 165/165 [00:03<00:00, 53.37it/s]\n"
     ]
    },
    {
     "name": "stdout",
     "output_type": "stream",
     "text": [
      "Epoch : 61, Erro Médio : 67.53\n"
     ]
    },
    {
     "name": "stderr",
     "output_type": "stream",
     "text": [
      "100%|██████████| 165/165 [00:02<00:00, 77.59it/s]\n"
     ]
    },
    {
     "name": "stdout",
     "output_type": "stream",
     "text": [
      "Epoch : 62, Erro Médio : 66.93\n"
     ]
    },
    {
     "name": "stderr",
     "output_type": "stream",
     "text": [
      "100%|██████████| 165/165 [00:02<00:00, 70.29it/s]\n"
     ]
    },
    {
     "name": "stdout",
     "output_type": "stream",
     "text": [
      "Epoch : 63, Erro Médio : 66.35\n"
     ]
    },
    {
     "name": "stderr",
     "output_type": "stream",
     "text": [
      "100%|██████████| 165/165 [00:02<00:00, 79.94it/s]\n"
     ]
    },
    {
     "name": "stdout",
     "output_type": "stream",
     "text": [
      "Epoch : 64, Erro Médio : 65.79\n"
     ]
    },
    {
     "name": "stderr",
     "output_type": "stream",
     "text": [
      "100%|██████████| 165/165 [00:02<00:00, 69.93it/s]\n"
     ]
    },
    {
     "name": "stdout",
     "output_type": "stream",
     "text": [
      "Epoch : 65, Erro Médio : 65.24\n"
     ]
    },
    {
     "name": "stderr",
     "output_type": "stream",
     "text": [
      "100%|██████████| 165/165 [00:01<00:00, 117.95it/s]\n"
     ]
    },
    {
     "name": "stdout",
     "output_type": "stream",
     "text": [
      "Epoch : 66, Erro Médio : 64.71\n"
     ]
    },
    {
     "name": "stderr",
     "output_type": "stream",
     "text": [
      "100%|██████████| 165/165 [00:01<00:00, 109.87it/s]\n"
     ]
    },
    {
     "name": "stdout",
     "output_type": "stream",
     "text": [
      "Epoch : 67, Erro Médio : 64.20\n"
     ]
    },
    {
     "name": "stderr",
     "output_type": "stream",
     "text": [
      "100%|██████████| 165/165 [00:01<00:00, 120.41it/s]\n"
     ]
    },
    {
     "name": "stdout",
     "output_type": "stream",
     "text": [
      "Epoch : 68, Erro Médio : 63.67\n"
     ]
    },
    {
     "name": "stderr",
     "output_type": "stream",
     "text": [
      "100%|██████████| 165/165 [00:01<00:00, 103.68it/s]\n"
     ]
    },
    {
     "name": "stdout",
     "output_type": "stream",
     "text": [
      "Epoch : 69, Erro Médio : 63.16\n"
     ]
    },
    {
     "name": "stderr",
     "output_type": "stream",
     "text": [
      "100%|██████████| 165/165 [00:01<00:00, 127.95it/s]\n"
     ]
    },
    {
     "name": "stdout",
     "output_type": "stream",
     "text": [
      "Epoch : 70, Erro Médio : 62.64\n"
     ]
    },
    {
     "name": "stderr",
     "output_type": "stream",
     "text": [
      "100%|██████████| 165/165 [00:01<00:00, 157.07it/s]\n"
     ]
    },
    {
     "name": "stdout",
     "output_type": "stream",
     "text": [
      "Epoch : 71, Erro Médio : 62.17\n"
     ]
    },
    {
     "name": "stderr",
     "output_type": "stream",
     "text": [
      "100%|██████████| 165/165 [00:01<00:00, 149.17it/s]\n"
     ]
    },
    {
     "name": "stdout",
     "output_type": "stream",
     "text": [
      "Epoch : 72, Erro Médio : 61.69\n"
     ]
    },
    {
     "name": "stderr",
     "output_type": "stream",
     "text": [
      "100%|██████████| 165/165 [00:01<00:00, 157.42it/s]\n"
     ]
    },
    {
     "name": "stdout",
     "output_type": "stream",
     "text": [
      "Epoch : 73, Erro Médio : 61.23\n"
     ]
    },
    {
     "name": "stderr",
     "output_type": "stream",
     "text": [
      "100%|██████████| 165/165 [00:00<00:00, 171.50it/s]\n"
     ]
    },
    {
     "name": "stdout",
     "output_type": "stream",
     "text": [
      "Epoch : 74, Erro Médio : 60.76\n"
     ]
    },
    {
     "name": "stderr",
     "output_type": "stream",
     "text": [
      "100%|██████████| 165/165 [00:00<00:00, 169.22it/s]\n"
     ]
    },
    {
     "name": "stdout",
     "output_type": "stream",
     "text": [
      "Epoch : 75, Erro Médio : 60.31\n"
     ]
    },
    {
     "name": "stderr",
     "output_type": "stream",
     "text": [
      "100%|██████████| 165/165 [00:01<00:00, 154.46it/s]\n"
     ]
    },
    {
     "name": "stdout",
     "output_type": "stream",
     "text": [
      "Epoch : 76, Erro Médio : 59.86\n"
     ]
    },
    {
     "name": "stderr",
     "output_type": "stream",
     "text": [
      "100%|██████████| 165/165 [00:01<00:00, 139.23it/s]\n"
     ]
    },
    {
     "name": "stdout",
     "output_type": "stream",
     "text": [
      "Epoch : 77, Erro Médio : 59.41\n"
     ]
    },
    {
     "name": "stderr",
     "output_type": "stream",
     "text": [
      "100%|██████████| 165/165 [00:01<00:00, 146.29it/s]\n"
     ]
    },
    {
     "name": "stdout",
     "output_type": "stream",
     "text": [
      "Epoch : 78, Erro Médio : 58.99\n"
     ]
    },
    {
     "name": "stderr",
     "output_type": "stream",
     "text": [
      "100%|██████████| 165/165 [00:01<00:00, 136.50it/s]\n"
     ]
    },
    {
     "name": "stdout",
     "output_type": "stream",
     "text": [
      "Epoch : 79, Erro Médio : 58.59\n"
     ]
    },
    {
     "name": "stderr",
     "output_type": "stream",
     "text": [
      "100%|██████████| 165/165 [00:01<00:00, 152.31it/s]\n"
     ]
    },
    {
     "name": "stdout",
     "output_type": "stream",
     "text": [
      "Epoch : 80, Erro Médio : 58.19\n"
     ]
    },
    {
     "name": "stderr",
     "output_type": "stream",
     "text": [
      "100%|██████████| 165/165 [00:01<00:00, 114.95it/s]\n"
     ]
    },
    {
     "name": "stdout",
     "output_type": "stream",
     "text": [
      "Epoch : 81, Erro Médio : 57.78\n"
     ]
    },
    {
     "name": "stderr",
     "output_type": "stream",
     "text": [
      "100%|██████████| 165/165 [00:01<00:00, 156.22it/s]\n"
     ]
    },
    {
     "name": "stdout",
     "output_type": "stream",
     "text": [
      "Epoch : 82, Erro Médio : 57.37\n"
     ]
    },
    {
     "name": "stderr",
     "output_type": "stream",
     "text": [
      "100%|██████████| 165/165 [00:01<00:00, 159.40it/s]\n"
     ]
    },
    {
     "name": "stdout",
     "output_type": "stream",
     "text": [
      "Epoch : 83, Erro Médio : 56.98\n"
     ]
    },
    {
     "name": "stderr",
     "output_type": "stream",
     "text": [
      "100%|██████████| 165/165 [00:00<00:00, 172.91it/s]\n"
     ]
    },
    {
     "name": "stdout",
     "output_type": "stream",
     "text": [
      "Epoch : 84, Erro Médio : 56.60\n"
     ]
    },
    {
     "name": "stderr",
     "output_type": "stream",
     "text": [
      "100%|██████████| 165/165 [00:00<00:00, 170.92it/s]\n"
     ]
    },
    {
     "name": "stdout",
     "output_type": "stream",
     "text": [
      "Epoch : 85, Erro Médio : 56.22\n"
     ]
    },
    {
     "name": "stderr",
     "output_type": "stream",
     "text": [
      "100%|██████████| 165/165 [00:01<00:00, 138.56it/s]\n"
     ]
    },
    {
     "name": "stdout",
     "output_type": "stream",
     "text": [
      "Epoch : 86, Erro Médio : 55.84\n"
     ]
    },
    {
     "name": "stderr",
     "output_type": "stream",
     "text": [
      "100%|██████████| 165/165 [00:01<00:00, 118.26it/s]\n"
     ]
    },
    {
     "name": "stdout",
     "output_type": "stream",
     "text": [
      "Epoch : 87, Erro Médio : 55.48\n"
     ]
    },
    {
     "name": "stderr",
     "output_type": "stream",
     "text": [
      "100%|██████████| 165/165 [00:01<00:00, 99.71it/s] \n"
     ]
    },
    {
     "name": "stdout",
     "output_type": "stream",
     "text": [
      "Epoch : 88, Erro Médio : 55.11\n"
     ]
    },
    {
     "name": "stderr",
     "output_type": "stream",
     "text": [
      "100%|██████████| 165/165 [00:01<00:00, 96.95it/s] \n"
     ]
    },
    {
     "name": "stdout",
     "output_type": "stream",
     "text": [
      "Epoch : 89, Erro Médio : 54.75\n"
     ]
    },
    {
     "name": "stderr",
     "output_type": "stream",
     "text": [
      "100%|██████████| 165/165 [00:01<00:00, 102.43it/s]\n"
     ]
    },
    {
     "name": "stdout",
     "output_type": "stream",
     "text": [
      "Epoch : 90, Erro Médio : 54.41\n"
     ]
    },
    {
     "name": "stderr",
     "output_type": "stream",
     "text": [
      "100%|██████████| 165/165 [00:01<00:00, 126.81it/s]\n"
     ]
    },
    {
     "name": "stdout",
     "output_type": "stream",
     "text": [
      "Epoch : 91, Erro Médio : 54.07\n"
     ]
    },
    {
     "name": "stderr",
     "output_type": "stream",
     "text": [
      "100%|██████████| 165/165 [00:01<00:00, 149.87it/s]\n"
     ]
    },
    {
     "name": "stdout",
     "output_type": "stream",
     "text": [
      "Epoch : 92, Erro Médio : 53.74\n"
     ]
    },
    {
     "name": "stderr",
     "output_type": "stream",
     "text": [
      "100%|██████████| 165/165 [00:01<00:00, 123.06it/s]\n"
     ]
    },
    {
     "name": "stdout",
     "output_type": "stream",
     "text": [
      "Epoch : 93, Erro Médio : 53.39\n"
     ]
    },
    {
     "name": "stderr",
     "output_type": "stream",
     "text": [
      "100%|██████████| 165/165 [00:01<00:00, 140.28it/s]\n"
     ]
    },
    {
     "name": "stdout",
     "output_type": "stream",
     "text": [
      "Epoch : 94, Erro Médio : 53.06\n"
     ]
    },
    {
     "name": "stderr",
     "output_type": "stream",
     "text": [
      "100%|██████████| 165/165 [00:00<00:00, 168.49it/s]\n"
     ]
    },
    {
     "name": "stdout",
     "output_type": "stream",
     "text": [
      "Epoch : 95, Erro Médio : 52.75\n"
     ]
    },
    {
     "name": "stderr",
     "output_type": "stream",
     "text": [
      "100%|██████████| 165/165 [00:01<00:00, 127.19it/s]\n"
     ]
    },
    {
     "name": "stdout",
     "output_type": "stream",
     "text": [
      "Epoch : 96, Erro Médio : 52.42\n"
     ]
    },
    {
     "name": "stderr",
     "output_type": "stream",
     "text": [
      "100%|██████████| 165/165 [00:01<00:00, 113.02it/s]\n"
     ]
    },
    {
     "name": "stdout",
     "output_type": "stream",
     "text": [
      "Epoch : 97, Erro Médio : 52.11\n"
     ]
    },
    {
     "name": "stderr",
     "output_type": "stream",
     "text": [
      "100%|██████████| 165/165 [00:01<00:00, 153.59it/s]\n"
     ]
    },
    {
     "name": "stdout",
     "output_type": "stream",
     "text": [
      "Epoch : 98, Erro Médio : 51.80\n"
     ]
    },
    {
     "name": "stderr",
     "output_type": "stream",
     "text": [
      "100%|██████████| 165/165 [00:01<00:00, 122.13it/s]\n"
     ]
    },
    {
     "name": "stdout",
     "output_type": "stream",
     "text": [
      "Epoch : 99, Erro Médio : 51.50\n"
     ]
    },
    {
     "name": "stderr",
     "output_type": "stream",
     "text": [
      "100%|██████████| 165/165 [00:01<00:00, 102.12it/s]\n"
     ]
    },
    {
     "name": "stdout",
     "output_type": "stream",
     "text": [
      "Epoch : 100, Erro Médio : 51.20\n"
     ]
    },
    {
     "name": "stderr",
     "output_type": "stream",
     "text": [
      "100%|██████████| 165/165 [00:01<00:00, 134.72it/s]\n"
     ]
    },
    {
     "name": "stdout",
     "output_type": "stream",
     "text": [
      "Epoch : 101, Erro Médio : 50.91\n"
     ]
    },
    {
     "name": "stderr",
     "output_type": "stream",
     "text": [
      "100%|██████████| 165/165 [00:01<00:00, 115.71it/s]\n"
     ]
    },
    {
     "name": "stdout",
     "output_type": "stream",
     "text": [
      "Epoch : 102, Erro Médio : 50.61\n"
     ]
    },
    {
     "name": "stderr",
     "output_type": "stream",
     "text": [
      "100%|██████████| 165/165 [00:01<00:00, 128.01it/s]\n"
     ]
    },
    {
     "name": "stdout",
     "output_type": "stream",
     "text": [
      "Epoch : 103, Erro Médio : 50.34\n"
     ]
    },
    {
     "name": "stderr",
     "output_type": "stream",
     "text": [
      "100%|██████████| 165/165 [00:01<00:00, 123.99it/s]\n"
     ]
    },
    {
     "name": "stdout",
     "output_type": "stream",
     "text": [
      "Epoch : 104, Erro Médio : 50.05\n"
     ]
    },
    {
     "name": "stderr",
     "output_type": "stream",
     "text": [
      "100%|██████████| 165/165 [00:01<00:00, 148.43it/s]\n"
     ]
    },
    {
     "name": "stdout",
     "output_type": "stream",
     "text": [
      "Epoch : 105, Erro Médio : 49.77\n"
     ]
    },
    {
     "name": "stderr",
     "output_type": "stream",
     "text": [
      "100%|██████████| 165/165 [00:00<00:00, 166.65it/s]\n"
     ]
    },
    {
     "name": "stdout",
     "output_type": "stream",
     "text": [
      "Epoch : 106, Erro Médio : 49.49\n"
     ]
    },
    {
     "name": "stderr",
     "output_type": "stream",
     "text": [
      "100%|██████████| 165/165 [00:00<00:00, 170.96it/s]\n"
     ]
    },
    {
     "name": "stdout",
     "output_type": "stream",
     "text": [
      "Epoch : 107, Erro Médio : 49.21\n"
     ]
    },
    {
     "name": "stderr",
     "output_type": "stream",
     "text": [
      "100%|██████████| 165/165 [00:01<00:00, 158.20it/s]\n"
     ]
    },
    {
     "name": "stdout",
     "output_type": "stream",
     "text": [
      "Epoch : 108, Erro Médio : 48.94\n"
     ]
    },
    {
     "name": "stderr",
     "output_type": "stream",
     "text": [
      "100%|██████████| 165/165 [00:01<00:00, 164.93it/s]\n"
     ]
    },
    {
     "name": "stdout",
     "output_type": "stream",
     "text": [
      "Epoch : 109, Erro Médio : 48.67\n"
     ]
    },
    {
     "name": "stderr",
     "output_type": "stream",
     "text": [
      "100%|██████████| 165/165 [00:01<00:00, 157.35it/s]\n"
     ]
    },
    {
     "name": "stdout",
     "output_type": "stream",
     "text": [
      "Epoch : 110, Erro Médio : 48.40\n"
     ]
    },
    {
     "name": "stderr",
     "output_type": "stream",
     "text": [
      "100%|██████████| 165/165 [00:01<00:00, 130.97it/s]\n"
     ]
    },
    {
     "name": "stdout",
     "output_type": "stream",
     "text": [
      "Epoch : 111, Erro Médio : 48.15\n"
     ]
    },
    {
     "name": "stderr",
     "output_type": "stream",
     "text": [
      "100%|██████████| 165/165 [00:01<00:00, 155.27it/s]\n"
     ]
    },
    {
     "name": "stdout",
     "output_type": "stream",
     "text": [
      "Epoch : 112, Erro Médio : 47.90\n"
     ]
    },
    {
     "name": "stderr",
     "output_type": "stream",
     "text": [
      "100%|██████████| 165/165 [00:01<00:00, 156.49it/s]\n"
     ]
    },
    {
     "name": "stdout",
     "output_type": "stream",
     "text": [
      "Epoch : 113, Erro Médio : 47.64\n"
     ]
    },
    {
     "name": "stderr",
     "output_type": "stream",
     "text": [
      "100%|██████████| 165/165 [00:01<00:00, 126.49it/s]\n"
     ]
    },
    {
     "name": "stdout",
     "output_type": "stream",
     "text": [
      "Epoch : 114, Erro Médio : 47.40\n"
     ]
    },
    {
     "name": "stderr",
     "output_type": "stream",
     "text": [
      "100%|██████████| 165/165 [00:01<00:00, 139.78it/s]\n"
     ]
    },
    {
     "name": "stdout",
     "output_type": "stream",
     "text": [
      "Epoch : 115, Erro Médio : 47.15\n"
     ]
    },
    {
     "name": "stderr",
     "output_type": "stream",
     "text": [
      "100%|██████████| 165/165 [00:01<00:00, 163.07it/s]\n"
     ]
    },
    {
     "name": "stdout",
     "output_type": "stream",
     "text": [
      "Epoch : 116, Erro Médio : 46.91\n"
     ]
    },
    {
     "name": "stderr",
     "output_type": "stream",
     "text": [
      "100%|██████████| 165/165 [00:00<00:00, 168.96it/s]\n"
     ]
    },
    {
     "name": "stdout",
     "output_type": "stream",
     "text": [
      "Epoch : 117, Erro Médio : 46.68\n"
     ]
    },
    {
     "name": "stderr",
     "output_type": "stream",
     "text": [
      "100%|██████████| 165/165 [00:01<00:00, 156.70it/s]\n"
     ]
    },
    {
     "name": "stdout",
     "output_type": "stream",
     "text": [
      "Epoch : 118, Erro Médio : 46.44\n"
     ]
    },
    {
     "name": "stderr",
     "output_type": "stream",
     "text": [
      "100%|██████████| 165/165 [00:01<00:00, 147.45it/s]\n"
     ]
    },
    {
     "name": "stdout",
     "output_type": "stream",
     "text": [
      "Epoch : 119, Erro Médio : 46.20\n"
     ]
    },
    {
     "name": "stderr",
     "output_type": "stream",
     "text": [
      "100%|██████████| 165/165 [00:01<00:00, 135.67it/s]\n"
     ]
    },
    {
     "name": "stdout",
     "output_type": "stream",
     "text": [
      "Epoch : 120, Erro Médio : 45.98\n"
     ]
    },
    {
     "name": "stderr",
     "output_type": "stream",
     "text": [
      "100%|██████████| 165/165 [00:00<00:00, 165.53it/s]\n"
     ]
    },
    {
     "name": "stdout",
     "output_type": "stream",
     "text": [
      "Epoch : 121, Erro Médio : 45.75\n"
     ]
    },
    {
     "name": "stderr",
     "output_type": "stream",
     "text": [
      "100%|██████████| 165/165 [00:00<00:00, 166.00it/s]\n"
     ]
    },
    {
     "name": "stdout",
     "output_type": "stream",
     "text": [
      "Epoch : 122, Erro Médio : 45.51\n"
     ]
    },
    {
     "name": "stderr",
     "output_type": "stream",
     "text": [
      "100%|██████████| 165/165 [00:01<00:00, 143.78it/s]\n"
     ]
    },
    {
     "name": "stdout",
     "output_type": "stream",
     "text": [
      "Epoch : 123, Erro Médio : 45.30\n"
     ]
    },
    {
     "name": "stderr",
     "output_type": "stream",
     "text": [
      "100%|██████████| 165/165 [00:00<00:00, 165.31it/s]\n"
     ]
    },
    {
     "name": "stdout",
     "output_type": "stream",
     "text": [
      "Epoch : 124, Erro Médio : 45.07\n"
     ]
    },
    {
     "name": "stderr",
     "output_type": "stream",
     "text": [
      "100%|██████████| 165/165 [00:00<00:00, 165.80it/s]\n"
     ]
    },
    {
     "name": "stdout",
     "output_type": "stream",
     "text": [
      "Epoch : 125, Erro Médio : 44.86\n"
     ]
    },
    {
     "name": "stderr",
     "output_type": "stream",
     "text": [
      "100%|██████████| 165/165 [00:00<00:00, 170.05it/s]\n"
     ]
    },
    {
     "name": "stdout",
     "output_type": "stream",
     "text": [
      "Epoch : 126, Erro Médio : 44.65\n"
     ]
    },
    {
     "name": "stderr",
     "output_type": "stream",
     "text": [
      "100%|██████████| 165/165 [00:01<00:00, 160.33it/s]\n"
     ]
    },
    {
     "name": "stdout",
     "output_type": "stream",
     "text": [
      "Epoch : 127, Erro Médio : 44.44\n"
     ]
    },
    {
     "name": "stderr",
     "output_type": "stream",
     "text": [
      "100%|██████████| 165/165 [00:01<00:00, 151.12it/s]\n"
     ]
    },
    {
     "name": "stdout",
     "output_type": "stream",
     "text": [
      "Epoch : 128, Erro Médio : 44.23\n"
     ]
    },
    {
     "name": "stderr",
     "output_type": "stream",
     "text": [
      "100%|██████████| 165/165 [00:00<00:00, 167.33it/s]\n"
     ]
    },
    {
     "name": "stdout",
     "output_type": "stream",
     "text": [
      "Epoch : 129, Erro Médio : 44.01\n"
     ]
    },
    {
     "name": "stderr",
     "output_type": "stream",
     "text": [
      "100%|██████████| 165/165 [00:00<00:00, 167.69it/s]\n"
     ]
    },
    {
     "name": "stdout",
     "output_type": "stream",
     "text": [
      "Epoch : 130, Erro Médio : 43.80\n"
     ]
    },
    {
     "name": "stderr",
     "output_type": "stream",
     "text": [
      "100%|██████████| 165/165 [00:01<00:00, 157.57it/s]\n"
     ]
    },
    {
     "name": "stdout",
     "output_type": "stream",
     "text": [
      "Epoch : 131, Erro Médio : 43.60\n"
     ]
    },
    {
     "name": "stderr",
     "output_type": "stream",
     "text": [
      "100%|██████████| 165/165 [00:01<00:00, 159.35it/s]\n"
     ]
    },
    {
     "name": "stdout",
     "output_type": "stream",
     "text": [
      "Epoch : 132, Erro Médio : 43.41\n"
     ]
    },
    {
     "name": "stderr",
     "output_type": "stream",
     "text": [
      "100%|██████████| 165/165 [00:01<00:00, 132.01it/s]\n"
     ]
    },
    {
     "name": "stdout",
     "output_type": "stream",
     "text": [
      "Epoch : 133, Erro Médio : 43.21\n"
     ]
    },
    {
     "name": "stderr",
     "output_type": "stream",
     "text": [
      "100%|██████████| 165/165 [00:01<00:00, 135.29it/s]\n"
     ]
    },
    {
     "name": "stdout",
     "output_type": "stream",
     "text": [
      "Epoch : 134, Erro Médio : 43.01\n"
     ]
    },
    {
     "name": "stderr",
     "output_type": "stream",
     "text": [
      "100%|██████████| 165/165 [00:01<00:00, 135.05it/s]\n"
     ]
    },
    {
     "name": "stdout",
     "output_type": "stream",
     "text": [
      "Epoch : 135, Erro Médio : 42.81\n"
     ]
    },
    {
     "name": "stderr",
     "output_type": "stream",
     "text": [
      "100%|██████████| 165/165 [00:01<00:00, 164.46it/s]\n"
     ]
    },
    {
     "name": "stdout",
     "output_type": "stream",
     "text": [
      "Epoch : 136, Erro Médio : 42.62\n"
     ]
    },
    {
     "name": "stderr",
     "output_type": "stream",
     "text": [
      "100%|██████████| 165/165 [00:01<00:00, 150.09it/s]\n"
     ]
    },
    {
     "name": "stdout",
     "output_type": "stream",
     "text": [
      "Epoch : 137, Erro Médio : 42.42\n"
     ]
    },
    {
     "name": "stderr",
     "output_type": "stream",
     "text": [
      "100%|██████████| 165/165 [00:01<00:00, 156.82it/s]\n"
     ]
    },
    {
     "name": "stdout",
     "output_type": "stream",
     "text": [
      "Epoch : 138, Erro Médio : 42.24\n"
     ]
    },
    {
     "name": "stderr",
     "output_type": "stream",
     "text": [
      "100%|██████████| 165/165 [00:01<00:00, 156.58it/s]\n"
     ]
    },
    {
     "name": "stdout",
     "output_type": "stream",
     "text": [
      "Epoch : 139, Erro Médio : 42.05\n"
     ]
    },
    {
     "name": "stderr",
     "output_type": "stream",
     "text": [
      "100%|██████████| 165/165 [00:01<00:00, 163.32it/s]\n"
     ]
    },
    {
     "name": "stdout",
     "output_type": "stream",
     "text": [
      "Epoch : 140, Erro Médio : 41.87\n"
     ]
    },
    {
     "name": "stderr",
     "output_type": "stream",
     "text": [
      "100%|██████████| 165/165 [00:00<00:00, 171.60it/s]\n"
     ]
    },
    {
     "name": "stdout",
     "output_type": "stream",
     "text": [
      "Epoch : 141, Erro Médio : 41.68\n"
     ]
    },
    {
     "name": "stderr",
     "output_type": "stream",
     "text": [
      "100%|██████████| 165/165 [00:01<00:00, 140.03it/s]\n"
     ]
    },
    {
     "name": "stdout",
     "output_type": "stream",
     "text": [
      "Epoch : 142, Erro Médio : 41.50\n"
     ]
    },
    {
     "name": "stderr",
     "output_type": "stream",
     "text": [
      "100%|██████████| 165/165 [00:01<00:00, 162.74it/s]\n"
     ]
    },
    {
     "name": "stdout",
     "output_type": "stream",
     "text": [
      "Epoch : 143, Erro Médio : 41.32\n"
     ]
    },
    {
     "name": "stderr",
     "output_type": "stream",
     "text": [
      "100%|██████████| 165/165 [00:00<00:00, 166.50it/s]\n"
     ]
    },
    {
     "name": "stdout",
     "output_type": "stream",
     "text": [
      "Epoch : 144, Erro Médio : 41.15\n"
     ]
    },
    {
     "name": "stderr",
     "output_type": "stream",
     "text": [
      "100%|██████████| 165/165 [00:00<00:00, 168.21it/s]\n"
     ]
    },
    {
     "name": "stdout",
     "output_type": "stream",
     "text": [
      "Epoch : 145, Erro Médio : 40.97\n"
     ]
    },
    {
     "name": "stderr",
     "output_type": "stream",
     "text": [
      "100%|██████████| 165/165 [00:01<00:00, 158.15it/s]\n"
     ]
    },
    {
     "name": "stdout",
     "output_type": "stream",
     "text": [
      "Epoch : 146, Erro Médio : 40.80\n"
     ]
    },
    {
     "name": "stderr",
     "output_type": "stream",
     "text": [
      "100%|██████████| 165/165 [00:01<00:00, 147.30it/s]\n"
     ]
    },
    {
     "name": "stdout",
     "output_type": "stream",
     "text": [
      "Epoch : 147, Erro Médio : 40.63\n"
     ]
    },
    {
     "name": "stderr",
     "output_type": "stream",
     "text": [
      "100%|██████████| 165/165 [00:00<00:00, 169.83it/s]\n"
     ]
    },
    {
     "name": "stdout",
     "output_type": "stream",
     "text": [
      "Epoch : 148, Erro Médio : 40.46\n"
     ]
    },
    {
     "name": "stderr",
     "output_type": "stream",
     "text": [
      "100%|██████████| 165/165 [00:00<00:00, 170.11it/s]\n"
     ]
    },
    {
     "name": "stdout",
     "output_type": "stream",
     "text": [
      "Epoch : 149, Erro Médio : 40.29\n"
     ]
    },
    {
     "name": "stderr",
     "output_type": "stream",
     "text": [
      "100%|██████████| 165/165 [00:01<00:00, 155.26it/s]\n"
     ]
    },
    {
     "name": "stdout",
     "output_type": "stream",
     "text": [
      "Epoch : 150, Erro Médio : 40.12\n"
     ]
    },
    {
     "name": "stderr",
     "output_type": "stream",
     "text": [
      "100%|██████████| 165/165 [00:01<00:00, 160.96it/s]\n"
     ]
    },
    {
     "name": "stdout",
     "output_type": "stream",
     "text": [
      "Epoch : 151, Erro Médio : 39.96\n"
     ]
    },
    {
     "name": "stderr",
     "output_type": "stream",
     "text": [
      "100%|██████████| 165/165 [00:01<00:00, 152.06it/s]\n"
     ]
    },
    {
     "name": "stdout",
     "output_type": "stream",
     "text": [
      "Epoch : 152, Erro Médio : 39.79\n"
     ]
    },
    {
     "name": "stderr",
     "output_type": "stream",
     "text": [
      "100%|██████████| 165/165 [00:00<00:00, 167.75it/s]\n"
     ]
    },
    {
     "name": "stdout",
     "output_type": "stream",
     "text": [
      "Epoch : 153, Erro Médio : 39.63\n"
     ]
    },
    {
     "name": "stderr",
     "output_type": "stream",
     "text": [
      "100%|██████████| 165/165 [00:01<00:00, 156.41it/s]\n"
     ]
    },
    {
     "name": "stdout",
     "output_type": "stream",
     "text": [
      "Epoch : 154, Erro Médio : 39.47\n"
     ]
    },
    {
     "name": "stderr",
     "output_type": "stream",
     "text": [
      "100%|██████████| 165/165 [00:00<00:00, 166.34it/s]\n"
     ]
    },
    {
     "name": "stdout",
     "output_type": "stream",
     "text": [
      "Epoch : 155, Erro Médio : 39.32\n"
     ]
    },
    {
     "name": "stderr",
     "output_type": "stream",
     "text": [
      "100%|██████████| 165/165 [00:01<00:00, 126.09it/s]\n"
     ]
    },
    {
     "name": "stdout",
     "output_type": "stream",
     "text": [
      "Epoch : 156, Erro Médio : 39.16\n"
     ]
    },
    {
     "name": "stderr",
     "output_type": "stream",
     "text": [
      "100%|██████████| 165/165 [00:01<00:00, 114.02it/s]\n"
     ]
    },
    {
     "name": "stdout",
     "output_type": "stream",
     "text": [
      "Epoch : 157, Erro Médio : 39.00\n"
     ]
    },
    {
     "name": "stderr",
     "output_type": "stream",
     "text": [
      "100%|██████████| 165/165 [00:01<00:00, 118.62it/s]\n"
     ]
    },
    {
     "name": "stdout",
     "output_type": "stream",
     "text": [
      "Epoch : 158, Erro Médio : 38.85\n"
     ]
    },
    {
     "name": "stderr",
     "output_type": "stream",
     "text": [
      "100%|██████████| 165/165 [00:01<00:00, 150.98it/s]\n"
     ]
    },
    {
     "name": "stdout",
     "output_type": "stream",
     "text": [
      "Epoch : 159, Erro Médio : 38.70\n"
     ]
    },
    {
     "name": "stderr",
     "output_type": "stream",
     "text": [
      "100%|██████████| 165/165 [00:01<00:00, 141.32it/s]\n"
     ]
    },
    {
     "name": "stdout",
     "output_type": "stream",
     "text": [
      "Epoch : 160, Erro Médio : 38.55\n"
     ]
    },
    {
     "name": "stderr",
     "output_type": "stream",
     "text": [
      "100%|██████████| 165/165 [00:01<00:00, 147.18it/s]\n"
     ]
    },
    {
     "name": "stdout",
     "output_type": "stream",
     "text": [
      "Epoch : 161, Erro Médio : 38.40\n"
     ]
    },
    {
     "name": "stderr",
     "output_type": "stream",
     "text": [
      "100%|██████████| 165/165 [00:01<00:00, 152.92it/s]\n"
     ]
    },
    {
     "name": "stdout",
     "output_type": "stream",
     "text": [
      "Epoch : 162, Erro Médio : 38.25\n"
     ]
    },
    {
     "name": "stderr",
     "output_type": "stream",
     "text": [
      "100%|██████████| 165/165 [00:01<00:00, 155.34it/s]\n"
     ]
    },
    {
     "name": "stdout",
     "output_type": "stream",
     "text": [
      "Epoch : 163, Erro Médio : 38.10\n"
     ]
    },
    {
     "name": "stderr",
     "output_type": "stream",
     "text": [
      "100%|██████████| 165/165 [00:01<00:00, 148.15it/s]\n"
     ]
    },
    {
     "name": "stdout",
     "output_type": "stream",
     "text": [
      "Epoch : 164, Erro Médio : 37.95\n"
     ]
    },
    {
     "name": "stderr",
     "output_type": "stream",
     "text": [
      "100%|██████████| 165/165 [00:01<00:00, 141.04it/s]\n"
     ]
    },
    {
     "name": "stdout",
     "output_type": "stream",
     "text": [
      "Epoch : 165, Erro Médio : 37.81\n"
     ]
    },
    {
     "name": "stderr",
     "output_type": "stream",
     "text": [
      "100%|██████████| 165/165 [00:01<00:00, 133.92it/s]\n"
     ]
    },
    {
     "name": "stdout",
     "output_type": "stream",
     "text": [
      "Epoch : 166, Erro Médio : 37.66\n"
     ]
    },
    {
     "name": "stderr",
     "output_type": "stream",
     "text": [
      "100%|██████████| 165/165 [00:01<00:00, 126.12it/s]\n"
     ]
    },
    {
     "name": "stdout",
     "output_type": "stream",
     "text": [
      "Epoch : 167, Erro Médio : 37.52\n"
     ]
    },
    {
     "name": "stderr",
     "output_type": "stream",
     "text": [
      "100%|██████████| 165/165 [00:01<00:00, 136.98it/s]\n"
     ]
    },
    {
     "name": "stdout",
     "output_type": "stream",
     "text": [
      "Epoch : 168, Erro Médio : 37.38\n"
     ]
    },
    {
     "name": "stderr",
     "output_type": "stream",
     "text": [
      "100%|██████████| 165/165 [00:01<00:00, 127.24it/s]\n"
     ]
    },
    {
     "name": "stdout",
     "output_type": "stream",
     "text": [
      "Epoch : 169, Erro Médio : 37.24\n"
     ]
    },
    {
     "name": "stderr",
     "output_type": "stream",
     "text": [
      "100%|██████████| 165/165 [00:01<00:00, 138.60it/s]\n"
     ]
    },
    {
     "name": "stdout",
     "output_type": "stream",
     "text": [
      "Epoch : 170, Erro Médio : 37.10\n"
     ]
    },
    {
     "name": "stderr",
     "output_type": "stream",
     "text": [
      "100%|██████████| 165/165 [00:01<00:00, 153.70it/s]\n"
     ]
    },
    {
     "name": "stdout",
     "output_type": "stream",
     "text": [
      "Epoch : 171, Erro Médio : 36.97\n"
     ]
    },
    {
     "name": "stderr",
     "output_type": "stream",
     "text": [
      "100%|██████████| 165/165 [00:01<00:00, 128.81it/s]\n"
     ]
    },
    {
     "name": "stdout",
     "output_type": "stream",
     "text": [
      "Epoch : 172, Erro Médio : 36.83\n"
     ]
    },
    {
     "name": "stderr",
     "output_type": "stream",
     "text": [
      "100%|██████████| 165/165 [00:01<00:00, 133.23it/s]\n"
     ]
    },
    {
     "name": "stdout",
     "output_type": "stream",
     "text": [
      "Epoch : 173, Erro Médio : 36.70\n"
     ]
    },
    {
     "name": "stderr",
     "output_type": "stream",
     "text": [
      "100%|██████████| 165/165 [00:01<00:00, 125.32it/s]\n"
     ]
    },
    {
     "name": "stdout",
     "output_type": "stream",
     "text": [
      "Epoch : 174, Erro Médio : 36.56\n"
     ]
    },
    {
     "name": "stderr",
     "output_type": "stream",
     "text": [
      "100%|██████████| 165/165 [00:01<00:00, 149.17it/s]\n"
     ]
    },
    {
     "name": "stdout",
     "output_type": "stream",
     "text": [
      "Epoch : 175, Erro Médio : 36.43\n"
     ]
    },
    {
     "name": "stderr",
     "output_type": "stream",
     "text": [
      "100%|██████████| 165/165 [00:01<00:00, 121.54it/s]\n"
     ]
    },
    {
     "name": "stdout",
     "output_type": "stream",
     "text": [
      "Epoch : 176, Erro Médio : 36.30\n"
     ]
    },
    {
     "name": "stderr",
     "output_type": "stream",
     "text": [
      "100%|██████████| 165/165 [00:01<00:00, 111.68it/s]\n"
     ]
    },
    {
     "name": "stdout",
     "output_type": "stream",
     "text": [
      "Epoch : 177, Erro Médio : 36.17\n"
     ]
    },
    {
     "name": "stderr",
     "output_type": "stream",
     "text": [
      "100%|██████████| 165/165 [00:01<00:00, 147.77it/s]\n"
     ]
    },
    {
     "name": "stdout",
     "output_type": "stream",
     "text": [
      "Epoch : 178, Erro Médio : 36.04\n"
     ]
    },
    {
     "name": "stderr",
     "output_type": "stream",
     "text": [
      "100%|██████████| 165/165 [00:01<00:00, 163.58it/s]\n"
     ]
    },
    {
     "name": "stdout",
     "output_type": "stream",
     "text": [
      "Epoch : 179, Erro Médio : 35.92\n"
     ]
    },
    {
     "name": "stderr",
     "output_type": "stream",
     "text": [
      "100%|██████████| 165/165 [00:01<00:00, 163.65it/s]\n"
     ]
    },
    {
     "name": "stdout",
     "output_type": "stream",
     "text": [
      "Epoch : 180, Erro Médio : 35.79\n"
     ]
    },
    {
     "name": "stderr",
     "output_type": "stream",
     "text": [
      "100%|██████████| 165/165 [00:01<00:00, 130.58it/s]\n"
     ]
    },
    {
     "name": "stdout",
     "output_type": "stream",
     "text": [
      "Epoch : 181, Erro Médio : 35.66\n"
     ]
    },
    {
     "name": "stderr",
     "output_type": "stream",
     "text": [
      "100%|██████████| 165/165 [00:01<00:00, 155.37it/s]\n"
     ]
    },
    {
     "name": "stdout",
     "output_type": "stream",
     "text": [
      "Epoch : 182, Erro Médio : 35.54\n"
     ]
    },
    {
     "name": "stderr",
     "output_type": "stream",
     "text": [
      "100%|██████████| 165/165 [00:01<00:00, 152.87it/s]\n"
     ]
    },
    {
     "name": "stdout",
     "output_type": "stream",
     "text": [
      "Epoch : 183, Erro Médio : 35.42\n"
     ]
    },
    {
     "name": "stderr",
     "output_type": "stream",
     "text": [
      "100%|██████████| 165/165 [00:01<00:00, 133.64it/s]\n"
     ]
    },
    {
     "name": "stdout",
     "output_type": "stream",
     "text": [
      "Epoch : 184, Erro Médio : 35.30\n"
     ]
    },
    {
     "name": "stderr",
     "output_type": "stream",
     "text": [
      "100%|██████████| 165/165 [00:01<00:00, 133.73it/s]\n"
     ]
    },
    {
     "name": "stdout",
     "output_type": "stream",
     "text": [
      "Epoch : 185, Erro Médio : 35.18\n"
     ]
    },
    {
     "name": "stderr",
     "output_type": "stream",
     "text": [
      "100%|██████████| 165/165 [00:01<00:00, 134.28it/s]\n"
     ]
    },
    {
     "name": "stdout",
     "output_type": "stream",
     "text": [
      "Epoch : 186, Erro Médio : 35.06\n"
     ]
    },
    {
     "name": "stderr",
     "output_type": "stream",
     "text": [
      "100%|██████████| 165/165 [00:01<00:00, 142.09it/s]\n"
     ]
    },
    {
     "name": "stdout",
     "output_type": "stream",
     "text": [
      "Epoch : 187, Erro Médio : 34.93\n"
     ]
    },
    {
     "name": "stderr",
     "output_type": "stream",
     "text": [
      "100%|██████████| 165/165 [00:03<00:00, 50.74it/s]\n"
     ]
    },
    {
     "name": "stdout",
     "output_type": "stream",
     "text": [
      "Epoch : 188, Erro Médio : 34.81\n"
     ]
    },
    {
     "name": "stderr",
     "output_type": "stream",
     "text": [
      "100%|██████████| 165/165 [00:02<00:00, 71.21it/s]\n"
     ]
    },
    {
     "name": "stdout",
     "output_type": "stream",
     "text": [
      "Epoch : 189, Erro Médio : 34.69\n"
     ]
    },
    {
     "name": "stderr",
     "output_type": "stream",
     "text": [
      "100%|██████████| 165/165 [00:01<00:00, 143.59it/s]\n"
     ]
    },
    {
     "name": "stdout",
     "output_type": "stream",
     "text": [
      "Epoch : 190, Erro Médio : 34.57\n"
     ]
    },
    {
     "name": "stderr",
     "output_type": "stream",
     "text": [
      "100%|██████████| 165/165 [00:01<00:00, 131.74it/s]\n"
     ]
    },
    {
     "name": "stdout",
     "output_type": "stream",
     "text": [
      "Epoch : 191, Erro Médio : 34.46\n"
     ]
    },
    {
     "name": "stderr",
     "output_type": "stream",
     "text": [
      "100%|██████████| 165/165 [00:01<00:00, 147.49it/s]\n"
     ]
    },
    {
     "name": "stdout",
     "output_type": "stream",
     "text": [
      "Epoch : 192, Erro Médio : 34.35\n"
     ]
    },
    {
     "name": "stderr",
     "output_type": "stream",
     "text": [
      "100%|██████████| 165/165 [00:01<00:00, 141.91it/s]\n"
     ]
    },
    {
     "name": "stdout",
     "output_type": "stream",
     "text": [
      "Epoch : 193, Erro Médio : 34.23\n"
     ]
    },
    {
     "name": "stderr",
     "output_type": "stream",
     "text": [
      "100%|██████████| 165/165 [00:01<00:00, 114.44it/s]\n"
     ]
    },
    {
     "name": "stdout",
     "output_type": "stream",
     "text": [
      "Epoch : 194, Erro Médio : 34.11\n"
     ]
    },
    {
     "name": "stderr",
     "output_type": "stream",
     "text": [
      "100%|██████████| 165/165 [00:01<00:00, 118.20it/s]\n"
     ]
    },
    {
     "name": "stdout",
     "output_type": "stream",
     "text": [
      "Epoch : 195, Erro Médio : 34.00\n"
     ]
    },
    {
     "name": "stderr",
     "output_type": "stream",
     "text": [
      "100%|██████████| 165/165 [00:01<00:00, 129.62it/s]\n"
     ]
    },
    {
     "name": "stdout",
     "output_type": "stream",
     "text": [
      "Epoch : 196, Erro Médio : 33.89\n"
     ]
    },
    {
     "name": "stderr",
     "output_type": "stream",
     "text": [
      "100%|██████████| 165/165 [00:00<00:00, 173.28it/s]\n"
     ]
    },
    {
     "name": "stdout",
     "output_type": "stream",
     "text": [
      "Epoch : 197, Erro Médio : 33.78\n"
     ]
    },
    {
     "name": "stderr",
     "output_type": "stream",
     "text": [
      "100%|██████████| 165/165 [00:00<00:00, 182.11it/s]\n"
     ]
    },
    {
     "name": "stdout",
     "output_type": "stream",
     "text": [
      "Epoch : 198, Erro Médio : 33.68\n"
     ]
    },
    {
     "name": "stderr",
     "output_type": "stream",
     "text": [
      "100%|██████████| 165/165 [00:00<00:00, 178.23it/s]"
     ]
    },
    {
     "name": "stdout",
     "output_type": "stream",
     "text": [
      "Epoch : 199, Erro Médio : 33.57\n"
     ]
    },
    {
     "name": "stderr",
     "output_type": "stream",
     "text": [
      "\n"
     ]
    }
   ],
   "source": [
    "# Executa a função de treinamento e retorna o modelo e os erros\n",
    "model, losses = treina_glove(co_occ_mat)"
   ]
  },
  {
   "cell_type": "code",
   "execution_count": 51,
   "metadata": {},
   "outputs": [],
   "source": [
    "# Função para o plot do erro durante o treinamento\n",
    "def plot_loss(losses, title):\n",
    "    plt.plot(range(len(losses)), losses)\n",
    "    plt.xlabel('Epoch')\n",
    "    plt.ylabel('Erro')\n",
    "    plt.title(title)\n",
    "    plt.figure()"
   ]
  },
  {
   "cell_type": "code",
   "execution_count": 52,
   "metadata": {},
   "outputs": [
    {
     "data": {
      "image/png": "[encoded data removed]",
      "text/plain": [
       "<Figure size 640x480 with 1 Axes>"
      ]
     },
     "metadata": {},
     "output_type": "display_data"
    },
    {
     "data": {
      "text/plain": [
       "<Figure size 640x480 with 0 Axes>"
      ]
     },
     "metadata": {},
     "output_type": "display_data"
    }
   ],
   "source": [
    "# Plot\n",
    "plot_loss(losses, \"Erro de Treinamento do Modelo GloVe\")"
   ]
  },
  {
   "cell_type": "markdown",
   "metadata": {
    "collapsed": true
   },
   "source": [
    "### Testando o Modelo: Similaridade de Palavras, analogias de palavras"
   ]
  },
  {
   "cell_type": "code",
   "execution_count": 53,
   "metadata": {},
   "outputs": [],
   "source": [
    "# Função que retorna a embedding de uma palavra\n",
    "def get_palavra(palavra, modelo, word_to_ix):\n",
    "    return model.embeddings()[word_to_ix[palavra]]"
   ]
  },
  {
   "cell_type": "code",
   "execution_count": 54,
   "metadata": {},
   "outputs": [],
   "source": [
    "# Função para busca a palavra mais próxima\n",
    "def busca_palavra_similaridade(vec, word_to_ix, n = 10):\n",
    "    all_dists = [(w, torch.dist(vec, get_palavra(w, model, palavra_indice))) for w in palavra_indice]\n",
    "    return sorted(all_dists, key = lambda t: t[1])[:n]"
   ]
  },
  {
   "cell_type": "code",
   "execution_count": 55,
   "metadata": {},
   "outputs": [
    {
     "name": "stdout",
     "output_type": "stream",
     "text": [
      "tensor([-3.8859e-01,  1.1619e-01, -3.7435e-01,  3.9027e-01,  5.7107e-01,\n",
      "         9.4596e-02, -3.4398e-01, -6.3336e-01, -1.6807e-01, -4.1914e-01,\n",
      "        -5.6635e-01,  3.0477e-01, -6.4961e-04, -4.8855e-01,  1.5801e-01,\n",
      "        -6.7354e-01, -8.0539e-01, -7.6580e-02, -1.5682e-01, -6.7890e-01,\n",
      "        -8.6754e-02, -5.9756e-01, -5.4412e-02,  1.8377e-02, -9.0258e-02,\n",
      "         3.6710e-01, -7.0742e-02,  1.3628e-01, -2.3566e-01,  6.0820e-01,\n",
      "         2.6061e-01,  7.5983e-01, -2.9987e-01,  7.8801e-01, -8.8525e-01,\n",
      "         1.3980e-01,  5.3617e-01,  4.0961e-01, -3.3555e-01,  1.0796e-01,\n",
      "        -3.4773e-01, -1.3615e-01,  4.4062e-01,  1.5189e-01, -3.0155e-01,\n",
      "         5.1863e-01,  3.9458e-02, -2.3448e-01, -3.6365e-01, -3.5299e-01])\n"
     ]
    }
   ],
   "source": [
    "# Gerando o vetor (embedding) de uma palavra \n",
    "vector = get_palavra(\"espaço\", model, palavra_indice)\n",
    "print(vector)"
   ]
  },
  {
   "cell_type": "code",
   "execution_count": 56,
   "metadata": {},
   "outputs": [
    {
     "data": {
      "text/plain": [
       "[('espaço', tensor(0.)),\n",
       " ('no', tensor(2.7936)),\n",
       " ('problema', tensor(3.1424)),\n",
       " ('tornou-se', tensor(3.3150)),\n",
       " ('antigo', tensor(3.3957)),\n",
       " ('todo', tensor(3.4224)),\n",
       " ('luz', tensor(3.4375)),\n",
       " ('depois', tensor(3.4445)),\n",
       " ('humanidade', tensor(3.4969)),\n",
       " ('desde', tensor(3.5068))]"
      ]
     },
     "execution_count": 56,
     "metadata": {},
     "output_type": "execute_result"
    }
   ],
   "source": [
    "# Busca as palavras similares à palavra \"espaço\"\n",
    "busca_palavra_similaridade(vector, palavra_indice)"
   ]
  },
  {
   "cell_type": "markdown",
   "metadata": {},
   "source": [
    "Observe que a palavra \"espaço\" tem 0 de distância para si mesma. A próxima palavra mais parecida com \"espaço\" é \"universo\" e assim por diante. Quanto menor a distância, mais parecida a palavra. Lembrando que a busca por similaridade é feita com as embeddings treinadas com o modelo GloVe. \n",
    "\n",
    "Mais um exemplo:"
   ]
  },
  {
   "cell_type": "code",
   "execution_count": 57,
   "metadata": {},
   "outputs": [
    {
     "name": "stdout",
     "output_type": "stream",
     "text": [
      "tensor([ 0.7867, -0.1738,  0.3321, -0.2930, -0.0012, -0.1289, -0.8730,  0.1999,\n",
      "        -0.2081,  0.0302,  0.2663,  0.1298,  0.0212, -0.8134, -0.3651,  0.4336,\n",
      "         0.5346, -0.1315,  0.0567,  0.2554,  0.1832,  0.8892,  0.0183, -0.3425,\n",
      "         0.9605,  0.2484,  1.0136, -0.4400,  0.3552, -0.7178,  0.1675, -0.7444,\n",
      "         0.3403, -0.5751,  0.1606,  0.4634, -1.1768,  1.0049, -0.1655, -0.7545,\n",
      "        -0.6582, -0.8840, -0.6188, -0.3907, -0.1900, -0.7281,  0.2646,  0.0746,\n",
      "         0.3369,  0.1203])\n"
     ]
    }
   ],
   "source": [
    "# Gerando o vetor (embedding) de uma palavra \n",
    "vector = get_palavra(\"solar\", model, palavra_indice)\n",
    "print(vector)"
   ]
  },
  {
   "cell_type": "code",
   "execution_count": 58,
   "metadata": {},
   "outputs": [
    {
     "data": {
      "text/plain": [
       "[('solar', tensor(0.)),\n",
       " ('energia', tensor(3.1549)),\n",
       " ('imortalidade', tensor(3.7198)),\n",
       " ('por', tensor(3.7941)),\n",
       " ('forma', tensor(3.8476)),\n",
       " ('plano', tensor(3.8894)),\n",
       " ('única', tensor(3.8975)),\n",
       " ('cinzas.', tensor(3.9303)),\n",
       " ('estação', tensor(3.9343)),\n",
       " ('disponível', tensor(3.9537))]"
      ]
     },
     "execution_count": 58,
     "metadata": {},
     "output_type": "execute_result"
    }
   ],
   "source": [
    "# Busca as palavras similares à palavra \"solar\"\n",
    "busca_palavra_similaridade(vector, palavra_indice)"
   ]
  },
  {
   "cell_type": "markdown",
   "metadata": {},
   "source": [
    "A distância da palavra \"solar\" para si mesma é 0 e a palavra com maior similaridade é \"energia\" o que faz todo sentido se você leu o texto do Asimov usado para treinar o modelo."
   ]
  },
  {
   "cell_type": "markdown",
   "metadata": {},
   "source": [
    "### Analogia\n",
    "\n",
    "![title](imagens/glove.png)"
   ]
  },
  {
   "cell_type": "markdown",
   "metadata": {},
   "source": [
    "Observe na imagem acima que criamos uma \"fórmula\" com 3 palavras visando buscar a quarta palavra, o que é feito por analogia das embeddings (vetores de palavras).\n",
    "\n",
    "Criamos então uma função para buscar a palavra por analogia no formato: \n",
    "\n",
    "palavra1 : palavra2 :: palavra3 : ?"
   ]
  },
  {
   "cell_type": "code",
   "execution_count": 59,
   "metadata": {},
   "outputs": [],
   "source": [
    "# Função para busca de palavra por analogia\n",
    "def busca_analogia(p1, p2, p3, n = 5, filtro = True):\n",
    "    \n",
    "    # Print\n",
    "    print('\\n[%s : %s :: %s : ?]' % (p1, p2, p3))\n",
    "   \n",
    "    # p2 - p1 + p3 = p4\n",
    "    closest_words = busca_palavra_similaridade(get_palavra(p2, model, palavra_indice) - \n",
    "                                               get_palavra(p1, model, palavra_indice) + \n",
    "                                               get_palavra(p3, model, palavra_indice), \n",
    "                                               palavra_indice)\n",
    "    \n",
    "    # Vamos excluir as 3 palavras passadas como parâmetro\n",
    "    if filtro:\n",
    "        closest_words = [t for t in closest_words if t[0] not in [p1, p2, p3]]\n",
    "        \n",
    "    for tuple in closest_words[:n]:\n",
    "        print('(%.4f) %s' % (tuple[1], tuple[0]))"
   ]
  },
  {
   "cell_type": "code",
   "execution_count": 60,
   "metadata": {},
   "outputs": [
    {
     "name": "stdout",
     "output_type": "stream",
     "text": [
      "\n",
      "[família : crianças :: humano : ?]\n",
      "(5.5764) veio\n",
      "(5.6319) metade\n",
      "(5.6563) refinamento\n",
      "(5.6816) demorou\n",
      "(5.7241) singular\n"
     ]
    }
   ],
   "source": [
    "# Busca por analogia\n",
    "busca_analogia(\"família\", \"crianças\", \"humano\")"
   ]
  },
  {
   "cell_type": "markdown",
   "metadata": {},
   "source": [
    "E aí estão as palavras que melhor se encaixam na quarta palavra, de acordo com nosso modelo.\n",
    "\n",
    "Quanto maior a distância, menor a similaridade! Treine o modelo com seus próprios textos e experimente a busca por similaridade."
   ]
  },
  {
   "cell_type": "markdown",
   "metadata": {
    "collapsed": true
   },
   "source": [
    "# Fim"
   ]
  }
 ],
 "metadata": {
  "anaconda-cloud": {},
  "kernelspec": {
   "display_name": "base",
   "language": "python",
   "name": "python3"
  },
  "language_info": {
   "codemirror_mode": {
    "name": "ipython",
    "version": 3
   },
   "file_extension": ".py",
   "mimetype": "text/x-python",
   "name": "python",
   "nbconvert_exporter": "python",
   "pygments_lexer": "ipython3",
   "version": "3.9.13"
  }
 },
 "nbformat": 4,
 "nbformat_minor": 1
}
