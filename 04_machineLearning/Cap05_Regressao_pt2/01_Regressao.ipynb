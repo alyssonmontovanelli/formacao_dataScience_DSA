{
 "cells": [
  {
   "cell_type": "markdown",
   "metadata": {},
   "source": [
    "# REGRESSÃO LINEAR SIMPLES"
   ]
  },
  {
   "cell_type": "markdown",
   "metadata": {},
   "source": [
    "#### Definindo o Problema de Negócio\n",
    "Nosso objetivo é construir um modelo de Machine Learning que seja capaz de fazer previsões sobre a taxa média de ocupação de casas na região de Boston, EUA, por proprietários. A variável a ser prevista é um valor numérico que representa a mediana da taxa de ocupação das casas em Boston. Para cada casa temos diversas variáveis explanatórias. Sendo assim, podemos resolver este problema empregando Regressão Linear Simples ou Múltipla."
   ]
  },
  {
   "cell_type": "markdown",
   "metadata": {},
   "source": [
    "#### Definindo o Dataset\n",
    "Usaremos o Boston Housing Dataset, que é um conjunto de dados que tem a taxa média de ocupação das casas, juntamente com outras 13 variáveis que podem estar relacionadas aos preços das casas. Esses são os fatores como condições socioeconômicas, condições ambientais, instalações educacionais e alguns outros fatores semelhantes. Existem 506 observações nos dados para 14 variáveis. Existem 12 variáveis numéricas em nosso conjunto de dados e 1 variável categórica. O objetivo deste projeto é construir um modelo de regressão linear para estimar a taxa média de ocupação das casas pelos proprietários em Boston."
   ]
  },
  {
   "cell_type": "markdown",
   "metadata": {},
   "source": [
    "- CRIM: per capita crime rate by town / \n",
    "- ZN: proportion of residential land zoned for lots over 25,000 sq.ft.\n",
    "- INDUS: proportion of non-retail business acres per town\n",
    "- CHAS: Charles River dummy variable (= 1 if tract bounds river; 0 otherwise)\n",
    "- NOX: nitric oxides concentration (parts per 10 million)\n",
    "- RM: average number of rooms per dwelling\n",
    "- AGE: proportion of owner-occupied units built prior to 1940\n",
    "- DIS: weighted distances to five Boston employment centres\n",
    "- RAD: index of accessibility to radial highways\n",
    "- TAX: full-value property-tax rate per 10,000\n",
    "- PTRATIO: pupil-teacher ratio by town\n",
    "- B: 1000(Bk - 0.63)^2 where Bk is the proportion of blacks by town\n",
    "- LSTAT: % lower status of the population\n",
    "- TARGET: Median value of owner-occupied homes in $1000's"
   ]
  },
  {
   "cell_type": "code",
   "execution_count": 20,
   "metadata": {},
   "outputs": [],
   "source": [
    "import numpy as np\n",
    "import pandas as pd\n",
    "import matplotlib.pyplot as plt\n",
    "import matplotlib as mpl\n",
    "import warnings\n",
    "warnings.filterwarnings(\"ignore\")\n",
    "%matplotlib inline "
   ]
  },
  {
   "cell_type": "code",
   "execution_count": 21,
   "metadata": {},
   "outputs": [],
   "source": [
    "dataset = pd.read_csv(\"C:/formacao_dataScience_DSA_DADOS/04_machineLearning/Cap05_Regressao_pt2/dados/PY/BostonHousing.csv\")"
   ]
  },
  {
   "cell_type": "code",
   "execution_count": 22,
   "metadata": {},
   "outputs": [
    {
     "data": {
      "text/plain": [
       "Index(['crim', 'zn', 'indus', 'chas', 'nox', 'rm', 'age', 'dis', 'rad', 'tax',\n",
       "       'ptratio', 'b', 'lstat', 'medv'],\n",
       "      dtype='object')"
      ]
     },
     "execution_count": 22,
     "metadata": {},
     "output_type": "execute_result"
    }
   ],
   "source": [
    "dataset.columns"
   ]
  },
  {
   "cell_type": "code",
   "execution_count": 23,
   "metadata": {},
   "outputs": [],
   "source": [
    "dataset = dataset.rename(columns = {'medv': \"Target\"})"
   ]
  },
  {
   "cell_type": "code",
   "execution_count": 24,
   "metadata": {},
   "outputs": [
    {
     "data": {
      "text/html": [
       "<div>\n",
       "<style scoped>\n",
       "    .dataframe tbody tr th:only-of-type {\n",
       "        vertical-align: middle;\n",
       "    }\n",
       "\n",
       "    .dataframe tbody tr th {\n",
       "        vertical-align: top;\n",
       "    }\n",
       "\n",
       "    .dataframe thead th {\n",
       "        text-align: right;\n",
       "    }\n",
       "</style>\n",
       "<table border=\"1\" class=\"dataframe\">\n",
       "  <thead>\n",
       "    <tr style=\"text-align: right;\">\n",
       "      <th></th>\n",
       "      <th>crim</th>\n",
       "      <th>zn</th>\n",
       "      <th>indus</th>\n",
       "      <th>chas</th>\n",
       "      <th>nox</th>\n",
       "      <th>rm</th>\n",
       "      <th>age</th>\n",
       "      <th>dis</th>\n",
       "      <th>rad</th>\n",
       "      <th>tax</th>\n",
       "      <th>ptratio</th>\n",
       "      <th>b</th>\n",
       "      <th>lstat</th>\n",
       "      <th>Target</th>\n",
       "    </tr>\n",
       "  </thead>\n",
       "  <tbody>\n",
       "    <tr>\n",
       "      <th>0</th>\n",
       "      <td>0.00632</td>\n",
       "      <td>18.0</td>\n",
       "      <td>2.31</td>\n",
       "      <td>0</td>\n",
       "      <td>0.538</td>\n",
       "      <td>6.575</td>\n",
       "      <td>65.2</td>\n",
       "      <td>4.0900</td>\n",
       "      <td>1</td>\n",
       "      <td>296</td>\n",
       "      <td>15.3</td>\n",
       "      <td>396.90</td>\n",
       "      <td>4.98</td>\n",
       "      <td>24.0</td>\n",
       "    </tr>\n",
       "    <tr>\n",
       "      <th>1</th>\n",
       "      <td>0.02731</td>\n",
       "      <td>0.0</td>\n",
       "      <td>7.07</td>\n",
       "      <td>0</td>\n",
       "      <td>0.469</td>\n",
       "      <td>6.421</td>\n",
       "      <td>78.9</td>\n",
       "      <td>4.9671</td>\n",
       "      <td>2</td>\n",
       "      <td>242</td>\n",
       "      <td>17.8</td>\n",
       "      <td>396.90</td>\n",
       "      <td>9.14</td>\n",
       "      <td>21.6</td>\n",
       "    </tr>\n",
       "    <tr>\n",
       "      <th>2</th>\n",
       "      <td>0.02729</td>\n",
       "      <td>0.0</td>\n",
       "      <td>7.07</td>\n",
       "      <td>0</td>\n",
       "      <td>0.469</td>\n",
       "      <td>7.185</td>\n",
       "      <td>61.1</td>\n",
       "      <td>4.9671</td>\n",
       "      <td>2</td>\n",
       "      <td>242</td>\n",
       "      <td>17.8</td>\n",
       "      <td>392.83</td>\n",
       "      <td>4.03</td>\n",
       "      <td>34.7</td>\n",
       "    </tr>\n",
       "    <tr>\n",
       "      <th>3</th>\n",
       "      <td>0.03237</td>\n",
       "      <td>0.0</td>\n",
       "      <td>2.18</td>\n",
       "      <td>0</td>\n",
       "      <td>0.458</td>\n",
       "      <td>6.998</td>\n",
       "      <td>45.8</td>\n",
       "      <td>6.0622</td>\n",
       "      <td>3</td>\n",
       "      <td>222</td>\n",
       "      <td>18.7</td>\n",
       "      <td>394.63</td>\n",
       "      <td>2.94</td>\n",
       "      <td>33.4</td>\n",
       "    </tr>\n",
       "    <tr>\n",
       "      <th>4</th>\n",
       "      <td>0.06905</td>\n",
       "      <td>0.0</td>\n",
       "      <td>2.18</td>\n",
       "      <td>0</td>\n",
       "      <td>0.458</td>\n",
       "      <td>7.147</td>\n",
       "      <td>54.2</td>\n",
       "      <td>6.0622</td>\n",
       "      <td>3</td>\n",
       "      <td>222</td>\n",
       "      <td>18.7</td>\n",
       "      <td>396.90</td>\n",
       "      <td>5.33</td>\n",
       "      <td>36.2</td>\n",
       "    </tr>\n",
       "  </tbody>\n",
       "</table>\n",
       "</div>"
      ],
      "text/plain": [
       "      crim    zn  indus  chas    nox     rm   age     dis  rad  tax  ptratio  \\\n",
       "0  0.00632  18.0   2.31     0  0.538  6.575  65.2  4.0900    1  296     15.3   \n",
       "1  0.02731   0.0   7.07     0  0.469  6.421  78.9  4.9671    2  242     17.8   \n",
       "2  0.02729   0.0   7.07     0  0.469  7.185  61.1  4.9671    2  242     17.8   \n",
       "3  0.03237   0.0   2.18     0  0.458  6.998  45.8  6.0622    3  222     18.7   \n",
       "4  0.06905   0.0   2.18     0  0.458  7.147  54.2  6.0622    3  222     18.7   \n",
       "\n",
       "        b  lstat  Target  \n",
       "0  396.90   4.98    24.0  \n",
       "1  396.90   9.14    21.6  \n",
       "2  392.83   4.03    34.7  \n",
       "3  394.63   2.94    33.4  \n",
       "4  396.90   5.33    36.2  "
      ]
     },
     "execution_count": 24,
     "metadata": {},
     "output_type": "execute_result"
    }
   ],
   "source": [
    "dataset.head()"
   ]
  },
  {
   "cell_type": "code",
   "execution_count": 25,
   "metadata": {},
   "outputs": [],
   "source": [
    "# Calculando a média da variavel de resposta\n",
    "valor_medio_esperado_na_previsao = dataset['Target'].mean()"
   ]
  },
  {
   "cell_type": "code",
   "execution_count": 26,
   "metadata": {},
   "outputs": [
    {
     "data": {
      "text/plain": [
       "22.532806324110677"
      ]
     },
     "execution_count": 26,
     "metadata": {},
     "output_type": "execute_result"
    }
   ],
   "source": [
    "valor_medio_esperado_na_previsao"
   ]
  },
  {
   "cell_type": "code",
   "execution_count": 27,
   "metadata": {},
   "outputs": [
    {
     "name": "stdout",
     "output_type": "stream",
     "text": [
      "Soma dos Quadrados dos Erros (SSE): 42716\n"
     ]
    }
   ],
   "source": [
    "# Calculando (simulando) o SSE\n",
    "# O SSE é a diferença ao quadrado entre o valor previsto e o valor observado.\n",
    "# Considerando que o valor previsto seja igual a média, podemos considerar que \n",
    "# y = média da variável target (valores observados).\n",
    "\n",
    "# Estamos apenas simulando o SSE, uma vez que a regressão ainda não foi criada e os valores previstos \n",
    "# ainda não foram calculados.\n",
    "\n",
    "squared_errors = pd.Series(valor_medio_esperado_na_previsao - dataset['Target'])**2 \n",
    "SSE = np.sum(squared_errors)\n",
    "print ('Soma dos Quadrados dos Erros (SSE): %01.f' % SSE)"
   ]
  },
  {
   "cell_type": "code",
   "execution_count": 28,
   "metadata": {},
   "outputs": [
    {
     "data": {
      "text/plain": [
       "<Axes: ylabel='Frequency'>"
      ]
     },
     "execution_count": 28,
     "metadata": {},
     "output_type": "execute_result"
    },
    {
     "data": {
      "image/png": "[encoded data removed]",
      "text/plain": [
       "<Figure size 640x480 with 1 Axes>"
      ]
     },
     "metadata": {},
     "output_type": "display_data"
    }
   ],
   "source": [
    "squared_errors.plot(kind = 'hist')"
   ]
  },
  {
   "cell_type": "code",
   "execution_count": 29,
   "metadata": {},
   "outputs": [],
   "source": [
    "# Para Regressão Simples, usaremos a variável RM que representa o nmr médio de quartos nas casas"
   ]
  },
  {
   "cell_type": "code",
   "execution_count": 30,
   "metadata": {},
   "outputs": [],
   "source": [
    "# Função para calcular o desvio padrão\n",
    "def calc_desvio_padrao(variable, bias = 0):\n",
    " observations = float(len(variable))\n",
    " return np.sqrt(np.sum((variable - np.mean(variable))**2) / (observations - min(bias,1)))"
   ]
  },
  {
   "cell_type": "code",
   "execution_count": 31,
   "metadata": {},
   "outputs": [
    {
     "name": "stdout",
     "output_type": "stream",
     "text": [
      "Resultado da Função: 0.70139 Resultado do Numpy: 0.70488\n"
     ]
    }
   ],
   "source": [
    "# Imprime o desvio padrao via formula e via Numpy da variável RM (qtde de quartos)\n",
    "print ('Resultado da Função: %0.5f Resultado do Numpy: %0.5f' % (calc_desvio_padrao(dataset['rm']), np.std(dataset['rm'])))"
   ]
  },
  {
   "cell_type": "code",
   "execution_count": 32,
   "metadata": {},
   "outputs": [],
   "source": [
    "# Função para calcular a variância da variável RM e a correlação com a variável target (MANUAL)\n",
    "def covariance(variable_1, variable_2, bias = 0):\n",
    "    observations = float(len(variable_1))\n",
    "    return np.sum((variable_1 - np.mean(variable_1)) * (variable_2 - np.mean(variable_2))) / (observations - min(bias,1))\n",
    "\n",
    "def standardize(variable):\n",
    "    return (variable - np.mean(variable)) / np.std(variable)\n",
    "\n",
    "def correlation(var1, var2, bias = 0):\n",
    "    return covariance(standardize(var1), standardize(var2), bias)"
   ]
  },
  {
   "cell_type": "code",
   "execution_count": 50,
   "metadata": {},
   "outputs": [
    {
     "name": "stdout",
     "output_type": "stream",
     "text": [
      "Nossa estimativa de Correlação: 0.69617\n",
      "Correlação a partir da função pearsonr do SciPy: 0.69617\n"
     ]
    }
   ],
   "source": [
    "# COMPARANDO O RESULTADO DAS FUNÇÕES COM A FUNÇÃO PEARSONR DO SCIPY\n",
    "from scipy.stats.stats import pearsonr\n",
    "print ('Nossa estimativa de Correlação: %0.5f' % (correlation(dataset['rm'], dataset['Target'])))\n",
    "print ('Correlação a partir da função pearsonr do SciPy: %0.5f' % pearsonr(dataset['rm'], dataset['Target'])[0])"
   ]
  },
  {
   "cell_type": "code",
   "execution_count": 51,
   "metadata": {},
   "outputs": [],
   "source": [
    "# colocando em gráfico \n",
    "x_range = [dataset['rm'].min(), dataset['rm'].max()]\n",
    "y_range = [dataset['Target'].min(), dataset['Target'].max()]"
   ]
  },
  {
   "cell_type": "code",
   "execution_count": 52,
   "metadata": {},
   "outputs": [
    {
     "data": {
      "image/png": "[encoded data removed]",
      "text/plain": [
       "<Figure size 640x480 with 1 Axes>"
      ]
     },
     "metadata": {},
     "output_type": "display_data"
    }
   ],
   "source": [
    "# PLOT\n",
    "scatter_plot = dataset.plot(kind = 'scatter', x='rm', y='Target', xlim=x_range, ylim=y_range)\n",
    "\n",
    "# Calculo da média \n",
    "meanY = scatter_plot.plot(x_range, [dataset['Target'].mean(),dataset['Target'].mean()], '--', color = 'red', linewidth = 1)\n",
    "meanX = scatter_plot.plot([dataset['rm'].mean(), dataset['rm'].mean()], y_range, '--', color = 'red', linewidth = 1)"
   ]
  },
  {
   "cell_type": "markdown",
   "metadata": {},
   "source": [
    "# REGRESSÃO LINEAR COM StasModels"
   ]
  },
  {
   "cell_type": "code",
   "execution_count": 37,
   "metadata": {},
   "outputs": [],
   "source": [
    "# Importando funções \n",
    "import statsmodels.api as sm"
   ]
  },
  {
   "cell_type": "code",
   "execution_count": 53,
   "metadata": {},
   "outputs": [],
   "source": [
    "# Gerando X e Y. Vamos adicionar a constante ao valor de X, gerando uma matrix\n",
    "y = dataset['Target']\n",
    "x = dataset['rm']"
   ]
  },
  {
   "cell_type": "code",
   "execution_count": 54,
   "metadata": {},
   "outputs": [],
   "source": [
    "# Esse comando adiciona os valores dos coeficientes a variavel X( o bias será calculado internamente pela funcao)\n",
    "x = sm.add_constant(x)\n",
    "\n",
    "# StatsModels requer uma matriz de entrada"
   ]
  },
  {
   "cell_type": "code",
   "execution_count": 55,
   "metadata": {},
   "outputs": [
    {
     "data": {
      "text/html": [
       "<div>\n",
       "<style scoped>\n",
       "    .dataframe tbody tr th:only-of-type {\n",
       "        vertical-align: middle;\n",
       "    }\n",
       "\n",
       "    .dataframe tbody tr th {\n",
       "        vertical-align: top;\n",
       "    }\n",
       "\n",
       "    .dataframe thead th {\n",
       "        text-align: right;\n",
       "    }\n",
       "</style>\n",
       "<table border=\"1\" class=\"dataframe\">\n",
       "  <thead>\n",
       "    <tr style=\"text-align: right;\">\n",
       "      <th></th>\n",
       "      <th>const</th>\n",
       "      <th>rm</th>\n",
       "    </tr>\n",
       "  </thead>\n",
       "  <tbody>\n",
       "    <tr>\n",
       "      <th>0</th>\n",
       "      <td>1.0</td>\n",
       "      <td>6.575</td>\n",
       "    </tr>\n",
       "    <tr>\n",
       "      <th>1</th>\n",
       "      <td>1.0</td>\n",
       "      <td>6.421</td>\n",
       "    </tr>\n",
       "    <tr>\n",
       "      <th>2</th>\n",
       "      <td>1.0</td>\n",
       "      <td>7.185</td>\n",
       "    </tr>\n",
       "    <tr>\n",
       "      <th>3</th>\n",
       "      <td>1.0</td>\n",
       "      <td>6.998</td>\n",
       "    </tr>\n",
       "    <tr>\n",
       "      <th>4</th>\n",
       "      <td>1.0</td>\n",
       "      <td>7.147</td>\n",
       "    </tr>\n",
       "  </tbody>\n",
       "</table>\n",
       "</div>"
      ],
      "text/plain": [
       "   const     rm\n",
       "0    1.0  6.575\n",
       "1    1.0  6.421\n",
       "2    1.0  7.185\n",
       "3    1.0  6.998\n",
       "4    1.0  7.147"
      ]
     },
     "execution_count": 55,
     "metadata": {},
     "output_type": "execute_result"
    }
   ],
   "source": [
    "x.head()"
   ]
  },
  {
   "cell_type": "code",
   "execution_count": 56,
   "metadata": {},
   "outputs": [
    {
     "data": {
      "text/html": [
       "<div>\n",
       "<style scoped>\n",
       "    .dataframe tbody tr th:only-of-type {\n",
       "        vertical-align: middle;\n",
       "    }\n",
       "\n",
       "    .dataframe tbody tr th {\n",
       "        vertical-align: top;\n",
       "    }\n",
       "\n",
       "    .dataframe thead th {\n",
       "        text-align: right;\n",
       "    }\n",
       "</style>\n",
       "<table border=\"1\" class=\"dataframe\">\n",
       "  <thead>\n",
       "    <tr style=\"text-align: right;\">\n",
       "      <th></th>\n",
       "      <th>crim</th>\n",
       "      <th>zn</th>\n",
       "      <th>indus</th>\n",
       "      <th>chas</th>\n",
       "      <th>nox</th>\n",
       "      <th>rm</th>\n",
       "      <th>age</th>\n",
       "      <th>dis</th>\n",
       "      <th>rad</th>\n",
       "      <th>tax</th>\n",
       "      <th>ptratio</th>\n",
       "      <th>b</th>\n",
       "      <th>lstat</th>\n",
       "      <th>Target</th>\n",
       "    </tr>\n",
       "  </thead>\n",
       "  <tbody>\n",
       "  </tbody>\n",
       "</table>\n",
       "</div>"
      ],
      "text/plain": [
       "Empty DataFrame\n",
       "Columns: [crim, zn, indus, chas, nox, rm, age, dis, rad, tax, ptratio, b, lstat, Target]\n",
       "Index: []"
      ]
     },
     "execution_count": 56,
     "metadata": {},
     "output_type": "execute_result"
    }
   ],
   "source": [
    "dataset[dataset['rm'].isna()]"
   ]
  },
  {
   "cell_type": "code",
   "execution_count": 57,
   "metadata": {},
   "outputs": [
    {
     "data": {
      "text/html": [
       "<div>\n",
       "<style scoped>\n",
       "    .dataframe tbody tr th:only-of-type {\n",
       "        vertical-align: middle;\n",
       "    }\n",
       "\n",
       "    .dataframe tbody tr th {\n",
       "        vertical-align: top;\n",
       "    }\n",
       "\n",
       "    .dataframe thead th {\n",
       "        text-align: right;\n",
       "    }\n",
       "</style>\n",
       "<table border=\"1\" class=\"dataframe\">\n",
       "  <thead>\n",
       "    <tr style=\"text-align: right;\">\n",
       "      <th></th>\n",
       "      <th>crim</th>\n",
       "      <th>zn</th>\n",
       "      <th>indus</th>\n",
       "      <th>chas</th>\n",
       "      <th>nox</th>\n",
       "      <th>rm</th>\n",
       "      <th>age</th>\n",
       "      <th>dis</th>\n",
       "      <th>rad</th>\n",
       "      <th>tax</th>\n",
       "      <th>ptratio</th>\n",
       "      <th>b</th>\n",
       "      <th>lstat</th>\n",
       "      <th>Target</th>\n",
       "    </tr>\n",
       "  </thead>\n",
       "  <tbody>\n",
       "  </tbody>\n",
       "</table>\n",
       "</div>"
      ],
      "text/plain": [
       "Empty DataFrame\n",
       "Columns: [crim, zn, indus, chas, nox, rm, age, dis, rad, tax, ptratio, b, lstat, Target]\n",
       "Index: []"
      ]
     },
     "execution_count": 57,
     "metadata": {},
     "output_type": "execute_result"
    }
   ],
   "source": [
    "dataset[dataset['Target'].isna()]"
   ]
  },
  {
   "cell_type": "code",
   "execution_count": 43,
   "metadata": {},
   "outputs": [],
   "source": [
    "dataset = dataset.dropna(subset=['rm'])"
   ]
  },
  {
   "cell_type": "code",
   "execution_count": 58,
   "metadata": {},
   "outputs": [],
   "source": [
    "# Criando o modelo de Regressão Simples\n",
    "modelo = sm.OLS(y,x)\n",
    "modelo_v1 = modelo.fit()"
   ]
  },
  {
   "cell_type": "code",
   "execution_count": 59,
   "metadata": {},
   "outputs": [
    {
     "name": "stdout",
     "output_type": "stream",
     "text": [
      "                            OLS Regression Results                            \n",
      "==============================================================================\n",
      "Dep. Variable:                 Target   R-squared:                       0.485\n",
      "Model:                            OLS   Adj. R-squared:                  0.484\n",
      "Method:                 Least Squares   F-statistic:                     469.3\n",
      "Date:                Wed, 29 May 2024   Prob (F-statistic):           7.56e-74\n",
      "Time:                        00:25:58   Log-Likelihood:                -1657.9\n",
      "No. Observations:                 501   AIC:                             3320.\n",
      "Df Residuals:                     499   BIC:                             3328.\n",
      "Df Model:                           1                                         \n",
      "Covariance Type:            nonrobust                                         \n",
      "==============================================================================\n",
      "                 coef    std err          t      P>|t|      [0.025      0.975]\n",
      "------------------------------------------------------------------------------\n",
      "const        -34.6841      2.659    -13.043      0.000     -39.909     -29.460\n",
      "rm             9.1092      0.421     21.663      0.000       8.283       9.935\n",
      "==============================================================================\n",
      "Omnibus:                      100.785   Durbin-Watson:                   0.683\n",
      "Prob(Omnibus):                  0.000   Jarque-Bera (JB):              600.768\n",
      "Skew:                           0.718   Prob(JB):                    3.51e-131\n",
      "Kurtosis:                       8.169   Cond. No.                         58.1\n",
      "==============================================================================\n",
      "\n",
      "Notes:\n",
      "[1] Standard Errors assume that the covariance matrix of the errors is correctly specified.\n"
     ]
    }
   ],
   "source": [
    "print(modelo_v1.summary())"
   ]
  },
  {
   "cell_type": "code",
   "execution_count": 60,
   "metadata": {},
   "outputs": [
    {
     "name": "stdout",
     "output_type": "stream",
     "text": [
      "const   -34.684058\n",
      "rm        9.109202\n",
      "dtype: float64\n"
     ]
    }
   ],
   "source": [
    "print(modelo_v1.params)"
   ]
  },
  {
   "cell_type": "code",
   "execution_count": 61,
   "metadata": {},
   "outputs": [
    {
     "data": {
      "text/plain": [
       "0      25.208946\n",
       "1      23.806129\n",
       "2      30.765559\n",
       "3      29.062139\n",
       "4      30.419410\n",
       "         ...    \n",
       "501    25.372912\n",
       "502    21.064259\n",
       "503    28.861736\n",
       "504    27.203861\n",
       "505    20.244431\n",
       "Length: 501, dtype: float64"
      ]
     },
     "execution_count": 61,
     "metadata": {},
     "output_type": "execute_result"
    }
   ],
   "source": [
    "# Gerando os valores previstos \n",
    "valores_previstos = modelo_v1.predict(x)\n",
    "valores_previstos"
   ]
  },
  {
   "cell_type": "code",
   "execution_count": 62,
   "metadata": {},
   "outputs": [
    {
     "name": "stdout",
     "output_type": "stream",
     "text": [
      "Se RM = 5, nosso modelo prevê que a mediana da tx de copuação será [10.8619528]\n"
     ]
    }
   ],
   "source": [
    "# Fazendo previsões com o modelo treinado \n",
    "RM = 5\n",
    "Xp = np.array([1, RM])\n",
    "print(f\"Se RM = {RM}, nosso modelo prevê que a mediana da tx de copuação será {modelo_v1.predict(Xp)}\")"
   ]
  },
  {
   "cell_type": "markdown",
   "metadata": {},
   "source": [
    "### Criando Scatter Plot para o modelo com a LINHA DE REGRESSÃO"
   ]
  },
  {
   "cell_type": "code",
   "execution_count": 63,
   "metadata": {},
   "outputs": [],
   "source": [
    "# Range de valores para x e y\n",
    "x_range = [dataset['rm'].min(), dataset['rm'].max()]\n",
    "y_range = [dataset['Target'].min(), dataset['Target'].max()]"
   ]
  },
  {
   "cell_type": "code",
   "execution_count": 64,
   "metadata": {},
   "outputs": [
    {
     "data": {
      "image/png": "[encoded data removed]",
      "text/plain": [
       "<Figure size 640x480 with 1 Axes>"
      ]
     },
     "metadata": {},
     "output_type": "display_data"
    }
   ],
   "source": [
    "# Primeira camada do Scatter Plot\n",
    "scatter_plot = dataset.plot(kind = 'scatter', x = 'rm', y = 'Target', xlim = x_range, ylim = y_range)\n",
    "\n",
    "# Segunda camada do Scatter Plot (médias)\n",
    "meanY = scatter_plot.plot(x_range, [dataset['Target'].mean(),dataset['Target'].mean()], '--', color = 'red', linewidth = 1)\n",
    "meanX = scatter_plot.plot([dataset['rm'].mean(),dataset['rm'].mean()], y_range, '--', color = 'red', linewidth = 1)\n",
    "\n",
    "# Terceira camada do Scatter Plot (linha de regressão)\n",
    "regression_line = scatter_plot.plot(dataset['rm'], valores_previstos, '-', color = 'orange', linewidth = 2)"
   ]
  },
  {
   "cell_type": "code",
   "execution_count": 65,
   "metadata": {},
   "outputs": [],
   "source": [
    "# Gerando os Resíduos\n",
    "residuos = dataset['Target'] - valores_previstos\n",
    "residuos_normalizados = standardize(residuos)"
   ]
  },
  {
   "cell_type": "code",
   "execution_count": 66,
   "metadata": {},
   "outputs": [
    {
     "data": {
      "text/plain": [
       "0   -1.208946\n",
       "1   -2.206129\n",
       "2    3.934441\n",
       "3    4.337861\n",
       "4    5.780590\n",
       "dtype: float64"
      ]
     },
     "execution_count": 66,
     "metadata": {},
     "output_type": "execute_result"
    }
   ],
   "source": [
    "residuos.head()"
   ]
  },
  {
   "cell_type": "code",
   "execution_count": 67,
   "metadata": {},
   "outputs": [
    {
     "data": {
      "text/plain": [
       "0   -0.182589\n",
       "1   -0.333194\n",
       "2    0.594224\n",
       "3    0.655153\n",
       "4    0.873050\n",
       "dtype: float64"
      ]
     },
     "execution_count": 67,
     "metadata": {},
     "output_type": "execute_result"
    }
   ],
   "source": [
    "residuos_normalizados.head()"
   ]
  },
  {
   "cell_type": "code",
   "execution_count": 68,
   "metadata": {},
   "outputs": [
    {
     "data": {
      "image/png": "[encoded data removed]",
      "text/plain": [
       "<Figure size 640x480 with 1 Axes>"
      ]
     },
     "metadata": {},
     "output_type": "display_data"
    }
   ],
   "source": [
    "# ScaterPlot dos Resíduos \n",
    "residual_scatter_plot = plt.plot(dataset['rm'], residuos_normalizados, 'bp')\n",
    "plt.xlabel('rm')\n",
    "plt.ylabel('residuos normalizados')\n",
    "mean_residual = plt.plot([int(x_range[0]), round(x_range[1],0)], [0,0], '-', color = 'red', linewidth = 3)\n",
    "upper_bound = plt.plot([int(x_range[0]), round(x_range[1],0)], [3,3], '--', color = 'red', linewidth = 2)\n",
    "lower_bound = plt.plot([int(x_range[0]), round(x_range[1],0)], [-3,-3], '-', color = 'red', linewidth = 2)\n",
    "plt.grid()"
   ]
  },
  {
   "cell_type": "markdown",
   "metadata": {},
   "source": [
    "## Regressão Linear com Scikit-Learn"
   ]
  },
  {
   "cell_type": "code",
   "execution_count": 69,
   "metadata": {},
   "outputs": [],
   "source": [
    "from sklearn import linear_model"
   ]
  },
  {
   "cell_type": "code",
   "execution_count": 70,
   "metadata": {},
   "outputs": [],
   "source": [
    "# Criando o Modelo\n",
    "modelo_v2 = linear_model.LinearRegression(fit_intercept = True)"
   ]
  },
  {
   "cell_type": "code",
   "execution_count": 71,
   "metadata": {},
   "outputs": [
    {
     "data": {
      "text/html": [
       "<style>#sk-container-id-1 {color: black;background-color: white;}#sk-container-id-1 pre{padding: 0;}#sk-container-id-1 div.sk-toggleable {background-color: white;}#sk-container-id-1 label.sk-toggleable__label {cursor: pointer;display: block;width: 100%;margin-bottom: 0;padding: 0.3em;box-sizing: border-box;text-align: center;}#sk-container-id-1 label.sk-toggleable__label-arrow:before {content: \"▸\";float: left;margin-right: 0.25em;color: #696969;}#sk-container-id-1 label.sk-toggleable__label-arrow:hover:before {color: black;}#sk-container-id-1 div.sk-estimator:hover label.sk-toggleable__label-arrow:before {color: black;}#sk-container-id-1 div.sk-toggleable__content {max-height: 0;max-width: 0;overflow: hidden;text-align: left;background-color: #f0f8ff;}#sk-container-id-1 div.sk-toggleable__content pre {margin: 0.2em;color: black;border-radius: 0.25em;background-color: #f0f8ff;}#sk-container-id-1 input.sk-toggleable__control:checked~div.sk-toggleable__content {max-height: 200px;max-width: 100%;overflow: auto;}#sk-container-id-1 input.sk-toggleable__control:checked~label.sk-toggleable__label-arrow:before {content: \"▾\";}#sk-container-id-1 div.sk-estimator input.sk-toggleable__control:checked~label.sk-toggleable__label {background-color: #d4ebff;}#sk-container-id-1 div.sk-label input.sk-toggleable__control:checked~label.sk-toggleable__label {background-color: #d4ebff;}#sk-container-id-1 input.sk-hidden--visually {border: 0;clip: rect(1px 1px 1px 1px);clip: rect(1px, 1px, 1px, 1px);height: 1px;margin: -1px;overflow: hidden;padding: 0;position: absolute;width: 1px;}#sk-container-id-1 div.sk-estimator {font-family: monospace;background-color: #f0f8ff;border: 1px dotted black;border-radius: 0.25em;box-sizing: border-box;margin-bottom: 0.5em;}#sk-container-id-1 div.sk-estimator:hover {background-color: #d4ebff;}#sk-container-id-1 div.sk-parallel-item::after {content: \"\";width: 100%;border-bottom: 1px solid gray;flex-grow: 1;}#sk-container-id-1 div.sk-label:hover label.sk-toggleable__label {background-color: #d4ebff;}#sk-container-id-1 div.sk-serial::before {content: \"\";position: absolute;border-left: 1px solid gray;box-sizing: border-box;top: 0;bottom: 0;left: 50%;z-index: 0;}#sk-container-id-1 div.sk-serial {display: flex;flex-direction: column;align-items: center;background-color: white;padding-right: 0.2em;padding-left: 0.2em;position: relative;}#sk-container-id-1 div.sk-item {position: relative;z-index: 1;}#sk-container-id-1 div.sk-parallel {display: flex;align-items: stretch;justify-content: center;background-color: white;position: relative;}#sk-container-id-1 div.sk-item::before, #sk-container-id-1 div.sk-parallel-item::before {content: \"\";position: absolute;border-left: 1px solid gray;box-sizing: border-box;top: 0;bottom: 0;left: 50%;z-index: -1;}#sk-container-id-1 div.sk-parallel-item {display: flex;flex-direction: column;z-index: 1;position: relative;background-color: white;}#sk-container-id-1 div.sk-parallel-item:first-child::after {align-self: flex-end;width: 50%;}#sk-container-id-1 div.sk-parallel-item:last-child::after {align-self: flex-start;width: 50%;}#sk-container-id-1 div.sk-parallel-item:only-child::after {width: 0;}#sk-container-id-1 div.sk-dashed-wrapped {border: 1px dashed gray;margin: 0 0.4em 0.5em 0.4em;box-sizing: border-box;padding-bottom: 0.4em;background-color: white;}#sk-container-id-1 div.sk-label label {font-family: monospace;font-weight: bold;display: inline-block;line-height: 1.2em;}#sk-container-id-1 div.sk-label-container {text-align: center;}#sk-container-id-1 div.sk-container {/* jupyter's `normalize.less` sets `[hidden] { display: none; }` but bootstrap.min.css set `[hidden] { display: none !important; }` so we also need the `!important` here to be able to override the default hidden behavior on the sphinx rendered scikit-learn.org. See: https://github.com/scikit-learn/scikit-learn/issues/21755 */display: inline-block !important;position: relative;}#sk-container-id-1 div.sk-text-repr-fallback {display: none;}</style><div id=\"sk-container-id-1\" class=\"sk-top-container\"><div class=\"sk-text-repr-fallback\"><pre>LinearRegression()</pre><b>In a Jupyter environment, please rerun this cell to show the HTML representation or trust the notebook. <br />On GitHub, the HTML representation is unable to render, please try loading this page with nbviewer.org.</b></div><div class=\"sk-container\" hidden><div class=\"sk-item\"><div class=\"sk-estimator sk-toggleable\"><input class=\"sk-toggleable__control sk-hidden--visually\" id=\"sk-estimator-id-1\" type=\"checkbox\" checked><label for=\"sk-estimator-id-1\" class=\"sk-toggleable__label sk-toggleable__label-arrow\">LinearRegression</label><div class=\"sk-toggleable__content\"><pre>LinearRegression()</pre></div></div></div></div></div>"
      ],
      "text/plain": [
       "LinearRegression()"
      ]
     },
     "execution_count": 71,
     "metadata": {},
     "output_type": "execute_result"
    }
   ],
   "source": [
    "modelo_v2"
   ]
  },
  {
   "cell_type": "code",
   "execution_count": 72,
   "metadata": {},
   "outputs": [],
   "source": [
    "# Define os valores de X e Y\n",
    "\n",
    "num_observ = len(dataset)\n",
    "X = dataset['rm'].values.reshape((num_observ,1)) # X deve sempre ser uma matriz e nunca um vetor\n",
    "Y = dataset['Target'].values # Y pode ser um vetor "
   ]
  },
  {
   "cell_type": "code",
   "execution_count": 73,
   "metadata": {},
   "outputs": [
    {
     "data": {
      "text/plain": [
       "numpy.ndarray"
      ]
     },
     "execution_count": 73,
     "metadata": {},
     "output_type": "execute_result"
    }
   ],
   "source": [
    "type(X)"
   ]
  },
  {
   "cell_type": "code",
   "execution_count": 74,
   "metadata": {},
   "outputs": [
    {
     "data": {
      "text/plain": [
       "2"
      ]
     },
     "execution_count": 74,
     "metadata": {},
     "output_type": "execute_result"
    }
   ],
   "source": [
    "#Numero de dimensões de X (matriz)\n",
    "np.ndim(x)"
   ]
  },
  {
   "cell_type": "code",
   "execution_count": 75,
   "metadata": {},
   "outputs": [
    {
     "data": {
      "text/plain": [
       "numpy.ndarray"
      ]
     },
     "execution_count": 75,
     "metadata": {},
     "output_type": "execute_result"
    }
   ],
   "source": [
    "type(Y)"
   ]
  },
  {
   "cell_type": "code",
   "execution_count": 76,
   "metadata": {},
   "outputs": [
    {
     "data": {
      "text/html": [
       "<style>#sk-container-id-2 {color: black;background-color: white;}#sk-container-id-2 pre{padding: 0;}#sk-container-id-2 div.sk-toggleable {background-color: white;}#sk-container-id-2 label.sk-toggleable__label {cursor: pointer;display: block;width: 100%;margin-bottom: 0;padding: 0.3em;box-sizing: border-box;text-align: center;}#sk-container-id-2 label.sk-toggleable__label-arrow:before {content: \"▸\";float: left;margin-right: 0.25em;color: #696969;}#sk-container-id-2 label.sk-toggleable__label-arrow:hover:before {color: black;}#sk-container-id-2 div.sk-estimator:hover label.sk-toggleable__label-arrow:before {color: black;}#sk-container-id-2 div.sk-toggleable__content {max-height: 0;max-width: 0;overflow: hidden;text-align: left;background-color: #f0f8ff;}#sk-container-id-2 div.sk-toggleable__content pre {margin: 0.2em;color: black;border-radius: 0.25em;background-color: #f0f8ff;}#sk-container-id-2 input.sk-toggleable__control:checked~div.sk-toggleable__content {max-height: 200px;max-width: 100%;overflow: auto;}#sk-container-id-2 input.sk-toggleable__control:checked~label.sk-toggleable__label-arrow:before {content: \"▾\";}#sk-container-id-2 div.sk-estimator input.sk-toggleable__control:checked~label.sk-toggleable__label {background-color: #d4ebff;}#sk-container-id-2 div.sk-label input.sk-toggleable__control:checked~label.sk-toggleable__label {background-color: #d4ebff;}#sk-container-id-2 input.sk-hidden--visually {border: 0;clip: rect(1px 1px 1px 1px);clip: rect(1px, 1px, 1px, 1px);height: 1px;margin: -1px;overflow: hidden;padding: 0;position: absolute;width: 1px;}#sk-container-id-2 div.sk-estimator {font-family: monospace;background-color: #f0f8ff;border: 1px dotted black;border-radius: 0.25em;box-sizing: border-box;margin-bottom: 0.5em;}#sk-container-id-2 div.sk-estimator:hover {background-color: #d4ebff;}#sk-container-id-2 div.sk-parallel-item::after {content: \"\";width: 100%;border-bottom: 1px solid gray;flex-grow: 1;}#sk-container-id-2 div.sk-label:hover label.sk-toggleable__label {background-color: #d4ebff;}#sk-container-id-2 div.sk-serial::before {content: \"\";position: absolute;border-left: 1px solid gray;box-sizing: border-box;top: 0;bottom: 0;left: 50%;z-index: 0;}#sk-container-id-2 div.sk-serial {display: flex;flex-direction: column;align-items: center;background-color: white;padding-right: 0.2em;padding-left: 0.2em;position: relative;}#sk-container-id-2 div.sk-item {position: relative;z-index: 1;}#sk-container-id-2 div.sk-parallel {display: flex;align-items: stretch;justify-content: center;background-color: white;position: relative;}#sk-container-id-2 div.sk-item::before, #sk-container-id-2 div.sk-parallel-item::before {content: \"\";position: absolute;border-left: 1px solid gray;box-sizing: border-box;top: 0;bottom: 0;left: 50%;z-index: -1;}#sk-container-id-2 div.sk-parallel-item {display: flex;flex-direction: column;z-index: 1;position: relative;background-color: white;}#sk-container-id-2 div.sk-parallel-item:first-child::after {align-self: flex-end;width: 50%;}#sk-container-id-2 div.sk-parallel-item:last-child::after {align-self: flex-start;width: 50%;}#sk-container-id-2 div.sk-parallel-item:only-child::after {width: 0;}#sk-container-id-2 div.sk-dashed-wrapped {border: 1px dashed gray;margin: 0 0.4em 0.5em 0.4em;box-sizing: border-box;padding-bottom: 0.4em;background-color: white;}#sk-container-id-2 div.sk-label label {font-family: monospace;font-weight: bold;display: inline-block;line-height: 1.2em;}#sk-container-id-2 div.sk-label-container {text-align: center;}#sk-container-id-2 div.sk-container {/* jupyter's `normalize.less` sets `[hidden] { display: none; }` but bootstrap.min.css set `[hidden] { display: none !important; }` so we also need the `!important` here to be able to override the default hidden behavior on the sphinx rendered scikit-learn.org. See: https://github.com/scikit-learn/scikit-learn/issues/21755 */display: inline-block !important;position: relative;}#sk-container-id-2 div.sk-text-repr-fallback {display: none;}</style><div id=\"sk-container-id-2\" class=\"sk-top-container\"><div class=\"sk-text-repr-fallback\"><pre>LinearRegression()</pre><b>In a Jupyter environment, please rerun this cell to show the HTML representation or trust the notebook. <br />On GitHub, the HTML representation is unable to render, please try loading this page with nbviewer.org.</b></div><div class=\"sk-container\" hidden><div class=\"sk-item\"><div class=\"sk-estimator sk-toggleable\"><input class=\"sk-toggleable__control sk-hidden--visually\" id=\"sk-estimator-id-2\" type=\"checkbox\" checked><label for=\"sk-estimator-id-2\" class=\"sk-toggleable__label sk-toggleable__label-arrow\">LinearRegression</label><div class=\"sk-toggleable__content\"><pre>LinearRegression()</pre></div></div></div></div></div>"
      ],
      "text/plain": [
       "LinearRegression()"
      ]
     },
     "execution_count": 76,
     "metadata": {},
     "output_type": "execute_result"
    }
   ],
   "source": [
    "# Treinando o modelo com os dados já preparados\n",
    "modelo_v2.fit(X,Y)"
   ]
  },
  {
   "cell_type": "code",
   "execution_count": 77,
   "metadata": {},
   "outputs": [
    {
     "name": "stdout",
     "output_type": "stream",
     "text": [
      "[9.10920212]\n",
      "-34.684057776793246\n"
     ]
    }
   ],
   "source": [
    "# Imprime os coeficientes \n",
    "print(modelo_v2.coef_)\n",
    "print(modelo_v2.intercept_)"
   ]
  },
  {
   "cell_type": "code",
   "execution_count": 78,
   "metadata": {},
   "outputs": [
    {
     "name": "stdout",
     "output_type": "stream",
     "text": [
      "[25.20894613 23.80612901 30.76555942 29.06213863 30.41940974 23.88811183\n",
      " 20.08046534 21.53793768 16.60985933 20.00759172 20.05313773 18.96003348\n",
      " 19.50658561 20.84563832 18.45902736 19.37905678 19.88006289 15.01574896\n",
      " 17.48434274 16.05419801 19.65233284 21.26466162 18.26773412 19.27885555\n",
      " 16.31836487 18.26773412 20.39928741 24.48020996 26.11075714 17.35681391\n",
      " 20.62701747 19.51569481 17.24750348 20.84563832 18.52279178 18.6047746\n",
      " 19.66144204 25.39113017 29.29897788 26.98524054 21.51061007 21.89319656\n",
      " 20.59968986 17.07442864 18.02178566 20.24443098 14.49652444 16.34569247\n",
      " 19.63411444 21.01871316 24.6259572  19.95293651 18.95092428 31.34854836\n",
      " 23.45997933 27.40426384 21.29198922 19.30618316 17.61187157 19.66144204\n",
      " 24.12495108 30.02771405 22.61282353 18.03089486 18.85983226 16.27281886\n",
      " 18.92359667 23.7696922  19.61589603 20.56325305 22.20290943 22.45796709\n",
      " 22.57638672 22.51262231 21.24644321 22.08448981 18.82339545 26.59354485\n",
      " 25.60975102 22.72213395 21.49239167 23.51463454 25.70995225 20.10779295\n",
      " 21.07336837 29.14412145 29.799984   23.7696922  23.66038177 23.99742225\n",
      " 21.89319656 22.23934624 25.66440624 38.81809409 36.54990277 32.86978511\n",
      " 26.59354485 27.08544177 23.66038177 21.21911561 21.49239167 18.6138838\n",
      " 18.47724577 21.12802358 24.28891672 22.0571622  21.74744933 26.48423443\n",
      " 19.17865433 20.80920151 22.28489225 19.31529236 21.57437449 20.16244816\n",
      " 18.80517704 17.52077955 18.78695864 20.00759172 19.61589603 18.65942981\n",
      " 18.86894146 19.84362609 16.4458937  17.17462987 23.89722103 16.66451455\n",
      " 24.14316948 22.94075481 23.3597781  18.34971694 17.7576188  19.44282119\n",
      " 24.10673268 18.66853901 21.34664443 21.55615608 11.03502764 14.53296125\n",
      " 15.12505939  9.97836019 21.15535119 16.58253173 10.18787184 12.55626439\n",
      " 16.30014646 21.08247757 14.54207045 10.97126323 17.3203771  21.14624199\n",
      " 21.35575364 13.33965578 28.56113251 20.57236226 24.61684799 22.24845544\n",
      " 33.53475687 36.38593713 41.60550994 18.64121141 20.89118433 37.5428058\n",
      " 18.85072306 22.87699039 23.63305417 18.83250465 18.87805066 16.07241641\n",
      " 23.760583   18.68675742 24.94477927 20.15333896 22.84055358 27.80506873\n",
      " 28.89817299 36.04889665 21.28288002 30.49228336 25.09963571 16.36391088\n",
      " 21.36486284 36.65010399 27.09455097 25.03587129 30.76555942 28.63400613\n",
      " 26.70285528 30.70179501 27.25851661 25.47311299 37.05090888 31.69469804\n",
      " 30.05504166 31.57627841 28.85262698 30.31009932 21.44684566 34.63697032\n",
      " 36.85050644 38.49927202 18.97825188 22.94075481 17.99445806 20.55414385\n",
      " 13.99551833 19.60678683 14.54207045 18.21307891 23.38710571 14.61494407\n",
      " 21.6290297  18.95092428 25.81926267 19.52480401 23.3688873  28.63400613\n",
      " 21.46506406 27.97814357 25.60064182 40.61260691 44.79373068 38.55392723\n",
      " 30.56515698 35.32926968 24.99943448 19.79808008 32.8333483  41.25936026\n",
      " 40.43953207 26.58443565 20.7545463  25.71906145 32.34145139 24.35268113\n",
      " 25.4913314  28.14210921 20.83652912 23.23224927 23.55107135 16.26370965\n",
      " 16.37302008 20.95494874 22.02983459 23.91543943 26.51156203 24.40733635\n",
      " 23.96098544 28.68866134 40.54884249 20.95494874 18.84161385 33.21593479\n",
      " 44.60243744 32.11372134 27.6411031  30.92952506 33.81714213 41.81502159\n",
      " 32.05906612 30.95685267 15.96310598 29.20788586 40.89499217 33.36168203\n",
      " 19.24241875 18.65942981 22.15736342 24.87190565 35.37481569 26.87593012\n",
      " 27.75041352 31.512514   27.49535586 24.36179034 27.36782703 36.54990277\n",
      " 28.78886256 34.9557924  37.48815058 29.88196682 24.09762347 22.0662714\n",
      " 21.87497816 22.84055358 25.11785411 27.81417794 30.42851894 25.70995225\n",
      " 21.12802358 20.05313773 26.14719395 24.97210688 18.05822247 23.11382965\n",
      " 29.45383432 27.90526996 25.34558416 24.48020996 28.91639139 31.23012873\n",
      " 25.58242342 32.90622192 27.70486751 25.75549826 19.71609726 10.61600434\n",
      " 21.08247757 20.18066656 22.39420268 25.13607251 17.28394029 19.18776353\n",
      " 17.98534885 23.45087012 21.00049475 23.85167502 23.39621491 20.3446322\n",
      " 17.3112679  23.75147379 23.89722103 22.81322598 20.72721869 18.76874024\n",
      " 23.00451922 21.28288002 17.29304949 20.25354018 22.84966278 22.79500757\n",
      " 20.30819539 18.77784944 19.01468869 20.50859784 19.83451688 19.67966045\n",
      " 31.27567474 24.89012406 26.31115959 27.93259756 20.09868375 19.0420163\n",
      " 24.67150321 25.75549826 28.5246957  24.43466395 25.24538294 18.91448747\n",
      " 26.60265406 16.9013538  19.38816598 21.90230576 23.56928975 21.12802358\n",
      " 20.99138555 23.59661736 22.25756465 14.15948397 18.1766421  45.2947368\n",
      " -2.24618904 10.52491232  0.50478999 10.58867674 26.19273996 29.22610426\n",
      " 21.93874257 18.83250465 10.0056878   3.00982058 31.93153729 25.88302709\n",
      " 27.2038614  23.43265172 22.00250699 28.78886256 24.93567007 15.74448513\n",
      " 15.5987379   5.10493706 13.38520179  7.69195046 10.8619528   9.76884855\n",
      " 14.41454163 17.35681391 20.43572422 11.18988408 21.72923092 18.94181508\n",
      " 24.26158911 23.66038177 17.66652678 14.98842136 18.622993   19.85273529\n",
      " 23.09561124 23.65127257 14.04106434 15.69893912 17.08353784  3.00982058\n",
      " 16.40034769 16.48233051 27.73219512 17.7576188  25.95590071  7.47332961\n",
      " 12.27387913  6.48042658 23.92454863 27.09455097 13.63115024 19.57945922\n",
      " 27.47713746 23.71503698 20.02581013 16.76471577 20.90940273 16.008652\n",
      " 19.0237979  18.48635497 21.81121374 21.72923092 23.43265172 23.14115725\n",
      " 27.55912028 23.84256581 23.94276704 21.86586896 25.70084305 24.17049709\n",
      " 21.35575364 19.37905678 16.57342253 18.31328013 23.66949097 21.96607018\n",
      " 24.38911794 18.64121141 24.15227869 23.07739284 22.25756465 21.65635731\n",
      " 23.7696922  26.7939473  25.9376823  22.67658794 32.66027346 26.60265406\n",
      " 24.75348603 19.75253406 19.38816598 22.71302475 20.70900029 26.3567056\n",
      " 23.39621491 22.85877199 24.6441756  21.87497816 17.77583721 19.53391321\n",
      " 19.99848252 19.29707396 17.35681391 21.49239167 22.0571622  23.95187624\n",
      " 28.89817299 14.7515821  21.44684566 24.38000874 13.63115024 21.65635731\n",
      " 22.0571622  22.17558183 26.8030565  29.63601836 17.80316481 18.79606784\n",
      " 22.81322598 21.00960396 19.10578071 14.99753056 14.63316248 11.7091086\n",
      " 19.81629848 19.81629848 17.3021587  19.29707396 16.96511822 14.41454163\n",
      " 18.09465928 20.14422976 16.0450888  20.21710337 25.37291177 21.06425917\n",
      " 28.86173618 27.2038614  20.24443098]\n"
     ]
    }
   ],
   "source": [
    "# Imprime as previsões do modelo\n",
    "print(modelo_v2.predict(X))"
   ]
  },
  {
   "cell_type": "code",
   "execution_count": 79,
   "metadata": {},
   "outputs": [],
   "source": [
    "# Fazendo previsões com o modelo treinado \n",
    "RM = 5\n",
    "Xp = np.array(RM)\n",
    "Xp = np.array(RM).reshape(-1,1)"
   ]
  },
  {
   "cell_type": "code",
   "execution_count": 80,
   "metadata": {},
   "outputs": [
    {
     "data": {
      "text/plain": [
       "numpy.ndarray"
      ]
     },
     "execution_count": 80,
     "metadata": {},
     "output_type": "execute_result"
    }
   ],
   "source": [
    "type(Xp)"
   ]
  },
  {
   "cell_type": "code",
   "execution_count": 81,
   "metadata": {},
   "outputs": [
    {
     "data": {
      "text/plain": [
       "2"
      ]
     },
     "execution_count": 81,
     "metadata": {},
     "output_type": "execute_result"
    }
   ],
   "source": [
    "np.ndim(Xp)"
   ]
  },
  {
   "cell_type": "code",
   "execution_count": 82,
   "metadata": {},
   "outputs": [
    {
     "name": "stdout",
     "output_type": "stream",
     "text": [
      "Se RM = 5 nosso modelo prevê que a mediana da taxa de ocupação é 10.9\n"
     ]
    }
   ],
   "source": [
    "print (\"Se RM = %01.f nosso modelo prevê que a mediana da taxa de ocupação é %0.1f\" % (RM, modelo_v2.predict(Xp)))"
   ]
  },
  {
   "cell_type": "markdown",
   "metadata": {},
   "source": [
    "### Comparação SckitLearn com StatsModels"
   ]
  },
  {
   "cell_type": "code",
   "execution_count": 83,
   "metadata": {},
   "outputs": [],
   "source": [
    "## Comparação\n",
    "\n",
    "from sklearn.datasets import make_regression"
   ]
  },
  {
   "cell_type": "code",
   "execution_count": 84,
   "metadata": {},
   "outputs": [],
   "source": [
    "HX, Hy = make_regression(n_samples = 10000000, n_features = 1, n_targets = 1, random_state = 101)"
   ]
  },
  {
   "cell_type": "code",
   "execution_count": 85,
   "metadata": {},
   "outputs": [
    {
     "name": "stdout",
     "output_type": "stream",
     "text": [
      "Wall time: 725 ms\n"
     ]
    },
    {
     "data": {
      "text/html": [
       "<style>#sk-container-id-3 {color: black;background-color: white;}#sk-container-id-3 pre{padding: 0;}#sk-container-id-3 div.sk-toggleable {background-color: white;}#sk-container-id-3 label.sk-toggleable__label {cursor: pointer;display: block;width: 100%;margin-bottom: 0;padding: 0.3em;box-sizing: border-box;text-align: center;}#sk-container-id-3 label.sk-toggleable__label-arrow:before {content: \"▸\";float: left;margin-right: 0.25em;color: #696969;}#sk-container-id-3 label.sk-toggleable__label-arrow:hover:before {color: black;}#sk-container-id-3 div.sk-estimator:hover label.sk-toggleable__label-arrow:before {color: black;}#sk-container-id-3 div.sk-toggleable__content {max-height: 0;max-width: 0;overflow: hidden;text-align: left;background-color: #f0f8ff;}#sk-container-id-3 div.sk-toggleable__content pre {margin: 0.2em;color: black;border-radius: 0.25em;background-color: #f0f8ff;}#sk-container-id-3 input.sk-toggleable__control:checked~div.sk-toggleable__content {max-height: 200px;max-width: 100%;overflow: auto;}#sk-container-id-3 input.sk-toggleable__control:checked~label.sk-toggleable__label-arrow:before {content: \"▾\";}#sk-container-id-3 div.sk-estimator input.sk-toggleable__control:checked~label.sk-toggleable__label {background-color: #d4ebff;}#sk-container-id-3 div.sk-label input.sk-toggleable__control:checked~label.sk-toggleable__label {background-color: #d4ebff;}#sk-container-id-3 input.sk-hidden--visually {border: 0;clip: rect(1px 1px 1px 1px);clip: rect(1px, 1px, 1px, 1px);height: 1px;margin: -1px;overflow: hidden;padding: 0;position: absolute;width: 1px;}#sk-container-id-3 div.sk-estimator {font-family: monospace;background-color: #f0f8ff;border: 1px dotted black;border-radius: 0.25em;box-sizing: border-box;margin-bottom: 0.5em;}#sk-container-id-3 div.sk-estimator:hover {background-color: #d4ebff;}#sk-container-id-3 div.sk-parallel-item::after {content: \"\";width: 100%;border-bottom: 1px solid gray;flex-grow: 1;}#sk-container-id-3 div.sk-label:hover label.sk-toggleable__label {background-color: #d4ebff;}#sk-container-id-3 div.sk-serial::before {content: \"\";position: absolute;border-left: 1px solid gray;box-sizing: border-box;top: 0;bottom: 0;left: 50%;z-index: 0;}#sk-container-id-3 div.sk-serial {display: flex;flex-direction: column;align-items: center;background-color: white;padding-right: 0.2em;padding-left: 0.2em;position: relative;}#sk-container-id-3 div.sk-item {position: relative;z-index: 1;}#sk-container-id-3 div.sk-parallel {display: flex;align-items: stretch;justify-content: center;background-color: white;position: relative;}#sk-container-id-3 div.sk-item::before, #sk-container-id-3 div.sk-parallel-item::before {content: \"\";position: absolute;border-left: 1px solid gray;box-sizing: border-box;top: 0;bottom: 0;left: 50%;z-index: -1;}#sk-container-id-3 div.sk-parallel-item {display: flex;flex-direction: column;z-index: 1;position: relative;background-color: white;}#sk-container-id-3 div.sk-parallel-item:first-child::after {align-self: flex-end;width: 50%;}#sk-container-id-3 div.sk-parallel-item:last-child::after {align-self: flex-start;width: 50%;}#sk-container-id-3 div.sk-parallel-item:only-child::after {width: 0;}#sk-container-id-3 div.sk-dashed-wrapped {border: 1px dashed gray;margin: 0 0.4em 0.5em 0.4em;box-sizing: border-box;padding-bottom: 0.4em;background-color: white;}#sk-container-id-3 div.sk-label label {font-family: monospace;font-weight: bold;display: inline-block;line-height: 1.2em;}#sk-container-id-3 div.sk-label-container {text-align: center;}#sk-container-id-3 div.sk-container {/* jupyter's `normalize.less` sets `[hidden] { display: none; }` but bootstrap.min.css set `[hidden] { display: none !important; }` so we also need the `!important` here to be able to override the default hidden behavior on the sphinx rendered scikit-learn.org. See: https://github.com/scikit-learn/scikit-learn/issues/21755 */display: inline-block !important;position: relative;}#sk-container-id-3 div.sk-text-repr-fallback {display: none;}</style><div id=\"sk-container-id-3\" class=\"sk-top-container\"><div class=\"sk-text-repr-fallback\"><pre>LinearRegression()</pre><b>In a Jupyter environment, please rerun this cell to show the HTML representation or trust the notebook. <br />On GitHub, the HTML representation is unable to render, please try loading this page with nbviewer.org.</b></div><div class=\"sk-container\" hidden><div class=\"sk-item\"><div class=\"sk-estimator sk-toggleable\"><input class=\"sk-toggleable__control sk-hidden--visually\" id=\"sk-estimator-id-3\" type=\"checkbox\" checked><label for=\"sk-estimator-id-3\" class=\"sk-toggleable__label sk-toggleable__label-arrow\">LinearRegression</label><div class=\"sk-toggleable__content\"><pre>LinearRegression()</pre></div></div></div></div></div>"
      ],
      "text/plain": [
       "LinearRegression()"
      ]
     },
     "execution_count": 85,
     "metadata": {},
     "output_type": "execute_result"
    }
   ],
   "source": [
    "%%time\n",
    "sk_linear_regression = linear_model.LinearRegression(fit_intercept=True)\n",
    "sk_linear_regression.fit(HX,Hy)"
   ]
  },
  {
   "cell_type": "code",
   "execution_count": 86,
   "metadata": {},
   "outputs": [
    {
     "name": "stdout",
     "output_type": "stream",
     "text": [
      "Wall time: 1.53 s\n"
     ]
    },
    {
     "data": {
      "text/plain": [
       "<statsmodels.regression.linear_model.RegressionResultsWrapper at 0x2980262fdf0>"
      ]
     },
     "execution_count": 86,
     "metadata": {},
     "output_type": "execute_result"
    }
   ],
   "source": [
    "%%time\n",
    "sm_linear_regression = sm.OLS(Hy, sm.add_constant(HX))\n",
    "sm_linear_regression.fit()"
   ]
  },
  {
   "cell_type": "markdown",
   "metadata": {},
   "source": [
    "## Cost Function de um Modelo de Regressão Linear"
   ]
  },
  {
   "cell_type": "markdown",
   "metadata": {},
   "source": [
    "Objetivo da regressão Linear é buscar a equação que minimize a soma dos erros ao quadrado, da diferença entre o valor observado de y e o valor previsto\n",
    "\n",
    "Existem alguns métodos para minimização da <b>Cost Function</b>, tais como:\n",
    "- Pseudo-inversão\n",
    "- Fatorização\n",
    "- Gradient Descent"
   ]
  },
  {
   "cell_type": "markdown",
   "metadata": {},
   "source": [
    "### Minimizando a Cost Function\n",
    "\n",
    "- Minimizando com Pseudo-Inversão"
   ]
  },
  {
   "cell_type": "code",
   "execution_count": 87,
   "metadata": {},
   "outputs": [],
   "source": [
    "num_observ = len(dataset)\n",
    "X = dataset['rm'].values.reshape((num_observ,1)) # X deves er uma matriz\n",
    "Xb = np.column_stack((X, np.ones(num_observ)))\n",
    "y = dataset['Target'].values # y pode ser um veto"
   ]
  },
  {
   "cell_type": "code",
   "execution_count": 88,
   "metadata": {},
   "outputs": [],
   "source": [
    "# Funções para matriz inversa e equações normais\n",
    "def matriz_inversa(X, y, pseudo = False):\n",
    "    if pseudo:\n",
    "        return np.dot(np.linalg.pinv(np.dot(X.T, X)), np.dot(X.T,y))\n",
    "    else:\n",
    "        return np.dot(np.linalg.inv(np.dot(X.T, X)), np.dot(X.T,y))\n",
    "\n",
    "def normal_equations(X,y):\n",
    "    return np.linalg.solve(np.dot(X.T,X), np.dot(X.T,y))"
   ]
  },
  {
   "cell_type": "code",
   "execution_count": 90,
   "metadata": {},
   "outputs": [
    {
     "name": "stdout",
     "output_type": "stream",
     "text": [
      "[  9.10920212 -34.68405778]\n",
      "[  9.10920212 -34.68405778]\n",
      "[  9.10920212 -34.68405778]\n"
     ]
    }
   ],
   "source": [
    "# Imprime os valores - OS COEFICIENTES\n",
    "print (matriz_inversa(Xb, y))\n",
    "print (matriz_inversa(Xb, y, pseudo = True))\n",
    "print (normal_equations(Xb, y))"
   ]
  },
  {
   "cell_type": "markdown",
   "metadata": {},
   "source": [
    "## Aplicando o Gradiente Descendente "
   ]
  },
  {
   "cell_type": "markdown",
   "metadata": {},
   "source": []
  }
 ],
 "metadata": {
  "kernelspec": {
   "display_name": "base",
   "language": "python",
   "name": "python3"
  },
  "language_info": {
   "codemirror_mode": {
    "name": "ipython",
    "version": 3
   },
   "file_extension": ".py",
   "mimetype": "text/x-python",
   "name": "python",
   "nbconvert_exporter": "python",
   "pygments_lexer": "ipython3",
   "version": "3.9.13"
  }
 },
 "nbformat": 4,
 "nbformat_minor": 2
}
