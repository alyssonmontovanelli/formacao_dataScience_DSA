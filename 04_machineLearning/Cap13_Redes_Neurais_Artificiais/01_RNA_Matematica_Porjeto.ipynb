{
 "cells": [
  {
   "cell_type": "markdown",
   "metadata": {},
   "source": [
    "# <font color = \"red\">REDES NEURAIS ARTIFICAIS"
   ]
  },
  {
   "cell_type": "markdown",
   "metadata": {},
   "source": [
    "## Faremos 3 etapas de maneira individual, são elas:\n",
    "\n",
    "- Desenvolvimento do FOWARD PROPAGATION\n",
    "\n",
    "- Desenvolvimento da função de erro (LOSS)\n",
    "\n",
    "- Desenvolvimento da BACKWARD PROPAGATION"
   ]
  },
  {
   "cell_type": "markdown",
   "metadata": {},
   "source": [
    "## <font color = \"green\">Parte 1 - Implementando Uma Rede Neural Artifical Somente com Fórmulas Matemáticas (Sem Frameworks)"
   ]
  },
  {
   "cell_type": "markdown",
   "metadata": {
    "vscode": {
     "languageId": "plaintext"
    }
   },
   "source": [
    "# Parte 1A - FOWARD PROPAGATION"
   ]
  },
  {
   "cell_type": "markdown",
   "metadata": {},
   "source": [
    "____________________"
   ]
  },
  {
   "cell_type": "markdown",
   "metadata": {},
   "source": [
    "### <font color = \"red\">Função Para Inicialização dos Pesos"
   ]
  },
  {
   "cell_type": "code",
   "execution_count": 1,
   "metadata": {},
   "outputs": [],
   "source": [
    "import numpy as np"
   ]
  },
  {
   "cell_type": "code",
   "execution_count": 2,
   "metadata": {},
   "outputs": [],
   "source": [
    "# Função para Inicialização randômmica dos parâmetros do modelo\n",
    "\n",
    "def inicializa_parametros(dims_camada_entrada):\n",
    "\n",
    " # Dicionário para os parâmetros\n",
    " parameters = {}\n",
    "\n",
    " # Comprimento das dimensões das camadas\n",
    " comp = len(dims_camada_entrada)\n",
    "\n",
    " # Loop pelo comprimento\n",
    " for i in range(1,comp):\n",
    "\n",
    "  # Inicialização da materiz de pesos\n",
    "  parameters[\"W\" + str(i)] = np.random.randn(dims_camada_entrada[i],\n",
    "                                             dims_camada_entrada[i - 1]) * 0.01\n",
    "  \n",
    "  # Inicialização do bias\n",
    "  parameters[\"b\" + str(i)] = np.zeros((dims_camada_entrada[i], 1))\n",
    "\n",
    " return parameters   "
   ]
  }
 ],
 "metadata": {
  "kernelspec": {
   "display_name": "base",
   "language": "python",
   "name": "python3"
  },
  "language_info": {
   "codemirror_mode": {
    "name": "ipython",
    "version": 3
   },
   "file_extension": ".py",
   "mimetype": "text/x-python",
   "name": "python",
   "nbconvert_exporter": "python",
   "pygments_lexer": "ipython3",
   "version": "3.9.13"
  }
 },
 "nbformat": 4,
 "nbformat_minor": 2
}
