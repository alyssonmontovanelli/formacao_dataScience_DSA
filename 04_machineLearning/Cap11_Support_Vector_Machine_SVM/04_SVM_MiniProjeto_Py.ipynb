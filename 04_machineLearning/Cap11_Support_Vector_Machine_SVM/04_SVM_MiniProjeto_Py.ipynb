{
 "cells": [
  {
   "cell_type": "markdown",
   "metadata": {},
   "source": [
    "# <font color='blue'>Mini Projeto com SVM</font>\n",
    "\n",
    "## <font color='red'>Usando SVM para prever a Intenção de Compra de Usuários de E-Comerce</font>"
   ]
  },
  {
   "cell_type": "code",
   "execution_count": null,
   "metadata": {},
   "outputs": [],
   "source": []
  }
 ],
 "metadata": {
  "language_info": {
   "name": "python"
  }
 },
 "nbformat": 4,
 "nbformat_minor": 2
}
