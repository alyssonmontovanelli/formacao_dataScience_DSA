{
 "cells": [
  {
   "cell_type": "markdown",
   "metadata": {},
   "source": [
    "# <font color='blue'>RANDOM FOREST</font>"
   ]
  },
  {
   "cell_type": "markdown",
   "metadata": {},
   "source": [
    "## Criando uma Decision Tree"
   ]
  },
  {
   "cell_type": "code",
   "execution_count": 5,
   "metadata": {},
   "outputs": [],
   "source": [
    "import numpy as np\n",
    "import pandas as pd\n",
    "from matplotlib import pyplot as plt\n",
    "from sklearn.tree import DecisionTreeClassifier\n",
    "from sklearn.model_selection import train_test_split\n",
    "from sklearn.metrics import confusion_matrix\n",
    "from sklearn.metrics import accuracy_score"
   ]
  },
  {
   "cell_type": "code",
   "execution_count": 6,
   "metadata": {},
   "outputs": [],
   "source": [
    "# Carregando data set\n",
    "irisData = pd.read_csv(\"C:/formacao_dataScience_DSA_DADOS/04_machineLearning/Cap09/dados_python/iris_data.csv\")"
   ]
  },
  {
   "cell_type": "code",
   "execution_count": 7,
   "metadata": {},
   "outputs": [
    {
     "data": {
      "text/html": [
       "<div>\n",
       "<style scoped>\n",
       "    .dataframe tbody tr th:only-of-type {\n",
       "        vertical-align: middle;\n",
       "    }\n",
       "\n",
       "    .dataframe tbody tr th {\n",
       "        vertical-align: top;\n",
       "    }\n",
       "\n",
       "    .dataframe thead th {\n",
       "        text-align: right;\n",
       "    }\n",
       "</style>\n",
       "<table border=\"1\" class=\"dataframe\">\n",
       "  <thead>\n",
       "    <tr style=\"text-align: right;\">\n",
       "      <th></th>\n",
       "      <th>SepalLength</th>\n",
       "      <th>SepalWidth</th>\n",
       "      <th>PetalLength</th>\n",
       "      <th>PetalWidth</th>\n",
       "      <th>Class</th>\n",
       "    </tr>\n",
       "  </thead>\n",
       "  <tbody>\n",
       "    <tr>\n",
       "      <th>0</th>\n",
       "      <td>5.1</td>\n",
       "      <td>3.5</td>\n",
       "      <td>1.4</td>\n",
       "      <td>0.2</td>\n",
       "      <td>Iris-setosa</td>\n",
       "    </tr>\n",
       "    <tr>\n",
       "      <th>1</th>\n",
       "      <td>4.9</td>\n",
       "      <td>3.0</td>\n",
       "      <td>1.4</td>\n",
       "      <td>0.2</td>\n",
       "      <td>Iris-setosa</td>\n",
       "    </tr>\n",
       "    <tr>\n",
       "      <th>2</th>\n",
       "      <td>4.7</td>\n",
       "      <td>3.2</td>\n",
       "      <td>1.3</td>\n",
       "      <td>0.2</td>\n",
       "      <td>Iris-setosa</td>\n",
       "    </tr>\n",
       "    <tr>\n",
       "      <th>3</th>\n",
       "      <td>4.6</td>\n",
       "      <td>3.1</td>\n",
       "      <td>1.5</td>\n",
       "      <td>0.2</td>\n",
       "      <td>Iris-setosa</td>\n",
       "    </tr>\n",
       "    <tr>\n",
       "      <th>4</th>\n",
       "      <td>5.0</td>\n",
       "      <td>3.6</td>\n",
       "      <td>1.4</td>\n",
       "      <td>0.2</td>\n",
       "      <td>Iris-setosa</td>\n",
       "    </tr>\n",
       "    <tr>\n",
       "      <th>...</th>\n",
       "      <td>...</td>\n",
       "      <td>...</td>\n",
       "      <td>...</td>\n",
       "      <td>...</td>\n",
       "      <td>...</td>\n",
       "    </tr>\n",
       "    <tr>\n",
       "      <th>145</th>\n",
       "      <td>6.7</td>\n",
       "      <td>3.0</td>\n",
       "      <td>5.2</td>\n",
       "      <td>2.3</td>\n",
       "      <td>Iris-virginica</td>\n",
       "    </tr>\n",
       "    <tr>\n",
       "      <th>146</th>\n",
       "      <td>6.3</td>\n",
       "      <td>2.5</td>\n",
       "      <td>5.0</td>\n",
       "      <td>1.9</td>\n",
       "      <td>Iris-virginica</td>\n",
       "    </tr>\n",
       "    <tr>\n",
       "      <th>147</th>\n",
       "      <td>6.5</td>\n",
       "      <td>3.0</td>\n",
       "      <td>5.2</td>\n",
       "      <td>2.0</td>\n",
       "      <td>Iris-virginica</td>\n",
       "    </tr>\n",
       "    <tr>\n",
       "      <th>148</th>\n",
       "      <td>6.2</td>\n",
       "      <td>3.4</td>\n",
       "      <td>5.4</td>\n",
       "      <td>2.3</td>\n",
       "      <td>Iris-virginica</td>\n",
       "    </tr>\n",
       "    <tr>\n",
       "      <th>149</th>\n",
       "      <td>5.9</td>\n",
       "      <td>3.0</td>\n",
       "      <td>5.1</td>\n",
       "      <td>1.8</td>\n",
       "      <td>Iris-virginica</td>\n",
       "    </tr>\n",
       "  </tbody>\n",
       "</table>\n",
       "<p>150 rows × 5 columns</p>\n",
       "</div>"
      ],
      "text/plain": [
       "     SepalLength  SepalWidth  PetalLength  PetalWidth           Class\n",
       "0            5.1         3.5          1.4         0.2     Iris-setosa\n",
       "1            4.9         3.0          1.4         0.2     Iris-setosa\n",
       "2            4.7         3.2          1.3         0.2     Iris-setosa\n",
       "3            4.6         3.1          1.5         0.2     Iris-setosa\n",
       "4            5.0         3.6          1.4         0.2     Iris-setosa\n",
       "..           ...         ...          ...         ...             ...\n",
       "145          6.7         3.0          5.2         2.3  Iris-virginica\n",
       "146          6.3         2.5          5.0         1.9  Iris-virginica\n",
       "147          6.5         3.0          5.2         2.0  Iris-virginica\n",
       "148          6.2         3.4          5.4         2.3  Iris-virginica\n",
       "149          5.9         3.0          5.1         1.8  Iris-virginica\n",
       "\n",
       "[150 rows x 5 columns]"
      ]
     },
     "execution_count": 7,
     "metadata": {},
     "output_type": "execute_result"
    }
   ],
   "source": [
    "irisData"
   ]
  },
  {
   "cell_type": "code",
   "execution_count": 8,
   "metadata": {},
   "outputs": [
    {
     "name": "stdout",
     "output_type": "stream",
     "text": [
      "   SepalLength  SepalWidth  PetalLength  PetalWidth        Class\n",
      "0          5.1         3.5          1.4         0.2  Iris-setosa\n",
      "1          4.9         3.0          1.4         0.2  Iris-setosa\n",
      "2          4.7         3.2          1.3         0.2  Iris-setosa\n",
      "3          4.6         3.1          1.5         0.2  Iris-setosa\n",
      "4          5.0         3.6          1.4         0.2  Iris-setosa\n"
     ]
    }
   ],
   "source": [
    "# Visualiza as primeiras linhas\n",
    "print(irisData.head())"
   ]
  },
  {
   "cell_type": "code",
   "execution_count": 9,
   "metadata": {},
   "outputs": [
    {
     "data": {
      "text/html": [
       "<div>\n",
       "<style scoped>\n",
       "    .dataframe tbody tr th:only-of-type {\n",
       "        vertical-align: middle;\n",
       "    }\n",
       "\n",
       "    .dataframe tbody tr th {\n",
       "        vertical-align: top;\n",
       "    }\n",
       "\n",
       "    .dataframe thead th {\n",
       "        text-align: right;\n",
       "    }\n",
       "</style>\n",
       "<table border=\"1\" class=\"dataframe\">\n",
       "  <thead>\n",
       "    <tr style=\"text-align: right;\">\n",
       "      <th></th>\n",
       "      <th>SepalLength</th>\n",
       "      <th>SepalWidth</th>\n",
       "      <th>PetalLength</th>\n",
       "      <th>PetalWidth</th>\n",
       "    </tr>\n",
       "  </thead>\n",
       "  <tbody>\n",
       "    <tr>\n",
       "      <th>count</th>\n",
       "      <td>150.000000</td>\n",
       "      <td>150.000000</td>\n",
       "      <td>150.000000</td>\n",
       "      <td>150.000000</td>\n",
       "    </tr>\n",
       "    <tr>\n",
       "      <th>mean</th>\n",
       "      <td>5.843333</td>\n",
       "      <td>3.054000</td>\n",
       "      <td>3.758667</td>\n",
       "      <td>1.198667</td>\n",
       "    </tr>\n",
       "    <tr>\n",
       "      <th>std</th>\n",
       "      <td>0.828066</td>\n",
       "      <td>0.433594</td>\n",
       "      <td>1.764420</td>\n",
       "      <td>0.763161</td>\n",
       "    </tr>\n",
       "    <tr>\n",
       "      <th>min</th>\n",
       "      <td>4.300000</td>\n",
       "      <td>2.000000</td>\n",
       "      <td>1.000000</td>\n",
       "      <td>0.100000</td>\n",
       "    </tr>\n",
       "    <tr>\n",
       "      <th>25%</th>\n",
       "      <td>5.100000</td>\n",
       "      <td>2.800000</td>\n",
       "      <td>1.600000</td>\n",
       "      <td>0.300000</td>\n",
       "    </tr>\n",
       "    <tr>\n",
       "      <th>50%</th>\n",
       "      <td>5.800000</td>\n",
       "      <td>3.000000</td>\n",
       "      <td>4.350000</td>\n",
       "      <td>1.300000</td>\n",
       "    </tr>\n",
       "    <tr>\n",
       "      <th>75%</th>\n",
       "      <td>6.400000</td>\n",
       "      <td>3.300000</td>\n",
       "      <td>5.100000</td>\n",
       "      <td>1.800000</td>\n",
       "    </tr>\n",
       "    <tr>\n",
       "      <th>max</th>\n",
       "      <td>7.900000</td>\n",
       "      <td>4.400000</td>\n",
       "      <td>6.900000</td>\n",
       "      <td>2.500000</td>\n",
       "    </tr>\n",
       "  </tbody>\n",
       "</table>\n",
       "</div>"
      ],
      "text/plain": [
       "       SepalLength  SepalWidth  PetalLength  PetalWidth\n",
       "count   150.000000  150.000000   150.000000  150.000000\n",
       "mean      5.843333    3.054000     3.758667    1.198667\n",
       "std       0.828066    0.433594     1.764420    0.763161\n",
       "min       4.300000    2.000000     1.000000    0.100000\n",
       "25%       5.100000    2.800000     1.600000    0.300000\n",
       "50%       5.800000    3.000000     4.350000    1.300000\n",
       "75%       6.400000    3.300000     5.100000    1.800000\n",
       "max       7.900000    4.400000     6.900000    2.500000"
      ]
     },
     "execution_count": 9,
     "metadata": {},
     "output_type": "execute_result"
    }
   ],
   "source": [
    "# Resumo estatístico\n",
    "irisData.describe()"
   ]
  },
  {
   "cell_type": "code",
   "execution_count": 12,
   "metadata": {},
   "outputs": [
    {
     "data": {
      "text/plain": [
       "Index(['SepalLength', 'SepalWidth', 'PetalLength', 'PetalWidth', 'Class'], dtype='object')"
      ]
     },
     "execution_count": 12,
     "metadata": {},
     "output_type": "execute_result"
    }
   ],
   "source": [
    "# Correlação \n",
    "irisData.columns"
   ]
  },
  {
   "cell_type": "code",
   "execution_count": 20,
   "metadata": {},
   "outputs": [
    {
     "name": "stdout",
     "output_type": "stream",
     "text": [
      "             SepalLength  SepalWidth  PetalLength  PetalWidth\n",
      "SepalLength     1.000000   -0.109369     0.871754    0.817954\n",
      "SepalWidth     -0.109369    1.000000    -0.420516   -0.356544\n",
      "PetalLength     0.871754   -0.420516     1.000000    0.962757\n",
      "PetalWidth      0.817954   -0.356544     0.962757    1.000000\n"
     ]
    }
   ],
   "source": [
    "numericos = ['SepalLength', 'SepalWidth', 'PetalLength', 'PetalWidth']\n",
    "print(irisData[numericos].corr())"
   ]
  },
  {
   "cell_type": "code",
   "execution_count": 21,
   "metadata": {},
   "outputs": [],
   "source": [
    "# Atributos e Variável Target\n",
    "feature = irisData[['SepalLength', 'SepalWidth', 'PetalLength', 'PetalWidth']]\n",
    "targetVariables = irisData.Class"
   ]
  },
  {
   "cell_type": "code",
   "execution_count": 22,
   "metadata": {},
   "outputs": [],
   "source": [
    "# Gera os dados de treino\n",
    "featureTrain, featureTest, targetTrain, targetTest = train_test_split(feature,\n",
    "                                                                      targetVariables,\n",
    "                                                                      test_size = .2)"
   ]
  },
  {
   "cell_type": "code",
   "execution_count": 29,
   "metadata": {},
   "outputs": [
    {
     "data": {
      "text/plain": [
       "120"
      ]
     },
     "execution_count": 29,
     "metadata": {},
     "output_type": "execute_result"
    }
   ],
   "source": [
    "featureTest.size"
   ]
  },
  {
   "cell_type": "code",
   "execution_count": 30,
   "metadata": {},
   "outputs": [
    {
     "name": "stdout",
     "output_type": "stream",
     "text": [
      "\u001b[1;31mSignature:\u001b[0m\n",
      "\u001b[0mtrain_test_split\u001b[0m\u001b[1;33m(\u001b[0m\u001b[1;33m\n",
      "\u001b[0m    \u001b[1;33m*\u001b[0m\u001b[0marrays\u001b[0m\u001b[1;33m,\u001b[0m\u001b[1;33m\n",
      "\u001b[0m    \u001b[0mtest_size\u001b[0m\u001b[1;33m=\u001b[0m\u001b[1;32mNone\u001b[0m\u001b[1;33m,\u001b[0m\u001b[1;33m\n",
      "\u001b[0m    \u001b[0mtrain_size\u001b[0m\u001b[1;33m=\u001b[0m\u001b[1;32mNone\u001b[0m\u001b[1;33m,\u001b[0m\u001b[1;33m\n",
      "\u001b[0m    \u001b[0mrandom_state\u001b[0m\u001b[1;33m=\u001b[0m\u001b[1;32mNone\u001b[0m\u001b[1;33m,\u001b[0m\u001b[1;33m\n",
      "\u001b[0m    \u001b[0mshuffle\u001b[0m\u001b[1;33m=\u001b[0m\u001b[1;32mTrue\u001b[0m\u001b[1;33m,\u001b[0m\u001b[1;33m\n",
      "\u001b[0m    \u001b[0mstratify\u001b[0m\u001b[1;33m=\u001b[0m\u001b[1;32mNone\u001b[0m\u001b[1;33m,\u001b[0m\u001b[1;33m\n",
      "\u001b[0m\u001b[1;33m)\u001b[0m\u001b[1;33m\u001b[0m\u001b[1;33m\u001b[0m\u001b[0m\n",
      "\u001b[1;31mDocstring:\u001b[0m\n",
      "Split arrays or matrices into random train and test subsets.\n",
      "\n",
      "Quick utility that wraps input validation,\n",
      "``next(ShuffleSplit().split(X, y))``, and application to input data\n",
      "into a single call for splitting (and optionally subsampling) data into a\n",
      "one-liner.\n",
      "\n",
      "Read more in the :ref:`User Guide <cross_validation>`.\n",
      "\n",
      "Parameters\n",
      "----------\n",
      "*arrays : sequence of indexables with same length / shape[0]\n",
      "    Allowed inputs are lists, numpy arrays, scipy-sparse\n",
      "    matrices or pandas dataframes.\n",
      "\n",
      "test_size : float or int, default=None\n",
      "    If float, should be between 0.0 and 1.0 and represent the proportion\n",
      "    of the dataset to include in the test split. If int, represents the\n",
      "    absolute number of test samples. If None, the value is set to the\n",
      "    complement of the train size. If ``train_size`` is also None, it will\n",
      "    be set to 0.25.\n",
      "\n",
      "train_size : float or int, default=None\n",
      "    If float, should be between 0.0 and 1.0 and represent the\n",
      "    proportion of the dataset to include in the train split. If\n",
      "    int, represents the absolute number of train samples. If None,\n",
      "    the value is automatically set to the complement of the test size.\n",
      "\n",
      "random_state : int, RandomState instance or None, default=None\n",
      "    Controls the shuffling applied to the data before applying the split.\n",
      "    Pass an int for reproducible output across multiple function calls.\n",
      "    See :term:`Glossary <random_state>`.\n",
      "\n",
      "shuffle : bool, default=True\n",
      "    Whether or not to shuffle the data before splitting. If shuffle=False\n",
      "    then stratify must be None.\n",
      "\n",
      "stratify : array-like, default=None\n",
      "    If not None, data is split in a stratified fashion, using this as\n",
      "    the class labels.\n",
      "    Read more in the :ref:`User Guide <stratification>`.\n",
      "\n",
      "Returns\n",
      "-------\n",
      "splitting : list, length=2 * len(arrays)\n",
      "    List containing train-test split of inputs.\n",
      "\n",
      "    .. versionadded:: 0.16\n",
      "        If the input is sparse, the output will be a\n",
      "        ``scipy.sparse.csr_matrix``. Else, output type is the same as the\n",
      "        input type.\n",
      "\n",
      "Examples\n",
      "--------\n",
      ">>> import numpy as np\n",
      ">>> from sklearn.model_selection import train_test_split\n",
      ">>> X, y = np.arange(10).reshape((5, 2)), range(5)\n",
      ">>> X\n",
      "array([[0, 1],\n",
      "       [2, 3],\n",
      "       [4, 5],\n",
      "       [6, 7],\n",
      "       [8, 9]])\n",
      ">>> list(y)\n",
      "[0, 1, 2, 3, 4]\n",
      "\n",
      ">>> X_train, X_test, y_train, y_test = train_test_split(\n",
      "...     X, y, test_size=0.33, random_state=42)\n",
      "...\n",
      ">>> X_train\n",
      "array([[4, 5],\n",
      "       [0, 1],\n",
      "       [6, 7]])\n",
      ">>> y_train\n",
      "[2, 0, 3]\n",
      ">>> X_test\n",
      "array([[2, 3],\n",
      "       [8, 9]])\n",
      ">>> y_test\n",
      "[1, 4]\n",
      "\n",
      ">>> train_test_split(y, shuffle=False)\n",
      "[[0, 1, 2], [3, 4]]\n",
      "\u001b[1;31mFile:\u001b[0m      c:\\users\\alyss\\anaconda3\\lib\\site-packages\\sklearn\\model_selection\\_split.py\n",
      "\u001b[1;31mType:\u001b[0m      function\n"
     ]
    }
   ],
   "source": [
    "?train_test_split"
   ]
  },
  {
   "cell_type": "code",
   "execution_count": 31,
   "metadata": {},
   "outputs": [],
   "source": [
    "# Criação do modelo \n",
    "clf = DecisionTreeClassifier()"
   ]
  },
  {
   "cell_type": "code",
   "execution_count": 40,
   "metadata": {},
   "outputs": [
    {
     "data": {
      "text/plain": [
       "{'ccp_alpha': 0.0,\n",
       " 'class_weight': None,\n",
       " 'criterion': 'gini',\n",
       " 'max_depth': None,\n",
       " 'max_features': None,\n",
       " 'max_leaf_nodes': None,\n",
       " 'min_impurity_decrease': 0.0,\n",
       " 'min_samples_leaf': 1,\n",
       " 'min_samples_split': 2,\n",
       " 'min_weight_fraction_leaf': 0.0,\n",
       " 'random_state': None,\n",
       " 'splitter': 'best'}"
      ]
     },
     "execution_count": 40,
     "metadata": {},
     "output_type": "execute_result"
    }
   ],
   "source": [
    "clf.get_params()"
   ]
  },
  {
   "cell_type": "code",
   "execution_count": 41,
   "metadata": {},
   "outputs": [],
   "source": [
    "modelo = clf.fit(featureTrain, targetTrain)\n",
    "previsoes = modelo.predict(featureTest)"
   ]
  },
  {
   "cell_type": "code",
   "execution_count": 45,
   "metadata": {},
   "outputs": [
    {
     "data": {
      "text/plain": [
       "array([[10,  0,  0],\n",
       "       [ 0,  9,  2],\n",
       "       [ 0,  1,  8]], dtype=int64)"
      ]
     },
     "execution_count": 45,
     "metadata": {},
     "output_type": "execute_result"
    }
   ],
   "source": [
    "confusion_matrix(targetTest, previsoes)"
   ]
  },
  {
   "cell_type": "code",
   "execution_count": 44,
   "metadata": {},
   "outputs": [
    {
     "name": "stdout",
     "output_type": "stream",
     "text": [
      "0.9\n"
     ]
    }
   ],
   "source": [
    "print(accuracy_score(targetTest, previsoes))"
   ]
  },
  {
   "cell_type": "markdown",
   "metadata": {},
   "source": [
    "## <font color='red'>Random Forest Classifier - 1</font>"
   ]
  },
  {
   "cell_type": "code",
   "execution_count": 46,
   "metadata": {},
   "outputs": [],
   "source": [
    "# Imports\n",
    "import numpy as np\n",
    "import matplotlib.pyplot as plt\n",
    "from sklearn.ensemble import RandomForestClassifier\n",
    "from sklearn.datasets import load_digits\n",
    "from sklearn.preprocessing import scale\n",
    "%matplotlib inline"
   ]
  },
  {
   "cell_type": "code",
   "execution_count": 47,
   "metadata": {},
   "outputs": [],
   "source": [
    "# Gerando dataset\n",
    "digitos = load_digits()"
   ]
  },
  {
   "cell_type": "code",
   "execution_count": 50,
   "metadata": {},
   "outputs": [
    {
     "data": {
      "text/plain": [
       "{'data': array([[ 0.,  0.,  5., ...,  0.,  0.,  0.],\n",
       "        [ 0.,  0.,  0., ..., 10.,  0.,  0.],\n",
       "        [ 0.,  0.,  0., ..., 16.,  9.,  0.],\n",
       "        ...,\n",
       "        [ 0.,  0.,  1., ...,  6.,  0.,  0.],\n",
       "        [ 0.,  0.,  2., ..., 12.,  0.,  0.],\n",
       "        [ 0.,  0., 10., ..., 12.,  1.,  0.]]),\n",
       " 'target': array([0, 1, 2, ..., 8, 9, 8]),\n",
       " 'frame': None,\n",
       " 'feature_names': ['pixel_0_0',\n",
       "  'pixel_0_1',\n",
       "  'pixel_0_2',\n",
       "  'pixel_0_3',\n",
       "  'pixel_0_4',\n",
       "  'pixel_0_5',\n",
       "  'pixel_0_6',\n",
       "  'pixel_0_7',\n",
       "  'pixel_1_0',\n",
       "  'pixel_1_1',\n",
       "  'pixel_1_2',\n",
       "  'pixel_1_3',\n",
       "  'pixel_1_4',\n",
       "  'pixel_1_5',\n",
       "  'pixel_1_6',\n",
       "  'pixel_1_7',\n",
       "  'pixel_2_0',\n",
       "  'pixel_2_1',\n",
       "  'pixel_2_2',\n",
       "  'pixel_2_3',\n",
       "  'pixel_2_4',\n",
       "  'pixel_2_5',\n",
       "  'pixel_2_6',\n",
       "  'pixel_2_7',\n",
       "  'pixel_3_0',\n",
       "  'pixel_3_1',\n",
       "  'pixel_3_2',\n",
       "  'pixel_3_3',\n",
       "  'pixel_3_4',\n",
       "  'pixel_3_5',\n",
       "  'pixel_3_6',\n",
       "  'pixel_3_7',\n",
       "  'pixel_4_0',\n",
       "  'pixel_4_1',\n",
       "  'pixel_4_2',\n",
       "  'pixel_4_3',\n",
       "  'pixel_4_4',\n",
       "  'pixel_4_5',\n",
       "  'pixel_4_6',\n",
       "  'pixel_4_7',\n",
       "  'pixel_5_0',\n",
       "  'pixel_5_1',\n",
       "  'pixel_5_2',\n",
       "  'pixel_5_3',\n",
       "  'pixel_5_4',\n",
       "  'pixel_5_5',\n",
       "  'pixel_5_6',\n",
       "  'pixel_5_7',\n",
       "  'pixel_6_0',\n",
       "  'pixel_6_1',\n",
       "  'pixel_6_2',\n",
       "  'pixel_6_3',\n",
       "  'pixel_6_4',\n",
       "  'pixel_6_5',\n",
       "  'pixel_6_6',\n",
       "  'pixel_6_7',\n",
       "  'pixel_7_0',\n",
       "  'pixel_7_1',\n",
       "  'pixel_7_2',\n",
       "  'pixel_7_3',\n",
       "  'pixel_7_4',\n",
       "  'pixel_7_5',\n",
       "  'pixel_7_6',\n",
       "  'pixel_7_7'],\n",
       " 'target_names': array([0, 1, 2, 3, 4, 5, 6, 7, 8, 9]),\n",
       " 'images': array([[[ 0.,  0.,  5., ...,  1.,  0.,  0.],\n",
       "         [ 0.,  0., 13., ..., 15.,  5.,  0.],\n",
       "         [ 0.,  3., 15., ..., 11.,  8.,  0.],\n",
       "         ...,\n",
       "         [ 0.,  4., 11., ..., 12.,  7.,  0.],\n",
       "         [ 0.,  2., 14., ..., 12.,  0.,  0.],\n",
       "         [ 0.,  0.,  6., ...,  0.,  0.,  0.]],\n",
       " \n",
       "        [[ 0.,  0.,  0., ...,  5.,  0.,  0.],\n",
       "         [ 0.,  0.,  0., ...,  9.,  0.,  0.],\n",
       "         [ 0.,  0.,  3., ...,  6.,  0.,  0.],\n",
       "         ...,\n",
       "         [ 0.,  0.,  1., ...,  6.,  0.,  0.],\n",
       "         [ 0.,  0.,  1., ...,  6.,  0.,  0.],\n",
       "         [ 0.,  0.,  0., ..., 10.,  0.,  0.]],\n",
       " \n",
       "        [[ 0.,  0.,  0., ..., 12.,  0.,  0.],\n",
       "         [ 0.,  0.,  3., ..., 14.,  0.,  0.],\n",
       "         [ 0.,  0.,  8., ..., 16.,  0.,  0.],\n",
       "         ...,\n",
       "         [ 0.,  9., 16., ...,  0.,  0.,  0.],\n",
       "         [ 0.,  3., 13., ..., 11.,  5.,  0.],\n",
       "         [ 0.,  0.,  0., ..., 16.,  9.,  0.]],\n",
       " \n",
       "        ...,\n",
       " \n",
       "        [[ 0.,  0.,  1., ...,  1.,  0.,  0.],\n",
       "         [ 0.,  0., 13., ...,  2.,  1.,  0.],\n",
       "         [ 0.,  0., 16., ..., 16.,  5.,  0.],\n",
       "         ...,\n",
       "         [ 0.,  0., 16., ..., 15.,  0.,  0.],\n",
       "         [ 0.,  0., 15., ..., 16.,  0.,  0.],\n",
       "         [ 0.,  0.,  2., ...,  6.,  0.,  0.]],\n",
       " \n",
       "        [[ 0.,  0.,  2., ...,  0.,  0.,  0.],\n",
       "         [ 0.,  0., 14., ..., 15.,  1.,  0.],\n",
       "         [ 0.,  4., 16., ..., 16.,  7.,  0.],\n",
       "         ...,\n",
       "         [ 0.,  0.,  0., ..., 16.,  2.,  0.],\n",
       "         [ 0.,  0.,  4., ..., 16.,  2.,  0.],\n",
       "         [ 0.,  0.,  5., ..., 12.,  0.,  0.]],\n",
       " \n",
       "        [[ 0.,  0., 10., ...,  1.,  0.,  0.],\n",
       "         [ 0.,  2., 16., ...,  1.,  0.,  0.],\n",
       "         [ 0.,  0., 15., ..., 15.,  0.,  0.],\n",
       "         ...,\n",
       "         [ 0.,  4., 16., ..., 16.,  6.,  0.],\n",
       "         [ 0.,  8., 16., ..., 16.,  8.,  0.],\n",
       "         [ 0.,  1.,  8., ..., 12.,  1.,  0.]]]),\n",
       " 'DESCR': \".. _digits_dataset:\\n\\nOptical recognition of handwritten digits dataset\\n--------------------------------------------------\\n\\n**Data Set Characteristics:**\\n\\n    :Number of Instances: 1797\\n    :Number of Attributes: 64\\n    :Attribute Information: 8x8 image of integer pixels in the range 0..16.\\n    :Missing Attribute Values: None\\n    :Creator: E. Alpaydin (alpaydin '@' boun.edu.tr)\\n    :Date: July; 1998\\n\\nThis is a copy of the test set of the UCI ML hand-written digits datasets\\nhttps://archive.ics.uci.edu/ml/datasets/Optical+Recognition+of+Handwritten+Digits\\n\\nThe data set contains images of hand-written digits: 10 classes where\\neach class refers to a digit.\\n\\nPreprocessing programs made available by NIST were used to extract\\nnormalized bitmaps of handwritten digits from a preprinted form. From a\\ntotal of 43 people, 30 contributed to the training set and different 13\\nto the test set. 32x32 bitmaps are divided into nonoverlapping blocks of\\n4x4 and the number of on pixels are counted in each block. This generates\\nan input matrix of 8x8 where each element is an integer in the range\\n0..16. This reduces dimensionality and gives invariance to small\\ndistortions.\\n\\nFor info on NIST preprocessing routines, see M. D. Garris, J. L. Blue, G.\\nT. Candela, D. L. Dimmick, J. Geist, P. J. Grother, S. A. Janet, and C.\\nL. Wilson, NIST Form-Based Handprint Recognition System, NISTIR 5469,\\n1994.\\n\\n.. topic:: References\\n\\n  - C. Kaynak (1995) Methods of Combining Multiple Classifiers and Their\\n    Applications to Handwritten Digit Recognition, MSc Thesis, Institute of\\n    Graduate Studies in Science and Engineering, Bogazici University.\\n  - E. Alpaydin, C. Kaynak (1998) Cascading Classifiers, Kybernetika.\\n  - Ken Tang and Ponnuthurai N. Suganthan and Xi Yao and A. Kai Qin.\\n    Linear dimensionalityreduction using relevance weighted LDA. School of\\n    Electrical and Electronic Engineering Nanyang Technological University.\\n    2005.\\n  - Claudio Gentile. A New Approximate Maximal Margin Classification\\n    Algorithm. NIPS. 2000.\\n\"}"
      ]
     },
     "execution_count": 50,
     "metadata": {},
     "output_type": "execute_result"
    }
   ],
   "source": [
    "digitos"
   ]
  },
  {
   "cell_type": "code",
   "execution_count": 51,
   "metadata": {},
   "outputs": [],
   "source": [
    "# Aplicando escala aos dados\n",
    "data = scale(digitos.data)"
   ]
  },
  {
   "cell_type": "code",
   "execution_count": 52,
   "metadata": {},
   "outputs": [
    {
     "data": {
      "text/plain": [
       "array([[ 0.        , -0.33501649, -0.04308102, ..., -1.14664746,\n",
       "        -0.5056698 , -0.19600752],\n",
       "       [ 0.        , -0.33501649, -1.09493684, ...,  0.54856067,\n",
       "        -0.5056698 , -0.19600752],\n",
       "       [ 0.        , -0.33501649, -1.09493684, ...,  1.56568555,\n",
       "         1.6951369 , -0.19600752],\n",
       "       ...,\n",
       "       [ 0.        , -0.33501649, -0.88456568, ..., -0.12952258,\n",
       "        -0.5056698 , -0.19600752],\n",
       "       [ 0.        , -0.33501649, -0.67419451, ...,  0.8876023 ,\n",
       "        -0.5056698 , -0.19600752],\n",
       "       [ 0.        , -0.33501649,  1.00877481, ...,  0.8876023 ,\n",
       "        -0.26113572, -0.19600752]])"
      ]
     },
     "execution_count": 52,
     "metadata": {},
     "output_type": "execute_result"
    }
   ],
   "source": [
    "data"
   ]
  },
  {
   "cell_type": "code",
   "execution_count": 53,
   "metadata": {},
   "outputs": [
    {
     "data": {
      "text/plain": [
       "(1797, 64)"
      ]
     },
     "execution_count": 53,
     "metadata": {},
     "output_type": "execute_result"
    }
   ],
   "source": [
    "data.shape"
   ]
  },
  {
   "cell_type": "code",
   "execution_count": 55,
   "metadata": {},
   "outputs": [],
   "source": [
    "# Obtém o nmr de observações e numeros de atributos \n",
    "n_observ, n_features = data.shape\n",
    "\n",
    "# Extrai o numero de linhas e colunas do conjunto de dados"
   ]
  },
  {
   "cell_type": "code",
   "execution_count": 56,
   "metadata": {},
   "outputs": [
    {
     "data": {
      "text/plain": [
       "1797"
      ]
     },
     "execution_count": 56,
     "metadata": {},
     "output_type": "execute_result"
    }
   ],
   "source": [
    "n_observ"
   ]
  },
  {
   "cell_type": "code",
   "execution_count": 57,
   "metadata": {},
   "outputs": [
    {
     "data": {
      "text/plain": [
       "64"
      ]
     },
     "execution_count": 57,
     "metadata": {},
     "output_type": "execute_result"
    }
   ],
   "source": [
    "n_features"
   ]
  },
  {
   "cell_type": "code",
   "execution_count": 58,
   "metadata": {},
   "outputs": [],
   "source": [
    "# Obtendo os labels\n",
    "n_digits = len(np.unique(digitos.target))\n",
    "labels = digitos.target"
   ]
  },
  {
   "cell_type": "code",
   "execution_count": 67,
   "metadata": {},
   "outputs": [
    {
     "data": {
      "text/plain": [
       "array([0, 1, 2, ..., 8, 9, 8])"
      ]
     },
     "execution_count": 67,
     "metadata": {},
     "output_type": "execute_result"
    }
   ],
   "source": [
    "digitos.target"
   ]
  },
  {
   "cell_type": "code",
   "execution_count": 59,
   "metadata": {},
   "outputs": [
    {
     "data": {
      "text/plain": [
       "array([0, 1, 2, ..., 8, 9, 8])"
      ]
     },
     "execution_count": 59,
     "metadata": {},
     "output_type": "execute_result"
    }
   ],
   "source": [
    "labels"
   ]
  },
  {
   "cell_type": "code",
   "execution_count": 60,
   "metadata": {},
   "outputs": [
    {
     "data": {
      "text/plain": [
       "10"
      ]
     },
     "execution_count": 60,
     "metadata": {},
     "output_type": "execute_result"
    }
   ],
   "source": [
    "n_digits"
   ]
  },
  {
   "cell_type": "code",
   "execution_count": 68,
   "metadata": {},
   "outputs": [],
   "source": [
    "# Criando o classificador\n",
    "clf = RandomForestClassifier(n_estimators = 10)"
   ]
  },
  {
   "cell_type": "markdown",
   "metadata": {},
   "source": [
    "### <font color='red'>OBSERVAÇÃO</font>\n",
    "\n",
    "Os 4 principais parâremtros em modelos de Random Forest são:\n",
    "\n",
    "<font color='green'>n_estimators</font> - Quanto maior, melhor. quantidade de árvores que serão criadas\n",
    "\n",
    "<font color='green'>max depth</font> - O padrão é \"none\", e nesse caso, árvores completas são criadas. Ajustando esse parâmetro pode-se ajudar a evitar overfitting\n",
    "\n",
    "<font color='green'>max_features</font> - Diferentes valores devem ser testados, pois este param impacta na forma com as quais os modelos RF distribuem os atributos pelas árvores\n",
    "\n",
    "<font color='green'>criterion</font> - Define a forma como o algorítmo fará a divisão dos atributos e a classificação dos nós em cada árvore"
   ]
  },
  {
   "cell_type": "code",
   "execution_count": 69,
   "metadata": {},
   "outputs": [],
   "source": [
    "# Construindo o modelo \n",
    "clf =  clf.fit(data, labels)"
   ]
  },
  {
   "cell_type": "code",
   "execution_count": 71,
   "metadata": {},
   "outputs": [
    {
     "data": {
      "text/plain": [
       "{'bootstrap': True,\n",
       " 'ccp_alpha': 0.0,\n",
       " 'class_weight': None,\n",
       " 'criterion': 'gini',\n",
       " 'max_depth': None,\n",
       " 'max_features': 'sqrt',\n",
       " 'max_leaf_nodes': None,\n",
       " 'max_samples': None,\n",
       " 'min_impurity_decrease': 0.0,\n",
       " 'min_samples_leaf': 1,\n",
       " 'min_samples_split': 2,\n",
       " 'min_weight_fraction_leaf': 0.0,\n",
       " 'n_estimators': 10,\n",
       " 'n_jobs': None,\n",
       " 'oob_score': False,\n",
       " 'random_state': None,\n",
       " 'verbose': 0,\n",
       " 'warm_start': False}"
      ]
     },
     "execution_count": 71,
     "metadata": {},
     "output_type": "execute_result"
    }
   ],
   "source": [
    "clf.get_params()"
   ]
  },
  {
   "cell_type": "code",
   "execution_count": 72,
   "metadata": {},
   "outputs": [],
   "source": [
    "score = clf.score(data, labels)"
   ]
  },
  {
   "cell_type": "code",
   "execution_count": 74,
   "metadata": {},
   "outputs": [
    {
     "name": "stdout",
     "output_type": "stream",
     "text": [
      "0.9994435169727324\n"
     ]
    }
   ],
   "source": [
    "print(score)\n",
    "\n",
    "# Provavel overfitting"
   ]
  },
  {
   "cell_type": "code",
   "execution_count": 75,
   "metadata": {},
   "outputs": [],
   "source": [
    "# Extraindo a importância das variáveis para o modelo\n",
    "importancia = clf.feature_importances_\n",
    "indices = np.argsort(importancia)"
   ]
  },
  {
   "cell_type": "code",
   "execution_count": 76,
   "metadata": {},
   "outputs": [
    {
     "data": {
      "text/plain": [
       "array([0.        , 0.00485111, 0.01777922, 0.00873802, 0.00758012,\n",
       "       0.0310124 , 0.00831526, 0.00024123, 0.        , 0.00427107,\n",
       "       0.02289332, 0.00680347, 0.01487097, 0.03014661, 0.00468643,\n",
       "       0.00056213, 0.        , 0.00607269, 0.01615653, 0.02658748,\n",
       "       0.02231167, 0.04872974, 0.00934706, 0.0001711 , 0.        ,\n",
       "       0.00965017, 0.0439323 , 0.02694673, 0.03973922, 0.01842054,\n",
       "       0.0393995 , 0.        , 0.        , 0.02275531, 0.01884783,\n",
       "       0.02164451, 0.02613931, 0.01810762, 0.02291827, 0.        ,\n",
       "       0.        , 0.01112504, 0.0359786 , 0.05820471, 0.01653833,\n",
       "       0.01685562, 0.0222277 , 0.        , 0.        , 0.00247422,\n",
       "       0.03096499, 0.03321592, 0.01404326, 0.02026814, 0.02620419,\n",
       "       0.00125852, 0.        , 0.00239742, 0.03602073, 0.00741362,\n",
       "       0.02513497, 0.02756301, 0.01047865, 0.0010034 ])"
      ]
     },
     "execution_count": 76,
     "metadata": {},
     "output_type": "execute_result"
    }
   ],
   "source": [
    "importancia"
   ]
  },
  {
   "cell_type": "code",
   "execution_count": 77,
   "metadata": {},
   "outputs": [
    {
     "data": {
      "text/plain": [
       "array([ 0, 56, 48, 47, 40, 39, 32, 24, 16, 31,  8, 23,  7, 15, 63, 55, 57,\n",
       "       49,  9, 14,  1, 17, 11, 59,  4,  6,  3, 22, 25, 62, 41, 52, 12, 18,\n",
       "       44, 45,  2, 37, 29, 34, 53, 35, 46, 20, 33, 10, 38, 60, 36, 54, 19,\n",
       "       27, 61, 13, 50,  5, 51, 42, 58, 30, 28, 26, 21, 43], dtype=int64)"
      ]
     },
     "execution_count": 77,
     "metadata": {},
     "output_type": "execute_result"
    }
   ],
   "source": [
    "indices"
   ]
  },
  {
   "cell_type": "code",
   "execution_count": 78,
   "metadata": {},
   "outputs": [],
   "source": [
    "# Obtendo os indices\n",
    "ind=[]\n",
    "for i in indices:\n",
    " ind.append(labels[i])"
   ]
  },
  {
   "cell_type": "code",
   "execution_count": 79,
   "metadata": {},
   "outputs": [
    {
     "data": {
      "image/png": "[encoded data removed]",
      "text/plain": [
       "<Figure size 640x480 with 1 Axes>"
      ]
     },
     "metadata": {},
     "output_type": "display_data"
    }
   ],
   "source": [
    "# Plot da importância dos atributos\n",
    "plt.figure(1)\n",
    "plt.title(\"Importância dos Atributos\")\n",
    "plt.barh(range(len(indices)), importancia[indices], color = \"b\", align=\"center\")\n",
    "plt.yticks(range(len(indices)), ind)\n",
    "plt.xlabel(\"Importância Relativa\")\n",
    "plt.show()\n"
   ]
  },
  {
   "cell_type": "markdown",
   "metadata": {},
   "source": [
    "## <font color='red'>Random Forest Classifier - 2</font>"
   ]
  },
  {
   "cell_type": "code",
   "execution_count": 80,
   "metadata": {},
   "outputs": [
    {
     "name": "stdout",
     "output_type": "stream",
     "text": [
      "Collecting treeinterpreter\n",
      "  Downloading treeinterpreter-0.2.3-py2.py3-none-any.whl (6.0 kB)\n",
      "Installing collected packages: treeinterpreter\n",
      "Successfully installed treeinterpreter-0.2.3\n"
     ]
    }
   ],
   "source": [
    "!pip install treeinterpreter"
   ]
  },
  {
   "cell_type": "code",
   "execution_count": 81,
   "metadata": {},
   "outputs": [],
   "source": [
    "import numpy as np\n",
    "from sklearn.ensemble import RandomForestClassifier\n",
    "from treeinterpreter import treeinterpreter as ti\n",
    "from sklearn.datasets import load_iris"
   ]
  },
  {
   "cell_type": "code",
   "execution_count": 82,
   "metadata": {},
   "outputs": [],
   "source": [
    "iris = load_iris()"
   ]
  },
  {
   "cell_type": "code",
   "execution_count": 83,
   "metadata": {},
   "outputs": [],
   "source": [
    "# Criando o classificador\n",
    "rf = RandomForestClassifier(max_depth=4)"
   ]
  },
  {
   "cell_type": "code",
   "execution_count": 87,
   "metadata": {},
   "outputs": [],
   "source": [
    "# Obtendo os índices a partir do comprimento da variável target\n",
    "idx = list(range(len(iris.target)))"
   ]
  },
  {
   "cell_type": "code",
   "execution_count": 88,
   "metadata": {},
   "outputs": [],
   "source": [
    "# rANDOMIZAR O ÍNDICE\n",
    "np.random.shuffle(idx)"
   ]
  },
  {
   "cell_type": "code",
   "execution_count": 89,
   "metadata": {},
   "outputs": [
    {
     "data": {
      "text/html": [
       "<style>#sk-container-id-5 {color: black;background-color: white;}#sk-container-id-5 pre{padding: 0;}#sk-container-id-5 div.sk-toggleable {background-color: white;}#sk-container-id-5 label.sk-toggleable__label {cursor: pointer;display: block;width: 100%;margin-bottom: 0;padding: 0.3em;box-sizing: border-box;text-align: center;}#sk-container-id-5 label.sk-toggleable__label-arrow:before {content: \"▸\";float: left;margin-right: 0.25em;color: #696969;}#sk-container-id-5 label.sk-toggleable__label-arrow:hover:before {color: black;}#sk-container-id-5 div.sk-estimator:hover label.sk-toggleable__label-arrow:before {color: black;}#sk-container-id-5 div.sk-toggleable__content {max-height: 0;max-width: 0;overflow: hidden;text-align: left;background-color: #f0f8ff;}#sk-container-id-5 div.sk-toggleable__content pre {margin: 0.2em;color: black;border-radius: 0.25em;background-color: #f0f8ff;}#sk-container-id-5 input.sk-toggleable__control:checked~div.sk-toggleable__content {max-height: 200px;max-width: 100%;overflow: auto;}#sk-container-id-5 input.sk-toggleable__control:checked~label.sk-toggleable__label-arrow:before {content: \"▾\";}#sk-container-id-5 div.sk-estimator input.sk-toggleable__control:checked~label.sk-toggleable__label {background-color: #d4ebff;}#sk-container-id-5 div.sk-label input.sk-toggleable__control:checked~label.sk-toggleable__label {background-color: #d4ebff;}#sk-container-id-5 input.sk-hidden--visually {border: 0;clip: rect(1px 1px 1px 1px);clip: rect(1px, 1px, 1px, 1px);height: 1px;margin: -1px;overflow: hidden;padding: 0;position: absolute;width: 1px;}#sk-container-id-5 div.sk-estimator {font-family: monospace;background-color: #f0f8ff;border: 1px dotted black;border-radius: 0.25em;box-sizing: border-box;margin-bottom: 0.5em;}#sk-container-id-5 div.sk-estimator:hover {background-color: #d4ebff;}#sk-container-id-5 div.sk-parallel-item::after {content: \"\";width: 100%;border-bottom: 1px solid gray;flex-grow: 1;}#sk-container-id-5 div.sk-label:hover label.sk-toggleable__label {background-color: #d4ebff;}#sk-container-id-5 div.sk-serial::before {content: \"\";position: absolute;border-left: 1px solid gray;box-sizing: border-box;top: 0;bottom: 0;left: 50%;z-index: 0;}#sk-container-id-5 div.sk-serial {display: flex;flex-direction: column;align-items: center;background-color: white;padding-right: 0.2em;padding-left: 0.2em;position: relative;}#sk-container-id-5 div.sk-item {position: relative;z-index: 1;}#sk-container-id-5 div.sk-parallel {display: flex;align-items: stretch;justify-content: center;background-color: white;position: relative;}#sk-container-id-5 div.sk-item::before, #sk-container-id-5 div.sk-parallel-item::before {content: \"\";position: absolute;border-left: 1px solid gray;box-sizing: border-box;top: 0;bottom: 0;left: 50%;z-index: -1;}#sk-container-id-5 div.sk-parallel-item {display: flex;flex-direction: column;z-index: 1;position: relative;background-color: white;}#sk-container-id-5 div.sk-parallel-item:first-child::after {align-self: flex-end;width: 50%;}#sk-container-id-5 div.sk-parallel-item:last-child::after {align-self: flex-start;width: 50%;}#sk-container-id-5 div.sk-parallel-item:only-child::after {width: 0;}#sk-container-id-5 div.sk-dashed-wrapped {border: 1px dashed gray;margin: 0 0.4em 0.5em 0.4em;box-sizing: border-box;padding-bottom: 0.4em;background-color: white;}#sk-container-id-5 div.sk-label label {font-family: monospace;font-weight: bold;display: inline-block;line-height: 1.2em;}#sk-container-id-5 div.sk-label-container {text-align: center;}#sk-container-id-5 div.sk-container {/* jupyter's `normalize.less` sets `[hidden] { display: none; }` but bootstrap.min.css set `[hidden] { display: none !important; }` so we also need the `!important` here to be able to override the default hidden behavior on the sphinx rendered scikit-learn.org. See: https://github.com/scikit-learn/scikit-learn/issues/21755 */display: inline-block !important;position: relative;}#sk-container-id-5 div.sk-text-repr-fallback {display: none;}</style><div id=\"sk-container-id-5\" class=\"sk-top-container\"><div class=\"sk-text-repr-fallback\"><pre>RandomForestClassifier(max_depth=4)</pre><b>In a Jupyter environment, please rerun this cell to show the HTML representation or trust the notebook. <br />On GitHub, the HTML representation is unable to render, please try loading this page with nbviewer.org.</b></div><div class=\"sk-container\" hidden><div class=\"sk-item\"><div class=\"sk-estimator sk-toggleable\"><input class=\"sk-toggleable__control sk-hidden--visually\" id=\"sk-estimator-id-5\" type=\"checkbox\" checked><label for=\"sk-estimator-id-5\" class=\"sk-toggleable__label sk-toggleable__label-arrow\">RandomForestClassifier</label><div class=\"sk-toggleable__content\"><pre>RandomForestClassifier(max_depth=4)</pre></div></div></div></div></div>"
      ],
      "text/plain": [
       "RandomForestClassifier(max_depth=4)"
      ]
     },
     "execution_count": 89,
     "metadata": {},
     "output_type": "execute_result"
    }
   ],
   "source": [
    "# Criando o modelo \n",
    "rf.fit(iris.data[idx][:100], iris.target[idx][:100])"
   ]
  },
  {
   "cell_type": "code",
   "execution_count": 90,
   "metadata": {},
   "outputs": [
    {
     "name": "stdout",
     "output_type": "stream",
     "text": [
      "\u001b[1;31mSignature:\u001b[0m \u001b[0mrf\u001b[0m\u001b[1;33m.\u001b[0m\u001b[0mpredict_proba\u001b[0m\u001b[1;33m(\u001b[0m\u001b[0mX\u001b[0m\u001b[1;33m)\u001b[0m\u001b[1;33m\u001b[0m\u001b[1;33m\u001b[0m\u001b[0m\n",
      "\u001b[1;31mDocstring:\u001b[0m\n",
      "Predict class probabilities for X.\n",
      "\n",
      "The predicted class probabilities of an input sample are computed as\n",
      "the mean predicted class probabilities of the trees in the forest.\n",
      "The class probability of a single tree is the fraction of samples of\n",
      "the same class in a leaf.\n",
      "\n",
      "Parameters\n",
      "----------\n",
      "X : {array-like, sparse matrix} of shape (n_samples, n_features)\n",
      "    The input samples. Internally, its dtype will be converted to\n",
      "    ``dtype=np.float32``. If a sparse matrix is provided, it will be\n",
      "    converted into a sparse ``csr_matrix``.\n",
      "\n",
      "Returns\n",
      "-------\n",
      "p : ndarray of shape (n_samples, n_classes), or a list of such arrays\n",
      "    The class probabilities of the input samples. The order of the\n",
      "    classes corresponds to that in the attribute :term:`classes_`.\n",
      "\u001b[1;31mFile:\u001b[0m      c:\\users\\alyss\\anaconda3\\lib\\site-packages\\sklearn\\ensemble\\_forest.py\n",
      "\u001b[1;31mType:\u001b[0m      method\n"
     ]
    }
   ],
   "source": [
    "?rf.predict_proba"
   ]
  },
  {
   "cell_type": "code",
   "execution_count": 91,
   "metadata": {},
   "outputs": [
    {
     "name": "stdout",
     "output_type": "stream",
     "text": [
      "[[0.         0.99650794 0.00349206]]\n"
     ]
    }
   ],
   "source": [
    "# Obttem as instâncias (exemplos ou observações) e retorna as probaBILIDADES\n",
    "instance = iris.data[idx][100:101]\n",
    "print(rf.predict_proba(instance))"
   ]
  },
  {
   "cell_type": "code",
   "execution_count": 93,
   "metadata": {},
   "outputs": [
    {
     "name": "stdout",
     "output_type": "stream",
     "text": [
      "Previsões [[0.         0.99650794 0.00349206]]\n",
      "Contribuição dos Atributos:\n",
      "sepal length (cm) [-0.03653932  0.03893372 -0.0023944 ]\n",
      "sepal width (cm) [-0.02613471  0.03237604 -0.00624133]\n",
      "petal length (cm) [-0.17782109  0.27702697 -0.09920588]\n",
      "petal width (cm) [-0.10710488  0.33567121 -0.22856633]\n"
     ]
    }
   ],
   "source": [
    "prediction, bias, contributions = ti.predict(rf, instance)\n",
    "print(f\"Previsões {prediction}\")\n",
    "print(\"Contribuição dos Atributos:\")\n",
    "for item, feature in zip(contributions[0], iris.feature_names):\n",
    " print(feature, item)"
   ]
  },
  {
   "cell_type": "markdown",
   "metadata": {},
   "source": [
    "# <font color='orange'>Random Forest Regressor</font>"
   ]
  },
  {
   "cell_type": "markdown",
   "metadata": {},
   "source": [
    "Nosso dataset possui registros de 81.312 Games Boards como esse: http://www.boardgamegeek.com/boardgame/167791/terraforming-mars"
   ]
  },
  {
   "cell_type": "markdown",
   "metadata": {},
   "source": [
    "### Colunas no dataset:\n",
    "\n",
    "https://github.com/ThaWeatherman/scrapers/tree/master/boardgamegeek\n",
    "\n",
    "name – name of the board game.\n",
    "\n",
    "playingtime – the playing time (given by the manufacturer).\n",
    "\n",
    "minplaytime – the minimum playing time (given by the manufacturer).\n",
    "\n",
    "maxplaytime – the maximum playing time (given by the manufacturer).\n",
    "\n",
    "minage – the minimum recommended age to play.\n",
    "\n",
    "users_rated – the number of users who rated the game.\n",
    "\n",
    "average_rating – the average rating given to the game by users. (0-10)\n",
    "\n",
    "total_weights – Number of weights given by users.  Weight is a subjective measure that is made up by BoardGameGeek. \n",
    "\n",
    "It’s how “deep” or involved a game is. Here’s a full explanation.\n",
    "\n",
    "average_weight – the average of all the subjective weights (0-5)."
   ]
  },
  {
   "cell_type": "markdown",
   "metadata": {},
   "source": [
    "Avarage Rating será o target"
   ]
  },
  {
   "cell_type": "code",
   "execution_count": 94,
   "metadata": {},
   "outputs": [],
   "source": [
    "# Imports\n",
    "import pandas as pd\n",
    "import matplotlib.pyplot as plt\n",
    "from sklearn.linear_model import LinearRegression # Não precisa para Random forest, apenas para comparar\n",
    "from sklearn.ensemble import RandomForestRegressor\n",
    "from sklearn.metrics import mean_squared_error\n",
    "from sklearn.model_selection import train_test_split"
   ]
  },
  {
   "cell_type": "code",
   "execution_count": 95,
   "metadata": {},
   "outputs": [],
   "source": [
    "# Carregando dataset\n",
    "games = pd.read_csv(\"C:/formacao_dataScience_DSA_DADOS/04_machineLearning/Cap09/dados_python/games_data.csv\")"
   ]
  },
  {
   "cell_type": "code",
   "execution_count": 96,
   "metadata": {},
   "outputs": [
    {
     "data": {
      "text/plain": [
       "Index(['id', 'type', 'name', 'yearpublished', 'minplayers', 'maxplayers',\n",
       "       'playingtime', 'minplaytime', 'maxplaytime', 'minage', 'users_rated',\n",
       "       'average_rating', 'bayes_average_rating', 'total_owners',\n",
       "       'total_traders', 'total_wanters', 'total_wishers', 'total_comments',\n",
       "       'total_weights', 'average_weight'],\n",
       "      dtype='object')"
      ]
     },
     "execution_count": 96,
     "metadata": {},
     "output_type": "execute_result"
    }
   ],
   "source": [
    "games.columns"
   ]
  },
  {
   "cell_type": "code",
   "execution_count": 97,
   "metadata": {},
   "outputs": [
    {
     "data": {
      "text/plain": [
       "(81312, 20)"
      ]
     },
     "execution_count": 97,
     "metadata": {},
     "output_type": "execute_result"
    }
   ],
   "source": [
    "games.shape"
   ]
  },
  {
   "cell_type": "code",
   "execution_count": 98,
   "metadata": {},
   "outputs": [
    {
     "data": {
      "text/html": [
       "<div>\n",
       "<style scoped>\n",
       "    .dataframe tbody tr th:only-of-type {\n",
       "        vertical-align: middle;\n",
       "    }\n",
       "\n",
       "    .dataframe tbody tr th {\n",
       "        vertical-align: top;\n",
       "    }\n",
       "\n",
       "    .dataframe thead th {\n",
       "        text-align: right;\n",
       "    }\n",
       "</style>\n",
       "<table border=\"1\" class=\"dataframe\">\n",
       "  <thead>\n",
       "    <tr style=\"text-align: right;\">\n",
       "      <th></th>\n",
       "      <th>id</th>\n",
       "      <th>type</th>\n",
       "      <th>name</th>\n",
       "      <th>yearpublished</th>\n",
       "      <th>minplayers</th>\n",
       "      <th>maxplayers</th>\n",
       "      <th>playingtime</th>\n",
       "      <th>minplaytime</th>\n",
       "      <th>maxplaytime</th>\n",
       "      <th>minage</th>\n",
       "      <th>users_rated</th>\n",
       "      <th>average_rating</th>\n",
       "      <th>bayes_average_rating</th>\n",
       "      <th>total_owners</th>\n",
       "      <th>total_traders</th>\n",
       "      <th>total_wanters</th>\n",
       "      <th>total_wishers</th>\n",
       "      <th>total_comments</th>\n",
       "      <th>total_weights</th>\n",
       "      <th>average_weight</th>\n",
       "    </tr>\n",
       "  </thead>\n",
       "  <tbody>\n",
       "    <tr>\n",
       "      <th>45117</th>\n",
       "      <td>44678</td>\n",
       "      <td>boardgame</td>\n",
       "      <td>Strawberry Shortcake Berry Princess Hide and S...</td>\n",
       "      <td>2005.0</td>\n",
       "      <td>2.0</td>\n",
       "      <td>4.0</td>\n",
       "      <td>20.0</td>\n",
       "      <td>20.0</td>\n",
       "      <td>20.0</td>\n",
       "      <td>4.0</td>\n",
       "      <td>2</td>\n",
       "      <td>4.50000</td>\n",
       "      <td>0.00000</td>\n",
       "      <td>4</td>\n",
       "      <td>0</td>\n",
       "      <td>0</td>\n",
       "      <td>1</td>\n",
       "      <td>0</td>\n",
       "      <td>0</td>\n",
       "      <td>0.0000</td>\n",
       "    </tr>\n",
       "    <tr>\n",
       "      <th>70124</th>\n",
       "      <td>152123</td>\n",
       "      <td>boardgame</td>\n",
       "      <td>Dogfight</td>\n",
       "      <td>2013.0</td>\n",
       "      <td>2.0</td>\n",
       "      <td>4.0</td>\n",
       "      <td>45.0</td>\n",
       "      <td>45.0</td>\n",
       "      <td>45.0</td>\n",
       "      <td>10.0</td>\n",
       "      <td>0</td>\n",
       "      <td>0.00000</td>\n",
       "      <td>0.00000</td>\n",
       "      <td>3</td>\n",
       "      <td>0</td>\n",
       "      <td>0</td>\n",
       "      <td>1</td>\n",
       "      <td>0</td>\n",
       "      <td>0</td>\n",
       "      <td>0.0000</td>\n",
       "    </tr>\n",
       "    <tr>\n",
       "      <th>54735</th>\n",
       "      <td>96428</td>\n",
       "      <td>boardgame</td>\n",
       "      <td>Play the Sign</td>\n",
       "      <td>2011.0</td>\n",
       "      <td>2.0</td>\n",
       "      <td>8.0</td>\n",
       "      <td>15.0</td>\n",
       "      <td>15.0</td>\n",
       "      <td>15.0</td>\n",
       "      <td>7.0</td>\n",
       "      <td>1</td>\n",
       "      <td>8.00000</td>\n",
       "      <td>0.00000</td>\n",
       "      <td>3</td>\n",
       "      <td>0</td>\n",
       "      <td>0</td>\n",
       "      <td>0</td>\n",
       "      <td>1</td>\n",
       "      <td>0</td>\n",
       "      <td>0.0000</td>\n",
       "    </tr>\n",
       "    <tr>\n",
       "      <th>46234</th>\n",
       "      <td>55391</td>\n",
       "      <td>boardgame</td>\n",
       "      <td>Preventit</td>\n",
       "      <td>1994.0</td>\n",
       "      <td>2.0</td>\n",
       "      <td>6.0</td>\n",
       "      <td>0.0</td>\n",
       "      <td>0.0</td>\n",
       "      <td>0.0</td>\n",
       "      <td>6.0</td>\n",
       "      <td>0</td>\n",
       "      <td>0.00000</td>\n",
       "      <td>0.00000</td>\n",
       "      <td>3</td>\n",
       "      <td>1</td>\n",
       "      <td>0</td>\n",
       "      <td>0</td>\n",
       "      <td>1</td>\n",
       "      <td>0</td>\n",
       "      <td>0.0000</td>\n",
       "    </tr>\n",
       "    <tr>\n",
       "      <th>264</th>\n",
       "      <td>30869</td>\n",
       "      <td>boardgame</td>\n",
       "      <td>Thebes</td>\n",
       "      <td>2007.0</td>\n",
       "      <td>2.0</td>\n",
       "      <td>4.0</td>\n",
       "      <td>60.0</td>\n",
       "      <td>60.0</td>\n",
       "      <td>60.0</td>\n",
       "      <td>8.0</td>\n",
       "      <td>6734</td>\n",
       "      <td>7.21282</td>\n",
       "      <td>7.03889</td>\n",
       "      <td>7315</td>\n",
       "      <td>145</td>\n",
       "      <td>490</td>\n",
       "      <td>1577</td>\n",
       "      <td>2086</td>\n",
       "      <td>768</td>\n",
       "      <td>2.1732</td>\n",
       "    </tr>\n",
       "    <tr>\n",
       "      <th>49822</th>\n",
       "      <td>67932</td>\n",
       "      <td>boardgame</td>\n",
       "      <td>Face to Face: A Cubist Strategy Game</td>\n",
       "      <td>2009.0</td>\n",
       "      <td>2.0</td>\n",
       "      <td>4.0</td>\n",
       "      <td>30.0</td>\n",
       "      <td>30.0</td>\n",
       "      <td>30.0</td>\n",
       "      <td>8.0</td>\n",
       "      <td>13</td>\n",
       "      <td>2.84615</td>\n",
       "      <td>0.00000</td>\n",
       "      <td>34</td>\n",
       "      <td>5</td>\n",
       "      <td>0</td>\n",
       "      <td>0</td>\n",
       "      <td>5</td>\n",
       "      <td>0</td>\n",
       "      <td>0.0000</td>\n",
       "    </tr>\n",
       "    <tr>\n",
       "      <th>10731</th>\n",
       "      <td>20525</td>\n",
       "      <td>boardgame</td>\n",
       "      <td>Knock Out Whist</td>\n",
       "      <td>0.0</td>\n",
       "      <td>2.0</td>\n",
       "      <td>7.0</td>\n",
       "      <td>15.0</td>\n",
       "      <td>15.0</td>\n",
       "      <td>15.0</td>\n",
       "      <td>6.0</td>\n",
       "      <td>37</td>\n",
       "      <td>5.52973</td>\n",
       "      <td>5.50156</td>\n",
       "      <td>25</td>\n",
       "      <td>0</td>\n",
       "      <td>0</td>\n",
       "      <td>2</td>\n",
       "      <td>21</td>\n",
       "      <td>8</td>\n",
       "      <td>1.6250</td>\n",
       "    </tr>\n",
       "    <tr>\n",
       "      <th>62648</th>\n",
       "      <td>128655</td>\n",
       "      <td>boardgame</td>\n",
       "      <td>Jagdrevier</td>\n",
       "      <td>2012.0</td>\n",
       "      <td>2.0</td>\n",
       "      <td>5.0</td>\n",
       "      <td>30.0</td>\n",
       "      <td>30.0</td>\n",
       "      <td>30.0</td>\n",
       "      <td>8.0</td>\n",
       "      <td>9</td>\n",
       "      <td>5.50000</td>\n",
       "      <td>0.00000</td>\n",
       "      <td>15</td>\n",
       "      <td>1</td>\n",
       "      <td>1</td>\n",
       "      <td>2</td>\n",
       "      <td>3</td>\n",
       "      <td>1</td>\n",
       "      <td>2.0000</td>\n",
       "    </tr>\n",
       "    <tr>\n",
       "      <th>59154</th>\n",
       "      <td>115866</td>\n",
       "      <td>boardgame</td>\n",
       "      <td>Kuskalla</td>\n",
       "      <td>2012.0</td>\n",
       "      <td>2.0</td>\n",
       "      <td>3.0</td>\n",
       "      <td>20.0</td>\n",
       "      <td>20.0</td>\n",
       "      <td>20.0</td>\n",
       "      <td>0.0</td>\n",
       "      <td>0</td>\n",
       "      <td>0.00000</td>\n",
       "      <td>0.00000</td>\n",
       "      <td>1</td>\n",
       "      <td>0</td>\n",
       "      <td>0</td>\n",
       "      <td>0</td>\n",
       "      <td>1</td>\n",
       "      <td>0</td>\n",
       "      <td>0.0000</td>\n",
       "    </tr>\n",
       "    <tr>\n",
       "      <th>43349</th>\n",
       "      <td>41129</td>\n",
       "      <td>boardgame</td>\n",
       "      <td>Roll 'n Multiply</td>\n",
       "      <td>0.0</td>\n",
       "      <td>2.0</td>\n",
       "      <td>2.0</td>\n",
       "      <td>10.0</td>\n",
       "      <td>10.0</td>\n",
       "      <td>10.0</td>\n",
       "      <td>8.0</td>\n",
       "      <td>0</td>\n",
       "      <td>0.00000</td>\n",
       "      <td>0.00000</td>\n",
       "      <td>4</td>\n",
       "      <td>1</td>\n",
       "      <td>0</td>\n",
       "      <td>0</td>\n",
       "      <td>0</td>\n",
       "      <td>0</td>\n",
       "      <td>0.0000</td>\n",
       "    </tr>\n",
       "  </tbody>\n",
       "</table>\n",
       "</div>"
      ],
      "text/plain": [
       "           id       type                                               name  \\\n",
       "45117   44678  boardgame  Strawberry Shortcake Berry Princess Hide and S...   \n",
       "70124  152123  boardgame                                           Dogfight   \n",
       "54735   96428  boardgame                                      Play the Sign   \n",
       "46234   55391  boardgame                                          Preventit   \n",
       "264     30869  boardgame                                             Thebes   \n",
       "49822   67932  boardgame               Face to Face: A Cubist Strategy Game   \n",
       "10731   20525  boardgame                                    Knock Out Whist   \n",
       "62648  128655  boardgame                                         Jagdrevier   \n",
       "59154  115866  boardgame                                           Kuskalla   \n",
       "43349   41129  boardgame                                   Roll 'n Multiply   \n",
       "\n",
       "       yearpublished  minplayers  maxplayers  playingtime  minplaytime  \\\n",
       "45117         2005.0         2.0         4.0         20.0         20.0   \n",
       "70124         2013.0         2.0         4.0         45.0         45.0   \n",
       "54735         2011.0         2.0         8.0         15.0         15.0   \n",
       "46234         1994.0         2.0         6.0          0.0          0.0   \n",
       "264           2007.0         2.0         4.0         60.0         60.0   \n",
       "49822         2009.0         2.0         4.0         30.0         30.0   \n",
       "10731            0.0         2.0         7.0         15.0         15.0   \n",
       "62648         2012.0         2.0         5.0         30.0         30.0   \n",
       "59154         2012.0         2.0         3.0         20.0         20.0   \n",
       "43349            0.0         2.0         2.0         10.0         10.0   \n",
       "\n",
       "       maxplaytime  minage  users_rated  average_rating  bayes_average_rating  \\\n",
       "45117         20.0     4.0            2         4.50000               0.00000   \n",
       "70124         45.0    10.0            0         0.00000               0.00000   \n",
       "54735         15.0     7.0            1         8.00000               0.00000   \n",
       "46234          0.0     6.0            0         0.00000               0.00000   \n",
       "264           60.0     8.0         6734         7.21282               7.03889   \n",
       "49822         30.0     8.0           13         2.84615               0.00000   \n",
       "10731         15.0     6.0           37         5.52973               5.50156   \n",
       "62648         30.0     8.0            9         5.50000               0.00000   \n",
       "59154         20.0     0.0            0         0.00000               0.00000   \n",
       "43349         10.0     8.0            0         0.00000               0.00000   \n",
       "\n",
       "       total_owners  total_traders  total_wanters  total_wishers  \\\n",
       "45117             4              0              0              1   \n",
       "70124             3              0              0              1   \n",
       "54735             3              0              0              0   \n",
       "46234             3              1              0              0   \n",
       "264            7315            145            490           1577   \n",
       "49822            34              5              0              0   \n",
       "10731            25              0              0              2   \n",
       "62648            15              1              1              2   \n",
       "59154             1              0              0              0   \n",
       "43349             4              1              0              0   \n",
       "\n",
       "       total_comments  total_weights  average_weight  \n",
       "45117               0              0          0.0000  \n",
       "70124               0              0          0.0000  \n",
       "54735               1              0          0.0000  \n",
       "46234               1              0          0.0000  \n",
       "264              2086            768          2.1732  \n",
       "49822               5              0          0.0000  \n",
       "10731              21              8          1.6250  \n",
       "62648               3              1          2.0000  \n",
       "59154               1              0          0.0000  \n",
       "43349               0              0          0.0000  "
      ]
     },
     "execution_count": 98,
     "metadata": {},
     "output_type": "execute_result"
    }
   ],
   "source": [
    "games.sample(10)"
   ]
  },
  {
   "cell_type": "code",
   "execution_count": 100,
   "metadata": {},
   "outputs": [
    {
     "data": {
      "image/png": "[encoded data removed]",
      "text/plain": [
       "<Figure size 640x480 with 1 Axes>"
      ]
     },
     "metadata": {},
     "output_type": "display_data"
    }
   ],
   "source": [
    "# Histograma com a média das avaliações\n",
    "plt.hist(games[\"average_rating\"])\n",
    "plt.show()"
   ]
  },
  {
   "cell_type": "code",
   "execution_count": 103,
   "metadata": {},
   "outputs": [
    {
     "data": {
      "text/html": [
       "<div>\n",
       "<style scoped>\n",
       "    .dataframe tbody tr th:only-of-type {\n",
       "        vertical-align: middle;\n",
       "    }\n",
       "\n",
       "    .dataframe tbody tr th {\n",
       "        vertical-align: top;\n",
       "    }\n",
       "\n",
       "    .dataframe thead th {\n",
       "        text-align: right;\n",
       "    }\n",
       "</style>\n",
       "<table border=\"1\" class=\"dataframe\">\n",
       "  <thead>\n",
       "    <tr style=\"text-align: right;\">\n",
       "      <th></th>\n",
       "      <th>id</th>\n",
       "      <th>type</th>\n",
       "      <th>name</th>\n",
       "      <th>yearpublished</th>\n",
       "      <th>minplayers</th>\n",
       "      <th>maxplayers</th>\n",
       "      <th>playingtime</th>\n",
       "      <th>minplaytime</th>\n",
       "      <th>maxplaytime</th>\n",
       "      <th>minage</th>\n",
       "      <th>users_rated</th>\n",
       "      <th>average_rating</th>\n",
       "      <th>bayes_average_rating</th>\n",
       "      <th>total_owners</th>\n",
       "      <th>total_traders</th>\n",
       "      <th>total_wanters</th>\n",
       "      <th>total_wishers</th>\n",
       "      <th>total_comments</th>\n",
       "      <th>total_weights</th>\n",
       "      <th>average_weight</th>\n",
       "    </tr>\n",
       "  </thead>\n",
       "  <tbody>\n",
       "    <tr>\n",
       "      <th>13048</th>\n",
       "      <td>318</td>\n",
       "      <td>boardgame</td>\n",
       "      <td>Looney Leo</td>\n",
       "      <td>0.0</td>\n",
       "      <td>0.0</td>\n",
       "      <td>0.0</td>\n",
       "      <td>0.0</td>\n",
       "      <td>0.0</td>\n",
       "      <td>0.0</td>\n",
       "      <td>0.0</td>\n",
       "      <td>0</td>\n",
       "      <td>0.0</td>\n",
       "      <td>0.0</td>\n",
       "      <td>0</td>\n",
       "      <td>0</td>\n",
       "      <td>0</td>\n",
       "      <td>1</td>\n",
       "      <td>0</td>\n",
       "      <td>0</td>\n",
       "      <td>0.0</td>\n",
       "    </tr>\n",
       "    <tr>\n",
       "      <th>13068</th>\n",
       "      <td>579</td>\n",
       "      <td>boardgame</td>\n",
       "      <td>Field of Fire</td>\n",
       "      <td>2002.0</td>\n",
       "      <td>2.0</td>\n",
       "      <td>0.0</td>\n",
       "      <td>0.0</td>\n",
       "      <td>0.0</td>\n",
       "      <td>0.0</td>\n",
       "      <td>12.0</td>\n",
       "      <td>0</td>\n",
       "      <td>0.0</td>\n",
       "      <td>0.0</td>\n",
       "      <td>2</td>\n",
       "      <td>0</td>\n",
       "      <td>0</td>\n",
       "      <td>1</td>\n",
       "      <td>0</td>\n",
       "      <td>0</td>\n",
       "      <td>0.0</td>\n",
       "    </tr>\n",
       "    <tr>\n",
       "      <th>13114</th>\n",
       "      <td>894</td>\n",
       "      <td>boardgame</td>\n",
       "      <td>LifeLinks</td>\n",
       "      <td>2000.0</td>\n",
       "      <td>1.0</td>\n",
       "      <td>8.0</td>\n",
       "      <td>10.0</td>\n",
       "      <td>10.0</td>\n",
       "      <td>10.0</td>\n",
       "      <td>8.0</td>\n",
       "      <td>0</td>\n",
       "      <td>0.0</td>\n",
       "      <td>0.0</td>\n",
       "      <td>2</td>\n",
       "      <td>0</td>\n",
       "      <td>1</td>\n",
       "      <td>1</td>\n",
       "      <td>0</td>\n",
       "      <td>0</td>\n",
       "      <td>0.0</td>\n",
       "    </tr>\n",
       "    <tr>\n",
       "      <th>13116</th>\n",
       "      <td>897</td>\n",
       "      <td>boardgame</td>\n",
       "      <td>Dear Abby</td>\n",
       "      <td>1992.0</td>\n",
       "      <td>3.0</td>\n",
       "      <td>4.0</td>\n",
       "      <td>60.0</td>\n",
       "      <td>60.0</td>\n",
       "      <td>60.0</td>\n",
       "      <td>13.0</td>\n",
       "      <td>0</td>\n",
       "      <td>0.0</td>\n",
       "      <td>0.0</td>\n",
       "      <td>7</td>\n",
       "      <td>1</td>\n",
       "      <td>0</td>\n",
       "      <td>0</td>\n",
       "      <td>0</td>\n",
       "      <td>0</td>\n",
       "      <td>0.0</td>\n",
       "    </tr>\n",
       "    <tr>\n",
       "      <th>13124</th>\n",
       "      <td>946</td>\n",
       "      <td>boardgame</td>\n",
       "      <td>Rolazone</td>\n",
       "      <td>1999.0</td>\n",
       "      <td>2.0</td>\n",
       "      <td>2.0</td>\n",
       "      <td>30.0</td>\n",
       "      <td>30.0</td>\n",
       "      <td>30.0</td>\n",
       "      <td>0.0</td>\n",
       "      <td>0</td>\n",
       "      <td>0.0</td>\n",
       "      <td>0.0</td>\n",
       "      <td>0</td>\n",
       "      <td>0</td>\n",
       "      <td>0</td>\n",
       "      <td>3</td>\n",
       "      <td>0</td>\n",
       "      <td>0</td>\n",
       "      <td>0.0</td>\n",
       "    </tr>\n",
       "    <tr>\n",
       "      <th>...</th>\n",
       "      <td>...</td>\n",
       "      <td>...</td>\n",
       "      <td>...</td>\n",
       "      <td>...</td>\n",
       "      <td>...</td>\n",
       "      <td>...</td>\n",
       "      <td>...</td>\n",
       "      <td>...</td>\n",
       "      <td>...</td>\n",
       "      <td>...</td>\n",
       "      <td>...</td>\n",
       "      <td>...</td>\n",
       "      <td>...</td>\n",
       "      <td>...</td>\n",
       "      <td>...</td>\n",
       "      <td>...</td>\n",
       "      <td>...</td>\n",
       "      <td>...</td>\n",
       "      <td>...</td>\n",
       "      <td>...</td>\n",
       "    </tr>\n",
       "    <tr>\n",
       "      <th>81307</th>\n",
       "      <td>184441</td>\n",
       "      <td>boardgameexpansion</td>\n",
       "      <td>Micro Rome: Aegyptus</td>\n",
       "      <td>2015.0</td>\n",
       "      <td>1.0</td>\n",
       "      <td>1.0</td>\n",
       "      <td>0.0</td>\n",
       "      <td>30.0</td>\n",
       "      <td>0.0</td>\n",
       "      <td>10.0</td>\n",
       "      <td>0</td>\n",
       "      <td>0.0</td>\n",
       "      <td>0.0</td>\n",
       "      <td>0</td>\n",
       "      <td>0</td>\n",
       "      <td>0</td>\n",
       "      <td>0</td>\n",
       "      <td>0</td>\n",
       "      <td>0</td>\n",
       "      <td>0.0</td>\n",
       "    </tr>\n",
       "    <tr>\n",
       "      <th>81308</th>\n",
       "      <td>184442</td>\n",
       "      <td>boardgame</td>\n",
       "      <td>Trivial Pursuit: Marvel Cinematic Universe  Da...</td>\n",
       "      <td>2013.0</td>\n",
       "      <td>2.0</td>\n",
       "      <td>0.0</td>\n",
       "      <td>0.0</td>\n",
       "      <td>0.0</td>\n",
       "      <td>0.0</td>\n",
       "      <td>12.0</td>\n",
       "      <td>0</td>\n",
       "      <td>0.0</td>\n",
       "      <td>0.0</td>\n",
       "      <td>0</td>\n",
       "      <td>0</td>\n",
       "      <td>0</td>\n",
       "      <td>0</td>\n",
       "      <td>0</td>\n",
       "      <td>0</td>\n",
       "      <td>0.0</td>\n",
       "    </tr>\n",
       "    <tr>\n",
       "      <th>81309</th>\n",
       "      <td>184443</td>\n",
       "      <td>boardgame</td>\n",
       "      <td>BEARanoia</td>\n",
       "      <td>2015.0</td>\n",
       "      <td>2.0</td>\n",
       "      <td>15.0</td>\n",
       "      <td>1.0</td>\n",
       "      <td>1.0</td>\n",
       "      <td>1.0</td>\n",
       "      <td>0.0</td>\n",
       "      <td>0</td>\n",
       "      <td>0.0</td>\n",
       "      <td>0.0</td>\n",
       "      <td>0</td>\n",
       "      <td>0</td>\n",
       "      <td>0</td>\n",
       "      <td>0</td>\n",
       "      <td>0</td>\n",
       "      <td>0</td>\n",
       "      <td>0.0</td>\n",
       "    </tr>\n",
       "    <tr>\n",
       "      <th>81310</th>\n",
       "      <td>184449</td>\n",
       "      <td>boardgame</td>\n",
       "      <td>Freight</td>\n",
       "      <td>2015.0</td>\n",
       "      <td>2.0</td>\n",
       "      <td>4.0</td>\n",
       "      <td>60.0</td>\n",
       "      <td>30.0</td>\n",
       "      <td>60.0</td>\n",
       "      <td>8.0</td>\n",
       "      <td>0</td>\n",
       "      <td>0.0</td>\n",
       "      <td>0.0</td>\n",
       "      <td>0</td>\n",
       "      <td>0</td>\n",
       "      <td>0</td>\n",
       "      <td>0</td>\n",
       "      <td>0</td>\n",
       "      <td>0</td>\n",
       "      <td>0.0</td>\n",
       "    </tr>\n",
       "    <tr>\n",
       "      <th>81311</th>\n",
       "      <td>184451</td>\n",
       "      <td>boardgame</td>\n",
       "      <td>Bingo Animal Kids</td>\n",
       "      <td>2010.0</td>\n",
       "      <td>1.0</td>\n",
       "      <td>6.0</td>\n",
       "      <td>10.0</td>\n",
       "      <td>10.0</td>\n",
       "      <td>10.0</td>\n",
       "      <td>2.0</td>\n",
       "      <td>0</td>\n",
       "      <td>0.0</td>\n",
       "      <td>0.0</td>\n",
       "      <td>0</td>\n",
       "      <td>0</td>\n",
       "      <td>0</td>\n",
       "      <td>0</td>\n",
       "      <td>0</td>\n",
       "      <td>0</td>\n",
       "      <td>0.0</td>\n",
       "    </tr>\n",
       "  </tbody>\n",
       "</table>\n",
       "<p>24380 rows × 20 columns</p>\n",
       "</div>"
      ],
      "text/plain": [
       "           id                type  \\\n",
       "13048     318           boardgame   \n",
       "13068     579           boardgame   \n",
       "13114     894           boardgame   \n",
       "13116     897           boardgame   \n",
       "13124     946           boardgame   \n",
       "...       ...                 ...   \n",
       "81307  184441  boardgameexpansion   \n",
       "81308  184442           boardgame   \n",
       "81309  184443           boardgame   \n",
       "81310  184449           boardgame   \n",
       "81311  184451           boardgame   \n",
       "\n",
       "                                                    name  yearpublished  \\\n",
       "13048                                         Looney Leo            0.0   \n",
       "13068                                      Field of Fire         2002.0   \n",
       "13114                                          LifeLinks         2000.0   \n",
       "13116                                          Dear Abby         1992.0   \n",
       "13124                                           Rolazone         1999.0   \n",
       "...                                                  ...            ...   \n",
       "81307                               Micro Rome: Aegyptus         2015.0   \n",
       "81308  Trivial Pursuit: Marvel Cinematic Universe  Da...         2013.0   \n",
       "81309                                          BEARanoia         2015.0   \n",
       "81310                                            Freight         2015.0   \n",
       "81311                                  Bingo Animal Kids         2010.0   \n",
       "\n",
       "       minplayers  maxplayers  playingtime  minplaytime  maxplaytime  minage  \\\n",
       "13048         0.0         0.0          0.0          0.0          0.0     0.0   \n",
       "13068         2.0         0.0          0.0          0.0          0.0    12.0   \n",
       "13114         1.0         8.0         10.0         10.0         10.0     8.0   \n",
       "13116         3.0         4.0         60.0         60.0         60.0    13.0   \n",
       "13124         2.0         2.0         30.0         30.0         30.0     0.0   \n",
       "...           ...         ...          ...          ...          ...     ...   \n",
       "81307         1.0         1.0          0.0         30.0          0.0    10.0   \n",
       "81308         2.0         0.0          0.0          0.0          0.0    12.0   \n",
       "81309         2.0        15.0          1.0          1.0          1.0     0.0   \n",
       "81310         2.0         4.0         60.0         30.0         60.0     8.0   \n",
       "81311         1.0         6.0         10.0         10.0         10.0     2.0   \n",
       "\n",
       "       users_rated  average_rating  bayes_average_rating  total_owners  \\\n",
       "13048            0             0.0                   0.0             0   \n",
       "13068            0             0.0                   0.0             2   \n",
       "13114            0             0.0                   0.0             2   \n",
       "13116            0             0.0                   0.0             7   \n",
       "13124            0             0.0                   0.0             0   \n",
       "...            ...             ...                   ...           ...   \n",
       "81307            0             0.0                   0.0             0   \n",
       "81308            0             0.0                   0.0             0   \n",
       "81309            0             0.0                   0.0             0   \n",
       "81310            0             0.0                   0.0             0   \n",
       "81311            0             0.0                   0.0             0   \n",
       "\n",
       "       total_traders  total_wanters  total_wishers  total_comments  \\\n",
       "13048              0              0              1               0   \n",
       "13068              0              0              1               0   \n",
       "13114              0              1              1               0   \n",
       "13116              1              0              0               0   \n",
       "13124              0              0              3               0   \n",
       "...              ...            ...            ...             ...   \n",
       "81307              0              0              0               0   \n",
       "81308              0              0              0               0   \n",
       "81309              0              0              0               0   \n",
       "81310              0              0              0               0   \n",
       "81311              0              0              0               0   \n",
       "\n",
       "       total_weights  average_weight  \n",
       "13048              0             0.0  \n",
       "13068              0             0.0  \n",
       "13114              0             0.0  \n",
       "13116              0             0.0  \n",
       "13124              0             0.0  \n",
       "...              ...             ...  \n",
       "81307              0             0.0  \n",
       "81308              0             0.0  \n",
       "81309              0             0.0  \n",
       "81310              0             0.0  \n",
       "81311              0             0.0  \n",
       "\n",
       "[24380 rows x 20 columns]"
      ]
     },
     "execution_count": 103,
     "metadata": {},
     "output_type": "execute_result"
    }
   ],
   "source": [
    "# Visualizando as obserações com rating igual a 0\n",
    "games[games[\"average_rating\"] == 0]"
   ]
  },
  {
   "cell_type": "code",
   "execution_count": 105,
   "metadata": {},
   "outputs": [
    {
     "name": "stdout",
     "output_type": "stream",
     "text": [
      "id                             318\n",
      "type                     boardgame\n",
      "name                    Looney Leo\n",
      "yearpublished                  0.0\n",
      "minplayers                     0.0\n",
      "maxplayers                     0.0\n",
      "playingtime                    0.0\n",
      "minplaytime                    0.0\n",
      "maxplaytime                    0.0\n",
      "minage                         0.0\n",
      "users_rated                      0\n",
      "average_rating                 0.0\n",
      "bayes_average_rating           0.0\n",
      "total_owners                     0\n",
      "total_traders                    0\n",
      "total_wanters                    0\n",
      "total_wishers                    1\n",
      "total_comments                   0\n",
      "total_weights                    0\n",
      "average_weight                 0.0\n",
      "Name: 13048, dtype: object\n"
     ]
    }
   ],
   "source": [
    "# Retornando a primeira linha do susbet do df, onde o índice é igual a 0\n",
    "print(games[games[\"average_rating\"] == 0].iloc[0])"
   ]
  },
  {
   "cell_type": "code",
   "execution_count": 106,
   "metadata": {},
   "outputs": [
    {
     "name": "stdout",
     "output_type": "stream",
     "text": [
      "id                                  12333\n",
      "type                            boardgame\n",
      "name                    Twilight Struggle\n",
      "yearpublished                      2005.0\n",
      "minplayers                            2.0\n",
      "maxplayers                            2.0\n",
      "playingtime                         180.0\n",
      "minplaytime                         180.0\n",
      "maxplaytime                         180.0\n",
      "minage                               13.0\n",
      "users_rated                         20113\n",
      "average_rating                    8.33774\n",
      "bayes_average_rating              8.22186\n",
      "total_owners                        26647\n",
      "total_traders                         372\n",
      "total_wanters                        1219\n",
      "total_wishers                        5865\n",
      "total_comments                       5347\n",
      "total_weights                        2562\n",
      "average_weight                     3.4785\n",
      "Name: 0, dtype: object\n"
     ]
    }
   ],
   "source": [
    "# Retornando a primeira linha do susbet do df, onde o índice é maior que 0\n",
    "print(games[games[\"average_rating\"] > 0].iloc[0]) # iloc busca a entrada através do indice"
   ]
  },
  {
   "cell_type": "code",
   "execution_count": 107,
   "metadata": {},
   "outputs": [],
   "source": [
    "# Removendo as linhas sem avaliação dos Usuários\n",
    "games = games[games[\"users_rated\"] > 0]"
   ]
  },
  {
   "cell_type": "code",
   "execution_count": 108,
   "metadata": {},
   "outputs": [],
   "source": [
    "# Removendo linhas com valores missing\n",
    "games = games.dropna(axis = 0)"
   ]
  },
  {
   "cell_type": "code",
   "execution_count": 109,
   "metadata": {},
   "outputs": [
    {
     "data": {
      "text/plain": [
       "(56894, 20)"
      ]
     },
     "execution_count": 109,
     "metadata": {},
     "output_type": "execute_result"
    }
   ],
   "source": [
    "games.shape"
   ]
  },
  {
   "cell_type": "code",
   "execution_count": 112,
   "metadata": {},
   "outputs": [
    {
     "data": {
      "image/png": "[encoded data removed]",
      "text/plain": [
       "<Figure size 640x480 with 1 Axes>"
      ]
     },
     "metadata": {},
     "output_type": "display_data"
    }
   ],
   "source": [
    "# Plotando novamente \n",
    "plt.hist(games.average_rating, color=\"brown\")\n",
    "plt.show()"
   ]
  },
  {
   "cell_type": "code",
   "execution_count": 114,
   "metadata": {},
   "outputs": [
    {
     "name": "stdout",
     "output_type": "stream",
     "text": [
      "<class 'pandas.core.frame.DataFrame'>\n",
      "Index: 56894 entries, 0 to 81279\n",
      "Data columns (total 20 columns):\n",
      " #   Column                Non-Null Count  Dtype  \n",
      "---  ------                --------------  -----  \n",
      " 0   id                    56894 non-null  int64  \n",
      " 1   type                  56894 non-null  object \n",
      " 2   name                  56894 non-null  object \n",
      " 3   yearpublished         56894 non-null  float64\n",
      " 4   minplayers            56894 non-null  float64\n",
      " 5   maxplayers            56894 non-null  float64\n",
      " 6   playingtime           56894 non-null  float64\n",
      " 7   minplaytime           56894 non-null  float64\n",
      " 8   maxplaytime           56894 non-null  float64\n",
      " 9   minage                56894 non-null  float64\n",
      " 10  users_rated           56894 non-null  int64  \n",
      " 11  average_rating        56894 non-null  float64\n",
      " 12  bayes_average_rating  56894 non-null  float64\n",
      " 13  total_owners          56894 non-null  int64  \n",
      " 14  total_traders         56894 non-null  int64  \n",
      " 15  total_wanters         56894 non-null  int64  \n",
      " 16  total_wishers         56894 non-null  int64  \n",
      " 17  total_comments        56894 non-null  int64  \n",
      " 18  total_weights         56894 non-null  int64  \n",
      " 19  average_weight        56894 non-null  float64\n",
      "dtypes: float64(10), int64(8), object(2)\n",
      "memory usage: 9.1+ MB\n"
     ]
    }
   ],
   "source": [
    "# Verificando agora as correlações\n",
    "games.info()"
   ]
  },
  {
   "cell_type": "code",
   "execution_count": 117,
   "metadata": {},
   "outputs": [
    {
     "data": {
      "text/html": [
       "<div>\n",
       "<style scoped>\n",
       "    .dataframe tbody tr th:only-of-type {\n",
       "        vertical-align: middle;\n",
       "    }\n",
       "\n",
       "    .dataframe tbody tr th {\n",
       "        vertical-align: top;\n",
       "    }\n",
       "\n",
       "    .dataframe thead th {\n",
       "        text-align: right;\n",
       "    }\n",
       "</style>\n",
       "<table border=\"1\" class=\"dataframe\">\n",
       "  <thead>\n",
       "    <tr style=\"text-align: right;\">\n",
       "      <th></th>\n",
       "      <th>id</th>\n",
       "      <th>yearpublished</th>\n",
       "      <th>minplayers</th>\n",
       "      <th>maxplayers</th>\n",
       "      <th>playingtime</th>\n",
       "      <th>minplaytime</th>\n",
       "      <th>maxplaytime</th>\n",
       "      <th>minage</th>\n",
       "      <th>users_rated</th>\n",
       "      <th>average_rating</th>\n",
       "      <th>bayes_average_rating</th>\n",
       "      <th>total_owners</th>\n",
       "      <th>total_traders</th>\n",
       "      <th>total_wanters</th>\n",
       "      <th>total_wishers</th>\n",
       "      <th>total_comments</th>\n",
       "      <th>total_weights</th>\n",
       "      <th>average_weight</th>\n",
       "    </tr>\n",
       "  </thead>\n",
       "  <tbody>\n",
       "    <tr>\n",
       "      <th>id</th>\n",
       "      <td>1.000000</td>\n",
       "      <td>0.002767</td>\n",
       "      <td>-0.050234</td>\n",
       "      <td>0.006141</td>\n",
       "      <td>-0.022017</td>\n",
       "      <td>-0.026729</td>\n",
       "      <td>-0.022017</td>\n",
       "      <td>0.099168</td>\n",
       "      <td>-0.057778</td>\n",
       "      <td>0.304201</td>\n",
       "      <td>-0.117172</td>\n",
       "      <td>-0.040308</td>\n",
       "      <td>-0.112069</td>\n",
       "      <td>0.017463</td>\n",
       "      <td>0.024777</td>\n",
       "      <td>-0.089659</td>\n",
       "      <td>-0.078830</td>\n",
       "      <td>-0.082301</td>\n",
       "    </tr>\n",
       "    <tr>\n",
       "      <th>yearpublished</th>\n",
       "      <td>0.002767</td>\n",
       "      <td>1.000000</td>\n",
       "      <td>0.004308</td>\n",
       "      <td>0.004977</td>\n",
       "      <td>0.006235</td>\n",
       "      <td>0.005245</td>\n",
       "      <td>0.006235</td>\n",
       "      <td>0.125281</td>\n",
       "      <td>0.037454</td>\n",
       "      <td>0.108461</td>\n",
       "      <td>0.140998</td>\n",
       "      <td>0.047740</td>\n",
       "      <td>0.064403</td>\n",
       "      <td>0.062289</td>\n",
       "      <td>0.052534</td>\n",
       "      <td>0.043818</td>\n",
       "      <td>0.036226</td>\n",
       "      <td>0.125318</td>\n",
       "    </tr>\n",
       "    <tr>\n",
       "      <th>minplayers</th>\n",
       "      <td>-0.050234</td>\n",
       "      <td>0.004308</td>\n",
       "      <td>1.000000</td>\n",
       "      <td>0.037155</td>\n",
       "      <td>0.024320</td>\n",
       "      <td>0.026569</td>\n",
       "      <td>0.024320</td>\n",
       "      <td>0.110886</td>\n",
       "      <td>0.020364</td>\n",
       "      <td>-0.032701</td>\n",
       "      <td>0.034915</td>\n",
       "      <td>0.014594</td>\n",
       "      <td>0.024708</td>\n",
       "      <td>-0.008654</td>\n",
       "      <td>-0.003786</td>\n",
       "      <td>0.023033</td>\n",
       "      <td>0.019061</td>\n",
       "      <td>-0.021892</td>\n",
       "    </tr>\n",
       "    <tr>\n",
       "      <th>maxplayers</th>\n",
       "      <td>0.006141</td>\n",
       "      <td>0.004977</td>\n",
       "      <td>0.037155</td>\n",
       "      <td>1.000000</td>\n",
       "      <td>-0.001020</td>\n",
       "      <td>-0.000950</td>\n",
       "      <td>-0.001020</td>\n",
       "      <td>0.004508</td>\n",
       "      <td>-0.000858</td>\n",
       "      <td>-0.008335</td>\n",
       "      <td>-0.003437</td>\n",
       "      <td>-0.000977</td>\n",
       "      <td>-0.002381</td>\n",
       "      <td>-0.003585</td>\n",
       "      <td>-0.002499</td>\n",
       "      <td>-0.001502</td>\n",
       "      <td>-0.001457</td>\n",
       "      <td>-0.013448</td>\n",
       "    </tr>\n",
       "    <tr>\n",
       "      <th>playingtime</th>\n",
       "      <td>-0.022017</td>\n",
       "      <td>0.006235</td>\n",
       "      <td>0.024320</td>\n",
       "      <td>-0.001020</td>\n",
       "      <td>1.000000</td>\n",
       "      <td>0.967909</td>\n",
       "      <td>1.000000</td>\n",
       "      <td>0.053471</td>\n",
       "      <td>0.010908</td>\n",
       "      <td>0.048994</td>\n",
       "      <td>0.045341</td>\n",
       "      <td>0.014532</td>\n",
       "      <td>0.019264</td>\n",
       "      <td>0.024289</td>\n",
       "      <td>0.020296</td>\n",
       "      <td>0.016890</td>\n",
       "      <td>0.017789</td>\n",
       "      <td>0.090895</td>\n",
       "    </tr>\n",
       "    <tr>\n",
       "      <th>minplaytime</th>\n",
       "      <td>-0.026729</td>\n",
       "      <td>0.005245</td>\n",
       "      <td>0.026569</td>\n",
       "      <td>-0.000950</td>\n",
       "      <td>0.967909</td>\n",
       "      <td>1.000000</td>\n",
       "      <td>0.967909</td>\n",
       "      <td>0.052454</td>\n",
       "      <td>0.005502</td>\n",
       "      <td>0.043985</td>\n",
       "      <td>0.041845</td>\n",
       "      <td>0.008975</td>\n",
       "      <td>0.014484</td>\n",
       "      <td>0.017491</td>\n",
       "      <td>0.012737</td>\n",
       "      <td>0.010046</td>\n",
       "      <td>0.010172</td>\n",
       "      <td>0.084405</td>\n",
       "    </tr>\n",
       "    <tr>\n",
       "      <th>maxplaytime</th>\n",
       "      <td>-0.022017</td>\n",
       "      <td>0.006235</td>\n",
       "      <td>0.024320</td>\n",
       "      <td>-0.001020</td>\n",
       "      <td>1.000000</td>\n",
       "      <td>0.967909</td>\n",
       "      <td>1.000000</td>\n",
       "      <td>0.053471</td>\n",
       "      <td>0.010908</td>\n",
       "      <td>0.048994</td>\n",
       "      <td>0.045341</td>\n",
       "      <td>0.014532</td>\n",
       "      <td>0.019264</td>\n",
       "      <td>0.024289</td>\n",
       "      <td>0.020296</td>\n",
       "      <td>0.016890</td>\n",
       "      <td>0.017789</td>\n",
       "      <td>0.090895</td>\n",
       "    </tr>\n",
       "    <tr>\n",
       "      <th>minage</th>\n",
       "      <td>0.099168</td>\n",
       "      <td>0.125281</td>\n",
       "      <td>0.110886</td>\n",
       "      <td>0.004508</td>\n",
       "      <td>0.053471</td>\n",
       "      <td>0.052454</td>\n",
       "      <td>0.053471</td>\n",
       "      <td>1.000000</td>\n",
       "      <td>0.097885</td>\n",
       "      <td>0.210049</td>\n",
       "      <td>0.266937</td>\n",
       "      <td>0.118564</td>\n",
       "      <td>0.152313</td>\n",
       "      <td>0.154097</td>\n",
       "      <td>0.137476</td>\n",
       "      <td>0.113395</td>\n",
       "      <td>0.097084</td>\n",
       "      <td>0.259782</td>\n",
       "    </tr>\n",
       "    <tr>\n",
       "      <th>users_rated</th>\n",
       "      <td>-0.057778</td>\n",
       "      <td>0.037454</td>\n",
       "      <td>0.020364</td>\n",
       "      <td>-0.000858</td>\n",
       "      <td>0.010908</td>\n",
       "      <td>0.005502</td>\n",
       "      <td>0.010908</td>\n",
       "      <td>0.097885</td>\n",
       "      <td>1.000000</td>\n",
       "      <td>0.112564</td>\n",
       "      <td>0.317992</td>\n",
       "      <td>0.977664</td>\n",
       "      <td>0.807873</td>\n",
       "      <td>0.702433</td>\n",
       "      <td>0.805116</td>\n",
       "      <td>0.978708</td>\n",
       "      <td>0.975723</td>\n",
       "      <td>0.150597</td>\n",
       "    </tr>\n",
       "    <tr>\n",
       "      <th>average_rating</th>\n",
       "      <td>0.304201</td>\n",
       "      <td>0.108461</td>\n",
       "      <td>-0.032701</td>\n",
       "      <td>-0.008335</td>\n",
       "      <td>0.048994</td>\n",
       "      <td>0.043985</td>\n",
       "      <td>0.048994</td>\n",
       "      <td>0.210049</td>\n",
       "      <td>0.112564</td>\n",
       "      <td>1.000000</td>\n",
       "      <td>0.231563</td>\n",
       "      <td>0.137478</td>\n",
       "      <td>0.119452</td>\n",
       "      <td>0.196566</td>\n",
       "      <td>0.171375</td>\n",
       "      <td>0.123714</td>\n",
       "      <td>0.109691</td>\n",
       "      <td>0.351081</td>\n",
       "    </tr>\n",
       "    <tr>\n",
       "      <th>bayes_average_rating</th>\n",
       "      <td>-0.117172</td>\n",
       "      <td>0.140998</td>\n",
       "      <td>0.034915</td>\n",
       "      <td>-0.003437</td>\n",
       "      <td>0.045341</td>\n",
       "      <td>0.041845</td>\n",
       "      <td>0.045341</td>\n",
       "      <td>0.266937</td>\n",
       "      <td>0.317992</td>\n",
       "      <td>0.231563</td>\n",
       "      <td>1.000000</td>\n",
       "      <td>0.371017</td>\n",
       "      <td>0.455021</td>\n",
       "      <td>0.426708</td>\n",
       "      <td>0.377213</td>\n",
       "      <td>0.371031</td>\n",
       "      <td>0.313302</td>\n",
       "      <td>0.482356</td>\n",
       "    </tr>\n",
       "    <tr>\n",
       "      <th>total_owners</th>\n",
       "      <td>-0.040308</td>\n",
       "      <td>0.047740</td>\n",
       "      <td>0.014594</td>\n",
       "      <td>-0.000977</td>\n",
       "      <td>0.014532</td>\n",
       "      <td>0.008975</td>\n",
       "      <td>0.014532</td>\n",
       "      <td>0.118564</td>\n",
       "      <td>0.977664</td>\n",
       "      <td>0.137478</td>\n",
       "      <td>0.371017</td>\n",
       "      <td>1.000000</td>\n",
       "      <td>0.829875</td>\n",
       "      <td>0.688380</td>\n",
       "      <td>0.788820</td>\n",
       "      <td>0.954026</td>\n",
       "      <td>0.938422</td>\n",
       "      <td>0.183341</td>\n",
       "    </tr>\n",
       "    <tr>\n",
       "      <th>total_traders</th>\n",
       "      <td>-0.112069</td>\n",
       "      <td>0.064403</td>\n",
       "      <td>0.024708</td>\n",
       "      <td>-0.002381</td>\n",
       "      <td>0.019264</td>\n",
       "      <td>0.014484</td>\n",
       "      <td>0.019264</td>\n",
       "      <td>0.152313</td>\n",
       "      <td>0.807873</td>\n",
       "      <td>0.119452</td>\n",
       "      <td>0.455021</td>\n",
       "      <td>0.829875</td>\n",
       "      <td>1.000000</td>\n",
       "      <td>0.555836</td>\n",
       "      <td>0.631443</td>\n",
       "      <td>0.856526</td>\n",
       "      <td>0.801559</td>\n",
       "      <td>0.227302</td>\n",
       "    </tr>\n",
       "    <tr>\n",
       "      <th>total_wanters</th>\n",
       "      <td>0.017463</td>\n",
       "      <td>0.062289</td>\n",
       "      <td>-0.008654</td>\n",
       "      <td>-0.003585</td>\n",
       "      <td>0.024289</td>\n",
       "      <td>0.017491</td>\n",
       "      <td>0.024289</td>\n",
       "      <td>0.154097</td>\n",
       "      <td>0.702433</td>\n",
       "      <td>0.196566</td>\n",
       "      <td>0.426708</td>\n",
       "      <td>0.688380</td>\n",
       "      <td>0.555836</td>\n",
       "      <td>1.000000</td>\n",
       "      <td>0.961002</td>\n",
       "      <td>0.709645</td>\n",
       "      <td>0.667608</td>\n",
       "      <td>0.254229</td>\n",
       "    </tr>\n",
       "    <tr>\n",
       "      <th>total_wishers</th>\n",
       "      <td>0.024777</td>\n",
       "      <td>0.052534</td>\n",
       "      <td>-0.003786</td>\n",
       "      <td>-0.002499</td>\n",
       "      <td>0.020296</td>\n",
       "      <td>0.012737</td>\n",
       "      <td>0.020296</td>\n",
       "      <td>0.137476</td>\n",
       "      <td>0.805116</td>\n",
       "      <td>0.171375</td>\n",
       "      <td>0.377213</td>\n",
       "      <td>0.788820</td>\n",
       "      <td>0.631443</td>\n",
       "      <td>0.961002</td>\n",
       "      <td>1.000000</td>\n",
       "      <td>0.788538</td>\n",
       "      <td>0.764677</td>\n",
       "      <td>0.219025</td>\n",
       "    </tr>\n",
       "    <tr>\n",
       "      <th>total_comments</th>\n",
       "      <td>-0.089659</td>\n",
       "      <td>0.043818</td>\n",
       "      <td>0.023033</td>\n",
       "      <td>-0.001502</td>\n",
       "      <td>0.016890</td>\n",
       "      <td>0.010046</td>\n",
       "      <td>0.016890</td>\n",
       "      <td>0.113395</td>\n",
       "      <td>0.978708</td>\n",
       "      <td>0.123714</td>\n",
       "      <td>0.371031</td>\n",
       "      <td>0.954026</td>\n",
       "      <td>0.856526</td>\n",
       "      <td>0.709645</td>\n",
       "      <td>0.788538</td>\n",
       "      <td>1.000000</td>\n",
       "      <td>0.978213</td>\n",
       "      <td>0.180939</td>\n",
       "    </tr>\n",
       "    <tr>\n",
       "      <th>total_weights</th>\n",
       "      <td>-0.078830</td>\n",
       "      <td>0.036226</td>\n",
       "      <td>0.019061</td>\n",
       "      <td>-0.001457</td>\n",
       "      <td>0.017789</td>\n",
       "      <td>0.010172</td>\n",
       "      <td>0.017789</td>\n",
       "      <td>0.097084</td>\n",
       "      <td>0.975723</td>\n",
       "      <td>0.109691</td>\n",
       "      <td>0.313302</td>\n",
       "      <td>0.938422</td>\n",
       "      <td>0.801559</td>\n",
       "      <td>0.667608</td>\n",
       "      <td>0.764677</td>\n",
       "      <td>0.978213</td>\n",
       "      <td>1.000000</td>\n",
       "      <td>0.161004</td>\n",
       "    </tr>\n",
       "    <tr>\n",
       "      <th>average_weight</th>\n",
       "      <td>-0.082301</td>\n",
       "      <td>0.125318</td>\n",
       "      <td>-0.021892</td>\n",
       "      <td>-0.013448</td>\n",
       "      <td>0.090895</td>\n",
       "      <td>0.084405</td>\n",
       "      <td>0.090895</td>\n",
       "      <td>0.259782</td>\n",
       "      <td>0.150597</td>\n",
       "      <td>0.351081</td>\n",
       "      <td>0.482356</td>\n",
       "      <td>0.183341</td>\n",
       "      <td>0.227302</td>\n",
       "      <td>0.254229</td>\n",
       "      <td>0.219025</td>\n",
       "      <td>0.180939</td>\n",
       "      <td>0.161004</td>\n",
       "      <td>1.000000</td>\n",
       "    </tr>\n",
       "  </tbody>\n",
       "</table>\n",
       "</div>"
      ],
      "text/plain": [
       "                            id  yearpublished  minplayers  maxplayers  \\\n",
       "id                    1.000000       0.002767   -0.050234    0.006141   \n",
       "yearpublished         0.002767       1.000000    0.004308    0.004977   \n",
       "minplayers           -0.050234       0.004308    1.000000    0.037155   \n",
       "maxplayers            0.006141       0.004977    0.037155    1.000000   \n",
       "playingtime          -0.022017       0.006235    0.024320   -0.001020   \n",
       "minplaytime          -0.026729       0.005245    0.026569   -0.000950   \n",
       "maxplaytime          -0.022017       0.006235    0.024320   -0.001020   \n",
       "minage                0.099168       0.125281    0.110886    0.004508   \n",
       "users_rated          -0.057778       0.037454    0.020364   -0.000858   \n",
       "average_rating        0.304201       0.108461   -0.032701   -0.008335   \n",
       "bayes_average_rating -0.117172       0.140998    0.034915   -0.003437   \n",
       "total_owners         -0.040308       0.047740    0.014594   -0.000977   \n",
       "total_traders        -0.112069       0.064403    0.024708   -0.002381   \n",
       "total_wanters         0.017463       0.062289   -0.008654   -0.003585   \n",
       "total_wishers         0.024777       0.052534   -0.003786   -0.002499   \n",
       "total_comments       -0.089659       0.043818    0.023033   -0.001502   \n",
       "total_weights        -0.078830       0.036226    0.019061   -0.001457   \n",
       "average_weight       -0.082301       0.125318   -0.021892   -0.013448   \n",
       "\n",
       "                      playingtime  minplaytime  maxplaytime    minage  \\\n",
       "id                      -0.022017    -0.026729    -0.022017  0.099168   \n",
       "yearpublished            0.006235     0.005245     0.006235  0.125281   \n",
       "minplayers               0.024320     0.026569     0.024320  0.110886   \n",
       "maxplayers              -0.001020    -0.000950    -0.001020  0.004508   \n",
       "playingtime              1.000000     0.967909     1.000000  0.053471   \n",
       "minplaytime              0.967909     1.000000     0.967909  0.052454   \n",
       "maxplaytime              1.000000     0.967909     1.000000  0.053471   \n",
       "minage                   0.053471     0.052454     0.053471  1.000000   \n",
       "users_rated              0.010908     0.005502     0.010908  0.097885   \n",
       "average_rating           0.048994     0.043985     0.048994  0.210049   \n",
       "bayes_average_rating     0.045341     0.041845     0.045341  0.266937   \n",
       "total_owners             0.014532     0.008975     0.014532  0.118564   \n",
       "total_traders            0.019264     0.014484     0.019264  0.152313   \n",
       "total_wanters            0.024289     0.017491     0.024289  0.154097   \n",
       "total_wishers            0.020296     0.012737     0.020296  0.137476   \n",
       "total_comments           0.016890     0.010046     0.016890  0.113395   \n",
       "total_weights            0.017789     0.010172     0.017789  0.097084   \n",
       "average_weight           0.090895     0.084405     0.090895  0.259782   \n",
       "\n",
       "                      users_rated  average_rating  bayes_average_rating  \\\n",
       "id                      -0.057778        0.304201             -0.117172   \n",
       "yearpublished            0.037454        0.108461              0.140998   \n",
       "minplayers               0.020364       -0.032701              0.034915   \n",
       "maxplayers              -0.000858       -0.008335             -0.003437   \n",
       "playingtime              0.010908        0.048994              0.045341   \n",
       "minplaytime              0.005502        0.043985              0.041845   \n",
       "maxplaytime              0.010908        0.048994              0.045341   \n",
       "minage                   0.097885        0.210049              0.266937   \n",
       "users_rated              1.000000        0.112564              0.317992   \n",
       "average_rating           0.112564        1.000000              0.231563   \n",
       "bayes_average_rating     0.317992        0.231563              1.000000   \n",
       "total_owners             0.977664        0.137478              0.371017   \n",
       "total_traders            0.807873        0.119452              0.455021   \n",
       "total_wanters            0.702433        0.196566              0.426708   \n",
       "total_wishers            0.805116        0.171375              0.377213   \n",
       "total_comments           0.978708        0.123714              0.371031   \n",
       "total_weights            0.975723        0.109691              0.313302   \n",
       "average_weight           0.150597        0.351081              0.482356   \n",
       "\n",
       "                      total_owners  total_traders  total_wanters  \\\n",
       "id                       -0.040308      -0.112069       0.017463   \n",
       "yearpublished             0.047740       0.064403       0.062289   \n",
       "minplayers                0.014594       0.024708      -0.008654   \n",
       "maxplayers               -0.000977      -0.002381      -0.003585   \n",
       "playingtime               0.014532       0.019264       0.024289   \n",
       "minplaytime               0.008975       0.014484       0.017491   \n",
       "maxplaytime               0.014532       0.019264       0.024289   \n",
       "minage                    0.118564       0.152313       0.154097   \n",
       "users_rated               0.977664       0.807873       0.702433   \n",
       "average_rating            0.137478       0.119452       0.196566   \n",
       "bayes_average_rating      0.371017       0.455021       0.426708   \n",
       "total_owners              1.000000       0.829875       0.688380   \n",
       "total_traders             0.829875       1.000000       0.555836   \n",
       "total_wanters             0.688380       0.555836       1.000000   \n",
       "total_wishers             0.788820       0.631443       0.961002   \n",
       "total_comments            0.954026       0.856526       0.709645   \n",
       "total_weights             0.938422       0.801559       0.667608   \n",
       "average_weight            0.183341       0.227302       0.254229   \n",
       "\n",
       "                      total_wishers  total_comments  total_weights  \\\n",
       "id                         0.024777       -0.089659      -0.078830   \n",
       "yearpublished              0.052534        0.043818       0.036226   \n",
       "minplayers                -0.003786        0.023033       0.019061   \n",
       "maxplayers                -0.002499       -0.001502      -0.001457   \n",
       "playingtime                0.020296        0.016890       0.017789   \n",
       "minplaytime                0.012737        0.010046       0.010172   \n",
       "maxplaytime                0.020296        0.016890       0.017789   \n",
       "minage                     0.137476        0.113395       0.097084   \n",
       "users_rated                0.805116        0.978708       0.975723   \n",
       "average_rating             0.171375        0.123714       0.109691   \n",
       "bayes_average_rating       0.377213        0.371031       0.313302   \n",
       "total_owners               0.788820        0.954026       0.938422   \n",
       "total_traders              0.631443        0.856526       0.801559   \n",
       "total_wanters              0.961002        0.709645       0.667608   \n",
       "total_wishers              1.000000        0.788538       0.764677   \n",
       "total_comments             0.788538        1.000000       0.978213   \n",
       "total_weights              0.764677        0.978213       1.000000   \n",
       "average_weight             0.219025        0.180939       0.161004   \n",
       "\n",
       "                      average_weight  \n",
       "id                         -0.082301  \n",
       "yearpublished               0.125318  \n",
       "minplayers                 -0.021892  \n",
       "maxplayers                 -0.013448  \n",
       "playingtime                 0.090895  \n",
       "minplaytime                 0.084405  \n",
       "maxplaytime                 0.090895  \n",
       "minage                      0.259782  \n",
       "users_rated                 0.150597  \n",
       "average_rating              0.351081  \n",
       "bayes_average_rating        0.482356  \n",
       "total_owners                0.183341  \n",
       "total_traders               0.227302  \n",
       "total_wanters               0.254229  \n",
       "total_wishers               0.219025  \n",
       "total_comments              0.180939  \n",
       "total_weights               0.161004  \n",
       "average_weight              1.000000  "
      ]
     },
     "execution_count": 117,
     "metadata": {},
     "output_type": "execute_result"
    }
   ],
   "source": [
    "games.select_dtypes(include=['number']).corr() # retira as variaves do tipo object"
   ]
  },
  {
   "cell_type": "code",
   "execution_count": 124,
   "metadata": {},
   "outputs": [],
   "source": [
    "# Obtém todas as colunas de um DF\n",
    "colunas = games.columns.tolist()"
   ]
  },
  {
   "cell_type": "code",
   "execution_count": 125,
   "metadata": {},
   "outputs": [
    {
     "data": {
      "text/plain": [
       "['id',\n",
       " 'type',\n",
       " 'name',\n",
       " 'yearpublished',\n",
       " 'minplayers',\n",
       " 'maxplayers',\n",
       " 'playingtime',\n",
       " 'minplaytime',\n",
       " 'maxplaytime',\n",
       " 'minage',\n",
       " 'users_rated',\n",
       " 'average_rating',\n",
       " 'bayes_average_rating',\n",
       " 'total_owners',\n",
       " 'total_traders',\n",
       " 'total_wanters',\n",
       " 'total_wishers',\n",
       " 'total_comments',\n",
       " 'total_weights',\n",
       " 'average_weight']"
      ]
     },
     "execution_count": 125,
     "metadata": {},
     "output_type": "execute_result"
    }
   ],
   "source": [
    "colunas"
   ]
  },
  {
   "cell_type": "code",
   "execution_count": 126,
   "metadata": {},
   "outputs": [],
   "source": [
    "# Filtra as colunas e remove as que não são relevantes\n",
    "colunas = [c for c in colunas if c not in [\"bayes_average_rating\",\n",
    "                                           \"average_rating\",\n",
    "                                           \"type\",\n",
    "                                           \"name\"]]"
   ]
  },
  {
   "cell_type": "code",
   "execution_count": 128,
   "metadata": {},
   "outputs": [],
   "source": [
    "# Preparando a variável target\n",
    "target = \"average_rating\""
   ]
  },
  {
   "cell_type": "code",
   "execution_count": 130,
   "metadata": {},
   "outputs": [],
   "source": [
    "# Gerando dados de treino\n",
    "df_treino = games.sample(frac = 0.8, random_state = 101)"
   ]
  },
  {
   "cell_type": "code",
   "execution_count": 133,
   "metadata": {},
   "outputs": [],
   "source": [
    "# sELECIONA TUDO QUE NÃO ESTÁ NO DATASET DE TREINO E ARMAZENA NO DATASET DE TESTE\n",
    "df_teste = games.loc[~games.index.isin(df_treino.index)]\n",
    "\n",
    "# \"~\" simboliza o inverso"
   ]
  },
  {
   "cell_type": "code",
   "execution_count": 134,
   "metadata": {},
   "outputs": [
    {
     "name": "stdout",
     "output_type": "stream",
     "text": [
      "(45515, 20)\n",
      "(11379, 20)\n"
     ]
    }
   ],
   "source": [
    "# Shape dos datasets\n",
    "print(df_treino.shape)\n",
    "print(df_teste.shape)"
   ]
  },
  {
   "cell_type": "code",
   "execution_count": 135,
   "metadata": {},
   "outputs": [],
   "source": [
    "# Criando regressor - REGRESSÃO LINEAR\n",
    "reg_v1 = LinearRegression()"
   ]
  },
  {
   "cell_type": "code",
   "execution_count": 136,
   "metadata": {},
   "outputs": [],
   "source": [
    "# fit the model to the training data\n",
    "modelo_v1 = reg_v1.fit(df_treino[colunas], df_treino[target])"
   ]
  },
  {
   "cell_type": "code",
   "execution_count": 144,
   "metadata": {},
   "outputs": [],
   "source": [
    "# Fazendo previsões\n",
    "previsoes = modelo_v1.predict(df_teste[colunas])"
   ]
  },
  {
   "cell_type": "code",
   "execution_count": 145,
   "metadata": {},
   "outputs": [
    {
     "data": {
      "text/plain": [
       "array([8.31364561, 7.02153966, 6.24035609, ..., 7.0902447 , 7.09003977,\n",
       "       7.09326903])"
      ]
     },
     "execution_count": 145,
     "metadata": {},
     "output_type": "execute_result"
    }
   ],
   "source": [
    "previsoes"
   ]
  },
  {
   "cell_type": "code",
   "execution_count": 146,
   "metadata": {},
   "outputs": [
    {
     "data": {
      "text/plain": [
       "1.8266209048760136"
      ]
     },
     "execution_count": 146,
     "metadata": {},
     "output_type": "execute_result"
    }
   ],
   "source": [
    "# Computando os erros entre valores observados e valores previstos\n",
    "mean_squared_error(previsoes, df_teste[target])"
   ]
  },
  {
   "cell_type": "code",
   "execution_count": 140,
   "metadata": {},
   "outputs": [],
   "source": [
    "# Criando um regressor RANDOM FOREST\n",
    "reg_v2 = RandomForestRegressor(n_estimators= 100, min_samples_leaf = 10, random_state = 101)"
   ]
  },
  {
   "cell_type": "code",
   "execution_count": 142,
   "metadata": {},
   "outputs": [],
   "source": [
    "# Treinando o modelo \n",
    "modelo_v2 = reg_v2.fit(df_treino[colunas], df_treino[target])"
   ]
  },
  {
   "cell_type": "code",
   "execution_count": 147,
   "metadata": {},
   "outputs": [],
   "source": [
    "# Fazendo previsões \n",
    "previsoes2 = modelo_v2.predict(df_teste[colunas])"
   ]
  },
  {
   "cell_type": "code",
   "execution_count": 148,
   "metadata": {},
   "outputs": [
    {
     "data": {
      "text/plain": [
       "1.3954102582085597"
      ]
     },
     "execution_count": 148,
     "metadata": {},
     "output_type": "execute_result"
    }
   ],
   "source": [
    "mean_squared_error(previsoes2, df_teste[target])\n"
   ]
  },
  {
   "cell_type": "markdown",
   "metadata": {},
   "source": [
    "# <font color='red'>Métodos Ensemble geralmente são bem mais precisos - random forest é um deles</font>"
   ]
  }
 ],
 "metadata": {
  "anaconda-cloud": {},
  "kernelspec": {
   "display_name": "Python 3",
   "language": "python",
   "name": "python3"
  },
  "language_info": {
   "codemirror_mode": {
    "name": "ipython",
    "version": 3
   },
   "file_extension": ".py",
   "mimetype": "text/x-python",
   "name": "python",
   "nbconvert_exporter": "python",
   "pygments_lexer": "ipython3",
   "version": "3.9.13"
  }
 },
 "nbformat": 4,
 "nbformat_minor": 1
}
