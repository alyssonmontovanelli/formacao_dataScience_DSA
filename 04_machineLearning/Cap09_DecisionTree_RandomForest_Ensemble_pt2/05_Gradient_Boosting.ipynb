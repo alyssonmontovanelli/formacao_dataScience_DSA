{
 "cells": [
  {
   "cell_type": "markdown",
   "metadata": {},
   "source": [
    "# <font color='blue'>Otimização dos Parâmetros com Randomized Search</font>\n",
    "\n",
    "Gradient Boosting ou Gradient Boostted Regression Trees (GBRT) é uma técnica de aprendizagem estatística não-paramétrica usada para problemas de <b>classificação e regressão</b>\n",
    "\n",
    "\n",
    "Gradient Boosting = Gradient Descent + Boosting.\n",
    "\n",
    "1 - Gera um regressor\n",
    "\n",
    "2 - Computa o erro residual\n",
    "\n",
    "3 - Aprende a prever o resíduo"
   ]
  },
  {
   "cell_type": "markdown",
   "metadata": {},
   "source": [
    "<font color='red'>Como Funciona o Gradient Boosting</font>\n",
    "\n",
    "1 - Realiza um conjunto de previsões (y)\n",
    "\n",
    "2 - Calcula o erro das previsões (i)\n",
    "\n",
    "3 - Tenta ajustar y reduzindo o erro (através de alpha)\n",
    "\n",
    "4 - "
   ]
  },
  {
   "cell_type": "markdown",
   "metadata": {},
   "source": []
  }
 ],
 "metadata": {
  "language_info": {
   "name": "python"
  }
 },
 "nbformat": 4,
 "nbformat_minor": 2
}
