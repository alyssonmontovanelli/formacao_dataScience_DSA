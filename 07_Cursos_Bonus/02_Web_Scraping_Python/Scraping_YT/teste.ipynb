{
 "cells": [
  {
   "cell_type": "code",
   "execution_count": 1,
   "metadata": {},
   "outputs": [],
   "source": [
    "import time\n",
    "import pandas as pd\n",
    "from selenium import webdriver\n",
    "from selenium.webdriver.common.by import By\n",
    "from selenium.webdriver.support.ui import WebDriverWait\n",
    "from selenium.webdriver.chrome.service import Service\n",
    "from selenium.webdriver.support import expected_conditions as EC"
   ]
  },
  {
   "cell_type": "code",
   "execution_count": 2,
   "metadata": {},
   "outputs": [],
   "source": [
    "\n",
    "driver = webdriver.Chrome()  # Ou o navegador que você estiver usando\n",
    "driver.get(\"https://consumidor.gov.br/pages/indicador/relatos/abrir\")\n",
    "\n"
   ]
  },
  {
   "cell_type": "code",
   "execution_count": 7,
   "metadata": {},
   "outputs": [],
   "source": [
    "try:\n",
    "    # Espera até que o botão de carregar mais comentários esteja presente\n",
    "    load_more_button = WebDriverWait(driver, 1).until(\n",
    "        EC.element_to_be_clickable((By.ID , \"btn-mais-resultados\"))\n",
    "    )\n",
    "    load_more_button.click()\n",
    "except Exception as e:\n",
    "    print(\"Erro ao clicar no botão:\", e)"
   ]
  },
  {
   "cell_type": "code",
   "execution_count": 11,
   "metadata": {},
   "outputs": [
    {
     "data": {
      "text/plain": [
       "'Equatorial Maranhão (CEMAR)'"
      ]
     },
     "execution_count": 11,
     "metadata": {},
     "output_type": "execute_result"
    }
   ],
   "source": [
    "titulo_teste = driver.find_elements(By.TAG_NAME , \"h3\")\n",
    "titulo_teste[3].text"
   ]
  },
  {
   "cell_type": "code",
   "execution_count": 19,
   "metadata": {},
   "outputs": [
    {
     "data": {
      "text/plain": [
       "'De que maneira será realizado o recadastramento rural?'"
      ]
     },
     "execution_count": 19,
     "metadata": {},
     "output_type": "execute_result"
    }
   ],
   "source": [
    "comentarios = WebDriverWait(driver, 5).until(\n",
    "            EC.presence_of_all_elements_located((By.TAG_NAME, \"p\"))\n",
    "        )\n",
    "\n",
    "comentarios[7].text"
   ]
  },
  {
   "cell_type": "code",
   "execution_count": 36,
   "metadata": {},
   "outputs": [
    {
     "name": "stdout",
     "output_type": "stream",
     "text": [
      "Tempo máximo de coleta alcançado.\n"
     ]
    }
   ],
   "source": [
    "tempo_maximo = 1 * 60  # 5 minutos\n",
    "inicio = time.time()  # Marca o tempo de início\n",
    "\n",
    "try:\n",
    "    comentarios_validos = []  # Lista para armazenar comentários válidos\n",
    "    titulos = []  # Lista para armazenar títulos\n",
    "    contador = 0\n",
    "    while True:\n",
    "        # Verifica se o tempo máximo foi alcançado\n",
    "        if time.time() - inicio > tempo_maximo:\n",
    "            print(\"Tempo máximo de coleta alcançado.\")\n",
    "            break  # Sai do loop se 3 minutos se passaram\n",
    "\n",
    "        # Coleta os textos dos comentários\n",
    "        if contador >= 3 and (contador - 3) % 4 == 0:\n",
    "            comentarios = WebDriverWait(driver, 1).until(\n",
    "                EC.presence_of_all_elements_located((By.TAG_NAME, \"p\"))\n",
    "            )\n",
    "            comentarios_validos.append(comentarios[contador].text)\n",
    "\n",
    "        # Coleta os títulos das empresas usando a tag <h3> sem intervalos\n",
    "        novos_titulos = driver.find_elements(By.TAG_NAME, \"h3\")\n",
    "        titulo = novos_titulos[contador].text.strip()\n",
    "        titulos.append(titulo)\n",
    "        # titulos.extend([titulo.text.strip() for titulo in novos_titulos])  # Adiciona todos os títulos\n",
    "\n",
    "        contador += 1\n",
    "\n",
    "        # # Adiciona comentários válidos à lista\n",
    "        # for i in range(len(comentarios)):\n",
    "        #     if i >= 3 and (i - 3) % 4 == 0:  # Mantém os índices relevantes (3, 7, 11, ...)\n",
    "        #         comentario = comentarios[i].text.strip()\n",
    "        #         comentarios_validos.append(comentario)\n",
    "\n",
    "        # Espera até que o botão de carregar mais comentários esteja presente\n",
    "        try:\n",
    "            load_more_button = WebDriverWait(driver, 2).until(\n",
    "                EC.element_to_be_clickable((By.ID, \"btn-mais-resultados\"))\n",
    "            )\n",
    "            load_more_button.click()\n",
    "            time.sleep(2)  # Espera um pouco para carregar mais comentários\n",
    "        except Exception as e:\n",
    "            print(\"Erro ao clicar no botão ou não há mais comentários:\", e)\n",
    "            break  # Sai do loop se não houver mais comentários\n",
    "\n",
    "except Exception as e:\n",
    "    print(\"Erro ao coletar dados:\", e)"
   ]
  },
  {
   "cell_type": "code",
   "execution_count": 37,
   "metadata": {},
   "outputs": [
    {
     "data": {
      "text/plain": [
       "19"
      ]
     },
     "execution_count": 37,
     "metadata": {},
     "output_type": "execute_result"
    }
   ],
   "source": [
    "len(titulos)"
   ]
  },
  {
   "cell_type": "code",
   "execution_count": 38,
   "metadata": {},
   "outputs": [
    {
     "data": {
      "text/plain": [
       "4"
      ]
     },
     "execution_count": 38,
     "metadata": {},
     "output_type": "execute_result"
    }
   ],
   "source": [
    "len(comentarios_validos)"
   ]
  },
  {
   "cell_type": "code",
   "execution_count": 39,
   "metadata": {},
   "outputs": [
    {
     "data": {
      "text/plain": [
       "['Cemig',\n",
       " 'Cemig',\n",
       " 'Cemig',\n",
       " 'Equatorial Maranhão (CEMAR)',\n",
       " 'Cemig',\n",
       " 'Cemig',\n",
       " 'Cemig',\n",
       " 'Cemig',\n",
       " 'Cemig',\n",
       " 'Vivo - Telefônica',\n",
       " 'Equatorial Maranhão (CEMAR)',\n",
       " 'iFood',\n",
       " 'iFood',\n",
       " 'Cemig',\n",
       " 'Cemig',\n",
       " 'Cemig',\n",
       " 'Cemig',\n",
       " 'Cemig',\n",
       " 'Cemig']"
      ]
     },
     "execution_count": 39,
     "metadata": {},
     "output_type": "execute_result"
    }
   ],
   "source": [
    "titulos"
   ]
  },
  {
   "cell_type": "code",
   "execution_count": 40,
   "metadata": {},
   "outputs": [
    {
     "data": {
      "text/plain": [
       "['Preciso do formulário para análise de carga rural.',\n",
       " 'De que maneira será realizado o recadastramento rural?',\n",
       " 'Qual é a bandeira tarifária em vigor atualmente e até quando ela permanecerá válida?',\n",
       " 'Cadastro de tarifa social. NIS: XXX.XXX.XXX-XX Cadastro de baixa renda.']"
      ]
     },
     "execution_count": 40,
     "metadata": {},
     "output_type": "execute_result"
    }
   ],
   "source": [
    "comentarios_validos"
   ]
  },
  {
   "cell_type": "code",
   "execution_count": 12,
   "metadata": {},
   "outputs": [
    {
     "name": "stdout",
     "output_type": "stream",
     "text": [
      "29970\n",
      "29970\n"
     ]
    }
   ],
   "source": [
    "print(len(titulos))\n",
    "print(len(comentarios_validos))"
   ]
  },
  {
   "cell_type": "code",
   "execution_count": 13,
   "metadata": {},
   "outputs": [],
   "source": [
    "df_comentarios = pd.DataFrame({\n",
    "    'Empresa': titulos,\n",
    "    'Texto': comentarios_validos\n",
    "})"
   ]
  },
  {
   "cell_type": "code",
   "execution_count": 14,
   "metadata": {},
   "outputs": [
    {
     "data": {
      "text/html": [
       "<div>\n",
       "<style scoped>\n",
       "    .dataframe tbody tr th:only-of-type {\n",
       "        vertical-align: middle;\n",
       "    }\n",
       "\n",
       "    .dataframe tbody tr th {\n",
       "        vertical-align: top;\n",
       "    }\n",
       "\n",
       "    .dataframe thead th {\n",
       "        text-align: right;\n",
       "    }\n",
       "</style>\n",
       "<table border=\"1\" class=\"dataframe\">\n",
       "  <thead>\n",
       "    <tr style=\"text-align: right;\">\n",
       "      <th></th>\n",
       "      <th>Empresa</th>\n",
       "      <th>Texto</th>\n",
       "    </tr>\n",
       "  </thead>\n",
       "  <tbody>\n",
       "    <tr>\n",
       "      <th>13</th>\n",
       "      <td>Cemig</td>\n",
       "      <td>Qual o percentual do valor da fatura que fica ...</td>\n",
       "    </tr>\n",
       "    <tr>\n",
       "      <th>16</th>\n",
       "      <td>Cemig</td>\n",
       "      <td>Qual o Compromisso da Cemig com a sustentabili...</td>\n",
       "    </tr>\n",
       "    <tr>\n",
       "      <th>17</th>\n",
       "      <td>Cemig</td>\n",
       "      <td>O que são esses valores de PIS, COFINS e ICMS ...</td>\n",
       "    </tr>\n",
       "    <tr>\n",
       "      <th>18</th>\n",
       "      <td>Cemig</td>\n",
       "      <td>O que são esses valores de PIS, COFINS e ICMS ...</td>\n",
       "    </tr>\n",
       "    <tr>\n",
       "      <th>40</th>\n",
       "      <td>Latam Airlines (Tam)</td>\n",
       "      <td>Oi, latam! Tudo bom? Venho aqui suplicar a vcs...</td>\n",
       "    </tr>\n",
       "    <tr>\n",
       "      <th>...</th>\n",
       "      <td>...</td>\n",
       "      <td>...</td>\n",
       "    </tr>\n",
       "    <tr>\n",
       "      <th>29956</th>\n",
       "      <td>Serasa Experian</td>\n",
       "      <td>solicito a retirada de meu nome em ofertas de ...</td>\n",
       "    </tr>\n",
       "    <tr>\n",
       "      <th>29957</th>\n",
       "      <td>Netflix</td>\n",
       "      <td>Promoção pra ganhar a latinha. Fiquei esperand...</td>\n",
       "    </tr>\n",
       "    <tr>\n",
       "      <th>29958</th>\n",
       "      <td>Lojas Colombo</td>\n",
       "      <td>Boa tarde, fiz um empréstimo com a Colombo, ma...</td>\n",
       "    </tr>\n",
       "    <tr>\n",
       "      <th>29959</th>\n",
       "      <td>Banco Santander</td>\n",
       "      <td>Meu nome consta no SCR e ja eram ter tirado de la</td>\n",
       "    </tr>\n",
       "    <tr>\n",
       "      <th>29962</th>\n",
       "      <td>Serasa Experian</td>\n",
       "      <td>conforme decisão do STJ,dividas prescritas não...</td>\n",
       "    </tr>\n",
       "  </tbody>\n",
       "</table>\n",
       "<p>29226 rows × 2 columns</p>\n",
       "</div>"
      ],
      "text/plain": [
       "                    Empresa                                              Texto\n",
       "13                    Cemig  Qual o percentual do valor da fatura que fica ...\n",
       "16                    Cemig  Qual o Compromisso da Cemig com a sustentabili...\n",
       "17                    Cemig  O que são esses valores de PIS, COFINS e ICMS ...\n",
       "18                    Cemig  O que são esses valores de PIS, COFINS e ICMS ...\n",
       "40     Latam Airlines (Tam)  Oi, latam! Tudo bom? Venho aqui suplicar a vcs...\n",
       "...                     ...                                                ...\n",
       "29956       Serasa Experian  solicito a retirada de meu nome em ofertas de ...\n",
       "29957               Netflix  Promoção pra ganhar a latinha. Fiquei esperand...\n",
       "29958         Lojas Colombo  Boa tarde, fiz um empréstimo com a Colombo, ma...\n",
       "29959       Banco Santander  Meu nome consta no SCR e ja eram ter tirado de la\n",
       "29962       Serasa Experian  conforme decisão do STJ,dividas prescritas não...\n",
       "\n",
       "[29226 rows x 2 columns]"
      ]
     },
     "execution_count": 14,
     "metadata": {},
     "output_type": "execute_result"
    }
   ],
   "source": [
    "df_comentarios[df_comentarios.duplicated(subset=['Texto'])]"
   ]
  },
  {
   "cell_type": "code",
   "execution_count": 16,
   "metadata": {},
   "outputs": [],
   "source": [
    "df_comentarios_sem_duplicadas = df_comentarios.drop_duplicates(subset=['Texto'])"
   ]
  },
  {
   "cell_type": "code",
   "execution_count": 17,
   "metadata": {},
   "outputs": [
    {
     "data": {
      "text/html": [
       "<div>\n",
       "<style scoped>\n",
       "    .dataframe tbody tr th:only-of-type {\n",
       "        vertical-align: middle;\n",
       "    }\n",
       "\n",
       "    .dataframe tbody tr th {\n",
       "        vertical-align: top;\n",
       "    }\n",
       "\n",
       "    .dataframe thead th {\n",
       "        text-align: right;\n",
       "    }\n",
       "</style>\n",
       "<table border=\"1\" class=\"dataframe\">\n",
       "  <thead>\n",
       "    <tr style=\"text-align: right;\">\n",
       "      <th></th>\n",
       "      <th>Empresa</th>\n",
       "      <th>Texto</th>\n",
       "    </tr>\n",
       "  </thead>\n",
       "  <tbody>\n",
       "    <tr>\n",
       "      <th>0</th>\n",
       "      <td>Latam Airlines (Tam)</td>\n",
       "      <td>Oi, latam! Tudo bom? Venho aqui suplicar a vcs...</td>\n",
       "    </tr>\n",
       "    <tr>\n",
       "      <th>1</th>\n",
       "      <td>Azul Linhas Aéreas</td>\n",
       "      <td>Estava olhando algumas passagens e decidi comp...</td>\n",
       "    </tr>\n",
       "    <tr>\n",
       "      <th>2</th>\n",
       "      <td>Azul Linhas Aéreas</td>\n",
       "      <td>Gostaria de solicitar a revisão de uma situaçã...</td>\n",
       "    </tr>\n",
       "    <tr>\n",
       "      <th>3</th>\n",
       "      <td>Cemig</td>\n",
       "      <td>Qual a documentação para ligação nova?</td>\n",
       "    </tr>\n",
       "    <tr>\n",
       "      <th>4</th>\n",
       "      <td>Latam Airlines (Tam)</td>\n",
       "      <td>Comprei um voo com a Latam para o dia 01/11 sa...</td>\n",
       "    </tr>\n",
       "    <tr>\n",
       "      <th>...</th>\n",
       "      <td>...</td>\n",
       "      <td>...</td>\n",
       "    </tr>\n",
       "    <tr>\n",
       "      <th>29965</th>\n",
       "      <td>Serasa Experian</td>\n",
       "      <td>Solicito a exclusão de todas às consultas em m...</td>\n",
       "    </tr>\n",
       "    <tr>\n",
       "      <th>29966</th>\n",
       "      <td>Itaú Consignado</td>\n",
       "      <td>Boa tarde, Prezado venho por meio deste canal ...</td>\n",
       "    </tr>\n",
       "    <tr>\n",
       "      <th>29967</th>\n",
       "      <td>Serasa Experian</td>\n",
       "      <td>Nunca eles retiram a inadimplência do meu nome...</td>\n",
       "    </tr>\n",
       "    <tr>\n",
       "      <th>29968</th>\n",
       "      <td>Samsung</td>\n",
       "      <td>Realizei a compra do RELÓGIO DIG INT Watch5 44...</td>\n",
       "    </tr>\n",
       "    <tr>\n",
       "      <th>29969</th>\n",
       "      <td>Bradesco Cartões</td>\n",
       "      <td>Hoje, ao consultar meu score, percebi que minh...</td>\n",
       "    </tr>\n",
       "  </tbody>\n",
       "</table>\n",
       "<p>744 rows × 2 columns</p>\n",
       "</div>"
      ],
      "text/plain": [
       "                    Empresa                                              Texto\n",
       "0      Latam Airlines (Tam)  Oi, latam! Tudo bom? Venho aqui suplicar a vcs...\n",
       "1        Azul Linhas Aéreas  Estava olhando algumas passagens e decidi comp...\n",
       "2        Azul Linhas Aéreas  Gostaria de solicitar a revisão de uma situaçã...\n",
       "3                     Cemig             Qual a documentação para ligação nova?\n",
       "4      Latam Airlines (Tam)  Comprei um voo com a Latam para o dia 01/11 sa...\n",
       "...                     ...                                                ...\n",
       "29965       Serasa Experian  Solicito a exclusão de todas às consultas em m...\n",
       "29966       Itaú Consignado  Boa tarde, Prezado venho por meio deste canal ...\n",
       "29967       Serasa Experian  Nunca eles retiram a inadimplência do meu nome...\n",
       "29968               Samsung  Realizei a compra do RELÓGIO DIG INT Watch5 44...\n",
       "29969      Bradesco Cartões  Hoje, ao consultar meu score, percebi que minh...\n",
       "\n",
       "[744 rows x 2 columns]"
      ]
     },
     "execution_count": 17,
     "metadata": {},
     "output_type": "execute_result"
    }
   ],
   "source": [
    "df_comentarios_sem_duplicadas"
   ]
  },
  {
   "cell_type": "code",
   "execution_count": 18,
   "metadata": {},
   "outputs": [
    {
     "data": {
      "text/plain": [
       "Empresa\n",
       "Serasa Experian                        126\n",
       "Latam Airlines (Tam)                    44\n",
       "Hurb - Hotel Urbano                     37\n",
       "Cemig                                   35\n",
       "Equatorial Piauí                        31\n",
       "                                      ... \n",
       "Banese - Banco do Estado de Sergipe      1\n",
       "Light                                    1\n",
       "Claro Residencial                        1\n",
       "SPC Brasil                               1\n",
       "Bradesco Cartões                         1\n",
       "Name: count, Length: 167, dtype: int64"
      ]
     },
     "execution_count": 18,
     "metadata": {},
     "output_type": "execute_result"
    }
   ],
   "source": [
    "df_comentarios_sem_duplicadas.Empresa.value_counts()"
   ]
  },
  {
   "cell_type": "code",
   "execution_count": null,
   "metadata": {},
   "outputs": [],
   "source": []
  }
 ],
 "metadata": {
  "kernelspec": {
   "display_name": "base",
   "language": "python",
   "name": "python3"
  },
  "language_info": {
   "codemirror_mode": {
    "name": "ipython",
    "version": 3
   },
   "file_extension": ".py",
   "mimetype": "text/x-python",
   "name": "python",
   "nbconvert_exporter": "python",
   "pygments_lexer": "ipython3",
   "version": "3.9.13"
  }
 },
 "nbformat": 4,
 "nbformat_minor": 2
}
