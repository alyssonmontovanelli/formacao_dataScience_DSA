{
 "cells": [
  {
   "cell_type": "code",
   "execution_count": 2,
   "id": "492ad91e",
   "metadata": {},
   "outputs": [],
   "source": [
    "import numpy as np\n",
    "import pandas as pd"
   ]
  },
  {
   "cell_type": "markdown",
   "id": "308ce04d",
   "metadata": {},
   "source": [
    "# Opeações com Series"
   ]
  },
  {
   "cell_type": "code",
   "execution_count": 3,
   "id": "5ff9fa46",
   "metadata": {},
   "outputs": [],
   "source": [
    "matriz = [[9,4,3], [2,6,1], [7,5,8]]"
   ]
  },
  {
   "cell_type": "code",
   "execution_count": 4,
   "id": "c01f504d",
   "metadata": {},
   "outputs": [
    {
     "data": {
      "text/plain": [
       "[[9, 4, 3], [2, 6, 1], [7, 5, 8]]"
      ]
     },
     "execution_count": 4,
     "metadata": {},
     "output_type": "execute_result"
    }
   ],
   "source": [
    "matriz"
   ]
  },
  {
   "cell_type": "code",
   "execution_count": 5,
   "id": "8a2beca3",
   "metadata": {},
   "outputs": [],
   "source": [
    "# Convertendo a matriz em dataframe\n",
    "df = pd.DataFrame(matriz)"
   ]
  },
  {
   "cell_type": "code",
   "execution_count": 6,
   "id": "ca6ab76a",
   "metadata": {},
   "outputs": [
    {
     "data": {
      "text/plain": [
       "pandas.core.frame.DataFrame"
      ]
     },
     "execution_count": 6,
     "metadata": {},
     "output_type": "execute_result"
    }
   ],
   "source": [
    "type(df)"
   ]
  },
  {
   "cell_type": "code",
   "execution_count": 7,
   "id": "792b9913",
   "metadata": {},
   "outputs": [],
   "source": [
    "# Extrai a linha de indice 0\n",
    "linha = df.iloc[0, :]"
   ]
  },
  {
   "cell_type": "code",
   "execution_count": 8,
   "id": "a4243dba",
   "metadata": {},
   "outputs": [
    {
     "data": {
      "text/plain": [
       "0    9\n",
       "1    4\n",
       "2    3\n",
       "Name: 0, dtype: int64"
      ]
     },
     "execution_count": 8,
     "metadata": {},
     "output_type": "execute_result"
    }
   ],
   "source": [
    "linha"
   ]
  },
  {
   "cell_type": "code",
   "execution_count": 9,
   "id": "5723f598",
   "metadata": {},
   "outputs": [
    {
     "data": {
      "text/plain": [
       "pandas.core.series.Series"
      ]
     },
     "execution_count": 9,
     "metadata": {},
     "output_type": "execute_result"
    }
   ],
   "source": [
    "type(linha)"
   ]
  },
  {
   "cell_type": "code",
   "execution_count": 10,
   "id": "52a094ac",
   "metadata": {},
   "outputs": [],
   "source": [
    "coluna = df[0]"
   ]
  },
  {
   "cell_type": "code",
   "execution_count": 11,
   "id": "4782b1b9",
   "metadata": {},
   "outputs": [
    {
     "data": {
      "text/plain": [
       "pandas.core.series.Series"
      ]
     },
     "execution_count": 11,
     "metadata": {},
     "output_type": "execute_result"
    }
   ],
   "source": [
    "type(coluna)"
   ]
  },
  {
   "cell_type": "markdown",
   "id": "805765af",
   "metadata": {},
   "source": [
    "Dataframe é um conjunto de Series"
   ]
  },
  {
   "cell_type": "markdown",
   "id": "747a42aa",
   "metadata": {},
   "source": [
    "### Criando Series"
   ]
  },
  {
   "cell_type": "code",
   "execution_count": 12,
   "id": "70d6cc04",
   "metadata": {},
   "outputs": [],
   "source": [
    "series_pandas = pd.Series(['a', 'b', 'c', 'd', 'e'])"
   ]
  },
  {
   "cell_type": "code",
   "execution_count": 14,
   "id": "329cf19f",
   "metadata": {},
   "outputs": [
    {
     "data": {
      "text/plain": [
       "0    a\n",
       "1    b\n",
       "2    c\n",
       "3    d\n",
       "4    e\n",
       "dtype: object"
      ]
     },
     "execution_count": 14,
     "metadata": {},
     "output_type": "execute_result"
    }
   ],
   "source": [
    "series_pandas"
   ]
  },
  {
   "cell_type": "code",
   "execution_count": 15,
   "id": "edb0ca8c",
   "metadata": {},
   "outputs": [
    {
     "data": {
      "text/plain": [
       "RangeIndex(start=0, stop=5, step=1)"
      ]
     },
     "execution_count": 15,
     "metadata": {},
     "output_type": "execute_result"
    }
   ],
   "source": [
    "series_pandas.index"
   ]
  },
  {
   "cell_type": "code",
   "execution_count": 16,
   "id": "4d036f12",
   "metadata": {},
   "outputs": [
    {
     "data": {
      "text/plain": [
       "array(['a', 'b', 'c', 'd', 'e'], dtype=object)"
      ]
     },
     "execution_count": 16,
     "metadata": {},
     "output_type": "execute_result"
    }
   ],
   "source": [
    "series_pandas.values"
   ]
  },
  {
   "cell_type": "code",
   "execution_count": 17,
   "id": "ecb33f60",
   "metadata": {},
   "outputs": [
    {
     "data": {
      "text/plain": [
       "dtype('O')"
      ]
     },
     "execution_count": 17,
     "metadata": {},
     "output_type": "execute_result"
    }
   ],
   "source": [
    "series_pandas.dtype"
   ]
  },
  {
   "cell_type": "code",
   "execution_count": 18,
   "id": "04a6b287",
   "metadata": {},
   "outputs": [
    {
     "data": {
      "text/plain": [
       "(5,)"
      ]
     },
     "execution_count": 18,
     "metadata": {},
     "output_type": "execute_result"
    }
   ],
   "source": [
    "series_pandas.shape"
   ]
  },
  {
   "cell_type": "code",
   "execution_count": 19,
   "id": "a19349b0",
   "metadata": {},
   "outputs": [],
   "source": [
    "lista = ['Botafogo', 'Maior', 'Do', 'Rio']"
   ]
  },
  {
   "cell_type": "code",
   "execution_count": 20,
   "id": "8f5d3aa8",
   "metadata": {},
   "outputs": [],
   "source": [
    "serie_panda_botafogo = pd.Series(lista)"
   ]
  },
  {
   "cell_type": "code",
   "execution_count": 21,
   "id": "50e58a3d",
   "metadata": {},
   "outputs": [
    {
     "name": "stdout",
     "output_type": "stream",
     "text": [
      "0    Botafogo\n",
      "1       Maior\n",
      "2          Do\n",
      "3         Rio\n",
      "dtype: object\n"
     ]
    }
   ],
   "source": [
    "print(serie_panda_botafogo)"
   ]
  },
  {
   "cell_type": "code",
   "execution_count": 22,
   "id": "4045a529",
   "metadata": {},
   "outputs": [],
   "source": [
    "dicionario = {\n",
    "    'a':'Botafogo',\n",
    "    'b': 'Maior',\n",
    "    'c': 'Do',\n",
    "    'd': 'Rio'\n",
    "}"
   ]
  },
  {
   "cell_type": "code",
   "execution_count": 23,
   "id": "16461cf4",
   "metadata": {},
   "outputs": [],
   "source": [
    "serie_pandas = pd.Series(dicionario)"
   ]
  },
  {
   "cell_type": "code",
   "execution_count": 24,
   "id": "7fddf366",
   "metadata": {},
   "outputs": [
    {
     "name": "stdout",
     "output_type": "stream",
     "text": [
      "a    Botafogo\n",
      "b       Maior\n",
      "c          Do\n",
      "d         Rio\n",
      "dtype: object\n"
     ]
    }
   ],
   "source": [
    "print(serie_pandas)"
   ]
  },
  {
   "cell_type": "code",
   "execution_count": 26,
   "id": "385c71c6",
   "metadata": {},
   "outputs": [],
   "source": [
    "# Criando array Numpy\n",
    "arr = np.random.randint(0,10, size = 5)"
   ]
  },
  {
   "cell_type": "code",
   "execution_count": 28,
   "id": "0aa68529",
   "metadata": {},
   "outputs": [
    {
     "name": "stdout",
     "output_type": "stream",
     "text": [
      "[7 8 8 4 2]\n"
     ]
    }
   ],
   "source": [
    "print(arr)"
   ]
  },
  {
   "cell_type": "code",
   "execution_count": 29,
   "id": "f2a92f07",
   "metadata": {},
   "outputs": [],
   "source": [
    "serie_pandas = pd.Series(arr)"
   ]
  },
  {
   "cell_type": "code",
   "execution_count": 31,
   "id": "b3bd0fd5",
   "metadata": {},
   "outputs": [
    {
     "data": {
      "text/plain": [
       "0    7\n",
       "1    8\n",
       "2    8\n",
       "3    4\n",
       "4    2\n",
       "dtype: int32"
      ]
     },
     "execution_count": 31,
     "metadata": {},
     "output_type": "execute_result"
    }
   ],
   "source": [
    "serie_pandas"
   ]
  },
  {
   "cell_type": "code",
   "execution_count": 32,
   "id": "7851dd91",
   "metadata": {},
   "outputs": [],
   "source": [
    "seriesPandas = pd.Series({1:\"Data\", 2:\"Science\"})"
   ]
  },
  {
   "cell_type": "code",
   "execution_count": 33,
   "id": "32b69d84",
   "metadata": {},
   "outputs": [
    {
     "data": {
      "text/plain": [
       "1       Data\n",
       "2    Science\n",
       "dtype: object"
      ]
     },
     "execution_count": 33,
     "metadata": {},
     "output_type": "execute_result"
    }
   ],
   "source": [
    "seriesPandas"
   ]
  },
  {
   "cell_type": "code",
   "execution_count": 44,
   "id": "1134bad7",
   "metadata": {},
   "outputs": [],
   "source": [
    "series_pandas = pd.Series(['Azul', 'Amarelo', 'Verde', 'Verde', 'Amarelo', 'Rosa', 'Amarelo', 'Preto'])"
   ]
  },
  {
   "cell_type": "code",
   "execution_count": 45,
   "id": "04482762",
   "metadata": {},
   "outputs": [
    {
     "data": {
      "text/plain": [
       "array(['Azul', 'Amarelo', 'Verde', 'Rosa', 'Preto'], dtype=object)"
      ]
     },
     "execution_count": 45,
     "metadata": {},
     "output_type": "execute_result"
    }
   ],
   "source": [
    "series_pandas.unique() # Valores unicos"
   ]
  },
  {
   "cell_type": "code",
   "execution_count": 46,
   "id": "0185038a",
   "metadata": {},
   "outputs": [
    {
     "data": {
      "text/plain": [
       "5"
      ]
     },
     "execution_count": 46,
     "metadata": {},
     "output_type": "execute_result"
    }
   ],
   "source": [
    "series_pandas.nunique() # número de Valores unicos"
   ]
  },
  {
   "cell_type": "code",
   "execution_count": 47,
   "id": "9e81b4e6",
   "metadata": {},
   "outputs": [
    {
     "data": {
      "text/plain": [
       "Amarelo    3\n",
       "Verde      2\n",
       "Azul       1\n",
       "Rosa       1\n",
       "Preto      1\n",
       "Name: count, dtype: int64"
      ]
     },
     "execution_count": 47,
     "metadata": {},
     "output_type": "execute_result"
    }
   ],
   "source": [
    "series_pandas.value_counts()"
   ]
  },
  {
   "cell_type": "code",
   "execution_count": 48,
   "id": "ba7faf72",
   "metadata": {},
   "outputs": [
    {
     "data": {
      "text/plain": [
       "0    False\n",
       "1    False\n",
       "2    False\n",
       "3    False\n",
       "4    False\n",
       "5    False\n",
       "6    False\n",
       "7    False\n",
       "dtype: bool"
      ]
     },
     "execution_count": 48,
     "metadata": {},
     "output_type": "execute_result"
    }
   ],
   "source": [
    "series_pandas.isna()"
   ]
  },
  {
   "cell_type": "code",
   "execution_count": 49,
   "id": "190483ee",
   "metadata": {},
   "outputs": [
    {
     "data": {
      "text/plain": [
       "0"
      ]
     },
     "execution_count": 49,
     "metadata": {},
     "output_type": "execute_result"
    }
   ],
   "source": [
    "series_pandas.isna().sum()"
   ]
  },
  {
   "cell_type": "code",
   "execution_count": 59,
   "id": "12722293",
   "metadata": {},
   "outputs": [],
   "source": [
    "series_pandas = pd.Series([201,322,17,88,98,45,6,21,36,333,4])"
   ]
  },
  {
   "cell_type": "code",
   "execution_count": 60,
   "id": "a52eee4d",
   "metadata": {},
   "outputs": [
    {
     "data": {
      "text/plain": [
       "9    333\n",
       "1    322\n",
       "0    201\n",
       "dtype: int64"
      ]
     },
     "execution_count": 60,
     "metadata": {},
     "output_type": "execute_result"
    }
   ],
   "source": [
    "series_pandas.nlargest(n=3) # Tres maiores valores da série"
   ]
  },
  {
   "cell_type": "code",
   "execution_count": 61,
   "id": "859fdf09",
   "metadata": {},
   "outputs": [
    {
     "data": {
      "text/plain": [
       "10    4\n",
       "6     6\n",
       "dtype: int64"
      ]
     },
     "execution_count": 61,
     "metadata": {},
     "output_type": "execute_result"
    }
   ],
   "source": [
    "series_pandas.nsmallest(n=2) # 2 M"
   ]
  },
  {
   "cell_type": "code",
   "execution_count": 54,
   "id": "1c26dba0",
   "metadata": {},
   "outputs": [],
   "source": [
    "series_pandas = pd.Series([1,2,3,np.nan,8,np.nan,np.nan])"
   ]
  },
  {
   "cell_type": "code",
   "execution_count": 56,
   "id": "260470f9",
   "metadata": {},
   "outputs": [
    {
     "data": {
      "text/plain": [
       "3"
      ]
     },
     "execution_count": 56,
     "metadata": {},
     "output_type": "execute_result"
    }
   ],
   "source": [
    "series_pandas.isna().sum()"
   ]
  },
  {
   "cell_type": "code",
   "execution_count": 57,
   "id": "0937027f",
   "metadata": {},
   "outputs": [
    {
     "data": {
      "text/plain": [
       "4"
      ]
     },
     "execution_count": 57,
     "metadata": {},
     "output_type": "execute_result"
    }
   ],
   "source": [
    "series_pandas.count()"
   ]
  },
  {
   "cell_type": "code",
   "execution_count": 62,
   "id": "15daa4cd",
   "metadata": {},
   "outputs": [],
   "source": [
    "series_pandas = pd.Series([1,2,3,4,5,6,7,8,9])"
   ]
  },
  {
   "cell_type": "code",
   "execution_count": 64,
   "id": "856e02ca",
   "metadata": {},
   "outputs": [
    {
     "data": {
      "text/plain": [
       "0    False\n",
       "1    False\n",
       "2     True\n",
       "3    False\n",
       "4    False\n",
       "5    False\n",
       "6    False\n",
       "7    False\n",
       "8    False\n",
       "dtype: bool"
      ]
     },
     "execution_count": 64,
     "metadata": {},
     "output_type": "execute_result"
    }
   ],
   "source": [
    "series_pandas.eq(3)"
   ]
  },
  {
   "cell_type": "code",
   "execution_count": 65,
   "id": "aaacb589",
   "metadata": {},
   "outputs": [
    {
     "data": {
      "text/plain": [
       "0    False\n",
       "1    False\n",
       "2     True\n",
       "3     True\n",
       "4     True\n",
       "5     True\n",
       "6     True\n",
       "7     True\n",
       "8     True\n",
       "dtype: bool"
      ]
     },
     "execution_count": 65,
     "metadata": {},
     "output_type": "execute_result"
    }
   ],
   "source": [
    "series_pandas.gt(2)"
   ]
  },
  {
   "cell_type": "code",
   "execution_count": null,
   "id": "6d055e64",
   "metadata": {},
   "outputs": [],
   "source": []
  }
 ],
 "metadata": {
  "kernelspec": {
   "display_name": "Python 3 (ipykernel)",
   "language": "python",
   "name": "python3"
  },
  "language_info": {
   "codemirror_mode": {
    "name": "ipython",
    "version": 3
   },
   "file_extension": ".py",
   "mimetype": "text/x-python",
   "name": "python",
   "nbconvert_exporter": "python",
   "pygments_lexer": "ipython3",
   "version": "3.9.13"
  }
 },
 "nbformat": 4,
 "nbformat_minor": 5
}
