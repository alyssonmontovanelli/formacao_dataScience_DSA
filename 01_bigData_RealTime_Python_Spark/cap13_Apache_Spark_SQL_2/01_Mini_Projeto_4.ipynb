{
 "cells": [
  {
   "cell_type": "markdown",
   "id": "ad0c468b",
   "metadata": {},
   "source": [
    "# Problema de Negócio\n",
    "\n",
    "O objetivo desteMini-Projeto é analisar um conjunto  de  dados  de  uma  transportadora  responsável  por  entrega  de  produtos.  Diversos veículos realizam diversas entregas em diferentes horários do dia. Usando Spark SQL vamos extrair insights e compreender como está a performance da logística de entrega da empresa."
   ]
  },
  {
   "cell_type": "code",
   "execution_count": 2,
   "id": "84eec196",
   "metadata": {},
   "outputs": [],
   "source": [
    "import findspark\n",
    "findspark.init()"
   ]
  },
  {
   "cell_type": "code",
   "execution_count": 3,
   "id": "68dd6d9c",
   "metadata": {},
   "outputs": [],
   "source": [
    "import pyspark\n",
    "from pyspark import SparkContext\n",
    "from pyspark.sql import SparkSession\n",
    "from pyspark.sql import Window # Função Window para realizar análise ao longo do tempo\n",
    "from pyspark.sql.functions import col\n",
    "from pyspark.sql.functions import row_number\n",
    "from pyspark.sql.functions import lead\n",
    "from pyspark.sql.functions import min, max\n",
    "from pyspark.sql.functions import unix_timestamp"
   ]
  },
  {
   "cell_type": "markdown",
   "id": "7da892de",
   "metadata": {},
   "source": [
    "# preparando o ambiente SPARK"
   ]
  },
  {
   "cell_type": "code",
   "execution_count": 4,
   "id": "fbd5a1a3",
   "metadata": {},
   "outputs": [],
   "source": [
    "# Criando o contexto \n",
    "sc = SparkContext(appName = 'Mini-Projeto4')"
   ]
  },
  {
   "cell_type": "code",
   "execution_count": 5,
   "id": "7fcae419",
   "metadata": {},
   "outputs": [],
   "source": [
    "# Cria a sessão\n",
    "spark = SparkSession.builder.getOrCreate()"
   ]
  },
  {
   "cell_type": "code",
   "execution_count": 6,
   "id": "ca52c984",
   "metadata": {},
   "outputs": [
    {
     "data": {
      "text/html": [
       "\n",
       "            <div>\n",
       "                <p><b>SparkSession - in-memory</b></p>\n",
       "                \n",
       "        <div>\n",
       "            <p><b>SparkContext</b></p>\n",
       "\n",
       "            <p><a href=\"http://host.docker.internal:4040\">Spark UI</a></p>\n",
       "\n",
       "            <dl>\n",
       "              <dt>Version</dt>\n",
       "                <dd><code>v3.4.1</code></dd>\n",
       "              <dt>Master</dt>\n",
       "                <dd><code>local[*]</code></dd>\n",
       "              <dt>AppName</dt>\n",
       "                <dd><code>Mini-Projeto4</code></dd>\n",
       "            </dl>\n",
       "        </div>\n",
       "        \n",
       "            </div>\n",
       "        "
      ],
      "text/plain": [
       "<pyspark.sql.session.SparkSession at 0x21c7ffc9550>"
      ]
     },
     "execution_count": 6,
     "metadata": {},
     "output_type": "execute_result"
    }
   ],
   "source": [
    "spark"
   ]
  },
  {
   "cell_type": "markdown",
   "id": "6a6115f3",
   "metadata": {},
   "source": [
    "## Carregando os Dados como Dataframe do Spark"
   ]
  },
  {
   "cell_type": "code",
   "execution_count": 7,
   "id": "07998186",
   "metadata": {},
   "outputs": [],
   "source": [
    "# nome do arquivo\n",
    "arquivo = \"C:\\formacao_dataScience_DSA_DADOS\\01_bigData_RealTime_Python_Spark\\cap13_Apache_Spark_SQL_2\\dataset.txt\""
   ]
  },
  {
   "cell_type": "code",
   "execution_count": null,
   "id": "c4b5b7fe",
   "metadata": {},
   "outputs": [],
   "source": []
  }
 ],
 "metadata": {
  "kernelspec": {
   "display_name": "Python 3 (ipykernel)",
   "language": "python",
   "name": "python3"
  },
  "language_info": {
   "codemirror_mode": {
    "name": "ipython",
    "version": 3
   },
   "file_extension": ".py",
   "mimetype": "text/x-python",
   "name": "python",
   "nbconvert_exporter": "python",
   "pygments_lexer": "ipython3",
   "version": "3.9.13"
  }
 },
 "nbformat": 4,
 "nbformat_minor": 5
}
