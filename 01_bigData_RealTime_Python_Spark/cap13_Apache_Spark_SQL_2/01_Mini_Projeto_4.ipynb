{
 "cells": [
  {
   "cell_type": "markdown",
   "id": "ad0c468b",
   "metadata": {},
   "source": [
    "# Problema de Negócio\n",
    "\n",
    "O objetivo desteMini-Projeto é analisar um conjunto  de  dados  de  uma  transportadora  responsável  por  entrega  de  produtos.  Diversos veículos realizam diversas entregas em diferentes horários do dia. Usando Spark SQL vamos extrair insights e compreender como está a performance da logística de entrega da empresa."
   ]
  },
  {
   "cell_type": "code",
   "execution_count": 1,
   "id": "84eec196",
   "metadata": {},
   "outputs": [],
   "source": [
    "import findspark\n",
    "findspark.init()"
   ]
  },
  {
   "cell_type": "code",
   "execution_count": 2,
   "id": "68dd6d9c",
   "metadata": {},
   "outputs": [],
   "source": [
    "import pyspark\n",
    "from pyspark import SparkContext\n",
    "from pyspark.sql import SparkSession\n",
    "from pyspark.sql import Window # Função Window para realizar análise ao longo do tempo\n",
    "from pyspark.sql.functions import col\n",
    "from pyspark.sql.functions import row_number\n",
    "from pyspark.sql.functions import lead\n",
    "from pyspark.sql.functions import min, max\n",
    "from pyspark.sql.functions import unix_timestamp"
   ]
  },
  {
   "cell_type": "markdown",
   "id": "7da892de",
   "metadata": {},
   "source": [
    "# preparando o ambiente SPARK"
   ]
  },
  {
   "cell_type": "code",
   "execution_count": 3,
   "id": "fbd5a1a3",
   "metadata": {},
   "outputs": [],
   "source": [
    "# Criando o contexto \n",
    "sc = SparkContext(appName = 'Mini-Projeto4')"
   ]
  },
  {
   "cell_type": "code",
   "execution_count": 4,
   "id": "7fcae419",
   "metadata": {},
   "outputs": [],
   "source": [
    "# Cria a sessão\n",
    "spark = SparkSession.builder.getOrCreate()"
   ]
  },
  {
   "cell_type": "code",
   "execution_count": 5,
   "id": "ca52c984",
   "metadata": {},
   "outputs": [
    {
     "data": {
      "text/html": [
       "\n",
       "            <div>\n",
       "                <p><b>SparkSession - in-memory</b></p>\n",
       "                \n",
       "        <div>\n",
       "            <p><b>SparkContext</b></p>\n",
       "\n",
       "            <p><a href=\"http://Skylerfox.mshome.net:4040\">Spark UI</a></p>\n",
       "\n",
       "            <dl>\n",
       "              <dt>Version</dt>\n",
       "                <dd><code>v3.4.1</code></dd>\n",
       "              <dt>Master</dt>\n",
       "                <dd><code>local[*]</code></dd>\n",
       "              <dt>AppName</dt>\n",
       "                <dd><code>Mini-Projeto4</code></dd>\n",
       "            </dl>\n",
       "        </div>\n",
       "        \n",
       "            </div>\n",
       "        "
      ],
      "text/plain": [
       "<pyspark.sql.session.SparkSession at 0x1477eb044f0>"
      ]
     },
     "execution_count": 5,
     "metadata": {},
     "output_type": "execute_result"
    }
   ],
   "source": [
    "spark"
   ]
  },
  {
   "cell_type": "markdown",
   "id": "6a6115f3",
   "metadata": {},
   "source": [
    "## Carregando os Dados como Dataframe do Spark"
   ]
  },
  {
   "cell_type": "code",
   "execution_count": 6,
   "id": "07998186",
   "metadata": {},
   "outputs": [],
   "source": [
    "# nome do arquivo\n",
    "arquivo = \"C:/formacao_dataScience_DSA_DADOS/01_bigData_RealTime_Python_Spark/cap13_Apache_Spark_SQL_2/dataset.txt\""
   ]
  },
  {
   "cell_type": "code",
   "execution_count": 7,
   "id": "c4b5b7fe",
   "metadata": {},
   "outputs": [],
   "source": [
    "# arrega o dataframe do Spark\n",
    "df = spark.read.csv(arquivo,header = True)"
   ]
  },
  {
   "cell_type": "code",
   "execution_count": 8,
   "id": "ef57fb98",
   "metadata": {},
   "outputs": [
    {
     "data": {
      "text/plain": [
       "pyspark.sql.dataframe.DataFrame"
      ]
     },
     "execution_count": 8,
     "metadata": {},
     "output_type": "execute_result"
    }
   ],
   "source": [
    "type(df)"
   ]
  },
  {
   "cell_type": "code",
   "execution_count": 9,
   "id": "dbbc4dbc",
   "metadata": {},
   "outputs": [
    {
     "name": "stdout",
     "output_type": "stream",
     "text": [
      "+----------+---------+-------+\n",
      "|id_veiculo|  entrega|horario|\n",
      "+----------+---------+-------+\n",
      "|       298|Entrega 1|  7:58a|\n",
      "|       298|Entrega 2|  8:04a|\n",
      "|       298|Entrega 3|  8:17a|\n",
      "|       298|Entrega 4|  8:28a|\n",
      "|       298|Entrega 5|  8:33a|\n",
      "+----------+---------+-------+\n",
      "only showing top 5 rows\n",
      "\n"
     ]
    }
   ],
   "source": [
    "df.show(5)"
   ]
  },
  {
   "cell_type": "markdown",
   "id": "a8bf3312",
   "metadata": {},
   "source": [
    "## Criando Tabela temporária\n",
    "\n",
    "Criamos a tabela temporaria para executar consutas SQL nos dados. A tabela temporária existe somente nesta sessão spark"
   ]
  },
  {
   "cell_type": "code",
   "execution_count": 10,
   "id": "cddae947",
   "metadata": {},
   "outputs": [],
   "source": [
    "# Criando tabela temporaria\n",
    "df.createOrReplaceTempView('tb_logistica')"
   ]
  },
  {
   "cell_type": "markdown",
   "id": "bace5363",
   "metadata": {},
   "source": [
    "#### Executando Querys SQL"
   ]
  },
  {
   "cell_type": "code",
   "execution_count": 11,
   "id": "7e810036",
   "metadata": {},
   "outputs": [
    {
     "name": "stdout",
     "output_type": "stream",
     "text": [
      "+----------+\n",
      "|  col_name|\n",
      "+----------+\n",
      "|id_veiculo|\n",
      "|   entrega|\n",
      "|   horario|\n",
      "+----------+\n",
      "\n"
     ]
    }
   ],
   "source": [
    "spark.sql(\"show columns from tb_logistica\").show()"
   ]
  },
  {
   "cell_type": "code",
   "execution_count": 12,
   "id": "5805cf6c",
   "metadata": {},
   "outputs": [
    {
     "name": "stdout",
     "output_type": "stream",
     "text": [
      "+----------+---------+-------+\n",
      "|id_veiculo|  entrega|horario|\n",
      "+----------+---------+-------+\n",
      "|       298|Entrega 1|  7:58a|\n",
      "|       298|Entrega 2|  8:04a|\n",
      "|       298|Entrega 3|  8:17a|\n",
      "|       298|Entrega 4|  8:28a|\n",
      "|       298|Entrega 5|  8:33a|\n",
      "+----------+---------+-------+\n",
      "\n"
     ]
    }
   ],
   "source": [
    "spark.sql(\"select * from tb_logistica limit 5\").show()"
   ]
  },
  {
   "cell_type": "code",
   "execution_count": 13,
   "id": "4d7f9008",
   "metadata": {},
   "outputs": [
    {
     "name": "stdout",
     "output_type": "stream",
     "text": [
      "+----------+\n",
      "|id_veiculo|\n",
      "+----------+\n",
      "|       298|\n",
      "|       315|\n",
      "|       457|\n",
      "+----------+\n",
      "\n"
     ]
    }
   ],
   "source": [
    "spark.sql(\"select id_veiculo from tb_logistica where entrega like '%1%'\").show()"
   ]
  },
  {
   "cell_type": "code",
   "execution_count": 14,
   "id": "6a94ca4e",
   "metadata": {},
   "outputs": [
    {
     "name": "stdout",
     "output_type": "stream",
     "text": [
      "+----------+---------+-------+\n",
      "|  col_name|data_type|comment|\n",
      "+----------+---------+-------+\n",
      "|id_veiculo|   string|   null|\n",
      "|   entrega|   string|   null|\n",
      "|   horario|   string|   null|\n",
      "+----------+---------+-------+\n",
      "\n"
     ]
    }
   ],
   "source": [
    "spark.sql(\"describe tb_logistica\").show()"
   ]
  },
  {
   "cell_type": "markdown",
   "id": "33851998",
   "metadata": {},
   "source": [
    "# Queries SQL x Dot Notaton no Spark SQL"
   ]
  },
  {
   "cell_type": "code",
   "execution_count": 15,
   "id": "79dbf96f",
   "metadata": {},
   "outputs": [
    {
     "name": "stdout",
     "output_type": "stream",
     "text": [
      "+-------+---------+\n",
      "|veiculo|  entrega|\n",
      "+-------+---------+\n",
      "|    298|Entrega 1|\n",
      "|    298|Entrega 2|\n",
      "|    298|Entrega 3|\n",
      "|    298|Entrega 4|\n",
      "|    298|Entrega 5|\n",
      "+-------+---------+\n",
      "\n"
     ]
    }
   ],
   "source": [
    "# Query SQL\n",
    "spark.sql(\"select id_veiculo as veiculo, entrega from tb_logistica limit 5\").show()"
   ]
  },
  {
   "cell_type": "code",
   "execution_count": 16,
   "id": "53849182",
   "metadata": {},
   "outputs": [
    {
     "name": "stdout",
     "output_type": "stream",
     "text": [
      "+-------+---------+\n",
      "|veiculo|  entrega|\n",
      "+-------+---------+\n",
      "|    298|Entrega 1|\n",
      "|    298|Entrega 2|\n",
      "|    298|Entrega 3|\n",
      "|    298|Entrega 4|\n",
      "|    298|Entrega 5|\n",
      "+-------+---------+\n",
      "\n"
     ]
    }
   ],
   "source": [
    "df.select(col('id_veiculo').alias('veiculo'), 'entrega').limit(5).show()"
   ]
  },
  {
   "cell_type": "markdown",
   "id": "50094fa3",
   "metadata": {},
   "source": [
    "# Funções SQL do Sark SQL\n",
    "\n",
    "Embora seja mais fácil usar direto linguagem SQL, as funções do Spark SQL são otimizadas para trabalho em ambinete distribuido. Se estiver com problemas de performance ao processar grandes volumes de dados, é o caso testar o sparkSQL"
   ]
  },
  {
   "cell_type": "code",
   "execution_count": 17,
   "id": "7a317a95",
   "metadata": {},
   "outputs": [
    {
     "data": {
      "text/plain": [
       "['id_veiculo', 'entrega', 'horario']"
      ]
     },
     "execution_count": 17,
     "metadata": {},
     "output_type": "execute_result"
    }
   ],
   "source": [
    "df.columns"
   ]
  },
  {
   "cell_type": "code",
   "execution_count": 18,
   "id": "d0d7a277",
   "metadata": {},
   "outputs": [],
   "source": [
    "dfpandas = df.toPandas()"
   ]
  },
  {
   "cell_type": "code",
   "execution_count": 19,
   "id": "69d83908",
   "metadata": {},
   "outputs": [
    {
     "data": {
      "text/plain": [
       "pandas.core.frame.DataFrame"
      ]
     },
     "execution_count": 19,
     "metadata": {},
     "output_type": "execute_result"
    }
   ],
   "source": [
    "type(dfpandas)"
   ]
  },
  {
   "cell_type": "code",
   "execution_count": 20,
   "id": "9bf5b919",
   "metadata": {},
   "outputs": [
    {
     "data": {
      "text/html": [
       "<div>\n",
       "<style scoped>\n",
       "    .dataframe tbody tr th:only-of-type {\n",
       "        vertical-align: middle;\n",
       "    }\n",
       "\n",
       "    .dataframe tbody tr th {\n",
       "        vertical-align: top;\n",
       "    }\n",
       "\n",
       "    .dataframe thead th {\n",
       "        text-align: right;\n",
       "    }\n",
       "</style>\n",
       "<table border=\"1\" class=\"dataframe\">\n",
       "  <thead>\n",
       "    <tr style=\"text-align: right;\">\n",
       "      <th></th>\n",
       "      <th>id_veiculo</th>\n",
       "      <th>entrega</th>\n",
       "      <th>horario</th>\n",
       "    </tr>\n",
       "  </thead>\n",
       "  <tbody>\n",
       "    <tr>\n",
       "      <th>0</th>\n",
       "      <td>298</td>\n",
       "      <td>Entrega 1</td>\n",
       "      <td>7:58a</td>\n",
       "    </tr>\n",
       "    <tr>\n",
       "      <th>1</th>\n",
       "      <td>298</td>\n",
       "      <td>Entrega 2</td>\n",
       "      <td>8:04a</td>\n",
       "    </tr>\n",
       "    <tr>\n",
       "      <th>2</th>\n",
       "      <td>298</td>\n",
       "      <td>Entrega 3</td>\n",
       "      <td>8:17a</td>\n",
       "    </tr>\n",
       "    <tr>\n",
       "      <th>3</th>\n",
       "      <td>298</td>\n",
       "      <td>Entrega 4</td>\n",
       "      <td>8:28a</td>\n",
       "    </tr>\n",
       "    <tr>\n",
       "      <th>4</th>\n",
       "      <td>298</td>\n",
       "      <td>Entrega 5</td>\n",
       "      <td>8:33a</td>\n",
       "    </tr>\n",
       "  </tbody>\n",
       "</table>\n",
       "</div>"
      ],
      "text/plain": [
       "  id_veiculo    entrega horario\n",
       "0        298  Entrega 1   7:58a\n",
       "1        298  Entrega 2   8:04a\n",
       "2        298  Entrega 3   8:17a\n",
       "3        298  Entrega 4   8:28a\n",
       "4        298  Entrega 5   8:33a"
      ]
     },
     "execution_count": 20,
     "metadata": {},
     "output_type": "execute_result"
    }
   ],
   "source": [
    "dfpandas.head()"
   ]
  },
  {
   "cell_type": "markdown",
   "id": "335eb088",
   "metadata": {},
   "source": [
    "## Métodos Select e Collect "
   ]
  },
  {
   "cell_type": "markdown",
   "id": "9f544cd7",
   "metadata": {},
   "source": [
    "#### Função select()"
   ]
  },
  {
   "cell_type": "code",
   "execution_count": 21,
   "id": "9d804245",
   "metadata": {},
   "outputs": [
    {
     "name": "stdout",
     "output_type": "stream",
     "text": [
      "+----------+---------+\n",
      "|id_veiculo|  entrega|\n",
      "+----------+---------+\n",
      "|       298|Entrega 1|\n",
      "|       298|Entrega 2|\n",
      "|       298|Entrega 3|\n",
      "|       298|Entrega 4|\n",
      "|       298|Entrega 5|\n",
      "|       298|Entrega 6|\n",
      "|       298|Entrega 7|\n",
      "|       315|Entrega 1|\n",
      "|       315|Entrega 2|\n",
      "|       315|Entrega 3|\n",
      "+----------+---------+\n",
      "only showing top 10 rows\n",
      "\n"
     ]
    }
   ],
   "source": [
    "df.select('id_veiculo', 'entrega').show(10)"
   ]
  },
  {
   "cell_type": "code",
   "execution_count": 23,
   "id": "b355d96f",
   "metadata": {},
   "outputs": [
    {
     "name": "stdout",
     "output_type": "stream",
     "text": [
      "+----------+---------+\n",
      "|id_veiculo|  entrega|\n",
      "+----------+---------+\n",
      "|       298|Entrega 1|\n",
      "|       298|Entrega 2|\n",
      "|       298|Entrega 3|\n",
      "|       298|Entrega 4|\n",
      "|       298|Entrega 5|\n",
      "|       298|Entrega 6|\n",
      "|       298|Entrega 7|\n",
      "|       315|Entrega 1|\n",
      "|       315|Entrega 2|\n",
      "|       315|Entrega 3|\n",
      "+----------+---------+\n",
      "only showing top 10 rows\n",
      "\n"
     ]
    }
   ],
   "source": [
    "df.select(df.id_veiculo, df.entrega).show(10)"
   ]
  },
  {
   "cell_type": "code",
   "execution_count": 24,
   "id": "0d531cfa",
   "metadata": {},
   "outputs": [
    {
     "name": "stdout",
     "output_type": "stream",
     "text": [
      "+----------+---------+\n",
      "|id_veiculo|  entrega|\n",
      "+----------+---------+\n",
      "|       298|Entrega 1|\n",
      "|       298|Entrega 2|\n",
      "|       298|Entrega 3|\n",
      "|       298|Entrega 4|\n",
      "|       298|Entrega 5|\n",
      "|       298|Entrega 6|\n",
      "|       298|Entrega 7|\n",
      "|       315|Entrega 1|\n",
      "|       315|Entrega 2|\n",
      "|       315|Entrega 3|\n",
      "+----------+---------+\n",
      "only showing top 10 rows\n",
      "\n"
     ]
    }
   ],
   "source": [
    "# Função col é uma forma de realizar as queries\n",
    "from pyspark.sql.functions import col\n",
    "df.select(col('id_veiculo'), col('entrega')).show(10)"
   ]
  },
  {
   "cell_type": "code",
   "execution_count": 25,
   "id": "0d34b7e1",
   "metadata": {},
   "outputs": [
    {
     "name": "stdout",
     "output_type": "stream",
     "text": [
      "+----------+---------+\n",
      "|id_veiculo|  entrega|\n",
      "+----------+---------+\n",
      "|       298|Entrega 1|\n",
      "|       298|Entrega 2|\n",
      "|       298|Entrega 3|\n",
      "|       298|Entrega 4|\n",
      "|       298|Entrega 5|\n",
      "|       298|Entrega 6|\n",
      "|       298|Entrega 7|\n",
      "|       315|Entrega 1|\n",
      "|       315|Entrega 2|\n",
      "|       315|Entrega 3|\n",
      "+----------+---------+\n",
      "only showing top 10 rows\n",
      "\n"
     ]
    }
   ],
   "source": [
    "# Podemos juntar as colunas do df cujos nomes estejam em lista\n",
    "nomes_colunas = ['id_veiculo', 'entrega']\n",
    "df.select(*nomes_colunas).show(10)"
   ]
  },
  {
   "cell_type": "code",
   "execution_count": 27,
   "id": "f7795879",
   "metadata": {},
   "outputs": [
    {
     "name": "stdout",
     "output_type": "stream",
     "text": [
      "+----------+---------+\n",
      "|id_veiculo|  entrega|\n",
      "+----------+---------+\n",
      "|       298|Entrega 1|\n",
      "|       298|Entrega 2|\n",
      "|       298|Entrega 3|\n",
      "|       298|Entrega 4|\n",
      "|       298|Entrega 5|\n",
      "|       298|Entrega 6|\n",
      "|       298|Entrega 7|\n",
      "|       315|Entrega 1|\n",
      "|       315|Entrega 2|\n",
      "|       315|Entrega 3|\n",
      "+----------+---------+\n",
      "only showing top 10 rows\n",
      "\n"
     ]
    }
   ],
   "source": [
    "# Mesmo exemplo anterior, porém com list comprehension\n",
    "df.select([coluna for coluna in nomes_colunas]).show(10)"
   ]
  },
  {
   "cell_type": "code",
   "execution_count": 33,
   "id": "d8ffca95",
   "metadata": {},
   "outputs": [
    {
     "name": "stdout",
     "output_type": "stream",
     "text": [
      "+----------+\n",
      "|id_veiculo|\n",
      "+----------+\n",
      "|       298|\n",
      "|       298|\n",
      "|       298|\n",
      "|       298|\n",
      "|       298|\n",
      "|       298|\n",
      "|       298|\n",
      "|       315|\n",
      "|       315|\n",
      "|       315|\n",
      "+----------+\n",
      "only showing top 10 rows\n",
      "\n"
     ]
    }
   ],
   "source": [
    "# Seleção de colunas pelo indice\n",
    "df.select(df.columns[:1]).show(10)"
   ]
  },
  {
   "cell_type": "code",
   "execution_count": 37,
   "id": "c537857f",
   "metadata": {},
   "outputs": [
    {
     "name": "stdout",
     "output_type": "stream",
     "text": [
      "+-------+---------+\n",
      "|veiculo|  entrega|\n",
      "+-------+---------+\n",
      "|    298|Entrega 1|\n",
      "|    298|Entrega 2|\n",
      "|    298|Entrega 3|\n",
      "|    298|Entrega 4|\n",
      "|    298|Entrega 5|\n",
      "|    298|Entrega 6|\n",
      "|    298|Entrega 7|\n",
      "|    315|Entrega 1|\n",
      "|    315|Entrega 2|\n",
      "|    315|Entrega 3|\n",
      "+-------+---------+\n",
      "only showing top 10 rows\n",
      "\n"
     ]
    }
   ],
   "source": [
    "# Renomear coluna para melhorar compreensão\n",
    "df.select('id_veiculo','entrega').withColumnRenamed('id_veiculo', 'veiculo').show(10)"
   ]
  },
  {
   "cell_type": "code",
   "execution_count": 40,
   "id": "0bc456e3",
   "metadata": {},
   "outputs": [
    {
     "name": "stdout",
     "output_type": "stream",
     "text": [
      "+-------+---------+\n",
      "|veiculo|  entrega|\n",
      "+-------+---------+\n",
      "|    298|Entrega 1|\n",
      "|    298|Entrega 2|\n",
      "|    298|Entrega 3|\n",
      "|    298|Entrega 4|\n",
      "|    298|Entrega 5|\n",
      "|    298|Entrega 6|\n",
      "|    298|Entrega 7|\n",
      "|    315|Entrega 1|\n",
      "|    315|Entrega 2|\n",
      "|    315|Entrega 3|\n",
      "+-------+---------+\n",
      "only showing top 10 rows\n",
      "\n"
     ]
    }
   ],
   "source": [
    "# renomear colunas com alias\n",
    "df.select(col('id_veiculo').alias('veiculo'), 'entrega').show(10)"
   ]
  },
  {
   "cell_type": "code",
   "execution_count": 41,
   "id": "4b20a8a2",
   "metadata": {},
   "outputs": [
    {
     "name": "stdout",
     "output_type": "stream",
     "text": [
      "+---------+\n",
      "|  entrega|\n",
      "+---------+\n",
      "|Entrega 1|\n",
      "|Entrega 2|\n",
      "|Entrega 3|\n",
      "|Entrega 4|\n",
      "|Entrega 5|\n",
      "|Entrega 6|\n",
      "|Entrega 7|\n",
      "|Entrega 1|\n",
      "|Entrega 2|\n",
      "|Entrega 3|\n",
      "|Entrega 4|\n",
      "|Entrega 5|\n",
      "|Entrega 6|\n",
      "|Entrega 7|\n",
      "|Entrega 1|\n",
      "|Entrega 2|\n",
      "|Entrega 3|\n",
      "|Entrega 4|\n",
      "|Entrega 5|\n",
      "|Entrega 6|\n",
      "+---------+\n",
      "only showing top 20 rows\n",
      "\n"
     ]
    }
   ],
   "source": [
    "# Selecionando colunas através de REGEX\n",
    "df.select(df.colRegex(\"`^.*Entrega*`\")).show()"
   ]
  },
  {
   "cell_type": "markdown",
   "id": "2ce9e096",
   "metadata": {},
   "source": [
    "#### Função Collect()"
   ]
  },
  {
   "cell_type": "code",
   "execution_count": 42,
   "id": "dfe6bc80",
   "metadata": {},
   "outputs": [
    {
     "data": {
      "text/plain": [
       "[Row(id_veiculo='298', entrega='Entrega 1', horario='7:58a'),\n",
       " Row(id_veiculo='298', entrega='Entrega 2', horario='8:04a'),\n",
       " Row(id_veiculo='298', entrega='Entrega 3', horario='8:17a'),\n",
       " Row(id_veiculo='298', entrega='Entrega 4', horario='8:28a'),\n",
       " Row(id_veiculo='298', entrega='Entrega 5', horario='8:33a'),\n",
       " Row(id_veiculo='298', entrega='Entrega 6', horario='8:39a'),\n",
       " Row(id_veiculo='298', entrega='Entrega 7', horario='9:07a'),\n",
       " Row(id_veiculo='315', entrega='Entrega 1', horario='6:05a'),\n",
       " Row(id_veiculo='315', entrega='Entrega 2', horario='6:14a'),\n",
       " Row(id_veiculo='315', entrega='Entrega 3', horario='6:24a'),\n",
       " Row(id_veiculo='315', entrega='Entrega 4', horario='6:38a'),\n",
       " Row(id_veiculo='315', entrega='Entrega 5', horario='6:45a'),\n",
       " Row(id_veiculo='315', entrega='Entrega 6', horario='6:56a'),\n",
       " Row(id_veiculo='315', entrega='Entrega 7', horario='7:32a'),\n",
       " Row(id_veiculo='457', entrega='Entrega 1', horario='5:04a'),\n",
       " Row(id_veiculo='457', entrega='Entrega 2', horario='5:13a'),\n",
       " Row(id_veiculo='457', entrega='Entrega 3', horario='5:27a'),\n",
       " Row(id_veiculo='457', entrega='Entrega 4', horario='5:39a'),\n",
       " Row(id_veiculo='457', entrega='Entrega 5', horario='5:47a'),\n",
       " Row(id_veiculo='457', entrega='Entrega 6', horario='6:21a'),\n",
       " Row(id_veiculo='457', entrega='Entrega 7', horario='6:38a')]"
      ]
     },
     "execution_count": 42,
     "metadata": {},
     "output_type": "execute_result"
    }
   ],
   "source": [
    "df.collect()"
   ]
  },
  {
   "cell_type": "code",
   "execution_count": 43,
   "id": "f060cf96",
   "metadata": {},
   "outputs": [
    {
     "data": {
      "text/plain": [
       "list"
      ]
     },
     "execution_count": 43,
     "metadata": {},
     "output_type": "execute_result"
    }
   ],
   "source": [
    "# Verificando tipo\n",
    "new_df = df.collect()\n",
    "type(new_df)"
   ]
  },
  {
   "cell_type": "code",
   "execution_count": 47,
   "id": "0095cf0a",
   "metadata": {},
   "outputs": [
    {
     "data": {
      "text/plain": [
       "[Row(id_veiculo='298', entrega='Entrega 1', horario='7:58a'),\n",
       " Row(id_veiculo='298', entrega='Entrega 2', horario='8:04a'),\n",
       " Row(id_veiculo='298', entrega='Entrega 3', horario='8:17a')]"
      ]
     },
     "execution_count": 47,
     "metadata": {},
     "output_type": "execute_result"
    }
   ],
   "source": [
    "# Fatiando a lista \n",
    "df.collect()[:3]"
   ]
  },
  {
   "cell_type": "code",
   "execution_count": 49,
   "id": "d693d67f",
   "metadata": {},
   "outputs": [
    {
     "data": {
      "text/plain": [
       "'6:14a'"
      ]
     },
     "execution_count": 49,
     "metadata": {},
     "output_type": "execute_result"
    }
   ],
   "source": [
    "df.collect()[8][2]"
   ]
  },
  {
   "cell_type": "code",
   "execution_count": 53,
   "id": "fe3b700f",
   "metadata": {},
   "outputs": [
    {
     "name": "stdout",
     "output_type": "stream",
     "text": [
      "298,Entrega 1\n",
      "298,Entrega 2\n",
      "298,Entrega 3\n",
      "298,Entrega 4\n",
      "298,Entrega 5\n",
      "298,Entrega 6\n",
      "298,Entrega 7\n",
      "315,Entrega 1\n",
      "315,Entrega 2\n",
      "315,Entrega 3\n",
      "315,Entrega 4\n",
      "315,Entrega 5\n",
      "315,Entrega 6\n",
      "315,Entrega 7\n",
      "457,Entrega 1\n",
      "457,Entrega 2\n",
      "457,Entrega 3\n",
      "457,Entrega 4\n",
      "457,Entrega 5\n",
      "457,Entrega 6\n",
      "457,Entrega 7\n"
     ]
    }
   ],
   "source": [
    "# Com Collect retorna uma lista, podemos percorrer a lista com um loop e concatenar as colunas\n",
    "for row in df.collect():\n",
    "    print(row['id_veiculo'] + \",\" + str(row['entrega']))"
   ]
  },
  {
   "cell_type": "code",
   "execution_count": 55,
   "id": "b2dbb36c",
   "metadata": {},
   "outputs": [
    {
     "data": {
      "text/plain": [
       "[Row(id_veiculo='298'),\n",
       " Row(id_veiculo='298'),\n",
       " Row(id_veiculo='298'),\n",
       " Row(id_veiculo='298')]"
      ]
     },
     "execution_count": 55,
     "metadata": {},
     "output_type": "execute_result"
    }
   ],
   "source": [
    "# Filtrar colunas com select e filtrar linhas com collect\n",
    "dataCollect = df.select('id_veiculo').collect()[0:4][:]\n",
    "dataCollect"
   ]
  },
  {
   "cell_type": "code",
   "execution_count": 58,
   "id": "f2d0b1c2",
   "metadata": {},
   "outputs": [
    {
     "data": {
      "text/plain": [
       "[Row(id_veiculo='298', entrega='Entrega 1', horario='7:58a'),\n",
       " Row(id_veiculo='298', entrega='Entrega 2', horario='8:04a'),\n",
       " Row(id_veiculo='298', entrega='Entrega 3', horario='8:17a'),\n",
       " Row(id_veiculo='298', entrega='Entrega 4', horario='8:28a'),\n",
       " Row(id_veiculo='298', entrega='Entrega 6', horario='8:39a'),\n",
       " Row(id_veiculo='298', entrega='Entrega 7', horario='9:07a'),\n",
       " Row(id_veiculo='315', entrega='Entrega 4', horario='6:38a'),\n",
       " Row(id_veiculo='315', entrega='Entrega 5', horario='6:45a'),\n",
       " Row(id_veiculo='315', entrega='Entrega 6', horario='6:56a'),\n",
       " Row(id_veiculo='315', entrega='Entrega 7', horario='7:32a'),\n",
       " Row(id_veiculo='457', entrega='Entrega 1', horario='5:04a'),\n",
       " Row(id_veiculo='457', entrega='Entrega 3', horario='5:27a'),\n",
       " Row(id_veiculo='457', entrega='Entrega 4', horario='5:39a'),\n",
       " Row(id_veiculo='457', entrega='Entrega 7', horario='6:38a')]"
      ]
     },
     "execution_count": 58,
     "metadata": {},
     "output_type": "execute_result"
    }
   ],
   "source": [
    "df.sample(0.6).collect()"
   ]
  },
  {
   "cell_type": "code",
   "execution_count": null,
   "id": "a648795a",
   "metadata": {},
   "outputs": [],
   "source": []
  }
 ],
 "metadata": {
  "kernelspec": {
   "display_name": "Python 3 (ipykernel)",
   "language": "python",
   "name": "python3"
  },
  "language_info": {
   "codemirror_mode": {
    "name": "ipython",
    "version": 3
   },
   "file_extension": ".py",
   "mimetype": "text/x-python",
   "name": "python",
   "nbconvert_exporter": "python",
   "pygments_lexer": "ipython3",
   "version": "3.9.13"
  }
 },
 "nbformat": 4,
 "nbformat_minor": 5
}
