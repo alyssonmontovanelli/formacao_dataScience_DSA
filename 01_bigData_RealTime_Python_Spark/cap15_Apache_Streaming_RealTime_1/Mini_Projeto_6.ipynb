{
 "cells": [
  {
   "cell_type": "markdown",
   "id": "6064bed5",
   "metadata": {},
   "source": [
    "# Análise de Dados de Sensores IoT em tempo Real com Apache Spark Streaming e Apache Kafka"
   ]
  },
  {
   "cell_type": "markdown",
   "id": "3494832a",
   "metadata": {},
   "source": [
    "IoT - Internet das Coisas (basicamente todos os dispositivos conectados)"
   ]
  },
  {
   "cell_type": "code",
   "execution_count": null,
   "id": "92d05806",
   "metadata": {},
   "outputs": [],
   "source": []
  }
 ],
 "metadata": {
  "kernelspec": {
   "display_name": "Python 3 (ipykernel)",
   "language": "python",
   "name": "python3"
  },
  "language_info": {
   "codemirror_mode": {
    "name": "ipython",
    "version": 3
   },
   "file_extension": ".py",
   "mimetype": "text/x-python",
   "name": "python",
   "nbconvert_exporter": "python",
   "pygments_lexer": "ipython3",
   "version": "3.9.13"
  }
 },
 "nbformat": 4,
 "nbformat_minor": 5
}
