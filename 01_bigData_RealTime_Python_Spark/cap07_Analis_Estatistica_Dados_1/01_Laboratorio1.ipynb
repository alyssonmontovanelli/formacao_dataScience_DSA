{
 "cells": [
  {
   "cell_type": "code",
   "execution_count": 1,
   "id": "0493e6b4",
   "metadata": {},
   "outputs": [],
   "source": [
    "import pandas as pd"
   ]
  },
  {
   "cell_type": "code",
   "execution_count": 2,
   "id": "50a05ab4",
   "metadata": {},
   "outputs": [],
   "source": [
    "# Lista de notas dos alunos\n",
    "notas_alunos = [92,81,100,92,71,73,100,92,84,100,73,92,73,84,92,92,92,84,73,100]"
   ]
  },
  {
   "cell_type": "code",
   "execution_count": 3,
   "id": "993eb2ed",
   "metadata": {},
   "outputs": [
    {
     "data": {
      "text/plain": [
       "20"
      ]
     },
     "execution_count": 3,
     "metadata": {},
     "output_type": "execute_result"
    }
   ],
   "source": [
    "len(notas_alunos)"
   ]
  },
  {
   "cell_type": "code",
   "execution_count": 16,
   "id": "f1f7c481",
   "metadata": {},
   "outputs": [
    {
     "data": {
      "text/html": [
       "<div>\n",
       "<style scoped>\n",
       "    .dataframe tbody tr th:only-of-type {\n",
       "        vertical-align: middle;\n",
       "    }\n",
       "\n",
       "    .dataframe tbody tr th {\n",
       "        vertical-align: top;\n",
       "    }\n",
       "\n",
       "    .dataframe thead th {\n",
       "        text-align: right;\n",
       "    }\n",
       "</style>\n",
       "<table border=\"1\" class=\"dataframe\">\n",
       "  <thead>\n",
       "    <tr style=\"text-align: right;\">\n",
       "      <th></th>\n",
       "      <th>Nota</th>\n",
       "      <th>Frequência</th>\n",
       "    </tr>\n",
       "  </thead>\n",
       "  <tbody>\n",
       "    <tr>\n",
       "      <th>0</th>\n",
       "      <td>71</td>\n",
       "      <td>1</td>\n",
       "    </tr>\n",
       "    <tr>\n",
       "      <th>1</th>\n",
       "      <td>73</td>\n",
       "      <td>4</td>\n",
       "    </tr>\n",
       "    <tr>\n",
       "      <th>2</th>\n",
       "      <td>81</td>\n",
       "      <td>1</td>\n",
       "    </tr>\n",
       "    <tr>\n",
       "      <th>3</th>\n",
       "      <td>84</td>\n",
       "      <td>3</td>\n",
       "    </tr>\n",
       "    <tr>\n",
       "      <th>4</th>\n",
       "      <td>92</td>\n",
       "      <td>7</td>\n",
       "    </tr>\n",
       "    <tr>\n",
       "      <th>5</th>\n",
       "      <td>100</td>\n",
       "      <td>4</td>\n",
       "    </tr>\n",
       "  </tbody>\n",
       "</table>\n",
       "</div>"
      ],
      "text/plain": [
       "   Nota  Frequência\n",
       "0    71           1\n",
       "1    73           4\n",
       "2    81           1\n",
       "3    84           3\n",
       "4    92           7\n",
       "5   100           4"
      ]
     },
     "execution_count": 16,
     "metadata": {},
     "output_type": "execute_result"
    }
   ],
   "source": [
    "# Solução em Serie Pandas\n",
    "df1 = pd.Series(notas_alunos).value_counts().reset_index().sort_values('index').reset_index( drop = True)\n",
    "df1.columns = ['Nota', 'Frequência']\n",
    "df1"
   ]
  },
  {
   "cell_type": "code",
   "execution_count": 17,
   "id": "c4c8b269",
   "metadata": {},
   "outputs": [
    {
     "data": {
      "text/html": [
       "<div>\n",
       "<style scoped>\n",
       "    .dataframe tbody tr th:only-of-type {\n",
       "        vertical-align: middle;\n",
       "    }\n",
       "\n",
       "    .dataframe tbody tr th {\n",
       "        vertical-align: top;\n",
       "    }\n",
       "\n",
       "    .dataframe thead th {\n",
       "        text-align: right;\n",
       "    }\n",
       "</style>\n",
       "<table border=\"1\" class=\"dataframe\">\n",
       "  <thead>\n",
       "    <tr style=\"text-align: right;\">\n",
       "      <th></th>\n",
       "      <th>Nota</th>\n",
       "      <th>Frequência</th>\n",
       "    </tr>\n",
       "  </thead>\n",
       "  <tbody>\n",
       "    <tr>\n",
       "      <th>0</th>\n",
       "      <td>(70.97, 80.667]</td>\n",
       "      <td>5</td>\n",
       "    </tr>\n",
       "    <tr>\n",
       "      <th>1</th>\n",
       "      <td>(80.667, 90.333]</td>\n",
       "      <td>4</td>\n",
       "    </tr>\n",
       "    <tr>\n",
       "      <th>2</th>\n",
       "      <td>(90.333, 100.0]</td>\n",
       "      <td>11</td>\n",
       "    </tr>\n",
       "  </tbody>\n",
       "</table>\n",
       "</div>"
      ],
      "text/plain": [
       "               Nota  Frequência\n",
       "0   (70.97, 80.667]           5\n",
       "1  (80.667, 90.333]           4\n",
       "2   (90.333, 100.0]          11"
      ]
     },
     "execution_count": 17,
     "metadata": {},
     "output_type": "execute_result"
    }
   ],
   "source": [
    "# Utilizando bins para pegar faixas de valor\n",
    "df2 = pd.Series(notas_alunos).value_counts(bins = 3).reset_index().sort_values('index').reset_index( drop = True)\n",
    "df2.columns = ['Nota', 'Frequência']\n",
    "df2"
   ]
  },
  {
   "cell_type": "markdown",
   "id": "b6039fd8",
   "metadata": {},
   "source": [
    "# Dataframe do pandas"
   ]
  },
  {
   "cell_type": "markdown",
   "id": "72abb439",
   "metadata": {},
   "source": [
    "### Frequência Simples ou Absoluta - fi"
   ]
  },
  {
   "cell_type": "code",
   "execution_count": 18,
   "id": "32126785",
   "metadata": {},
   "outputs": [
    {
     "name": "stdout",
     "output_type": "stream",
     "text": [
      "      fi\n",
      "Nota    \n",
      "71     1\n",
      "73     4\n",
      "81     1\n",
      "84     3\n",
      "92     7\n",
      "100    4\n"
     ]
    }
   ],
   "source": [
    "df3 = pd.value_counts(notas_alunos).to_frame(name = \"fi\").rename_axis('Nota').sort_index()\n",
    "print(df3)"
   ]
  },
  {
   "cell_type": "markdown",
   "id": "17aac2c2",
   "metadata": {},
   "source": [
    "### Frequência Relativa Simples - fri"
   ]
  },
  {
   "cell_type": "code",
   "execution_count": 22,
   "id": "2a4fee80",
   "metadata": {},
   "outputs": [
    {
     "data": {
      "text/html": [
       "<div>\n",
       "<style scoped>\n",
       "    .dataframe tbody tr th:only-of-type {\n",
       "        vertical-align: middle;\n",
       "    }\n",
       "\n",
       "    .dataframe tbody tr th {\n",
       "        vertical-align: top;\n",
       "    }\n",
       "\n",
       "    .dataframe thead th {\n",
       "        text-align: right;\n",
       "    }\n",
       "</style>\n",
       "<table border=\"1\" class=\"dataframe\">\n",
       "  <thead>\n",
       "    <tr style=\"text-align: right;\">\n",
       "      <th></th>\n",
       "      <th>fi</th>\n",
       "      <th>fri</th>\n",
       "    </tr>\n",
       "    <tr>\n",
       "      <th>Nota</th>\n",
       "      <th></th>\n",
       "      <th></th>\n",
       "    </tr>\n",
       "  </thead>\n",
       "  <tbody>\n",
       "    <tr>\n",
       "      <th>71</th>\n",
       "      <td>1</td>\n",
       "      <td>0.05</td>\n",
       "    </tr>\n",
       "    <tr>\n",
       "      <th>73</th>\n",
       "      <td>4</td>\n",
       "      <td>0.20</td>\n",
       "    </tr>\n",
       "    <tr>\n",
       "      <th>81</th>\n",
       "      <td>1</td>\n",
       "      <td>0.05</td>\n",
       "    </tr>\n",
       "    <tr>\n",
       "      <th>84</th>\n",
       "      <td>3</td>\n",
       "      <td>0.15</td>\n",
       "    </tr>\n",
       "    <tr>\n",
       "      <th>92</th>\n",
       "      <td>7</td>\n",
       "      <td>0.35</td>\n",
       "    </tr>\n",
       "    <tr>\n",
       "      <th>100</th>\n",
       "      <td>4</td>\n",
       "      <td>0.20</td>\n",
       "    </tr>\n",
       "  </tbody>\n",
       "</table>\n",
       "</div>"
      ],
      "text/plain": [
       "      fi   fri\n",
       "Nota          \n",
       "71     1  0.05\n",
       "73     4  0.20\n",
       "81     1  0.05\n",
       "84     3  0.15\n",
       "92     7  0.35\n",
       "100    4  0.20"
      ]
     },
     "execution_count": 22,
     "metadata": {},
     "output_type": "execute_result"
    }
   ],
   "source": [
    "df3['fri'] = pd.value_counts(notas_alunos) / len(notas_alunos)\n",
    "df3"
   ]
  },
  {
   "cell_type": "markdown",
   "id": "5e34b522",
   "metadata": {},
   "source": [
    "### Frequência Acumulada - Fi"
   ]
  },
  {
   "cell_type": "code",
   "execution_count": 23,
   "id": "9577caec",
   "metadata": {},
   "outputs": [
    {
     "name": "stdout",
     "output_type": "stream",
     "text": [
      "      fi   fri  FI\n",
      "Nota              \n",
      "71     1  0.05   1\n",
      "73     4  0.20   5\n",
      "81     1  0.05   6\n",
      "84     3  0.15   9\n",
      "92     7  0.35  16\n",
      "100    4  0.20  20\n"
     ]
    }
   ],
   "source": [
    "df3['FI'] = df3.fi.cumsum()\n",
    "print(df3)"
   ]
  }
 ],
 "metadata": {
  "kernelspec": {
   "display_name": "Python 3 (ipykernel)",
   "language": "python",
   "name": "python3"
  },
  "language_info": {
   "codemirror_mode": {
    "name": "ipython",
    "version": 3
   },
   "file_extension": ".py",
   "mimetype": "text/x-python",
   "name": "python",
   "nbconvert_exporter": "python",
   "pygments_lexer": "ipython3",
   "version": "3.9.13"
  }
 },
 "nbformat": 4,
 "nbformat_minor": 5
}
