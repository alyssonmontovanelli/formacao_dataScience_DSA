{
 "cells": [
  {
   "cell_type": "code",
   "execution_count": 3,
   "id": "103df1b2",
   "metadata": {},
   "outputs": [],
   "source": [
    "import scipy\n",
    "import numpy as np\n",
    "import pandas as pd\n",
    "import matplotlib.pyplot as plt\n",
    "import seaborn as sns\n",
    "from scipy import stats"
   ]
  },
  {
   "cell_type": "code",
   "execution_count": 4,
   "id": "7f3993f5",
   "metadata": {},
   "outputs": [],
   "source": [
    "# Carregando DataSet \n",
    "df = pd.read_csv('dados/dataset.csv')"
   ]
  },
  {
   "cell_type": "code",
   "execution_count": 5,
   "id": "f345ad6c",
   "metadata": {},
   "outputs": [
    {
     "data": {
      "text/plain": [
       "(11000, 12)"
      ]
     },
     "execution_count": 5,
     "metadata": {},
     "output_type": "execute_result"
    }
   ],
   "source": [
    "df.shape"
   ]
  },
  {
   "cell_type": "code",
   "execution_count": 6,
   "id": "8121c255",
   "metadata": {},
   "outputs": [
    {
     "data": {
      "text/html": [
       "<div>\n",
       "<style scoped>\n",
       "    .dataframe tbody tr th:only-of-type {\n",
       "        vertical-align: middle;\n",
       "    }\n",
       "\n",
       "    .dataframe tbody tr th {\n",
       "        vertical-align: top;\n",
       "    }\n",
       "\n",
       "    .dataframe thead th {\n",
       "        text-align: right;\n",
       "    }\n",
       "</style>\n",
       "<table border=\"1\" class=\"dataframe\">\n",
       "  <thead>\n",
       "    <tr style=\"text-align: right;\">\n",
       "      <th></th>\n",
       "      <th>ID</th>\n",
       "      <th>corredor_armazem</th>\n",
       "      <th>modo_envio</th>\n",
       "      <th>numero_chamadas_cliente</th>\n",
       "      <th>avaliacao_cliente</th>\n",
       "      <th>custo_produto</th>\n",
       "      <th>compras_anteriores</th>\n",
       "      <th>prioridade_produto</th>\n",
       "      <th>genero</th>\n",
       "      <th>desconto</th>\n",
       "      <th>peso_gramas</th>\n",
       "      <th>entregue_no_prazo</th>\n",
       "    </tr>\n",
       "  </thead>\n",
       "  <tbody>\n",
       "    <tr>\n",
       "      <th>0</th>\n",
       "      <td>1</td>\n",
       "      <td>D</td>\n",
       "      <td>Aviao</td>\n",
       "      <td>4</td>\n",
       "      <td>2</td>\n",
       "      <td>177</td>\n",
       "      <td>3</td>\n",
       "      <td>baixa</td>\n",
       "      <td>F</td>\n",
       "      <td>44</td>\n",
       "      <td>1233</td>\n",
       "      <td>1</td>\n",
       "    </tr>\n",
       "    <tr>\n",
       "      <th>1</th>\n",
       "      <td>2</td>\n",
       "      <td>F</td>\n",
       "      <td>Aviao</td>\n",
       "      <td>4</td>\n",
       "      <td>5</td>\n",
       "      <td>216</td>\n",
       "      <td>2</td>\n",
       "      <td>baixa</td>\n",
       "      <td>M</td>\n",
       "      <td>59</td>\n",
       "      <td>3088</td>\n",
       "      <td>1</td>\n",
       "    </tr>\n",
       "    <tr>\n",
       "      <th>2</th>\n",
       "      <td>3</td>\n",
       "      <td>A</td>\n",
       "      <td>Aviao</td>\n",
       "      <td>2</td>\n",
       "      <td>2</td>\n",
       "      <td>183</td>\n",
       "      <td>4</td>\n",
       "      <td>baixa</td>\n",
       "      <td>M</td>\n",
       "      <td>48</td>\n",
       "      <td>3374</td>\n",
       "      <td>1</td>\n",
       "    </tr>\n",
       "    <tr>\n",
       "      <th>3</th>\n",
       "      <td>4</td>\n",
       "      <td>B</td>\n",
       "      <td>Aviao</td>\n",
       "      <td>3</td>\n",
       "      <td>3</td>\n",
       "      <td>176</td>\n",
       "      <td>4</td>\n",
       "      <td>media</td>\n",
       "      <td>M</td>\n",
       "      <td>10</td>\n",
       "      <td>1177</td>\n",
       "      <td>1</td>\n",
       "    </tr>\n",
       "    <tr>\n",
       "      <th>4</th>\n",
       "      <td>5</td>\n",
       "      <td>C</td>\n",
       "      <td>Aviao</td>\n",
       "      <td>2</td>\n",
       "      <td>2</td>\n",
       "      <td>184</td>\n",
       "      <td>3</td>\n",
       "      <td>media</td>\n",
       "      <td>F</td>\n",
       "      <td>46</td>\n",
       "      <td>2484</td>\n",
       "      <td>1</td>\n",
       "    </tr>\n",
       "  </tbody>\n",
       "</table>\n",
       "</div>"
      ],
      "text/plain": [
       "   ID corredor_armazem modo_envio  numero_chamadas_cliente  avaliacao_cliente  \\\n",
       "0   1                D      Aviao                        4                  2   \n",
       "1   2                F      Aviao                        4                  5   \n",
       "2   3                A      Aviao                        2                  2   \n",
       "3   4                B      Aviao                        3                  3   \n",
       "4   5                C      Aviao                        2                  2   \n",
       "\n",
       "   custo_produto  compras_anteriores prioridade_produto genero  desconto  \\\n",
       "0            177                   3              baixa      F        44   \n",
       "1            216                   2              baixa      M        59   \n",
       "2            183                   4              baixa      M        48   \n",
       "3            176                   4              media      M        10   \n",
       "4            184                   3              media      F        46   \n",
       "\n",
       "   peso_gramas  entregue_no_prazo  \n",
       "0         1233                  1  \n",
       "1         3088                  1  \n",
       "2         3374                  1  \n",
       "3         1177                  1  \n",
       "4         2484                  1  "
      ]
     },
     "execution_count": 6,
     "metadata": {},
     "output_type": "execute_result"
    }
   ],
   "source": [
    "df.head()"
   ]
  },
  {
   "cell_type": "code",
   "execution_count": 7,
   "id": "a2d8dfa3",
   "metadata": {},
   "outputs": [
    {
     "name": "stdout",
     "output_type": "stream",
     "text": [
      "<class 'pandas.core.frame.DataFrame'>\n",
      "RangeIndex: 11000 entries, 0 to 10999\n",
      "Data columns (total 12 columns):\n",
      " #   Column                   Non-Null Count  Dtype \n",
      "---  ------                   --------------  ----- \n",
      " 0   ID                       11000 non-null  int64 \n",
      " 1   corredor_armazem         11000 non-null  object\n",
      " 2   modo_envio               11000 non-null  object\n",
      " 3   numero_chamadas_cliente  11000 non-null  int64 \n",
      " 4   avaliacao_cliente        11000 non-null  int64 \n",
      " 5   custo_produto            11000 non-null  int64 \n",
      " 6   compras_anteriores       11000 non-null  int64 \n",
      " 7   prioridade_produto       11000 non-null  object\n",
      " 8   genero                   11000 non-null  object\n",
      " 9   desconto                 11000 non-null  int64 \n",
      " 10  peso_gramas              11000 non-null  int64 \n",
      " 11  entregue_no_prazo        11000 non-null  int64 \n",
      "dtypes: int64(8), object(4)\n",
      "memory usage: 1.0+ MB\n"
     ]
    }
   ],
   "source": [
    "df.info()"
   ]
  },
  {
   "cell_type": "code",
   "execution_count": 8,
   "id": "beccdd48",
   "metadata": {},
   "outputs": [
    {
     "data": {
      "text/plain": [
       "Index(['ID', 'corredor_armazem', 'modo_envio', 'numero_chamadas_cliente',\n",
       "       'avaliacao_cliente', 'custo_produto', 'compras_anteriores',\n",
       "       'prioridade_produto', 'genero', 'desconto', 'peso_gramas',\n",
       "       'entregue_no_prazo'],\n",
       "      dtype='object')"
      ]
     },
     "execution_count": 8,
     "metadata": {},
     "output_type": "execute_result"
    }
   ],
   "source": [
    "df.columns"
   ]
  },
  {
   "cell_type": "code",
   "execution_count": 9,
   "id": "6d361ae3",
   "metadata": {},
   "outputs": [],
   "source": [
    "cats = ['corredor_armazem', 'modo_envio', 'prioridade_produto', 'genero']"
   ]
  },
  {
   "cell_type": "code",
   "execution_count": 10,
   "id": "60435a41",
   "metadata": {},
   "outputs": [],
   "source": [
    "nums = ['numero_chamadas_cliente', 'avaliacao_cliente', 'custo_produto', 'compras_anteriores', \n",
    "        'desconto', 'peso_gramas']"
   ]
  },
  {
   "cell_type": "code",
   "execution_count": 11,
   "id": "b98d1788",
   "metadata": {},
   "outputs": [],
   "source": [
    "target = ['entregue_no_prazo'] # Variável alvo"
   ]
  },
  {
   "cell_type": "code",
   "execution_count": 12,
   "id": "7a85854a",
   "metadata": {},
   "outputs": [
    {
     "data": {
      "text/html": [
       "<div>\n",
       "<style scoped>\n",
       "    .dataframe tbody tr th:only-of-type {\n",
       "        vertical-align: middle;\n",
       "    }\n",
       "\n",
       "    .dataframe tbody tr th {\n",
       "        vertical-align: top;\n",
       "    }\n",
       "\n",
       "    .dataframe thead th {\n",
       "        text-align: right;\n",
       "    }\n",
       "</style>\n",
       "<table border=\"1\" class=\"dataframe\">\n",
       "  <thead>\n",
       "    <tr style=\"text-align: right;\">\n",
       "      <th></th>\n",
       "      <th>numero_chamadas_cliente</th>\n",
       "      <th>avaliacao_cliente</th>\n",
       "      <th>custo_produto</th>\n",
       "      <th>compras_anteriores</th>\n",
       "      <th>desconto</th>\n",
       "      <th>peso_gramas</th>\n",
       "    </tr>\n",
       "  </thead>\n",
       "  <tbody>\n",
       "    <tr>\n",
       "      <th>count</th>\n",
       "      <td>11000.000000</td>\n",
       "      <td>11000.000000</td>\n",
       "      <td>11000.000000</td>\n",
       "      <td>11000.000000</td>\n",
       "      <td>11000.000000</td>\n",
       "      <td>11000.000000</td>\n",
       "    </tr>\n",
       "    <tr>\n",
       "      <th>mean</th>\n",
       "      <td>4.054455</td>\n",
       "      <td>2.990455</td>\n",
       "      <td>210.200909</td>\n",
       "      <td>3.567727</td>\n",
       "      <td>13.372545</td>\n",
       "      <td>3633.844455</td>\n",
       "    </tr>\n",
       "    <tr>\n",
       "      <th>std</th>\n",
       "      <td>1.141438</td>\n",
       "      <td>1.413570</td>\n",
       "      <td>48.062985</td>\n",
       "      <td>1.522852</td>\n",
       "      <td>16.204943</td>\n",
       "      <td>1635.402722</td>\n",
       "    </tr>\n",
       "    <tr>\n",
       "      <th>min</th>\n",
       "      <td>2.000000</td>\n",
       "      <td>1.000000</td>\n",
       "      <td>96.000000</td>\n",
       "      <td>2.000000</td>\n",
       "      <td>1.000000</td>\n",
       "      <td>1001.000000</td>\n",
       "    </tr>\n",
       "    <tr>\n",
       "      <th>25%</th>\n",
       "      <td>3.000000</td>\n",
       "      <td>2.000000</td>\n",
       "      <td>169.000000</td>\n",
       "      <td>3.000000</td>\n",
       "      <td>4.000000</td>\n",
       "      <td>1839.000000</td>\n",
       "    </tr>\n",
       "    <tr>\n",
       "      <th>50%</th>\n",
       "      <td>4.000000</td>\n",
       "      <td>3.000000</td>\n",
       "      <td>214.000000</td>\n",
       "      <td>3.000000</td>\n",
       "      <td>7.000000</td>\n",
       "      <td>4149.000000</td>\n",
       "    </tr>\n",
       "    <tr>\n",
       "      <th>75%</th>\n",
       "      <td>5.000000</td>\n",
       "      <td>4.000000</td>\n",
       "      <td>251.000000</td>\n",
       "      <td>4.000000</td>\n",
       "      <td>10.000000</td>\n",
       "      <td>5050.000000</td>\n",
       "    </tr>\n",
       "    <tr>\n",
       "      <th>max</th>\n",
       "      <td>7.000000</td>\n",
       "      <td>5.000000</td>\n",
       "      <td>310.000000</td>\n",
       "      <td>10.000000</td>\n",
       "      <td>65.000000</td>\n",
       "      <td>7846.000000</td>\n",
       "    </tr>\n",
       "  </tbody>\n",
       "</table>\n",
       "</div>"
      ],
      "text/plain": [
       "       numero_chamadas_cliente  avaliacao_cliente  custo_produto  \\\n",
       "count             11000.000000       11000.000000   11000.000000   \n",
       "mean                  4.054455           2.990455     210.200909   \n",
       "std                   1.141438           1.413570      48.062985   \n",
       "min                   2.000000           1.000000      96.000000   \n",
       "25%                   3.000000           2.000000     169.000000   \n",
       "50%                   4.000000           3.000000     214.000000   \n",
       "75%                   5.000000           4.000000     251.000000   \n",
       "max                   7.000000           5.000000     310.000000   \n",
       "\n",
       "       compras_anteriores      desconto   peso_gramas  \n",
       "count        11000.000000  11000.000000  11000.000000  \n",
       "mean             3.567727     13.372545   3633.844455  \n",
       "std              1.522852     16.204943   1635.402722  \n",
       "min              2.000000      1.000000   1001.000000  \n",
       "25%              3.000000      4.000000   1839.000000  \n",
       "50%              3.000000      7.000000   4149.000000  \n",
       "75%              4.000000     10.000000   5050.000000  \n",
       "max             10.000000     65.000000   7846.000000  "
      ]
     },
     "execution_count": 12,
     "metadata": {},
     "output_type": "execute_result"
    }
   ],
   "source": [
    "df[nums].describe()"
   ]
  },
  {
   "cell_type": "code",
   "execution_count": 13,
   "id": "5166ec69",
   "metadata": {},
   "outputs": [
    {
     "data": {
      "text/html": [
       "<div>\n",
       "<style scoped>\n",
       "    .dataframe tbody tr th:only-of-type {\n",
       "        vertical-align: middle;\n",
       "    }\n",
       "\n",
       "    .dataframe tbody tr th {\n",
       "        vertical-align: top;\n",
       "    }\n",
       "\n",
       "    .dataframe thead th {\n",
       "        text-align: right;\n",
       "    }\n",
       "</style>\n",
       "<table border=\"1\" class=\"dataframe\">\n",
       "  <thead>\n",
       "    <tr style=\"text-align: right;\">\n",
       "      <th></th>\n",
       "      <th>corredor_armazem</th>\n",
       "      <th>modo_envio</th>\n",
       "      <th>prioridade_produto</th>\n",
       "      <th>genero</th>\n",
       "    </tr>\n",
       "  </thead>\n",
       "  <tbody>\n",
       "    <tr>\n",
       "      <th>count</th>\n",
       "      <td>11000</td>\n",
       "      <td>11000</td>\n",
       "      <td>11000</td>\n",
       "      <td>11000</td>\n",
       "    </tr>\n",
       "    <tr>\n",
       "      <th>unique</th>\n",
       "      <td>5</td>\n",
       "      <td>3</td>\n",
       "      <td>3</td>\n",
       "      <td>2</td>\n",
       "    </tr>\n",
       "    <tr>\n",
       "      <th>top</th>\n",
       "      <td>F</td>\n",
       "      <td>Navio</td>\n",
       "      <td>baixa</td>\n",
       "      <td>F</td>\n",
       "    </tr>\n",
       "    <tr>\n",
       "      <th>freq</th>\n",
       "      <td>3666</td>\n",
       "      <td>7463</td>\n",
       "      <td>5298</td>\n",
       "      <td>5546</td>\n",
       "    </tr>\n",
       "  </tbody>\n",
       "</table>\n",
       "</div>"
      ],
      "text/plain": [
       "       corredor_armazem modo_envio prioridade_produto genero\n",
       "count             11000      11000              11000  11000\n",
       "unique                5          3                  3      2\n",
       "top                   F      Navio              baixa      F\n",
       "freq               3666       7463               5298   5546"
      ]
     },
     "execution_count": 13,
     "metadata": {},
     "output_type": "execute_result"
    }
   ],
   "source": [
    "df[cats].describe()"
   ]
  },
  {
   "cell_type": "code",
   "execution_count": 14,
   "id": "efba6d2a",
   "metadata": {},
   "outputs": [
    {
     "data": {
      "text/plain": [
       "entregue_no_prazo\n",
       "1                    6563\n",
       "0                    4437\n",
       "Name: count, dtype: int64"
      ]
     },
     "execution_count": 14,
     "metadata": {},
     "output_type": "execute_result"
    }
   ],
   "source": [
    "df[target].value_counts()"
   ]
  },
  {
   "cell_type": "markdown",
   "id": "6d1261d5",
   "metadata": {},
   "source": [
    "### Limpeza de Dados"
   ]
  },
  {
   "cell_type": "code",
   "execution_count": 15,
   "id": "ab4c34c6",
   "metadata": {},
   "outputs": [
    {
     "data": {
      "text/plain": [
       "ID                         0\n",
       "corredor_armazem           0\n",
       "modo_envio                 0\n",
       "numero_chamadas_cliente    0\n",
       "avaliacao_cliente          0\n",
       "custo_produto              0\n",
       "compras_anteriores         0\n",
       "prioridade_produto         0\n",
       "genero                     0\n",
       "desconto                   0\n",
       "peso_gramas                0\n",
       "entregue_no_prazo          0\n",
       "dtype: int64"
      ]
     },
     "execution_count": 15,
     "metadata": {},
     "output_type": "execute_result"
    }
   ],
   "source": [
    "df.isna().sum()"
   ]
  },
  {
   "cell_type": "markdown",
   "id": "7ff6dbbb",
   "metadata": {},
   "source": [
    "## Valores Duplicados"
   ]
  },
  {
   "cell_type": "code",
   "execution_count": 16,
   "id": "fb228354",
   "metadata": {},
   "outputs": [
    {
     "data": {
      "text/plain": [
       "0"
      ]
     },
     "execution_count": 16,
     "metadata": {},
     "output_type": "execute_result"
    }
   ],
   "source": [
    "df.duplicated().sum()"
   ]
  },
  {
   "cell_type": "markdown",
   "id": "f9a826f4",
   "metadata": {},
   "source": [
    "## Tratamento de Valores Outliers "
   ]
  },
  {
   "cell_type": "code",
   "execution_count": 17,
   "id": "976e6d62",
   "metadata": {},
   "outputs": [
    {
     "name": "stdout",
     "output_type": "stream",
     "text": [
      "Número de linhas antes de filtar valores extremos (Outliers): 11000\n"
     ]
    }
   ],
   "source": [
    "print(f\"Número de linhas antes de filtar valores extremos (Outliers): {len(df)}\")"
   ]
  },
  {
   "cell_type": "code",
   "execution_count": 18,
   "id": "5bdbdeee",
   "metadata": {},
   "outputs": [
    {
     "data": {
      "text/html": [
       "<div>\n",
       "<style scoped>\n",
       "    .dataframe tbody tr th:only-of-type {\n",
       "        vertical-align: middle;\n",
       "    }\n",
       "\n",
       "    .dataframe tbody tr th {\n",
       "        vertical-align: top;\n",
       "    }\n",
       "\n",
       "    .dataframe thead th {\n",
       "        text-align: right;\n",
       "    }\n",
       "</style>\n",
       "<table border=\"1\" class=\"dataframe\">\n",
       "  <thead>\n",
       "    <tr style=\"text-align: right;\">\n",
       "      <th></th>\n",
       "      <th>numero_chamadas_cliente</th>\n",
       "      <th>avaliacao_cliente</th>\n",
       "      <th>custo_produto</th>\n",
       "      <th>compras_anteriores</th>\n",
       "      <th>desconto</th>\n",
       "      <th>peso_gramas</th>\n",
       "    </tr>\n",
       "  </thead>\n",
       "  <tbody>\n",
       "    <tr>\n",
       "      <th>0</th>\n",
       "      <td>4</td>\n",
       "      <td>2</td>\n",
       "      <td>177</td>\n",
       "      <td>3</td>\n",
       "      <td>44</td>\n",
       "      <td>1233</td>\n",
       "    </tr>\n",
       "    <tr>\n",
       "      <th>1</th>\n",
       "      <td>4</td>\n",
       "      <td>5</td>\n",
       "      <td>216</td>\n",
       "      <td>2</td>\n",
       "      <td>59</td>\n",
       "      <td>3088</td>\n",
       "    </tr>\n",
       "    <tr>\n",
       "      <th>2</th>\n",
       "      <td>2</td>\n",
       "      <td>2</td>\n",
       "      <td>183</td>\n",
       "      <td>4</td>\n",
       "      <td>48</td>\n",
       "      <td>3374</td>\n",
       "    </tr>\n",
       "    <tr>\n",
       "      <th>3</th>\n",
       "      <td>3</td>\n",
       "      <td>3</td>\n",
       "      <td>176</td>\n",
       "      <td>4</td>\n",
       "      <td>10</td>\n",
       "      <td>1177</td>\n",
       "    </tr>\n",
       "    <tr>\n",
       "      <th>4</th>\n",
       "      <td>2</td>\n",
       "      <td>2</td>\n",
       "      <td>184</td>\n",
       "      <td>3</td>\n",
       "      <td>46</td>\n",
       "      <td>2484</td>\n",
       "    </tr>\n",
       "  </tbody>\n",
       "</table>\n",
       "</div>"
      ],
      "text/plain": [
       "   numero_chamadas_cliente  avaliacao_cliente  custo_produto  \\\n",
       "0                        4                  2            177   \n",
       "1                        4                  5            216   \n",
       "2                        2                  2            183   \n",
       "3                        3                  3            176   \n",
       "4                        2                  2            184   \n",
       "\n",
       "   compras_anteriores  desconto  peso_gramas  \n",
       "0                   3        44         1233  \n",
       "1                   2        59         3088  \n",
       "2                   4        48         3374  \n",
       "3                   4        10         1177  \n",
       "4                   3        46         2484  "
      ]
     },
     "execution_count": 18,
     "metadata": {},
     "output_type": "execute_result"
    }
   ],
   "source": [
    "df[nums].head()"
   ]
  },
  {
   "cell_type": "code",
   "execution_count": 19,
   "id": "fc66f8dd",
   "metadata": {},
   "outputs": [
    {
     "data": {
      "text/plain": [
       "13.372545454545454"
      ]
     },
     "execution_count": 19,
     "metadata": {},
     "output_type": "execute_result"
    }
   ],
   "source": [
    "# Aplicar o conceito a uma única variável\n",
    "\n",
    "df.desconto.mean()"
   ]
  },
  {
   "cell_type": "code",
   "execution_count": 20,
   "id": "56893b59",
   "metadata": {},
   "outputs": [
    {
     "data": {
      "text/plain": [
       "16.20494287359407"
      ]
     },
     "execution_count": 20,
     "metadata": {},
     "output_type": "execute_result"
    }
   ],
   "source": [
    "df.desconto.std() #Desvio padrão - distância da média"
   ]
  },
  {
   "cell_type": "code",
   "execution_count": 21,
   "id": "82632c9c",
   "metadata": {},
   "outputs": [
    {
     "data": {
      "image/png": "[encoded data removed]",
      "text/plain": [
       "<Figure size 640x480 with 1 Axes>"
      ]
     },
     "metadata": {},
     "output_type": "display_data"
    }
   ],
   "source": [
    "df.desconto.hist();"
   ]
  },
  {
   "cell_type": "code",
   "execution_count": 22,
   "id": "28f5e3d4",
   "metadata": {},
   "outputs": [
    {
     "name": "stdout",
     "output_type": "stream",
     "text": [
      "Limite Superior: 61.987374075327665\n",
      "Limite Inferior: -35.24228316623676\n"
     ]
    }
   ],
   "source": [
    "# Calcula os limites superior e inferior \n",
    "# Um valor OUTLIER é aquele que está abaixo do limite inferior ou acima do lim superior\n",
    "\n",
    "limite_superior = df.desconto.mean() + 3 * df.desconto.std()\n",
    "print(f\"Limite Superior: {limite_superior}\")\n",
    "\n",
    "limite_inferior = df.desconto.mean() - 3 * df.desconto.std()\n",
    "print(f\"Limite Inferior: {limite_inferior}\")"
   ]
  },
  {
   "cell_type": "code",
   "execution_count": 23,
   "id": "354f3595",
   "metadata": {},
   "outputs": [
    {
     "data": {
      "text/html": [
       "<div>\n",
       "<style scoped>\n",
       "    .dataframe tbody tr th:only-of-type {\n",
       "        vertical-align: middle;\n",
       "    }\n",
       "\n",
       "    .dataframe tbody tr th {\n",
       "        vertical-align: top;\n",
       "    }\n",
       "\n",
       "    .dataframe thead th {\n",
       "        text-align: right;\n",
       "    }\n",
       "</style>\n",
       "<table border=\"1\" class=\"dataframe\">\n",
       "  <thead>\n",
       "    <tr style=\"text-align: right;\">\n",
       "      <th></th>\n",
       "      <th>ID</th>\n",
       "      <th>corredor_armazem</th>\n",
       "      <th>modo_envio</th>\n",
       "      <th>numero_chamadas_cliente</th>\n",
       "      <th>avaliacao_cliente</th>\n",
       "      <th>custo_produto</th>\n",
       "      <th>compras_anteriores</th>\n",
       "      <th>prioridade_produto</th>\n",
       "      <th>genero</th>\n",
       "      <th>desconto</th>\n",
       "      <th>peso_gramas</th>\n",
       "      <th>entregue_no_prazo</th>\n",
       "    </tr>\n",
       "  </thead>\n",
       "  <tbody>\n",
       "    <tr>\n",
       "      <th>36</th>\n",
       "      <td>37</td>\n",
       "      <td>D</td>\n",
       "      <td>Navio</td>\n",
       "      <td>3</td>\n",
       "      <td>5</td>\n",
       "      <td>137</td>\n",
       "      <td>4</td>\n",
       "      <td>alta</td>\n",
       "      <td>F</td>\n",
       "      <td>62</td>\n",
       "      <td>1477</td>\n",
       "      <td>1</td>\n",
       "    </tr>\n",
       "    <tr>\n",
       "      <th>60</th>\n",
       "      <td>61</td>\n",
       "      <td>D</td>\n",
       "      <td>Navio</td>\n",
       "      <td>3</td>\n",
       "      <td>1</td>\n",
       "      <td>221</td>\n",
       "      <td>3</td>\n",
       "      <td>baixa</td>\n",
       "      <td>F</td>\n",
       "      <td>64</td>\n",
       "      <td>2794</td>\n",
       "      <td>1</td>\n",
       "    </tr>\n",
       "    <tr>\n",
       "      <th>62</th>\n",
       "      <td>63</td>\n",
       "      <td>A</td>\n",
       "      <td>Navio</td>\n",
       "      <td>5</td>\n",
       "      <td>1</td>\n",
       "      <td>105</td>\n",
       "      <td>6</td>\n",
       "      <td>media</td>\n",
       "      <td>M</td>\n",
       "      <td>62</td>\n",
       "      <td>1292</td>\n",
       "      <td>1</td>\n",
       "    </tr>\n",
       "    <tr>\n",
       "      <th>111</th>\n",
       "      <td>112</td>\n",
       "      <td>B</td>\n",
       "      <td>Caminhao</td>\n",
       "      <td>4</td>\n",
       "      <td>2</td>\n",
       "      <td>239</td>\n",
       "      <td>3</td>\n",
       "      <td>baixa</td>\n",
       "      <td>F</td>\n",
       "      <td>65</td>\n",
       "      <td>3679</td>\n",
       "      <td>1</td>\n",
       "    </tr>\n",
       "    <tr>\n",
       "      <th>122</th>\n",
       "      <td>123</td>\n",
       "      <td>A</td>\n",
       "      <td>Caminhao</td>\n",
       "      <td>4</td>\n",
       "      <td>2</td>\n",
       "      <td>160</td>\n",
       "      <td>3</td>\n",
       "      <td>baixa</td>\n",
       "      <td>M</td>\n",
       "      <td>64</td>\n",
       "      <td>1714</td>\n",
       "      <td>1</td>\n",
       "    </tr>\n",
       "    <tr>\n",
       "      <th>...</th>\n",
       "      <td>...</td>\n",
       "      <td>...</td>\n",
       "      <td>...</td>\n",
       "      <td>...</td>\n",
       "      <td>...</td>\n",
       "      <td>...</td>\n",
       "      <td>...</td>\n",
       "      <td>...</td>\n",
       "      <td>...</td>\n",
       "      <td>...</td>\n",
       "      <td>...</td>\n",
       "      <td>...</td>\n",
       "    </tr>\n",
       "    <tr>\n",
       "      <th>3005</th>\n",
       "      <td>3006</td>\n",
       "      <td>F</td>\n",
       "      <td>Caminhao</td>\n",
       "      <td>5</td>\n",
       "      <td>2</td>\n",
       "      <td>159</td>\n",
       "      <td>3</td>\n",
       "      <td>media</td>\n",
       "      <td>F</td>\n",
       "      <td>63</td>\n",
       "      <td>1675</td>\n",
       "      <td>1</td>\n",
       "    </tr>\n",
       "    <tr>\n",
       "      <th>3017</th>\n",
       "      <td>3018</td>\n",
       "      <td>F</td>\n",
       "      <td>Aviao</td>\n",
       "      <td>4</td>\n",
       "      <td>1</td>\n",
       "      <td>235</td>\n",
       "      <td>2</td>\n",
       "      <td>alta</td>\n",
       "      <td>M</td>\n",
       "      <td>64</td>\n",
       "      <td>2107</td>\n",
       "      <td>1</td>\n",
       "    </tr>\n",
       "    <tr>\n",
       "      <th>3040</th>\n",
       "      <td>3041</td>\n",
       "      <td>C</td>\n",
       "      <td>Navio</td>\n",
       "      <td>3</td>\n",
       "      <td>2</td>\n",
       "      <td>149</td>\n",
       "      <td>3</td>\n",
       "      <td>media</td>\n",
       "      <td>F</td>\n",
       "      <td>64</td>\n",
       "      <td>1920</td>\n",
       "      <td>1</td>\n",
       "    </tr>\n",
       "    <tr>\n",
       "      <th>3068</th>\n",
       "      <td>3069</td>\n",
       "      <td>A</td>\n",
       "      <td>Navio</td>\n",
       "      <td>4</td>\n",
       "      <td>3</td>\n",
       "      <td>139</td>\n",
       "      <td>3</td>\n",
       "      <td>baixa</td>\n",
       "      <td>M</td>\n",
       "      <td>64</td>\n",
       "      <td>1814</td>\n",
       "      <td>1</td>\n",
       "    </tr>\n",
       "    <tr>\n",
       "      <th>3086</th>\n",
       "      <td>3087</td>\n",
       "      <td>A</td>\n",
       "      <td>Navio</td>\n",
       "      <td>3</td>\n",
       "      <td>2</td>\n",
       "      <td>223</td>\n",
       "      <td>2</td>\n",
       "      <td>baixa</td>\n",
       "      <td>M</td>\n",
       "      <td>64</td>\n",
       "      <td>3595</td>\n",
       "      <td>1</td>\n",
       "    </tr>\n",
       "  </tbody>\n",
       "</table>\n",
       "<p>181 rows × 12 columns</p>\n",
       "</div>"
      ],
      "text/plain": [
       "        ID corredor_armazem modo_envio  numero_chamadas_cliente  \\\n",
       "36      37                D      Navio                        3   \n",
       "60      61                D      Navio                        3   \n",
       "62      63                A      Navio                        5   \n",
       "111    112                B   Caminhao                        4   \n",
       "122    123                A   Caminhao                        4   \n",
       "...    ...              ...        ...                      ...   \n",
       "3005  3006                F   Caminhao                        5   \n",
       "3017  3018                F      Aviao                        4   \n",
       "3040  3041                C      Navio                        3   \n",
       "3068  3069                A      Navio                        4   \n",
       "3086  3087                A      Navio                        3   \n",
       "\n",
       "      avaliacao_cliente  custo_produto  compras_anteriores prioridade_produto  \\\n",
       "36                    5            137                   4               alta   \n",
       "60                    1            221                   3              baixa   \n",
       "62                    1            105                   6              media   \n",
       "111                   2            239                   3              baixa   \n",
       "122                   2            160                   3              baixa   \n",
       "...                 ...            ...                 ...                ...   \n",
       "3005                  2            159                   3              media   \n",
       "3017                  1            235                   2               alta   \n",
       "3040                  2            149                   3              media   \n",
       "3068                  3            139                   3              baixa   \n",
       "3086                  2            223                   2              baixa   \n",
       "\n",
       "     genero  desconto  peso_gramas  entregue_no_prazo  \n",
       "36        F        62         1477                  1  \n",
       "60        F        64         2794                  1  \n",
       "62        M        62         1292                  1  \n",
       "111       F        65         3679                  1  \n",
       "122       M        64         1714                  1  \n",
       "...     ...       ...          ...                ...  \n",
       "3005      F        63         1675                  1  \n",
       "3017      M        64         2107                  1  \n",
       "3040      F        64         1920                  1  \n",
       "3068      M        64         1814                  1  \n",
       "3086      M        64         3595                  1  \n",
       "\n",
       "[181 rows x 12 columns]"
      ]
     },
     "execution_count": 23,
     "metadata": {},
     "output_type": "execute_result"
    }
   ],
   "source": [
    "# Extrai os registros com outliers na coluna desconto\n",
    "\n",
    "df_outliers_desconto = df[(df.desconto <= limite_inferior) | (df.desconto >= limite_superior)]\n",
    "df_outliers_desconto"
   ]
  },
  {
   "cell_type": "code",
   "execution_count": 24,
   "id": "b79e9c2a",
   "metadata": {},
   "outputs": [],
   "source": [
    "# Filtra o dataframe removendo os registros com outliers na coluna desconto\n",
    "df = df[(df.desconto > limite_inferior) & (df.desconto < limite_superior)]"
   ]
  },
  {
   "cell_type": "code",
   "execution_count": 25,
   "id": "9acc6a34",
   "metadata": {},
   "outputs": [
    {
     "name": "stdout",
     "output_type": "stream",
     "text": [
      "Número de linhas depois de filtrar os outliers: 10819\n"
     ]
    }
   ],
   "source": [
    "print(f\"Número de linhas depois de filtrar os outliers: {len(df)}\")"
   ]
  },
  {
   "cell_type": "markdown",
   "id": "500d7278",
   "metadata": {},
   "source": [
    "### Automatização da verificação dos OUTLIERS e exclusão desses"
   ]
  },
  {
   "cell_type": "code",
   "execution_count": 26,
   "id": "41079e80",
   "metadata": {},
   "outputs": [
    {
     "data": {
      "text/plain": [
       "numpy.ndarray"
      ]
     },
     "execution_count": 26,
     "metadata": {},
     "output_type": "execute_result"
    }
   ],
   "source": [
    "#Criando array np True do tamanho do datafrmae\n",
    "registros = np.array([True] * len(df)) \n",
    "type(registros)"
   ]
  },
  {
   "cell_type": "code",
   "execution_count": 27,
   "id": "13bd0d4b",
   "metadata": {},
   "outputs": [
    {
     "data": {
      "text/plain": [
       "10819"
      ]
     },
     "execution_count": 27,
     "metadata": {},
     "output_type": "execute_result"
    }
   ],
   "source": [
    "# Verificando valores True no array\n",
    "np.count_nonzero(registros == True)"
   ]
  },
  {
   "cell_type": "code",
   "execution_count": 28,
   "id": "8d0d4e53",
   "metadata": {},
   "outputs": [
    {
     "data": {
      "text/plain": [
       "0"
      ]
     },
     "execution_count": 28,
     "metadata": {},
     "output_type": "execute_result"
    }
   ],
   "source": [
    "np.count_nonzero(registros == False)"
   ]
  },
  {
   "cell_type": "code",
   "execution_count": 29,
   "id": "803fcd0e",
   "metadata": {},
   "outputs": [
    {
     "data": {
      "text/plain": [
       "Index(['numero_chamadas_cliente', 'avaliacao_cliente', 'custo_produto',\n",
       "       'compras_anteriores', 'desconto', 'peso_gramas'],\n",
       "      dtype='object')"
      ]
     },
     "execution_count": 29,
     "metadata": {},
     "output_type": "execute_result"
    }
   ],
   "source": [
    "df[nums].columns"
   ]
  },
  {
   "cell_type": "code",
   "execution_count": 30,
   "id": "064110c2",
   "metadata": {},
   "outputs": [],
   "source": [
    "# Variáveis numpericas (Sem a variável desconto)\n",
    "nums2 = ['numero_chamadas_cliente',\n",
    "        'avaliacao_cliente',\n",
    "        'compras_anteriores',\n",
    "        'custo_produto',\n",
    "        'peso_gramas']"
   ]
  },
  {
   "cell_type": "code",
   "execution_count": 31,
   "id": "ce9d2f1a",
   "metadata": {},
   "outputs": [],
   "source": [
    "# Loop por cada variável numérica \n",
    "for col in nums2:\n",
    "    \n",
    "    # Calcula o z-score absoluto\n",
    "    zscore = abs(stats.zscore(df[col]))\n",
    "    \n",
    "    # Mantém valores com menos de 3 z-score absoluto\n",
    "    registros = (zscore < 3) & registros"
   ]
  },
  {
   "cell_type": "code",
   "execution_count": 32,
   "id": "18566bac",
   "metadata": {},
   "outputs": [
    {
     "data": {
      "text/plain": [
       "10643"
      ]
     },
     "execution_count": 32,
     "metadata": {},
     "output_type": "execute_result"
    }
   ],
   "source": [
    "np.count_nonzero(registros == True)"
   ]
  },
  {
   "cell_type": "code",
   "execution_count": 33,
   "id": "19b47b62",
   "metadata": {},
   "outputs": [
    {
     "data": {
      "text/plain": [
       "176"
      ]
     },
     "execution_count": 33,
     "metadata": {},
     "output_type": "execute_result"
    }
   ],
   "source": [
    "np.count_nonzero(registros == False)"
   ]
  },
  {
   "cell_type": "code",
   "execution_count": 34,
   "id": "a34bbb58",
   "metadata": {},
   "outputs": [],
   "source": [
    "# Removemos os registros com o z-score abaixo de 3 nas colunas numéricas\n",
    "df = df[registros]"
   ]
  },
  {
   "cell_type": "code",
   "execution_count": 35,
   "id": "c0940ec4",
   "metadata": {},
   "outputs": [
    {
     "name": "stdout",
     "output_type": "stream",
     "text": [
      "Número de linhas após filtrar valores extremos (OUTLIERS): 10643\n"
     ]
    }
   ],
   "source": [
    "print(f\"Número de linhas após filtrar valores extremos (OUTLIERS): {len(df)}\")"
   ]
  },
  {
   "cell_type": "markdown",
   "id": "22e57ec6",
   "metadata": {},
   "source": [
    "## Tratamento de Desbalanceamento de Classes"
   ]
  },
  {
   "cell_type": "code",
   "execution_count": 36,
   "id": "dfbe8c44",
   "metadata": {},
   "outputs": [
    {
     "data": {
      "text/plain": [
       "Index(['ID', 'corredor_armazem', 'modo_envio', 'numero_chamadas_cliente',\n",
       "       'avaliacao_cliente', 'custo_produto', 'compras_anteriores',\n",
       "       'prioridade_produto', 'genero', 'desconto', 'peso_gramas',\n",
       "       'entregue_no_prazo'],\n",
       "      dtype='object')"
      ]
     },
     "execution_count": 36,
     "metadata": {},
     "output_type": "execute_result"
    }
   ],
   "source": [
    "df.columns"
   ]
  },
  {
   "cell_type": "code",
   "execution_count": 37,
   "id": "24dc683d",
   "metadata": {},
   "outputs": [
    {
     "data": {
      "text/plain": [
       "entregue_no_prazo\n",
       "1                    6282\n",
       "0                    4361\n",
       "Name: count, dtype: int64"
      ]
     },
     "execution_count": 37,
     "metadata": {},
     "output_type": "execute_result"
    }
   ],
   "source": [
    "df[target].value_counts()"
   ]
  },
  {
   "cell_type": "markdown",
   "id": "5d9102a8",
   "metadata": {},
   "source": [
    "## Engenharia de Atributos"
   ]
  },
  {
   "cell_type": "markdown",
   "id": "3b0614d8",
   "metadata": {},
   "source": [
    "### FEATURE SELECTION"
   ]
  },
  {
   "cell_type": "code",
   "execution_count": 38,
   "id": "3bf002bd",
   "metadata": {},
   "outputs": [
    {
     "data": {
      "text/plain": [
       "Index(['ID', 'corredor_armazem', 'modo_envio', 'numero_chamadas_cliente',\n",
       "       'avaliacao_cliente', 'custo_produto', 'compras_anteriores',\n",
       "       'prioridade_produto', 'genero', 'desconto', 'peso_gramas',\n",
       "       'entregue_no_prazo'],\n",
       "      dtype='object')"
      ]
     },
     "execution_count": 38,
     "metadata": {},
     "output_type": "execute_result"
    }
   ],
   "source": [
    "df.columns"
   ]
  },
  {
   "cell_type": "code",
   "execution_count": 39,
   "id": "98318722",
   "metadata": {},
   "outputs": [
    {
     "data": {
      "text/html": [
       "<div>\n",
       "<style scoped>\n",
       "    .dataframe tbody tr th:only-of-type {\n",
       "        vertical-align: middle;\n",
       "    }\n",
       "\n",
       "    .dataframe tbody tr th {\n",
       "        vertical-align: top;\n",
       "    }\n",
       "\n",
       "    .dataframe thead th {\n",
       "        text-align: right;\n",
       "    }\n",
       "</style>\n",
       "<table border=\"1\" class=\"dataframe\">\n",
       "  <thead>\n",
       "    <tr style=\"text-align: right;\">\n",
       "      <th></th>\n",
       "      <th>ID</th>\n",
       "      <th>corredor_armazem</th>\n",
       "      <th>modo_envio</th>\n",
       "      <th>numero_chamadas_cliente</th>\n",
       "      <th>avaliacao_cliente</th>\n",
       "      <th>custo_produto</th>\n",
       "      <th>compras_anteriores</th>\n",
       "      <th>prioridade_produto</th>\n",
       "      <th>genero</th>\n",
       "      <th>desconto</th>\n",
       "      <th>peso_gramas</th>\n",
       "      <th>entregue_no_prazo</th>\n",
       "    </tr>\n",
       "  </thead>\n",
       "  <tbody>\n",
       "    <tr>\n",
       "      <th>6074</th>\n",
       "      <td>6075</td>\n",
       "      <td>A</td>\n",
       "      <td>Navio</td>\n",
       "      <td>4</td>\n",
       "      <td>3</td>\n",
       "      <td>145</td>\n",
       "      <td>4</td>\n",
       "      <td>media</td>\n",
       "      <td>M</td>\n",
       "      <td>2</td>\n",
       "      <td>5735</td>\n",
       "      <td>0</td>\n",
       "    </tr>\n",
       "    <tr>\n",
       "      <th>2961</th>\n",
       "      <td>2962</td>\n",
       "      <td>B</td>\n",
       "      <td>Navio</td>\n",
       "      <td>4</td>\n",
       "      <td>3</td>\n",
       "      <td>202</td>\n",
       "      <td>3</td>\n",
       "      <td>baixa</td>\n",
       "      <td>F</td>\n",
       "      <td>48</td>\n",
       "      <td>2213</td>\n",
       "      <td>1</td>\n",
       "    </tr>\n",
       "    <tr>\n",
       "      <th>6089</th>\n",
       "      <td>6090</td>\n",
       "      <td>F</td>\n",
       "      <td>Navio</td>\n",
       "      <td>4</td>\n",
       "      <td>1</td>\n",
       "      <td>132</td>\n",
       "      <td>6</td>\n",
       "      <td>alta</td>\n",
       "      <td>M</td>\n",
       "      <td>8</td>\n",
       "      <td>4902</td>\n",
       "      <td>1</td>\n",
       "    </tr>\n",
       "    <tr>\n",
       "      <th>2883</th>\n",
       "      <td>2884</td>\n",
       "      <td>B</td>\n",
       "      <td>Aviao</td>\n",
       "      <td>3</td>\n",
       "      <td>1</td>\n",
       "      <td>248</td>\n",
       "      <td>3</td>\n",
       "      <td>baixa</td>\n",
       "      <td>M</td>\n",
       "      <td>9</td>\n",
       "      <td>2616</td>\n",
       "      <td>1</td>\n",
       "    </tr>\n",
       "    <tr>\n",
       "      <th>9625</th>\n",
       "      <td>9626</td>\n",
       "      <td>F</td>\n",
       "      <td>Navio</td>\n",
       "      <td>7</td>\n",
       "      <td>4</td>\n",
       "      <td>301</td>\n",
       "      <td>4</td>\n",
       "      <td>baixa</td>\n",
       "      <td>F</td>\n",
       "      <td>1</td>\n",
       "      <td>1150</td>\n",
       "      <td>0</td>\n",
       "    </tr>\n",
       "  </tbody>\n",
       "</table>\n",
       "</div>"
      ],
      "text/plain": [
       "        ID corredor_armazem modo_envio  numero_chamadas_cliente  \\\n",
       "6074  6075                A      Navio                        4   \n",
       "2961  2962                B      Navio                        4   \n",
       "6089  6090                F      Navio                        4   \n",
       "2883  2884                B      Aviao                        3   \n",
       "9625  9626                F      Navio                        7   \n",
       "\n",
       "      avaliacao_cliente  custo_produto  compras_anteriores prioridade_produto  \\\n",
       "6074                  3            145                   4              media   \n",
       "2961                  3            202                   3              baixa   \n",
       "6089                  1            132                   6               alta   \n",
       "2883                  1            248                   3              baixa   \n",
       "9625                  4            301                   4              baixa   \n",
       "\n",
       "     genero  desconto  peso_gramas  entregue_no_prazo  \n",
       "6074      M         2         5735                  0  \n",
       "2961      F        48         2213                  1  \n",
       "6089      M         8         4902                  1  \n",
       "2883      M         9         2616                  1  \n",
       "9625      F         1         1150                  0  "
      ]
     },
     "execution_count": 39,
     "metadata": {},
     "output_type": "execute_result"
    }
   ],
   "source": [
    "df.sample(5)"
   ]
  },
  {
   "cell_type": "code",
   "execution_count": 40,
   "id": "6492ba35",
   "metadata": {},
   "outputs": [
    {
     "data": {
      "text/html": [
       "<div>\n",
       "<style scoped>\n",
       "    .dataframe tbody tr th:only-of-type {\n",
       "        vertical-align: middle;\n",
       "    }\n",
       "\n",
       "    .dataframe tbody tr th {\n",
       "        vertical-align: top;\n",
       "    }\n",
       "\n",
       "    .dataframe thead th {\n",
       "        text-align: right;\n",
       "    }\n",
       "</style>\n",
       "<table border=\"1\" class=\"dataframe\">\n",
       "  <thead>\n",
       "    <tr style=\"text-align: right;\">\n",
       "      <th></th>\n",
       "      <th>numero_chamadas_cliente</th>\n",
       "      <th>avaliacao_cliente</th>\n",
       "      <th>custo_produto</th>\n",
       "      <th>compras_anteriores</th>\n",
       "      <th>desconto</th>\n",
       "      <th>peso_gramas</th>\n",
       "    </tr>\n",
       "  </thead>\n",
       "  <tbody>\n",
       "    <tr>\n",
       "      <th>numero_chamadas_cliente</th>\n",
       "      <td>1.000000</td>\n",
       "      <td>0.013398</td>\n",
       "      <td>0.328148</td>\n",
       "      <td>0.246604</td>\n",
       "      <td>-0.132172</td>\n",
       "      <td>-0.285186</td>\n",
       "    </tr>\n",
       "    <tr>\n",
       "      <th>avaliacao_cliente</th>\n",
       "      <td>0.013398</td>\n",
       "      <td>1.000000</td>\n",
       "      <td>0.006332</td>\n",
       "      <td>0.004893</td>\n",
       "      <td>0.000551</td>\n",
       "      <td>-0.004440</td>\n",
       "    </tr>\n",
       "    <tr>\n",
       "      <th>custo_produto</th>\n",
       "      <td>0.328148</td>\n",
       "      <td>0.006332</td>\n",
       "      <td>1.000000</td>\n",
       "      <td>0.163395</td>\n",
       "      <td>-0.137703</td>\n",
       "      <td>-0.146885</td>\n",
       "    </tr>\n",
       "    <tr>\n",
       "      <th>compras_anteriores</th>\n",
       "      <td>0.246604</td>\n",
       "      <td>0.004893</td>\n",
       "      <td>0.163395</td>\n",
       "      <td>1.000000</td>\n",
       "      <td>-0.106093</td>\n",
       "      <td>-0.235066</td>\n",
       "    </tr>\n",
       "    <tr>\n",
       "      <th>desconto</th>\n",
       "      <td>-0.132172</td>\n",
       "      <td>0.000551</td>\n",
       "      <td>-0.137703</td>\n",
       "      <td>-0.106093</td>\n",
       "      <td>1.000000</td>\n",
       "      <td>-0.365062</td>\n",
       "    </tr>\n",
       "    <tr>\n",
       "      <th>peso_gramas</th>\n",
       "      <td>-0.285186</td>\n",
       "      <td>-0.004440</td>\n",
       "      <td>-0.146885</td>\n",
       "      <td>-0.235066</td>\n",
       "      <td>-0.365062</td>\n",
       "      <td>1.000000</td>\n",
       "    </tr>\n",
       "  </tbody>\n",
       "</table>\n",
       "</div>"
      ],
      "text/plain": [
       "                         numero_chamadas_cliente  avaliacao_cliente  \\\n",
       "numero_chamadas_cliente                 1.000000           0.013398   \n",
       "avaliacao_cliente                       0.013398           1.000000   \n",
       "custo_produto                           0.328148           0.006332   \n",
       "compras_anteriores                      0.246604           0.004893   \n",
       "desconto                               -0.132172           0.000551   \n",
       "peso_gramas                            -0.285186          -0.004440   \n",
       "\n",
       "                         custo_produto  compras_anteriores  desconto  \\\n",
       "numero_chamadas_cliente       0.328148            0.246604 -0.132172   \n",
       "avaliacao_cliente             0.006332            0.004893  0.000551   \n",
       "custo_produto                 1.000000            0.163395 -0.137703   \n",
       "compras_anteriores            0.163395            1.000000 -0.106093   \n",
       "desconto                     -0.137703           -0.106093  1.000000   \n",
       "peso_gramas                  -0.146885           -0.235066 -0.365062   \n",
       "\n",
       "                         peso_gramas  \n",
       "numero_chamadas_cliente    -0.285186  \n",
       "avaliacao_cliente          -0.004440  \n",
       "custo_produto              -0.146885  \n",
       "compras_anteriores         -0.235066  \n",
       "desconto                   -0.365062  \n",
       "peso_gramas                 1.000000  "
      ]
     },
     "execution_count": 40,
     "metadata": {},
     "output_type": "execute_result"
    }
   ],
   "source": [
    "df[nums].corr()"
   ]
  },
  {
   "cell_type": "code",
   "execution_count": 41,
   "id": "e4c37974",
   "metadata": {},
   "outputs": [
    {
     "data": {
      "image/png": "[encoded data removed]",
      "text/plain": [
       "<Figure size 640x480 with 2 Axes>"
      ]
     },
     "metadata": {},
     "output_type": "display_data"
    }
   ],
   "source": [
    "# Mapa gráfico\n",
    "sns.heatmap(df[nums].corr(), cmap = 'Purples', annot = True, fmt = '.2f');"
   ]
  },
  {
   "cell_type": "markdown",
   "id": "2a3ca42c",
   "metadata": {},
   "source": [
    "**Decisão**: Os recursos que ultrapassaram o lim (+/- 0,05) com a variável alvo (entregue_no_prazo) serão escolhidos\n",
    "A variável avalicao cliente não será utizada, bem como ID por não apresentar info util"
   ]
  },
  {
   "cell_type": "code",
   "execution_count": 42,
   "id": "9e2dae47",
   "metadata": {},
   "outputs": [
    {
     "data": {
      "image/png": "[encoded data removed]",
      "text/plain": [
       "<Figure size 2000x800 with 4 Axes>"
      ]
     },
     "metadata": {},
     "output_type": "display_data"
    }
   ],
   "source": [
    "# Verificando para variáveis categóricas\n",
    "df_sample = df.sample(1000, random_state =42)\n",
    "plt.figure(figsize = (20,8))\n",
    "for i in range(0, len(cats)):\n",
    "    plt.subplot(2,3,i+1)\n",
    "    sns.countplot(x=df_sample[cats[i]], color = 'blue', orient = 'v')\n",
    "    plt.tight_layout()"
   ]
  },
  {
   "cell_type": "markdown",
   "id": "6da6dae0",
   "metadata": {},
   "source": [
    "**Decisão**: A variável de gênero não será considerada, por não gerar impacto, haja vista a euqalidade das proporções"
   ]
  },
  {
   "cell_type": "markdown",
   "id": "2a802990",
   "metadata": {},
   "source": [
    "### FEATURE SELECTION"
   ]
  },
  {
   "cell_type": "code",
   "execution_count": 43,
   "id": "4e25cdee",
   "metadata": {},
   "outputs": [
    {
     "data": {
      "text/plain": [
       "Index(['ID', 'corredor_armazem', 'modo_envio', 'numero_chamadas_cliente',\n",
       "       'avaliacao_cliente', 'custo_produto', 'compras_anteriores',\n",
       "       'prioridade_produto', 'genero', 'desconto', 'peso_gramas',\n",
       "       'entregue_no_prazo'],\n",
       "      dtype='object')"
      ]
     },
     "execution_count": 43,
     "metadata": {},
     "output_type": "execute_result"
    }
   ],
   "source": [
    "df.columns"
   ]
  },
  {
   "cell_type": "code",
   "execution_count": 44,
   "id": "f3233a68",
   "metadata": {},
   "outputs": [
    {
     "data": {
      "text/html": [
       "<div>\n",
       "<style scoped>\n",
       "    .dataframe tbody tr th:only-of-type {\n",
       "        vertical-align: middle;\n",
       "    }\n",
       "\n",
       "    .dataframe tbody tr th {\n",
       "        vertical-align: top;\n",
       "    }\n",
       "\n",
       "    .dataframe thead th {\n",
       "        text-align: right;\n",
       "    }\n",
       "</style>\n",
       "<table border=\"1\" class=\"dataframe\">\n",
       "  <thead>\n",
       "    <tr style=\"text-align: right;\">\n",
       "      <th></th>\n",
       "      <th>ID</th>\n",
       "      <th>corredor_armazem</th>\n",
       "      <th>modo_envio</th>\n",
       "      <th>numero_chamadas_cliente</th>\n",
       "      <th>avaliacao_cliente</th>\n",
       "      <th>custo_produto</th>\n",
       "      <th>compras_anteriores</th>\n",
       "      <th>prioridade_produto</th>\n",
       "      <th>genero</th>\n",
       "      <th>desconto</th>\n",
       "      <th>peso_gramas</th>\n",
       "      <th>entregue_no_prazo</th>\n",
       "    </tr>\n",
       "  </thead>\n",
       "  <tbody>\n",
       "    <tr>\n",
       "      <th>0</th>\n",
       "      <td>1</td>\n",
       "      <td>D</td>\n",
       "      <td>Aviao</td>\n",
       "      <td>4</td>\n",
       "      <td>2</td>\n",
       "      <td>177</td>\n",
       "      <td>3</td>\n",
       "      <td>baixa</td>\n",
       "      <td>F</td>\n",
       "      <td>44</td>\n",
       "      <td>1233</td>\n",
       "      <td>1</td>\n",
       "    </tr>\n",
       "    <tr>\n",
       "      <th>1</th>\n",
       "      <td>2</td>\n",
       "      <td>F</td>\n",
       "      <td>Aviao</td>\n",
       "      <td>4</td>\n",
       "      <td>5</td>\n",
       "      <td>216</td>\n",
       "      <td>2</td>\n",
       "      <td>baixa</td>\n",
       "      <td>M</td>\n",
       "      <td>59</td>\n",
       "      <td>3088</td>\n",
       "      <td>1</td>\n",
       "    </tr>\n",
       "    <tr>\n",
       "      <th>2</th>\n",
       "      <td>3</td>\n",
       "      <td>A</td>\n",
       "      <td>Aviao</td>\n",
       "      <td>2</td>\n",
       "      <td>2</td>\n",
       "      <td>183</td>\n",
       "      <td>4</td>\n",
       "      <td>baixa</td>\n",
       "      <td>M</td>\n",
       "      <td>48</td>\n",
       "      <td>3374</td>\n",
       "      <td>1</td>\n",
       "    </tr>\n",
       "    <tr>\n",
       "      <th>3</th>\n",
       "      <td>4</td>\n",
       "      <td>B</td>\n",
       "      <td>Aviao</td>\n",
       "      <td>3</td>\n",
       "      <td>3</td>\n",
       "      <td>176</td>\n",
       "      <td>4</td>\n",
       "      <td>media</td>\n",
       "      <td>M</td>\n",
       "      <td>10</td>\n",
       "      <td>1177</td>\n",
       "      <td>1</td>\n",
       "    </tr>\n",
       "    <tr>\n",
       "      <th>4</th>\n",
       "      <td>5</td>\n",
       "      <td>C</td>\n",
       "      <td>Aviao</td>\n",
       "      <td>2</td>\n",
       "      <td>2</td>\n",
       "      <td>184</td>\n",
       "      <td>3</td>\n",
       "      <td>media</td>\n",
       "      <td>F</td>\n",
       "      <td>46</td>\n",
       "      <td>2484</td>\n",
       "      <td>1</td>\n",
       "    </tr>\n",
       "  </tbody>\n",
       "</table>\n",
       "</div>"
      ],
      "text/plain": [
       "   ID corredor_armazem modo_envio  numero_chamadas_cliente  avaliacao_cliente  \\\n",
       "0   1                D      Aviao                        4                  2   \n",
       "1   2                F      Aviao                        4                  5   \n",
       "2   3                A      Aviao                        2                  2   \n",
       "3   4                B      Aviao                        3                  3   \n",
       "4   5                C      Aviao                        2                  2   \n",
       "\n",
       "   custo_produto  compras_anteriores prioridade_produto genero  desconto  \\\n",
       "0            177                   3              baixa      F        44   \n",
       "1            216                   2              baixa      M        59   \n",
       "2            183                   4              baixa      M        48   \n",
       "3            176                   4              media      M        10   \n",
       "4            184                   3              media      F        46   \n",
       "\n",
       "   peso_gramas  entregue_no_prazo  \n",
       "0         1233                  1  \n",
       "1         3088                  1  \n",
       "2         3374                  1  \n",
       "3         1177                  1  \n",
       "4         2484                  1  "
      ]
     },
     "execution_count": 44,
     "metadata": {},
     "output_type": "execute_result"
    }
   ],
   "source": [
    "df.head()"
   ]
  },
  {
   "cell_type": "code",
   "execution_count": 45,
   "id": "1b071b0c",
   "metadata": {},
   "outputs": [],
   "source": [
    "# Criar uma cópia do DF original\n",
    "df_eng = df.copy()"
   ]
  },
  {
   "cell_type": "code",
   "execution_count": 46,
   "id": "d2cd27f0",
   "metadata": {},
   "outputs": [
    {
     "data": {
      "text/plain": [
       "(10643, 12)"
      ]
     },
     "execution_count": 46,
     "metadata": {},
     "output_type": "execute_result"
    }
   ],
   "source": [
    "df_eng.shape"
   ]
  },
  {
   "cell_type": "code",
   "execution_count": 48,
   "id": "dfe33566",
   "metadata": {},
   "outputs": [
    {
     "data": {
      "text/plain": [
       "ID                          int64\n",
       "corredor_armazem           object\n",
       "modo_envio                 object\n",
       "numero_chamadas_cliente     int64\n",
       "avaliacao_cliente           int64\n",
       "custo_produto               int64\n",
       "compras_anteriores          int64\n",
       "prioridade_produto         object\n",
       "genero                     object\n",
       "desconto                    int64\n",
       "peso_gramas                 int64\n",
       "entregue_no_prazo           int64\n",
       "dtype: object"
      ]
     },
     "execution_count": 48,
     "metadata": {},
     "output_type": "execute_result"
    }
   ],
   "source": [
    "df_eng.dtypes"
   ]
  },
  {
   "cell_type": "markdown",
   "id": "02d0c6e8",
   "metadata": {},
   "source": [
    "## 1- Performance de envio do produto por prioridade do produto\n",
    "\n",
    "Todo atraso no envio dos é igual, ou seja, tem a mesma proporção? A prioridade dos produtos gera mais ou menos atrasos?\n",
    "\n",
    "Criarei nova variável que representa a performance do envio do produto com base na seguinte regra de negócio:\n",
    "\n",
    "- Se a prioridade do produto era alta e houve atraso no envio, o atraso é crítico\n",
    "- Se a prioridade do produto era média e houve atraso no envio, o atraso é problemático\n",
    "- Se a prioridade do produto era baixa e houve atraso no envio, o atraso é tolerável\n",
    "- Outra opção significa que o envio foi feito no prazo e não apresenta problemas"
   ]
  },
  {
   "cell_type": "code",
   "execution_count": 49,
   "id": "617b3e87",
   "metadata": {},
   "outputs": [
    {
     "data": {
      "text/plain": [
       "prioridade_produto\n",
       "baixa    5174\n",
       "media    4587\n",
       "alta      882\n",
       "Name: count, dtype: int64"
      ]
     },
     "execution_count": 49,
     "metadata": {},
     "output_type": "execute_result"
    }
   ],
   "source": [
    "df_eng.prioridade_produto.value_counts()"
   ]
  },
  {
   "cell_type": "code",
   "execution_count": 51,
   "id": "1339e394",
   "metadata": {},
   "outputs": [],
   "source": [
    "# Criar variável e preencher com valor NA\n",
    "df_eng['performance_prioridade_envio'] = np.nan"
   ]
  },
  {
   "cell_type": "code",
   "execution_count": 52,
   "id": "3c7cf577",
   "metadata": {},
   "outputs": [
    {
     "data": {
      "text/html": [
       "<div>\n",
       "<style scoped>\n",
       "    .dataframe tbody tr th:only-of-type {\n",
       "        vertical-align: middle;\n",
       "    }\n",
       "\n",
       "    .dataframe tbody tr th {\n",
       "        vertical-align: top;\n",
       "    }\n",
       "\n",
       "    .dataframe thead th {\n",
       "        text-align: right;\n",
       "    }\n",
       "</style>\n",
       "<table border=\"1\" class=\"dataframe\">\n",
       "  <thead>\n",
       "    <tr style=\"text-align: right;\">\n",
       "      <th></th>\n",
       "      <th>ID</th>\n",
       "      <th>corredor_armazem</th>\n",
       "      <th>modo_envio</th>\n",
       "      <th>numero_chamadas_cliente</th>\n",
       "      <th>avaliacao_cliente</th>\n",
       "      <th>custo_produto</th>\n",
       "      <th>compras_anteriores</th>\n",
       "      <th>prioridade_produto</th>\n",
       "      <th>genero</th>\n",
       "      <th>desconto</th>\n",
       "      <th>peso_gramas</th>\n",
       "      <th>entregue_no_prazo</th>\n",
       "      <th>performance_prioridade_envio</th>\n",
       "    </tr>\n",
       "  </thead>\n",
       "  <tbody>\n",
       "    <tr>\n",
       "      <th>0</th>\n",
       "      <td>1</td>\n",
       "      <td>D</td>\n",
       "      <td>Aviao</td>\n",
       "      <td>4</td>\n",
       "      <td>2</td>\n",
       "      <td>177</td>\n",
       "      <td>3</td>\n",
       "      <td>baixa</td>\n",
       "      <td>F</td>\n",
       "      <td>44</td>\n",
       "      <td>1233</td>\n",
       "      <td>1</td>\n",
       "      <td>NaN</td>\n",
       "    </tr>\n",
       "    <tr>\n",
       "      <th>1</th>\n",
       "      <td>2</td>\n",
       "      <td>F</td>\n",
       "      <td>Aviao</td>\n",
       "      <td>4</td>\n",
       "      <td>5</td>\n",
       "      <td>216</td>\n",
       "      <td>2</td>\n",
       "      <td>baixa</td>\n",
       "      <td>M</td>\n",
       "      <td>59</td>\n",
       "      <td>3088</td>\n",
       "      <td>1</td>\n",
       "      <td>NaN</td>\n",
       "    </tr>\n",
       "    <tr>\n",
       "      <th>2</th>\n",
       "      <td>3</td>\n",
       "      <td>A</td>\n",
       "      <td>Aviao</td>\n",
       "      <td>2</td>\n",
       "      <td>2</td>\n",
       "      <td>183</td>\n",
       "      <td>4</td>\n",
       "      <td>baixa</td>\n",
       "      <td>M</td>\n",
       "      <td>48</td>\n",
       "      <td>3374</td>\n",
       "      <td>1</td>\n",
       "      <td>NaN</td>\n",
       "    </tr>\n",
       "    <tr>\n",
       "      <th>3</th>\n",
       "      <td>4</td>\n",
       "      <td>B</td>\n",
       "      <td>Aviao</td>\n",
       "      <td>3</td>\n",
       "      <td>3</td>\n",
       "      <td>176</td>\n",
       "      <td>4</td>\n",
       "      <td>media</td>\n",
       "      <td>M</td>\n",
       "      <td>10</td>\n",
       "      <td>1177</td>\n",
       "      <td>1</td>\n",
       "      <td>NaN</td>\n",
       "    </tr>\n",
       "    <tr>\n",
       "      <th>4</th>\n",
       "      <td>5</td>\n",
       "      <td>C</td>\n",
       "      <td>Aviao</td>\n",
       "      <td>2</td>\n",
       "      <td>2</td>\n",
       "      <td>184</td>\n",
       "      <td>3</td>\n",
       "      <td>media</td>\n",
       "      <td>F</td>\n",
       "      <td>46</td>\n",
       "      <td>2484</td>\n",
       "      <td>1</td>\n",
       "      <td>NaN</td>\n",
       "    </tr>\n",
       "  </tbody>\n",
       "</table>\n",
       "</div>"
      ],
      "text/plain": [
       "   ID corredor_armazem modo_envio  numero_chamadas_cliente  avaliacao_cliente  \\\n",
       "0   1                D      Aviao                        4                  2   \n",
       "1   2                F      Aviao                        4                  5   \n",
       "2   3                A      Aviao                        2                  2   \n",
       "3   4                B      Aviao                        3                  3   \n",
       "4   5                C      Aviao                        2                  2   \n",
       "\n",
       "   custo_produto  compras_anteriores prioridade_produto genero  desconto  \\\n",
       "0            177                   3              baixa      F        44   \n",
       "1            216                   2              baixa      M        59   \n",
       "2            183                   4              baixa      M        48   \n",
       "3            176                   4              media      M        10   \n",
       "4            184                   3              media      F        46   \n",
       "\n",
       "   peso_gramas  entregue_no_prazo  performance_prioridade_envio  \n",
       "0         1233                  1                           NaN  \n",
       "1         3088                  1                           NaN  \n",
       "2         3374                  1                           NaN  \n",
       "3         1177                  1                           NaN  \n",
       "4         2484                  1                           NaN  "
      ]
     },
     "execution_count": 52,
     "metadata": {},
     "output_type": "execute_result"
    }
   ],
   "source": [
    "df_eng.head()"
   ]
  },
  {
   "cell_type": "code",
   "execution_count": 73,
   "id": "52172187",
   "metadata": {},
   "outputs": [],
   "source": [
    "# preencher a variável nova\n",
    "df_eng['performance_prioridade_envio'] = \\\n",
    "np.where((df_eng['prioridade_produto'] == 'alta') & (df_eng['entregue_no_prazo'] == 0), \"Atraso Crítico\",\n",
    "np.where((df_eng['prioridade_produto'] == 'media') & (df_eng['entregue_no_prazo'] == 0), 'Atraso Problemático',\n",
    "np.where((df_eng['prioridade_produto'] == 'baixa') & (df_eng['entregue_no_prazo'] == 0), 'Atraso Tolerável', \n",
    "         'Não Houve Atraso')))"
   ]
  },
  {
   "cell_type": "code",
   "execution_count": 74,
   "id": "6e9f6810",
   "metadata": {},
   "outputs": [
    {
     "data": {
      "text/plain": [
       "performance_prioridade_envio\n",
       "Não Houve Atraso       6282\n",
       "Atraso Tolerável       2134\n",
       "Atraso Problemático    1917\n",
       "Atraso Crítico          310\n",
       "Name: count, dtype: int64"
      ]
     },
     "execution_count": 74,
     "metadata": {},
     "output_type": "execute_result"
    }
   ],
   "source": [
    "df_eng.performance_prioridade_envio.value_counts()"
   ]
  },
  {
   "cell_type": "code",
   "execution_count": 75,
   "id": "09ab1e26",
   "metadata": {},
   "outputs": [
    {
     "data": {
      "text/html": [
       "<div>\n",
       "<style scoped>\n",
       "    .dataframe tbody tr th:only-of-type {\n",
       "        vertical-align: middle;\n",
       "    }\n",
       "\n",
       "    .dataframe tbody tr th {\n",
       "        vertical-align: top;\n",
       "    }\n",
       "\n",
       "    .dataframe thead th {\n",
       "        text-align: right;\n",
       "    }\n",
       "</style>\n",
       "<table border=\"1\" class=\"dataframe\">\n",
       "  <thead>\n",
       "    <tr style=\"text-align: right;\">\n",
       "      <th></th>\n",
       "      <th>ID</th>\n",
       "      <th>corredor_armazem</th>\n",
       "      <th>modo_envio</th>\n",
       "      <th>numero_chamadas_cliente</th>\n",
       "      <th>avaliacao_cliente</th>\n",
       "      <th>custo_produto</th>\n",
       "      <th>compras_anteriores</th>\n",
       "      <th>prioridade_produto</th>\n",
       "      <th>genero</th>\n",
       "      <th>desconto</th>\n",
       "      <th>peso_gramas</th>\n",
       "      <th>entregue_no_prazo</th>\n",
       "      <th>performance_prioridade_envio</th>\n",
       "    </tr>\n",
       "  </thead>\n",
       "  <tbody>\n",
       "    <tr>\n",
       "      <th>4788</th>\n",
       "      <td>4789</td>\n",
       "      <td>D</td>\n",
       "      <td>Caminhao</td>\n",
       "      <td>3</td>\n",
       "      <td>4</td>\n",
       "      <td>195</td>\n",
       "      <td>7</td>\n",
       "      <td>media</td>\n",
       "      <td>F</td>\n",
       "      <td>9</td>\n",
       "      <td>5829</td>\n",
       "      <td>0</td>\n",
       "      <td>Atraso Problemático</td>\n",
       "    </tr>\n",
       "    <tr>\n",
       "      <th>7821</th>\n",
       "      <td>7822</td>\n",
       "      <td>B</td>\n",
       "      <td>Aviao</td>\n",
       "      <td>5</td>\n",
       "      <td>5</td>\n",
       "      <td>142</td>\n",
       "      <td>4</td>\n",
       "      <td>media</td>\n",
       "      <td>M</td>\n",
       "      <td>8</td>\n",
       "      <td>5372</td>\n",
       "      <td>0</td>\n",
       "      <td>Atraso Problemático</td>\n",
       "    </tr>\n",
       "    <tr>\n",
       "      <th>1294</th>\n",
       "      <td>1295</td>\n",
       "      <td>C</td>\n",
       "      <td>Navio</td>\n",
       "      <td>4</td>\n",
       "      <td>3</td>\n",
       "      <td>190</td>\n",
       "      <td>3</td>\n",
       "      <td>media</td>\n",
       "      <td>F</td>\n",
       "      <td>2</td>\n",
       "      <td>2125</td>\n",
       "      <td>1</td>\n",
       "      <td>Não Houve Atraso</td>\n",
       "    </tr>\n",
       "    <tr>\n",
       "      <th>4495</th>\n",
       "      <td>4496</td>\n",
       "      <td>F</td>\n",
       "      <td>Caminhao</td>\n",
       "      <td>5</td>\n",
       "      <td>5</td>\n",
       "      <td>132</td>\n",
       "      <td>3</td>\n",
       "      <td>baixa</td>\n",
       "      <td>M</td>\n",
       "      <td>5</td>\n",
       "      <td>4195</td>\n",
       "      <td>1</td>\n",
       "      <td>Não Houve Atraso</td>\n",
       "    </tr>\n",
       "    <tr>\n",
       "      <th>355</th>\n",
       "      <td>356</td>\n",
       "      <td>F</td>\n",
       "      <td>Navio</td>\n",
       "      <td>5</td>\n",
       "      <td>1</td>\n",
       "      <td>266</td>\n",
       "      <td>3</td>\n",
       "      <td>baixa</td>\n",
       "      <td>F</td>\n",
       "      <td>31</td>\n",
       "      <td>3157</td>\n",
       "      <td>1</td>\n",
       "      <td>Não Houve Atraso</td>\n",
       "    </tr>\n",
       "  </tbody>\n",
       "</table>\n",
       "</div>"
      ],
      "text/plain": [
       "        ID corredor_armazem modo_envio  numero_chamadas_cliente  \\\n",
       "4788  4789                D   Caminhao                        3   \n",
       "7821  7822                B      Aviao                        5   \n",
       "1294  1295                C      Navio                        4   \n",
       "4495  4496                F   Caminhao                        5   \n",
       "355    356                F      Navio                        5   \n",
       "\n",
       "      avaliacao_cliente  custo_produto  compras_anteriores prioridade_produto  \\\n",
       "4788                  4            195                   7              media   \n",
       "7821                  5            142                   4              media   \n",
       "1294                  3            190                   3              media   \n",
       "4495                  5            132                   3              baixa   \n",
       "355                   1            266                   3              baixa   \n",
       "\n",
       "     genero  desconto  peso_gramas  entregue_no_prazo  \\\n",
       "4788      F         9         5829                  0   \n",
       "7821      M         8         5372                  0   \n",
       "1294      F         2         2125                  1   \n",
       "4495      M         5         4195                  1   \n",
       "355       F        31         3157                  1   \n",
       "\n",
       "     performance_prioridade_envio  \n",
       "4788          Atraso Problemático  \n",
       "7821          Atraso Problemático  \n",
       "1294             Não Houve Atraso  \n",
       "4495             Não Houve Atraso  \n",
       "355              Não Houve Atraso  "
      ]
     },
     "execution_count": 75,
     "metadata": {},
     "output_type": "execute_result"
    }
   ],
   "source": [
    "df_eng.sample(5)"
   ]
  },
  {
   "cell_type": "code",
   "execution_count": 88,
   "id": "97cbb8dd",
   "metadata": {},
   "outputs": [],
   "source": [
    "# Agrupamento dos novos dados para análise\n",
    "df_report1 = df_eng.groupby(['performance_prioridade_envio', 'entregue_no_prazo']).\\\n",
    "        agg({'prioridade_produto': ['count']}).reset_index()\n",
    "\n",
    "# Ajustando os nomes das colunas\n",
    "df_report1.columns = ['performance_prioridade_envio',\n",
    "                     'entregue_no_prazo',\n",
    "                     'contagem']"
   ]
  },
  {
   "cell_type": "code",
   "execution_count": 89,
   "id": "41e71a3c",
   "metadata": {},
   "outputs": [
    {
     "data": {
      "text/html": [
       "<div>\n",
       "<style scoped>\n",
       "    .dataframe tbody tr th:only-of-type {\n",
       "        vertical-align: middle;\n",
       "    }\n",
       "\n",
       "    .dataframe tbody tr th {\n",
       "        vertical-align: top;\n",
       "    }\n",
       "\n",
       "    .dataframe thead th {\n",
       "        text-align: right;\n",
       "    }\n",
       "</style>\n",
       "<table border=\"1\" class=\"dataframe\">\n",
       "  <thead>\n",
       "    <tr style=\"text-align: right;\">\n",
       "      <th></th>\n",
       "      <th>performance_prioridade_envio</th>\n",
       "      <th>entregue_no_prazo</th>\n",
       "      <th>contagem</th>\n",
       "    </tr>\n",
       "  </thead>\n",
       "  <tbody>\n",
       "    <tr>\n",
       "      <th>0</th>\n",
       "      <td>Atraso Crítico</td>\n",
       "      <td>0</td>\n",
       "      <td>310</td>\n",
       "    </tr>\n",
       "    <tr>\n",
       "      <th>1</th>\n",
       "      <td>Atraso Problemático</td>\n",
       "      <td>0</td>\n",
       "      <td>1917</td>\n",
       "    </tr>\n",
       "    <tr>\n",
       "      <th>2</th>\n",
       "      <td>Atraso Tolerável</td>\n",
       "      <td>0</td>\n",
       "      <td>2134</td>\n",
       "    </tr>\n",
       "    <tr>\n",
       "      <th>3</th>\n",
       "      <td>Não Houve Atraso</td>\n",
       "      <td>1</td>\n",
       "      <td>6282</td>\n",
       "    </tr>\n",
       "  </tbody>\n",
       "</table>\n",
       "</div>"
      ],
      "text/plain": [
       "  performance_prioridade_envio  entregue_no_prazo  contagem\n",
       "0               Atraso Crítico                  0       310\n",
       "1          Atraso Problemático                  0      1917\n",
       "2             Atraso Tolerável                  0      2134\n",
       "3             Não Houve Atraso                  1      6282"
      ]
     },
     "execution_count": 89,
     "metadata": {},
     "output_type": "execute_result"
    }
   ],
   "source": [
    "df_report1.head()"
   ]
  },
  {
   "cell_type": "code",
   "execution_count": 90,
   "id": "5b6f3b2d",
   "metadata": {},
   "outputs": [
    {
     "data": {
      "text/html": [
       "<div>\n",
       "<style scoped>\n",
       "    .dataframe tbody tr th:only-of-type {\n",
       "        vertical-align: middle;\n",
       "    }\n",
       "\n",
       "    .dataframe tbody tr th {\n",
       "        vertical-align: top;\n",
       "    }\n",
       "\n",
       "    .dataframe thead th {\n",
       "        text-align: right;\n",
       "    }\n",
       "</style>\n",
       "<table border=\"1\" class=\"dataframe\">\n",
       "  <thead>\n",
       "    <tr style=\"text-align: right;\">\n",
       "      <th>entregue_no_prazo</th>\n",
       "      <th>performance_prioridade_envio</th>\n",
       "      <th>0</th>\n",
       "      <th>1</th>\n",
       "    </tr>\n",
       "  </thead>\n",
       "  <tbody>\n",
       "    <tr>\n",
       "      <th>0</th>\n",
       "      <td>Atraso Crítico</td>\n",
       "      <td>310.0</td>\n",
       "      <td>NaN</td>\n",
       "    </tr>\n",
       "    <tr>\n",
       "      <th>1</th>\n",
       "      <td>Atraso Problemático</td>\n",
       "      <td>1917.0</td>\n",
       "      <td>NaN</td>\n",
       "    </tr>\n",
       "    <tr>\n",
       "      <th>2</th>\n",
       "      <td>Atraso Tolerável</td>\n",
       "      <td>2134.0</td>\n",
       "      <td>NaN</td>\n",
       "    </tr>\n",
       "    <tr>\n",
       "      <th>3</th>\n",
       "      <td>Não Houve Atraso</td>\n",
       "      <td>NaN</td>\n",
       "      <td>6282.0</td>\n",
       "    </tr>\n",
       "  </tbody>\n",
       "</table>\n",
       "</div>"
      ],
      "text/plain": [
       "entregue_no_prazo performance_prioridade_envio       0       1\n",
       "0                               Atraso Crítico   310.0     NaN\n",
       "1                          Atraso Problemático  1917.0     NaN\n",
       "2                             Atraso Tolerável  2134.0     NaN\n",
       "3                             Não Houve Atraso     NaN  6282.0"
      ]
     },
     "execution_count": 90,
     "metadata": {},
     "output_type": "execute_result"
    }
   ],
   "source": [
    "# Pivot \n",
    "df_report1 = pd.pivot_table(df_report1,\n",
    "                           index = 'performance_prioridade_envio',\n",
    "                           columns = 'entregue_no_prazo',\n",
    "                           values = 'contagem').reset_index()\n",
    "\n",
    "df_report1.head()"
   ]
  },
  {
   "cell_type": "code",
   "execution_count": 91,
   "id": "dedf2752",
   "metadata": {},
   "outputs": [
    {
     "data": {
      "text/html": [
       "<div>\n",
       "<style scoped>\n",
       "    .dataframe tbody tr th:only-of-type {\n",
       "        vertical-align: middle;\n",
       "    }\n",
       "\n",
       "    .dataframe tbody tr th {\n",
       "        vertical-align: top;\n",
       "    }\n",
       "\n",
       "    .dataframe thead th {\n",
       "        text-align: right;\n",
       "    }\n",
       "</style>\n",
       "<table border=\"1\" class=\"dataframe\">\n",
       "  <thead>\n",
       "    <tr style=\"text-align: right;\">\n",
       "      <th></th>\n",
       "      <th>Status do Envio</th>\n",
       "      <th>Total Atraso</th>\n",
       "      <th>Total no Prazo</th>\n",
       "    </tr>\n",
       "  </thead>\n",
       "  <tbody>\n",
       "    <tr>\n",
       "      <th>0</th>\n",
       "      <td>Atraso Crítico</td>\n",
       "      <td>310.0</td>\n",
       "      <td>NaN</td>\n",
       "    </tr>\n",
       "    <tr>\n",
       "      <th>1</th>\n",
       "      <td>Atraso Problemático</td>\n",
       "      <td>1917.0</td>\n",
       "      <td>NaN</td>\n",
       "    </tr>\n",
       "    <tr>\n",
       "      <th>2</th>\n",
       "      <td>Atraso Tolerável</td>\n",
       "      <td>2134.0</td>\n",
       "      <td>NaN</td>\n",
       "    </tr>\n",
       "    <tr>\n",
       "      <th>3</th>\n",
       "      <td>Não Houve Atraso</td>\n",
       "      <td>NaN</td>\n",
       "      <td>6282.0</td>\n",
       "    </tr>\n",
       "  </tbody>\n",
       "</table>\n",
       "</div>"
      ],
      "text/plain": [
       "       Status do Envio  Total Atraso  Total no Prazo\n",
       "0       Atraso Crítico         310.0             NaN\n",
       "1  Atraso Problemático        1917.0             NaN\n",
       "2     Atraso Tolerável        2134.0             NaN\n",
       "3     Não Houve Atraso           NaN          6282.0"
      ]
     },
     "execution_count": 91,
     "metadata": {},
     "output_type": "execute_result"
    }
   ],
   "source": [
    "# Novo ajuste das colunas\n",
    "df_report1.columns = ['Status do Envio', 'Total Atraso', 'Total no Prazo']\n",
    "df_report1.head()"
   ]
  },
  {
   "cell_type": "code",
   "execution_count": 94,
   "id": "9c0242fd",
   "metadata": {},
   "outputs": [],
   "source": [
    "# Replace no valor NAN por zero\n",
    "df_report1['Total Atraso'] = df_report1['Total Atraso'].replace(np.nan, 0)\n",
    "df_report1['Total no Prazo'] = df_report1['Total no Prazo'].replace(np.nan, 0)"
   ]
  },
  {
   "cell_type": "code",
   "execution_count": 95,
   "id": "1d96d9aa",
   "metadata": {},
   "outputs": [
    {
     "data": {
      "text/html": [
       "<div>\n",
       "<style scoped>\n",
       "    .dataframe tbody tr th:only-of-type {\n",
       "        vertical-align: middle;\n",
       "    }\n",
       "\n",
       "    .dataframe tbody tr th {\n",
       "        vertical-align: top;\n",
       "    }\n",
       "\n",
       "    .dataframe thead th {\n",
       "        text-align: right;\n",
       "    }\n",
       "</style>\n",
       "<table border=\"1\" class=\"dataframe\">\n",
       "  <thead>\n",
       "    <tr style=\"text-align: right;\">\n",
       "      <th></th>\n",
       "      <th>Status do Envio</th>\n",
       "      <th>Total Atraso</th>\n",
       "      <th>Total no Prazo</th>\n",
       "    </tr>\n",
       "  </thead>\n",
       "  <tbody>\n",
       "    <tr>\n",
       "      <th>0</th>\n",
       "      <td>Atraso Crítico</td>\n",
       "      <td>310.0</td>\n",
       "      <td>0.0</td>\n",
       "    </tr>\n",
       "    <tr>\n",
       "      <th>1</th>\n",
       "      <td>Atraso Problemático</td>\n",
       "      <td>1917.0</td>\n",
       "      <td>0.0</td>\n",
       "    </tr>\n",
       "    <tr>\n",
       "      <th>2</th>\n",
       "      <td>Atraso Tolerável</td>\n",
       "      <td>2134.0</td>\n",
       "      <td>0.0</td>\n",
       "    </tr>\n",
       "    <tr>\n",
       "      <th>3</th>\n",
       "      <td>Não Houve Atraso</td>\n",
       "      <td>0.0</td>\n",
       "      <td>6282.0</td>\n",
       "    </tr>\n",
       "  </tbody>\n",
       "</table>\n",
       "</div>"
      ],
      "text/plain": [
       "       Status do Envio  Total Atraso  Total no Prazo\n",
       "0       Atraso Crítico         310.0             0.0\n",
       "1  Atraso Problemático        1917.0             0.0\n",
       "2     Atraso Tolerável        2134.0             0.0\n",
       "3     Não Houve Atraso           0.0          6282.0"
      ]
     },
     "execution_count": 95,
     "metadata": {},
     "output_type": "execute_result"
    }
   ],
   "source": [
    "df_report1.head()"
   ]
  },
  {
   "cell_type": "code",
   "execution_count": 97,
   "id": "85cc6dca",
   "metadata": {},
   "outputs": [],
   "source": [
    "# Concatenar as colunas com o valor \"TOTAL\"\n",
    "df_report1['Total'] = df_report1['Total Atraso'] + df_report1['Total no Prazo']"
   ]
  },
  {
   "cell_type": "code",
   "execution_count": 99,
   "id": "c823b748",
   "metadata": {},
   "outputs": [],
   "source": [
    "df_report1.drop(df_report1.columns[[1,2]], axis = 1, inplace = True)"
   ]
  },
  {
   "cell_type": "code",
   "execution_count": 100,
   "id": "20eb1f14",
   "metadata": {},
   "outputs": [
    {
     "data": {
      "text/html": [
       "<div>\n",
       "<style scoped>\n",
       "    .dataframe tbody tr th:only-of-type {\n",
       "        vertical-align: middle;\n",
       "    }\n",
       "\n",
       "    .dataframe tbody tr th {\n",
       "        vertical-align: top;\n",
       "    }\n",
       "\n",
       "    .dataframe thead th {\n",
       "        text-align: right;\n",
       "    }\n",
       "</style>\n",
       "<table border=\"1\" class=\"dataframe\">\n",
       "  <thead>\n",
       "    <tr style=\"text-align: right;\">\n",
       "      <th></th>\n",
       "      <th>Status do Envio</th>\n",
       "      <th>Total</th>\n",
       "    </tr>\n",
       "  </thead>\n",
       "  <tbody>\n",
       "    <tr>\n",
       "      <th>0</th>\n",
       "      <td>Atraso Crítico</td>\n",
       "      <td>310.0</td>\n",
       "    </tr>\n",
       "    <tr>\n",
       "      <th>1</th>\n",
       "      <td>Atraso Problemático</td>\n",
       "      <td>1917.0</td>\n",
       "    </tr>\n",
       "    <tr>\n",
       "      <th>2</th>\n",
       "      <td>Atraso Tolerável</td>\n",
       "      <td>2134.0</td>\n",
       "    </tr>\n",
       "    <tr>\n",
       "      <th>3</th>\n",
       "      <td>Não Houve Atraso</td>\n",
       "      <td>6282.0</td>\n",
       "    </tr>\n",
       "  </tbody>\n",
       "</table>\n",
       "</div>"
      ],
      "text/plain": [
       "       Status do Envio   Total\n",
       "0       Atraso Crítico   310.0\n",
       "1  Atraso Problemático  1917.0\n",
       "2     Atraso Tolerável  2134.0\n",
       "3     Não Houve Atraso  6282.0"
      ]
     },
     "execution_count": 100,
     "metadata": {},
     "output_type": "execute_result"
    }
   ],
   "source": [
    "df_report1"
   ]
  },
  {
   "cell_type": "code",
   "execution_count": 102,
   "id": "c028d0a4",
   "metadata": {},
   "outputs": [
    {
     "data": {
      "image/png": "[encoded data removed]",
      "text/plain": [
       "<Figure size 1200x800 with 1 Axes>"
      ]
     },
     "metadata": {},
     "output_type": "display_data"
    }
   ],
   "source": [
    "# PLotagem - Passando Status do Envio como index\n",
    "df_report1.set_index(\"Status do Envio\").plot(kind = \"bar\",\n",
    "                                            title = 'Total de Envios dos Produtos Por Status',\n",
    "                                            ylabel = 'Total',\n",
    "                                            xlabel = '\\nStatus do Envio',\n",
    "                                            colormap = 'jet',\n",
    "                                            figsize = (12,8))\n",
    "plt.xticks(rotation = 0)\n",
    "plt.show()"
   ]
  },
  {
   "cell_type": "markdown",
   "id": "947a084f",
   "metadata": {},
   "source": [
    "## 2- Performance de envio do produto por prioridade de envio e Modo de envio\n",
    "\n",
    "O Modo de envio dos produtos associado à prioridade de envio dos produtos, tem impacto no atrazo dos produtos?\n",
    "Criaremos uma nova variável que representa a performance do envio do produto com base na seguinte regra de negócio:\n",
    " \n",
    "- Se a prioridade do produto era alta, o modo de envio era Navio e houve atraso, o atraso é crítico por Navio\n",
    "- Se a prioridade do produto era média, o modo de envio era Navio e houve atraso, o atraso é problemático por Navio\n",
    "- Se a prioridade do produto era baixa, o modo de envio era Navio e houve atraso, o atraso é tolerável por Navio\n",
    "\n",
    "- Se a prioridade do produto era alta, o modo de envio era Avião e houve atraso, o atraso é crítico por Avião\n",
    "- Se a prioridade do produto era média, o modo de envio era Avião e houve atraso, o atraso é problemático por Avião\n",
    "- Se a prioridade do produto era baixa, o modo de envio era Avião e houve atraso, o atraso é tolerável por Avião\n",
    "\n",
    "- Se a prioridade do produto era alta, o modo de envio era Caminhão e houve atraso, o atraso é crítico por Caminhão\n",
    "- Se a prioridade do produto era média, o modo de envio era Caminhão e houve atraso, o atraso é problemático por Caminhão\n",
    "- Se a prioridade do produto era baixa, o modo de envio era Caminhão e houve atraso, o atraso é tolerável por Caminhão"
   ]
  },
  {
   "cell_type": "code",
   "execution_count": 104,
   "id": "2dae4e01",
   "metadata": {},
   "outputs": [
    {
     "data": {
      "text/plain": [
       "Index(['ID', 'corredor_armazem', 'modo_envio', 'numero_chamadas_cliente',\n",
       "       'avaliacao_cliente', 'custo_produto', 'compras_anteriores',\n",
       "       'prioridade_produto', 'genero', 'desconto', 'peso_gramas',\n",
       "       'entregue_no_prazo', 'performance_prioridade_envio'],\n",
       "      dtype='object')"
      ]
     },
     "execution_count": 104,
     "metadata": {},
     "output_type": "execute_result"
    }
   ],
   "source": [
    "df_eng.columns"
   ]
  },
  {
   "cell_type": "code",
   "execution_count": 107,
   "id": "e277a208",
   "metadata": {},
   "outputs": [
    {
     "data": {
      "text/plain": [
       "modo_envio\n",
       "Navio       7212\n",
       "Aviao       1728\n",
       "Caminhao    1703\n",
       "Name: count, dtype: int64"
      ]
     },
     "execution_count": 107,
     "metadata": {},
     "output_type": "execute_result"
    }
   ],
   "source": [
    "df_eng.modo_envio.value_counts()"
   ]
  },
  {
   "cell_type": "code",
   "execution_count": 109,
   "id": "e6341065",
   "metadata": {},
   "outputs": [],
   "source": [
    "# Condicional para responder a pergunta de negócio nº 2\n",
    "df_eng['performance_modo_envio'] = \\\n",
    "np.where((df_eng['prioridade_produto'] == 'alta') & (df_eng['modo_envio'] == 'Navio') & (df_eng['entregue_no_prazo'] == 0), \"Atraso Crítico Por Navio\",\n",
    "np.where((df_eng['prioridade_produto'] == 'media') & (df_eng['modo_envio'] == 'Navio') & (df_eng['entregue_no_prazo'] == 0), 'Atraso Problemático Por Navio',\n",
    "np.where((df_eng['prioridade_produto'] == 'baixa') & (df_eng['modo_envio'] == 'Navio') & (df_eng['entregue_no_prazo'] == 0), 'Atraso Tolerável Por Navio',\n",
    "np.where((df_eng['prioridade_produto'] == 'alta') & (df_eng['modo_envio'] == 'Aviao') & (df_eng['entregue_no_prazo'] == 0), \"Atraso Crítico Por Aviao\",\n",
    "np.where((df_eng['prioridade_produto'] == 'media') & (df_eng['modo_envio'] == 'Aviao') & (df_eng['entregue_no_prazo'] == 0), 'Atraso Problemático Por Aviao',\n",
    "np.where((df_eng['prioridade_produto'] == 'baixa') & (df_eng['modo_envio'] == 'Aviao') & (df_eng['entregue_no_prazo'] == 0), 'Atraso Tolerável Por Aviao',\n",
    "np.where((df_eng['prioridade_produto'] == 'alta') & (df_eng['modo_envio'] == 'Caminhao') & (df_eng['entregue_no_prazo'] == 0), \"Atraso Crítico Por Caminhao\",\n",
    "np.where((df_eng['prioridade_produto'] == 'media') & (df_eng['modo_envio'] == 'Caminhao') & (df_eng['entregue_no_prazo'] == 0), 'Atraso Problemático Por Caminhao',\n",
    "np.where((df_eng['prioridade_produto'] == 'baixa') & (df_eng['modo_envio'] == 'Caminhao') & (df_eng['entregue_no_prazo'] == 0), 'Atraso Tolerável Por Caminhao',         \n",
    "         'Não Houve Atraso')))))))))"
   ]
  },
  {
   "cell_type": "code",
   "execution_count": 113,
   "id": "9623854b",
   "metadata": {},
   "outputs": [
    {
     "data": {
      "text/html": [
       "<div>\n",
       "<style scoped>\n",
       "    .dataframe tbody tr th:only-of-type {\n",
       "        vertical-align: middle;\n",
       "    }\n",
       "\n",
       "    .dataframe tbody tr th {\n",
       "        vertical-align: top;\n",
       "    }\n",
       "\n",
       "    .dataframe thead th {\n",
       "        text-align: right;\n",
       "    }\n",
       "</style>\n",
       "<table border=\"1\" class=\"dataframe\">\n",
       "  <thead>\n",
       "    <tr style=\"text-align: right;\">\n",
       "      <th></th>\n",
       "      <th>ID</th>\n",
       "      <th>corredor_armazem</th>\n",
       "      <th>modo_envio</th>\n",
       "      <th>numero_chamadas_cliente</th>\n",
       "      <th>avaliacao_cliente</th>\n",
       "      <th>custo_produto</th>\n",
       "      <th>compras_anteriores</th>\n",
       "      <th>prioridade_produto</th>\n",
       "      <th>genero</th>\n",
       "      <th>desconto</th>\n",
       "      <th>peso_gramas</th>\n",
       "      <th>entregue_no_prazo</th>\n",
       "      <th>performance_prioridade_envio</th>\n",
       "      <th>performance_modo_envio</th>\n",
       "    </tr>\n",
       "  </thead>\n",
       "  <tbody>\n",
       "    <tr>\n",
       "      <th>3612</th>\n",
       "      <td>3613</td>\n",
       "      <td>D</td>\n",
       "      <td>Navio</td>\n",
       "      <td>4</td>\n",
       "      <td>1</td>\n",
       "      <td>248</td>\n",
       "      <td>2</td>\n",
       "      <td>media</td>\n",
       "      <td>M</td>\n",
       "      <td>4</td>\n",
       "      <td>5783</td>\n",
       "      <td>0</td>\n",
       "      <td>Atraso Problemático</td>\n",
       "      <td>Atraso Problemático Por Navio</td>\n",
       "    </tr>\n",
       "    <tr>\n",
       "      <th>9603</th>\n",
       "      <td>9604</td>\n",
       "      <td>B</td>\n",
       "      <td>Aviao</td>\n",
       "      <td>5</td>\n",
       "      <td>3</td>\n",
       "      <td>206</td>\n",
       "      <td>2</td>\n",
       "      <td>media</td>\n",
       "      <td>M</td>\n",
       "      <td>7</td>\n",
       "      <td>4531</td>\n",
       "      <td>1</td>\n",
       "      <td>Não Houve Atraso</td>\n",
       "      <td>Não Houve Atraso</td>\n",
       "    </tr>\n",
       "    <tr>\n",
       "      <th>3722</th>\n",
       "      <td>3723</td>\n",
       "      <td>A</td>\n",
       "      <td>Navio</td>\n",
       "      <td>4</td>\n",
       "      <td>2</td>\n",
       "      <td>174</td>\n",
       "      <td>3</td>\n",
       "      <td>media</td>\n",
       "      <td>F</td>\n",
       "      <td>10</td>\n",
       "      <td>4318</td>\n",
       "      <td>0</td>\n",
       "      <td>Atraso Problemático</td>\n",
       "      <td>Atraso Problemático Por Navio</td>\n",
       "    </tr>\n",
       "    <tr>\n",
       "      <th>9459</th>\n",
       "      <td>9460</td>\n",
       "      <td>B</td>\n",
       "      <td>Aviao</td>\n",
       "      <td>5</td>\n",
       "      <td>5</td>\n",
       "      <td>286</td>\n",
       "      <td>4</td>\n",
       "      <td>alta</td>\n",
       "      <td>F</td>\n",
       "      <td>10</td>\n",
       "      <td>1071</td>\n",
       "      <td>1</td>\n",
       "      <td>Não Houve Atraso</td>\n",
       "      <td>Não Houve Atraso</td>\n",
       "    </tr>\n",
       "    <tr>\n",
       "      <th>316</th>\n",
       "      <td>317</td>\n",
       "      <td>C</td>\n",
       "      <td>Navio</td>\n",
       "      <td>4</td>\n",
       "      <td>2</td>\n",
       "      <td>238</td>\n",
       "      <td>2</td>\n",
       "      <td>alta</td>\n",
       "      <td>M</td>\n",
       "      <td>17</td>\n",
       "      <td>3358</td>\n",
       "      <td>1</td>\n",
       "      <td>Não Houve Atraso</td>\n",
       "      <td>Não Houve Atraso</td>\n",
       "    </tr>\n",
       "    <tr>\n",
       "      <th>9952</th>\n",
       "      <td>9953</td>\n",
       "      <td>C</td>\n",
       "      <td>Navio</td>\n",
       "      <td>7</td>\n",
       "      <td>4</td>\n",
       "      <td>284</td>\n",
       "      <td>4</td>\n",
       "      <td>baixa</td>\n",
       "      <td>M</td>\n",
       "      <td>3</td>\n",
       "      <td>1751</td>\n",
       "      <td>1</td>\n",
       "      <td>Não Houve Atraso</td>\n",
       "      <td>Não Houve Atraso</td>\n",
       "    </tr>\n",
       "    <tr>\n",
       "      <th>6814</th>\n",
       "      <td>6815</td>\n",
       "      <td>C</td>\n",
       "      <td>Navio</td>\n",
       "      <td>6</td>\n",
       "      <td>3</td>\n",
       "      <td>297</td>\n",
       "      <td>4</td>\n",
       "      <td>media</td>\n",
       "      <td>M</td>\n",
       "      <td>2</td>\n",
       "      <td>1954</td>\n",
       "      <td>0</td>\n",
       "      <td>Atraso Problemático</td>\n",
       "      <td>Atraso Problemático Por Navio</td>\n",
       "    </tr>\n",
       "    <tr>\n",
       "      <th>5620</th>\n",
       "      <td>5621</td>\n",
       "      <td>C</td>\n",
       "      <td>Aviao</td>\n",
       "      <td>4</td>\n",
       "      <td>2</td>\n",
       "      <td>200</td>\n",
       "      <td>2</td>\n",
       "      <td>baixa</td>\n",
       "      <td>F</td>\n",
       "      <td>8</td>\n",
       "      <td>4222</td>\n",
       "      <td>0</td>\n",
       "      <td>Atraso Tolerável</td>\n",
       "      <td>Atraso Tolerável Por Aviao</td>\n",
       "    </tr>\n",
       "    <tr>\n",
       "      <th>1169</th>\n",
       "      <td>1170</td>\n",
       "      <td>F</td>\n",
       "      <td>Navio</td>\n",
       "      <td>6</td>\n",
       "      <td>1</td>\n",
       "      <td>257</td>\n",
       "      <td>3</td>\n",
       "      <td>media</td>\n",
       "      <td>M</td>\n",
       "      <td>37</td>\n",
       "      <td>2239</td>\n",
       "      <td>1</td>\n",
       "      <td>Não Houve Atraso</td>\n",
       "      <td>Não Houve Atraso</td>\n",
       "    </tr>\n",
       "    <tr>\n",
       "      <th>5408</th>\n",
       "      <td>5409</td>\n",
       "      <td>A</td>\n",
       "      <td>Navio</td>\n",
       "      <td>3</td>\n",
       "      <td>1</td>\n",
       "      <td>267</td>\n",
       "      <td>3</td>\n",
       "      <td>baixa</td>\n",
       "      <td>M</td>\n",
       "      <td>5</td>\n",
       "      <td>5528</td>\n",
       "      <td>0</td>\n",
       "      <td>Atraso Tolerável</td>\n",
       "      <td>Atraso Tolerável Por Navio</td>\n",
       "    </tr>\n",
       "  </tbody>\n",
       "</table>\n",
       "</div>"
      ],
      "text/plain": [
       "        ID corredor_armazem modo_envio  numero_chamadas_cliente  \\\n",
       "3612  3613                D      Navio                        4   \n",
       "9603  9604                B      Aviao                        5   \n",
       "3722  3723                A      Navio                        4   \n",
       "9459  9460                B      Aviao                        5   \n",
       "316    317                C      Navio                        4   \n",
       "9952  9953                C      Navio                        7   \n",
       "6814  6815                C      Navio                        6   \n",
       "5620  5621                C      Aviao                        4   \n",
       "1169  1170                F      Navio                        6   \n",
       "5408  5409                A      Navio                        3   \n",
       "\n",
       "      avaliacao_cliente  custo_produto  compras_anteriores prioridade_produto  \\\n",
       "3612                  1            248                   2              media   \n",
       "9603                  3            206                   2              media   \n",
       "3722                  2            174                   3              media   \n",
       "9459                  5            286                   4               alta   \n",
       "316                   2            238                   2               alta   \n",
       "9952                  4            284                   4              baixa   \n",
       "6814                  3            297                   4              media   \n",
       "5620                  2            200                   2              baixa   \n",
       "1169                  1            257                   3              media   \n",
       "5408                  1            267                   3              baixa   \n",
       "\n",
       "     genero  desconto  peso_gramas  entregue_no_prazo  \\\n",
       "3612      M         4         5783                  0   \n",
       "9603      M         7         4531                  1   \n",
       "3722      F        10         4318                  0   \n",
       "9459      F        10         1071                  1   \n",
       "316       M        17         3358                  1   \n",
       "9952      M         3         1751                  1   \n",
       "6814      M         2         1954                  0   \n",
       "5620      F         8         4222                  0   \n",
       "1169      M        37         2239                  1   \n",
       "5408      M         5         5528                  0   \n",
       "\n",
       "     performance_prioridade_envio         performance_modo_envio  \n",
       "3612          Atraso Problemático  Atraso Problemático Por Navio  \n",
       "9603             Não Houve Atraso               Não Houve Atraso  \n",
       "3722          Atraso Problemático  Atraso Problemático Por Navio  \n",
       "9459             Não Houve Atraso               Não Houve Atraso  \n",
       "316              Não Houve Atraso               Não Houve Atraso  \n",
       "9952             Não Houve Atraso               Não Houve Atraso  \n",
       "6814          Atraso Problemático  Atraso Problemático Por Navio  \n",
       "5620             Atraso Tolerável     Atraso Tolerável Por Aviao  \n",
       "1169             Não Houve Atraso               Não Houve Atraso  \n",
       "5408             Atraso Tolerável     Atraso Tolerável Por Navio  "
      ]
     },
     "execution_count": 113,
     "metadata": {},
     "output_type": "execute_result"
    }
   ],
   "source": [
    "df_eng.sample(10)"
   ]
  },
  {
   "cell_type": "code",
   "execution_count": 137,
   "id": "a042d4da",
   "metadata": {},
   "outputs": [],
   "source": [
    "df_report2 = df_eng.groupby(['performance_modo_envio', 'entregue_no_prazo'])\\\n",
    "        .agg({'prioridade_produto': ['count']}).reset_index()"
   ]
  },
  {
   "cell_type": "code",
   "execution_count": 138,
   "id": "dc09bc7c",
   "metadata": {},
   "outputs": [
    {
     "data": {
      "text/html": [
       "<div>\n",
       "<style scoped>\n",
       "    .dataframe tbody tr th:only-of-type {\n",
       "        vertical-align: middle;\n",
       "    }\n",
       "\n",
       "    .dataframe tbody tr th {\n",
       "        vertical-align: top;\n",
       "    }\n",
       "\n",
       "    .dataframe thead tr th {\n",
       "        text-align: left;\n",
       "    }\n",
       "</style>\n",
       "<table border=\"1\" class=\"dataframe\">\n",
       "  <thead>\n",
       "    <tr>\n",
       "      <th></th>\n",
       "      <th>performance_modo_envio</th>\n",
       "      <th>entregue_no_prazo</th>\n",
       "      <th>prioridade_produto</th>\n",
       "    </tr>\n",
       "    <tr>\n",
       "      <th></th>\n",
       "      <th></th>\n",
       "      <th></th>\n",
       "      <th>count</th>\n",
       "    </tr>\n",
       "  </thead>\n",
       "  <tbody>\n",
       "    <tr>\n",
       "      <th>0</th>\n",
       "      <td>Atraso Crítico Por Aviao</td>\n",
       "      <td>0</td>\n",
       "      <td>65</td>\n",
       "    </tr>\n",
       "    <tr>\n",
       "      <th>1</th>\n",
       "      <td>Atraso Crítico Por Caminhao</td>\n",
       "      <td>0</td>\n",
       "      <td>51</td>\n",
       "    </tr>\n",
       "    <tr>\n",
       "      <th>2</th>\n",
       "      <td>Atraso Crítico Por Navio</td>\n",
       "      <td>0</td>\n",
       "      <td>194</td>\n",
       "    </tr>\n",
       "    <tr>\n",
       "      <th>3</th>\n",
       "      <td>Atraso Problemático Por Aviao</td>\n",
       "      <td>0</td>\n",
       "      <td>300</td>\n",
       "    </tr>\n",
       "    <tr>\n",
       "      <th>4</th>\n",
       "      <td>Atraso Problemático Por Caminhao</td>\n",
       "      <td>0</td>\n",
       "      <td>310</td>\n",
       "    </tr>\n",
       "    <tr>\n",
       "      <th>5</th>\n",
       "      <td>Atraso Problemático Por Navio</td>\n",
       "      <td>0</td>\n",
       "      <td>1307</td>\n",
       "    </tr>\n",
       "    <tr>\n",
       "      <th>6</th>\n",
       "      <td>Atraso Tolerável Por Aviao</td>\n",
       "      <td>0</td>\n",
       "      <td>331</td>\n",
       "    </tr>\n",
       "    <tr>\n",
       "      <th>7</th>\n",
       "      <td>Atraso Tolerável Por Caminhao</td>\n",
       "      <td>0</td>\n",
       "      <td>350</td>\n",
       "    </tr>\n",
       "    <tr>\n",
       "      <th>8</th>\n",
       "      <td>Atraso Tolerável Por Navio</td>\n",
       "      <td>0</td>\n",
       "      <td>1453</td>\n",
       "    </tr>\n",
       "    <tr>\n",
       "      <th>9</th>\n",
       "      <td>Não Houve Atraso</td>\n",
       "      <td>1</td>\n",
       "      <td>6282</td>\n",
       "    </tr>\n",
       "  </tbody>\n",
       "</table>\n",
       "</div>"
      ],
      "text/plain": [
       "             performance_modo_envio entregue_no_prazo prioridade_produto\n",
       "                                                                   count\n",
       "0          Atraso Crítico Por Aviao                 0                 65\n",
       "1       Atraso Crítico Por Caminhao                 0                 51\n",
       "2          Atraso Crítico Por Navio                 0                194\n",
       "3     Atraso Problemático Por Aviao                 0                300\n",
       "4  Atraso Problemático Por Caminhao                 0                310\n",
       "5     Atraso Problemático Por Navio                 0               1307\n",
       "6        Atraso Tolerável Por Aviao                 0                331\n",
       "7     Atraso Tolerável Por Caminhao                 0                350\n",
       "8        Atraso Tolerável Por Navio                 0               1453\n",
       "9                  Não Houve Atraso                 1               6282"
      ]
     },
     "execution_count": 138,
     "metadata": {},
     "output_type": "execute_result"
    }
   ],
   "source": [
    "df_report2"
   ]
  },
  {
   "cell_type": "code",
   "execution_count": 139,
   "id": "d4da795d",
   "metadata": {},
   "outputs": [
    {
     "data": {
      "text/html": [
       "<div>\n",
       "<style scoped>\n",
       "    .dataframe tbody tr th:only-of-type {\n",
       "        vertical-align: middle;\n",
       "    }\n",
       "\n",
       "    .dataframe tbody tr th {\n",
       "        vertical-align: top;\n",
       "    }\n",
       "\n",
       "    .dataframe thead th {\n",
       "        text-align: right;\n",
       "    }\n",
       "</style>\n",
       "<table border=\"1\" class=\"dataframe\">\n",
       "  <thead>\n",
       "    <tr style=\"text-align: right;\">\n",
       "      <th></th>\n",
       "      <th>performance_modo_envio</th>\n",
       "      <th>entregue_no_prazo</th>\n",
       "      <th>contagem</th>\n",
       "    </tr>\n",
       "  </thead>\n",
       "  <tbody>\n",
       "    <tr>\n",
       "      <th>0</th>\n",
       "      <td>Atraso Crítico Por Aviao</td>\n",
       "      <td>0</td>\n",
       "      <td>65</td>\n",
       "    </tr>\n",
       "    <tr>\n",
       "      <th>1</th>\n",
       "      <td>Atraso Crítico Por Caminhao</td>\n",
       "      <td>0</td>\n",
       "      <td>51</td>\n",
       "    </tr>\n",
       "    <tr>\n",
       "      <th>2</th>\n",
       "      <td>Atraso Crítico Por Navio</td>\n",
       "      <td>0</td>\n",
       "      <td>194</td>\n",
       "    </tr>\n",
       "    <tr>\n",
       "      <th>3</th>\n",
       "      <td>Atraso Problemático Por Aviao</td>\n",
       "      <td>0</td>\n",
       "      <td>300</td>\n",
       "    </tr>\n",
       "    <tr>\n",
       "      <th>4</th>\n",
       "      <td>Atraso Problemático Por Caminhao</td>\n",
       "      <td>0</td>\n",
       "      <td>310</td>\n",
       "    </tr>\n",
       "  </tbody>\n",
       "</table>\n",
       "</div>"
      ],
      "text/plain": [
       "             performance_modo_envio  entregue_no_prazo  contagem\n",
       "0          Atraso Crítico Por Aviao                  0        65\n",
       "1       Atraso Crítico Por Caminhao                  0        51\n",
       "2          Atraso Crítico Por Navio                  0       194\n",
       "3     Atraso Problemático Por Aviao                  0       300\n",
       "4  Atraso Problemático Por Caminhao                  0       310"
      ]
     },
     "execution_count": 139,
     "metadata": {},
     "output_type": "execute_result"
    }
   ],
   "source": [
    "df_report2.columns = ['performance_modo_envio',\n",
    "                   'entregue_no_prazo',\n",
    "                   'contagem']\n",
    "df_report2.head(5)"
   ]
  },
  {
   "cell_type": "code",
   "execution_count": 140,
   "id": "9748b439",
   "metadata": {},
   "outputs": [
    {
     "data": {
      "text/html": [
       "<div>\n",
       "<style scoped>\n",
       "    .dataframe tbody tr th:only-of-type {\n",
       "        vertical-align: middle;\n",
       "    }\n",
       "\n",
       "    .dataframe tbody tr th {\n",
       "        vertical-align: top;\n",
       "    }\n",
       "\n",
       "    .dataframe thead th {\n",
       "        text-align: right;\n",
       "    }\n",
       "</style>\n",
       "<table border=\"1\" class=\"dataframe\">\n",
       "  <thead>\n",
       "    <tr style=\"text-align: right;\">\n",
       "      <th>entregue_no_prazo</th>\n",
       "      <th>performance_modo_envio</th>\n",
       "      <th>0</th>\n",
       "      <th>1</th>\n",
       "    </tr>\n",
       "  </thead>\n",
       "  <tbody>\n",
       "    <tr>\n",
       "      <th>0</th>\n",
       "      <td>Atraso Crítico Por Aviao</td>\n",
       "      <td>65.0</td>\n",
       "      <td>NaN</td>\n",
       "    </tr>\n",
       "    <tr>\n",
       "      <th>1</th>\n",
       "      <td>Atraso Crítico Por Caminhao</td>\n",
       "      <td>51.0</td>\n",
       "      <td>NaN</td>\n",
       "    </tr>\n",
       "    <tr>\n",
       "      <th>2</th>\n",
       "      <td>Atraso Crítico Por Navio</td>\n",
       "      <td>194.0</td>\n",
       "      <td>NaN</td>\n",
       "    </tr>\n",
       "    <tr>\n",
       "      <th>3</th>\n",
       "      <td>Atraso Problemático Por Aviao</td>\n",
       "      <td>300.0</td>\n",
       "      <td>NaN</td>\n",
       "    </tr>\n",
       "    <tr>\n",
       "      <th>4</th>\n",
       "      <td>Atraso Problemático Por Caminhao</td>\n",
       "      <td>310.0</td>\n",
       "      <td>NaN</td>\n",
       "    </tr>\n",
       "    <tr>\n",
       "      <th>5</th>\n",
       "      <td>Atraso Problemático Por Navio</td>\n",
       "      <td>1307.0</td>\n",
       "      <td>NaN</td>\n",
       "    </tr>\n",
       "    <tr>\n",
       "      <th>6</th>\n",
       "      <td>Atraso Tolerável Por Aviao</td>\n",
       "      <td>331.0</td>\n",
       "      <td>NaN</td>\n",
       "    </tr>\n",
       "    <tr>\n",
       "      <th>7</th>\n",
       "      <td>Atraso Tolerável Por Caminhao</td>\n",
       "      <td>350.0</td>\n",
       "      <td>NaN</td>\n",
       "    </tr>\n",
       "    <tr>\n",
       "      <th>8</th>\n",
       "      <td>Atraso Tolerável Por Navio</td>\n",
       "      <td>1453.0</td>\n",
       "      <td>NaN</td>\n",
       "    </tr>\n",
       "    <tr>\n",
       "      <th>9</th>\n",
       "      <td>Não Houve Atraso</td>\n",
       "      <td>NaN</td>\n",
       "      <td>6282.0</td>\n",
       "    </tr>\n",
       "  </tbody>\n",
       "</table>\n",
       "</div>"
      ],
      "text/plain": [
       "entregue_no_prazo            performance_modo_envio       0       1\n",
       "0                          Atraso Crítico Por Aviao    65.0     NaN\n",
       "1                       Atraso Crítico Por Caminhao    51.0     NaN\n",
       "2                          Atraso Crítico Por Navio   194.0     NaN\n",
       "3                     Atraso Problemático Por Aviao   300.0     NaN\n",
       "4                  Atraso Problemático Por Caminhao   310.0     NaN\n",
       "5                     Atraso Problemático Por Navio  1307.0     NaN\n",
       "6                        Atraso Tolerável Por Aviao   331.0     NaN\n",
       "7                     Atraso Tolerável Por Caminhao   350.0     NaN\n",
       "8                        Atraso Tolerável Por Navio  1453.0     NaN\n",
       "9                                  Não Houve Atraso     NaN  6282.0"
      ]
     },
     "execution_count": 140,
     "metadata": {},
     "output_type": "execute_result"
    }
   ],
   "source": [
    "# Pivotagem\n",
    "df_report2 = pd.pivot_table(df_report2,\n",
    "                           index = 'performance_modo_envio',\n",
    "                           columns = 'entregue_no_prazo',\n",
    "                           values = 'contagem').reset_index()\n",
    "df_report2.head(10)"
   ]
  },
  {
   "cell_type": "code",
   "execution_count": 141,
   "id": "1a3ba3d7",
   "metadata": {},
   "outputs": [
    {
     "data": {
      "text/html": [
       "<div>\n",
       "<style scoped>\n",
       "    .dataframe tbody tr th:only-of-type {\n",
       "        vertical-align: middle;\n",
       "    }\n",
       "\n",
       "    .dataframe tbody tr th {\n",
       "        vertical-align: top;\n",
       "    }\n",
       "\n",
       "    .dataframe thead th {\n",
       "        text-align: right;\n",
       "    }\n",
       "</style>\n",
       "<table border=\"1\" class=\"dataframe\">\n",
       "  <thead>\n",
       "    <tr style=\"text-align: right;\">\n",
       "      <th></th>\n",
       "      <th>Status Envio</th>\n",
       "      <th>Total Atraso</th>\n",
       "      <th>Total no Prazo</th>\n",
       "    </tr>\n",
       "  </thead>\n",
       "  <tbody>\n",
       "    <tr>\n",
       "      <th>0</th>\n",
       "      <td>Atraso Crítico Por Aviao</td>\n",
       "      <td>65.0</td>\n",
       "      <td>NaN</td>\n",
       "    </tr>\n",
       "    <tr>\n",
       "      <th>1</th>\n",
       "      <td>Atraso Crítico Por Caminhao</td>\n",
       "      <td>51.0</td>\n",
       "      <td>NaN</td>\n",
       "    </tr>\n",
       "    <tr>\n",
       "      <th>2</th>\n",
       "      <td>Atraso Crítico Por Navio</td>\n",
       "      <td>194.0</td>\n",
       "      <td>NaN</td>\n",
       "    </tr>\n",
       "    <tr>\n",
       "      <th>3</th>\n",
       "      <td>Atraso Problemático Por Aviao</td>\n",
       "      <td>300.0</td>\n",
       "      <td>NaN</td>\n",
       "    </tr>\n",
       "    <tr>\n",
       "      <th>4</th>\n",
       "      <td>Atraso Problemático Por Caminhao</td>\n",
       "      <td>310.0</td>\n",
       "      <td>NaN</td>\n",
       "    </tr>\n",
       "    <tr>\n",
       "      <th>5</th>\n",
       "      <td>Atraso Problemático Por Navio</td>\n",
       "      <td>1307.0</td>\n",
       "      <td>NaN</td>\n",
       "    </tr>\n",
       "    <tr>\n",
       "      <th>6</th>\n",
       "      <td>Atraso Tolerável Por Aviao</td>\n",
       "      <td>331.0</td>\n",
       "      <td>NaN</td>\n",
       "    </tr>\n",
       "    <tr>\n",
       "      <th>7</th>\n",
       "      <td>Atraso Tolerável Por Caminhao</td>\n",
       "      <td>350.0</td>\n",
       "      <td>NaN</td>\n",
       "    </tr>\n",
       "    <tr>\n",
       "      <th>8</th>\n",
       "      <td>Atraso Tolerável Por Navio</td>\n",
       "      <td>1453.0</td>\n",
       "      <td>NaN</td>\n",
       "    </tr>\n",
       "    <tr>\n",
       "      <th>9</th>\n",
       "      <td>Não Houve Atraso</td>\n",
       "      <td>NaN</td>\n",
       "      <td>6282.0</td>\n",
       "    </tr>\n",
       "  </tbody>\n",
       "</table>\n",
       "</div>"
      ],
      "text/plain": [
       "                       Status Envio  Total Atraso  Total no Prazo\n",
       "0          Atraso Crítico Por Aviao          65.0             NaN\n",
       "1       Atraso Crítico Por Caminhao          51.0             NaN\n",
       "2          Atraso Crítico Por Navio         194.0             NaN\n",
       "3     Atraso Problemático Por Aviao         300.0             NaN\n",
       "4  Atraso Problemático Por Caminhao         310.0             NaN\n",
       "5     Atraso Problemático Por Navio        1307.0             NaN\n",
       "6        Atraso Tolerável Por Aviao         331.0             NaN\n",
       "7     Atraso Tolerável Por Caminhao         350.0             NaN\n",
       "8        Atraso Tolerável Por Navio        1453.0             NaN\n",
       "9                  Não Houve Atraso           NaN          6282.0"
      ]
     },
     "execution_count": 141,
     "metadata": {},
     "output_type": "execute_result"
    }
   ],
   "source": [
    "# Renomear novamente as colunas\n",
    "df_report2.columns = ['Status Envio',\n",
    "                   'Total Atraso',\n",
    "                   'Total no Prazo']\n",
    "df_report2"
   ]
  },
  {
   "cell_type": "code",
   "execution_count": 142,
   "id": "53f2a840",
   "metadata": {},
   "outputs": [
    {
     "data": {
      "text/html": [
       "<div>\n",
       "<style scoped>\n",
       "    .dataframe tbody tr th:only-of-type {\n",
       "        vertical-align: middle;\n",
       "    }\n",
       "\n",
       "    .dataframe tbody tr th {\n",
       "        vertical-align: top;\n",
       "    }\n",
       "\n",
       "    .dataframe thead th {\n",
       "        text-align: right;\n",
       "    }\n",
       "</style>\n",
       "<table border=\"1\" class=\"dataframe\">\n",
       "  <thead>\n",
       "    <tr style=\"text-align: right;\">\n",
       "      <th></th>\n",
       "      <th>Status Envio</th>\n",
       "      <th>Total Atraso</th>\n",
       "      <th>Total no Prazo</th>\n",
       "    </tr>\n",
       "  </thead>\n",
       "  <tbody>\n",
       "    <tr>\n",
       "      <th>0</th>\n",
       "      <td>Atraso Crítico Por Aviao</td>\n",
       "      <td>65.0</td>\n",
       "      <td>0.0</td>\n",
       "    </tr>\n",
       "    <tr>\n",
       "      <th>1</th>\n",
       "      <td>Atraso Crítico Por Caminhao</td>\n",
       "      <td>51.0</td>\n",
       "      <td>0.0</td>\n",
       "    </tr>\n",
       "    <tr>\n",
       "      <th>2</th>\n",
       "      <td>Atraso Crítico Por Navio</td>\n",
       "      <td>194.0</td>\n",
       "      <td>0.0</td>\n",
       "    </tr>\n",
       "    <tr>\n",
       "      <th>3</th>\n",
       "      <td>Atraso Problemático Por Aviao</td>\n",
       "      <td>300.0</td>\n",
       "      <td>0.0</td>\n",
       "    </tr>\n",
       "    <tr>\n",
       "      <th>4</th>\n",
       "      <td>Atraso Problemático Por Caminhao</td>\n",
       "      <td>310.0</td>\n",
       "      <td>0.0</td>\n",
       "    </tr>\n",
       "    <tr>\n",
       "      <th>5</th>\n",
       "      <td>Atraso Problemático Por Navio</td>\n",
       "      <td>1307.0</td>\n",
       "      <td>0.0</td>\n",
       "    </tr>\n",
       "    <tr>\n",
       "      <th>6</th>\n",
       "      <td>Atraso Tolerável Por Aviao</td>\n",
       "      <td>331.0</td>\n",
       "      <td>0.0</td>\n",
       "    </tr>\n",
       "    <tr>\n",
       "      <th>7</th>\n",
       "      <td>Atraso Tolerável Por Caminhao</td>\n",
       "      <td>350.0</td>\n",
       "      <td>0.0</td>\n",
       "    </tr>\n",
       "    <tr>\n",
       "      <th>8</th>\n",
       "      <td>Atraso Tolerável Por Navio</td>\n",
       "      <td>1453.0</td>\n",
       "      <td>0.0</td>\n",
       "    </tr>\n",
       "    <tr>\n",
       "      <th>9</th>\n",
       "      <td>Não Houve Atraso</td>\n",
       "      <td>0.0</td>\n",
       "      <td>6282.0</td>\n",
       "    </tr>\n",
       "  </tbody>\n",
       "</table>\n",
       "</div>"
      ],
      "text/plain": [
       "                       Status Envio  Total Atraso  Total no Prazo\n",
       "0          Atraso Crítico Por Aviao          65.0             0.0\n",
       "1       Atraso Crítico Por Caminhao          51.0             0.0\n",
       "2          Atraso Crítico Por Navio         194.0             0.0\n",
       "3     Atraso Problemático Por Aviao         300.0             0.0\n",
       "4  Atraso Problemático Por Caminhao         310.0             0.0\n",
       "5     Atraso Problemático Por Navio        1307.0             0.0\n",
       "6        Atraso Tolerável Por Aviao         331.0             0.0\n",
       "7     Atraso Tolerável Por Caminhao         350.0             0.0\n",
       "8        Atraso Tolerável Por Navio        1453.0             0.0\n",
       "9                  Não Houve Atraso           0.0          6282.0"
      ]
     },
     "execution_count": 142,
     "metadata": {},
     "output_type": "execute_result"
    }
   ],
   "source": [
    "# replace de valores NaN por 0\n",
    "df_report2['Total Atraso'] = df_report2['Total Atraso'].replace(np.nan, 0)\n",
    "df_report2['Total no Prazo'] = df_report2['Total no Prazo'].replace(np.nan, 0)\n",
    "\n",
    "df_report2"
   ]
  },
  {
   "cell_type": "code",
   "execution_count": 144,
   "id": "d7b539c0",
   "metadata": {},
   "outputs": [],
   "source": [
    "df_report2[\"Total\"] = df_report2['Total Atraso'] + df_report2['Total no Prazo']"
   ]
  },
  {
   "cell_type": "code",
   "execution_count": 146,
   "id": "9bc0dbb4",
   "metadata": {},
   "outputs": [],
   "source": [
    "df_report2.drop(df_report2.columns[[1,2]], axis = 1, inplace = True)"
   ]
  },
  {
   "cell_type": "code",
   "execution_count": 147,
   "id": "78c6a9d3",
   "metadata": {},
   "outputs": [
    {
     "data": {
      "text/html": [
       "<div>\n",
       "<style scoped>\n",
       "    .dataframe tbody tr th:only-of-type {\n",
       "        vertical-align: middle;\n",
       "    }\n",
       "\n",
       "    .dataframe tbody tr th {\n",
       "        vertical-align: top;\n",
       "    }\n",
       "\n",
       "    .dataframe thead th {\n",
       "        text-align: right;\n",
       "    }\n",
       "</style>\n",
       "<table border=\"1\" class=\"dataframe\">\n",
       "  <thead>\n",
       "    <tr style=\"text-align: right;\">\n",
       "      <th></th>\n",
       "      <th>Status Envio</th>\n",
       "      <th>Total</th>\n",
       "    </tr>\n",
       "  </thead>\n",
       "  <tbody>\n",
       "    <tr>\n",
       "      <th>0</th>\n",
       "      <td>Atraso Crítico Por Aviao</td>\n",
       "      <td>65.0</td>\n",
       "    </tr>\n",
       "    <tr>\n",
       "      <th>1</th>\n",
       "      <td>Atraso Crítico Por Caminhao</td>\n",
       "      <td>51.0</td>\n",
       "    </tr>\n",
       "    <tr>\n",
       "      <th>2</th>\n",
       "      <td>Atraso Crítico Por Navio</td>\n",
       "      <td>194.0</td>\n",
       "    </tr>\n",
       "    <tr>\n",
       "      <th>3</th>\n",
       "      <td>Atraso Problemático Por Aviao</td>\n",
       "      <td>300.0</td>\n",
       "    </tr>\n",
       "    <tr>\n",
       "      <th>4</th>\n",
       "      <td>Atraso Problemático Por Caminhao</td>\n",
       "      <td>310.0</td>\n",
       "    </tr>\n",
       "    <tr>\n",
       "      <th>5</th>\n",
       "      <td>Atraso Problemático Por Navio</td>\n",
       "      <td>1307.0</td>\n",
       "    </tr>\n",
       "    <tr>\n",
       "      <th>6</th>\n",
       "      <td>Atraso Tolerável Por Aviao</td>\n",
       "      <td>331.0</td>\n",
       "    </tr>\n",
       "    <tr>\n",
       "      <th>7</th>\n",
       "      <td>Atraso Tolerável Por Caminhao</td>\n",
       "      <td>350.0</td>\n",
       "    </tr>\n",
       "    <tr>\n",
       "      <th>8</th>\n",
       "      <td>Atraso Tolerável Por Navio</td>\n",
       "      <td>1453.0</td>\n",
       "    </tr>\n",
       "    <tr>\n",
       "      <th>9</th>\n",
       "      <td>Não Houve Atraso</td>\n",
       "      <td>6282.0</td>\n",
       "    </tr>\n",
       "  </tbody>\n",
       "</table>\n",
       "</div>"
      ],
      "text/plain": [
       "                       Status Envio   Total\n",
       "0          Atraso Crítico Por Aviao    65.0\n",
       "1       Atraso Crítico Por Caminhao    51.0\n",
       "2          Atraso Crítico Por Navio   194.0\n",
       "3     Atraso Problemático Por Aviao   300.0\n",
       "4  Atraso Problemático Por Caminhao   310.0\n",
       "5     Atraso Problemático Por Navio  1307.0\n",
       "6        Atraso Tolerável Por Aviao   331.0\n",
       "7     Atraso Tolerável Por Caminhao   350.0\n",
       "8        Atraso Tolerável Por Navio  1453.0\n",
       "9                  Não Houve Atraso  6282.0"
      ]
     },
     "execution_count": 147,
     "metadata": {},
     "output_type": "execute_result"
    }
   ],
   "source": [
    "df_report2"
   ]
  },
  {
   "cell_type": "code",
   "execution_count": 151,
   "id": "c90cd7b3",
   "metadata": {},
   "outputs": [
    {
     "data": {
      "image/png": "[encoded data removed]",
      "text/plain": [
       "<Figure size 2000x800 with 1 Axes>"
      ]
     },
     "metadata": {},
     "output_type": "display_data"
    }
   ],
   "source": [
    "# PLotagem - Passando Status do Envio como index\n",
    "df_report2.set_index(\"Status Envio\").plot(kind = \"bar\",\n",
    "                                            title = 'Total de Envios dos Produtos Por Status',\n",
    "                                            ylabel = 'Total',\n",
    "                                            xlabel = '\\nStatus do Envio',\n",
    "                                            colormap = 'viridis',\n",
    "                                            figsize = (20,8))\n",
    "plt.xticks(rotation = 20)\n",
    "plt.show()"
   ]
  },
  {
   "cell_type": "markdown",
   "id": "c556797f",
   "metadata": {},
   "source": [
    "## 3 - Performance de envio do produto considerando os Descontos\n",
    "\n",
    "**Variável 1 - Faixa_desconto**\n",
    "- Desconto acima ou igual à média\n",
    "- Desconto abaixo da média\n",
    "\n",
    "**Variável 2 - Performance_faixa_desconto**\n",
    "\n",
    " \n",
    "- Se a faixa de desconto foi acima ou igual à média e houve atraso = \"Atraso na Entrega com Desconto Acima da Média\"\n",
    "- Se a faixa de desconto foi acima ou igual à média NÃO e houve atraso = \"Entrega no Prazo com Desconto Acima da Média\"\n",
    "- Se a faixa de desconto foi baixo ou igual à média e houve atraso = \"Atraso na Entrega com Desconto Abaixo da Média\"\n",
    "- Se a faixa de desconto foi baixo ou igual à média NÃO e houve atraso = \"Entrega no Prazo com Desconto Abaixo da Média\""
   ]
  },
  {
   "cell_type": "code",
   "execution_count": 154,
   "id": "e2dc1081",
   "metadata": {},
   "outputs": [
    {
     "data": {
      "text/plain": [
       "Index(['ID', 'corredor_armazem', 'modo_envio', 'numero_chamadas_cliente',\n",
       "       'avaliacao_cliente', 'custo_produto', 'compras_anteriores',\n",
       "       'prioridade_produto', 'genero', 'desconto', 'peso_gramas',\n",
       "       'entregue_no_prazo', 'performance_prioridade_envio',\n",
       "       'performance_modo_envio'],\n",
       "      dtype='object')"
      ]
     },
     "execution_count": 154,
     "metadata": {},
     "output_type": "execute_result"
    }
   ],
   "source": [
    "df_eng.columns"
   ]
  },
  {
   "cell_type": "code",
   "execution_count": 156,
   "id": "7280d2e5",
   "metadata": {},
   "outputs": [
    {
     "data": {
      "text/plain": [
       "count    10643.000000\n",
       "mean        12.528047\n",
       "std         14.991968\n",
       "min          1.000000\n",
       "25%          4.000000\n",
       "50%          7.000000\n",
       "75%         10.000000\n",
       "max         61.000000\n",
       "Name: desconto, dtype: float64"
      ]
     },
     "execution_count": 156,
     "metadata": {},
     "output_type": "execute_result"
    }
   ],
   "source": [
    "df_eng.desconto.describe()"
   ]
  },
  {
   "cell_type": "code",
   "execution_count": 157,
   "id": "f8f3c5a7",
   "metadata": {},
   "outputs": [],
   "source": [
    "# Variável 1\n",
    "df_eng['faixa_desconto'] = np.where(df_eng.desconto >= 12, 'Desconto Acima da Média', 'Desconto Abaixo da Média')"
   ]
  },
  {
   "cell_type": "code",
   "execution_count": 160,
   "id": "5b14bdd4",
   "metadata": {},
   "outputs": [],
   "source": [
    "# Variável 2\n",
    "df_eng['performance_faixa_desconto'] =\\\n",
    "np.where((df_eng['faixa_desconto'] == 'Desconto Acima da Média') & (df_eng['entregue_no_prazo'] == 0), 'Atraso na Entrega com Desconto Acima da Média',\n",
    "np.where((df_eng['faixa_desconto'] == 'Desconto Abaixo da Média') & (df_eng['entregue_no_prazo'] == 0), 'Atraso na Entrega com Desconto Abaixo da Média',\n",
    "np.where((df_eng['faixa_desconto'] == 'Desconto Acima da Média') & (df_eng['entregue_no_prazo'] == 1), 'Entrega no Prazo com Desconto Acima da Média',\n",
    "np.where((df_eng['faixa_desconto'] == 'Desconto Abaixo da Média') & (df_eng['entregue_no_prazo'] == 1), 'Entrega no Prazo com Desconto Abaixo da Média',\n",
    "np.nan))))"
   ]
  },
  {
   "cell_type": "code",
   "execution_count": 162,
   "id": "d44101b7",
   "metadata": {},
   "outputs": [
    {
     "data": {
      "text/plain": [
       "performance_faixa_desconto\n",
       "Atraso na Entrega com Desconto Abaixo da Média    4361\n",
       "Entrega no Prazo com Desconto Abaixo da Média     3908\n",
       "Entrega no Prazo com Desconto Acima da Média      2374\n",
       "Name: count, dtype: int64"
      ]
     },
     "execution_count": 162,
     "metadata": {},
     "output_type": "execute_result"
    }
   ],
   "source": [
    "df_eng.performance_faixa_desconto.value_counts()"
   ]
  },
  {
   "cell_type": "code",
   "execution_count": 164,
   "id": "17551404",
   "metadata": {},
   "outputs": [],
   "source": [
    "# Salvar dataframe formato CSV\n",
    "df_eng.to_csv('dados/df_eng', sep=';', encoding = 'utf-8')"
   ]
  },
  {
   "cell_type": "code",
   "execution_count": null,
   "id": "2eea2b03",
   "metadata": {},
   "outputs": [],
   "source": []
  }
 ],
 "metadata": {
  "kernelspec": {
   "display_name": "Python 3 (ipykernel)",
   "language": "python",
   "name": "python3"
  },
  "language_info": {
   "codemirror_mode": {
    "name": "ipython",
    "version": 3
   },
   "file_extension": ".py",
   "mimetype": "text/x-python",
   "name": "python",
   "nbconvert_exporter": "python",
   "pygments_lexer": "ipython3",
   "version": "3.9.13"
  }
 },
 "nbformat": 4,
 "nbformat_minor": 5
}
