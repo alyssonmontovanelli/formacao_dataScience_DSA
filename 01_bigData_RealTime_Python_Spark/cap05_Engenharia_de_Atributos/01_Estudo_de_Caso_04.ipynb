{
 "cells": [
  {
   "cell_type": "code",
   "execution_count": 64,
   "id": "a4f6208e",
   "metadata": {},
   "outputs": [],
   "source": [
    "import scipy\n",
    "import numpy as np\n",
    "import pandas as pd\n",
    "import matplotlib.pyplot as plt\n",
    "import seaborn as sns\n",
    "from scipy import stats"
   ]
  },
  {
   "cell_type": "code",
   "execution_count": 65,
   "id": "608a67be",
   "metadata": {},
   "outputs": [],
   "source": [
    "# Carregando DataSet \n",
    "df = pd.read_csv('dados/dataset.csv')"
   ]
  },
  {
   "cell_type": "code",
   "execution_count": 66,
   "id": "6ff72c3d",
   "metadata": {},
   "outputs": [
    {
     "data": {
      "text/plain": [
       "(11000, 12)"
      ]
     },
     "execution_count": 66,
     "metadata": {},
     "output_type": "execute_result"
    }
   ],
   "source": [
    "df.shape"
   ]
  },
  {
   "cell_type": "code",
   "execution_count": 67,
   "id": "01c96559",
   "metadata": {},
   "outputs": [
    {
     "data": {
      "text/html": [
       "<div>\n",
       "<style scoped>\n",
       "    .dataframe tbody tr th:only-of-type {\n",
       "        vertical-align: middle;\n",
       "    }\n",
       "\n",
       "    .dataframe tbody tr th {\n",
       "        vertical-align: top;\n",
       "    }\n",
       "\n",
       "    .dataframe thead th {\n",
       "        text-align: right;\n",
       "    }\n",
       "</style>\n",
       "<table border=\"1\" class=\"dataframe\">\n",
       "  <thead>\n",
       "    <tr style=\"text-align: right;\">\n",
       "      <th></th>\n",
       "      <th>ID</th>\n",
       "      <th>corredor_armazem</th>\n",
       "      <th>modo_envio</th>\n",
       "      <th>numero_chamadas_cliente</th>\n",
       "      <th>avaliacao_cliente</th>\n",
       "      <th>custo_produto</th>\n",
       "      <th>compras_anteriores</th>\n",
       "      <th>prioridade_produto</th>\n",
       "      <th>genero</th>\n",
       "      <th>desconto</th>\n",
       "      <th>peso_gramas</th>\n",
       "      <th>entregue_no_prazo</th>\n",
       "    </tr>\n",
       "  </thead>\n",
       "  <tbody>\n",
       "    <tr>\n",
       "      <th>0</th>\n",
       "      <td>1</td>\n",
       "      <td>D</td>\n",
       "      <td>Aviao</td>\n",
       "      <td>4</td>\n",
       "      <td>2</td>\n",
       "      <td>177</td>\n",
       "      <td>3</td>\n",
       "      <td>baixa</td>\n",
       "      <td>F</td>\n",
       "      <td>44</td>\n",
       "      <td>1233</td>\n",
       "      <td>1</td>\n",
       "    </tr>\n",
       "    <tr>\n",
       "      <th>1</th>\n",
       "      <td>2</td>\n",
       "      <td>F</td>\n",
       "      <td>Aviao</td>\n",
       "      <td>4</td>\n",
       "      <td>5</td>\n",
       "      <td>216</td>\n",
       "      <td>2</td>\n",
       "      <td>baixa</td>\n",
       "      <td>M</td>\n",
       "      <td>59</td>\n",
       "      <td>3088</td>\n",
       "      <td>1</td>\n",
       "    </tr>\n",
       "    <tr>\n",
       "      <th>2</th>\n",
       "      <td>3</td>\n",
       "      <td>A</td>\n",
       "      <td>Aviao</td>\n",
       "      <td>2</td>\n",
       "      <td>2</td>\n",
       "      <td>183</td>\n",
       "      <td>4</td>\n",
       "      <td>baixa</td>\n",
       "      <td>M</td>\n",
       "      <td>48</td>\n",
       "      <td>3374</td>\n",
       "      <td>1</td>\n",
       "    </tr>\n",
       "    <tr>\n",
       "      <th>3</th>\n",
       "      <td>4</td>\n",
       "      <td>B</td>\n",
       "      <td>Aviao</td>\n",
       "      <td>3</td>\n",
       "      <td>3</td>\n",
       "      <td>176</td>\n",
       "      <td>4</td>\n",
       "      <td>media</td>\n",
       "      <td>M</td>\n",
       "      <td>10</td>\n",
       "      <td>1177</td>\n",
       "      <td>1</td>\n",
       "    </tr>\n",
       "    <tr>\n",
       "      <th>4</th>\n",
       "      <td>5</td>\n",
       "      <td>C</td>\n",
       "      <td>Aviao</td>\n",
       "      <td>2</td>\n",
       "      <td>2</td>\n",
       "      <td>184</td>\n",
       "      <td>3</td>\n",
       "      <td>media</td>\n",
       "      <td>F</td>\n",
       "      <td>46</td>\n",
       "      <td>2484</td>\n",
       "      <td>1</td>\n",
       "    </tr>\n",
       "  </tbody>\n",
       "</table>\n",
       "</div>"
      ],
      "text/plain": [
       "   ID corredor_armazem modo_envio  numero_chamadas_cliente  avaliacao_cliente  \\\n",
       "0   1                D      Aviao                        4                  2   \n",
       "1   2                F      Aviao                        4                  5   \n",
       "2   3                A      Aviao                        2                  2   \n",
       "3   4                B      Aviao                        3                  3   \n",
       "4   5                C      Aviao                        2                  2   \n",
       "\n",
       "   custo_produto  compras_anteriores prioridade_produto genero  desconto  \\\n",
       "0            177                   3              baixa      F        44   \n",
       "1            216                   2              baixa      M        59   \n",
       "2            183                   4              baixa      M        48   \n",
       "3            176                   4              media      M        10   \n",
       "4            184                   3              media      F        46   \n",
       "\n",
       "   peso_gramas  entregue_no_prazo  \n",
       "0         1233                  1  \n",
       "1         3088                  1  \n",
       "2         3374                  1  \n",
       "3         1177                  1  \n",
       "4         2484                  1  "
      ]
     },
     "execution_count": 67,
     "metadata": {},
     "output_type": "execute_result"
    }
   ],
   "source": [
    "df.head()"
   ]
  },
  {
   "cell_type": "code",
   "execution_count": 68,
   "id": "56dad1fe",
   "metadata": {},
   "outputs": [
    {
     "name": "stdout",
     "output_type": "stream",
     "text": [
      "<class 'pandas.core.frame.DataFrame'>\n",
      "RangeIndex: 11000 entries, 0 to 10999\n",
      "Data columns (total 12 columns):\n",
      " #   Column                   Non-Null Count  Dtype \n",
      "---  ------                   --------------  ----- \n",
      " 0   ID                       11000 non-null  int64 \n",
      " 1   corredor_armazem         11000 non-null  object\n",
      " 2   modo_envio               11000 non-null  object\n",
      " 3   numero_chamadas_cliente  11000 non-null  int64 \n",
      " 4   avaliacao_cliente        11000 non-null  int64 \n",
      " 5   custo_produto            11000 non-null  int64 \n",
      " 6   compras_anteriores       11000 non-null  int64 \n",
      " 7   prioridade_produto       11000 non-null  object\n",
      " 8   genero                   11000 non-null  object\n",
      " 9   desconto                 11000 non-null  int64 \n",
      " 10  peso_gramas              11000 non-null  int64 \n",
      " 11  entregue_no_prazo        11000 non-null  int64 \n",
      "dtypes: int64(8), object(4)\n",
      "memory usage: 1.0+ MB\n"
     ]
    }
   ],
   "source": [
    "df.info()"
   ]
  },
  {
   "cell_type": "code",
   "execution_count": 69,
   "id": "bef34e2e",
   "metadata": {},
   "outputs": [
    {
     "data": {
      "text/plain": [
       "Index(['ID', 'corredor_armazem', 'modo_envio', 'numero_chamadas_cliente',\n",
       "       'avaliacao_cliente', 'custo_produto', 'compras_anteriores',\n",
       "       'prioridade_produto', 'genero', 'desconto', 'peso_gramas',\n",
       "       'entregue_no_prazo'],\n",
       "      dtype='object')"
      ]
     },
     "execution_count": 69,
     "metadata": {},
     "output_type": "execute_result"
    }
   ],
   "source": [
    "df.columns"
   ]
  },
  {
   "cell_type": "code",
   "execution_count": 70,
   "id": "28e50b97",
   "metadata": {},
   "outputs": [],
   "source": [
    "cats = ['corredor_armazem', 'modo_envio', 'prioridade_produto', 'genero']"
   ]
  },
  {
   "cell_type": "code",
   "execution_count": 71,
   "id": "cf6af751",
   "metadata": {},
   "outputs": [],
   "source": [
    "nums = ['numero_chamadas_cliente', 'avaliacao_cliente', 'custo_produto', 'compras_anteriores', \n",
    "        'desconto', 'peso_gramas']"
   ]
  },
  {
   "cell_type": "code",
   "execution_count": 72,
   "id": "7685072e",
   "metadata": {},
   "outputs": [],
   "source": [
    "target = ['entregue_no_prazo'] # Variável alvo"
   ]
  },
  {
   "cell_type": "code",
   "execution_count": 73,
   "id": "ebbe4764",
   "metadata": {},
   "outputs": [
    {
     "data": {
      "text/html": [
       "<div>\n",
       "<style scoped>\n",
       "    .dataframe tbody tr th:only-of-type {\n",
       "        vertical-align: middle;\n",
       "    }\n",
       "\n",
       "    .dataframe tbody tr th {\n",
       "        vertical-align: top;\n",
       "    }\n",
       "\n",
       "    .dataframe thead th {\n",
       "        text-align: right;\n",
       "    }\n",
       "</style>\n",
       "<table border=\"1\" class=\"dataframe\">\n",
       "  <thead>\n",
       "    <tr style=\"text-align: right;\">\n",
       "      <th></th>\n",
       "      <th>numero_chamadas_cliente</th>\n",
       "      <th>avaliacao_cliente</th>\n",
       "      <th>custo_produto</th>\n",
       "      <th>compras_anteriores</th>\n",
       "      <th>desconto</th>\n",
       "      <th>peso_gramas</th>\n",
       "    </tr>\n",
       "  </thead>\n",
       "  <tbody>\n",
       "    <tr>\n",
       "      <th>count</th>\n",
       "      <td>11000.000000</td>\n",
       "      <td>11000.000000</td>\n",
       "      <td>11000.000000</td>\n",
       "      <td>11000.000000</td>\n",
       "      <td>11000.000000</td>\n",
       "      <td>11000.000000</td>\n",
       "    </tr>\n",
       "    <tr>\n",
       "      <th>mean</th>\n",
       "      <td>4.054455</td>\n",
       "      <td>2.990455</td>\n",
       "      <td>210.200909</td>\n",
       "      <td>3.567727</td>\n",
       "      <td>13.372545</td>\n",
       "      <td>3633.844455</td>\n",
       "    </tr>\n",
       "    <tr>\n",
       "      <th>std</th>\n",
       "      <td>1.141438</td>\n",
       "      <td>1.413570</td>\n",
       "      <td>48.062985</td>\n",
       "      <td>1.522852</td>\n",
       "      <td>16.204943</td>\n",
       "      <td>1635.402722</td>\n",
       "    </tr>\n",
       "    <tr>\n",
       "      <th>min</th>\n",
       "      <td>2.000000</td>\n",
       "      <td>1.000000</td>\n",
       "      <td>96.000000</td>\n",
       "      <td>2.000000</td>\n",
       "      <td>1.000000</td>\n",
       "      <td>1001.000000</td>\n",
       "    </tr>\n",
       "    <tr>\n",
       "      <th>25%</th>\n",
       "      <td>3.000000</td>\n",
       "      <td>2.000000</td>\n",
       "      <td>169.000000</td>\n",
       "      <td>3.000000</td>\n",
       "      <td>4.000000</td>\n",
       "      <td>1839.000000</td>\n",
       "    </tr>\n",
       "    <tr>\n",
       "      <th>50%</th>\n",
       "      <td>4.000000</td>\n",
       "      <td>3.000000</td>\n",
       "      <td>214.000000</td>\n",
       "      <td>3.000000</td>\n",
       "      <td>7.000000</td>\n",
       "      <td>4149.000000</td>\n",
       "    </tr>\n",
       "    <tr>\n",
       "      <th>75%</th>\n",
       "      <td>5.000000</td>\n",
       "      <td>4.000000</td>\n",
       "      <td>251.000000</td>\n",
       "      <td>4.000000</td>\n",
       "      <td>10.000000</td>\n",
       "      <td>5050.000000</td>\n",
       "    </tr>\n",
       "    <tr>\n",
       "      <th>max</th>\n",
       "      <td>7.000000</td>\n",
       "      <td>5.000000</td>\n",
       "      <td>310.000000</td>\n",
       "      <td>10.000000</td>\n",
       "      <td>65.000000</td>\n",
       "      <td>7846.000000</td>\n",
       "    </tr>\n",
       "  </tbody>\n",
       "</table>\n",
       "</div>"
      ],
      "text/plain": [
       "       numero_chamadas_cliente  avaliacao_cliente  custo_produto  \\\n",
       "count             11000.000000       11000.000000   11000.000000   \n",
       "mean                  4.054455           2.990455     210.200909   \n",
       "std                   1.141438           1.413570      48.062985   \n",
       "min                   2.000000           1.000000      96.000000   \n",
       "25%                   3.000000           2.000000     169.000000   \n",
       "50%                   4.000000           3.000000     214.000000   \n",
       "75%                   5.000000           4.000000     251.000000   \n",
       "max                   7.000000           5.000000     310.000000   \n",
       "\n",
       "       compras_anteriores      desconto   peso_gramas  \n",
       "count        11000.000000  11000.000000  11000.000000  \n",
       "mean             3.567727     13.372545   3633.844455  \n",
       "std              1.522852     16.204943   1635.402722  \n",
       "min              2.000000      1.000000   1001.000000  \n",
       "25%              3.000000      4.000000   1839.000000  \n",
       "50%              3.000000      7.000000   4149.000000  \n",
       "75%              4.000000     10.000000   5050.000000  \n",
       "max             10.000000     65.000000   7846.000000  "
      ]
     },
     "execution_count": 73,
     "metadata": {},
     "output_type": "execute_result"
    }
   ],
   "source": [
    "df[nums].describe()"
   ]
  },
  {
   "cell_type": "code",
   "execution_count": 74,
   "id": "eaea2cb4",
   "metadata": {},
   "outputs": [
    {
     "data": {
      "text/html": [
       "<div>\n",
       "<style scoped>\n",
       "    .dataframe tbody tr th:only-of-type {\n",
       "        vertical-align: middle;\n",
       "    }\n",
       "\n",
       "    .dataframe tbody tr th {\n",
       "        vertical-align: top;\n",
       "    }\n",
       "\n",
       "    .dataframe thead th {\n",
       "        text-align: right;\n",
       "    }\n",
       "</style>\n",
       "<table border=\"1\" class=\"dataframe\">\n",
       "  <thead>\n",
       "    <tr style=\"text-align: right;\">\n",
       "      <th></th>\n",
       "      <th>corredor_armazem</th>\n",
       "      <th>modo_envio</th>\n",
       "      <th>prioridade_produto</th>\n",
       "      <th>genero</th>\n",
       "    </tr>\n",
       "  </thead>\n",
       "  <tbody>\n",
       "    <tr>\n",
       "      <th>count</th>\n",
       "      <td>11000</td>\n",
       "      <td>11000</td>\n",
       "      <td>11000</td>\n",
       "      <td>11000</td>\n",
       "    </tr>\n",
       "    <tr>\n",
       "      <th>unique</th>\n",
       "      <td>5</td>\n",
       "      <td>3</td>\n",
       "      <td>3</td>\n",
       "      <td>2</td>\n",
       "    </tr>\n",
       "    <tr>\n",
       "      <th>top</th>\n",
       "      <td>F</td>\n",
       "      <td>Navio</td>\n",
       "      <td>baixa</td>\n",
       "      <td>F</td>\n",
       "    </tr>\n",
       "    <tr>\n",
       "      <th>freq</th>\n",
       "      <td>3666</td>\n",
       "      <td>7463</td>\n",
       "      <td>5298</td>\n",
       "      <td>5546</td>\n",
       "    </tr>\n",
       "  </tbody>\n",
       "</table>\n",
       "</div>"
      ],
      "text/plain": [
       "       corredor_armazem modo_envio prioridade_produto genero\n",
       "count             11000      11000              11000  11000\n",
       "unique                5          3                  3      2\n",
       "top                   F      Navio              baixa      F\n",
       "freq               3666       7463               5298   5546"
      ]
     },
     "execution_count": 74,
     "metadata": {},
     "output_type": "execute_result"
    }
   ],
   "source": [
    "df[cats].describe()"
   ]
  },
  {
   "cell_type": "code",
   "execution_count": 75,
   "id": "db50a52e",
   "metadata": {},
   "outputs": [
    {
     "data": {
      "text/plain": [
       "entregue_no_prazo\n",
       "1                    6563\n",
       "0                    4437\n",
       "Name: count, dtype: int64"
      ]
     },
     "execution_count": 75,
     "metadata": {},
     "output_type": "execute_result"
    }
   ],
   "source": [
    "df[target].value_counts()"
   ]
  },
  {
   "cell_type": "markdown",
   "id": "753df38e",
   "metadata": {},
   "source": [
    "### Limpeza de Dados"
   ]
  },
  {
   "cell_type": "code",
   "execution_count": 76,
   "id": "2b303cfb",
   "metadata": {},
   "outputs": [
    {
     "data": {
      "text/plain": [
       "ID                         0\n",
       "corredor_armazem           0\n",
       "modo_envio                 0\n",
       "numero_chamadas_cliente    0\n",
       "avaliacao_cliente          0\n",
       "custo_produto              0\n",
       "compras_anteriores         0\n",
       "prioridade_produto         0\n",
       "genero                     0\n",
       "desconto                   0\n",
       "peso_gramas                0\n",
       "entregue_no_prazo          0\n",
       "dtype: int64"
      ]
     },
     "execution_count": 76,
     "metadata": {},
     "output_type": "execute_result"
    }
   ],
   "source": [
    "df.isna().sum()"
   ]
  },
  {
   "cell_type": "markdown",
   "id": "4655d46d",
   "metadata": {},
   "source": [
    "## Valores Duplicados"
   ]
  },
  {
   "cell_type": "code",
   "execution_count": 77,
   "id": "0ae88b6a",
   "metadata": {},
   "outputs": [
    {
     "data": {
      "text/plain": [
       "0"
      ]
     },
     "execution_count": 77,
     "metadata": {},
     "output_type": "execute_result"
    }
   ],
   "source": [
    "df.duplicated().sum()"
   ]
  },
  {
   "cell_type": "markdown",
   "id": "f17fc2eb",
   "metadata": {},
   "source": [
    "## Tratamento de Valores Outliers "
   ]
  },
  {
   "cell_type": "code",
   "execution_count": 78,
   "id": "31c12570",
   "metadata": {},
   "outputs": [
    {
     "name": "stdout",
     "output_type": "stream",
     "text": [
      "Número de linhas antes de filtar valores extremos (Outliers): 11000\n"
     ]
    }
   ],
   "source": [
    "print(f\"Número de linhas antes de filtar valores extremos (Outliers): {len(df)}\")"
   ]
  },
  {
   "cell_type": "code",
   "execution_count": 79,
   "id": "5e5c47d1",
   "metadata": {},
   "outputs": [
    {
     "data": {
      "text/html": [
       "<div>\n",
       "<style scoped>\n",
       "    .dataframe tbody tr th:only-of-type {\n",
       "        vertical-align: middle;\n",
       "    }\n",
       "\n",
       "    .dataframe tbody tr th {\n",
       "        vertical-align: top;\n",
       "    }\n",
       "\n",
       "    .dataframe thead th {\n",
       "        text-align: right;\n",
       "    }\n",
       "</style>\n",
       "<table border=\"1\" class=\"dataframe\">\n",
       "  <thead>\n",
       "    <tr style=\"text-align: right;\">\n",
       "      <th></th>\n",
       "      <th>numero_chamadas_cliente</th>\n",
       "      <th>avaliacao_cliente</th>\n",
       "      <th>custo_produto</th>\n",
       "      <th>compras_anteriores</th>\n",
       "      <th>desconto</th>\n",
       "      <th>peso_gramas</th>\n",
       "    </tr>\n",
       "  </thead>\n",
       "  <tbody>\n",
       "    <tr>\n",
       "      <th>0</th>\n",
       "      <td>4</td>\n",
       "      <td>2</td>\n",
       "      <td>177</td>\n",
       "      <td>3</td>\n",
       "      <td>44</td>\n",
       "      <td>1233</td>\n",
       "    </tr>\n",
       "    <tr>\n",
       "      <th>1</th>\n",
       "      <td>4</td>\n",
       "      <td>5</td>\n",
       "      <td>216</td>\n",
       "      <td>2</td>\n",
       "      <td>59</td>\n",
       "      <td>3088</td>\n",
       "    </tr>\n",
       "    <tr>\n",
       "      <th>2</th>\n",
       "      <td>2</td>\n",
       "      <td>2</td>\n",
       "      <td>183</td>\n",
       "      <td>4</td>\n",
       "      <td>48</td>\n",
       "      <td>3374</td>\n",
       "    </tr>\n",
       "    <tr>\n",
       "      <th>3</th>\n",
       "      <td>3</td>\n",
       "      <td>3</td>\n",
       "      <td>176</td>\n",
       "      <td>4</td>\n",
       "      <td>10</td>\n",
       "      <td>1177</td>\n",
       "    </tr>\n",
       "    <tr>\n",
       "      <th>4</th>\n",
       "      <td>2</td>\n",
       "      <td>2</td>\n",
       "      <td>184</td>\n",
       "      <td>3</td>\n",
       "      <td>46</td>\n",
       "      <td>2484</td>\n",
       "    </tr>\n",
       "  </tbody>\n",
       "</table>\n",
       "</div>"
      ],
      "text/plain": [
       "   numero_chamadas_cliente  avaliacao_cliente  custo_produto  \\\n",
       "0                        4                  2            177   \n",
       "1                        4                  5            216   \n",
       "2                        2                  2            183   \n",
       "3                        3                  3            176   \n",
       "4                        2                  2            184   \n",
       "\n",
       "   compras_anteriores  desconto  peso_gramas  \n",
       "0                   3        44         1233  \n",
       "1                   2        59         3088  \n",
       "2                   4        48         3374  \n",
       "3                   4        10         1177  \n",
       "4                   3        46         2484  "
      ]
     },
     "execution_count": 79,
     "metadata": {},
     "output_type": "execute_result"
    }
   ],
   "source": [
    "df[nums].head()"
   ]
  },
  {
   "cell_type": "code",
   "execution_count": 80,
   "id": "adc4912e",
   "metadata": {},
   "outputs": [
    {
     "data": {
      "text/plain": [
       "13.372545454545454"
      ]
     },
     "execution_count": 80,
     "metadata": {},
     "output_type": "execute_result"
    }
   ],
   "source": [
    "# Aplicar o conceito a uma única variável\n",
    "\n",
    "df.desconto.mean()"
   ]
  },
  {
   "cell_type": "code",
   "execution_count": 81,
   "id": "f45e8d1d",
   "metadata": {},
   "outputs": [
    {
     "data": {
      "text/plain": [
       "16.20494287359407"
      ]
     },
     "execution_count": 81,
     "metadata": {},
     "output_type": "execute_result"
    }
   ],
   "source": [
    "df.desconto.std() #Desvio padrão - distância da média"
   ]
  },
  {
   "cell_type": "code",
   "execution_count": 82,
   "id": "3989cb9d",
   "metadata": {},
   "outputs": [
    {
     "data": {
      "image/png": "[encoded data removed]",
      "text/plain": [
       "<Figure size 640x480 with 1 Axes>"
      ]
     },
     "metadata": {},
     "output_type": "display_data"
    }
   ],
   "source": [
    "df.desconto.hist();"
   ]
  },
  {
   "cell_type": "code",
   "execution_count": 83,
   "id": "ec75a16c",
   "metadata": {},
   "outputs": [
    {
     "name": "stdout",
     "output_type": "stream",
     "text": [
      "Limite Superior: 61.987374075327665\n",
      "Limite Inferior: -35.24228316623676\n"
     ]
    }
   ],
   "source": [
    "# Calcula os limites superior e inferior \n",
    "# Um valor OUTLIER é aquele que está abaixo do limite inferior ou acima do lim superior\n",
    "\n",
    "limite_superior = df.desconto.mean() + 3 * df.desconto.std()\n",
    "print(f\"Limite Superior: {limite_superior}\")\n",
    "\n",
    "limite_inferior = df.desconto.mean() - 3 * df.desconto.std()\n",
    "print(f\"Limite Inferior: {limite_inferior}\")"
   ]
  },
  {
   "cell_type": "code",
   "execution_count": 84,
   "id": "b06811fd",
   "metadata": {},
   "outputs": [
    {
     "data": {
      "text/html": [
       "<div>\n",
       "<style scoped>\n",
       "    .dataframe tbody tr th:only-of-type {\n",
       "        vertical-align: middle;\n",
       "    }\n",
       "\n",
       "    .dataframe tbody tr th {\n",
       "        vertical-align: top;\n",
       "    }\n",
       "\n",
       "    .dataframe thead th {\n",
       "        text-align: right;\n",
       "    }\n",
       "</style>\n",
       "<table border=\"1\" class=\"dataframe\">\n",
       "  <thead>\n",
       "    <tr style=\"text-align: right;\">\n",
       "      <th></th>\n",
       "      <th>ID</th>\n",
       "      <th>corredor_armazem</th>\n",
       "      <th>modo_envio</th>\n",
       "      <th>numero_chamadas_cliente</th>\n",
       "      <th>avaliacao_cliente</th>\n",
       "      <th>custo_produto</th>\n",
       "      <th>compras_anteriores</th>\n",
       "      <th>prioridade_produto</th>\n",
       "      <th>genero</th>\n",
       "      <th>desconto</th>\n",
       "      <th>peso_gramas</th>\n",
       "      <th>entregue_no_prazo</th>\n",
       "    </tr>\n",
       "  </thead>\n",
       "  <tbody>\n",
       "    <tr>\n",
       "      <th>36</th>\n",
       "      <td>37</td>\n",
       "      <td>D</td>\n",
       "      <td>Navio</td>\n",
       "      <td>3</td>\n",
       "      <td>5</td>\n",
       "      <td>137</td>\n",
       "      <td>4</td>\n",
       "      <td>alta</td>\n",
       "      <td>F</td>\n",
       "      <td>62</td>\n",
       "      <td>1477</td>\n",
       "      <td>1</td>\n",
       "    </tr>\n",
       "    <tr>\n",
       "      <th>60</th>\n",
       "      <td>61</td>\n",
       "      <td>D</td>\n",
       "      <td>Navio</td>\n",
       "      <td>3</td>\n",
       "      <td>1</td>\n",
       "      <td>221</td>\n",
       "      <td>3</td>\n",
       "      <td>baixa</td>\n",
       "      <td>F</td>\n",
       "      <td>64</td>\n",
       "      <td>2794</td>\n",
       "      <td>1</td>\n",
       "    </tr>\n",
       "    <tr>\n",
       "      <th>62</th>\n",
       "      <td>63</td>\n",
       "      <td>A</td>\n",
       "      <td>Navio</td>\n",
       "      <td>5</td>\n",
       "      <td>1</td>\n",
       "      <td>105</td>\n",
       "      <td>6</td>\n",
       "      <td>media</td>\n",
       "      <td>M</td>\n",
       "      <td>62</td>\n",
       "      <td>1292</td>\n",
       "      <td>1</td>\n",
       "    </tr>\n",
       "    <tr>\n",
       "      <th>111</th>\n",
       "      <td>112</td>\n",
       "      <td>B</td>\n",
       "      <td>Caminhao</td>\n",
       "      <td>4</td>\n",
       "      <td>2</td>\n",
       "      <td>239</td>\n",
       "      <td>3</td>\n",
       "      <td>baixa</td>\n",
       "      <td>F</td>\n",
       "      <td>65</td>\n",
       "      <td>3679</td>\n",
       "      <td>1</td>\n",
       "    </tr>\n",
       "    <tr>\n",
       "      <th>122</th>\n",
       "      <td>123</td>\n",
       "      <td>A</td>\n",
       "      <td>Caminhao</td>\n",
       "      <td>4</td>\n",
       "      <td>2</td>\n",
       "      <td>160</td>\n",
       "      <td>3</td>\n",
       "      <td>baixa</td>\n",
       "      <td>M</td>\n",
       "      <td>64</td>\n",
       "      <td>1714</td>\n",
       "      <td>1</td>\n",
       "    </tr>\n",
       "    <tr>\n",
       "      <th>...</th>\n",
       "      <td>...</td>\n",
       "      <td>...</td>\n",
       "      <td>...</td>\n",
       "      <td>...</td>\n",
       "      <td>...</td>\n",
       "      <td>...</td>\n",
       "      <td>...</td>\n",
       "      <td>...</td>\n",
       "      <td>...</td>\n",
       "      <td>...</td>\n",
       "      <td>...</td>\n",
       "      <td>...</td>\n",
       "    </tr>\n",
       "    <tr>\n",
       "      <th>3005</th>\n",
       "      <td>3006</td>\n",
       "      <td>F</td>\n",
       "      <td>Caminhao</td>\n",
       "      <td>5</td>\n",
       "      <td>2</td>\n",
       "      <td>159</td>\n",
       "      <td>3</td>\n",
       "      <td>media</td>\n",
       "      <td>F</td>\n",
       "      <td>63</td>\n",
       "      <td>1675</td>\n",
       "      <td>1</td>\n",
       "    </tr>\n",
       "    <tr>\n",
       "      <th>3017</th>\n",
       "      <td>3018</td>\n",
       "      <td>F</td>\n",
       "      <td>Aviao</td>\n",
       "      <td>4</td>\n",
       "      <td>1</td>\n",
       "      <td>235</td>\n",
       "      <td>2</td>\n",
       "      <td>alta</td>\n",
       "      <td>M</td>\n",
       "      <td>64</td>\n",
       "      <td>2107</td>\n",
       "      <td>1</td>\n",
       "    </tr>\n",
       "    <tr>\n",
       "      <th>3040</th>\n",
       "      <td>3041</td>\n",
       "      <td>C</td>\n",
       "      <td>Navio</td>\n",
       "      <td>3</td>\n",
       "      <td>2</td>\n",
       "      <td>149</td>\n",
       "      <td>3</td>\n",
       "      <td>media</td>\n",
       "      <td>F</td>\n",
       "      <td>64</td>\n",
       "      <td>1920</td>\n",
       "      <td>1</td>\n",
       "    </tr>\n",
       "    <tr>\n",
       "      <th>3068</th>\n",
       "      <td>3069</td>\n",
       "      <td>A</td>\n",
       "      <td>Navio</td>\n",
       "      <td>4</td>\n",
       "      <td>3</td>\n",
       "      <td>139</td>\n",
       "      <td>3</td>\n",
       "      <td>baixa</td>\n",
       "      <td>M</td>\n",
       "      <td>64</td>\n",
       "      <td>1814</td>\n",
       "      <td>1</td>\n",
       "    </tr>\n",
       "    <tr>\n",
       "      <th>3086</th>\n",
       "      <td>3087</td>\n",
       "      <td>A</td>\n",
       "      <td>Navio</td>\n",
       "      <td>3</td>\n",
       "      <td>2</td>\n",
       "      <td>223</td>\n",
       "      <td>2</td>\n",
       "      <td>baixa</td>\n",
       "      <td>M</td>\n",
       "      <td>64</td>\n",
       "      <td>3595</td>\n",
       "      <td>1</td>\n",
       "    </tr>\n",
       "  </tbody>\n",
       "</table>\n",
       "<p>181 rows × 12 columns</p>\n",
       "</div>"
      ],
      "text/plain": [
       "        ID corredor_armazem modo_envio  numero_chamadas_cliente  \\\n",
       "36      37                D      Navio                        3   \n",
       "60      61                D      Navio                        3   \n",
       "62      63                A      Navio                        5   \n",
       "111    112                B   Caminhao                        4   \n",
       "122    123                A   Caminhao                        4   \n",
       "...    ...              ...        ...                      ...   \n",
       "3005  3006                F   Caminhao                        5   \n",
       "3017  3018                F      Aviao                        4   \n",
       "3040  3041                C      Navio                        3   \n",
       "3068  3069                A      Navio                        4   \n",
       "3086  3087                A      Navio                        3   \n",
       "\n",
       "      avaliacao_cliente  custo_produto  compras_anteriores prioridade_produto  \\\n",
       "36                    5            137                   4               alta   \n",
       "60                    1            221                   3              baixa   \n",
       "62                    1            105                   6              media   \n",
       "111                   2            239                   3              baixa   \n",
       "122                   2            160                   3              baixa   \n",
       "...                 ...            ...                 ...                ...   \n",
       "3005                  2            159                   3              media   \n",
       "3017                  1            235                   2               alta   \n",
       "3040                  2            149                   3              media   \n",
       "3068                  3            139                   3              baixa   \n",
       "3086                  2            223                   2              baixa   \n",
       "\n",
       "     genero  desconto  peso_gramas  entregue_no_prazo  \n",
       "36        F        62         1477                  1  \n",
       "60        F        64         2794                  1  \n",
       "62        M        62         1292                  1  \n",
       "111       F        65         3679                  1  \n",
       "122       M        64         1714                  1  \n",
       "...     ...       ...          ...                ...  \n",
       "3005      F        63         1675                  1  \n",
       "3017      M        64         2107                  1  \n",
       "3040      F        64         1920                  1  \n",
       "3068      M        64         1814                  1  \n",
       "3086      M        64         3595                  1  \n",
       "\n",
       "[181 rows x 12 columns]"
      ]
     },
     "execution_count": 84,
     "metadata": {},
     "output_type": "execute_result"
    }
   ],
   "source": [
    "# Extrai os registros com outliers na coluna desconto\n",
    "\n",
    "df_outliers_desconto = df[(df.desconto <= limite_inferior) | (df.desconto >= limite_superior)]\n",
    "df_outliers_desconto"
   ]
  },
  {
   "cell_type": "code",
   "execution_count": 85,
   "id": "0785f2a7",
   "metadata": {},
   "outputs": [],
   "source": [
    "# Filtra o dataframe removendo os registros com outliers na coluna desconto\n",
    "df = df[(df.desconto > limite_inferior) & (df.desconto < limite_superior)]"
   ]
  },
  {
   "cell_type": "code",
   "execution_count": 86,
   "id": "0e98d244",
   "metadata": {},
   "outputs": [
    {
     "name": "stdout",
     "output_type": "stream",
     "text": [
      "Número de linhas depois de filtrar os outliers: 10819\n"
     ]
    }
   ],
   "source": [
    "print(f\"Número de linhas depois de filtrar os outliers: {len(df)}\")"
   ]
  },
  {
   "cell_type": "markdown",
   "id": "42392c34",
   "metadata": {},
   "source": [
    "### Automatização da verificação dos OUTLIERS e exclusão desses"
   ]
  },
  {
   "cell_type": "code",
   "execution_count": 87,
   "id": "c52ec2e8",
   "metadata": {},
   "outputs": [
    {
     "data": {
      "text/plain": [
       "numpy.ndarray"
      ]
     },
     "execution_count": 87,
     "metadata": {},
     "output_type": "execute_result"
    }
   ],
   "source": [
    "#Criando array np True do tamanho do datafrmae\n",
    "registros = np.array([True] * len(df)) \n",
    "type(registros)"
   ]
  },
  {
   "cell_type": "code",
   "execution_count": 88,
   "id": "c8648cab",
   "metadata": {},
   "outputs": [
    {
     "data": {
      "text/plain": [
       "10819"
      ]
     },
     "execution_count": 88,
     "metadata": {},
     "output_type": "execute_result"
    }
   ],
   "source": [
    "# Verificando valores True no array\n",
    "np.count_nonzero(registros == True)"
   ]
  },
  {
   "cell_type": "code",
   "execution_count": 89,
   "id": "8d4469f3",
   "metadata": {},
   "outputs": [
    {
     "data": {
      "text/plain": [
       "0"
      ]
     },
     "execution_count": 89,
     "metadata": {},
     "output_type": "execute_result"
    }
   ],
   "source": [
    "np.count_nonzero(registros == False)"
   ]
  },
  {
   "cell_type": "code",
   "execution_count": 90,
   "id": "1f1dd250",
   "metadata": {},
   "outputs": [
    {
     "data": {
      "text/plain": [
       "Index(['numero_chamadas_cliente', 'avaliacao_cliente', 'custo_produto',\n",
       "       'compras_anteriores', 'desconto', 'peso_gramas'],\n",
       "      dtype='object')"
      ]
     },
     "execution_count": 90,
     "metadata": {},
     "output_type": "execute_result"
    }
   ],
   "source": [
    "df[nums].columns"
   ]
  },
  {
   "cell_type": "code",
   "execution_count": 91,
   "id": "c6d5bfd3",
   "metadata": {},
   "outputs": [],
   "source": [
    "# Variáveis numpericas (Sem a variável desconto)\n",
    "nums2 = ['numero_chamadas_cliente',\n",
    "        'avaliacao_cliente',\n",
    "        'compras_anteriores',\n",
    "        'custo_produto',\n",
    "        'peso_gramas']"
   ]
  },
  {
   "cell_type": "code",
   "execution_count": 92,
   "id": "2efde120",
   "metadata": {},
   "outputs": [],
   "source": [
    "# Loop por cada variável numérica \n",
    "for col in nums2:\n",
    "    \n",
    "    # Calcula o z-score absoluto\n",
    "    zscore = abs(stats.zscore(df[col]))\n",
    "    \n",
    "    # Mantém valores com menos de 3 z-score absoluto\n",
    "    registros = (zscore < 3) & registros"
   ]
  },
  {
   "cell_type": "code",
   "execution_count": 93,
   "id": "4b18b1d7",
   "metadata": {},
   "outputs": [
    {
     "data": {
      "text/plain": [
       "10643"
      ]
     },
     "execution_count": 93,
     "metadata": {},
     "output_type": "execute_result"
    }
   ],
   "source": [
    "np.count_nonzero(registros == True)"
   ]
  },
  {
   "cell_type": "code",
   "execution_count": 94,
   "id": "dfa0e87d",
   "metadata": {},
   "outputs": [
    {
     "data": {
      "text/plain": [
       "176"
      ]
     },
     "execution_count": 94,
     "metadata": {},
     "output_type": "execute_result"
    }
   ],
   "source": [
    "np.count_nonzero(registros == False)"
   ]
  },
  {
   "cell_type": "code",
   "execution_count": 95,
   "id": "8e3a73b1",
   "metadata": {},
   "outputs": [],
   "source": [
    "# Removemos os registros com o z-score abaixo de 3 nas colunas numéricas\n",
    "df = df[registros]"
   ]
  },
  {
   "cell_type": "code",
   "execution_count": 96,
   "id": "3d6ffd8c",
   "metadata": {},
   "outputs": [
    {
     "name": "stdout",
     "output_type": "stream",
     "text": [
      "Número de linhas após filtrar valores extremos (OUTLIERS): 10643\n"
     ]
    }
   ],
   "source": [
    "print(f\"Número de linhas após filtrar valores extremos (OUTLIERS): {len(df)}\")"
   ]
  },
  {
   "cell_type": "markdown",
   "id": "8d518a95",
   "metadata": {},
   "source": [
    "## Tratamento de Desbalanceamento de Classes"
   ]
  },
  {
   "cell_type": "code",
   "execution_count": 97,
   "id": "75d07f4f",
   "metadata": {},
   "outputs": [
    {
     "data": {
      "text/plain": [
       "Index(['ID', 'corredor_armazem', 'modo_envio', 'numero_chamadas_cliente',\n",
       "       'avaliacao_cliente', 'custo_produto', 'compras_anteriores',\n",
       "       'prioridade_produto', 'genero', 'desconto', 'peso_gramas',\n",
       "       'entregue_no_prazo'],\n",
       "      dtype='object')"
      ]
     },
     "execution_count": 97,
     "metadata": {},
     "output_type": "execute_result"
    }
   ],
   "source": [
    "df.columns"
   ]
  },
  {
   "cell_type": "code",
   "execution_count": 98,
   "id": "e399ef15",
   "metadata": {},
   "outputs": [
    {
     "data": {
      "text/plain": [
       "entregue_no_prazo\n",
       "1                    6282\n",
       "0                    4361\n",
       "Name: count, dtype: int64"
      ]
     },
     "execution_count": 98,
     "metadata": {},
     "output_type": "execute_result"
    }
   ],
   "source": [
    "df[target].value_counts()"
   ]
  },
  {
   "cell_type": "markdown",
   "id": "6184575e",
   "metadata": {},
   "source": [
    "## Engenharia de Atributos"
   ]
  },
  {
   "cell_type": "markdown",
   "id": "ff30bc75",
   "metadata": {},
   "source": [
    "### FEATURE SELECTION"
   ]
  },
  {
   "cell_type": "code",
   "execution_count": 99,
   "id": "e3acffa1",
   "metadata": {},
   "outputs": [
    {
     "data": {
      "text/plain": [
       "Index(['ID', 'corredor_armazem', 'modo_envio', 'numero_chamadas_cliente',\n",
       "       'avaliacao_cliente', 'custo_produto', 'compras_anteriores',\n",
       "       'prioridade_produto', 'genero', 'desconto', 'peso_gramas',\n",
       "       'entregue_no_prazo'],\n",
       "      dtype='object')"
      ]
     },
     "execution_count": 99,
     "metadata": {},
     "output_type": "execute_result"
    }
   ],
   "source": [
    "df.columns"
   ]
  },
  {
   "cell_type": "code",
   "execution_count": 100,
   "id": "fb15145d",
   "metadata": {},
   "outputs": [
    {
     "data": {
      "text/html": [
       "<div>\n",
       "<style scoped>\n",
       "    .dataframe tbody tr th:only-of-type {\n",
       "        vertical-align: middle;\n",
       "    }\n",
       "\n",
       "    .dataframe tbody tr th {\n",
       "        vertical-align: top;\n",
       "    }\n",
       "\n",
       "    .dataframe thead th {\n",
       "        text-align: right;\n",
       "    }\n",
       "</style>\n",
       "<table border=\"1\" class=\"dataframe\">\n",
       "  <thead>\n",
       "    <tr style=\"text-align: right;\">\n",
       "      <th></th>\n",
       "      <th>ID</th>\n",
       "      <th>corredor_armazem</th>\n",
       "      <th>modo_envio</th>\n",
       "      <th>numero_chamadas_cliente</th>\n",
       "      <th>avaliacao_cliente</th>\n",
       "      <th>custo_produto</th>\n",
       "      <th>compras_anteriores</th>\n",
       "      <th>prioridade_produto</th>\n",
       "      <th>genero</th>\n",
       "      <th>desconto</th>\n",
       "      <th>peso_gramas</th>\n",
       "      <th>entregue_no_prazo</th>\n",
       "    </tr>\n",
       "  </thead>\n",
       "  <tbody>\n",
       "    <tr>\n",
       "      <th>2769</th>\n",
       "      <td>2770</td>\n",
       "      <td>B</td>\n",
       "      <td>Navio</td>\n",
       "      <td>3</td>\n",
       "      <td>3</td>\n",
       "      <td>178</td>\n",
       "      <td>3</td>\n",
       "      <td>alta</td>\n",
       "      <td>M</td>\n",
       "      <td>43</td>\n",
       "      <td>1517</td>\n",
       "      <td>1</td>\n",
       "    </tr>\n",
       "    <tr>\n",
       "      <th>8088</th>\n",
       "      <td>8089</td>\n",
       "      <td>D</td>\n",
       "      <td>Aviao</td>\n",
       "      <td>3</td>\n",
       "      <td>2</td>\n",
       "      <td>262</td>\n",
       "      <td>2</td>\n",
       "      <td>media</td>\n",
       "      <td>M</td>\n",
       "      <td>4</td>\n",
       "      <td>5738</td>\n",
       "      <td>0</td>\n",
       "    </tr>\n",
       "    <tr>\n",
       "      <th>6066</th>\n",
       "      <td>6067</td>\n",
       "      <td>D</td>\n",
       "      <td>Navio</td>\n",
       "      <td>5</td>\n",
       "      <td>1</td>\n",
       "      <td>267</td>\n",
       "      <td>4</td>\n",
       "      <td>baixa</td>\n",
       "      <td>M</td>\n",
       "      <td>5</td>\n",
       "      <td>4440</td>\n",
       "      <td>1</td>\n",
       "    </tr>\n",
       "    <tr>\n",
       "      <th>5981</th>\n",
       "      <td>5982</td>\n",
       "      <td>F</td>\n",
       "      <td>Navio</td>\n",
       "      <td>4</td>\n",
       "      <td>2</td>\n",
       "      <td>170</td>\n",
       "      <td>6</td>\n",
       "      <td>media</td>\n",
       "      <td>M</td>\n",
       "      <td>10</td>\n",
       "      <td>4891</td>\n",
       "      <td>0</td>\n",
       "    </tr>\n",
       "    <tr>\n",
       "      <th>5124</th>\n",
       "      <td>5125</td>\n",
       "      <td>D</td>\n",
       "      <td>Navio</td>\n",
       "      <td>3</td>\n",
       "      <td>3</td>\n",
       "      <td>154</td>\n",
       "      <td>2</td>\n",
       "      <td>media</td>\n",
       "      <td>F</td>\n",
       "      <td>1</td>\n",
       "      <td>5746</td>\n",
       "      <td>1</td>\n",
       "    </tr>\n",
       "  </tbody>\n",
       "</table>\n",
       "</div>"
      ],
      "text/plain": [
       "        ID corredor_armazem modo_envio  numero_chamadas_cliente  \\\n",
       "2769  2770                B      Navio                        3   \n",
       "8088  8089                D      Aviao                        3   \n",
       "6066  6067                D      Navio                        5   \n",
       "5981  5982                F      Navio                        4   \n",
       "5124  5125                D      Navio                        3   \n",
       "\n",
       "      avaliacao_cliente  custo_produto  compras_anteriores prioridade_produto  \\\n",
       "2769                  3            178                   3               alta   \n",
       "8088                  2            262                   2              media   \n",
       "6066                  1            267                   4              baixa   \n",
       "5981                  2            170                   6              media   \n",
       "5124                  3            154                   2              media   \n",
       "\n",
       "     genero  desconto  peso_gramas  entregue_no_prazo  \n",
       "2769      M        43         1517                  1  \n",
       "8088      M         4         5738                  0  \n",
       "6066      M         5         4440                  1  \n",
       "5981      M        10         4891                  0  \n",
       "5124      F         1         5746                  1  "
      ]
     },
     "execution_count": 100,
     "metadata": {},
     "output_type": "execute_result"
    }
   ],
   "source": [
    "df.sample(5)"
   ]
  },
  {
   "cell_type": "code",
   "execution_count": 101,
   "id": "db1bd408",
   "metadata": {},
   "outputs": [
    {
     "data": {
      "text/html": [
       "<div>\n",
       "<style scoped>\n",
       "    .dataframe tbody tr th:only-of-type {\n",
       "        vertical-align: middle;\n",
       "    }\n",
       "\n",
       "    .dataframe tbody tr th {\n",
       "        vertical-align: top;\n",
       "    }\n",
       "\n",
       "    .dataframe thead th {\n",
       "        text-align: right;\n",
       "    }\n",
       "</style>\n",
       "<table border=\"1\" class=\"dataframe\">\n",
       "  <thead>\n",
       "    <tr style=\"text-align: right;\">\n",
       "      <th></th>\n",
       "      <th>numero_chamadas_cliente</th>\n",
       "      <th>avaliacao_cliente</th>\n",
       "      <th>custo_produto</th>\n",
       "      <th>compras_anteriores</th>\n",
       "      <th>desconto</th>\n",
       "      <th>peso_gramas</th>\n",
       "    </tr>\n",
       "  </thead>\n",
       "  <tbody>\n",
       "    <tr>\n",
       "      <th>numero_chamadas_cliente</th>\n",
       "      <td>1.000000</td>\n",
       "      <td>0.013398</td>\n",
       "      <td>0.328148</td>\n",
       "      <td>0.246604</td>\n",
       "      <td>-0.132172</td>\n",
       "      <td>-0.285186</td>\n",
       "    </tr>\n",
       "    <tr>\n",
       "      <th>avaliacao_cliente</th>\n",
       "      <td>0.013398</td>\n",
       "      <td>1.000000</td>\n",
       "      <td>0.006332</td>\n",
       "      <td>0.004893</td>\n",
       "      <td>0.000551</td>\n",
       "      <td>-0.004440</td>\n",
       "    </tr>\n",
       "    <tr>\n",
       "      <th>custo_produto</th>\n",
       "      <td>0.328148</td>\n",
       "      <td>0.006332</td>\n",
       "      <td>1.000000</td>\n",
       "      <td>0.163395</td>\n",
       "      <td>-0.137703</td>\n",
       "      <td>-0.146885</td>\n",
       "    </tr>\n",
       "    <tr>\n",
       "      <th>compras_anteriores</th>\n",
       "      <td>0.246604</td>\n",
       "      <td>0.004893</td>\n",
       "      <td>0.163395</td>\n",
       "      <td>1.000000</td>\n",
       "      <td>-0.106093</td>\n",
       "      <td>-0.235066</td>\n",
       "    </tr>\n",
       "    <tr>\n",
       "      <th>desconto</th>\n",
       "      <td>-0.132172</td>\n",
       "      <td>0.000551</td>\n",
       "      <td>-0.137703</td>\n",
       "      <td>-0.106093</td>\n",
       "      <td>1.000000</td>\n",
       "      <td>-0.365062</td>\n",
       "    </tr>\n",
       "    <tr>\n",
       "      <th>peso_gramas</th>\n",
       "      <td>-0.285186</td>\n",
       "      <td>-0.004440</td>\n",
       "      <td>-0.146885</td>\n",
       "      <td>-0.235066</td>\n",
       "      <td>-0.365062</td>\n",
       "      <td>1.000000</td>\n",
       "    </tr>\n",
       "  </tbody>\n",
       "</table>\n",
       "</div>"
      ],
      "text/plain": [
       "                         numero_chamadas_cliente  avaliacao_cliente  \\\n",
       "numero_chamadas_cliente                 1.000000           0.013398   \n",
       "avaliacao_cliente                       0.013398           1.000000   \n",
       "custo_produto                           0.328148           0.006332   \n",
       "compras_anteriores                      0.246604           0.004893   \n",
       "desconto                               -0.132172           0.000551   \n",
       "peso_gramas                            -0.285186          -0.004440   \n",
       "\n",
       "                         custo_produto  compras_anteriores  desconto  \\\n",
       "numero_chamadas_cliente       0.328148            0.246604 -0.132172   \n",
       "avaliacao_cliente             0.006332            0.004893  0.000551   \n",
       "custo_produto                 1.000000            0.163395 -0.137703   \n",
       "compras_anteriores            0.163395            1.000000 -0.106093   \n",
       "desconto                     -0.137703           -0.106093  1.000000   \n",
       "peso_gramas                  -0.146885           -0.235066 -0.365062   \n",
       "\n",
       "                         peso_gramas  \n",
       "numero_chamadas_cliente    -0.285186  \n",
       "avaliacao_cliente          -0.004440  \n",
       "custo_produto              -0.146885  \n",
       "compras_anteriores         -0.235066  \n",
       "desconto                   -0.365062  \n",
       "peso_gramas                 1.000000  "
      ]
     },
     "execution_count": 101,
     "metadata": {},
     "output_type": "execute_result"
    }
   ],
   "source": [
    "df[nums].corr()"
   ]
  },
  {
   "cell_type": "code",
   "execution_count": 104,
   "id": "850ef23f",
   "metadata": {},
   "outputs": [
    {
     "data": {
      "image/png": "[encoded data removed]",
      "text/plain": [
       "<Figure size 640x480 with 2 Axes>"
      ]
     },
     "metadata": {},
     "output_type": "display_data"
    }
   ],
   "source": [
    "# Mapa gráfico\n",
    "sns.heatmap(df[nums].corr(), cmap = 'Purples', annot = True, fmt = '.2f');"
   ]
  },
  {
   "cell_type": "markdown",
   "id": "300eab05",
   "metadata": {},
   "source": [
    "**Decisão**: Os recursos que ultrapassaram o lim (+/- 0,05) com a variável alvo (entregue_no_prazo) serão escolhidos\n",
    "A variável avalicao cliente não será utizada, bem como ID por não apresentar info util"
   ]
  },
  {
   "cell_type": "code",
   "execution_count": 109,
   "id": "8abc91f9",
   "metadata": {},
   "outputs": [
    {
     "data": {
      "image/png": "[encoded data removed]",
      "text/plain": [
       "<Figure size 2000x800 with 4 Axes>"
      ]
     },
     "metadata": {},
     "output_type": "display_data"
    }
   ],
   "source": [
    "# Verificando para variáveis categóricas\n",
    "df_sample = df.sample(1000, random_state =42)\n",
    "plt.figure(figsize = (20,8))\n",
    "for i in range(0, len(cats)):\n",
    "    plt.subplot(2,3,i+1)\n",
    "    sns.countplot(x=df_sample[cats[i]], color = 'blue', orient = 'v')\n",
    "    plt.tight_layout()"
   ]
  },
  {
   "cell_type": "markdown",
   "id": "85626303",
   "metadata": {},
   "source": [
    "**Decisão**: A variável de gênero não será considerada, por não gerar impacto, haja vista a euqalidade das proporções"
   ]
  },
  {
   "cell_type": "code",
   "execution_count": null,
   "id": "24e2896f",
   "metadata": {},
   "outputs": [],
   "source": []
  }
 ],
 "metadata": {
  "kernelspec": {
   "display_name": "Python 3 (ipykernel)",
   "language": "python",
   "name": "python3"
  },
  "language_info": {
   "codemirror_mode": {
    "name": "ipython",
    "version": 3
   },
   "file_extension": ".py",
   "mimetype": "text/x-python",
   "name": "python",
   "nbconvert_exporter": "python",
   "pygments_lexer": "ipython3",
   "version": "3.9.13"
  }
 },
 "nbformat": 4,
 "nbformat_minor": 5
}
