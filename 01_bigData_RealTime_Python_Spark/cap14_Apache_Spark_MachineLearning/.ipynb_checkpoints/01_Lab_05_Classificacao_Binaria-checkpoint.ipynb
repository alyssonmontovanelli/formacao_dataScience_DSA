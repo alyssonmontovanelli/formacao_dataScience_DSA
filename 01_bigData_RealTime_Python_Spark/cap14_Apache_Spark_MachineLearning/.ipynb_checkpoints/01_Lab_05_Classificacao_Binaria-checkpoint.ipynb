{
 "cells": [
  {
   "cell_type": "code",
   "execution_count": 1,
   "id": "92aa1c92",
   "metadata": {},
   "outputs": [],
   "source": [
    "import findspark\n",
    "findspark.init()"
   ]
  },
  {
   "cell_type": "code",
   "execution_count": 2,
   "id": "e7963369",
   "metadata": {},
   "outputs": [],
   "source": [
    "import pyspark\n",
    "from pyspark import SparkContext\n",
    "from pyspark.sql import SparkSession\n",
    "from pyspark.sql import Row # Pré Processar os dados\n",
    "from pyspark.ml.linalg import Vectors\n",
    "from pyspark.ml.feature import StringIndexer\n",
    "from pyspark.ml.feature import PCA # Algoritmo aprendizado nao superviisionado - utilizaremos para preprocessar\n",
    "from pyspark.ml.classification import RandomForestClassifier\n",
    "from pyspark.ml.evaluation import MulticlassClassificationEvaluator"
   ]
  },
  {
   "cell_type": "code",
   "execution_count": 3,
   "id": "afa75180",
   "metadata": {},
   "outputs": [],
   "source": [
    "sc = SparkContext(appName = 'lab5')"
   ]
  },
  {
   "cell_type": "code",
   "execution_count": 4,
   "id": "d5637979",
   "metadata": {},
   "outputs": [],
   "source": [
    "spSession = SparkSession.builder.master(\"local\").getOrCreate()"
   ]
  },
  {
   "cell_type": "code",
   "execution_count": 5,
   "id": "38a60091",
   "metadata": {},
   "outputs": [
    {
     "data": {
      "text/html": [
       "\n",
       "            <div>\n",
       "                <p><b>SparkSession - in-memory</b></p>\n",
       "                \n",
       "        <div>\n",
       "            <p><b>SparkContext</b></p>\n",
       "\n",
       "            <p><a href=\"http://Skylerfox:4040\">Spark UI</a></p>\n",
       "\n",
       "            <dl>\n",
       "              <dt>Version</dt>\n",
       "                <dd><code>v3.4.1</code></dd>\n",
       "              <dt>Master</dt>\n",
       "                <dd><code>local[*]</code></dd>\n",
       "              <dt>AppName</dt>\n",
       "                <dd><code>lab5</code></dd>\n",
       "            </dl>\n",
       "        </div>\n",
       "        \n",
       "            </div>\n",
       "        "
      ],
      "text/plain": [
       "<pyspark.sql.session.SparkSession at 0x1b45b9f0040>"
      ]
     },
     "execution_count": 5,
     "metadata": {},
     "output_type": "execute_result"
    }
   ],
   "source": [
    "spSession"
   ]
  },
  {
   "cell_type": "code",
   "execution_count": 6,
   "id": "7f584264",
   "metadata": {},
   "outputs": [],
   "source": [
    "# Carregamento dos dados e gerando um RDD\n",
    "bankRDD = sc.textFile(\"C:/formacao_dataScience_DSA_DADOS/01_bigData_RealTime_Python_Spark/cap14_Apache_Spark_MLlib/Lab5/dados/dataset3.csv\")"
   ]
  },
  {
   "cell_type": "code",
   "execution_count": 7,
   "id": "7c70826a",
   "metadata": {},
   "outputs": [
    {
     "data": {
      "text/plain": [
       "C:/formacao_dataScience_DSA_DADOS/01_bigData_RealTime_Python_Spark/cap14_Apache_Spark_MLlib/Lab5/dados/dataset3.csv MapPartitionsRDD[1] at textFile at NativeMethodAccessorImpl.java:0"
      ]
     },
     "execution_count": 7,
     "metadata": {},
     "output_type": "execute_result"
    }
   ],
   "source": [
    "# Salvando em cache\n",
    "bankRDD.cache()"
   ]
  },
  {
   "cell_type": "code",
   "execution_count": 8,
   "id": "148aac90",
   "metadata": {},
   "outputs": [
    {
     "data": {
      "text/plain": [
       "542"
      ]
     },
     "execution_count": 8,
     "metadata": {},
     "output_type": "execute_result"
    }
   ],
   "source": [
    "bankRDD.count()"
   ]
  },
  {
   "cell_type": "code",
   "execution_count": 9,
   "id": "ecc1d17a",
   "metadata": {},
   "outputs": [
    {
     "data": {
      "text/plain": [
       "['\"age\";\"job\";\"marital\";\"education\";\"default\";\"balance\";\"housing\";\"loan\";\"contact\";\"day\";\"month\";\"duration\";\"campaign\";\"pdays\";\"previous\";\"poutcome\";\"y\"',\n",
       " '30;\"unemployed\";\"married\";\"primary\";\"no\";1787;\"no\";\"no\";\"cellular\";19;\"oct\";79;1;-1;0;\"unknown\";\"no\"',\n",
       " '33;\"services\";\"married\";\"secondary\";\"no\";4789;\"yes\";\"yes\";\"cellular\";11;\"may\";220;1;339;4;\"failure\";\"yes\"',\n",
       " '35;\"management\";\"single\";\"tertiary\";\"no\";1350;\"yes\";\"no\";\"cellular\";16;\"apr\";185;1;330;1;\"failure\";\"yes\"',\n",
       " '30;\"management\";\"married\";\"tertiary\";\"no\";1476;\"yes\";\"yes\";\"unknown\";3;\"jun\";199;4;-1;0;\"unknown\";\"yes\"']"
      ]
     },
     "execution_count": 9,
     "metadata": {},
     "output_type": "execute_result"
    }
   ],
   "source": [
    "bankRDD.take(5)"
   ]
  },
  {
   "cell_type": "code",
   "execution_count": 10,
   "id": "0f8f0064",
   "metadata": {},
   "outputs": [
    {
     "data": {
      "text/plain": [
       "541"
      ]
     },
     "execution_count": 10,
     "metadata": {},
     "output_type": "execute_result"
    }
   ],
   "source": [
    "# Removendo a primeira linda do arquivo (cabeçalho)\n",
    "firstLine = bankRDD.first()\n",
    "bankRDD = bankRDD.filter(lambda x: x != firstLine)\n",
    "bankRDD.count()"
   ]
  },
  {
   "cell_type": "code",
   "execution_count": null,
   "id": "7682498d",
   "metadata": {},
   "outputs": [],
   "source": []
  },
  {
   "cell_type": "markdown",
   "id": "495587d5",
   "metadata": {},
   "source": [
    "# limpeza e Transformação dos Dados\n",
    "\n",
    "Precisaremos usar somente algumas variáveis originais e então criar novas variáveis. Essa decisão pode ser baseada no conhecimento da área de negócio e a fim de evitar preconceitos. Podemos usar outras técnicas de seleção de atributos"
   ]
  },
  {
   "cell_type": "code",
   "execution_count": 12,
   "id": "4e436050",
   "metadata": {},
   "outputs": [],
   "source": [
    "# Transformando os dados para valores correspondentes numéricos\n",
    "def transformToNumeric(inputStr):\n",
    "    \n",
    "    # Em cada linha faz substituição de caracteres e spara as colunas\n",
    "    attList = inputStr.replace(\"\\\"\",\"\").split(';')\n",
    "    \n",
    "    # Converte de int para float a fim de aumentar a precisão dos cálculos\n",
    "    age = float(attList[0])\n",
    "    balance = float(attList[5])\n",
    "    \n",
    "    # Aplica one-hot enconding criando variáveis dummy\n",
    "    single = 1.0 if attList[2] == 'single' else 0.0   # Variável de indice 2\n",
    "    married = 1.0 if attList[2] == 'married' else 0.0\n",
    "    divorced = 1.0 if attList[2] == 'divorced' else 0.0\n",
    "    primary = 1.0 if attList[3] == 'primary' else 0.0\n",
    "    secondary = 1.0 if attList[3] == 'secondary' else 0.0\n",
    "    tertiary = 1.0 if attList[3] == 'tertiary' else 0.0\n",
    "    \n",
    "    # Aplicando Label Encoding convertendo a variável categórica para sua representação numerica\n",
    "    default = 0.0 if attList[4] == 'no' else 1.0\n",
    "    loan = 0.0 if attList[7] == 'no' else 1.0\n",
    "    outcome = 0.0 if attList[16] == 'no' else 1.0\n",
    "    \n",
    "    # Cria as linhas com os atributos transformados \n",
    "    linhas = Row(OUTCOME = outcome,\n",
    "                AGE = age,\n",
    "                SINGLE = single,\n",
    "                MARRIED = married,\n",
    "                DIVORCED = divorced,\n",
    "                PRIMARY = primary,\n",
    "                SECONDARY = secondary,\n",
    "                TERTIARY = tertiary,\n",
    "                DEFAULT = default,\n",
    "                BALANCE = balance,\n",
    "                LOAN = loan)\n",
    "    \n",
    "    return linhas"
   ]
  },
  {
   "cell_type": "code",
   "execution_count": 15,
   "id": "786c83b3",
   "metadata": {},
   "outputs": [],
   "source": [
    "# Aplicando a função ao RDD\n",
    "bankRDD3 = bankRDD.map(transformToNumeric)"
   ]
  },
  {
   "cell_type": "code",
   "execution_count": 17,
   "id": "746567a0",
   "metadata": {},
   "outputs": [
    {
     "data": {
      "text/plain": [
       "[Row(OUTCOME=0.0, AGE=30.0, SINGLE=0.0, MARRIED=1.0, DIVORCED=0.0, PRIMARY=1.0, SECONDARY=0.0, TERTIARY=0.0, DEFAULT=0.0, BALANCE=1787.0, LOAN=0.0),\n",
       " Row(OUTCOME=1.0, AGE=33.0, SINGLE=0.0, MARRIED=1.0, DIVORCED=0.0, PRIMARY=0.0, SECONDARY=1.0, TERTIARY=0.0, DEFAULT=0.0, BALANCE=4789.0, LOAN=1.0),\n",
       " Row(OUTCOME=1.0, AGE=35.0, SINGLE=1.0, MARRIED=0.0, DIVORCED=0.0, PRIMARY=0.0, SECONDARY=0.0, TERTIARY=1.0, DEFAULT=0.0, BALANCE=1350.0, LOAN=0.0),\n",
       " Row(OUTCOME=1.0, AGE=30.0, SINGLE=0.0, MARRIED=1.0, DIVORCED=0.0, PRIMARY=0.0, SECONDARY=0.0, TERTIARY=1.0, DEFAULT=0.0, BALANCE=1476.0, LOAN=1.0),\n",
       " Row(OUTCOME=0.0, AGE=59.0, SINGLE=0.0, MARRIED=1.0, DIVORCED=0.0, PRIMARY=0.0, SECONDARY=1.0, TERTIARY=0.0, DEFAULT=0.0, BALANCE=0.0, LOAN=0.0),\n",
       " Row(OUTCOME=1.0, AGE=35.0, SINGLE=1.0, MARRIED=0.0, DIVORCED=0.0, PRIMARY=0.0, SECONDARY=0.0, TERTIARY=1.0, DEFAULT=0.0, BALANCE=747.0, LOAN=0.0),\n",
       " Row(OUTCOME=1.0, AGE=36.0, SINGLE=0.0, MARRIED=1.0, DIVORCED=0.0, PRIMARY=0.0, SECONDARY=0.0, TERTIARY=1.0, DEFAULT=0.0, BALANCE=307.0, LOAN=0.0),\n",
       " Row(OUTCOME=0.0, AGE=39.0, SINGLE=0.0, MARRIED=1.0, DIVORCED=0.0, PRIMARY=0.0, SECONDARY=1.0, TERTIARY=0.0, DEFAULT=0.0, BALANCE=147.0, LOAN=0.0),\n",
       " Row(OUTCOME=0.0, AGE=41.0, SINGLE=0.0, MARRIED=1.0, DIVORCED=0.0, PRIMARY=0.0, SECONDARY=0.0, TERTIARY=1.0, DEFAULT=0.0, BALANCE=221.0, LOAN=0.0),\n",
       " Row(OUTCOME=1.0, AGE=43.0, SINGLE=0.0, MARRIED=1.0, DIVORCED=0.0, PRIMARY=1.0, SECONDARY=0.0, TERTIARY=0.0, DEFAULT=0.0, BALANCE=-88.0, LOAN=1.0),\n",
       " Row(OUTCOME=0.0, AGE=39.0, SINGLE=0.0, MARRIED=1.0, DIVORCED=0.0, PRIMARY=0.0, SECONDARY=1.0, TERTIARY=0.0, DEFAULT=0.0, BALANCE=9374.0, LOAN=0.0),\n",
       " Row(OUTCOME=0.0, AGE=43.0, SINGLE=0.0, MARRIED=1.0, DIVORCED=0.0, PRIMARY=0.0, SECONDARY=1.0, TERTIARY=0.0, DEFAULT=0.0, BALANCE=264.0, LOAN=0.0),\n",
       " Row(OUTCOME=0.0, AGE=36.0, SINGLE=0.0, MARRIED=1.0, DIVORCED=0.0, PRIMARY=0.0, SECONDARY=0.0, TERTIARY=1.0, DEFAULT=0.0, BALANCE=1109.0, LOAN=0.0),\n",
       " Row(OUTCOME=1.0, AGE=20.0, SINGLE=1.0, MARRIED=0.0, DIVORCED=0.0, PRIMARY=0.0, SECONDARY=1.0, TERTIARY=0.0, DEFAULT=0.0, BALANCE=502.0, LOAN=0.0),\n",
       " Row(OUTCOME=1.0, AGE=31.0, SINGLE=0.0, MARRIED=1.0, DIVORCED=0.0, PRIMARY=0.0, SECONDARY=1.0, TERTIARY=0.0, DEFAULT=0.0, BALANCE=360.0, LOAN=1.0)]"
      ]
     },
     "execution_count": 17,
     "metadata": {},
     "output_type": "execute_result"
    }
   ],
   "source": [
    "bankRDD3.collect()[:15]"
   ]
  },
  {
   "cell_type": "markdown",
   "id": "dd82c604",
   "metadata": {},
   "source": [
    "# Análise exploratória dos dados"
   ]
  },
  {
   "cell_type": "code",
   "execution_count": 19,
   "id": "e9c77190",
   "metadata": {},
   "outputs": [],
   "source": [
    "# Converter RDD para DataFrame do Spark\n",
    "bankDF = spSession.createDataFrame(bankRDD3)"
   ]
  },
  {
   "cell_type": "code",
   "execution_count": 20,
   "id": "5e7900ed",
   "metadata": {},
   "outputs": [
    {
     "name": "stdout",
     "output_type": "stream",
     "text": [
      "+-------+----+------+-------+--------+-------+---------+--------+-------+-------+----+\n",
      "|OUTCOME| AGE|SINGLE|MARRIED|DIVORCED|PRIMARY|SECONDARY|TERTIARY|DEFAULT|BALANCE|LOAN|\n",
      "+-------+----+------+-------+--------+-------+---------+--------+-------+-------+----+\n",
      "|    0.0|30.0|   0.0|    1.0|     0.0|    1.0|      0.0|     0.0|    0.0| 1787.0| 0.0|\n",
      "|    1.0|33.0|   0.0|    1.0|     0.0|    0.0|      1.0|     0.0|    0.0| 4789.0| 1.0|\n",
      "|    1.0|35.0|   1.0|    0.0|     0.0|    0.0|      0.0|     1.0|    0.0| 1350.0| 0.0|\n",
      "|    1.0|30.0|   0.0|    1.0|     0.0|    0.0|      0.0|     1.0|    0.0| 1476.0| 1.0|\n",
      "|    0.0|59.0|   0.0|    1.0|     0.0|    0.0|      1.0|     0.0|    0.0|    0.0| 0.0|\n",
      "+-------+----+------+-------+--------+-------+---------+--------+-------+-------+----+\n",
      "only showing top 5 rows\n",
      "\n"
     ]
    }
   ],
   "source": [
    "bankDF.show(5)"
   ]
  },
  {
   "cell_type": "code",
   "execution_count": 21,
   "id": "2f3619b9",
   "metadata": {},
   "outputs": [
    {
     "name": "stdout",
     "output_type": "stream",
     "text": [
      "Coeelação da variável OUTCOME com: OUTCOME 1.0\n",
      "Coeelação da variável OUTCOME com: AGE -0.18232104327365253\n",
      "Coeelação da variável OUTCOME com: SINGLE 0.46323284934360515\n",
      "Coeelação da variável OUTCOME com: MARRIED -0.3753241299133561\n",
      "Coeelação da variável OUTCOME com: DIVORCED -0.07812659940926987\n",
      "Coeelação da variável OUTCOME com: PRIMARY -0.12561548832677985\n",
      "Coeelação da variável OUTCOME com: SECONDARY 0.026392774894072976\n",
      "Coeelação da variável OUTCOME com: TERTIARY 0.08494840766635618\n",
      "Coeelação da variável OUTCOME com: DEFAULT -0.04536965206737378\n",
      "Coeelação da variável OUTCOME com: BALANCE 0.03657486611997681\n",
      "Coeelação da variável OUTCOME com: LOAN -0.03042058611271732\n"
     ]
    }
   ],
   "source": [
    "# Correlação entre as variáveis:\n",
    "for i in bankDF.columns:\n",
    "    if not( isinstance(bankDF.select(i).take(1)[0][0], str)):\n",
    "        print(\"Coeelação da variável OUTCOME com:\", i, bankDF.stat.corr('OUTCOME', i))"
   ]
  },
  {
   "cell_type": "markdown",
   "id": "b432477d",
   "metadata": {},
   "source": [
    "# Pré Processamento de dados "
   ]
  },
  {
   "cell_type": "code",
   "execution_count": null,
   "id": "f4b421be",
   "metadata": {},
   "outputs": [],
   "source": [
    "# Redução de dimensionalidade\n",
    "def transformVar(row):\n",
    "    obj = (row['OUTCOME'], Vectors.dense([row['AGE'],\n",
    "                                         row['SINGLE'],\n",
    "                                         row['MARRIED '],\n",
    "                                         row['DIVORCED'],\n",
    "                                         row['PRIMARY'],\n",
    "                                         row['SECONDARY'],\n",
    "                                         row['TERTIARY'],\n",
    "                                         row['DEFAULT'],\n",
    "                                         row['BALANCE'],\n",
    "                                         row['LOAN']]))"
   ]
  }
 ],
 "metadata": {
  "kernelspec": {
   "display_name": "Python 3 (ipykernel)",
   "language": "python",
   "name": "python3"
  },
  "language_info": {
   "codemirror_mode": {
    "name": "ipython",
    "version": 3
   },
   "file_extension": ".py",
   "mimetype": "text/x-python",
   "name": "python",
   "nbconvert_exporter": "python",
   "pygments_lexer": "ipython3",
   "version": "3.9.13"
  }
 },
 "nbformat": 4,
 "nbformat_minor": 5
}
