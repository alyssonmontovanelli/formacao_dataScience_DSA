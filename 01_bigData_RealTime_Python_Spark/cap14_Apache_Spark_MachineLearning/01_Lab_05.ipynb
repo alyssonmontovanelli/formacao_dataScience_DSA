{
 "cells": [
  {
   "cell_type": "markdown",
   "id": "b529542b",
   "metadata": {},
   "source": [
    "# Regressão Linear\n",
    "\n",
    "###### Regressão Linear para prever o consumo de combustível de automóveis\n",
    "\n",
    "A variável consumo é a variável alvo e as demais variáveis preditoras, portanto é um problema de regressão linear multipla"
   ]
  },
  {
   "cell_type": "code",
   "execution_count": null,
   "id": "fa3901bd",
   "metadata": {},
   "outputs": [],
   "source": []
  }
 ],
 "metadata": {
  "kernelspec": {
   "display_name": "Python 3 (ipykernel)",
   "language": "python",
   "name": "python3"
  },
  "language_info": {
   "codemirror_mode": {
    "name": "ipython",
    "version": 3
   },
   "file_extension": ".py",
   "mimetype": "text/x-python",
   "name": "python",
   "nbconvert_exporter": "python",
   "pygments_lexer": "ipython3",
   "version": "3.9.13"
  }
 },
 "nbformat": 4,
 "nbformat_minor": 5
}
