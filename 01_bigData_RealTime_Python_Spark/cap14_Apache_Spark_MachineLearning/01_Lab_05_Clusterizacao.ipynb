{
 "cells": [
  {
   "cell_type": "markdown",
   "id": "69a01152",
   "metadata": {},
   "source": [
    "# Clusterização (Agrupamento)\n",
    "\n",
    "Objetivo é criar grupos de veículos similares"
   ]
  },
  {
   "cell_type": "code",
   "execution_count": 1,
   "id": "763ce46d",
   "metadata": {},
   "outputs": [],
   "source": [
    "import findspark\n",
    "findspark.init()"
   ]
  },
  {
   "cell_type": "code",
   "execution_count": 51,
   "id": "129282a7",
   "metadata": {},
   "outputs": [],
   "source": [
    "import pyspark\n",
    "from pyspark import SparkContext\n",
    "from pyspark.sql import SparkSession\n",
    "from pyspark.sql import Row # Pré Processar os dados\n",
    "from pyspark.ml.linalg import Vectors\n",
    "import pandas as pd\n",
    "from pyspark.ml.clustering import KMeans\n",
    "import matplotlib.pyplot as plt"
   ]
  },
  {
   "cell_type": "markdown",
   "id": "7cf1b062",
   "metadata": {},
   "source": [
    "# Carregando os Dados"
   ]
  },
  {
   "cell_type": "code",
   "execution_count": 3,
   "id": "ffd41879",
   "metadata": {},
   "outputs": [],
   "source": [
    "sc = SparkContext(appName = 'Lab5')"
   ]
  },
  {
   "cell_type": "code",
   "execution_count": 4,
   "id": "1b346f38",
   "metadata": {},
   "outputs": [],
   "source": [
    "spSession = SparkSession.builder.master('local').getOrCreate()"
   ]
  },
  {
   "cell_type": "code",
   "execution_count": 5,
   "id": "ace3a40f",
   "metadata": {},
   "outputs": [],
   "source": [
    "carrosRDD = sc.textFile(\"C:/formacao_dataScience_DSA_DADOS/01_bigData_RealTime_Python_Spark/cap14_Apache_Spark_MLlib/Lab5/dados/dataset5.csv\")"
   ]
  },
  {
   "cell_type": "code",
   "execution_count": 6,
   "id": "0799474a",
   "metadata": {},
   "outputs": [
    {
     "data": {
      "text/plain": [
       "['fabricante,tipo_combustivel,aspirado,portas,tipo,direcao,cilindros,horsepower,rpm,consumo_cidade,consumo_estrada,preco',\n",
       " 'subaru,gas,std,two,hatchback,fwd,four,69,4900,31,36,5118',\n",
       " 'chevrolet,gas,std,two,hatchback,fwd,three,48,5100,47,53,5151',\n",
       " 'mazda,gas,std,two,hatchback,fwd,four,68,5000,30,31,5195',\n",
       " 'toyota,gas,std,two,hatchback,fwd,four,62,4800,35,39,5348',\n",
       " 'mitsubishi,gas,std,two,hatchback,fwd,four,68,5500,37,41,5389',\n",
       " 'honda,gas,std,two,hatchback,fwd,four,60,5500,38,42,5399',\n",
       " 'nissan,gas,std,two,sedan,fwd,four,69,5200,31,37,5499',\n",
       " 'dodge,gas,std,two,hatchback,fwd,four,68,5500,37,41,5572',\n",
       " 'plymouth,gas,std,two,hatchback,fwd,four,68,5500,37,41,5572',\n",
       " 'mazda,gas,std,two,hatchback,fwd,four,68,5000,31,38,6095',\n",
       " 'mitsubishi,gas,std,two,hatchback,fwd,four,68,5500,31,38,6189',\n",
       " 'dodge,gas,std,four,hatchback,fwd,four,68,5500,31,38,6229',\n",
       " 'plymouth,gas,std,four,hatchback,fwd,four,68,5500,31,38,6229',\n",
       " 'chevrolet,gas,std,two,hatchback,fwd,four,70,5400,38,43,6295',\n",
       " 'toyota,gas,std,two,hatchback,fwd,four,62,4800,31,38,6338',\n",
       " 'dodge,gas,std,two,hatchback,fwd,four,68,5500,31,38,6377',\n",
       " 'honda,gas,std,two,hatchback,fwd,four,58,4800,49,54,6479',\n",
       " 'toyota,gas,std,four,hatchback,fwd,four,62,4800,31,38,6488',\n",
       " 'honda,gas,std,two,hatchback,fwd,four,76,6000,30,34,6529',\n",
       " 'chevrolet,gas,std,four,sedan,fwd,four,70,5400,38,43,6575',\n",
       " 'nissan,gas,std,two,sedan,fwd,four,69,5200,31,37,6649',\n",
       " 'mitsubishi,gas,std,two,hatchback,fwd,four,68,5500,31,38,6669',\n",
       " 'dodge,gas,std,four,sedan,fwd,four,68,5500,31,38,6692',\n",
       " 'plymouth,gas,std,four,sedan,fwd,four,68,5500,31,38,6692',\n",
       " 'mazda,gas,std,four,sedan,fwd,four,68,5000,31,38,6695',\n",
       " 'isuzu,gas,std,four,sedan,rwd,four,78,4800,24,29,6785',\n",
       " 'mazda,gas,std,two,hatchback,fwd,four,68,5000,31,38,6795',\n",
       " 'nissan,gas,std,four,sedan,fwd,four,69,5200,31,37,6849',\n",
       " 'honda,gas,std,two,hatchback,fwd,four,76,6000,31,38,6855',\n",
       " 'toyota,gas,std,four,wagon,fwd,four,62,4800,31,37,6918',\n",
       " 'toyota,gas,std,four,sedan,fwd,four,70,4800,30,37,6938',\n",
       " 'mitsubishi,gas,std,four,sedan,fwd,four,88,5000,25,32,6989',\n",
       " 'subaru,gas,std,two,hatchback,fwd,four,73,4400,26,31,7053',\n",
       " 'nissan,diesel,std,two,sedan,fwd,four,55,4800,45,50,7099',\n",
       " 'subaru,gas,std,four,sedan,fwd,four,82,4800,32,37,7126',\n",
       " 'honda,gas,std,two,hatchback,fwd,four,76,6000,30,34,7129',\n",
       " 'toyota,gas,std,four,hatchback,fwd,four,70,4800,30,37,7198',\n",
       " 'honda,gas,std,four,sedan,fwd,four,76,6000,30,34,7295',\n",
       " 'honda,gas,std,four,wagon,fwd,four,76,6000,30,34,7295',\n",
       " 'nissan,gas,std,two,sedan,fwd,four,69,5200,31,37,7299',\n",
       " 'nissan,gas,std,four,wagon,fwd,four,69,5200,31,37,7349',\n",
       " 'mazda,gas,std,four,sedan,fwd,four,68,5000,31,38,7395',\n",
       " 'subaru,gas,std,four,wagon,fwd,four,82,4800,28,32,7463',\n",
       " 'nissan,gas,std,four,sedan,fwd,four,69,5200,31,37,7499',\n",
       " 'subaru,gas,std,two,hatchback,4wd,four,73,4400,26,31,7603',\n",
       " 'dodge,gas,std,four,sedan,fwd,four,68,5500,31,38,7609',\n",
       " 'plymouth,gas,std,four,sedan,fwd,four,68,5500,31,38,7609',\n",
       " 'mitsubishi,gas,turbo,two,hatchback,fwd,four,102,5500,24,30,7689',\n",
       " 'toyota,gas,std,four,sedan,fwd,four,70,4800,38,47,7738',\n",
       " 'subaru,gas,std,four,sedan,fwd,four,82,4400,28,33,7775',\n",
       " 'volkswagen,diesel,std,two,sedan,fwd,four,52,4800,37,46,7775',\n",
       " 'toyota,diesel,std,four,hatchback,fwd,four,56,4500,38,47,7788',\n",
       " 'nissan,gas,std,two,hatchback,fwd,four,69,5200,31,37,7799',\n",
       " 'honda,gas,std,two,hatchback,fwd,four,86,5800,27,33,7895',\n",
       " 'toyota,gas,std,four,wagon,4wd,four,62,4800,27,32,7898',\n",
       " 'toyota,diesel,std,four,sedan,fwd,four,56,4500,34,36,7898',\n",
       " 'dodge,gas,turbo,two,hatchback,fwd,four,102,5500,24,30,7957',\n",
       " 'plymouth,gas,turbo,two,hatchback,fwd,four,102,5500,24,30,7957',\n",
       " 'volkswagen,gas,std,two,sedan,fwd,four,85,5250,27,34,7975',\n",
       " 'volkswagen,diesel,std,four,sedan,fwd,four,52,4800,37,46,7995',\n",
       " 'nissan,gas,std,four,wagon,fwd,four,69,5200,31,37,7999',\n",
       " 'subaru,gas,std,four,wagon,4wd,four,82,4800,23,29,8013',\n",
       " 'toyota,gas,std,two,sedan,rwd,four,70,4800,29,34,8058',\n",
       " 'mitsubishi,gas,std,four,sedan,fwd,four,88,5000,25,32,8189',\n",
       " 'volkswagen,gas,std,four,sedan,fwd,four,85,5250,27,34,8195',\n",
       " 'toyota,gas,std,two,hatchback,rwd,four,70,4800,29,34,8238',\n",
       " 'nissan,gas,std,two,hardtop,fwd,four,69,5200,31,37,8249',\n",
       " 'toyota,gas,std,four,hatchback,fwd,four,70,4800,28,34,8358',\n",
       " 'toyota,gas,std,two,hardtop,rwd,four,116,4800,24,30,8449',\n",
       " 'mazda,gas,std,four,sedan,fwd,four,84,4800,26,32,8495',\n",
       " 'volkswagen,gas,std,four,sedan,fwd,four,85,5250,27,34,8495',\n",
       " 'mitsubishi,gas,std,two,hatchback,fwd,four,88,5000,25,32,8499',\n",
       " 'toyota,gas,std,four,wagon,4wd,four,62,4800,27,32,8778',\n",
       " 'honda,gas,std,four,sedan,fwd,four,86,5800,27,33,8845',\n",
       " 'mazda,gas,std,two,hatchback,fwd,four,84,4800,26,32,8845',\n",
       " 'dodge,gas,std,four,wagon,fwd,four,88,5000,24,30,8921',\n",
       " 'plymouth,gas,std,four,wagon,fwd,four,88,5000,24,30,8921',\n",
       " 'toyota,gas,std,four,sedan,fwd,four,92,4200,29,34,8948',\n",
       " 'nissan,gas,std,four,hatchback,fwd,four,97,5200,27,34,8949',\n",
       " 'honda,gas,std,two,hatchback,fwd,four,86,5800,27,33,9095',\n",
       " 'subaru,gas,std,four,sedan,4wd,four,82,4800,24,25,9233',\n",
       " 'toyota,gas,std,four,sedan,fwd,four,70,4800,28,34,9258',\n",
       " 'mitsubishi,gas,turbo,four,sedan,fwd,four,116,5500,23,30,9279',\n",
       " 'mitsubishi,gas,std,four,sedan,fwd,four,116,5500,23,30,9279',\n",
       " 'toyota,gas,std,two,sedan,rwd,four,112,6600,26,29,9298',\n",
       " 'volkswagen,diesel,turbo,four,sedan,fwd,four,68,4500,37,42,9495',\n",
       " 'toyota,gas,std,two,hatchback,rwd,four,112,6600,26,29,9538',\n",
       " 'nissan,gas,std,four,sedan,fwd,four,97,5200,27,34,9549',\n",
       " 'toyota,gas,std,two,hardtop,rwd,four,116,4800,24,30,9639',\n",
       " 'mitsubishi,gas,turbo,two,hatchback,fwd,four,116,5500,23,30,9959',\n",
       " 'subaru,gas,std,four,sedan,fwd,four,94,5200,26,32,9960',\n",
       " 'volkswagen,gas,std,two,hatchback,fwd,four,90,5500,24,29,9980',\n",
       " 'toyota,gas,std,four,hatchback,fwd,four,92,4200,27,32,9988',\n",
       " 'toyota,gas,std,two,hatchback,rwd,four,116,4800,24,30,9989',\n",
       " 'volkswagen,gas,std,four,sedan,fwd,four,100,5500,26,32,9995',\n",
       " 'subaru,gas,std,four,wagon,fwd,four,94,5200,25,31,10198',\n",
       " 'mazda,gas,std,four,sedan,fwd,four,84,4800,26,32,10245',\n",
       " 'honda,gas,std,four,sedan,fwd,four,86,5800,27,33,10295',\n",
       " 'honda,gas,std,two,sedan,fwd,four,100,5500,25,31,10345',\n",
       " 'mazda,gas,std,two,hatchback,fwd,four,84,4800,26,32,10595',\n",
       " 'toyota,diesel,turbo,four,sedan,fwd,four,73,4500,30,33,10698',\n",
       " 'toyota,gas,std,four,sedan,fwd,four,92,4200,27,32,10898',\n",
       " 'mazda,gas,std,two,hatchback,rwd,two,101,6000,17,23,10945',\n",
       " 'isuzu,gas,std,two,hatchback,rwd,four,90,5000,24,29,11048',\n",
       " 'toyota,gas,std,two,hardtop,rwd,four,116,4800,24,30,11199',\n",
       " 'mazda,gas,std,four,hatchback,fwd,four,84,4800,26,32,11245',\n",
       " 'toyota,gas,std,four,hatchback,fwd,four,92,4200,27,32,11248',\n",
       " 'subaru,gas,turbo,four,sedan,4wd,four,111,4800,24,29,11259',\n",
       " 'toyota,gas,std,two,hatchback,rwd,four,116,4800,24,30,11549',\n",
       " 'volkswagen,gas,std,two,convertible,fwd,four,90,5500,24,29,11595',\n",
       " 'subaru,gas,turbo,four,wagon,4wd,four,111,4800,23,23,11694',\n",
       " 'mazda,gas,std,two,hatchback,rwd,two,101,6000,17,23,11845',\n",
       " 'saab,gas,std,two,hatchback,fwd,four,110,5250,21,28,11850',\n",
       " 'peugot,gas,std,four,sedan,rwd,four,97,5000,19,24,11900',\n",
       " 'saab,gas,std,four,sedan,fwd,four,110,5250,21,28,12170',\n",
       " 'volkswagen,gas,std,four,wagon,fwd,four,88,5500,25,31,12290',\n",
       " 'peugot,gas,std,four,wagon,rwd,four,97,5000,19,24,12440',\n",
       " 'mitsubishi,gas,turbo,two,hatchback,fwd,four,145,5000,19,24,12629',\n",
       " 'plymouth,gas,turbo,two,hatchback,rwd,four,145,5000,19,24,12764',\n",
       " 'volvo,gas,std,four,sedan,rwd,four,114,5400,23,28,12940',\n",
       " 'honda,gas,std,four,sedan,fwd,four,101,5800,24,28,12945',\n",
       " 'dodge,gas,turbo,two,hatchback,fwd,four,145,5000,19,24,12964',\n",
       " 'peugot,diesel,turbo,four,sedan,rwd,four,95,4150,28,33,13200',\n",
       " 'volkswagen,gas,std,four,sedan,fwd,five,110,5500,19,24,13295',\n",
       " 'volvo,gas,std,four,wagon,rwd,four,114,5400,23,28,13415',\n",
       " 'alfa-romero,gas,std,two,convertible,rwd,four,111,5000,21,27,13495',\n",
       " 'nissan,gas,std,four,sedan,fwd,six,152,5200,17,22,13499',\n",
       " 'nissan,gas,std,four,sedan,fwd,six,152,5200,19,25,13499',\n",
       " 'mazda,gas,std,two,hatchback,rwd,two,101,6000,17,23,13645',\n",
       " 'volkswagen,diesel,turbo,four,sedan,fwd,four,68,4500,33,38,13845',\n",
       " 'peugot,diesel,turbo,four,wagon,rwd,four,95,4150,25,25,13860',\n",
       " 'audi,gas,std,four,sedan,fwd,four,102,5500,24,30,13950',\n",
       " 'nissan,gas,std,four,wagon,fwd,six,152,5200,17,22,14399',\n",
       " 'mitsubishi,gas,turbo,two,hatchback,fwd,four,145,5000,19,24,14489',\n",
       " 'mitsubishi,gas,turbo,two,hatchback,fwd,four,145,5000,19,24,14869',\n",
       " 'saab,gas,std,two,hatchback,fwd,four,110,5250,21,28,15040',\n",
       " 'audi,gas,std,two,sedan,fwd,five,110,5500,19,25,15250',\n",
       " 'saab,gas,std,four,sedan,fwd,four,110,5250,21,28,15510',\n",
       " 'peugot,gas,std,four,sedan,rwd,four,95,5000,19,24,15580',\n",
       " 'mazda,gas,std,two,hatchback,rwd,two,135,6000,16,23,15645',\n",
       " 'toyota,gas,std,four,sedan,rwd,six,156,5200,20,24,15690',\n",
       " 'toyota,gas,std,four,wagon,rwd,six,156,5200,19,24,15750',\n",
       " 'volvo,gas,std,four,sedan,rwd,four,114,5400,24,28,15985',\n",
       " 'toyota,gas,std,two,hatchback,rwd,six,161,5200,19,24,15998',\n",
       " 'bmw,gas,std,two,sedan,rwd,four,101,5800,23,29,16430',\n",
       " 'alfa-romero,gas,std,two,convertible,rwd,four,111,5000,21,27,16500',\n",
       " 'alfa-romero,gas,std,two,hatchback,rwd,six,154,5000,19,26,16500',\n",
       " 'mercury,gas,turbo,two,hatchback,rwd,four,175,5000,19,24,16503',\n",
       " 'volvo,gas,std,four,wagon,rwd,four,114,5400,24,28,16515',\n",
       " 'toyota,gas,std,two,hatchback,rwd,six,161,5200,20,24,16558',\n",
       " 'peugot,gas,std,four,sedan,rwd,four,97,5000,19,24,16630',\n",
       " 'peugot,gas,std,four,wagon,rwd,four,95,5000,19,24,16695',\n",
       " 'volvo,gas,std,four,sedan,rwd,four,114,5400,23,28,16845',\n",
       " 'peugot,diesel,turbo,four,sedan,rwd,four,95,4150,28,33,16900',\n",
       " 'bmw,gas,std,four,sedan,rwd,four,101,5800,23,29,16925',\n",
       " 'peugot,diesel,turbo,four,wagon,rwd,four,95,4150,25,25,17075',\n",
       " 'nissan,gas,std,two,hatchback,rwd,six,160,5200,19,25,17199',\n",
       " 'audi,gas,std,four,sedan,4wd,five,115,5500,18,22,17450',\n",
       " 'toyota,gas,std,two,convertible,rwd,four,116,4800,24,30,17669',\n",
       " 'audi,gas,std,four,sedan,fwd,five,110,5500,19,25,17710',\n",
       " 'peugot,diesel,turbo,four,sedan,rwd,four,95,4150,28,33,17950',\n",
       " 'peugot,gas,turbo,four,sedan,rwd,four,142,5600,18,24,18150',\n",
       " 'saab,gas,turbo,two,hatchback,fwd,four,160,5500,19,26,18150',\n",
       " 'mazda,gas,std,four,sedan,rwd,four,120,5000,19,27,18280',\n",
       " 'mazda,diesel,std,four,sedan,rwd,four,72,4200,31,39,18344',\n",
       " 'nissan,gas,std,two,hatchback,rwd,six,160,5200,19,25,18399',\n",
       " 'volvo,gas,turbo,four,sedan,rwd,four,162,5100,17,22,18420',\n",
       " 'saab,gas,turbo,four,sedan,fwd,four,160,5500,19,26,18620',\n",
       " 'audi,gas,std,four,wagon,fwd,five,110,5500,19,25,18920',\n",
       " 'volvo,gas,turbo,four,wagon,rwd,four,162,5100,17,22,18950',\n",
       " 'volvo,gas,turbo,four,sedan,rwd,four,160,5300,19,25,19045',\n",
       " 'nissan,gas,turbo,two,hatchback,rwd,six,200,5200,17,23,19699',\n",
       " 'bmw,gas,std,two,sedan,rwd,six,121,4250,21,28,20970',\n",
       " 'bmw,gas,std,four,sedan,rwd,six,121,4250,21,28,21105',\n",
       " 'volvo,gas,std,four,sedan,rwd,six,134,5500,18,23,21485',\n",
       " 'porsche,gas,std,two,hatchback,rwd,four,143,5500,19,27,22018',\n",
       " 'volvo,diesel,turbo,four,sedan,rwd,six,106,4800,26,27,22470',\n",
       " 'volvo,gas,turbo,four,sedan,rwd,four,114,5400,19,25,22625',\n",
       " 'audi,gas,turbo,four,sedan,fwd,five,140,5500,17,20,23875',\n",
       " 'bmw,gas,std,four,sedan,rwd,six,121,4250,20,25,24565',\n",
       " 'mercedes-benz,diesel,turbo,four,sedan,rwd,five,123,4350,22,25,25552',\n",
       " 'mercedes-benz,diesel,turbo,two,hardtop,rwd,five,123,4350,22,25,28176',\n",
       " 'mercedes-benz,diesel,turbo,four,wagon,rwd,five,123,4350,22,25,28248',\n",
       " 'bmw,gas,std,four,sedan,rwd,six,182,5400,16,22,30760',\n",
       " 'mercedes-benz,diesel,turbo,four,sedan,rwd,five,123,4350,22,25,31600',\n",
       " 'jaguar,gas,std,four,sedan,rwd,six,176,4750,15,19,32250',\n",
       " 'porsche,gas,std,two,hardtop,rwd,six,207,5900,17,25,32528',\n",
       " 'porsche,gas,std,two,hardtop,rwd,six,207,5900,17,25,34028',\n",
       " 'mercedes-benz,gas,std,four,sedan,rwd,eight,155,4750,16,18,34184',\n",
       " 'mercedes-benz,gas,std,two,convertible,rwd,eight,155,4750,16,18,35056',\n",
       " 'jaguar,gas,std,four,sedan,rwd,six,176,4750,15,19,35550',\n",
       " 'jaguar,gas,std,two,sedan,rwd,twelve,262,5000,13,17,36000',\n",
       " 'bmw,gas,std,four,sedan,rwd,six,182,5400,15,20,36880',\n",
       " 'porsche,gas,std,two,convertible,rwd,six,207,5900,17,25,37028',\n",
       " 'mercedes-benz,gas,std,four,sedan,rwd,eight,184,4500,14,16,40960',\n",
       " 'bmw,gas,std,two,sedan,rwd,six,182,5400,16,22,41315',\n",
       " 'mercedes-benz,gas,std,two,hardtop,rwd,eight,184,4500,14,16,45400']"
      ]
     },
     "execution_count": 6,
     "metadata": {},
     "output_type": "execute_result"
    }
   ],
   "source": [
    "carrosRDD.collect()"
   ]
  },
  {
   "cell_type": "code",
   "execution_count": 7,
   "id": "52c23fb1",
   "metadata": {},
   "outputs": [
    {
     "data": {
      "text/plain": [
       "['fabricante,tipo_combustivel,aspirado,portas,tipo,direcao,cilindros,horsepower,rpm,consumo_cidade,consumo_estrada,preco',\n",
       " 'subaru,gas,std,two,hatchback,fwd,four,69,4900,31,36,5118',\n",
       " 'chevrolet,gas,std,two,hatchback,fwd,three,48,5100,47,53,5151',\n",
       " 'mazda,gas,std,two,hatchback,fwd,four,68,5000,30,31,5195',\n",
       " 'toyota,gas,std,two,hatchback,fwd,four,62,4800,35,39,5348']"
      ]
     },
     "execution_count": 7,
     "metadata": {},
     "output_type": "execute_result"
    }
   ],
   "source": [
    "carrosRDD.take(5)"
   ]
  },
  {
   "cell_type": "code",
   "execution_count": 9,
   "id": "501b9218",
   "metadata": {},
   "outputs": [
    {
     "data": {
      "text/plain": [
       "197"
      ]
     },
     "execution_count": 9,
     "metadata": {},
     "output_type": "execute_result"
    }
   ],
   "source": [
    "# Removendo a primeira linha do arquivo\n",
    "primeiraLinha = carrosRDD.first()\n",
    "carrosRDD2 = carrosRDD.filter(lambda x: x != primeiraLinha)\n",
    "carrosRDD2.count()"
   ]
  },
  {
   "cell_type": "code",
   "execution_count": 11,
   "id": "f174780c",
   "metadata": {},
   "outputs": [
    {
     "data": {
      "text/plain": [
       "['subaru,gas,std,two,hatchback,fwd,four,69,4900,31,36,5118',\n",
       " 'chevrolet,gas,std,two,hatchback,fwd,three,48,5100,47,53,5151',\n",
       " 'mazda,gas,std,two,hatchback,fwd,four,68,5000,30,31,5195',\n",
       " 'toyota,gas,std,two,hatchback,fwd,four,62,4800,35,39,5348',\n",
       " 'mitsubishi,gas,std,two,hatchback,fwd,four,68,5500,37,41,5389']"
      ]
     },
     "execution_count": 11,
     "metadata": {},
     "output_type": "execute_result"
    }
   ],
   "source": [
    "carrosRDD2.take(5)"
   ]
  },
  {
   "cell_type": "markdown",
   "id": "afffadf5",
   "metadata": {},
   "source": [
    "# Pré Processamento dos Dados"
   ]
  },
  {
   "cell_type": "code",
   "execution_count": 13,
   "id": "af9e5416",
   "metadata": {},
   "outputs": [],
   "source": [
    "# Convertendo e limpando os dados\n",
    "\n",
    "def transformToNumeric(inputStr):\n",
    "    \n",
    "    # Divide a linha em colunas\n",
    "    attList = inputStr.split(',')\n",
    "    \n",
    "    # Aplica Label Encoding para as colunas de índice 3 e 4\n",
    "    doors = 1.0 if attList[3] == 'two' else 2.0\n",
    "    body = 1.0 if attList[4] == 'sedan' else 2.0\n",
    "    \n",
    "    # Usaremos somente algumas variáveis do conjunto de dados oriignal\n",
    "    linhas  = Row(DOORS = doors,\n",
    "                 BODY = float(body),\n",
    "                 HP = float(attList[7]),\n",
    "                 RPM = float(attList[8]),\n",
    "                 MPG = float(attList[9]))\n",
    "    \n",
    "    return linhas"
   ]
  },
  {
   "cell_type": "code",
   "execution_count": 15,
   "id": "6e3eb0a3",
   "metadata": {},
   "outputs": [
    {
     "data": {
      "text/plain": [
       "[Row(DOORS=1.0, BODY=2.0, HP=69.0, RPM=4900.0, MPG=31.0),\n",
       " Row(DOORS=1.0, BODY=2.0, HP=48.0, RPM=5100.0, MPG=47.0),\n",
       " Row(DOORS=1.0, BODY=2.0, HP=68.0, RPM=5000.0, MPG=30.0),\n",
       " Row(DOORS=1.0, BODY=2.0, HP=62.0, RPM=4800.0, MPG=35.0),\n",
       " Row(DOORS=1.0, BODY=2.0, HP=68.0, RPM=5500.0, MPG=37.0)]"
      ]
     },
     "execution_count": 15,
     "metadata": {},
     "output_type": "execute_result"
    }
   ],
   "source": [
    "# Aplicando a função ao RDD\n",
    "carrosRDD3 = carrosRDD2.map(transformToNumeric)\n",
    "carrosRDD3.take(5)"
   ]
  },
  {
   "cell_type": "code",
   "execution_count": 17,
   "id": "1805b254",
   "metadata": {},
   "outputs": [
    {
     "name": "stdout",
     "output_type": "stream",
     "text": [
      "+-----+----+----+------+----+\n",
      "|DOORS|BODY|  HP|   RPM| MPG|\n",
      "+-----+----+----+------+----+\n",
      "|  1.0| 2.0|69.0|4900.0|31.0|\n",
      "|  1.0| 2.0|48.0|5100.0|47.0|\n",
      "|  1.0| 2.0|68.0|5000.0|30.0|\n",
      "|  1.0| 2.0|62.0|4800.0|35.0|\n",
      "|  1.0| 2.0|68.0|5500.0|37.0|\n",
      "|  1.0| 2.0|60.0|5500.0|38.0|\n",
      "|  1.0| 1.0|69.0|5200.0|31.0|\n",
      "|  1.0| 2.0|68.0|5500.0|37.0|\n",
      "|  1.0| 2.0|68.0|5500.0|37.0|\n",
      "|  1.0| 2.0|68.0|5000.0|31.0|\n",
      "|  1.0| 2.0|68.0|5500.0|31.0|\n",
      "|  2.0| 2.0|68.0|5500.0|31.0|\n",
      "|  2.0| 2.0|68.0|5500.0|31.0|\n",
      "|  1.0| 2.0|70.0|5400.0|38.0|\n",
      "|  1.0| 2.0|62.0|4800.0|31.0|\n",
      "|  1.0| 2.0|68.0|5500.0|31.0|\n",
      "|  1.0| 2.0|58.0|4800.0|49.0|\n",
      "|  2.0| 2.0|62.0|4800.0|31.0|\n",
      "|  1.0| 2.0|76.0|6000.0|30.0|\n",
      "|  2.0| 1.0|70.0|5400.0|38.0|\n",
      "+-----+----+----+------+----+\n",
      "only showing top 20 rows\n",
      "\n"
     ]
    }
   ],
   "source": [
    "carrosDF = spSession.createDataFrame(carrosRDD3)\n",
    "carrosDF.show()"
   ]
  },
  {
   "cell_type": "code",
   "execution_count": 18,
   "id": "25dca6de",
   "metadata": {},
   "outputs": [
    {
     "name": "stdout",
     "output_type": "stream",
     "text": [
      "+-----+----+----+------+----+\n",
      "|DOORS|BODY|  HP|   RPM| MPG|\n",
      "+-----+----+----+------+----+\n",
      "|  1.0| 2.0|69.0|4900.0|31.0|\n",
      "|  1.0| 2.0|48.0|5100.0|47.0|\n",
      "|  1.0| 2.0|68.0|5000.0|30.0|\n",
      "|  1.0| 2.0|62.0|4800.0|35.0|\n",
      "|  1.0| 2.0|68.0|5500.0|37.0|\n",
      "+-----+----+----+------+----+\n",
      "only showing top 5 rows\n",
      "\n"
     ]
    }
   ],
   "source": [
    "carrosDF.show(5)"
   ]
  },
  {
   "cell_type": "markdown",
   "id": "01d2e83e",
   "metadata": {},
   "source": [
    "### Padronização "
   ]
  },
  {
   "cell_type": "code",
   "execution_count": 23,
   "id": "7f55bf2c",
   "metadata": {},
   "outputs": [
    {
     "data": {
      "text/html": [
       "<div>\n",
       "<style scoped>\n",
       "    .dataframe tbody tr th:only-of-type {\n",
       "        vertical-align: middle;\n",
       "    }\n",
       "\n",
       "    .dataframe tbody tr th {\n",
       "        vertical-align: top;\n",
       "    }\n",
       "\n",
       "    .dataframe thead th {\n",
       "        text-align: right;\n",
       "    }\n",
       "</style>\n",
       "<table border=\"1\" class=\"dataframe\">\n",
       "  <thead>\n",
       "    <tr style=\"text-align: right;\">\n",
       "      <th></th>\n",
       "      <th>summary</th>\n",
       "      <th>DOORS</th>\n",
       "      <th>BODY</th>\n",
       "      <th>HP</th>\n",
       "      <th>RPM</th>\n",
       "      <th>MPG</th>\n",
       "    </tr>\n",
       "  </thead>\n",
       "  <tbody>\n",
       "    <tr>\n",
       "      <th>0</th>\n",
       "      <td>count</td>\n",
       "      <td>197</td>\n",
       "      <td>197</td>\n",
       "      <td>197</td>\n",
       "      <td>197</td>\n",
       "      <td>197</td>\n",
       "    </tr>\n",
       "    <tr>\n",
       "      <th>1</th>\n",
       "      <td>mean</td>\n",
       "      <td>1.5685279187817258</td>\n",
       "      <td>1.532994923857868</td>\n",
       "      <td>103.60406091370558</td>\n",
       "      <td>5118.0203045685275</td>\n",
       "      <td>25.15228426395939</td>\n",
       "    </tr>\n",
       "    <tr>\n",
       "      <th>2</th>\n",
       "      <td>stddev</td>\n",
       "      <td>0.49654352778167493</td>\n",
       "      <td>0.5001812579359884</td>\n",
       "      <td>37.63920534951835</td>\n",
       "      <td>481.03591405011446</td>\n",
       "      <td>6.437862917085912</td>\n",
       "    </tr>\n",
       "    <tr>\n",
       "      <th>3</th>\n",
       "      <td>min</td>\n",
       "      <td>1.0</td>\n",
       "      <td>1.0</td>\n",
       "      <td>48.0</td>\n",
       "      <td>4150.0</td>\n",
       "      <td>13.0</td>\n",
       "    </tr>\n",
       "    <tr>\n",
       "      <th>4</th>\n",
       "      <td>max</td>\n",
       "      <td>2.0</td>\n",
       "      <td>2.0</td>\n",
       "      <td>262.0</td>\n",
       "      <td>6600.0</td>\n",
       "      <td>49.0</td>\n",
       "    </tr>\n",
       "  </tbody>\n",
       "</table>\n",
       "</div>"
      ],
      "text/plain": [
       "  summary                DOORS                BODY                  HP  \\\n",
       "0   count                  197                 197                 197   \n",
       "1    mean   1.5685279187817258   1.532994923857868  103.60406091370558   \n",
       "2  stddev  0.49654352778167493  0.5001812579359884   37.63920534951835   \n",
       "3     min                  1.0                 1.0                48.0   \n",
       "4     max                  2.0                 2.0               262.0   \n",
       "\n",
       "                  RPM                MPG  \n",
       "0                 197                197  \n",
       "1  5118.0203045685275  25.15228426395939  \n",
       "2  481.03591405011446  6.437862917085912  \n",
       "3              4150.0               13.0  \n",
       "4              6600.0               49.0  "
      ]
     },
     "execution_count": 23,
     "metadata": {},
     "output_type": "execute_result"
    }
   ],
   "source": [
    "# Sumarizando os dados e extraindo a média e o desvio padrão\n",
    "estats = carrosDF.describe().toPandas()\n",
    "estats.head()"
   ]
  },
  {
   "cell_type": "code",
   "execution_count": 25,
   "id": "492fb7c9",
   "metadata": {},
   "outputs": [
    {
     "data": {
      "text/plain": [
       "['1.5685279187817258',\n",
       " '1.532994923857868',\n",
       " '103.60406091370558',\n",
       " '5118.0203045685275',\n",
       " '25.15228426395939']"
      ]
     },
     "execution_count": 25,
     "metadata": {},
     "output_type": "execute_result"
    }
   ],
   "source": [
    "# Extraindo média e o desvio padrão\n",
    "medias = estats.iloc[1,1:6].values.tolist()\n",
    "desvios = estats.iloc[2,1:6].values.tolist()\n",
    "medias"
   ]
  },
  {
   "cell_type": "code",
   "execution_count": 27,
   "id": "16778b5d",
   "metadata": {},
   "outputs": [],
   "source": [
    "# Colocando a média e o desvio padrão em variáveis do tipo Broadcast (disponivel em todo cluster)\n",
    "bc_media = sc.broadcast(medias)\n",
    "bc_desvios = sc.broadcast(desvios)"
   ]
  },
  {
   "cell_type": "code",
   "execution_count": 28,
   "id": "4af3b4ff",
   "metadata": {},
   "outputs": [],
   "source": [
    "# Função para centrlizar e aplicar escaala aos dados, gerando vetor de saída\n",
    "# Cada valor será subtraido da média e então dividio pelo desvio padrão\n",
    "\n",
    "def centerAndScale(inRow):\n",
    "    \n",
    "    # Variáveis globais\n",
    "    global bc_media\n",
    "    global bc_desvios\n",
    "    \n",
    "    # Array de médias e desvios\n",
    "    meanArray = bc_media.value\n",
    "    stdArray = bc_desvios.value\n",
    "    \n",
    "    # Array para o resultado\n",
    "    retArray = []\n",
    "    \n",
    "    # Loop para o cálculo\n",
    "    for i in range(len(meanArray)):\n",
    "        retArray.append( (float(inRow[i]) - float(meanArray[1])) / float(stdArray[i]))\n",
    "        \n",
    "    return Vectors.dense(retArray)"
   ]
  },
  {
   "cell_type": "code",
   "execution_count": 29,
   "id": "c3adbf71",
   "metadata": {},
   "outputs": [],
   "source": [
    "# Aplicando a função \n",
    "carrosRDD4 = carrosDF.rdd.map(centerAndScale)"
   ]
  },
  {
   "cell_type": "code",
   "execution_count": 32,
   "id": "ff724025",
   "metadata": {},
   "outputs": [
    {
     "data": {
      "text/plain": [
       "[DenseVector([-1.0734, 0.9337, 1.7925, 10.1832, 4.5771]),\n",
       " DenseVector([-1.0734, 0.9337, 1.2345, 10.5989, 7.0624]),\n",
       " DenseVector([-1.0734, 0.9337, 1.7659, 10.391, 4.4218]),\n",
       " DenseVector([-1.0734, 0.9337, 1.6065, 9.9753, 5.1985]),\n",
       " DenseVector([-1.0734, 0.9337, 1.7659, 11.4305, 5.5091]),\n",
       " DenseVector([-1.0734, 0.9337, 1.5534, 11.4305, 5.6645]),\n",
       " DenseVector([-1.0734, -1.0656, 1.7925, 10.8068, 4.5771]),\n",
       " DenseVector([-1.0734, 0.9337, 1.7659, 11.4305, 5.5091]),\n",
       " DenseVector([-1.0734, 0.9337, 1.7659, 11.4305, 5.5091]),\n",
       " DenseVector([-1.0734, 0.9337, 1.7659, 10.391, 4.5771]),\n",
       " DenseVector([-1.0734, 0.9337, 1.7659, 11.4305, 4.5771]),\n",
       " DenseVector([0.9405, 0.9337, 1.7659, 11.4305, 4.5771]),\n",
       " DenseVector([0.9405, 0.9337, 1.7659, 11.4305, 4.5771]),\n",
       " DenseVector([-1.0734, 0.9337, 1.819, 11.2226, 5.6645]),\n",
       " DenseVector([-1.0734, 0.9337, 1.6065, 9.9753, 4.5771]),\n",
       " DenseVector([-1.0734, 0.9337, 1.7659, 11.4305, 4.5771]),\n",
       " DenseVector([-1.0734, 0.9337, 1.5002, 9.9753, 7.3731]),\n",
       " DenseVector([0.9405, 0.9337, 1.6065, 9.9753, 4.5771]),\n",
       " DenseVector([-1.0734, 0.9337, 1.9784, 12.4699, 4.4218]),\n",
       " DenseVector([0.9405, -1.0656, 1.819, 11.2226, 5.6645]),\n",
       " DenseVector([-1.0734, -1.0656, 1.7925, 10.8068, 4.5771]),\n",
       " DenseVector([-1.0734, 0.9337, 1.7659, 11.4305, 4.5771]),\n",
       " DenseVector([0.9405, -1.0656, 1.7659, 11.4305, 4.5771]),\n",
       " DenseVector([0.9405, -1.0656, 1.7659, 11.4305, 4.5771]),\n",
       " DenseVector([0.9405, -1.0656, 1.7659, 10.391, 4.5771]),\n",
       " DenseVector([0.9405, -1.0656, 2.0316, 9.9753, 3.4898]),\n",
       " DenseVector([-1.0734, 0.9337, 1.7659, 10.391, 4.5771]),\n",
       " DenseVector([0.9405, -1.0656, 1.7925, 10.8068, 4.5771]),\n",
       " DenseVector([-1.0734, 0.9337, 1.9784, 12.4699, 4.5771]),\n",
       " DenseVector([0.9405, 0.9337, 1.6065, 9.9753, 4.5771]),\n",
       " DenseVector([0.9405, -1.0656, 1.819, 9.9753, 4.4218]),\n",
       " DenseVector([0.9405, -1.0656, 2.2973, 10.391, 3.6452]),\n",
       " DenseVector([-1.0734, 0.9337, 1.8987, 9.1437, 3.8005]),\n",
       " DenseVector([-1.0734, -1.0656, 1.4205, 9.9753, 6.7518]),\n",
       " DenseVector([0.9405, -1.0656, 2.1379, 9.9753, 4.7325]),\n",
       " DenseVector([-1.0734, 0.9337, 1.9784, 12.4699, 4.4218]),\n",
       " DenseVector([0.9405, 0.9337, 1.819, 9.9753, 4.4218]),\n",
       " DenseVector([0.9405, -1.0656, 1.9784, 12.4699, 4.4218]),\n",
       " DenseVector([0.9405, 0.9337, 1.9784, 12.4699, 4.4218]),\n",
       " DenseVector([-1.0734, -1.0656, 1.7925, 10.8068, 4.5771]),\n",
       " DenseVector([0.9405, 0.9337, 1.7925, 10.8068, 4.5771]),\n",
       " DenseVector([0.9405, -1.0656, 1.7659, 10.391, 4.5771]),\n",
       " DenseVector([0.9405, 0.9337, 2.1379, 9.9753, 4.1111]),\n",
       " DenseVector([0.9405, -1.0656, 1.7925, 10.8068, 4.5771]),\n",
       " DenseVector([-1.0734, 0.9337, 1.8987, 9.1437, 3.8005]),\n",
       " DenseVector([0.9405, -1.0656, 1.7659, 11.4305, 4.5771]),\n",
       " DenseVector([0.9405, -1.0656, 1.7659, 11.4305, 4.5771]),\n",
       " DenseVector([-1.0734, 0.9337, 2.6692, 11.4305, 3.4898]),\n",
       " DenseVector([0.9405, -1.0656, 1.819, 9.9753, 5.6645]),\n",
       " DenseVector([0.9405, -1.0656, 2.1379, 9.1437, 4.1111]),\n",
       " DenseVector([-1.0734, -1.0656, 1.3408, 9.9753, 5.5091]),\n",
       " DenseVector([0.9405, 0.9337, 1.4471, 9.3516, 5.6645]),\n",
       " DenseVector([-1.0734, 0.9337, 1.7925, 10.8068, 4.5771]),\n",
       " DenseVector([-1.0734, 0.9337, 2.2441, 12.0541, 3.9558]),\n",
       " DenseVector([0.9405, 0.9337, 1.6065, 9.9753, 3.9558]),\n",
       " DenseVector([0.9405, -1.0656, 1.4471, 9.3516, 5.0431]),\n",
       " DenseVector([-1.0734, 0.9337, 2.6692, 11.4305, 3.4898]),\n",
       " DenseVector([-1.0734, 0.9337, 2.6692, 11.4305, 3.4898]),\n",
       " DenseVector([-1.0734, -1.0656, 2.2176, 10.9108, 3.9558]),\n",
       " DenseVector([0.9405, -1.0656, 1.3408, 9.9753, 5.5091]),\n",
       " DenseVector([0.9405, 0.9337, 1.7925, 10.8068, 4.5771]),\n",
       " DenseVector([0.9405, 0.9337, 2.1379, 9.9753, 3.3345]),\n",
       " DenseVector([-1.0734, -1.0656, 1.819, 9.9753, 4.2665]),\n",
       " DenseVector([0.9405, -1.0656, 2.2973, 10.391, 3.6452]),\n",
       " DenseVector([0.9405, -1.0656, 2.2176, 10.9108, 3.9558]),\n",
       " DenseVector([-1.0734, 0.9337, 1.819, 9.9753, 4.2665]),\n",
       " DenseVector([-1.0734, 0.9337, 1.7925, 10.8068, 4.5771]),\n",
       " DenseVector([0.9405, 0.9337, 1.819, 9.9753, 4.1111]),\n",
       " DenseVector([-1.0734, 0.9337, 3.0412, 9.9753, 3.4898]),\n",
       " DenseVector([0.9405, -1.0656, 2.191, 9.9753, 3.8005]),\n",
       " DenseVector([0.9405, -1.0656, 2.2176, 10.9108, 3.9558]),\n",
       " DenseVector([-1.0734, 0.9337, 2.2973, 10.391, 3.6452]),\n",
       " DenseVector([0.9405, 0.9337, 1.6065, 9.9753, 3.9558]),\n",
       " DenseVector([0.9405, -1.0656, 2.2441, 12.0541, 3.9558]),\n",
       " DenseVector([-1.0734, 0.9337, 2.191, 9.9753, 3.8005]),\n",
       " DenseVector([0.9405, 0.9337, 2.2973, 10.391, 3.4898]),\n",
       " DenseVector([0.9405, 0.9337, 2.2973, 10.391, 3.4898]),\n",
       " DenseVector([0.9405, -1.0656, 2.4035, 8.728, 4.2665]),\n",
       " DenseVector([0.9405, 0.9337, 2.5364, 10.8068, 3.9558]),\n",
       " DenseVector([-1.0734, 0.9337, 2.2441, 12.0541, 3.9558]),\n",
       " DenseVector([0.9405, -1.0656, 2.1379, 9.9753, 3.4898]),\n",
       " DenseVector([0.9405, -1.0656, 1.819, 9.9753, 4.1111]),\n",
       " DenseVector([0.9405, -1.0656, 3.0412, 11.4305, 3.3345]),\n",
       " DenseVector([0.9405, -1.0656, 3.0412, 11.4305, 3.3345]),\n",
       " DenseVector([-1.0734, -1.0656, 2.9349, 13.7172, 3.8005]),\n",
       " DenseVector([0.9405, -1.0656, 1.7659, 9.3516, 5.5091]),\n",
       " DenseVector([-1.0734, 0.9337, 2.9349, 13.7172, 3.8005]),\n",
       " DenseVector([0.9405, -1.0656, 2.5364, 10.8068, 3.9558]),\n",
       " DenseVector([-1.0734, 0.9337, 3.0412, 9.9753, 3.4898]),\n",
       " DenseVector([-1.0734, 0.9337, 3.0412, 11.4305, 3.3345]),\n",
       " DenseVector([0.9405, -1.0656, 2.4567, 10.8068, 3.8005]),\n",
       " DenseVector([-1.0734, 0.9337, 2.3504, 11.4305, 3.4898]),\n",
       " DenseVector([0.9405, 0.9337, 2.4035, 8.728, 3.9558]),\n",
       " DenseVector([-1.0734, 0.9337, 3.0412, 9.9753, 3.4898]),\n",
       " DenseVector([0.9405, -1.0656, 2.6161, 11.4305, 3.8005]),\n",
       " DenseVector([0.9405, 0.9337, 2.4567, 10.8068, 3.6452]),\n",
       " DenseVector([0.9405, -1.0656, 2.191, 9.9753, 3.8005]),\n",
       " DenseVector([0.9405, -1.0656, 2.2441, 12.0541, 3.9558]),\n",
       " DenseVector([-1.0734, -1.0656, 2.6161, 11.4305, 3.6452]),\n",
       " DenseVector([-1.0734, 0.9337, 2.191, 9.9753, 3.8005]),\n",
       " DenseVector([0.9405, -1.0656, 1.8987, 9.3516, 4.4218]),\n",
       " DenseVector([0.9405, -1.0656, 2.4035, 8.728, 3.9558]),\n",
       " DenseVector([-1.0734, 0.9337, 2.6426, 12.4699, 2.4025]),\n",
       " DenseVector([-1.0734, 0.9337, 2.3504, 10.391, 3.4898]),\n",
       " DenseVector([-1.0734, 0.9337, 3.0412, 9.9753, 3.4898]),\n",
       " DenseVector([0.9405, 0.9337, 2.191, 9.9753, 3.8005]),\n",
       " DenseVector([0.9405, 0.9337, 2.4035, 8.728, 3.9558]),\n",
       " DenseVector([0.9405, -1.0656, 2.9083, 9.9753, 3.4898]),\n",
       " DenseVector([-1.0734, 0.9337, 3.0412, 9.9753, 3.4898]),\n",
       " DenseVector([-1.0734, 0.9337, 2.3504, 11.4305, 3.4898]),\n",
       " DenseVector([0.9405, 0.9337, 2.9083, 9.9753, 3.3345]),\n",
       " DenseVector([-1.0734, 0.9337, 2.6426, 12.4699, 2.4025]),\n",
       " DenseVector([-1.0734, 0.9337, 2.8818, 10.9108, 3.0238]),\n",
       " DenseVector([0.9405, -1.0656, 2.5364, 10.391, 2.7132]),\n",
       " DenseVector([0.9405, -1.0656, 2.8818, 10.9108, 3.0238]),\n",
       " DenseVector([0.9405, 0.9337, 2.2973, 11.4305, 3.6452]),\n",
       " DenseVector([0.9405, 0.9337, 2.5364, 10.391, 2.7132]),\n",
       " DenseVector([-1.0734, 0.9337, 3.8116, 10.391, 2.7132]),\n",
       " DenseVector([-1.0734, 0.9337, 3.8116, 10.391, 2.7132]),\n",
       " DenseVector([0.9405, -1.0656, 2.988, 11.2226, 3.3345]),\n",
       " DenseVector([0.9405, -1.0656, 2.6426, 12.0541, 3.4898]),\n",
       " DenseVector([-1.0734, 0.9337, 3.8116, 10.391, 2.7132]),\n",
       " DenseVector([0.9405, -1.0656, 2.4832, 8.624, 4.1111]),\n",
       " DenseVector([0.9405, -1.0656, 2.8818, 11.4305, 2.7132]),\n",
       " DenseVector([0.9405, 0.9337, 2.988, 11.2226, 3.3345]),\n",
       " DenseVector([-1.0734, 0.9337, 2.9083, 10.391, 3.0238]),\n",
       " DenseVector([0.9405, -1.0656, 3.9976, 10.8068, 2.4025]),\n",
       " DenseVector([0.9405, -1.0656, 3.9976, 10.8068, 2.7132]),\n",
       " DenseVector([-1.0734, 0.9337, 2.6426, 12.4699, 2.4025]),\n",
       " DenseVector([0.9405, -1.0656, 1.7659, 9.3516, 4.8878]),\n",
       " DenseVector([0.9405, 0.9337, 2.4832, 8.624, 3.6452]),\n",
       " DenseVector([0.9405, -1.0656, 2.6692, 11.4305, 3.4898]),\n",
       " DenseVector([0.9405, 0.9337, 3.9976, 10.8068, 2.4025]),\n",
       " DenseVector([-1.0734, 0.9337, 3.8116, 10.391, 2.7132]),\n",
       " DenseVector([-1.0734, 0.9337, 3.8116, 10.391, 2.7132]),\n",
       " DenseVector([-1.0734, 0.9337, 2.8818, 10.9108, 3.0238]),\n",
       " DenseVector([-1.0734, -1.0656, 2.8818, 11.4305, 2.7132]),\n",
       " DenseVector([0.9405, -1.0656, 2.8818, 10.9108, 3.0238]),\n",
       " DenseVector([0.9405, -1.0656, 2.4832, 10.391, 2.7132]),\n",
       " DenseVector([-1.0734, 0.9337, 3.546, 12.4699, 2.2472]),\n",
       " DenseVector([0.9405, -1.0656, 4.1039, 10.8068, 2.8685]),\n",
       " DenseVector([0.9405, 0.9337, 4.1039, 10.8068, 2.7132]),\n",
       " DenseVector([0.9405, -1.0656, 2.988, 11.2226, 3.4898]),\n",
       " DenseVector([-1.0734, 0.9337, 4.2367, 10.8068, 2.7132]),\n",
       " DenseVector([-1.0734, -1.0656, 2.6426, 12.0541, 3.3345]),\n",
       " DenseVector([-1.0734, 0.9337, 2.9083, 10.391, 3.0238]),\n",
       " DenseVector([-1.0734, 0.9337, 4.0507, 10.391, 2.7132]),\n",
       " DenseVector([-1.0734, 0.9337, 4.6087, 10.391, 2.7132]),\n",
       " DenseVector([0.9405, 0.9337, 2.988, 11.2226, 3.4898]),\n",
       " DenseVector([-1.0734, 0.9337, 4.2367, 10.8068, 2.8685]),\n",
       " DenseVector([0.9405, -1.0656, 2.5364, 10.391, 2.7132]),\n",
       " DenseVector([0.9405, 0.9337, 2.4832, 10.391, 2.7132]),\n",
       " DenseVector([0.9405, -1.0656, 2.988, 11.2226, 3.3345]),\n",
       " DenseVector([0.9405, -1.0656, 2.4832, 8.624, 4.1111]),\n",
       " DenseVector([0.9405, -1.0656, 2.6426, 12.0541, 3.3345]),\n",
       " DenseVector([0.9405, 0.9337, 2.4832, 8.624, 3.6452]),\n",
       " DenseVector([-1.0734, 0.9337, 4.2102, 10.8068, 2.7132]),\n",
       " DenseVector([0.9405, -1.0656, 3.0146, 11.4305, 2.5578]),\n",
       " DenseVector([-1.0734, 0.9337, 3.0412, 9.9753, 3.4898]),\n",
       " DenseVector([0.9405, -1.0656, 2.8818, 11.4305, 2.7132]),\n",
       " DenseVector([0.9405, -1.0656, 2.4832, 8.624, 4.1111]),\n",
       " DenseVector([0.9405, -1.0656, 3.7319, 11.6384, 2.5578]),\n",
       " DenseVector([-1.0734, 0.9337, 4.2102, 11.4305, 2.7132]),\n",
       " DenseVector([0.9405, -1.0656, 3.1474, 10.391, 2.7132]),\n",
       " DenseVector([0.9405, -1.0656, 1.8722, 8.728, 4.5771]),\n",
       " DenseVector([-1.0734, 0.9337, 4.2102, 10.8068, 2.7132]),\n",
       " DenseVector([0.9405, -1.0656, 4.2633, 10.5989, 2.4025]),\n",
       " DenseVector([0.9405, -1.0656, 4.2102, 11.4305, 2.7132]),\n",
       " DenseVector([0.9405, 0.9337, 2.8818, 11.4305, 2.7132]),\n",
       " DenseVector([0.9405, 0.9337, 4.2633, 10.5989, 2.4025]),\n",
       " DenseVector([0.9405, -1.0656, 4.2102, 11.0147, 2.7132]),\n",
       " DenseVector([-1.0734, 0.9337, 5.2729, 10.8068, 2.4025]),\n",
       " DenseVector([-1.0734, -1.0656, 3.174, 8.8319, 3.0238]),\n",
       " DenseVector([0.9405, -1.0656, 3.174, 8.8319, 3.0238]),\n",
       " DenseVector([0.9405, -1.0656, 3.5194, 11.4305, 2.5578]),\n",
       " DenseVector([-1.0734, 0.9337, 3.7585, 11.4305, 2.7132]),\n",
       " DenseVector([0.9405, -1.0656, 2.7755, 9.9753, 3.8005]),\n",
       " DenseVector([0.9405, -1.0656, 2.988, 11.2226, 2.7132]),\n",
       " DenseVector([0.9405, -1.0656, 3.6788, 11.4305, 2.4025]),\n",
       " DenseVector([0.9405, -1.0656, 3.174, 8.8319, 2.8685]),\n",
       " DenseVector([0.9405, -1.0656, 3.2271, 9.0398, 3.1792]),\n",
       " DenseVector([-1.0734, 0.9337, 3.2271, 9.0398, 3.1792]),\n",
       " DenseVector([0.9405, 0.9337, 3.2271, 9.0398, 3.1792]),\n",
       " DenseVector([0.9405, -1.0656, 4.7947, 11.2226, 2.2472]),\n",
       " DenseVector([0.9405, -1.0656, 3.2271, 9.0398, 3.1792]),\n",
       " DenseVector([0.9405, -1.0656, 4.6352, 9.8713, 2.0918]),\n",
       " DenseVector([-1.0734, 0.9337, 5.4589, 12.262, 2.4025]),\n",
       " DenseVector([-1.0734, 0.9337, 5.4589, 12.262, 2.4025]),\n",
       " DenseVector([0.9405, -1.0656, 4.0773, 9.8713, 2.2472]),\n",
       " DenseVector([-1.0734, 0.9337, 4.0773, 9.8713, 2.2472]),\n",
       " DenseVector([0.9405, -1.0656, 4.6352, 9.8713, 2.0918]),\n",
       " DenseVector([-1.0734, -1.0656, 6.9201, 10.391, 1.7812]),\n",
       " DenseVector([0.9405, -1.0656, 4.7947, 11.2226, 2.0918]),\n",
       " DenseVector([-1.0734, 0.9337, 5.4589, 12.262, 2.4025]),\n",
       " DenseVector([0.9405, -1.0656, 4.8478, 9.3516, 1.9365]),\n",
       " DenseVector([-1.0734, -1.0656, 4.7947, 11.2226, 2.2472]),\n",
       " DenseVector([-1.0734, 0.9337, 4.8478, 9.3516, 1.9365])]"
      ]
     },
     "execution_count": 32,
     "metadata": {},
     "output_type": "execute_result"
    }
   ],
   "source": [
    "carrosRDD4.collect()"
   ]
  },
  {
   "cell_type": "code",
   "execution_count": 34,
   "id": "ba762ff9",
   "metadata": {},
   "outputs": [
    {
     "name": "stdout",
     "output_type": "stream",
     "text": [
      "+--------------------+\n",
      "|            features|\n",
      "+--------------------+\n",
      "|[-1.0734102732927...|\n",
      "|[-1.0734102732927...|\n",
      "|[-1.0734102732927...|\n",
      "|[-1.0734102732927...|\n",
      "|[-1.0734102732927...|\n",
      "+--------------------+\n",
      "only showing top 5 rows\n",
      "\n"
     ]
    }
   ],
   "source": [
    "# Criando um DataFrame\n",
    "carrosRDD5 = carrosRDD4.map(lambda f:Row(features = f))\n",
    "carrosDF = spSession.createDataFrame(carrosRDD5)\n",
    "carrosDF.select('features').show(5)"
   ]
  },
  {
   "cell_type": "code",
   "execution_count": 35,
   "id": "2def425e",
   "metadata": {},
   "outputs": [
    {
     "name": "stdout",
     "output_type": "stream",
     "text": [
      "+--------------------+\n",
      "|            features|\n",
      "+--------------------+\n",
      "|[-1.0734102732927...|\n",
      "|[-1.0734102732927...|\n",
      "|[-1.0734102732927...|\n",
      "|[-1.0734102732927...|\n",
      "|[-1.0734102732927...|\n",
      "|[-1.0734102732927...|\n",
      "|[-1.0734102732927...|\n",
      "|[-1.0734102732927...|\n",
      "|[-1.0734102732927...|\n",
      "|[-1.0734102732927...|\n",
      "+--------------------+\n",
      "only showing top 10 rows\n",
      "\n"
     ]
    }
   ],
   "source": [
    "carrosDF.show(10)"
   ]
  },
  {
   "cell_type": "markdown",
   "id": "fa34c91b",
   "metadata": {},
   "source": [
    "# Machine Learning"
   ]
  },
  {
   "cell_type": "code",
   "execution_count": 63,
   "id": "94d40e24",
   "metadata": {},
   "outputs": [],
   "source": [
    "# Cria o modelo \n",
    "kmeans = KMeans(k = 2, # Número de grupos\n",
    "                seed = 1) #"
   ]
  },
  {
   "cell_type": "code",
   "execution_count": 64,
   "id": "e7fb4a3c",
   "metadata": {},
   "outputs": [],
   "source": [
    "# Treinando o modelo\n",
    "modelo = kmeans.fit(carrosDF)"
   ]
  },
  {
   "cell_type": "code",
   "execution_count": 65,
   "id": "1771fde4",
   "metadata": {},
   "outputs": [
    {
     "name": "stdout",
     "output_type": "stream",
     "text": [
      "+--------------------+----------+\n",
      "|            features|prediction|\n",
      "+--------------------+----------+\n",
      "|[-1.0734102732927...|         1|\n",
      "|[-1.0734102732927...|         1|\n",
      "|[-1.0734102732927...|         1|\n",
      "|[-1.0734102732927...|         1|\n",
      "|[-1.0734102732927...|         1|\n",
      "|[-1.0734102732927...|         1|\n",
      "|[-1.0734102732927...|         1|\n",
      "|[-1.0734102732927...|         1|\n",
      "|[-1.0734102732927...|         1|\n",
      "|[-1.0734102732927...|         1|\n",
      "|[-1.0734102732927...|         1|\n",
      "|[0.94051185850411...|         0|\n",
      "|[0.94051185850411...|         0|\n",
      "|[-1.0734102732927...|         1|\n",
      "|[-1.0734102732927...|         1|\n",
      "|[-1.0734102732927...|         1|\n",
      "|[-1.0734102732927...|         1|\n",
      "|[0.94051185850411...|         0|\n",
      "|[-1.0734102732927...|         1|\n",
      "|[0.94051185850411...|         0|\n",
      "+--------------------+----------+\n",
      "only showing top 20 rows\n",
      "\n"
     ]
    }
   ],
   "source": [
    "# Previsoes\n",
    "previsoes = modelo.transform(carrosDF)\n",
    "previsoes.show()"
   ]
  },
  {
   "cell_type": "code",
   "execution_count": 66,
   "id": "b4575c3d",
   "metadata": {},
   "outputs": [],
   "source": [
    "# Crinado funções para extrair os atributos previstos\n",
    "def unstripData(instr):\n",
    "    return(instr['prediction'],\n",
    "          instr['features'][0],\n",
    "          instr['features'][1],\n",
    "          instr['features'][2],\n",
    "          instr['features'][3],\n",
    "          instr['features'][4],)"
   ]
  },
  {
   "cell_type": "code",
   "execution_count": 67,
   "id": "0a49c953",
   "metadata": {},
   "outputs": [],
   "source": [
    "# Aplica a função nas previsções\n",
    "carrosRDD6 = previsoes.rdd.map(unstripData)"
   ]
  },
  {
   "cell_type": "code",
   "execution_count": null,
   "id": "f331113d",
   "metadata": {},
   "outputs": [],
   "source": [
    "predList = carrosRDD6.collect()"
   ]
  },
  {
   "cell_type": "code",
   "execution_count": null,
   "id": "8c7c375e",
   "metadata": {},
   "outputs": [],
   "source": [
    "predList"
   ]
  },
  {
   "cell_type": "code",
   "execution_count": null,
   "id": "8107ba5d",
   "metadata": {},
   "outputs": [],
   "source": [
    "#  cOVERTENDO EM dATAfRAME DO pANDAS\n",
    "predPD = pd.DataFrame(predList)"
   ]
  },
  {
   "cell_type": "code",
   "execution_count": null,
   "id": "de8425b2",
   "metadata": {},
   "outputs": [],
   "source": [
    "predPD.head(20)"
   ]
  },
  {
   "cell_type": "code",
   "execution_count": null,
   "id": "ecda98a8",
   "metadata": {},
   "outputs": [],
   "source": [
    "# Gráfico com o resultado dos clusters criados\n",
    "plt.cla()\n",
    "plt.scatter(predPD[3], predPD[4], c = predPD[0])"
   ]
  },
  {
   "cell_type": "code",
   "execution_count": null,
   "id": "c576f9f6",
   "metadata": {},
   "outputs": [],
   "source": []
  }
 ],
 "metadata": {
  "kernelspec": {
   "display_name": "Python 3 (ipykernel)",
   "language": "python",
   "name": "python3"
  },
  "language_info": {
   "codemirror_mode": {
    "name": "ipython",
    "version": 3
   },
   "file_extension": ".py",
   "mimetype": "text/x-python",
   "name": "python",
   "nbconvert_exporter": "python",
   "pygments_lexer": "ipython3",
   "version": "3.9.13"
  }
 },
 "nbformat": 4,
 "nbformat_minor": 5
}
