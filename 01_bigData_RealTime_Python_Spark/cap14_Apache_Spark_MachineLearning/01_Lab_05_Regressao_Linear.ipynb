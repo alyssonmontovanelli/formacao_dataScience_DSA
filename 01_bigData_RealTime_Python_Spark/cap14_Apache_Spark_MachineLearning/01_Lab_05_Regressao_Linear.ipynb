{
 "cells": [
  {
   "cell_type": "markdown",
   "id": "55c85f59",
   "metadata": {},
   "source": [
    "# Regressão Linear\n",
    "\n",
    "###### Regressão Linear para prever o consumo de combustível de automóveis\n",
    "\n",
    "A variável consumo é a variável alvo e as demais variáveis preditoras, portanto é um problema de regressão linear multipla"
   ]
  },
  {
   "cell_type": "code",
   "execution_count": 9,
   "id": "aa260d37",
   "metadata": {},
   "outputs": [],
   "source": [
    "import findspark\n",
    "findspark.init()"
   ]
  },
  {
   "cell_type": "code",
   "execution_count": 10,
   "id": "53c8d5ef",
   "metadata": {},
   "outputs": [],
   "source": [
    "import numpy as np\n",
    "import pyspark\n",
    "from pyspark import SparkContext\n",
    "from pyspark.sql import SparkSession\n",
    "from pyspark.sql import Row # Pré Processar os dados\n",
    "from pyspark.ml.linalg import Vectors # Criação de vetores para alimentar o algoritmo\n",
    "from pyspark.ml.regression import LinearRegression \n",
    "from pyspark.ml.evaluation import RegressionEvaluator # Avaliador do modelo "
   ]
  },
  {
   "cell_type": "markdown",
   "id": "9712c11e",
   "metadata": {},
   "source": [
    "# Carregando os dados"
   ]
  },
  {
   "cell_type": "code",
   "execution_count": 14,
   "id": "ab73b556",
   "metadata": {},
   "outputs": [],
   "source": [
    "sc = SparkContext(appName = \"Lab5\")"
   ]
  },
  {
   "cell_type": "code",
   "execution_count": 15,
   "id": "1af2c99a",
   "metadata": {},
   "outputs": [],
   "source": [
    "# Criação sa sessão Spark\n",
    "apSession = SparkSession.builder.master(\"local\").getOrCreate()"
   ]
  },
  {
   "cell_type": "code",
   "execution_count": 16,
   "id": "8a967898",
   "metadata": {},
   "outputs": [
    {
     "data": {
      "text/html": [
       "\n",
       "            <div>\n",
       "                <p><b>SparkSession - in-memory</b></p>\n",
       "                \n",
       "        <div>\n",
       "            <p><b>SparkContext</b></p>\n",
       "\n",
       "            <p><a href=\"http://host.docker.internal:4040\">Spark UI</a></p>\n",
       "\n",
       "            <dl>\n",
       "              <dt>Version</dt>\n",
       "                <dd><code>v3.4.1</code></dd>\n",
       "              <dt>Master</dt>\n",
       "                <dd><code>local[*]</code></dd>\n",
       "              <dt>AppName</dt>\n",
       "                <dd><code>Lab5</code></dd>\n",
       "            </dl>\n",
       "        </div>\n",
       "        \n",
       "            </div>\n",
       "        "
      ],
      "text/plain": [
       "<pyspark.sql.session.SparkSession at 0x14c8930af70>"
      ]
     },
     "execution_count": 16,
     "metadata": {},
     "output_type": "execute_result"
    }
   ],
   "source": [
    "apSession"
   ]
  },
  {
   "cell_type": "code",
   "execution_count": 34,
   "id": "b4646081",
   "metadata": {},
   "outputs": [],
   "source": [
    "# Carregando os dados para DF Spark - ou RDD\n",
    "dados = sc.textFile(\"C:/formacao_dataScience_DSA_DADOS/01_bigData_RealTime_Python_Spark/cap14_Apache_Spark_MLlib/Lab5/dados/dataset1.csv\")"
   ]
  },
  {
   "cell_type": "code",
   "execution_count": 35,
   "id": "fef9c0b3",
   "metadata": {},
   "outputs": [
    {
     "data": {
      "text/plain": [
       "pyspark.rdd.RDD"
      ]
     },
     "execution_count": 35,
     "metadata": {},
     "output_type": "execute_result"
    }
   ],
   "source": [
    "type(dados)"
   ]
  },
  {
   "cell_type": "code",
   "execution_count": 36,
   "id": "04623886",
   "metadata": {},
   "outputs": [
    {
     "data": {
      "text/plain": [
       "C:/formacao_dataScience_DSA_DADOS/01_bigData_RealTime_Python_Spark/cap14_Apache_Spark_MLlib/Lab5/dados/dataset1.csv MapPartitionsRDD[11] at textFile at NativeMethodAccessorImpl.java:0"
      ]
     },
     "execution_count": 36,
     "metadata": {},
     "output_type": "execute_result"
    }
   ],
   "source": [
    "# Colocando o RDD em cache. Esse processo otimiza a performance\n",
    "dados.cache()"
   ]
  },
  {
   "cell_type": "code",
   "execution_count": 37,
   "id": "1e1a3b19",
   "metadata": {},
   "outputs": [
    {
     "data": {
      "text/plain": [
       "399"
      ]
     },
     "execution_count": 37,
     "metadata": {},
     "output_type": "execute_result"
    }
   ],
   "source": [
    "# Número de registros\n",
    "dados.count()"
   ]
  },
  {
   "cell_type": "code",
   "execution_count": 38,
   "id": "b1480c22",
   "metadata": {},
   "outputs": [
    {
     "data": {
      "text/plain": [
       "['consumo,numero_cilindros,capacidade,horsepower,peso,aceleracao,ano,nome',\n",
       " '30,4,79,70,2074,19.5,71,peugeot 304',\n",
       " '30,4,88,76,2065,14.5,71,fiat 124b',\n",
       " '31,4,71,65,1773,19,71,toyota corolla 1200',\n",
       " '35,4,72,69,1613,18,71,datsun 1200']"
      ]
     },
     "execution_count": 38,
     "metadata": {},
     "output_type": "execute_result"
    }
   ],
   "source": [
    "dados.take(5)"
   ]
  },
  {
   "cell_type": "code",
   "execution_count": 65,
   "id": "ffcd59a0",
   "metadata": {},
   "outputs": [],
   "source": [
    "# Removendo o cabelaçõ\n",
    "dados = dados.filter(lambda x: \"numero_cilindros\" not in x) # Verifica se tem a palavra 'hosrepower na lina, se tive, vai pular a linha'"
   ]
  },
  {
   "cell_type": "code",
   "execution_count": 66,
   "id": "d447e202",
   "metadata": {},
   "outputs": [
    {
     "data": {
      "text/plain": [
       "['30,4,79,70,2074,19.5,71,peugeot 304',\n",
       " '30,4,88,76,2065,14.5,71,fiat 124b',\n",
       " '31,4,71,65,1773,19,71,toyota corolla 1200',\n",
       " '35,4,72,69,1613,18,71,datsun 1200',\n",
       " '27,4,97,60,1834,19,71,volkswagen model 111']"
      ]
     },
     "execution_count": 66,
     "metadata": {},
     "output_type": "execute_result"
    }
   ],
   "source": [
    "dados.take(5)"
   ]
  },
  {
   "cell_type": "code",
   "execution_count": 67,
   "id": "ce64a64a",
   "metadata": {},
   "outputs": [
    {
     "data": {
      "text/plain": [
       "pyspark.rdd.PipelinedRDD"
      ]
     },
     "execution_count": 67,
     "metadata": {},
     "output_type": "execute_result"
    }
   ],
   "source": [
    "type(dados)"
   ]
  },
  {
   "cell_type": "markdown",
   "id": "8dff3fda",
   "metadata": {},
   "source": [
    "# Limpeza dos Dados"
   ]
  },
  {
   "cell_type": "code",
   "execution_count": 68,
   "id": "62391686",
   "metadata": {},
   "outputs": [],
   "source": [
    "# Converter para DF do Spark\n",
    "df_spark = dados.map(lambda x: str(x)).map(lambda w: w.split(',')).toDF()"
   ]
  },
  {
   "cell_type": "code",
   "execution_count": 69,
   "id": "520edcae",
   "metadata": {},
   "outputs": [],
   "source": [
    "# Converte DataFrame Spark para DF Pandas\n",
    "df_pandas = df_spark.toPandas()"
   ]
  },
  {
   "cell_type": "code",
   "execution_count": 70,
   "id": "064d7604",
   "metadata": {},
   "outputs": [
    {
     "data": {
      "text/html": [
       "<div>\n",
       "<style scoped>\n",
       "    .dataframe tbody tr th:only-of-type {\n",
       "        vertical-align: middle;\n",
       "    }\n",
       "\n",
       "    .dataframe tbody tr th {\n",
       "        vertical-align: top;\n",
       "    }\n",
       "\n",
       "    .dataframe thead th {\n",
       "        text-align: right;\n",
       "    }\n",
       "</style>\n",
       "<table border=\"1\" class=\"dataframe\">\n",
       "  <thead>\n",
       "    <tr style=\"text-align: right;\">\n",
       "      <th></th>\n",
       "      <th>_1</th>\n",
       "      <th>_2</th>\n",
       "      <th>_3</th>\n",
       "      <th>_4</th>\n",
       "      <th>_5</th>\n",
       "      <th>_6</th>\n",
       "      <th>_7</th>\n",
       "      <th>_8</th>\n",
       "    </tr>\n",
       "  </thead>\n",
       "  <tbody>\n",
       "    <tr>\n",
       "      <th>0</th>\n",
       "      <td>30</td>\n",
       "      <td>4</td>\n",
       "      <td>79</td>\n",
       "      <td>70</td>\n",
       "      <td>2074</td>\n",
       "      <td>19.5</td>\n",
       "      <td>71</td>\n",
       "      <td>peugeot 304</td>\n",
       "    </tr>\n",
       "    <tr>\n",
       "      <th>1</th>\n",
       "      <td>30</td>\n",
       "      <td>4</td>\n",
       "      <td>88</td>\n",
       "      <td>76</td>\n",
       "      <td>2065</td>\n",
       "      <td>14.5</td>\n",
       "      <td>71</td>\n",
       "      <td>fiat 124b</td>\n",
       "    </tr>\n",
       "    <tr>\n",
       "      <th>2</th>\n",
       "      <td>31</td>\n",
       "      <td>4</td>\n",
       "      <td>71</td>\n",
       "      <td>65</td>\n",
       "      <td>1773</td>\n",
       "      <td>19</td>\n",
       "      <td>71</td>\n",
       "      <td>toyota corolla 1200</td>\n",
       "    </tr>\n",
       "    <tr>\n",
       "      <th>3</th>\n",
       "      <td>35</td>\n",
       "      <td>4</td>\n",
       "      <td>72</td>\n",
       "      <td>69</td>\n",
       "      <td>1613</td>\n",
       "      <td>18</td>\n",
       "      <td>71</td>\n",
       "      <td>datsun 1200</td>\n",
       "    </tr>\n",
       "    <tr>\n",
       "      <th>4</th>\n",
       "      <td>27</td>\n",
       "      <td>4</td>\n",
       "      <td>97</td>\n",
       "      <td>60</td>\n",
       "      <td>1834</td>\n",
       "      <td>19</td>\n",
       "      <td>71</td>\n",
       "      <td>volkswagen model 111</td>\n",
       "    </tr>\n",
       "  </tbody>\n",
       "</table>\n",
       "</div>"
      ],
      "text/plain": [
       "   _1 _2  _3  _4    _5    _6  _7                    _8\n",
       "0  30  4  79  70  2074  19.5  71           peugeot 304\n",
       "1  30  4  88  76  2065  14.5  71             fiat 124b\n",
       "2  31  4  71  65  1773    19  71   toyota corolla 1200\n",
       "3  35  4  72  69  1613    18  71           datsun 1200\n",
       "4  27  4  97  60  1834    19  71  volkswagen model 111"
      ]
     },
     "execution_count": 70,
     "metadata": {},
     "output_type": "execute_result"
    }
   ],
   "source": [
    "df_pandas.head()"
   ]
  },
  {
   "cell_type": "code",
   "execution_count": 71,
   "id": "73a06358",
   "metadata": {},
   "outputs": [
    {
     "data": {
      "text/plain": [
       "_1    0\n",
       "_2    0\n",
       "_3    0\n",
       "_4    0\n",
       "_5    0\n",
       "_6    0\n",
       "_7    0\n",
       "_8    0\n",
       "dtype: int64"
      ]
     },
     "execution_count": 71,
     "metadata": {},
     "output_type": "execute_result"
    }
   ],
   "source": [
    "# Contagem de valores nulos\n",
    "df_pandas.isna().sum()"
   ]
  },
  {
   "cell_type": "code",
   "execution_count": 72,
   "id": "5d16c762",
   "metadata": {},
   "outputs": [
    {
     "data": {
      "text/plain": [
       "False"
      ]
     },
     "execution_count": 72,
     "metadata": {},
     "output_type": "execute_result"
    }
   ],
   "source": [
    "df_pandas.isnull().values.any()"
   ]
  },
  {
   "cell_type": "code",
   "execution_count": 73,
   "id": "70c43a31",
   "metadata": {},
   "outputs": [
    {
     "data": {
      "text/plain": [
       "6"
      ]
     },
     "execution_count": 73,
     "metadata": {},
     "output_type": "execute_result"
    }
   ],
   "source": [
    "# Verifica se há alguma linha com caracter especial \"?\"\n",
    "total = np.sum(df_pandas.apply(lambda x: x.str.contains('\\?')).values)\n",
    "total"
   ]
  },
  {
   "cell_type": "code",
   "execution_count": 74,
   "id": "40e6c1dd",
   "metadata": {},
   "outputs": [
    {
     "data": {
      "text/plain": [
       "_1                                 23.9\n",
       "_2                                    8\n",
       "_3                                  260\n",
       "_4                                   90\n",
       "_5                                 3420\n",
       "_6                                 22.2\n",
       "_7                                   79\n",
       "_8    oldsmobile cutlass salon brougham\n",
       "Name: 300, dtype: object"
      ]
     },
     "execution_count": 74,
     "metadata": {},
     "output_type": "execute_result"
    }
   ],
   "source": [
    "df_pandas.iloc[300]"
   ]
  },
  {
   "cell_type": "code",
   "execution_count": 75,
   "id": "1626cdd0",
   "metadata": {},
   "outputs": [
    {
     "data": {
      "text/plain": [
       "(array([ 48, 126, 330, 336, 354, 374], dtype=int64),\n",
       " array([3, 3, 3, 3, 3, 3], dtype=int64))"
      ]
     },
     "execution_count": 75,
     "metadata": {},
     "output_type": "execute_result"
    }
   ],
   "source": [
    "# Verifica quais linhas e colunas tem o caracter especial\n",
    "np.where(df_pandas.apply(lambda x: x.str.contains('\\?')).values)"
   ]
  },
  {
   "cell_type": "code",
   "execution_count": 80,
   "id": "d2c53a54",
   "metadata": {},
   "outputs": [
    {
     "data": {
      "text/plain": [
       "_1                    40.9\n",
       "_2                       4\n",
       "_3                      85\n",
       "_4                       ?\n",
       "_5                    1835\n",
       "_6                    17.3\n",
       "_7                      80\n",
       "_8    renault lecar deluxe\n",
       "Name: 330, dtype: object"
      ]
     },
     "execution_count": 80,
     "metadata": {},
     "output_type": "execute_result"
    }
   ],
   "source": [
    "df_pandas.iloc[330]"
   ]
  },
  {
   "cell_type": "code",
   "execution_count": 77,
   "id": "a0ebb818",
   "metadata": {},
   "outputs": [],
   "source": [
    "# Usando valor padrão para average HP (que será usado para preencher os val ausentes)\n",
    "mediaHP = sc.broadcast(75.0)\n",
    "# Variável global do Spark"
   ]
  },
  {
   "cell_type": "code",
   "execution_count": 78,
   "id": "525f4389",
   "metadata": {},
   "outputs": [],
   "source": [
    "# Função para limpeza dos dados\n",
    "def limpaDados(inputStr):\n",
    "    \n",
    "    # Variável global\n",
    "    global mediaHP\n",
    "    \n",
    "    #Lista de atributos\n",
    "    attList = inputStr.split(\",\")\n",
    "    \n",
    "    # Substitui o caracter ? por um valor na coluna de indice 3\n",
    "    hpValue = attList[3]\n",
    "    if hpValue == \"?\":\n",
    "        hpValue = mediaHP.value\n",
    "    \n",
    "    # Cria uma linha usando a função Row, limpando e convertendo os dados de string para float\n",
    "    linhas = Row(consumo = float(attList[0]),\n",
    "                numero_cilindros = float(attList[1]),\n",
    "                capacidade = float(attList[2]),\n",
    "                horsepower = float(hpValue),\n",
    "                peso = float(attList[4]),\n",
    "                aceleracao = float(attList[5]),\n",
    "                ano = float(attList[6]),\n",
    "                nome = attList[7])\n",
    "    \n",
    "    \n",
    "    return linhas"
   ]
  },
  {
   "cell_type": "code",
   "execution_count": 79,
   "id": "7da27fce",
   "metadata": {},
   "outputs": [
    {
     "data": {
      "text/plain": [
       "[Row(consumo=30.0, numero_cilindros=4.0, capacidade=79.0, horsepower=70.0, peso=2074.0, aceleracao=19.5, ano=71.0, nome='peugeot 304'),\n",
       " Row(consumo=30.0, numero_cilindros=4.0, capacidade=88.0, horsepower=76.0, peso=2065.0, aceleracao=14.5, ano=71.0, nome='fiat 124b'),\n",
       " Row(consumo=31.0, numero_cilindros=4.0, capacidade=71.0, horsepower=65.0, peso=1773.0, aceleracao=19.0, ano=71.0, nome='toyota corolla 1200'),\n",
       " Row(consumo=35.0, numero_cilindros=4.0, capacidade=72.0, horsepower=69.0, peso=1613.0, aceleracao=18.0, ano=71.0, nome='datsun 1200'),\n",
       " Row(consumo=27.0, numero_cilindros=4.0, capacidade=97.0, horsepower=60.0, peso=1834.0, aceleracao=19.0, ano=71.0, nome='volkswagen model 111')]"
      ]
     },
     "execution_count": 79,
     "metadata": {},
     "output_type": "execute_result"
    }
   ],
   "source": [
    "dados3 = dados.map(limpaDados)\n",
    "dados.cache()\n",
    "dados3.take(5)"
   ]
  },
  {
   "cell_type": "markdown",
   "id": "51abe3bf",
   "metadata": {},
   "source": [
    "# Análise Exploratória de Dados"
   ]
  },
  {
   "cell_type": "code",
   "execution_count": 81,
   "id": "b93e39e9",
   "metadata": {},
   "outputs": [],
   "source": [
    "# Cria DF Spark\n",
    "df_carros = apSession.createDataFrame(dados3)"
   ]
  },
  {
   "cell_type": "code",
   "execution_count": 82,
   "id": "623d3b0a",
   "metadata": {},
   "outputs": [
    {
     "name": "stdout",
     "output_type": "stream",
     "text": [
      "+-------+-----------------+-----------------+\n",
      "|summary|          consumo| numero_cilindros|\n",
      "+-------+-----------------+-----------------+\n",
      "|  count|              398|              398|\n",
      "|   mean|23.51457286432161|5.454773869346734|\n",
      "| stddev|7.815984312565782|1.701004244533212|\n",
      "|    min|              9.0|              3.0|\n",
      "|    max|             46.6|              8.0|\n",
      "+-------+-----------------+-----------------+\n",
      "\n"
     ]
    }
   ],
   "source": [
    "# Estatísticas descritivas de duas variáveis (como exemplo)\n",
    "df_carros.select('consumo', 'numero_cilindros').describe().show()"
   ]
  },
  {
   "cell_type": "code",
   "execution_count": 89,
   "id": "4b70189c",
   "metadata": {},
   "outputs": [
    {
     "data": {
      "text/plain": [
       "-0.7753962854205548"
      ]
     },
     "execution_count": 89,
     "metadata": {},
     "output_type": "execute_result"
    }
   ],
   "source": [
    "df_carros.corr('consumo', 'numero_cilindros')"
   ]
  },
  {
   "cell_type": "code",
   "execution_count": 91,
   "id": "3e9e36df",
   "metadata": {},
   "outputs": [
    {
     "name": "stdout",
     "output_type": "stream",
     "text": [
      "Correlação da Variável Target com consumo: 1.0\n",
      "Correlação da Variável Target com numero_cilindros: -0.7753962854205548\n",
      "Correlação da Variável Target com capacidade: -0.8042028248058978\n",
      "Correlação da Variável Target com horsepower: -0.774704152349872\n",
      "Correlação da Variável Target com peso: -0.8317409332443347\n",
      "Correlação da Variável Target com aceleracao: 0.4202889121016496\n",
      "Correlação da Variável Target com ano: 0.5792671330833099\n"
     ]
    }
   ],
   "source": [
    "# encontrando correlação entre a variavel target com as variaveis preditoras\n",
    "\n",
    "for i in df_carros.columns:\n",
    "    # Verificando se a coluna é do tipo string\n",
    "    if not(isinstance(df_carros.select(i).take(1)[0][0], str)):\n",
    "        print(f\"Correlação da Variável Target com {i}: {df_carros.stat.corr('consumo', i)}\")"
   ]
  },
  {
   "cell_type": "markdown",
   "id": "7aa84220",
   "metadata": {},
   "source": [
    "# Pré Processamento dos Dados"
   ]
  },
  {
   "cell_type": "code",
   "execution_count": 92,
   "id": "72866663",
   "metadata": {},
   "outputs": [],
   "source": [
    "# Convertendo para um LabeledPoint (target, Vectro[features])\n",
    "# Remove as colunas não relevantes ou com baixa correlação\n",
    "\n",
    "def transformaVar(row):\n",
    "    obj = (row[\"consumo\"], Vectors.dense([row['peso'], row['capacidade'], row['numero_cilindros']]))\n",
    "    return obj\n"
   ]
  },
  {
   "cell_type": "code",
   "execution_count": 93,
   "id": "c9ee1695",
   "metadata": {},
   "outputs": [],
   "source": [
    "# Aplica a função do RDD e cria outro RDD\n",
    "dados4 = dados3.map(transformaVar)"
   ]
  },
  {
   "cell_type": "code",
   "execution_count": 94,
   "id": "29957411",
   "metadata": {},
   "outputs": [
    {
     "data": {
      "text/plain": [
       "[(30.0, DenseVector([2074.0, 79.0, 4.0])),\n",
       " (30.0, DenseVector([2065.0, 88.0, 4.0])),\n",
       " (31.0, DenseVector([1773.0, 71.0, 4.0])),\n",
       " (35.0, DenseVector([1613.0, 72.0, 4.0])),\n",
       " (27.0, DenseVector([1834.0, 97.0, 4.0]))]"
      ]
     },
     "execution_count": 94,
     "metadata": {},
     "output_type": "execute_result"
    }
   ],
   "source": [
    "dados4.take(5)"
   ]
  },
  {
   "cell_type": "code",
   "execution_count": 96,
   "id": "9ee19bb6",
   "metadata": {},
   "outputs": [],
   "source": [
    "# Converte novamente o RDD para DF do SPARK\n",
    "df_carros = apSession.createDataFrame(dados4, ['label', 'features'])"
   ]
  },
  {
   "cell_type": "code",
   "execution_count": 98,
   "id": "c73c16be",
   "metadata": {},
   "outputs": [
    {
     "name": "stdout",
     "output_type": "stream",
     "text": [
      "+-----+------------------+\n",
      "|label|          features|\n",
      "+-----+------------------+\n",
      "| 30.0| [2074.0,79.0,4.0]|\n",
      "| 30.0| [2065.0,88.0,4.0]|\n",
      "| 31.0| [1773.0,71.0,4.0]|\n",
      "| 35.0| [1613.0,72.0,4.0]|\n",
      "| 27.0| [1834.0,97.0,4.0]|\n",
      "| 26.0| [1955.0,91.0,4.0]|\n",
      "| 24.0|[2278.0,113.0,4.0]|\n",
      "| 25.0| [2126.0,97.5,4.0]|\n",
      "| 23.0| [2254.0,97.0,4.0]|\n",
      "| 20.0|[2408.0,140.0,4.0]|\n",
      "+-----+------------------+\n",
      "only showing top 10 rows\n",
      "\n"
     ]
    }
   ],
   "source": [
    "# Visualiza label (y) e atributos (x)\n",
    "df_carros.select('label', 'features').show(10)"
   ]
  },
  {
   "cell_type": "code",
   "execution_count": 99,
   "id": "719db62d",
   "metadata": {},
   "outputs": [],
   "source": [
    "# Divisão de dados em Treino e teste com split 70/30\n",
    "(dados_treino, dados_teste) = df_carros.randomSplit([0.7, 0.3])"
   ]
  },
  {
   "cell_type": "code",
   "execution_count": 100,
   "id": "e5d196c4",
   "metadata": {},
   "outputs": [
    {
     "data": {
      "text/plain": [
       "276"
      ]
     },
     "execution_count": 100,
     "metadata": {},
     "output_type": "execute_result"
    }
   ],
   "source": [
    "dados_treino.count()"
   ]
  },
  {
   "cell_type": "code",
   "execution_count": 101,
   "id": "deffae7f",
   "metadata": {},
   "outputs": [
    {
     "data": {
      "text/plain": [
       "122"
      ]
     },
     "execution_count": 101,
     "metadata": {},
     "output_type": "execute_result"
    }
   ],
   "source": [
    "dados_teste.count()"
   ]
  },
  {
   "cell_type": "markdown",
   "id": "47f13aac",
   "metadata": {},
   "source": [
    "# Machine Learning"
   ]
  },
  {
   "cell_type": "code",
   "execution_count": 102,
   "id": "3367f71c",
   "metadata": {},
   "outputs": [],
   "source": [
    "# Cria o objeto\n",
    "linearReg = LinearRegression()"
   ]
  },
  {
   "cell_type": "code",
   "execution_count": 103,
   "id": "15c7f38c",
   "metadata": {},
   "outputs": [],
   "source": [
    "# Treina o objeto com os dados de treino\n",
    "modelo = linearReg.fit(dados_treino)"
   ]
  },
  {
   "cell_type": "code",
   "execution_count": 104,
   "id": "899aa58e",
   "metadata": {},
   "outputs": [
    {
     "name": "stdout",
     "output_type": "stream",
     "text": [
      "LinearRegressionModel: uid=LinearRegression_3ded9c45dabd, numFeatures=3\n"
     ]
    }
   ],
   "source": [
    "print(modelo)"
   ]
  },
  {
   "cell_type": "code",
   "execution_count": 110,
   "id": "d34b8fea",
   "metadata": {},
   "outputs": [
    {
     "name": "stdout",
     "output_type": "stream",
     "text": [
      "Coeficientes: [-0.005784959756712458,-0.01774551096300814,0.048285998711762854]\n",
      "Intercepto: 43.70612591392949\n"
     ]
    }
   ],
   "source": [
    "# Imprimindo os coeficientes (que o modelo aprendeu)\n",
    "print(f\"Coeficientes: {str(modelo.coefficients)}\")\n",
    "print(f\"Intercepto: {str(modelo.intercept)}\")"
   ]
  },
  {
   "cell_type": "code",
   "execution_count": 106,
   "id": "069358e0",
   "metadata": {},
   "outputs": [],
   "source": [
    "# Previsões com dados de teste\n",
    "predictions = modelo.transform(dados_teste)"
   ]
  },
  {
   "cell_type": "code",
   "execution_count": 108,
   "id": "9e2eeccd",
   "metadata": {},
   "outputs": [
    {
     "name": "stdout",
     "output_type": "stream",
     "text": [
      "+------------------+------------------+\n",
      "|          features|        prediction|\n",
      "+------------------+------------------+\n",
      "|[4376.0,307.0,8.0]|13.329558142606377|\n",
      "|[4382.0,318.0,8.0]|13.099647763473016|\n",
      "|[4997.0,400.0,8.0]| 8.086765614128183|\n",
      "|[4456.0,350.0,8.0]|12.103704390660027|\n",
      "|[4951.0,455.0,8.0]| 7.376870659971509|\n",
      "|[4955.0,383.0,8.0]| 8.631407610281244|\n",
      "|[3988.0,350.0,8.0]| 14.81106555680146|\n",
      "|[4294.0,302.0,8.0]|13.892652397471839|\n",
      "|[4735.0,440.0,8.0]| 8.892604631866519|\n",
      "|[4129.0,351.0,8.0]|13.977640720141995|\n",
      "|[4154.0,351.0,8.0]|13.833016726224184|\n",
      "|[4354.0,454.0,8.0]|10.848237145691854|\n",
      "|[4457.0,318.0,8.0]|12.665775781719582|\n",
      "|[4638.0,302.0,8.0]|11.902626241162757|\n",
      "|[4657.0,351.0,8.0]|10.923181968597817|\n",
      "|[3693.0,350.0,8.0]|16.517628685031635|\n",
      "|[3761.0,400.0,8.0]|15.236975873424782|\n",
      "|[3777.0,318.0,8.0]| 16.59954841628405|\n",
      "|[3892.0,304.0,8.0]| 16.18271519774423|\n",
      "|[3433.0,304.0,8.0]|18.838011726075248|\n",
      "+------------------+------------------+\n",
      "only showing top 20 rows\n",
      "\n"
     ]
    }
   ],
   "source": [
    "# Visualiza as previsões\n",
    "predictions.select(\"features\", \"prediction\").show()"
   ]
  },
  {
   "cell_type": "code",
   "execution_count": 109,
   "id": "e0409cd7",
   "metadata": {},
   "outputs": [],
   "source": [
    "# Coeficiente de determinação R2\n",
    "avaliador = RegressionEvaluator(predictionCol = \"prediction\", labelCol = 'label', metricName = 'r2')"
   ]
  },
  {
   "cell_type": "code",
   "execution_count": 111,
   "id": "c9de78a3",
   "metadata": {},
   "outputs": [
    {
     "data": {
      "text/plain": [
       "0.6546849977093966"
      ]
     },
     "execution_count": 111,
     "metadata": {},
     "output_type": "execute_result"
    }
   ],
   "source": [
    "# Resultado\n",
    "avaliador.evaluate(predictions)"
   ]
  },
  {
   "cell_type": "code",
   "execution_count": null,
   "id": "47cfd3cf",
   "metadata": {},
   "outputs": [],
   "source": []
  }
 ],
 "metadata": {
  "kernelspec": {
   "display_name": "Python 3 (ipykernel)",
   "language": "python",
   "name": "python3"
  },
  "language_info": {
   "codemirror_mode": {
    "name": "ipython",
    "version": 3
   },
   "file_extension": ".py",
   "mimetype": "text/x-python",
   "name": "python",
   "nbconvert_exporter": "python",
   "pygments_lexer": "ipython3",
   "version": "3.9.13"
  }
 },
 "nbformat": 4,
 "nbformat_minor": 5
}
