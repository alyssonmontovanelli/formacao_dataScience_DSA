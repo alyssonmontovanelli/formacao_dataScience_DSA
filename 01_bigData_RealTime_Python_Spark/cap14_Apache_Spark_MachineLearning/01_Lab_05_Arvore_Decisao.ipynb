{
 "cells": [
  {
   "cell_type": "markdown",
   "id": "25052229",
   "metadata": {},
   "source": [
    "# Classificação Multiclasse\n",
    "\n",
    "###### Classificação Multiclasse para prever o resultado de uma partida\n",
    "\n",
    "Usaremos a Classificação Multiclasse com Árvores de Decisão para construir um modelo capaz de prever o resultado de uma partida de futebol com 3 resultados possíveis: vitória, derrota, empate"
   ]
  },
  {
   "cell_type": "code",
   "execution_count": 2,
   "id": "696ec6a1",
   "metadata": {},
   "outputs": [],
   "source": [
    "import findspark\n",
    "findspark.init()"
   ]
  },
  {
   "cell_type": "code",
   "execution_count": 41,
   "id": "3ca4424e",
   "metadata": {},
   "outputs": [
    {
     "ename": "ImportError",
     "evalue": "cannot import name 'MulticlassClassficationEvaluator' from 'pyspark.ml.evaluation' (C:\\Users\\alyss\\anaconda3\\lib\\site-packages\\pyspark\\ml\\evaluation.py)",
     "output_type": "error",
     "traceback": [
      "\u001b[1;31m---------------------------------------------------------------------------\u001b[0m",
      "\u001b[1;31mImportError\u001b[0m                               Traceback (most recent call last)",
      "\u001b[1;32m~\\AppData\\Local\\Temp\\ipykernel_9036\\2609744750.py\u001b[0m in \u001b[0;36m<module>\u001b[1;34m\u001b[0m\n\u001b[0;32m      6\u001b[0m \u001b[1;32mfrom\u001b[0m \u001b[0mpyspark\u001b[0m\u001b[1;33m.\u001b[0m\u001b[0mml\u001b[0m\u001b[1;33m.\u001b[0m\u001b[0mlinalg\u001b[0m \u001b[1;32mimport\u001b[0m \u001b[0mVectors\u001b[0m\u001b[1;33m\u001b[0m\u001b[1;33m\u001b[0m\u001b[0m\n\u001b[0;32m      7\u001b[0m \u001b[1;32mfrom\u001b[0m \u001b[0mpyspark\u001b[0m\u001b[1;33m.\u001b[0m\u001b[0mml\u001b[0m\u001b[1;33m.\u001b[0m\u001b[0mclassification\u001b[0m \u001b[1;32mimport\u001b[0m \u001b[0mDecisionTreeClassifier\u001b[0m\u001b[1;33m\u001b[0m\u001b[1;33m\u001b[0m\u001b[0m\n\u001b[1;32m----> 8\u001b[1;33m \u001b[1;32mfrom\u001b[0m \u001b[0mpyspark\u001b[0m\u001b[1;33m.\u001b[0m\u001b[0mml\u001b[0m\u001b[1;33m.\u001b[0m\u001b[0mevaluation\u001b[0m \u001b[1;32mimport\u001b[0m \u001b[0mMulticlassClassficationEvaluator\u001b[0m\u001b[1;33m\u001b[0m\u001b[1;33m\u001b[0m\u001b[0m\n\u001b[0m",
      "\u001b[1;31mImportError\u001b[0m: cannot import name 'MulticlassClassficationEvaluator' from 'pyspark.ml.evaluation' (C:\\Users\\alyss\\anaconda3\\lib\\site-packages\\pyspark\\ml\\evaluation.py)"
     ]
    }
   ],
   "source": [
    "import pyspark\n",
    "from pyspark import SparkContext\n",
    "from pyspark.sql import SparkSession\n",
    "from pyspark.sql import Row # Pré Processar os dados\n",
    "from pyspark.ml.feature import StringIndexer\n",
    "from pyspark.ml.linalg import Vectors\n",
    "from pyspark.ml.classification import DecisionTreeClassifier\n",
    "from pyspark.ml.evaluation import MulticlassClassficationEvaluator"
   ]
  },
  {
   "cell_type": "markdown",
   "id": "9f6c4dc4",
   "metadata": {},
   "source": [
    "# Carregando os Dados"
   ]
  },
  {
   "cell_type": "code",
   "execution_count": 4,
   "id": "fc5f4d99",
   "metadata": {},
   "outputs": [],
   "source": [
    "sc = SparkContext(appName = 'Lab5')"
   ]
  },
  {
   "cell_type": "code",
   "execution_count": 5,
   "id": "896b1725",
   "metadata": {},
   "outputs": [],
   "source": [
    "# Cria a sessão spark\n",
    "spSession = SparkSession.builder.master(\"local\").getOrCreate()"
   ]
  },
  {
   "cell_type": "code",
   "execution_count": 6,
   "id": "8f6822e4",
   "metadata": {},
   "outputs": [],
   "source": [
    "# Carrega dados gerando um RDD*\n",
    "dados = sc.textFile(\"C:/formacao_dataScience_DSA_DADOS/01_bigData_RealTime_Python_Spark/cap14_Apache_Spark_MLlib/Lab5/dados/dataset2.csv\")"
   ]
  },
  {
   "cell_type": "code",
   "execution_count": 8,
   "id": "1b20f48c",
   "metadata": {},
   "outputs": [
    {
     "data": {
      "text/plain": [
       "['media_faltas_sofridas,media_faltas_recebidas,media_cartoes_recebidos,media_chutes_a_gol,resultado',\n",
       " '4.8,3,1.4,0.3,vitoria',\n",
       " '5.1,3.8,1.6,0.2,vitoria',\n",
       " '4.6,3.2,1.4,0.2,vitoria',\n",
       " '5.3,3.7,1.5,0.2,vitoria']"
      ]
     },
     "execution_count": 8,
     "metadata": {},
     "output_type": "execute_result"
    }
   ],
   "source": [
    "dados.take(5)"
   ]
  },
  {
   "cell_type": "code",
   "execution_count": 9,
   "id": "88c99708",
   "metadata": {},
   "outputs": [
    {
     "data": {
      "text/plain": [
       "C:/formacao_dataScience_DSA_DADOS/01_bigData_RealTime_Python_Spark/cap14_Apache_Spark_MLlib/Lab5/dados/dataset2.csv MapPartitionsRDD[1] at textFile at NativeMethodAccessorImpl.java:0"
      ]
     },
     "execution_count": 9,
     "metadata": {},
     "output_type": "execute_result"
    }
   ],
   "source": [
    "# Colocando RDD em cache, para otimizar a performance\n",
    "dados.cache()"
   ]
  },
  {
   "cell_type": "code",
   "execution_count": 10,
   "id": "1e938ada",
   "metadata": {},
   "outputs": [
    {
     "data": {
      "text/plain": [
       "151"
      ]
     },
     "execution_count": 10,
     "metadata": {},
     "output_type": "execute_result"
    }
   ],
   "source": [
    "dados.count()"
   ]
  },
  {
   "cell_type": "code",
   "execution_count": 11,
   "id": "f3df5c59",
   "metadata": {},
   "outputs": [
    {
     "data": {
      "text/plain": [
       "150"
      ]
     },
     "execution_count": 11,
     "metadata": {},
     "output_type": "execute_result"
    }
   ],
   "source": [
    "# Removendo a primeira linha do RDD\n",
    "dados = dados.filter(lambda x: \"media_faltas_recebidas\" not in x)\n",
    "dados.count()"
   ]
  },
  {
   "cell_type": "markdown",
   "id": "d6b6dfff",
   "metadata": {},
   "source": [
    "# Limpeza e transformação dos dados"
   ]
  },
  {
   "cell_type": "code",
   "execution_count": 12,
   "id": "f01dd130",
   "metadata": {},
   "outputs": [],
   "source": [
    "dados = dados.map(lambda x: x.split(','))"
   ]
  },
  {
   "cell_type": "code",
   "execution_count": 25,
   "id": "bf00b6bc",
   "metadata": {},
   "outputs": [
    {
     "data": {
      "text/plain": [
       "[Row(media_faltas_sofridas=4.8, media_faltas_recebidas=3.0, media_cartoes_recebidos=1.4, media_chutes_a_gol=0.3, resultado='vitoria'),\n",
       " Row(media_faltas_sofridas=5.1, media_faltas_recebidas=3.8, media_cartoes_recebidos=1.6, media_chutes_a_gol=0.2, resultado='vitoria'),\n",
       " Row(media_faltas_sofridas=4.6, media_faltas_recebidas=3.2, media_cartoes_recebidos=1.4, media_chutes_a_gol=0.2, resultado='vitoria'),\n",
       " Row(media_faltas_sofridas=5.3, media_faltas_recebidas=3.7, media_cartoes_recebidos=1.5, media_chutes_a_gol=0.2, resultado='vitoria'),\n",
       " Row(media_faltas_sofridas=5.1, media_faltas_recebidas=3.5, media_cartoes_recebidos=1.4, media_chutes_a_gol=0.2, resultado='vitoria')]"
      ]
     },
     "execution_count": 25,
     "metadata": {},
     "output_type": "execute_result"
    }
   ],
   "source": [
    "# Mapeamento das colunas \n",
    "dados2 = dados.map(lambda p: Row(media_faltas_sofridas = float(p[0]),\n",
    "                                media_faltas_recebidas = float(p[1]),\n",
    "                                media_cartoes_recebidos = float(p[2]),\n",
    "                                media_chutes_a_gol = float(p[3]),\n",
    "                                resultado = p[4]))\n",
    "\n",
    "# Cada linha do conjunto de dados será convertido para o tipo linha (Row)\n",
    "# Isso é importante para atribuirmos Schemas às colunas, pois os dados\n",
    "# brutos no formato RDD não possuem Schema\n",
    "\n",
    "dados2.take(5)"
   ]
  },
  {
   "cell_type": "code",
   "execution_count": 21,
   "id": "824f621c",
   "metadata": {},
   "outputs": [],
   "source": [
    "# Converte o RDD para DataFrame do Spark\n",
    "df_time = spSession.createDataFrame(dados2)"
   ]
  },
  {
   "cell_type": "code",
   "execution_count": 22,
   "id": "6930de8c",
   "metadata": {},
   "outputs": [
    {
     "name": "stdout",
     "output_type": "stream",
     "text": [
      "+---------------------+----------------------+-----------------------+------------------+---------+\n",
      "|media_faltas_sofridas|media_faltas_recebidas|media_cartoes_recebidos|media_chutes_a_gol|resultado|\n",
      "+---------------------+----------------------+-----------------------+------------------+---------+\n",
      "|                  4.8|                   3.0|                    1.4|               0.3|  vitoria|\n",
      "|                  5.1|                   3.8|                    1.6|               0.2|  vitoria|\n",
      "|                  4.6|                   3.2|                    1.4|               0.2|  vitoria|\n",
      "|                  5.3|                   3.7|                    1.5|               0.2|  vitoria|\n",
      "|                  5.1|                   3.5|                    1.4|               0.2|  vitoria|\n",
      "+---------------------+----------------------+-----------------------+------------------+---------+\n",
      "only showing top 5 rows\n",
      "\n"
     ]
    }
   ],
   "source": [
    "df_time.show(5)"
   ]
  },
  {
   "cell_type": "code",
   "execution_count": 23,
   "id": "98fb3dd1",
   "metadata": {},
   "outputs": [],
   "source": [
    "# Criando um indice numerico para a coluna label target\n",
    "stringIndexer = StringIndexer(inputCol = 'resultado', outputCol = 'idx_resultado')\n"
   ]
  },
  {
   "cell_type": "code",
   "execution_count": 26,
   "id": "88dbad23",
   "metadata": {},
   "outputs": [],
   "source": [
    "# Treinando o String Indexer\n",
    "si_model= stringIndexer.fit(df_time)"
   ]
  },
  {
   "cell_type": "code",
   "execution_count": 27,
   "id": "76c587d8",
   "metadata": {},
   "outputs": [],
   "source": [
    "# Aplicando o string indexer\n",
    "df_time_final = si_model.transform(df_time)"
   ]
  },
  {
   "cell_type": "code",
   "execution_count": 28,
   "id": "4608e01c",
   "metadata": {},
   "outputs": [
    {
     "data": {
      "text/plain": [
       "[Row(resultado='derrota', idx_resultado=0.0),\n",
       " Row(resultado='vitoria', idx_resultado=2.0),\n",
       " Row(resultado='empate', idx_resultado=1.0)]"
      ]
     },
     "execution_count": 28,
     "metadata": {},
     "output_type": "execute_result"
    }
   ],
   "source": [
    "df_time_final.select('resultado', 'idx_resultado').distinct().collect()"
   ]
  },
  {
   "cell_type": "markdown",
   "id": "b76717c3",
   "metadata": {},
   "source": [
    "# Análise Exploratória"
   ]
  },
  {
   "cell_type": "code",
   "execution_count": 29,
   "id": "958284eb",
   "metadata": {},
   "outputs": [
    {
     "name": "stdout",
     "output_type": "stream",
     "text": [
      "+-------+---------------------+----------------------+-----------------------+------------------+---------+------------------+\n",
      "|summary|media_faltas_sofridas|media_faltas_recebidas|media_cartoes_recebidos|media_chutes_a_gol|resultado|     idx_resultado|\n",
      "+-------+---------------------+----------------------+-----------------------+------------------+---------+------------------+\n",
      "|  count|                  150|                   150|                    150|               150|      150|               150|\n",
      "|   mean|    5.843333333333332|    3.0573333333333337|      3.758000000000001|1.1993333333333331|     null|               1.0|\n",
      "| stddev|   0.8280661279778625|   0.43586628493669793|     1.7652982332594667|0.7622376689603465|     null|0.8192319205190404|\n",
      "|    min|                  4.3|                   2.0|                    1.0|               0.1|  derrota|               0.0|\n",
      "|    max|                  7.9|                   4.4|                    6.9|               2.5|  vitoria|               2.0|\n",
      "+-------+---------------------+----------------------+-----------------------+------------------+---------+------------------+\n",
      "\n"
     ]
    }
   ],
   "source": [
    "# Estatística descritiva\n",
    "df_time_final.describe().show()"
   ]
  },
  {
   "cell_type": "code",
   "execution_count": 32,
   "id": "910f1532",
   "metadata": {},
   "outputs": [
    {
     "name": "stdout",
     "output_type": "stream",
     "text": [
      "Correlação da Variável Target com media_faltas_sofridas: -0.4600391565002369\n",
      "Correlação da Variável Target com media_faltas_recebidas: 0.6183715308237437\n",
      "Correlação da Variável Target com media_cartoes_recebidos: -0.649241830764174\n",
      "Correlação da Variável Target com media_chutes_a_gol: -0.5803770334306265\n",
      "Correlação da Variável Target com idx_resultado: 1.0\n"
     ]
    }
   ],
   "source": [
    "for i in df_time_final.columns:\n",
    "    # Verificando se a coluna é do tipo string\n",
    "    if not(isinstance(df_time_final.select(i).take(1)[0][0], str)):\n",
    "        print(f\"Correlação da Variável Target com {i}: {df_time_final.stat.corr('idx_resultado', i)}\")"
   ]
  },
  {
   "cell_type": "markdown",
   "id": "b3514071",
   "metadata": {},
   "source": [
    "# Pré Processamento dos Dados"
   ]
  },
  {
   "cell_type": "code",
   "execution_count": 33,
   "id": "edc41bd3",
   "metadata": {},
   "outputs": [],
   "source": [
    "# Criando um LabeledPoint (targer, Vector(features))\n",
    "# Remove colunas não relevantes para o modelo ou com baixa correlação\n",
    "def transformaVar(row):\n",
    "    obj = (row['resultado'], row['idx_resultado'],\n",
    "          Vectors.dense([row['media_faltas_sofridas'],\n",
    "                        row['media_faltas_recebidas'],\n",
    "                        row['media_cartoes_recebidos'],\n",
    "                        row['media_chutes_a_gol']]))\n",
    "    return obj"
   ]
  },
  {
   "cell_type": "code",
   "execution_count": 34,
   "id": "14de8dae",
   "metadata": {},
   "outputs": [],
   "source": [
    "# Aplica a função em novo RDD\n",
    "df_time_final_RDD = df_time_final.rdd.map(transformaVar)"
   ]
  },
  {
   "cell_type": "code",
   "execution_count": null,
   "id": "b5af24aa",
   "metadata": {},
   "outputs": [],
   "source": []
  },
  {
   "cell_type": "code",
   "execution_count": 35,
   "id": "d5eef7fd",
   "metadata": {},
   "outputs": [
    {
     "data": {
      "text/plain": [
       "[('vitoria', 2.0, DenseVector([4.8, 3.0, 1.4, 0.3])),\n",
       " ('vitoria', 2.0, DenseVector([5.1, 3.8, 1.6, 0.2])),\n",
       " ('vitoria', 2.0, DenseVector([4.6, 3.2, 1.4, 0.2])),\n",
       " ('vitoria', 2.0, DenseVector([5.3, 3.7, 1.5, 0.2])),\n",
       " ('vitoria', 2.0, DenseVector([5.1, 3.5, 1.4, 0.2]))]"
      ]
     },
     "execution_count": 35,
     "metadata": {},
     "output_type": "execute_result"
    }
   ],
   "source": [
    "df_time_final_RDD.take(5)"
   ]
  },
  {
   "cell_type": "code",
   "execution_count": 49,
   "id": "efc4dce5",
   "metadata": {},
   "outputs": [
    {
     "ename": "TypeError",
     "evalue": "'PipelinedRDD' object is not subscriptable",
     "output_type": "error",
     "traceback": [
      "\u001b[1;31m---------------------------------------------------------------------------\u001b[0m",
      "\u001b[1;31mTypeError\u001b[0m                                 Traceback (most recent call last)",
      "\u001b[1;32m~\\AppData\\Local\\Temp\\ipykernel_9036\\3546519211.py\u001b[0m in \u001b[0;36m<module>\u001b[1;34m\u001b[0m\n\u001b[0;32m      1\u001b[0m \u001b[1;31m# Converte novamente para dataFrame do Spark\u001b[0m\u001b[1;33m\u001b[0m\u001b[1;33m\u001b[0m\u001b[0m\n\u001b[1;32m----> 2\u001b[1;33m \u001b[0mdf_spark2\u001b[0m \u001b[1;33m=\u001b[0m \u001b[0mspSession\u001b[0m\u001b[1;33m.\u001b[0m\u001b[0mcreateDataFrame\u001b[0m\u001b[1;33m(\u001b[0m\u001b[0mdf_time_final_RDD\u001b[0m\u001b[1;33m[\u001b[0m\u001b[1;34m'resultado'\u001b[0m\u001b[1;33m,\u001b[0m \u001b[1;34m'label'\u001b[0m\u001b[1;33m,\u001b[0m \u001b[1;34m'features'\u001b[0m\u001b[1;33m]\u001b[0m\u001b[1;33m)\u001b[0m\u001b[1;33m\u001b[0m\u001b[1;33m\u001b[0m\u001b[0m\n\u001b[0m",
      "\u001b[1;31mTypeError\u001b[0m: 'PipelinedRDD' object is not subscriptable"
     ]
    }
   ],
   "source": [
    "# Converte novamente para dataFrame do Spark\n",
    "df_spark2 = spSession.createDataFrame(df_time_final_RDD['resultado', 'label', 'features'])"
   ]
  },
  {
   "cell_type": "code",
   "execution_count": 52,
   "id": "3f5d7a66",
   "metadata": {},
   "outputs": [],
   "source": [
    "df_spark = df_time_final_RDD.toDF()"
   ]
  },
  {
   "cell_type": "code",
   "execution_count": null,
   "id": "a3cecb3a",
   "metadata": {},
   "outputs": [],
   "source": [
    "df_spark = df_spark.withColumnRenamed(\""
   ]
  },
  {
   "cell_type": "code",
   "execution_count": null,
   "id": "ed6a0d93",
   "metadata": {},
   "outputs": [],
   "source": [
    "resultado"
   ]
  },
  {
   "cell_type": "code",
   "execution_count": 59,
   "id": "5f8305b4",
   "metadata": {},
   "outputs": [],
   "source": [
    "df_spark = df_spark.withColumnRenamed(\"_1\", \"resultado\")"
   ]
  },
  {
   "cell_type": "code",
   "execution_count": 60,
   "id": "8d31bbab",
   "metadata": {},
   "outputs": [],
   "source": [
    "df_spark = df_spark.withColumnRenamed(\"_2\", \"label\")"
   ]
  },
  {
   "cell_type": "code",
   "execution_count": 61,
   "id": "07b974d3",
   "metadata": {},
   "outputs": [],
   "source": [
    "df_spark = df_spark.withColumnRenamed(\"_3\", \"features\")"
   ]
  },
  {
   "cell_type": "code",
   "execution_count": 62,
   "id": "1782e62d",
   "metadata": {},
   "outputs": [
    {
     "name": "stdout",
     "output_type": "stream",
     "text": [
      "+---------+-----+-----------------+\n",
      "|resultado|label|         features|\n",
      "+---------+-----+-----------------+\n",
      "|  vitoria|  2.0|[4.8,3.0,1.4,0.3]|\n",
      "|  vitoria|  2.0|[5.1,3.8,1.6,0.2]|\n",
      "|  vitoria|  2.0|[4.6,3.2,1.4,0.2]|\n",
      "|  vitoria|  2.0|[5.3,3.7,1.5,0.2]|\n",
      "|  vitoria|  2.0|[5.1,3.5,1.4,0.2]|\n",
      "|  vitoria|  2.0|[4.9,3.0,1.4,0.2]|\n",
      "|  vitoria|  2.0|[4.7,3.2,1.3,0.2]|\n",
      "|  vitoria|  2.0|[4.6,3.1,1.5,0.2]|\n",
      "|  vitoria|  2.0|[5.0,3.6,1.4,0.2]|\n",
      "|  vitoria|  2.0|[5.4,3.9,1.7,0.4]|\n",
      "+---------+-----+-----------------+\n",
      "only showing top 10 rows\n",
      "\n"
     ]
    }
   ],
   "source": [
    "df_spark.show(10)"
   ]
  },
  {
   "cell_type": "code",
   "execution_count": 63,
   "id": "9b5b0da5",
   "metadata": {},
   "outputs": [
    {
     "data": {
      "text/plain": [
       "DataFrame[resultado: string, label: double, features: vector]"
      ]
     },
     "execution_count": 63,
     "metadata": {},
     "output_type": "execute_result"
    }
   ],
   "source": [
    "df_spark.cache()"
   ]
  },
  {
   "cell_type": "code",
   "execution_count": 64,
   "id": "67d8628b",
   "metadata": {},
   "outputs": [],
   "source": [
    "# Divisão dos dados em treino e teste\n",
    "(dados_treino, dados_teste) = df_spark.randomSplit([0.7, 0.3])"
   ]
  },
  {
   "cell_type": "code",
   "execution_count": 65,
   "id": "82288d5b",
   "metadata": {},
   "outputs": [
    {
     "data": {
      "text/plain": [
       "107"
      ]
     },
     "execution_count": 65,
     "metadata": {},
     "output_type": "execute_result"
    }
   ],
   "source": [
    "dados_treino.count()"
   ]
  },
  {
   "cell_type": "code",
   "execution_count": 66,
   "id": "88817b2d",
   "metadata": {},
   "outputs": [
    {
     "data": {
      "text/plain": [
       "43"
      ]
     },
     "execution_count": 66,
     "metadata": {},
     "output_type": "execute_result"
    }
   ],
   "source": [
    "dados_teste.count()"
   ]
  },
  {
   "cell_type": "code",
   "execution_count": null,
   "id": "5155b085",
   "metadata": {},
   "outputs": [],
   "source": []
  }
 ],
 "metadata": {
  "kernelspec": {
   "display_name": "Python 3 (ipykernel)",
   "language": "python",
   "name": "python3"
  },
  "language_info": {
   "codemirror_mode": {
    "name": "ipython",
    "version": 3
   },
   "file_extension": ".py",
   "mimetype": "text/x-python",
   "name": "python",
   "nbconvert_exporter": "python",
   "pygments_lexer": "ipython3",
   "version": "3.9.13"
  }
 },
 "nbformat": 4,
 "nbformat_minor": 5
}
