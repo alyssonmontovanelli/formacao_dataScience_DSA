{
 "cells": [
  {
   "cell_type": "markdown",
   "id": "e728e247",
   "metadata": {},
   "source": [
    "# Classificação Multiclasse\n",
    "\n",
    "###### Classificação Multiclasse para prever o resultado de uma partida\n",
    "\n",
    "Usaremos a Classificação Multiclasse com Árvores de Decisão para construir um modelo capaz de prever o resultado de uma partida de futebol com 3 resultados possíveis: vitória, derrota, empate"
   ]
  },
  {
   "cell_type": "code",
   "execution_count": 12,
   "id": "a0d40d50",
   "metadata": {},
   "outputs": [],
   "source": [
    "import findspark\n",
    "findspark.init()"
   ]
  },
  {
   "cell_type": "code",
   "execution_count": 58,
   "id": "f1a0b2b7",
   "metadata": {},
   "outputs": [],
   "source": [
    "import pyspark\n",
    "from pyspark import SparkContext\n",
    "from pyspark.sql import SparkSession\n",
    "from pyspark.sql import Row # Pré Processar os dados\n",
    "from pyspark.ml.feature import StringIndexer\n",
    "from pyspark.ml.linalg import Vectors\n",
    "from pyspark.ml.classification import DecisionTreeClassifier\n",
    "from pyspark.ml.evaluation import MulticlassClassificationEvaluator"
   ]
  },
  {
   "cell_type": "markdown",
   "id": "fcc121ca",
   "metadata": {},
   "source": [
    "# Carregando os Dados"
   ]
  },
  {
   "cell_type": "code",
   "execution_count": 14,
   "id": "b626fadf",
   "metadata": {},
   "outputs": [],
   "source": [
    "sc = SparkContext(appName = 'Lab5')"
   ]
  },
  {
   "cell_type": "code",
   "execution_count": 15,
   "id": "b11416f6",
   "metadata": {},
   "outputs": [],
   "source": [
    "# Cria a sessão spark\n",
    "spSession = SparkSession.builder.master(\"local\").getOrCreate()"
   ]
  },
  {
   "cell_type": "code",
   "execution_count": 16,
   "id": "93af688d",
   "metadata": {},
   "outputs": [],
   "source": [
    "# Carrega dados gerando um RDD*\n",
    "dados = sc.textFile(\"C:/formacao_dataScience_DSA_DADOS/01_bigData_RealTime_Python_Spark/cap14_Apache_Spark_MLlib/Lab5/dados/dataset2.csv\")"
   ]
  },
  {
   "cell_type": "code",
   "execution_count": 17,
   "id": "bda34984",
   "metadata": {},
   "outputs": [
    {
     "data": {
      "text/plain": [
       "['media_faltas_sofridas,media_faltas_recebidas,media_cartoes_recebidos,media_chutes_a_gol,resultado',\n",
       " '4.8,3,1.4,0.3,vitoria',\n",
       " '5.1,3.8,1.6,0.2,vitoria',\n",
       " '4.6,3.2,1.4,0.2,vitoria',\n",
       " '5.3,3.7,1.5,0.2,vitoria']"
      ]
     },
     "execution_count": 17,
     "metadata": {},
     "output_type": "execute_result"
    }
   ],
   "source": [
    "dados.take(5)"
   ]
  },
  {
   "cell_type": "code",
   "execution_count": 18,
   "id": "14ef7479",
   "metadata": {},
   "outputs": [
    {
     "data": {
      "text/plain": [
       "C:/formacao_dataScience_DSA_DADOS/01_bigData_RealTime_Python_Spark/cap14_Apache_Spark_MLlib/Lab5/dados/dataset2.csv MapPartitionsRDD[1] at textFile at NativeMethodAccessorImpl.java:0"
      ]
     },
     "execution_count": 18,
     "metadata": {},
     "output_type": "execute_result"
    }
   ],
   "source": [
    "# Colocando RDD em cache, para otimizar a performance\n",
    "dados.cache()"
   ]
  },
  {
   "cell_type": "code",
   "execution_count": 19,
   "id": "4fd11afb",
   "metadata": {},
   "outputs": [
    {
     "data": {
      "text/plain": [
       "151"
      ]
     },
     "execution_count": 19,
     "metadata": {},
     "output_type": "execute_result"
    }
   ],
   "source": [
    "dados.count()"
   ]
  },
  {
   "cell_type": "code",
   "execution_count": 20,
   "id": "e1a2e666",
   "metadata": {},
   "outputs": [
    {
     "data": {
      "text/plain": [
       "150"
      ]
     },
     "execution_count": 20,
     "metadata": {},
     "output_type": "execute_result"
    }
   ],
   "source": [
    "# Removendo a primeira linha do RDD\n",
    "dados = dados.filter(lambda x: \"media_faltas_recebidas\" not in x)\n",
    "dados.count()"
   ]
  },
  {
   "cell_type": "markdown",
   "id": "63db1110",
   "metadata": {},
   "source": [
    "# Limpeza e transformação dos dados"
   ]
  },
  {
   "cell_type": "code",
   "execution_count": 21,
   "id": "07c58f58",
   "metadata": {},
   "outputs": [],
   "source": [
    "dados = dados.map(lambda x: x.split(','))"
   ]
  },
  {
   "cell_type": "code",
   "execution_count": 22,
   "id": "14590dca",
   "metadata": {},
   "outputs": [
    {
     "data": {
      "text/plain": [
       "[Row(media_faltas_sofridas=4.8, media_faltas_recebidas=3.0, media_cartoes_recebidos=1.4, media_chutes_a_gol=0.3, resultado='vitoria'),\n",
       " Row(media_faltas_sofridas=5.1, media_faltas_recebidas=3.8, media_cartoes_recebidos=1.6, media_chutes_a_gol=0.2, resultado='vitoria'),\n",
       " Row(media_faltas_sofridas=4.6, media_faltas_recebidas=3.2, media_cartoes_recebidos=1.4, media_chutes_a_gol=0.2, resultado='vitoria'),\n",
       " Row(media_faltas_sofridas=5.3, media_faltas_recebidas=3.7, media_cartoes_recebidos=1.5, media_chutes_a_gol=0.2, resultado='vitoria'),\n",
       " Row(media_faltas_sofridas=5.1, media_faltas_recebidas=3.5, media_cartoes_recebidos=1.4, media_chutes_a_gol=0.2, resultado='vitoria')]"
      ]
     },
     "execution_count": 22,
     "metadata": {},
     "output_type": "execute_result"
    }
   ],
   "source": [
    "# Mapeamento das colunas \n",
    "dados2 = dados.map(lambda p: Row(media_faltas_sofridas = float(p[0]),\n",
    "                                media_faltas_recebidas = float(p[1]),\n",
    "                                media_cartoes_recebidos = float(p[2]),\n",
    "                                media_chutes_a_gol = float(p[3]),\n",
    "                                resultado = p[4]))\n",
    "\n",
    "# Cada linha do conjunto de dados será convertido para o tipo linha (Row)\n",
    "# Isso é importante para atribuirmos Schemas às colunas, pois os dados\n",
    "# brutos no formato RDD não possuem Schema\n",
    "\n",
    "dados2.take(5)"
   ]
  },
  {
   "cell_type": "code",
   "execution_count": 23,
   "id": "4f8610d0",
   "metadata": {},
   "outputs": [],
   "source": [
    "# Converte o RDD para DataFrame do Spark\n",
    "df_time = spSession.createDataFrame(dados2)"
   ]
  },
  {
   "cell_type": "code",
   "execution_count": 24,
   "id": "539791c5",
   "metadata": {},
   "outputs": [
    {
     "name": "stdout",
     "output_type": "stream",
     "text": [
      "+---------------------+----------------------+-----------------------+------------------+---------+\n",
      "|media_faltas_sofridas|media_faltas_recebidas|media_cartoes_recebidos|media_chutes_a_gol|resultado|\n",
      "+---------------------+----------------------+-----------------------+------------------+---------+\n",
      "|                  4.8|                   3.0|                    1.4|               0.3|  vitoria|\n",
      "|                  5.1|                   3.8|                    1.6|               0.2|  vitoria|\n",
      "|                  4.6|                   3.2|                    1.4|               0.2|  vitoria|\n",
      "|                  5.3|                   3.7|                    1.5|               0.2|  vitoria|\n",
      "|                  5.1|                   3.5|                    1.4|               0.2|  vitoria|\n",
      "+---------------------+----------------------+-----------------------+------------------+---------+\n",
      "only showing top 5 rows\n",
      "\n"
     ]
    }
   ],
   "source": [
    "df_time.show(5)"
   ]
  },
  {
   "cell_type": "code",
   "execution_count": 25,
   "id": "95a14487",
   "metadata": {},
   "outputs": [],
   "source": [
    "# Criando um indice numerico para a coluna label target\n",
    "stringIndexer = StringIndexer(inputCol = 'resultado', outputCol = 'idx_resultado')\n"
   ]
  },
  {
   "cell_type": "code",
   "execution_count": 26,
   "id": "d0df98a7",
   "metadata": {},
   "outputs": [],
   "source": [
    "# Treinando o String Indexer\n",
    "si_model= stringIndexer.fit(df_time)"
   ]
  },
  {
   "cell_type": "code",
   "execution_count": 27,
   "id": "6667770c",
   "metadata": {},
   "outputs": [],
   "source": [
    "# Aplicando o string indexer\n",
    "df_time_final = si_model.transform(df_time)"
   ]
  },
  {
   "cell_type": "code",
   "execution_count": 28,
   "id": "c1f4f564",
   "metadata": {},
   "outputs": [
    {
     "data": {
      "text/plain": [
       "[Row(resultado='derrota', idx_resultado=0.0),\n",
       " Row(resultado='vitoria', idx_resultado=2.0),\n",
       " Row(resultado='empate', idx_resultado=1.0)]"
      ]
     },
     "execution_count": 28,
     "metadata": {},
     "output_type": "execute_result"
    }
   ],
   "source": [
    "df_time_final.select('resultado', 'idx_resultado').distinct().collect()"
   ]
  },
  {
   "cell_type": "markdown",
   "id": "42537794",
   "metadata": {},
   "source": [
    "# Análise Exploratória"
   ]
  },
  {
   "cell_type": "code",
   "execution_count": 29,
   "id": "95e11d41",
   "metadata": {},
   "outputs": [
    {
     "name": "stdout",
     "output_type": "stream",
     "text": [
      "+-------+---------------------+----------------------+-----------------------+------------------+---------+------------------+\n",
      "|summary|media_faltas_sofridas|media_faltas_recebidas|media_cartoes_recebidos|media_chutes_a_gol|resultado|     idx_resultado|\n",
      "+-------+---------------------+----------------------+-----------------------+------------------+---------+------------------+\n",
      "|  count|                  150|                   150|                    150|               150|      150|               150|\n",
      "|   mean|    5.843333333333332|    3.0573333333333337|      3.758000000000001|1.1993333333333331|     null|               1.0|\n",
      "| stddev|   0.8280661279778625|   0.43586628493669793|     1.7652982332594667|0.7622376689603465|     null|0.8192319205190404|\n",
      "|    min|                  4.3|                   2.0|                    1.0|               0.1|  derrota|               0.0|\n",
      "|    max|                  7.9|                   4.4|                    6.9|               2.5|  vitoria|               2.0|\n",
      "+-------+---------------------+----------------------+-----------------------+------------------+---------+------------------+\n",
      "\n"
     ]
    }
   ],
   "source": [
    "# Estatística descritiva\n",
    "df_time_final.describe().show()"
   ]
  },
  {
   "cell_type": "code",
   "execution_count": 30,
   "id": "67690fa7",
   "metadata": {},
   "outputs": [
    {
     "name": "stdout",
     "output_type": "stream",
     "text": [
      "Correlação da Variável Target com media_faltas_sofridas: -0.4600391565002369\n",
      "Correlação da Variável Target com media_faltas_recebidas: 0.6183715308237437\n",
      "Correlação da Variável Target com media_cartoes_recebidos: -0.649241830764174\n",
      "Correlação da Variável Target com media_chutes_a_gol: -0.5803770334306265\n",
      "Correlação da Variável Target com idx_resultado: 1.0\n"
     ]
    }
   ],
   "source": [
    "for i in df_time_final.columns:\n",
    "    # Verificando se a coluna é do tipo string\n",
    "    if not(isinstance(df_time_final.select(i).take(1)[0][0], str)):\n",
    "        print(f\"Correlação da Variável Target com {i}: {df_time_final.stat.corr('idx_resultado', i)}\")"
   ]
  },
  {
   "cell_type": "markdown",
   "id": "9381f3fa",
   "metadata": {},
   "source": [
    "# Pré Processamento dos Dados"
   ]
  },
  {
   "cell_type": "code",
   "execution_count": 31,
   "id": "da56aca6",
   "metadata": {},
   "outputs": [],
   "source": [
    "# Criando um LabeledPoint (targer, Vector(features))\n",
    "# Remove colunas não relevantes para o modelo ou com baixa correlação\n",
    "def transformaVar(row):\n",
    "    obj = (row['resultado'], row['idx_resultado'],\n",
    "          Vectors.dense([row['media_faltas_sofridas'],\n",
    "                        row['media_faltas_recebidas'],\n",
    "                        row['media_cartoes_recebidos'],\n",
    "                        row['media_chutes_a_gol']]))\n",
    "    return obj"
   ]
  },
  {
   "cell_type": "code",
   "execution_count": 32,
   "id": "2e867c9b",
   "metadata": {},
   "outputs": [],
   "source": [
    "# Aplica a função em novo RDD\n",
    "df_time_final_RDD = df_time_final.rdd.map(transformaVar)"
   ]
  },
  {
   "cell_type": "code",
   "execution_count": null,
   "id": "d1ff1977",
   "metadata": {},
   "outputs": [],
   "source": []
  },
  {
   "cell_type": "code",
   "execution_count": 33,
   "id": "73ac7834",
   "metadata": {},
   "outputs": [
    {
     "data": {
      "text/plain": [
       "[('vitoria', 2.0, DenseVector([4.8, 3.0, 1.4, 0.3])),\n",
       " ('vitoria', 2.0, DenseVector([5.1, 3.8, 1.6, 0.2])),\n",
       " ('vitoria', 2.0, DenseVector([4.6, 3.2, 1.4, 0.2])),\n",
       " ('vitoria', 2.0, DenseVector([5.3, 3.7, 1.5, 0.2])),\n",
       " ('vitoria', 2.0, DenseVector([5.1, 3.5, 1.4, 0.2]))]"
      ]
     },
     "execution_count": 33,
     "metadata": {},
     "output_type": "execute_result"
    }
   ],
   "source": [
    "df_time_final_RDD.take(5)"
   ]
  },
  {
   "cell_type": "code",
   "execution_count": 34,
   "id": "686946cc",
   "metadata": {},
   "outputs": [
    {
     "ename": "TypeError",
     "evalue": "'PipelinedRDD' object is not subscriptable",
     "output_type": "error",
     "traceback": [
      "\u001b[1;31m---------------------------------------------------------------------------\u001b[0m",
      "\u001b[1;31mTypeError\u001b[0m                                 Traceback (most recent call last)",
      "\u001b[1;32m~\\AppData\\Local\\Temp\\ipykernel_12688\\3546519211.py\u001b[0m in \u001b[0;36m<module>\u001b[1;34m\u001b[0m\n\u001b[0;32m      1\u001b[0m \u001b[1;31m# Converte novamente para dataFrame do Spark\u001b[0m\u001b[1;33m\u001b[0m\u001b[1;33m\u001b[0m\u001b[0m\n\u001b[1;32m----> 2\u001b[1;33m \u001b[0mdf_spark2\u001b[0m \u001b[1;33m=\u001b[0m \u001b[0mspSession\u001b[0m\u001b[1;33m.\u001b[0m\u001b[0mcreateDataFrame\u001b[0m\u001b[1;33m(\u001b[0m\u001b[0mdf_time_final_RDD\u001b[0m\u001b[1;33m[\u001b[0m\u001b[1;34m'resultado'\u001b[0m\u001b[1;33m,\u001b[0m \u001b[1;34m'label'\u001b[0m\u001b[1;33m,\u001b[0m \u001b[1;34m'features'\u001b[0m\u001b[1;33m]\u001b[0m\u001b[1;33m)\u001b[0m\u001b[1;33m\u001b[0m\u001b[1;33m\u001b[0m\u001b[0m\n\u001b[0m",
      "\u001b[1;31mTypeError\u001b[0m: 'PipelinedRDD' object is not subscriptable"
     ]
    }
   ],
   "source": [
    "# Converte novamente para dataFrame do Spark\n",
    "df_spark2 = spSession.createDataFrame(df_time_final_RDD['resultado', 'label', 'features'])"
   ]
  },
  {
   "cell_type": "code",
   "execution_count": 42,
   "id": "f3b6d44b",
   "metadata": {},
   "outputs": [],
   "source": [
    "df_spark = df_time_final_RDD.toDF()"
   ]
  },
  {
   "cell_type": "code",
   "execution_count": 43,
   "id": "01888dc1",
   "metadata": {},
   "outputs": [],
   "source": [
    "df_spark = df_spark.withColumnRenamed(\"_1\", \"resultado\")"
   ]
  },
  {
   "cell_type": "code",
   "execution_count": 44,
   "id": "7f65975b",
   "metadata": {},
   "outputs": [],
   "source": [
    "df_spark = df_spark.withColumnRenamed(\"_2\", \"label\")"
   ]
  },
  {
   "cell_type": "code",
   "execution_count": 45,
   "id": "fd704ff6",
   "metadata": {},
   "outputs": [],
   "source": [
    "df_spark = df_spark.withColumnRenamed(\"_3\", \"features\")"
   ]
  },
  {
   "cell_type": "code",
   "execution_count": 46,
   "id": "60945a74",
   "metadata": {},
   "outputs": [
    {
     "name": "stdout",
     "output_type": "stream",
     "text": [
      "+---------+-----+-----------------+\n",
      "|resultado|label|         features|\n",
      "+---------+-----+-----------------+\n",
      "|  vitoria|  2.0|[4.8,3.0,1.4,0.3]|\n",
      "|  vitoria|  2.0|[5.1,3.8,1.6,0.2]|\n",
      "|  vitoria|  2.0|[4.6,3.2,1.4,0.2]|\n",
      "|  vitoria|  2.0|[5.3,3.7,1.5,0.2]|\n",
      "|  vitoria|  2.0|[5.1,3.5,1.4,0.2]|\n",
      "|  vitoria|  2.0|[4.9,3.0,1.4,0.2]|\n",
      "|  vitoria|  2.0|[4.7,3.2,1.3,0.2]|\n",
      "|  vitoria|  2.0|[4.6,3.1,1.5,0.2]|\n",
      "|  vitoria|  2.0|[5.0,3.6,1.4,0.2]|\n",
      "|  vitoria|  2.0|[5.4,3.9,1.7,0.4]|\n",
      "+---------+-----+-----------------+\n",
      "only showing top 10 rows\n",
      "\n"
     ]
    }
   ],
   "source": [
    "df_spark.show(10)"
   ]
  },
  {
   "cell_type": "code",
   "execution_count": 47,
   "id": "5b41b183",
   "metadata": {},
   "outputs": [
    {
     "data": {
      "text/plain": [
       "DataFrame[resultado: string, label: double, features: vector]"
      ]
     },
     "execution_count": 47,
     "metadata": {},
     "output_type": "execute_result"
    }
   ],
   "source": [
    "df_spark.cache()"
   ]
  },
  {
   "cell_type": "code",
   "execution_count": 48,
   "id": "ee0b4fc8",
   "metadata": {},
   "outputs": [],
   "source": [
    "# Divisão dos dados em treino e teste\n",
    "(dados_treino, dados_teste) = df_spark.randomSplit([0.7, 0.3])"
   ]
  },
  {
   "cell_type": "code",
   "execution_count": 49,
   "id": "7f7d6805",
   "metadata": {},
   "outputs": [
    {
     "data": {
      "text/plain": [
       "118"
      ]
     },
     "execution_count": 49,
     "metadata": {},
     "output_type": "execute_result"
    }
   ],
   "source": [
    "dados_treino.count()"
   ]
  },
  {
   "cell_type": "code",
   "execution_count": 50,
   "id": "a51ae12f",
   "metadata": {},
   "outputs": [
    {
     "data": {
      "text/plain": [
       "32"
      ]
     },
     "execution_count": 50,
     "metadata": {},
     "output_type": "execute_result"
    }
   ],
   "source": [
    "dados_teste.count()"
   ]
  },
  {
   "cell_type": "markdown",
   "id": "ae310fd2",
   "metadata": {},
   "source": [
    "# Machine Learning"
   ]
  },
  {
   "cell_type": "code",
   "execution_count": 60,
   "id": "354c7623",
   "metadata": {},
   "outputs": [],
   "source": [
    "# Criação do objeto\n",
    "dtClassifer = DecisionTreeClassifier(maxDepth = 2, # Quantidade de \"nós\"\n",
    "                                     labelCol = 'label', # Coluna que está o label\n",
    "                                     featuresCol = 'features') #Onde está o vector denso"
   ]
  },
  {
   "cell_type": "code",
   "execution_count": 61,
   "id": "2bab75c0",
   "metadata": {},
   "outputs": [],
   "source": [
    "# Treinamento o objeto com os dados para criar o modelo\n",
    "modelo = dtClassifer.fit(dados_treino)"
   ]
  },
  {
   "cell_type": "code",
   "execution_count": 62,
   "id": "58c32362",
   "metadata": {},
   "outputs": [
    {
     "data": {
      "text/plain": [
       "5"
      ]
     },
     "execution_count": 62,
     "metadata": {},
     "output_type": "execute_result"
    }
   ],
   "source": [
    "# Hiperparamteros definido por padrão\n",
    "modelo.numNodes"
   ]
  },
  {
   "cell_type": "code",
   "execution_count": 63,
   "id": "ea65fcfb",
   "metadata": {},
   "outputs": [
    {
     "data": {
      "text/plain": [
       "2"
      ]
     },
     "execution_count": 63,
     "metadata": {},
     "output_type": "execute_result"
    }
   ],
   "source": [
    "# Hiperparametro definido por nós\n",
    "modelo.depth"
   ]
  },
  {
   "cell_type": "code",
   "execution_count": 64,
   "id": "61f9fc68",
   "metadata": {},
   "outputs": [],
   "source": [
    "# Previsões com os dados de teste\n",
    "previsoes = modelo.transform(dados_teste)"
   ]
  },
  {
   "cell_type": "code",
   "execution_count": 68,
   "id": "3934a02e",
   "metadata": {},
   "outputs": [
    {
     "data": {
      "text/plain": [
       "DataFrame[resultado: string, label: double, features: vector, rawPrediction: vector, probability: vector, prediction: double]"
      ]
     },
     "execution_count": 68,
     "metadata": {},
     "output_type": "execute_result"
    }
   ],
   "source": [
    "# Verifica os retornos das previsões\n",
    "previsoes"
   ]
  },
  {
   "cell_type": "code",
   "execution_count": 69,
   "id": "e08b15b3",
   "metadata": {},
   "outputs": [
    {
     "data": {
      "text/plain": [
       "[Row(resultado='derrota', label=0.0, prediction=0.0, probability=DenseVector([0.9286, 0.0714, 0.0])),\n",
       " Row(resultado='derrota', label=0.0, prediction=0.0, probability=DenseVector([0.9286, 0.0714, 0.0])),\n",
       " Row(resultado='derrota', label=0.0, prediction=0.0, probability=DenseVector([0.9286, 0.0714, 0.0])),\n",
       " Row(resultado='derrota', label=0.0, prediction=0.0, probability=DenseVector([0.9286, 0.0714, 0.0])),\n",
       " Row(resultado='derrota', label=0.0, prediction=0.0, probability=DenseVector([0.9286, 0.0714, 0.0])),\n",
       " Row(resultado='derrota', label=0.0, prediction=0.0, probability=DenseVector([0.9286, 0.0714, 0.0])),\n",
       " Row(resultado='derrota', label=0.0, prediction=0.0, probability=DenseVector([0.9286, 0.0714, 0.0])),\n",
       " Row(resultado='vitoria', label=2.0, prediction=2.0, probability=DenseVector([0.0, 0.0, 1.0])),\n",
       " Row(resultado='vitoria', label=2.0, prediction=2.0, probability=DenseVector([0.0, 0.0, 1.0])),\n",
       " Row(resultado='vitoria', label=2.0, prediction=2.0, probability=DenseVector([0.0, 0.0, 1.0])),\n",
       " Row(resultado='vitoria', label=2.0, prediction=2.0, probability=DenseVector([0.0, 0.0, 1.0])),\n",
       " Row(resultado='vitoria', label=2.0, prediction=2.0, probability=DenseVector([0.0, 0.0, 1.0])),\n",
       " Row(resultado='vitoria', label=2.0, prediction=2.0, probability=DenseVector([0.0, 0.0, 1.0])),\n",
       " Row(resultado='vitoria', label=2.0, prediction=2.0, probability=DenseVector([0.0, 0.0, 1.0])),\n",
       " Row(resultado='vitoria', label=2.0, prediction=2.0, probability=DenseVector([0.0, 0.0, 1.0])),\n",
       " Row(resultado='vitoria', label=2.0, prediction=2.0, probability=DenseVector([0.0, 0.0, 1.0])),\n",
       " Row(resultado='vitoria', label=2.0, prediction=2.0, probability=DenseVector([0.0, 0.0, 1.0])),\n",
       " Row(resultado='vitoria', label=2.0, prediction=2.0, probability=DenseVector([0.0, 0.0, 1.0])),\n",
       " Row(resultado='derrota', label=0.0, prediction=0.0, probability=DenseVector([0.9286, 0.0714, 0.0])),\n",
       " Row(resultado='derrota', label=0.0, prediction=0.0, probability=DenseVector([0.9286, 0.0714, 0.0])),\n",
       " Row(resultado='derrota', label=0.0, prediction=0.0, probability=DenseVector([0.9286, 0.0714, 0.0])),\n",
       " Row(resultado='empate', label=1.0, prediction=1.0, probability=DenseVector([0.027, 0.973, 0.0])),\n",
       " Row(resultado='empate', label=1.0, prediction=1.0, probability=DenseVector([0.027, 0.973, 0.0])),\n",
       " Row(resultado='empate', label=1.0, prediction=0.0, probability=DenseVector([0.9286, 0.0714, 0.0])),\n",
       " Row(resultado='empate', label=1.0, prediction=1.0, probability=DenseVector([0.027, 0.973, 0.0])),\n",
       " Row(resultado='empate', label=1.0, prediction=1.0, probability=DenseVector([0.027, 0.973, 0.0])),\n",
       " Row(resultado='empate', label=1.0, prediction=1.0, probability=DenseVector([0.027, 0.973, 0.0])),\n",
       " Row(resultado='empate', label=1.0, prediction=0.0, probability=DenseVector([0.9286, 0.0714, 0.0])),\n",
       " Row(resultado='empate', label=1.0, prediction=1.0, probability=DenseVector([0.027, 0.973, 0.0])),\n",
       " Row(resultado='empate', label=1.0, prediction=1.0, probability=DenseVector([0.027, 0.973, 0.0])),\n",
       " Row(resultado='empate', label=1.0, prediction=1.0, probability=DenseVector([0.027, 0.973, 0.0])),\n",
       " Row(resultado='empate', label=1.0, prediction=1.0, probability=DenseVector([0.027, 0.973, 0.0]))]"
      ]
     },
     "execution_count": 69,
     "metadata": {},
     "output_type": "execute_result"
    }
   ],
   "source": [
    "previsoes.select('resultado', 'label', 'prediction', 'probability').collect()"
   ]
  },
  {
   "cell_type": "code",
   "execution_count": 74,
   "id": "e75e7f5e",
   "metadata": {},
   "outputs": [],
   "source": [
    "# Avaliando a acurácia do modelo\n",
    "avaliador = MulticlassClassificationEvaluator(predictionCol = 'prediction',\n",
    "                                             labelCol = 'label',\n",
    "                                             metricName = 'accuracy')"
   ]
  },
  {
   "cell_type": "code",
   "execution_count": 79,
   "id": "da2aa62c",
   "metadata": {},
   "outputs": [
    {
     "data": {
      "text/plain": [
       "0.9375"
      ]
     },
     "execution_count": 79,
     "metadata": {},
     "output_type": "execute_result"
    }
   ],
   "source": [
    "avaliador.evaluate(previsoes)"
   ]
  },
  {
   "cell_type": "code",
   "execution_count": 80,
   "id": "59c8f778",
   "metadata": {},
   "outputs": [
    {
     "name": "stdout",
     "output_type": "stream",
     "text": [
      "+-----+----------+-----+\n",
      "|label|prediction|count|\n",
      "+-----+----------+-----+\n",
      "|  2.0|       2.0|   11|\n",
      "|  0.0|       0.0|   10|\n",
      "|  1.0|       1.0|    9|\n",
      "|  1.0|       0.0|    2|\n",
      "+-----+----------+-----+\n",
      "\n"
     ]
    }
   ],
   "source": [
    "# Resumindo as previsões - Confusion matrix\n",
    "previsoes.groupBy('label', 'prediction').count().show()"
   ]
  },
  {
   "cell_type": "code",
   "execution_count": null,
   "id": "21d38a15",
   "metadata": {},
   "outputs": [],
   "source": []
  }
 ],
 "metadata": {
  "kernelspec": {
   "display_name": "Python 3 (ipykernel)",
   "language": "python",
   "name": "python3"
  },
  "language_info": {
   "codemirror_mode": {
    "name": "ipython",
    "version": 3
   },
   "file_extension": ".py",
   "mimetype": "text/x-python",
   "name": "python",
   "nbconvert_exporter": "python",
   "pygments_lexer": "ipython3",
   "version": "3.9.13"
  }
 },
 "nbformat": 4,
 "nbformat_minor": 5
}
