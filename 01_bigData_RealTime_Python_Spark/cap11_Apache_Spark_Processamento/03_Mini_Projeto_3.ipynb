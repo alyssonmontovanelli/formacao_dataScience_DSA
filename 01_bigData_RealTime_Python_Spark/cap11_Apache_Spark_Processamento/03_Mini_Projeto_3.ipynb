{
 "cells": [
  {
   "cell_type": "code",
   "execution_count": 1,
   "id": "3566745b",
   "metadata": {},
   "outputs": [],
   "source": [
    "# Import findsparck e inicializa\n",
    "import findspark\n",
    "findspark.init()"
   ]
  },
  {
   "cell_type": "code",
   "execution_count": 2,
   "id": "4aa1798a",
   "metadata": {},
   "outputs": [],
   "source": [
    "import pyspark\n",
    "import pandas as pd\n",
    "import numpy as np\n",
    "import seaborn as sns\n",
    "from matplotlib import pyplot as plt\n",
    "\n",
    "from pyspark import SparkConf, SparkContext\n",
    "\n",
    "from pyspark.sql import SparkSession, SQLContext\n",
    "from pyspark.sql.types import *\n",
    "from pyspark.sql.functions import *\n",
    "\n",
    "from pyspark.ml.linalg import Vectors\n",
    "from pyspark.ml.feature import StringIndexer, MinMaxScaler, VectorAssembler\n",
    "from pyspark.ml.regression import LinearRegression\n",
    "from pyspark.mllib.evaluation import RegressionMetrics\n",
    "from pyspark.ml.stat import Correlation\n",
    "from pyspark.ml import Pipeline\n",
    "from pyspark.ml.tuning import ParamGridBuilder, CrossValidator, CrossValidatorModel\n",
    "from pyspark.ml.feature import VectorAssembler, StandardScaler\n",
    "from pyspark.ml.evaluation import RegressionEvaluator\n"
   ]
  },
  {
   "cell_type": "code",
   "execution_count": 3,
   "id": "49eed186",
   "metadata": {},
   "outputs": [],
   "source": [
    "# Formatação das saídas, pois a saída do pyspark ocupa muito espaço\n",
    "\n",
    "pd.set_option('display.max_columns', 200)\n",
    "pd.set_option('display.max_colwidth', 400)\n",
    "from matplotlib.axes._axes import _log as matrplotlib_axes_logger\n",
    "matrplotlib_axes_logger.setLevel('ERROR')"
   ]
  },
  {
   "cell_type": "markdown",
   "id": "d38318f7",
   "metadata": {},
   "source": [
    "# Preparando o Ambiente Spark"
   ]
  },
  {
   "cell_type": "code",
   "execution_count": 4,
   "id": "8f73c850",
   "metadata": {},
   "outputs": [],
   "source": [
    "# Definindo semente aleatória (seed) para reprodutibilidade do notebook\n",
    "rnd_seed = 23\n",
    "np.random.seed = rnd_seed\n",
    "np.random.set_state = rnd_seed"
   ]
  },
  {
   "cell_type": "code",
   "execution_count": 5,
   "id": "92a47aad",
   "metadata": {},
   "outputs": [],
   "source": [
    "# Criando o Sparnk Contex\n",
    "sc = SparkContext(appName = 'Mini_Projeto3')"
   ]
  },
  {
   "cell_type": "code",
   "execution_count": 6,
   "id": "a66b02f2",
   "metadata": {},
   "outputs": [],
   "source": [
    "# Criando a sessão Spark\n",
    "\n",
    "spark_session = SparkSession.builder.config(\"spark.driver.memory\", \"8g\").getOrCreate()\n",
    "\n",
    "\n",
    "# Quando não identificamos o cluster, automaticamente é logado no local"
   ]
  },
  {
   "cell_type": "code",
   "execution_count": 7,
   "id": "89441559",
   "metadata": {
    "scrolled": true
   },
   "outputs": [
    {
     "data": {
      "text/html": [
       "\n",
       "            <div>\n",
       "                <p><b>SparkSession - in-memory</b></p>\n",
       "                \n",
       "        <div>\n",
       "            <p><b>SparkContext</b></p>\n",
       "\n",
       "            <p><a href=\"http://Skylerfox:4040\">Spark UI</a></p>\n",
       "\n",
       "            <dl>\n",
       "              <dt>Version</dt>\n",
       "                <dd><code>v3.4.1</code></dd>\n",
       "              <dt>Master</dt>\n",
       "                <dd><code>local[*]</code></dd>\n",
       "              <dt>AppName</dt>\n",
       "                <dd><code>Mini_Projeto3</code></dd>\n",
       "            </dl>\n",
       "        </div>\n",
       "        \n",
       "            </div>\n",
       "        "
      ],
      "text/plain": [
       "<pyspark.sql.session.SparkSession at 0x16c6ca20ac0>"
      ]
     },
     "execution_count": 7,
     "metadata": {},
     "output_type": "execute_result"
    }
   ],
   "source": [
    "# Visualizando o objeto spark_session\n",
    "spark_session"
   ]
  },
  {
   "cell_type": "markdown",
   "id": "e11929a7",
   "metadata": {},
   "source": [
    "## Carregamento de Conjunto de Dados"
   ]
  },
  {
   "cell_type": "code",
   "execution_count": 8,
   "id": "9d686fb2",
   "metadata": {},
   "outputs": [
    {
     "name": "stdout",
     "output_type": "stream",
     "text": [
      "C:\\Users\\alyss\\anaconda3\\lib\\site-packages\\pyspark\n"
     ]
    }
   ],
   "source": [
    "print(findspark.find())"
   ]
  },
  {
   "cell_type": "code",
   "execution_count": 9,
   "id": "a5acee7d",
   "metadata": {
    "scrolled": false
   },
   "outputs": [],
   "source": [
    "# Carregando os dados a partir da sessão Spark\n",
    "df_spark = spark_session.read.csv(\"C:/formacao_dataScience_DSA_DADOS/01_bigData_RealTime_Python_Spark/cap11_Apache_Spark_Processamento/dados/dataset.csv\",\n",
    "                                 header = 'true', inferSchema = 'true') #Detectar o padrão dos dados"
   ]
  },
  {
   "cell_type": "code",
   "execution_count": 10,
   "id": "37d42515",
   "metadata": {},
   "outputs": [
    {
     "data": {
      "text/plain": [
       "pyspark.sql.dataframe.DataFrame"
      ]
     },
     "execution_count": 10,
     "metadata": {},
     "output_type": "execute_result"
    }
   ],
   "source": [
    "# Tipo do objeto\n",
    "type(df_spark)"
   ]
  },
  {
   "cell_type": "code",
   "execution_count": 11,
   "id": "c291c681",
   "metadata": {},
   "outputs": [
    {
     "name": "stdout",
     "output_type": "stream",
     "text": [
      "+----------+----+----+----+-----+------------+-----------------+--------------+\n",
      "| Timestamp|Open|High| Low|Close|Volume_(BTC)|Volume_(Currency)|Weighted_Price|\n",
      "+----------+----+----+----+-----+------------+-----------------+--------------+\n",
      "|1325317920|4.39|4.39|4.39| 4.39|  0.45558087|     2.0000000193|          4.39|\n",
      "|1325319300| NaN| NaN| NaN|  NaN|         NaN|              NaN|           NaN|\n",
      "|1325319360| NaN| NaN| NaN|  NaN|         NaN|              NaN|           NaN|\n",
      "|1325319420| NaN| NaN| NaN|  NaN|         NaN|              NaN|           NaN|\n",
      "|1325319480| NaN| NaN| NaN|  NaN|         NaN|              NaN|           NaN|\n",
      "|1325319540| NaN| NaN| NaN|  NaN|         NaN|              NaN|           NaN|\n",
      "|1325319600| NaN| NaN| NaN|  NaN|         NaN|              NaN|           NaN|\n",
      "|1325319660| NaN| NaN| NaN|  NaN|         NaN|              NaN|           NaN|\n",
      "|1325345040| NaN| NaN| NaN|  NaN|         NaN|              NaN|           NaN|\n",
      "|1325345100| NaN| NaN| NaN|  NaN|         NaN|              NaN|           NaN|\n",
      "|1325345160| NaN| NaN| NaN|  NaN|         NaN|              NaN|           NaN|\n",
      "|1325345220| NaN| NaN| NaN|  NaN|         NaN|              NaN|           NaN|\n",
      "|1325345280| NaN| NaN| NaN|  NaN|         NaN|              NaN|           NaN|\n",
      "|1325345340| NaN| NaN| NaN|  NaN|         NaN|              NaN|           NaN|\n",
      "|1325345400| NaN| NaN| NaN|  NaN|         NaN|              NaN|           NaN|\n",
      "|1325345460| NaN| NaN| NaN|  NaN|         NaN|              NaN|           NaN|\n",
      "|1325345520| NaN| NaN| NaN|  NaN|         NaN|              NaN|           NaN|\n",
      "|1325345580| NaN| NaN| NaN|  NaN|         NaN|              NaN|           NaN|\n",
      "|1325345640| NaN| NaN| NaN|  NaN|         NaN|              NaN|           NaN|\n",
      "|1325345700| NaN| NaN| NaN|  NaN|         NaN|              NaN|           NaN|\n",
      "+----------+----+----+----+-----+------------+-----------------+--------------+\n",
      "only showing top 20 rows\n",
      "\n"
     ]
    }
   ],
   "source": [
    "# Visualização dos dados\n",
    "df_spark.show()"
   ]
  },
  {
   "cell_type": "code",
   "execution_count": 12,
   "id": "2417d042",
   "metadata": {},
   "outputs": [
    {
     "name": "stdout",
     "output_type": "stream",
     "text": [
      "root\n",
      " |-- Timestamp: integer (nullable = true)\n",
      " |-- Open: double (nullable = true)\n",
      " |-- High: double (nullable = true)\n",
      " |-- Low: double (nullable = true)\n",
      " |-- Close: double (nullable = true)\n",
      " |-- Volume_(BTC): double (nullable = true)\n",
      " |-- Volume_(Currency): double (nullable = true)\n",
      " |-- Weighted_Price: double (nullable = true)\n",
      "\n"
     ]
    }
   ],
   "source": [
    "# Visualizar os metadados (Schema)\n",
    "df_spark.printSchema()"
   ]
  },
  {
   "cell_type": "code",
   "execution_count": 13,
   "id": "e38951ee",
   "metadata": {},
   "outputs": [
    {
     "data": {
      "text/plain": [
       "4856600"
      ]
     },
     "execution_count": 13,
     "metadata": {},
     "output_type": "execute_result"
    }
   ],
   "source": [
    "df_spark.count()"
   ]
  },
  {
   "cell_type": "markdown",
   "id": "a585430a",
   "metadata": {},
   "source": [
    "## Data Wrangling com SparkSQL\n",
    "\n",
    "Manipulação dos dados"
   ]
  },
  {
   "cell_type": "code",
   "execution_count": 14,
   "id": "ae59eb56",
   "metadata": {},
   "outputs": [],
   "source": [
    "# Cria uma tabela temporaria a partir do dataframe\n",
    "# As Tabelas temporárias são úteis quando desejamos que o conjunto de resultados fique visivel\n",
    "# para todas as outras sessões Spark\n",
    "\n",
    "df_spark.createOrReplaceTempView('dados_bitcoin')"
   ]
  },
  {
   "cell_type": "code",
   "execution_count": 15,
   "id": "c34575e3",
   "metadata": {},
   "outputs": [],
   "source": [
    "# Executa uma consulta SQL\n",
    "\n",
    "# Criando df_bitcoin já com a conversão de data do Timestamp\n",
    "\n",
    "df_bitcoin = spark_session.sql('select *, from_unixtime(Timestamp) as `dateTime` \\\n",
    "                    from dados_bitcoin')"
   ]
  },
  {
   "cell_type": "code",
   "execution_count": 16,
   "id": "159ba575",
   "metadata": {},
   "outputs": [
    {
     "data": {
      "text/plain": [
       "pyspark.sql.dataframe.DataFrame"
      ]
     },
     "execution_count": 16,
     "metadata": {},
     "output_type": "execute_result"
    }
   ],
   "source": [
    "type(df_bitcoin)"
   ]
  },
  {
   "cell_type": "code",
   "execution_count": 17,
   "id": "81c115e5",
   "metadata": {},
   "outputs": [
    {
     "name": "stdout",
     "output_type": "stream",
     "text": [
      "+----------+----+----+----+-----+------------+-----------------+--------------+-------------------+\n",
      "| Timestamp|Open|High| Low|Close|Volume_(BTC)|Volume_(Currency)|Weighted_Price|           dateTime|\n",
      "+----------+----+----+----+-----+------------+-----------------+--------------+-------------------+\n",
      "|1325317920|4.39|4.39|4.39| 4.39|  0.45558087|     2.0000000193|          4.39|2011-12-31 05:52:00|\n",
      "|1325319300| NaN| NaN| NaN|  NaN|         NaN|              NaN|           NaN|2011-12-31 06:15:00|\n",
      "|1325319360| NaN| NaN| NaN|  NaN|         NaN|              NaN|           NaN|2011-12-31 06:16:00|\n",
      "|1325319420| NaN| NaN| NaN|  NaN|         NaN|              NaN|           NaN|2011-12-31 06:17:00|\n",
      "|1325319480| NaN| NaN| NaN|  NaN|         NaN|              NaN|           NaN|2011-12-31 06:18:00|\n",
      "|1325319540| NaN| NaN| NaN|  NaN|         NaN|              NaN|           NaN|2011-12-31 06:19:00|\n",
      "|1325319600| NaN| NaN| NaN|  NaN|         NaN|              NaN|           NaN|2011-12-31 06:20:00|\n",
      "|1325319660| NaN| NaN| NaN|  NaN|         NaN|              NaN|           NaN|2011-12-31 06:21:00|\n",
      "|1325345040| NaN| NaN| NaN|  NaN|         NaN|              NaN|           NaN|2011-12-31 13:24:00|\n",
      "|1325345100| NaN| NaN| NaN|  NaN|         NaN|              NaN|           NaN|2011-12-31 13:25:00|\n",
      "|1325345160| NaN| NaN| NaN|  NaN|         NaN|              NaN|           NaN|2011-12-31 13:26:00|\n",
      "|1325345220| NaN| NaN| NaN|  NaN|         NaN|              NaN|           NaN|2011-12-31 13:27:00|\n",
      "|1325345280| NaN| NaN| NaN|  NaN|         NaN|              NaN|           NaN|2011-12-31 13:28:00|\n",
      "|1325345340| NaN| NaN| NaN|  NaN|         NaN|              NaN|           NaN|2011-12-31 13:29:00|\n",
      "|1325345400| NaN| NaN| NaN|  NaN|         NaN|              NaN|           NaN|2011-12-31 13:30:00|\n",
      "|1325345460| NaN| NaN| NaN|  NaN|         NaN|              NaN|           NaN|2011-12-31 13:31:00|\n",
      "|1325345520| NaN| NaN| NaN|  NaN|         NaN|              NaN|           NaN|2011-12-31 13:32:00|\n",
      "|1325345580| NaN| NaN| NaN|  NaN|         NaN|              NaN|           NaN|2011-12-31 13:33:00|\n",
      "|1325345640| NaN| NaN| NaN|  NaN|         NaN|              NaN|           NaN|2011-12-31 13:34:00|\n",
      "|1325345700| NaN| NaN| NaN|  NaN|         NaN|              NaN|           NaN|2011-12-31 13:35:00|\n",
      "+----------+----+----+----+-----+------------+-----------------+--------------+-------------------+\n",
      "only showing top 20 rows\n",
      "\n"
     ]
    }
   ],
   "source": [
    "df_bitcoin.show()\n",
    "# Da para verificar a data na ultima coluna"
   ]
  },
  {
   "cell_type": "code",
   "execution_count": 18,
   "id": "c93fff2e",
   "metadata": {},
   "outputs": [],
   "source": [
    "# Removendo valroes NA \n",
    "df_bitcoin = df_bitcoin.dropna('any')"
   ]
  },
  {
   "cell_type": "code",
   "execution_count": 19,
   "id": "73ff6f83",
   "metadata": {},
   "outputs": [
    {
     "name": "stdout",
     "output_type": "stream",
     "text": [
      "+----------+----+----+----+-----+------------+-----------------+--------------+-------------------+\n",
      "| Timestamp|Open|High| Low|Close|Volume_(BTC)|Volume_(Currency)|Weighted_Price|           dateTime|\n",
      "+----------+----+----+----+-----+------------+-----------------+--------------+-------------------+\n",
      "|1325317920|4.39|4.39|4.39| 4.39|  0.45558087|     2.0000000193|          4.39|2011-12-31 05:52:00|\n",
      "|1325346600|4.39|4.39|4.39| 4.39|        48.0|           210.72|          4.39|2011-12-31 13:50:00|\n",
      "|1325350740| 4.5|4.57| 4.5| 4.57| 37.86229723|     171.38033753|  4.5264114983|2011-12-31 14:59:00|\n",
      "|1325350800|4.58|4.58|4.58| 4.58|         9.0|            41.22|          4.58|2011-12-31 15:00:00|\n",
      "|1325391360|4.58|4.58|4.58| 4.58|       1.502|          6.87916|          4.58|2012-01-01 02:16:00|\n",
      "|1325431680|4.84|4.84|4.84| 4.84|        10.0|             48.4|          4.84|2012-01-01 13:28:00|\n",
      "|1325457900| 5.0| 5.0| 5.0|  5.0|        10.1|             50.5|           5.0|2012-01-01 20:45:00|\n",
      "|1325534640| 5.0| 5.0| 5.0|  5.0|      19.048|            95.24|           5.0|2012-01-02 18:04:00|\n",
      "|1325591100|5.32|5.32|5.32| 5.32|  2.41917293|     12.869999988|          5.32|2012-01-03 09:45:00|\n",
      "|1325600520|5.14|5.14|5.14| 5.14|        0.68|           3.4952|          5.14|2012-01-03 12:22:00|\n",
      "|1325602440|5.26|5.26|5.26| 5.26| 29.31939163|     154.21999997|          5.26|2012-01-03 12:54:00|\n",
      "|1325604720|5.29|5.29|5.29| 5.29| 29.30245747|     155.01000002|          5.29|2012-01-03 13:32:00|\n",
      "|1325610600|5.29|5.29|5.29| 5.29| 11.28544423|     59.699999977|          5.29|2012-01-03 15:10:00|\n",
      "|1325610840|5.14|5.14|5.14| 5.14|        0.02|           0.1028|          5.14|2012-01-03 15:14:00|\n",
      "|1325611560|5.29|5.29|5.29| 5.29|        11.0|            58.19|          5.29|2012-01-03 15:26:00|\n",
      "|1325611620|5.29|5.29|5.29| 5.29|  4.01081466|     21.217209551|          5.29|2012-01-03 15:27:00|\n",
      "|1325650620|4.93|4.93|4.93| 4.93|        2.32|          11.4376|          4.93|2012-01-04 02:17:00|\n",
      "|1325653500|4.93|4.93|4.93| 4.93|        9.68|          47.7224|          4.93|2012-01-04 03:05:00|\n",
      "|1325680860|5.19|5.19|5.19| 5.19|   2.6416185|     13.710000015|          5.19|2012-01-04 10:41:00|\n",
      "|1325681820|5.19|5.19|5.19| 5.19|  8.72447013|     45.279999975|          5.19|2012-01-04 10:57:00|\n",
      "+----------+----+----+----+-----+------------+-----------------+--------------+-------------------+\n",
      "only showing top 20 rows\n",
      "\n"
     ]
    }
   ],
   "source": [
    "df_bitcoin.show()"
   ]
  },
  {
   "cell_type": "code",
   "execution_count": 20,
   "id": "f6e05a3b",
   "metadata": {},
   "outputs": [
    {
     "data": {
      "text/plain": [
       "3613769"
      ]
     },
     "execution_count": 20,
     "metadata": {},
     "output_type": "execute_result"
    }
   ],
   "source": [
    "# números de registros\n",
    "df_bitcoin.count()"
   ]
  },
  {
   "cell_type": "code",
   "execution_count": 21,
   "id": "2b94cb2b",
   "metadata": {},
   "outputs": [],
   "source": [
    "# Renomear algumas colunas para facilitar a manipulação dos dados\n",
    "df_bitcoin = df_bitcoin.withColumnRenamed('Volume_(BTC)', 'VolBTC').withColumnRenamed('Volume_(Currency)', 'VolCurrency')"
   ]
  },
  {
   "cell_type": "code",
   "execution_count": 22,
   "id": "bdc0cdbb",
   "metadata": {},
   "outputs": [
    {
     "data": {
      "text/plain": [
       "['Timestamp',\n",
       " 'Open',\n",
       " 'High',\n",
       " 'Low',\n",
       " 'Close',\n",
       " 'VolBTC',\n",
       " 'VolCurrency',\n",
       " 'Weighted_Price',\n",
       " 'dateTime']"
      ]
     },
     "execution_count": 22,
     "metadata": {},
     "output_type": "execute_result"
    }
   ],
   "source": [
    "df_bitcoin.columns"
   ]
  },
  {
   "cell_type": "markdown",
   "id": "c24a3cae",
   "metadata": {},
   "source": [
    "#### Desmembrar a Coluna 'datetime' em varias outras"
   ]
  },
  {
   "cell_type": "code",
   "execution_count": 23,
   "id": "eb009311",
   "metadata": {},
   "outputs": [],
   "source": [
    "# Divisão do dataframe extraindo data\n",
    "df_data = df_bitcoin.withColumn('date', split(col('datetime'), \" \").getItem(0))"
   ]
  },
  {
   "cell_type": "code",
   "execution_count": 24,
   "id": "e5ddd3e6",
   "metadata": {},
   "outputs": [
    {
     "data": {
      "text/plain": [
       "pyspark.sql.dataframe.DataFrame"
      ]
     },
     "execution_count": 24,
     "metadata": {},
     "output_type": "execute_result"
    }
   ],
   "source": [
    "type(df_data)"
   ]
  },
  {
   "cell_type": "code",
   "execution_count": 25,
   "id": "30e5ce66",
   "metadata": {},
   "outputs": [],
   "source": [
    "# Divisão do dataframe extraindo O TEMPO\n",
    "df_data = df_data.withColumn('time', split(col('datetime'), \" \").getItem(1))"
   ]
  },
  {
   "cell_type": "code",
   "execution_count": 26,
   "id": "070a0f37",
   "metadata": {},
   "outputs": [
    {
     "name": "stdout",
     "output_type": "stream",
     "text": [
      "root\n",
      " |-- Timestamp: integer (nullable = true)\n",
      " |-- Open: double (nullable = true)\n",
      " |-- High: double (nullable = true)\n",
      " |-- Low: double (nullable = true)\n",
      " |-- Close: double (nullable = true)\n",
      " |-- VolBTC: double (nullable = true)\n",
      " |-- VolCurrency: double (nullable = true)\n",
      " |-- Weighted_Price: double (nullable = true)\n",
      " |-- dateTime: string (nullable = true)\n",
      " |-- date: string (nullable = true)\n",
      " |-- time: string (nullable = true)\n",
      "\n"
     ]
    }
   ],
   "source": [
    "#Schema\n",
    "df_data.printSchema()"
   ]
  },
  {
   "cell_type": "code",
   "execution_count": 27,
   "id": "c60e1ee4",
   "metadata": {},
   "outputs": [
    {
     "name": "stdout",
     "output_type": "stream",
     "text": [
      "+----------+----+----+----+-----+-----------+------------+--------------+-------------------+----------+--------+\n",
      "| Timestamp|Open|High| Low|Close|     VolBTC| VolCurrency|Weighted_Price|           dateTime|      date|    time|\n",
      "+----------+----+----+----+-----+-----------+------------+--------------+-------------------+----------+--------+\n",
      "|1325317920|4.39|4.39|4.39| 4.39| 0.45558087|2.0000000193|          4.39|2011-12-31 05:52:00|2011-12-31|05:52:00|\n",
      "|1325346600|4.39|4.39|4.39| 4.39|       48.0|      210.72|          4.39|2011-12-31 13:50:00|2011-12-31|13:50:00|\n",
      "|1325350740| 4.5|4.57| 4.5| 4.57|37.86229723|171.38033753|  4.5264114983|2011-12-31 14:59:00|2011-12-31|14:59:00|\n",
      "|1325350800|4.58|4.58|4.58| 4.58|        9.0|       41.22|          4.58|2011-12-31 15:00:00|2011-12-31|15:00:00|\n",
      "|1325391360|4.58|4.58|4.58| 4.58|      1.502|     6.87916|          4.58|2012-01-01 02:16:00|2012-01-01|02:16:00|\n",
      "|1325431680|4.84|4.84|4.84| 4.84|       10.0|        48.4|          4.84|2012-01-01 13:28:00|2012-01-01|13:28:00|\n",
      "|1325457900| 5.0| 5.0| 5.0|  5.0|       10.1|        50.5|           5.0|2012-01-01 20:45:00|2012-01-01|20:45:00|\n",
      "|1325534640| 5.0| 5.0| 5.0|  5.0|     19.048|       95.24|           5.0|2012-01-02 18:04:00|2012-01-02|18:04:00|\n",
      "|1325591100|5.32|5.32|5.32| 5.32| 2.41917293|12.869999988|          5.32|2012-01-03 09:45:00|2012-01-03|09:45:00|\n",
      "|1325600520|5.14|5.14|5.14| 5.14|       0.68|      3.4952|          5.14|2012-01-03 12:22:00|2012-01-03|12:22:00|\n",
      "|1325602440|5.26|5.26|5.26| 5.26|29.31939163|154.21999997|          5.26|2012-01-03 12:54:00|2012-01-03|12:54:00|\n",
      "|1325604720|5.29|5.29|5.29| 5.29|29.30245747|155.01000002|          5.29|2012-01-03 13:32:00|2012-01-03|13:32:00|\n",
      "|1325610600|5.29|5.29|5.29| 5.29|11.28544423|59.699999977|          5.29|2012-01-03 15:10:00|2012-01-03|15:10:00|\n",
      "|1325610840|5.14|5.14|5.14| 5.14|       0.02|      0.1028|          5.14|2012-01-03 15:14:00|2012-01-03|15:14:00|\n",
      "|1325611560|5.29|5.29|5.29| 5.29|       11.0|       58.19|          5.29|2012-01-03 15:26:00|2012-01-03|15:26:00|\n",
      "|1325611620|5.29|5.29|5.29| 5.29| 4.01081466|21.217209551|          5.29|2012-01-03 15:27:00|2012-01-03|15:27:00|\n",
      "|1325650620|4.93|4.93|4.93| 4.93|       2.32|     11.4376|          4.93|2012-01-04 02:17:00|2012-01-04|02:17:00|\n",
      "|1325653500|4.93|4.93|4.93| 4.93|       9.68|     47.7224|          4.93|2012-01-04 03:05:00|2012-01-04|03:05:00|\n",
      "|1325680860|5.19|5.19|5.19| 5.19|  2.6416185|13.710000015|          5.19|2012-01-04 10:41:00|2012-01-04|10:41:00|\n",
      "|1325681820|5.19|5.19|5.19| 5.19| 8.72447013|45.279999975|          5.19|2012-01-04 10:57:00|2012-01-04|10:57:00|\n",
      "+----------+----+----+----+-----+-----------+------------+--------------+-------------------+----------+--------+\n",
      "only showing top 20 rows\n",
      "\n"
     ]
    }
   ],
   "source": [
    "df_data.show()"
   ]
  },
  {
   "cell_type": "code",
   "execution_count": 28,
   "id": "0b746f3a",
   "metadata": {},
   "outputs": [],
   "source": [
    "# Dividindo a coluna 'time'\n",
    "df_data_hora = df_data.withColumn('hour', split(col('time'), \":\").getItem(0))"
   ]
  },
  {
   "cell_type": "code",
   "execution_count": 29,
   "id": "3e9b64aa",
   "metadata": {},
   "outputs": [
    {
     "name": "stdout",
     "output_type": "stream",
     "text": [
      "root\n",
      " |-- Timestamp: integer (nullable = true)\n",
      " |-- Open: double (nullable = true)\n",
      " |-- High: double (nullable = true)\n",
      " |-- Low: double (nullable = true)\n",
      " |-- Close: double (nullable = true)\n",
      " |-- VolBTC: double (nullable = true)\n",
      " |-- VolCurrency: double (nullable = true)\n",
      " |-- Weighted_Price: double (nullable = true)\n",
      " |-- dateTime: string (nullable = true)\n",
      " |-- date: string (nullable = true)\n",
      " |-- time: string (nullable = true)\n",
      " |-- hour: string (nullable = true)\n",
      "\n"
     ]
    }
   ],
   "source": [
    "df_data_hora.printSchema()"
   ]
  },
  {
   "cell_type": "code",
   "execution_count": 30,
   "id": "ba03f3af",
   "metadata": {},
   "outputs": [
    {
     "name": "stdout",
     "output_type": "stream",
     "text": [
      "+----------+----+----+----+-----+-----------+------------+--------------+-------------------+----------+--------+----+\n",
      "| Timestamp|Open|High| Low|Close|     VolBTC| VolCurrency|Weighted_Price|           dateTime|      date|    time|hour|\n",
      "+----------+----+----+----+-----+-----------+------------+--------------+-------------------+----------+--------+----+\n",
      "|1325317920|4.39|4.39|4.39| 4.39| 0.45558087|2.0000000193|          4.39|2011-12-31 05:52:00|2011-12-31|05:52:00|  05|\n",
      "|1325346600|4.39|4.39|4.39| 4.39|       48.0|      210.72|          4.39|2011-12-31 13:50:00|2011-12-31|13:50:00|  13|\n",
      "|1325350740| 4.5|4.57| 4.5| 4.57|37.86229723|171.38033753|  4.5264114983|2011-12-31 14:59:00|2011-12-31|14:59:00|  14|\n",
      "|1325350800|4.58|4.58|4.58| 4.58|        9.0|       41.22|          4.58|2011-12-31 15:00:00|2011-12-31|15:00:00|  15|\n",
      "|1325391360|4.58|4.58|4.58| 4.58|      1.502|     6.87916|          4.58|2012-01-01 02:16:00|2012-01-01|02:16:00|  02|\n",
      "|1325431680|4.84|4.84|4.84| 4.84|       10.0|        48.4|          4.84|2012-01-01 13:28:00|2012-01-01|13:28:00|  13|\n",
      "|1325457900| 5.0| 5.0| 5.0|  5.0|       10.1|        50.5|           5.0|2012-01-01 20:45:00|2012-01-01|20:45:00|  20|\n",
      "|1325534640| 5.0| 5.0| 5.0|  5.0|     19.048|       95.24|           5.0|2012-01-02 18:04:00|2012-01-02|18:04:00|  18|\n",
      "|1325591100|5.32|5.32|5.32| 5.32| 2.41917293|12.869999988|          5.32|2012-01-03 09:45:00|2012-01-03|09:45:00|  09|\n",
      "|1325600520|5.14|5.14|5.14| 5.14|       0.68|      3.4952|          5.14|2012-01-03 12:22:00|2012-01-03|12:22:00|  12|\n",
      "|1325602440|5.26|5.26|5.26| 5.26|29.31939163|154.21999997|          5.26|2012-01-03 12:54:00|2012-01-03|12:54:00|  12|\n",
      "|1325604720|5.29|5.29|5.29| 5.29|29.30245747|155.01000002|          5.29|2012-01-03 13:32:00|2012-01-03|13:32:00|  13|\n",
      "|1325610600|5.29|5.29|5.29| 5.29|11.28544423|59.699999977|          5.29|2012-01-03 15:10:00|2012-01-03|15:10:00|  15|\n",
      "|1325610840|5.14|5.14|5.14| 5.14|       0.02|      0.1028|          5.14|2012-01-03 15:14:00|2012-01-03|15:14:00|  15|\n",
      "|1325611560|5.29|5.29|5.29| 5.29|       11.0|       58.19|          5.29|2012-01-03 15:26:00|2012-01-03|15:26:00|  15|\n",
      "|1325611620|5.29|5.29|5.29| 5.29| 4.01081466|21.217209551|          5.29|2012-01-03 15:27:00|2012-01-03|15:27:00|  15|\n",
      "|1325650620|4.93|4.93|4.93| 4.93|       2.32|     11.4376|          4.93|2012-01-04 02:17:00|2012-01-04|02:17:00|  02|\n",
      "|1325653500|4.93|4.93|4.93| 4.93|       9.68|     47.7224|          4.93|2012-01-04 03:05:00|2012-01-04|03:05:00|  03|\n",
      "|1325680860|5.19|5.19|5.19| 5.19|  2.6416185|13.710000015|          5.19|2012-01-04 10:41:00|2012-01-04|10:41:00|  10|\n",
      "|1325681820|5.19|5.19|5.19| 5.19| 8.72447013|45.279999975|          5.19|2012-01-04 10:57:00|2012-01-04|10:57:00|  10|\n",
      "+----------+----+----+----+-----+-----------+------------+--------------+-------------------+----------+--------+----+\n",
      "only showing top 20 rows\n",
      "\n"
     ]
    }
   ],
   "source": [
    "df_data_hora.show()"
   ]
  },
  {
   "cell_type": "markdown",
   "id": "efa706b1",
   "metadata": {},
   "source": [
    "### Extrair o dia da semana e criar outra coluna"
   ]
  },
  {
   "cell_type": "code",
   "execution_count": 31,
   "id": "49e993cd",
   "metadata": {},
   "outputs": [],
   "source": [
    "# Extraindo dia da semana da coluna date\n",
    "df_data_hora = df_data_hora.withColumn('date', df_data_hora['date'].cast(DateType())).\\\n",
    "                                    withColumn('hour', df_data_hora['hour'].cast(DoubleType())).\\\n",
    "                                    withColumn('dateTime', df_data_hora['dateTime'].cast(DateType()))"
   ]
  },
  {
   "cell_type": "code",
   "execution_count": 32,
   "id": "279f04bc",
   "metadata": {},
   "outputs": [
    {
     "name": "stdout",
     "output_type": "stream",
     "text": [
      "+----------+----+----+----+-----+-----------+------------+--------------+----------+----------+--------+----+\n",
      "| Timestamp|Open|High| Low|Close|     VolBTC| VolCurrency|Weighted_Price|  dateTime|      date|    time|hour|\n",
      "+----------+----+----+----+-----+-----------+------------+--------------+----------+----------+--------+----+\n",
      "|1325317920|4.39|4.39|4.39| 4.39| 0.45558087|2.0000000193|          4.39|2011-12-31|2011-12-31|05:52:00| 5.0|\n",
      "|1325346600|4.39|4.39|4.39| 4.39|       48.0|      210.72|          4.39|2011-12-31|2011-12-31|13:50:00|13.0|\n",
      "|1325350740| 4.5|4.57| 4.5| 4.57|37.86229723|171.38033753|  4.5264114983|2011-12-31|2011-12-31|14:59:00|14.0|\n",
      "|1325350800|4.58|4.58|4.58| 4.58|        9.0|       41.22|          4.58|2011-12-31|2011-12-31|15:00:00|15.0|\n",
      "|1325391360|4.58|4.58|4.58| 4.58|      1.502|     6.87916|          4.58|2012-01-01|2012-01-01|02:16:00| 2.0|\n",
      "|1325431680|4.84|4.84|4.84| 4.84|       10.0|        48.4|          4.84|2012-01-01|2012-01-01|13:28:00|13.0|\n",
      "|1325457900| 5.0| 5.0| 5.0|  5.0|       10.1|        50.5|           5.0|2012-01-01|2012-01-01|20:45:00|20.0|\n",
      "|1325534640| 5.0| 5.0| 5.0|  5.0|     19.048|       95.24|           5.0|2012-01-02|2012-01-02|18:04:00|18.0|\n",
      "|1325591100|5.32|5.32|5.32| 5.32| 2.41917293|12.869999988|          5.32|2012-01-03|2012-01-03|09:45:00| 9.0|\n",
      "|1325600520|5.14|5.14|5.14| 5.14|       0.68|      3.4952|          5.14|2012-01-03|2012-01-03|12:22:00|12.0|\n",
      "|1325602440|5.26|5.26|5.26| 5.26|29.31939163|154.21999997|          5.26|2012-01-03|2012-01-03|12:54:00|12.0|\n",
      "|1325604720|5.29|5.29|5.29| 5.29|29.30245747|155.01000002|          5.29|2012-01-03|2012-01-03|13:32:00|13.0|\n",
      "|1325610600|5.29|5.29|5.29| 5.29|11.28544423|59.699999977|          5.29|2012-01-03|2012-01-03|15:10:00|15.0|\n",
      "|1325610840|5.14|5.14|5.14| 5.14|       0.02|      0.1028|          5.14|2012-01-03|2012-01-03|15:14:00|15.0|\n",
      "|1325611560|5.29|5.29|5.29| 5.29|       11.0|       58.19|          5.29|2012-01-03|2012-01-03|15:26:00|15.0|\n",
      "|1325611620|5.29|5.29|5.29| 5.29| 4.01081466|21.217209551|          5.29|2012-01-03|2012-01-03|15:27:00|15.0|\n",
      "|1325650620|4.93|4.93|4.93| 4.93|       2.32|     11.4376|          4.93|2012-01-04|2012-01-04|02:17:00| 2.0|\n",
      "|1325653500|4.93|4.93|4.93| 4.93|       9.68|     47.7224|          4.93|2012-01-04|2012-01-04|03:05:00| 3.0|\n",
      "|1325680860|5.19|5.19|5.19| 5.19|  2.6416185|13.710000015|          5.19|2012-01-04|2012-01-04|10:41:00|10.0|\n",
      "|1325681820|5.19|5.19|5.19| 5.19| 8.72447013|45.279999975|          5.19|2012-01-04|2012-01-04|10:57:00|10.0|\n",
      "+----------+----+----+----+-----+-----------+------------+--------------+----------+----------+--------+----+\n",
      "only showing top 20 rows\n",
      "\n"
     ]
    }
   ],
   "source": [
    "df_data_hora.show()"
   ]
  },
  {
   "cell_type": "code",
   "execution_count": 33,
   "id": "357f2541",
   "metadata": {},
   "outputs": [],
   "source": [
    "# Extraindo o dia da semana\n",
    "df_data_hora = df_data_hora.withColumn('day_of_week', dayofweek(df_data_hora.date))"
   ]
  },
  {
   "cell_type": "code",
   "execution_count": 34,
   "id": "fd930b86",
   "metadata": {},
   "outputs": [
    {
     "name": "stdout",
     "output_type": "stream",
     "text": [
      "root\n",
      " |-- Timestamp: integer (nullable = true)\n",
      " |-- Open: double (nullable = true)\n",
      " |-- High: double (nullable = true)\n",
      " |-- Low: double (nullable = true)\n",
      " |-- Close: double (nullable = true)\n",
      " |-- VolBTC: double (nullable = true)\n",
      " |-- VolCurrency: double (nullable = true)\n",
      " |-- Weighted_Price: double (nullable = true)\n",
      " |-- dateTime: date (nullable = true)\n",
      " |-- date: date (nullable = true)\n",
      " |-- time: string (nullable = true)\n",
      " |-- hour: double (nullable = true)\n",
      " |-- day_of_week: integer (nullable = true)\n",
      "\n"
     ]
    }
   ],
   "source": [
    "df_data_hora.printSchema()"
   ]
  },
  {
   "cell_type": "code",
   "execution_count": 35,
   "id": "2cc5b514",
   "metadata": {},
   "outputs": [
    {
     "name": "stdout",
     "output_type": "stream",
     "text": [
      "+----------+----+----+----+-----+-----------+------------+--------------+----------+----------+--------+----+-----------+\n",
      "| Timestamp|Open|High| Low|Close|     VolBTC| VolCurrency|Weighted_Price|  dateTime|      date|    time|hour|day_of_week|\n",
      "+----------+----+----+----+-----+-----------+------------+--------------+----------+----------+--------+----+-----------+\n",
      "|1325317920|4.39|4.39|4.39| 4.39| 0.45558087|2.0000000193|          4.39|2011-12-31|2011-12-31|05:52:00| 5.0|          7|\n",
      "|1325346600|4.39|4.39|4.39| 4.39|       48.0|      210.72|          4.39|2011-12-31|2011-12-31|13:50:00|13.0|          7|\n",
      "|1325350740| 4.5|4.57| 4.5| 4.57|37.86229723|171.38033753|  4.5264114983|2011-12-31|2011-12-31|14:59:00|14.0|          7|\n",
      "|1325350800|4.58|4.58|4.58| 4.58|        9.0|       41.22|          4.58|2011-12-31|2011-12-31|15:00:00|15.0|          7|\n",
      "|1325391360|4.58|4.58|4.58| 4.58|      1.502|     6.87916|          4.58|2012-01-01|2012-01-01|02:16:00| 2.0|          1|\n",
      "|1325431680|4.84|4.84|4.84| 4.84|       10.0|        48.4|          4.84|2012-01-01|2012-01-01|13:28:00|13.0|          1|\n",
      "|1325457900| 5.0| 5.0| 5.0|  5.0|       10.1|        50.5|           5.0|2012-01-01|2012-01-01|20:45:00|20.0|          1|\n",
      "|1325534640| 5.0| 5.0| 5.0|  5.0|     19.048|       95.24|           5.0|2012-01-02|2012-01-02|18:04:00|18.0|          2|\n",
      "|1325591100|5.32|5.32|5.32| 5.32| 2.41917293|12.869999988|          5.32|2012-01-03|2012-01-03|09:45:00| 9.0|          3|\n",
      "|1325600520|5.14|5.14|5.14| 5.14|       0.68|      3.4952|          5.14|2012-01-03|2012-01-03|12:22:00|12.0|          3|\n",
      "|1325602440|5.26|5.26|5.26| 5.26|29.31939163|154.21999997|          5.26|2012-01-03|2012-01-03|12:54:00|12.0|          3|\n",
      "|1325604720|5.29|5.29|5.29| 5.29|29.30245747|155.01000002|          5.29|2012-01-03|2012-01-03|13:32:00|13.0|          3|\n",
      "|1325610600|5.29|5.29|5.29| 5.29|11.28544423|59.699999977|          5.29|2012-01-03|2012-01-03|15:10:00|15.0|          3|\n",
      "|1325610840|5.14|5.14|5.14| 5.14|       0.02|      0.1028|          5.14|2012-01-03|2012-01-03|15:14:00|15.0|          3|\n",
      "|1325611560|5.29|5.29|5.29| 5.29|       11.0|       58.19|          5.29|2012-01-03|2012-01-03|15:26:00|15.0|          3|\n",
      "|1325611620|5.29|5.29|5.29| 5.29| 4.01081466|21.217209551|          5.29|2012-01-03|2012-01-03|15:27:00|15.0|          3|\n",
      "|1325650620|4.93|4.93|4.93| 4.93|       2.32|     11.4376|          4.93|2012-01-04|2012-01-04|02:17:00| 2.0|          4|\n",
      "|1325653500|4.93|4.93|4.93| 4.93|       9.68|     47.7224|          4.93|2012-01-04|2012-01-04|03:05:00| 3.0|          4|\n",
      "|1325680860|5.19|5.19|5.19| 5.19|  2.6416185|13.710000015|          5.19|2012-01-04|2012-01-04|10:41:00|10.0|          4|\n",
      "|1325681820|5.19|5.19|5.19| 5.19| 8.72447013|45.279999975|          5.19|2012-01-04|2012-01-04|10:57:00|10.0|          4|\n",
      "+----------+----+----+----+-----+-----------+------------+--------------+----------+----------+--------+----+-----------+\n",
      "only showing top 20 rows\n",
      "\n"
     ]
    }
   ],
   "source": [
    "df_data_hora.show()"
   ]
  },
  {
   "cell_type": "code",
   "execution_count": 36,
   "id": "a50d83e4",
   "metadata": {},
   "outputs": [],
   "source": [
    "# Extrair o ano \n",
    "df_data_hora_ano = df_data_hora.withColumn('year', split(col('date'), \"-\").getItem(0))"
   ]
  },
  {
   "cell_type": "code",
   "execution_count": 37,
   "id": "b96b0076",
   "metadata": {},
   "outputs": [
    {
     "name": "stdout",
     "output_type": "stream",
     "text": [
      "root\n",
      " |-- Timestamp: integer (nullable = true)\n",
      " |-- Open: double (nullable = true)\n",
      " |-- High: double (nullable = true)\n",
      " |-- Low: double (nullable = true)\n",
      " |-- Close: double (nullable = true)\n",
      " |-- VolBTC: double (nullable = true)\n",
      " |-- VolCurrency: double (nullable = true)\n",
      " |-- Weighted_Price: double (nullable = true)\n",
      " |-- dateTime: date (nullable = true)\n",
      " |-- date: date (nullable = true)\n",
      " |-- time: string (nullable = true)\n",
      " |-- hour: double (nullable = true)\n",
      " |-- day_of_week: integer (nullable = true)\n",
      " |-- year: string (nullable = true)\n",
      "\n"
     ]
    }
   ],
   "source": [
    "df_data_hora_ano.printSchema()"
   ]
  },
  {
   "cell_type": "code",
   "execution_count": 38,
   "id": "14c86314",
   "metadata": {
    "scrolled": true
   },
   "outputs": [
    {
     "name": "stdout",
     "output_type": "stream",
     "text": [
      "+----------+----+----+----+-----+-----------+------------+--------------+----------+----------+--------+----+-----------+----+\n",
      "| Timestamp|Open|High| Low|Close|     VolBTC| VolCurrency|Weighted_Price|  dateTime|      date|    time|hour|day_of_week|year|\n",
      "+----------+----+----+----+-----+-----------+------------+--------------+----------+----------+--------+----+-----------+----+\n",
      "|1325317920|4.39|4.39|4.39| 4.39| 0.45558087|2.0000000193|          4.39|2011-12-31|2011-12-31|05:52:00| 5.0|          7|2011|\n",
      "|1325346600|4.39|4.39|4.39| 4.39|       48.0|      210.72|          4.39|2011-12-31|2011-12-31|13:50:00|13.0|          7|2011|\n",
      "|1325350740| 4.5|4.57| 4.5| 4.57|37.86229723|171.38033753|  4.5264114983|2011-12-31|2011-12-31|14:59:00|14.0|          7|2011|\n",
      "|1325350800|4.58|4.58|4.58| 4.58|        9.0|       41.22|          4.58|2011-12-31|2011-12-31|15:00:00|15.0|          7|2011|\n",
      "|1325391360|4.58|4.58|4.58| 4.58|      1.502|     6.87916|          4.58|2012-01-01|2012-01-01|02:16:00| 2.0|          1|2012|\n",
      "|1325431680|4.84|4.84|4.84| 4.84|       10.0|        48.4|          4.84|2012-01-01|2012-01-01|13:28:00|13.0|          1|2012|\n",
      "|1325457900| 5.0| 5.0| 5.0|  5.0|       10.1|        50.5|           5.0|2012-01-01|2012-01-01|20:45:00|20.0|          1|2012|\n",
      "|1325534640| 5.0| 5.0| 5.0|  5.0|     19.048|       95.24|           5.0|2012-01-02|2012-01-02|18:04:00|18.0|          2|2012|\n",
      "|1325591100|5.32|5.32|5.32| 5.32| 2.41917293|12.869999988|          5.32|2012-01-03|2012-01-03|09:45:00| 9.0|          3|2012|\n",
      "|1325600520|5.14|5.14|5.14| 5.14|       0.68|      3.4952|          5.14|2012-01-03|2012-01-03|12:22:00|12.0|          3|2012|\n",
      "|1325602440|5.26|5.26|5.26| 5.26|29.31939163|154.21999997|          5.26|2012-01-03|2012-01-03|12:54:00|12.0|          3|2012|\n",
      "|1325604720|5.29|5.29|5.29| 5.29|29.30245747|155.01000002|          5.29|2012-01-03|2012-01-03|13:32:00|13.0|          3|2012|\n",
      "|1325610600|5.29|5.29|5.29| 5.29|11.28544423|59.699999977|          5.29|2012-01-03|2012-01-03|15:10:00|15.0|          3|2012|\n",
      "|1325610840|5.14|5.14|5.14| 5.14|       0.02|      0.1028|          5.14|2012-01-03|2012-01-03|15:14:00|15.0|          3|2012|\n",
      "|1325611560|5.29|5.29|5.29| 5.29|       11.0|       58.19|          5.29|2012-01-03|2012-01-03|15:26:00|15.0|          3|2012|\n",
      "|1325611620|5.29|5.29|5.29| 5.29| 4.01081466|21.217209551|          5.29|2012-01-03|2012-01-03|15:27:00|15.0|          3|2012|\n",
      "|1325650620|4.93|4.93|4.93| 4.93|       2.32|     11.4376|          4.93|2012-01-04|2012-01-04|02:17:00| 2.0|          4|2012|\n",
      "|1325653500|4.93|4.93|4.93| 4.93|       9.68|     47.7224|          4.93|2012-01-04|2012-01-04|03:05:00| 3.0|          4|2012|\n",
      "|1325680860|5.19|5.19|5.19| 5.19|  2.6416185|13.710000015|          5.19|2012-01-04|2012-01-04|10:41:00|10.0|          4|2012|\n",
      "|1325681820|5.19|5.19|5.19| 5.19| 8.72447013|45.279999975|          5.19|2012-01-04|2012-01-04|10:57:00|10.0|          4|2012|\n",
      "+----------+----+----+----+-----+-----------+------------+--------------+----------+----------+--------+----+-----------+----+\n",
      "only showing top 20 rows\n",
      "\n"
     ]
    }
   ],
   "source": [
    "df_data_hora_ano.show()"
   ]
  },
  {
   "cell_type": "code",
   "execution_count": null,
   "id": "9ee0ad49",
   "metadata": {},
   "outputs": [],
   "source": []
  },
  {
   "cell_type": "markdown",
   "id": "96435197",
   "metadata": {},
   "source": [
    "# Conversão de DataFrame Spark para DataFrame Pandas"
   ]
  },
  {
   "cell_type": "code",
   "execution_count": 45,
   "id": "3bce8d90",
   "metadata": {
    "scrolled": false
   },
   "outputs": [
    {
     "name": "stdout",
     "output_type": "stream",
     "text": [
      "root\n",
      " |-- Timestamp: integer (nullable = true)\n",
      " |-- Open: double (nullable = true)\n",
      " |-- High: double (nullable = true)\n",
      " |-- Low: double (nullable = true)\n",
      " |-- Close: double (nullable = true)\n",
      " |-- VolBTC: double (nullable = true)\n",
      " |-- VolCurrency: double (nullable = true)\n",
      " |-- Weighted_Price: double (nullable = true)\n",
      " |-- dateTime: string (nullable = true)\n",
      "\n"
     ]
    }
   ],
   "source": [
    "df_bitcoin.printSchema()\n",
    "\n",
    "# Não faz sentido manter a variavel dia da semana e hora, por nao ter correlação\n",
    "# com a variavel alvo\n",
    "\n",
    "# Não faz sentindo deixar as variaveis Open, High, Low, Close. por ter multicolinearidade\n",
    "# vamos retirar 3 delas, para nao reforçar "
   ]
  },
  {
   "cell_type": "code",
   "execution_count": 49,
   "id": "68fe3c07",
   "metadata": {},
   "outputs": [],
   "source": [
    "# Prepara o vetor de atributos com as 3 variaveis julgadas mais uteis\n",
    "assembler = VectorAssembler(inputCols = ['Open', 'VolBTC', 'VolCurrency'], \n",
    "                            outputCol = \"features\")"
   ]
  },
  {
   "cell_type": "code",
   "execution_count": 50,
   "id": "ef18489b",
   "metadata": {},
   "outputs": [],
   "source": [
    "# Cria o dataframe do vetor de atributos\n",
    "df_assembled = assembler.transform(df_bitcoin)"
   ]
  },
  {
   "cell_type": "code",
   "execution_count": 51,
   "id": "9249a965",
   "metadata": {},
   "outputs": [
    {
     "name": "stdout",
     "output_type": "stream",
     "text": [
      "+----------+----+----+----+-----+-----------+------------+--------------+-------------------+------------------------------+\n",
      "|Timestamp |Open|High|Low |Close|VolBTC     |VolCurrency |Weighted_Price|dateTime           |features                      |\n",
      "+----------+----+----+----+-----+-----------+------------+--------------+-------------------+------------------------------+\n",
      "|1325317920|4.39|4.39|4.39|4.39 |0.45558087 |2.0000000193|4.39          |2011-12-31 05:52:00|[4.39,0.45558087,2.0000000193]|\n",
      "|1325346600|4.39|4.39|4.39|4.39 |48.0       |210.72      |4.39          |2011-12-31 13:50:00|[4.39,48.0,210.72]            |\n",
      "|1325350740|4.5 |4.57|4.5 |4.57 |37.86229723|171.38033753|4.5264114983  |2011-12-31 14:59:00|[4.5,37.86229723,171.38033753]|\n",
      "|1325350800|4.58|4.58|4.58|4.58 |9.0        |41.22       |4.58          |2011-12-31 15:00:00|[4.58,9.0,41.22]              |\n",
      "|1325391360|4.58|4.58|4.58|4.58 |1.502      |6.87916     |4.58          |2012-01-01 02:16:00|[4.58,1.502,6.87916]          |\n",
      "|1325431680|4.84|4.84|4.84|4.84 |10.0       |48.4        |4.84          |2012-01-01 13:28:00|[4.84,10.0,48.4]              |\n",
      "|1325457900|5.0 |5.0 |5.0 |5.0  |10.1       |50.5        |5.0           |2012-01-01 20:45:00|[5.0,10.1,50.5]               |\n",
      "|1325534640|5.0 |5.0 |5.0 |5.0  |19.048     |95.24       |5.0           |2012-01-02 18:04:00|[5.0,19.048,95.24]            |\n",
      "|1325591100|5.32|5.32|5.32|5.32 |2.41917293 |12.869999988|5.32          |2012-01-03 09:45:00|[5.32,2.41917293,12.869999988]|\n",
      "|1325600520|5.14|5.14|5.14|5.14 |0.68       |3.4952      |5.14          |2012-01-03 12:22:00|[5.14,0.68,3.4952]            |\n",
      "+----------+----+----+----+-----+-----------+------------+--------------+-------------------+------------------------------+\n",
      "only showing top 10 rows\n",
      "\n"
     ]
    }
   ],
   "source": [
    "# Visualiza os dados\n",
    "df_assembled.show(10, truncate = False)"
   ]
  },
  {
   "cell_type": "markdown",
   "id": "113d44c4",
   "metadata": {},
   "source": [
    "# Normalização dos Dados"
   ]
  },
  {
   "cell_type": "code",
   "execution_count": 52,
   "id": "44f93702",
   "metadata": {},
   "outputs": [],
   "source": [
    "# Divisão em dados de treino e teste\n",
    "dados_treino, dados_teste = df_assembled.randomSplit([.7,.3], seed = rnd_seed)"
   ]
  },
  {
   "cell_type": "code",
   "execution_count": 53,
   "id": "d14d9a58",
   "metadata": {},
   "outputs": [
    {
     "data": {
      "text/plain": [
       "pyspark.sql.dataframe.DataFrame"
      ]
     },
     "execution_count": 53,
     "metadata": {},
     "output_type": "execute_result"
    }
   ],
   "source": [
    "type(dados_treino)"
   ]
  },
  {
   "cell_type": "code",
   "execution_count": 54,
   "id": "b5abd605",
   "metadata": {},
   "outputs": [],
   "source": [
    "# Cria o Scaler (normalização dos dados)\n",
    "scaler = MinMaxScaler(inputCol = 'features', outputCol = 'scaled_features')"
   ]
  },
  {
   "cell_type": "code",
   "execution_count": 55,
   "id": "b9a1d980",
   "metadata": {},
   "outputs": [],
   "source": [
    "# Fit nos dados de treino\n",
    "scalerModel = scaler.fit(dados_treino)"
   ]
  },
  {
   "cell_type": "code",
   "execution_count": 59,
   "id": "a7b4d70a",
   "metadata": {},
   "outputs": [],
   "source": [
    "# Fit e transform nos dados de treino\n",
    "dados_treino_scaled = scalerModel.transform(dados_treino)"
   ]
  },
  {
   "cell_type": "code",
   "execution_count": 61,
   "id": "185838e5",
   "metadata": {},
   "outputs": [],
   "source": [
    "# Transform nos dados de teste\n",
    "dados_teste_scaled = scalerModel.transform(dados_teste)"
   ]
  },
  {
   "cell_type": "code",
   "execution_count": 64,
   "id": "b8bf75ca",
   "metadata": {},
   "outputs": [
    {
     "name": "stdout",
     "output_type": "stream",
     "text": [
      "+-------------------------------+-------------------------------------------------------------------+\n",
      "|features                       |scaled_features                                                    |\n",
      "+-------------------------------+-------------------------------------------------------------------+\n",
      "|[4.39,48.0,210.72]             |[9.557729822093386E-6,0.008199728766573702,1.51589789206087E-5]    |\n",
      "|[4.5,37.86229723,171.38033753] |[1.1339679449941311E-5,0.006467928495112392,1.2328924278777876E-5] |\n",
      "|[4.58,9.0,41.22]               |[1.263564281564889E-5,0.001537449143732569,2.9653241795154263E-6]  |\n",
      "|[4.84,10.0,48.4]               |[1.6847523754198516E-5,0.001708276826369521,3.4818459555688167E-6] |\n",
      "|[5.0,10.1,50.5]                |[1.9439450485613674E-5,0.0017253595946332162,3.63291778421953E-6]  |\n",
      "|[5.14,0.68,3.4952]             |[2.170738637560193E-5,1.1616282419312745E-4,2.5144107404760596E-7] |\n",
      "|[5.26,29.31939163,154.21999997]|[2.36513314241633E-5,0.00500856372847815,1.1094427338086107E-5]    |\n",
      "|[5.14,0.02,0.1028]             |[2.170738637560193E-5,3.4165536527390422E-6,7.3953257072825285E-9] |\n",
      "|[5.29,11.0,58.19]              |[2.4137317686303644E-5,0.0018791045090064732,4.1861284329452365E-6]|\n",
      "|[5.29,4.01081466,21.217209551] |[2.4137317686303644E-5,6.851581738541151E-4,1.526344117016641E-6]  |\n",
      "+-------------------------------+-------------------------------------------------------------------+\n",
      "only showing top 10 rows\n",
      "\n"
     ]
    }
   ],
   "source": [
    "dados_treino_scaled.select('features', 'scaled_features').show(10, truncate = False)"
   ]
  },
  {
   "cell_type": "code",
   "execution_count": 65,
   "id": "86295618",
   "metadata": {},
   "outputs": [
    {
     "data": {
      "text/plain": [
       "['Timestamp',\n",
       " 'Open',\n",
       " 'High',\n",
       " 'Low',\n",
       " 'Close',\n",
       " 'VolBTC',\n",
       " 'VolCurrency',\n",
       " 'Weighted_Price',\n",
       " 'dateTime',\n",
       " 'features',\n",
       " 'scaled_features']"
      ]
     },
     "execution_count": 65,
     "metadata": {},
     "output_type": "execute_result"
    }
   ],
   "source": [
    "dados_treino_scaled.columns"
   ]
  },
  {
   "cell_type": "code",
   "execution_count": null,
   "id": "26131d03",
   "metadata": {},
   "outputs": [],
   "source": []
  },
  {
   "cell_type": "code",
   "execution_count": null,
   "id": "f351b7b5",
   "metadata": {},
   "outputs": [],
   "source": []
  }
 ],
 "metadata": {
  "kernelspec": {
   "display_name": "Python 3 (ipykernel)",
   "language": "python",
   "name": "python3"
  },
  "language_info": {
   "codemirror_mode": {
    "name": "ipython",
    "version": 3
   },
   "file_extension": ".py",
   "mimetype": "text/x-python",
   "name": "python",
   "nbconvert_exporter": "python",
   "pygments_lexer": "ipython3",
   "version": "3.9.13"
  }
 },
 "nbformat": 4,
 "nbformat_minor": 5
}
