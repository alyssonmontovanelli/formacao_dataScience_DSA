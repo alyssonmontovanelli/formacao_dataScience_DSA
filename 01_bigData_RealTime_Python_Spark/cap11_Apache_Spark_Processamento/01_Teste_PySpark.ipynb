{
 "cells": [
  {
   "cell_type": "markdown",
   "id": "d41770e0",
   "metadata": {},
   "source": [
    "# Testando a instalação do PySpark"
   ]
  },
  {
   "cell_type": "code",
   "execution_count": 1,
   "id": "14b82a4c",
   "metadata": {},
   "outputs": [
    {
     "name": "stdout",
     "output_type": "stream",
     "text": [
      "Requirement already satisfied: findspark in c:\\users\\alyss\\anaconda3\\lib\\site-packages (2.0.1)\n"
     ]
    }
   ],
   "source": [
    "# Fazendo a integralização do PySpark com o jupyternotebook\n",
    "!pip install findspark"
   ]
  },
  {
   "cell_type": "code",
   "execution_count": 2,
   "id": "f69926e4",
   "metadata": {},
   "outputs": [],
   "source": [
    "import findspark\n",
    "findspark.init()"
   ]
  },
  {
   "cell_type": "code",
   "execution_count": 3,
   "id": "287fde9e",
   "metadata": {},
   "outputs": [],
   "source": [
    "import pyspark\n",
    "import random"
   ]
  },
  {
   "cell_type": "code",
   "execution_count": 4,
   "id": "f43ffdfe",
   "metadata": {},
   "outputs": [],
   "source": [
    "sc = pyspark.SparkContext(appName = \"TestePySpark\")"
   ]
  },
  {
   "cell_type": "code",
   "execution_count": 5,
   "id": "dbfdca08",
   "metadata": {},
   "outputs": [
    {
     "data": {
      "text/html": [
       "\n",
       "        <div>\n",
       "            <p><b>SparkContext</b></p>\n",
       "\n",
       "            <p><a href=\"http://Skylerfox:4040\">Spark UI</a></p>\n",
       "\n",
       "            <dl>\n",
       "              <dt>Version</dt>\n",
       "                <dd><code>v3.4.1</code></dd>\n",
       "              <dt>Master</dt>\n",
       "                <dd><code>local[*]</code></dd>\n",
       "              <dt>AppName</dt>\n",
       "                <dd><code>TestePySpark</code></dd>\n",
       "            </dl>\n",
       "        </div>\n",
       "        "
      ],
      "text/plain": [
       "<SparkContext master=local[*] appName=TestePySpark>"
      ]
     },
     "execution_count": 5,
     "metadata": {},
     "output_type": "execute_result"
    }
   ],
   "source": [
    "sc"
   ]
  },
  {
   "cell_type": "code",
   "execution_count": 61,
   "id": "0358f6f0",
   "metadata": {},
   "outputs": [],
   "source": [
    "numero_amostra = 1000000"
   ]
  },
  {
   "cell_type": "code",
   "execution_count": 76,
   "id": "852cda78",
   "metadata": {},
   "outputs": [],
   "source": [
    "# Função para gerar valor randomico\n",
    "def gera_numero(x):\n",
    "    x, y = random.random(), random.random()\n",
    "    return x*x + y*y < 1\n"
   ]
  },
  {
   "cell_type": "code",
   "execution_count": 77,
   "id": "d5a649a8",
   "metadata": {},
   "outputs": [],
   "source": [
    "# Função parallelize() executa paralização de operações\n",
    "contagem = sc.parallelize(range(0, numero_amostra)).filter(gera_numero).count()"
   ]
  },
  {
   "cell_type": "code",
   "execution_count": 78,
   "id": "510e9d74",
   "metadata": {},
   "outputs": [
    {
     "data": {
      "text/plain": [
       "785294"
      ]
     },
     "execution_count": 78,
     "metadata": {},
     "output_type": "execute_result"
    }
   ],
   "source": [
    "contagem"
   ]
  },
  {
   "cell_type": "code",
   "execution_count": 79,
   "id": "e9772d57",
   "metadata": {},
   "outputs": [],
   "source": [
    "valor_pi = 4 * contagem / numero_amostra"
   ]
  },
  {
   "cell_type": "code",
   "execution_count": 80,
   "id": "ab1bc86e",
   "metadata": {},
   "outputs": [
    {
     "data": {
      "text/plain": [
       "3.141176"
      ]
     },
     "execution_count": 80,
     "metadata": {},
     "output_type": "execute_result"
    }
   ],
   "source": [
    "valor_pi"
   ]
  },
  {
   "cell_type": "code",
   "execution_count": 81,
   "id": "13156315",
   "metadata": {},
   "outputs": [],
   "source": [
    "sc.stop()"
   ]
  },
  {
   "cell_type": "code",
   "execution_count": null,
   "id": "735c88c5",
   "metadata": {},
   "outputs": [],
   "source": []
  }
 ],
 "metadata": {
  "kernelspec": {
   "display_name": "Python 3 (ipykernel)",
   "language": "python",
   "name": "python3"
  },
  "language_info": {
   "codemirror_mode": {
    "name": "ipython",
    "version": 3
   },
   "file_extension": ".py",
   "mimetype": "text/x-python",
   "name": "python",
   "nbconvert_exporter": "python",
   "pygments_lexer": "ipython3",
   "version": "3.9.13"
  }
 },
 "nbformat": 4,
 "nbformat_minor": 5
}
