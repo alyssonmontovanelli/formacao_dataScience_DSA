{
 "cells": [
  {
   "cell_type": "code",
   "execution_count": 11,
   "id": "e953db23",
   "metadata": {},
   "outputs": [],
   "source": [
    "import numpy as np"
   ]
  },
  {
   "cell_type": "markdown",
   "id": "e2e2004f",
   "metadata": {},
   "source": [
    "## Transposição e Reshaping de Arrays"
   ]
  },
  {
   "cell_type": "code",
   "execution_count": 12,
   "id": "43aaa5a8",
   "metadata": {},
   "outputs": [],
   "source": [
    "array1 = np.array([[65,23,19], [41,87,10]])"
   ]
  },
  {
   "cell_type": "code",
   "execution_count": 13,
   "id": "60b09400",
   "metadata": {},
   "outputs": [
    {
     "data": {
      "text/plain": [
       "array([[65, 23, 19],\n",
       "       [41, 87, 10]])"
      ]
     },
     "execution_count": 13,
     "metadata": {},
     "output_type": "execute_result"
    }
   ],
   "source": [
    "array1"
   ]
  },
  {
   "cell_type": "code",
   "execution_count": 14,
   "id": "4ed6daee",
   "metadata": {},
   "outputs": [
    {
     "name": "stdout",
     "output_type": "stream",
     "text": [
      "[[65 41]\n",
      " [23 87]\n",
      " [19 10]]\n"
     ]
    }
   ],
   "source": [
    "print(array1.T) # Transposição de Arrays - invertendo a ordem"
   ]
  },
  {
   "cell_type": "code",
   "execution_count": 15,
   "id": "c7755630",
   "metadata": {},
   "outputs": [
    {
     "name": "stdout",
     "output_type": "stream",
     "text": [
      "[[65 41]\n",
      " [23 87]\n",
      " [19 10]]\n"
     ]
    }
   ],
   "source": [
    "print(np.transpose(array1))"
   ]
  },
  {
   "cell_type": "markdown",
   "id": "2f35e075",
   "metadata": {},
   "source": [
    "## Transformando Matrizes em Vetores"
   ]
  },
  {
   "cell_type": "code",
   "execution_count": 16,
   "id": "a2a8b939",
   "metadata": {},
   "outputs": [
    {
     "data": {
      "text/plain": [
       "array([[ 1,  2,  3,  4,  5,  6],\n",
       "       [ 7,  8,  9, 10, 11, 12]])"
      ]
     },
     "execution_count": 16,
     "metadata": {},
     "output_type": "execute_result"
    }
   ],
   "source": [
    "array3 =np.array([[1,2,3,4,5,6], [7,8,9,10,11,12]]); array3"
   ]
  },
  {
   "cell_type": "code",
   "execution_count": 18,
   "id": "a670cf31",
   "metadata": {},
   "outputs": [
    {
     "data": {
      "text/plain": [
       "array([ 1,  2,  3,  4,  5,  6,  7,  8,  9, 10, 11, 12])"
      ]
     },
     "execution_count": 18,
     "metadata": {},
     "output_type": "execute_result"
    }
   ],
   "source": [
    "array3.ravel()"
   ]
  },
  {
   "cell_type": "code",
   "execution_count": 21,
   "id": "9c2b8b52",
   "metadata": {},
   "outputs": [
    {
     "data": {
      "text/plain": [
       "array([[ 1,  7],\n",
       "       [ 2,  8],\n",
       "       [ 3,  9],\n",
       "       [ 4, 10],\n",
       "       [ 5, 11],\n",
       "       [ 6, 12]])"
      ]
     },
     "execution_count": 21,
     "metadata": {},
     "output_type": "execute_result"
    }
   ],
   "source": [
    "array3.T"
   ]
  },
  {
   "cell_type": "markdown",
   "id": "fc4b8d22",
   "metadata": {},
   "source": [
    "## Operadores Lógicos"
   ]
  },
  {
   "cell_type": "code",
   "execution_count": 41,
   "id": "a2c070ad",
   "metadata": {},
   "outputs": [],
   "source": [
    "np.random.seed(100)\n",
    "array4 = np.random.randint(1,10, size = (4,4))"
   ]
  },
  {
   "cell_type": "code",
   "execution_count": 42,
   "id": "e61658e1",
   "metadata": {},
   "outputs": [
    {
     "data": {
      "text/plain": [
       "array([[9, 9, 4, 8],\n",
       "       [8, 1, 5, 3],\n",
       "       [6, 3, 3, 3],\n",
       "       [2, 1, 9, 5]])"
      ]
     },
     "execution_count": 42,
     "metadata": {},
     "output_type": "execute_result"
    }
   ],
   "source": [
    "array4"
   ]
  },
  {
   "cell_type": "code",
   "execution_count": 43,
   "id": "69beb271",
   "metadata": {},
   "outputs": [
    {
     "data": {
      "text/plain": [
       "False"
      ]
     },
     "execution_count": 43,
     "metadata": {},
     "output_type": "execute_result"
    }
   ],
   "source": [
    "np.any((array4 % 7) == 0) # Verifica se existe algum"
   ]
  },
  {
   "cell_type": "code",
   "execution_count": 44,
   "id": "adffd4d4",
   "metadata": {},
   "outputs": [
    {
     "data": {
      "text/plain": [
       "False"
      ]
     },
     "execution_count": 44,
     "metadata": {},
     "output_type": "execute_result"
    }
   ],
   "source": [
    "np.all(array4 < 7) # verifica se todos correspondem"
   ]
  },
  {
   "cell_type": "code",
   "execution_count": 54,
   "id": "2e04ed98",
   "metadata": {},
   "outputs": [
    {
     "data": {
      "text/plain": [
       "(array([2], dtype=int64),)"
      ]
     },
     "execution_count": 54,
     "metadata": {},
     "output_type": "execute_result"
    }
   ],
   "source": [
    "# Retorne a linha onde o elemento de id 1 na coluna seja maior que 2 e menor que 9\n",
    "np.where(np.logical_and(array4[:,1] > 2, array4[:,1] < 9))"
   ]
  },
  {
   "cell_type": "code",
   "execution_count": 49,
   "id": "0b6aa8dc",
   "metadata": {},
   "outputs": [
    {
     "data": {
      "text/plain": [
       "array([6, 3, 3, 3])"
      ]
     },
     "execution_count": 49,
     "metadata": {},
     "output_type": "execute_result"
    }
   ],
   "source": [
    "array4[2]"
   ]
  },
  {
   "cell_type": "markdown",
   "id": "6abfb6b8",
   "metadata": {},
   "source": [
    "## RESHAPING  e Ordenação de Arrays"
   ]
  },
  {
   "cell_type": "code",
   "execution_count": 57,
   "id": "80195b17",
   "metadata": {},
   "outputs": [
    {
     "data": {
      "text/plain": [
       "array([ 1,  2,  3,  4,  5,  6,  7,  8,  9, 10, 11, 12, 13, 14, 15])"
      ]
     },
     "execution_count": 57,
     "metadata": {},
     "output_type": "execute_result"
    }
   ],
   "source": [
    "array5 = np.arange(1,16); array5"
   ]
  },
  {
   "cell_type": "code",
   "execution_count": 58,
   "id": "472985e1",
   "metadata": {},
   "outputs": [
    {
     "data": {
      "text/plain": [
       "(15,)"
      ]
     },
     "execution_count": 58,
     "metadata": {},
     "output_type": "execute_result"
    }
   ],
   "source": [
    "array5.shape"
   ]
  },
  {
   "cell_type": "code",
   "execution_count": 59,
   "id": "fd362f4b",
   "metadata": {},
   "outputs": [
    {
     "data": {
      "text/plain": [
       "array([[ 1,  2,  3,  4,  5],\n",
       "       [ 6,  7,  8,  9, 10],\n",
       "       [11, 12, 13, 14, 15]])"
      ]
     },
     "execution_count": 59,
     "metadata": {},
     "output_type": "execute_result"
    }
   ],
   "source": [
    "array5.reshape(3,5)"
   ]
  },
  {
   "cell_type": "code",
   "execution_count": 60,
   "id": "981d9dbd",
   "metadata": {},
   "outputs": [
    {
     "name": "stdout",
     "output_type": "stream",
     "text": [
      "[[ 3  2]\n",
      " [10 -1]]\n"
     ]
    }
   ],
   "source": [
    "array6 = np.array([[3,2], [10,-1]]); print(array6)"
   ]
  },
  {
   "cell_type": "code",
   "execution_count": 62,
   "id": "25504e83",
   "metadata": {},
   "outputs": [
    {
     "data": {
      "text/plain": [
       "array([[ 2,  3],\n",
       "       [-1, 10]])"
      ]
     },
     "execution_count": 62,
     "metadata": {},
     "output_type": "execute_result"
    }
   ],
   "source": [
    "# Ordenação por linha 'axis = 1'\n",
    "array6.sort(axis = 1); array6"
   ]
  },
  {
   "cell_type": "code",
   "execution_count": 65,
   "id": "096dda5d",
   "metadata": {},
   "outputs": [
    {
     "name": "stdout",
     "output_type": "stream",
     "text": [
      "[[ 3  2]\n",
      " [10 -1]]\n"
     ]
    }
   ],
   "source": [
    "array8 = np.array([[3,2],[10,-1]]); print(array8)"
   ]
  },
  {
   "cell_type": "code",
   "execution_count": 66,
   "id": "79061eae",
   "metadata": {},
   "outputs": [
    {
     "data": {
      "text/plain": [
       "array([[ 3, -1],\n",
       "       [10,  2]])"
      ]
     },
     "execution_count": 66,
     "metadata": {},
     "output_type": "execute_result"
    }
   ],
   "source": [
    "array8.sort(axis = 0); array8"
   ]
  },
  {
   "cell_type": "code",
   "execution_count": 67,
   "id": "4520f9be",
   "metadata": {},
   "outputs": [
    {
     "name": "stdout",
     "output_type": "stream",
     "text": [
      "oi\n"
     ]
    }
   ],
   "source": []
  },
  {
   "cell_type": "code",
   "execution_count": null,
   "id": "b9944d6e",
   "metadata": {},
   "outputs": [],
   "source": []
  }
 ],
 "metadata": {
  "kernelspec": {
   "display_name": "Python 3 (ipykernel)",
   "language": "python",
   "name": "python3"
  },
  "language_info": {
   "codemirror_mode": {
    "name": "ipython",
    "version": 3
   },
   "file_extension": ".py",
   "mimetype": "text/x-python",
   "name": "python",
   "nbconvert_exporter": "python",
   "pygments_lexer": "ipython3",
   "version": "3.9.13"
  }
 },
 "nbformat": 4,
 "nbformat_minor": 5
}
