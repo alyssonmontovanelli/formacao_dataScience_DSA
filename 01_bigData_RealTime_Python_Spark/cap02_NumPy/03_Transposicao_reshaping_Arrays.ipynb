{
 "cells": [
  {
   "cell_type": "code",
   "execution_count": 1,
   "id": "2471a739",
   "metadata": {},
   "outputs": [],
   "source": [
    "import numpy as np"
   ]
  },
  {
   "cell_type": "markdown",
   "id": "949f5ec2",
   "metadata": {},
   "source": [
    "## Transposição e Reshaping de Arrays"
   ]
  },
  {
   "cell_type": "code",
   "execution_count": 2,
   "id": "58b4e808",
   "metadata": {},
   "outputs": [],
   "source": [
    "array1 = np.array([[65,23,19], [41,87,10]])"
   ]
  },
  {
   "cell_type": "code",
   "execution_count": 3,
   "id": "3a5a6d69",
   "metadata": {},
   "outputs": [
    {
     "data": {
      "text/plain": [
       "array([[65, 23, 19],\n",
       "       [41, 87, 10]])"
      ]
     },
     "execution_count": 3,
     "metadata": {},
     "output_type": "execute_result"
    }
   ],
   "source": [
    "array1"
   ]
  },
  {
   "cell_type": "code",
   "execution_count": 6,
   "id": "3a3cf24b",
   "metadata": {},
   "outputs": [
    {
     "name": "stdout",
     "output_type": "stream",
     "text": [
      "[[65 41]\n",
      " [23 87]\n",
      " [19 10]]\n"
     ]
    }
   ],
   "source": [
    "print(array1.T) # Transposição de Arrays - invertendo a ordem"
   ]
  },
  {
   "cell_type": "code",
   "execution_count": 8,
   "id": "14d84830",
   "metadata": {},
   "outputs": [
    {
     "name": "stdout",
     "output_type": "stream",
     "text": [
      "[[65 41]\n",
      " [23 87]\n",
      " [19 10]]\n"
     ]
    }
   ],
   "source": [
    "print(np.transpose(array1))"
   ]
  },
  {
   "cell_type": "markdown",
   "id": "90a8762d",
   "metadata": {},
   "source": [
    "## Broadcasting "
   ]
  },
  {
   "cell_type": "code",
   "execution_count": null,
   "id": "583c117c",
   "metadata": {},
   "outputs": [],
   "source": []
  }
 ],
 "metadata": {
  "kernelspec": {
   "display_name": "Python 3 (ipykernel)",
   "language": "python",
   "name": "python3"
  },
  "language_info": {
   "codemirror_mode": {
    "name": "ipython",
    "version": 3
   },
   "file_extension": ".py",
   "mimetype": "text/x-python",
   "name": "python",
   "nbconvert_exporter": "python",
   "pygments_lexer": "ipython3",
   "version": "3.9.13"
  }
 },
 "nbformat": 4,
 "nbformat_minor": 5
}
