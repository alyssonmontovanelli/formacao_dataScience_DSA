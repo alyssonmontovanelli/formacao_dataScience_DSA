{
 "cells": [
  {
   "cell_type": "markdown",
   "metadata": {},
   "source": [
    "# Prevendo Nova Taxa De Inflação com Séries Temporais \n",
    "\n",
    "### Inteligência Artificial em Macroeconomia Para Prever a Taxa de Inflação"
   ]
  },
  {
   "cell_type": "markdown",
   "metadata": {},
   "source": [
    "Como solução para este Lab usaremos um modelo de IA com arquitetura LSTM (Long Short-Term Memory) - LSTM é a melhor arquitetura para criação de modelos de IA que utilizam series temporais"
   ]
  },
  {
   "cell_type": "code",
   "execution_count": 9,
   "metadata": {},
   "outputs": [],
   "source": [
    "import pandas as pd\n",
    "import numpy as np\n",
    "import tensorflow as tf # modelo de deep learn\n",
    "from sklearn.preprocessing import MinMaxScaler # normalizar os dados\n",
    "from sklearn.metrics import mean_squared_error # calcular o erro\n",
    "import matplotlib.pyplot as plt\n",
    "import seaborn as sns"
   ]
  },
  {
   "cell_type": "code",
   "execution_count": 3,
   "metadata": {},
   "outputs": [],
   "source": [
    "# Carregamento dos dados\n",
    "dados = pd.read_csv(\"dataset.csv\")"
   ]
  },
  {
   "cell_type": "code",
   "execution_count": 5,
   "metadata": {},
   "outputs": [
    {
     "data": {
      "text/html": [
       "<div>\n",
       "<style scoped>\n",
       "    .dataframe tbody tr th:only-of-type {\n",
       "        vertical-align: middle;\n",
       "    }\n",
       "\n",
       "    .dataframe tbody tr th {\n",
       "        vertical-align: top;\n",
       "    }\n",
       "\n",
       "    .dataframe thead th {\n",
       "        text-align: right;\n",
       "    }\n",
       "</style>\n",
       "<table border=\"1\" class=\"dataframe\">\n",
       "  <thead>\n",
       "    <tr style=\"text-align: right;\">\n",
       "      <th></th>\n",
       "      <th>ano</th>\n",
       "      <th>taxa_juros</th>\n",
       "      <th>taxa_desemprego</th>\n",
       "      <th>PIB</th>\n",
       "      <th>inflacao</th>\n",
       "    </tr>\n",
       "  </thead>\n",
       "  <tbody>\n",
       "    <tr>\n",
       "      <th>0</th>\n",
       "      <td>1970</td>\n",
       "      <td>11.43</td>\n",
       "      <td>5.63</td>\n",
       "      <td>1980.10</td>\n",
       "      <td>0.15</td>\n",
       "    </tr>\n",
       "    <tr>\n",
       "      <th>1</th>\n",
       "      <td>1971</td>\n",
       "      <td>14.59</td>\n",
       "      <td>7.34</td>\n",
       "      <td>1930.63</td>\n",
       "      <td>0.39</td>\n",
       "    </tr>\n",
       "    <tr>\n",
       "      <th>2</th>\n",
       "      <td>1972</td>\n",
       "      <td>12.45</td>\n",
       "      <td>6.58</td>\n",
       "      <td>1057.70</td>\n",
       "      <td>2.46</td>\n",
       "    </tr>\n",
       "    <tr>\n",
       "      <th>3</th>\n",
       "      <td>1973</td>\n",
       "      <td>11.35</td>\n",
       "      <td>14.45</td>\n",
       "      <td>2881.87</td>\n",
       "      <td>0.73</td>\n",
       "    </tr>\n",
       "    <tr>\n",
       "      <th>4</th>\n",
       "      <td>1974</td>\n",
       "      <td>9.05</td>\n",
       "      <td>8.05</td>\n",
       "      <td>1617.81</td>\n",
       "      <td>1.48</td>\n",
       "    </tr>\n",
       "  </tbody>\n",
       "</table>\n",
       "</div>"
      ],
      "text/plain": [
       "    ano  taxa_juros  taxa_desemprego      PIB  inflacao\n",
       "0  1970       11.43             5.63  1980.10      0.15\n",
       "1  1971       14.59             7.34  1930.63      0.39\n",
       "2  1972       12.45             6.58  1057.70      2.46\n",
       "3  1973       11.35            14.45  2881.87      0.73\n",
       "4  1974        9.05             8.05  1617.81      1.48"
      ]
     },
     "execution_count": 5,
     "metadata": {},
     "output_type": "execute_result"
    }
   ],
   "source": [
    "dados.head()"
   ]
  },
  {
   "cell_type": "code",
   "execution_count": 6,
   "metadata": {},
   "outputs": [
    {
     "data": {
      "text/plain": [
       "Index(['ano', 'taxa_juros', 'taxa_desemprego', 'PIB', 'inflacao'], dtype='object')"
      ]
     },
     "execution_count": 6,
     "metadata": {},
     "output_type": "execute_result"
    }
   ],
   "source": [
    "dados.columns"
   ]
  },
  {
   "cell_type": "code",
   "execution_count": 7,
   "metadata": {},
   "outputs": [
    {
     "name": "stdout",
     "output_type": "stream",
     "text": [
      "<class 'pandas.core.frame.DataFrame'>\n",
      "RangeIndex: 54 entries, 0 to 53\n",
      "Data columns (total 5 columns):\n",
      " #   Column           Non-Null Count  Dtype  \n",
      "---  ------           --------------  -----  \n",
      " 0   ano              54 non-null     int64  \n",
      " 1   taxa_juros       54 non-null     float64\n",
      " 2   taxa_desemprego  54 non-null     float64\n",
      " 3   PIB              54 non-null     float64\n",
      " 4   inflacao         54 non-null     float64\n",
      "dtypes: float64(4), int64(1)\n",
      "memory usage: 2.2 KB\n"
     ]
    }
   ],
   "source": [
    "dados.info()"
   ]
  },
  {
   "cell_type": "code",
   "execution_count": 8,
   "metadata": {},
   "outputs": [
    {
     "data": {
      "text/plain": [
       "(54, 5)"
      ]
     },
     "execution_count": 8,
     "metadata": {},
     "output_type": "execute_result"
    }
   ],
   "source": [
    "dados.shape"
   ]
  },
  {
   "cell_type": "code",
   "execution_count": 10,
   "metadata": {},
   "outputs": [],
   "source": [
    "# Definindo nossa série temporal\n",
    "\n",
    "inflacao = dados['inflacao'].values.reshape(-1, 1)"
   ]
  },
  {
   "cell_type": "code",
   "execution_count": 11,
   "metadata": {},
   "outputs": [
    {
     "data": {
      "text/plain": [
       "array([[ 0.15],\n",
       "       [ 0.39],\n",
       "       [ 2.46],\n",
       "       [ 0.73],\n",
       "       [ 1.48],\n",
       "       [ 1.12],\n",
       "       [ 0.41],\n",
       "       [ 0.48],\n",
       "       [ 1.15],\n",
       "       [ 0.31],\n",
       "       [ 0.58],\n",
       "       [ 0.23],\n",
       "       [ 0.57],\n",
       "       [ 2.79],\n",
       "       [ 0.43],\n",
       "       [ 2.9 ],\n",
       "       [-0.2 ],\n",
       "       [ 1.8 ],\n",
       "       [ 0.  ],\n",
       "       [ 0.3 ],\n",
       "       [ 1.72],\n",
       "       [ 1.1 ],\n",
       "       [ 2.26],\n",
       "       [ 0.86],\n",
       "       [ 2.6 ],\n",
       "       [-0.17],\n",
       "       [-0.49],\n",
       "       [ 2.6 ],\n",
       "       [ 0.38],\n",
       "       [-1.  ],\n",
       "       [ 2.19],\n",
       "       [ 1.84],\n",
       "       [ 0.33],\n",
       "       [-0.38],\n",
       "       [-2.4 ],\n",
       "       [ 2.16],\n",
       "       [ 2.77],\n",
       "       [-2.45],\n",
       "       [ 0.82],\n",
       "       [ 0.64],\n",
       "       [ 1.3 ],\n",
       "       [ 0.34],\n",
       "       [ 0.93],\n",
       "       [ 0.53],\n",
       "       [ 0.85],\n",
       "       [ 0.5 ],\n",
       "       [ 0.66],\n",
       "       [ 0.98],\n",
       "       [ 0.97],\n",
       "       [ 1.63],\n",
       "       [ 1.39],\n",
       "       [ 1.4 ],\n",
       "       [ 1.17],\n",
       "       [ 1.27]])"
      ]
     },
     "execution_count": 11,
     "metadata": {},
     "output_type": "execute_result"
    }
   ],
   "source": [
    "inflacao"
   ]
  },
  {
   "cell_type": "code",
   "execution_count": 12,
   "metadata": {},
   "outputs": [],
   "source": [
    "# Função para criar o dataset para o modelo LSTM com look_back\n",
    "# O parâmetro look back define o numero de passos no tempo que o modelo usará para fazer cada previsõa\n",
    "# a ideia de \"veja os ultimos 3 dados e preveja o 4\"\n",
    "\n",
    "def func_cria_dataset(data, look_back = 1):\n",
    "   \n",
    "   # Inicializa duas listas vazias, X e Y, que conterão as sequências de entrada e saída\n",
    "   X, Y = [], []\n",
    "\n",
    "   # Itera pelo conjunto de dados menos o valor de look_back, Isso é feiro para evitar índices fora dos limites do array\n",
    "   for i in range(len(data) - look_back):\n",
    "      \n",
    "      # Coleta uma sequência de dados de tamanho look_back começando no índice i\n",
    "      a = data[i:(i + look_back), 0]\n",
    "\n",
    "      # Adiciona a sequência à lista X\n",
    "      X.append(a)\n",
    "\n",
    "      # Adiciona o valor imediatamente após a sequência de look_back à lista Y. Esse valor será o target.\n",
    "      Y.append(data[i + look_back, 0])\n",
    "\n",
    "   # Converte X e Y para arrays numpy para compatibilidade com a maioria das bibliotecas de machine learninog\n",
    "   return np.array(X), np.array(Y)"
   ]
  },
  {
   "cell_type": "code",
   "execution_count": 13,
   "metadata": {},
   "outputs": [],
   "source": [
    "# Dividimos os dados em treinamento e teste (respeitando a ordem cronológica dos dados)\n",
    "\n",
    "indice = int(len(inflacao) * 0.8)\n",
    "dados_treino, dados_teste = inflacao[0:indice, :], inflacao[indice:len(inflacao), :] "
   ]
  },
  {
   "cell_type": "code",
   "execution_count": 16,
   "metadata": {},
   "outputs": [
    {
     "data": {
      "text/plain": [
       "(43, 11)"
      ]
     },
     "execution_count": 16,
     "metadata": {},
     "output_type": "execute_result"
    }
   ],
   "source": [
    "len(dados_treino), len(dados_teste)"
   ]
  },
  {
   "cell_type": "code",
   "execution_count": 17,
   "metadata": {},
   "outputs": [],
   "source": [
    "# Normaliza os dados (Requerimento para redes neurais)\n",
    "\n",
    "scaler = MinMaxScaler(feature_range = (0, 1))"
   ]
  },
  {
   "cell_type": "code",
   "execution_count": 20,
   "metadata": {},
   "outputs": [],
   "source": [
    "# Treina e aplica o sclaer emt reino e somente aplica em teste\n",
    "\n",
    "dados_treino_norm = scaler.fit_transform(dados_treino)\n",
    "daods_teste_norm = scaler.transform(dados_teste)"
   ]
  },
  {
   "cell_type": "code",
   "execution_count": 32,
   "metadata": {},
   "outputs": [],
   "source": [
    "#  Criamos os datasets para o modelo LSTM\n",
    "\n",
    "look_back = 3\n",
    "X_treino, y_treino = func_cria_dataset(dados_treino_norm, look_back)\n",
    "X_teste, y_teste = func_cria_dataset(daods_teste_norm, look_back)"
   ]
  },
  {
   "cell_type": "code",
   "execution_count": 33,
   "metadata": {},
   "outputs": [
    {
     "data": {
      "text/plain": [
       "array([[0.48598131, 0.53084112, 0.91775701],\n",
       "       [0.53084112, 0.91775701, 0.59439252],\n",
       "       [0.91775701, 0.59439252, 0.73457944],\n",
       "       [0.59439252, 0.73457944, 0.66728972],\n",
       "       [0.73457944, 0.66728972, 0.53457944],\n",
       "       [0.66728972, 0.53457944, 0.54766355],\n",
       "       [0.53457944, 0.54766355, 0.6728972 ],\n",
       "       [0.54766355, 0.6728972 , 0.51588785],\n",
       "       [0.6728972 , 0.51588785, 0.56635514],\n",
       "       [0.51588785, 0.56635514, 0.50093458],\n",
       "       [0.56635514, 0.50093458, 0.56448598],\n",
       "       [0.50093458, 0.56448598, 0.97943925],\n",
       "       [0.56448598, 0.97943925, 0.53831776],\n",
       "       [0.97943925, 0.53831776, 1.        ],\n",
       "       [0.53831776, 1.        , 0.42056075],\n",
       "       [1.        , 0.42056075, 0.79439252],\n",
       "       [0.42056075, 0.79439252, 0.45794393],\n",
       "       [0.79439252, 0.45794393, 0.51401869],\n",
       "       [0.45794393, 0.51401869, 0.77943925],\n",
       "       [0.51401869, 0.77943925, 0.6635514 ],\n",
       "       [0.77943925, 0.6635514 , 0.88037383],\n",
       "       [0.6635514 , 0.88037383, 0.61869159],\n",
       "       [0.88037383, 0.61869159, 0.94392523],\n",
       "       [0.61869159, 0.94392523, 0.42616822],\n",
       "       [0.94392523, 0.42616822, 0.36635514],\n",
       "       [0.42616822, 0.36635514, 0.94392523],\n",
       "       [0.36635514, 0.94392523, 0.52897196],\n",
       "       [0.94392523, 0.52897196, 0.27102804],\n",
       "       [0.52897196, 0.27102804, 0.86728972],\n",
       "       [0.27102804, 0.86728972, 0.80186916],\n",
       "       [0.86728972, 0.80186916, 0.51962617],\n",
       "       [0.80186916, 0.51962617, 0.38691589],\n",
       "       [0.51962617, 0.38691589, 0.00934579],\n",
       "       [0.38691589, 0.00934579, 0.86168224],\n",
       "       [0.00934579, 0.86168224, 0.97570093],\n",
       "       [0.86168224, 0.97570093, 0.        ],\n",
       "       [0.97570093, 0.        , 0.61121495],\n",
       "       [0.        , 0.61121495, 0.57757009],\n",
       "       [0.61121495, 0.57757009, 0.70093458],\n",
       "       [0.57757009, 0.70093458, 0.52149533]])"
      ]
     },
     "execution_count": 33,
     "metadata": {},
     "output_type": "execute_result"
    }
   ],
   "source": [
    "X_treino"
   ]
  },
  {
   "cell_type": "code",
   "execution_count": 34,
   "metadata": {},
   "outputs": [
    {
     "data": {
      "text/plain": [
       "array([0.59439252, 0.73457944, 0.66728972, 0.53457944, 0.54766355,\n",
       "       0.6728972 , 0.51588785, 0.56635514, 0.50093458, 0.56448598,\n",
       "       0.97943925, 0.53831776, 1.        , 0.42056075, 0.79439252,\n",
       "       0.45794393, 0.51401869, 0.77943925, 0.6635514 , 0.88037383,\n",
       "       0.61869159, 0.94392523, 0.42616822, 0.36635514, 0.94392523,\n",
       "       0.52897196, 0.27102804, 0.86728972, 0.80186916, 0.51962617,\n",
       "       0.38691589, 0.00934579, 0.86168224, 0.97570093, 0.        ,\n",
       "       0.61121495, 0.57757009, 0.70093458, 0.52149533, 0.6317757 ])"
      ]
     },
     "execution_count": 34,
     "metadata": {},
     "output_type": "execute_result"
    }
   ],
   "source": [
    "y_treino"
   ]
  },
  {
   "cell_type": "code",
   "execution_count": 35,
   "metadata": {},
   "outputs": [],
   "source": [
    "# Reshape dos dados para [samples, time steps, features] - Requerimento para o modelo LSTM\n",
    "\n",
    "X_treino = np.reshape(X_treino, (X_treino.shape[0], X_treino.shape[1], 1))\n",
    "X_teste = np.reshape(X_teste, (X_teste.shape[0], X_teste.shape[1], 1))"
   ]
  },
  {
   "cell_type": "code",
   "execution_count": 39,
   "metadata": {},
   "outputs": [
    {
     "data": {
      "text/plain": [
       "array([[[0.48598131],\n",
       "        [0.53084112],\n",
       "        [0.91775701]],\n",
       "\n",
       "       [[0.53084112],\n",
       "        [0.91775701],\n",
       "        [0.59439252]]])"
      ]
     },
     "execution_count": 39,
     "metadata": {},
     "output_type": "execute_result"
    }
   ],
   "source": [
    "X_treino[:2]"
   ]
  },
  {
   "cell_type": "code",
   "execution_count": 38,
   "metadata": {},
   "outputs": [
    {
     "data": {
      "text/plain": [
       "array([[[0.55700935],\n",
       "        [0.61682243],\n",
       "        [0.55140187]],\n",
       "\n",
       "       [[0.61682243],\n",
       "        [0.55140187],\n",
       "        [0.58130841]]])"
      ]
     },
     "execution_count": 38,
     "metadata": {},
     "output_type": "execute_result"
    }
   ],
   "source": [
    "X_teste[:2]"
   ]
  },
  {
   "cell_type": "markdown",
   "metadata": {},
   "source": [
    "## <font color = \"red\"> Construção do Modelo LSTM"
   ]
  },
  {
   "cell_type": "code",
   "execution_count": null,
   "metadata": {},
   "outputs": [],
   "source": [
    "# 50 neurônios artificais\n",
    "\n",
    "modelo = tf.keras.models.Sequential([tf.keras.layers.LSTM(50, input_shape = (look_back, 1)),\n",
    "                                     tf.keras.layers.Dense(1)])"
   ]
  },
  {
   "cell_type": "code",
   "execution_count": null,
   "metadata": {},
   "outputs": [],
   "source": [
    "# Compila o modelo\n",
    "# Nesta etapa, aplica o algorítmo de otimização que aplica o back propagation, no caso foi o \"adam\"\n",
    "# função de erro \n",
    "modelo.compile(optimizer = 'adam', loss = 'mean_squared_error')"
   ]
  },
  {
   "cell_type": "code",
   "execution_count": null,
   "metadata": {},
   "outputs": [
    {
     "name": "stdout",
     "output_type": "stream",
     "text": [
      "Epoch 1/50\n",
      "40/40 [==============================] - 2s 3ms/step - loss: 0.2854\n",
      "Epoch 2/50\n",
      "40/40 [==============================] - 0s 3ms/step - loss: 0.0759\n",
      "Epoch 3/50\n",
      "40/40 [==============================] - 0s 2ms/step - loss: 0.0631\n",
      "Epoch 4/50\n",
      "40/40 [==============================] - 0s 2ms/step - loss: 0.0622\n",
      "Epoch 5/50\n",
      "40/40 [==============================] - 0s 3ms/step - loss: 0.0615\n",
      "Epoch 6/50\n",
      "40/40 [==============================] - 0s 2ms/step - loss: 0.0613\n",
      "Epoch 7/50\n",
      "40/40 [==============================] - 0s 2ms/step - loss: 0.0598\n",
      "Epoch 8/50\n",
      "40/40 [==============================] - 0s 2ms/step - loss: 0.0598\n",
      "Epoch 9/50\n",
      "40/40 [==============================] - 0s 2ms/step - loss: 0.0592\n",
      "Epoch 10/50\n",
      "40/40 [==============================] - 0s 2ms/step - loss: 0.0602\n",
      "Epoch 11/50\n",
      "40/40 [==============================] - 0s 3ms/step - loss: 0.0581\n",
      "Epoch 12/50\n",
      "40/40 [==============================] - 0s 2ms/step - loss: 0.0616\n",
      "Epoch 13/50\n",
      "40/40 [==============================] - 0s 2ms/step - loss: 0.0572\n",
      "Epoch 14/50\n",
      "40/40 [==============================] - 0s 2ms/step - loss: 0.0584\n",
      "Epoch 15/50\n",
      "40/40 [==============================] - 0s 2ms/step - loss: 0.0574\n",
      "Epoch 16/50\n",
      "40/40 [==============================] - 0s 2ms/step - loss: 0.0564\n",
      "Epoch 17/50\n",
      "40/40 [==============================] - 0s 2ms/step - loss: 0.0588\n",
      "Epoch 18/50\n",
      "40/40 [==============================] - 0s 3ms/step - loss: 0.0637\n",
      "Epoch 19/50\n",
      "40/40 [==============================] - 0s 3ms/step - loss: 0.0544\n",
      "Epoch 20/50\n",
      "40/40 [==============================] - 0s 3ms/step - loss: 0.0549\n",
      "Epoch 21/50\n",
      "40/40 [==============================] - 0s 3ms/step - loss: 0.0568\n",
      "Epoch 22/50\n",
      "40/40 [==============================] - 0s 4ms/step - loss: 0.0575\n",
      "Epoch 23/50\n",
      "40/40 [==============================] - 0s 2ms/step - loss: 0.0595\n",
      "Epoch 24/50\n",
      "40/40 [==============================] - 0s 2ms/step - loss: 0.0542\n",
      "Epoch 25/50\n",
      "40/40 [==============================] - 0s 2ms/step - loss: 0.0566\n",
      "Epoch 26/50\n",
      "40/40 [==============================] - 0s 2ms/step - loss: 0.0549\n",
      "Epoch 27/50\n",
      "40/40 [==============================] - 0s 2ms/step - loss: 0.0551\n",
      "Epoch 28/50\n",
      "40/40 [==============================] - 0s 2ms/step - loss: 0.0522\n",
      "Epoch 29/50\n",
      "40/40 [==============================] - 0s 2ms/step - loss: 0.0559\n",
      "Epoch 30/50\n",
      "40/40 [==============================] - 0s 2ms/step - loss: 0.0538\n",
      "Epoch 31/50\n",
      "40/40 [==============================] - 0s 2ms/step - loss: 0.0572\n",
      "Epoch 32/50\n",
      "40/40 [==============================] - 0s 2ms/step - loss: 0.0544\n",
      "Epoch 33/50\n",
      "40/40 [==============================] - 0s 2ms/step - loss: 0.0550\n",
      "Epoch 34/50\n",
      "40/40 [==============================] - 0s 2ms/step - loss: 0.0535\n",
      "Epoch 35/50\n",
      "40/40 [==============================] - 0s 2ms/step - loss: 0.0569\n",
      "Epoch 36/50\n",
      "40/40 [==============================] - 0s 2ms/step - loss: 0.0554\n",
      "Epoch 37/50\n",
      "40/40 [==============================] - 0s 2ms/step - loss: 0.0520\n",
      "Epoch 38/50\n",
      "40/40 [==============================] - 0s 2ms/step - loss: 0.0533\n",
      "Epoch 39/50\n",
      "40/40 [==============================] - 0s 2ms/step - loss: 0.0510\n",
      "Epoch 40/50\n",
      "40/40 [==============================] - 0s 2ms/step - loss: 0.0551\n",
      "Epoch 41/50\n",
      "40/40 [==============================] - 0s 3ms/step - loss: 0.0546\n",
      "Epoch 42/50\n",
      "40/40 [==============================] - 0s 3ms/step - loss: 0.0532\n",
      "Epoch 43/50\n",
      "40/40 [==============================] - 0s 3ms/step - loss: 0.0518\n",
      "Epoch 44/50\n",
      "40/40 [==============================] - 0s 4ms/step - loss: 0.0513\n",
      "Epoch 45/50\n",
      "40/40 [==============================] - 0s 3ms/step - loss: 0.0543\n",
      "Epoch 46/50\n",
      "40/40 [==============================] - 0s 3ms/step - loss: 0.0526\n",
      "Epoch 47/50\n",
      "40/40 [==============================] - 0s 2ms/step - loss: 0.0505\n",
      "Epoch 48/50\n",
      "40/40 [==============================] - 0s 3ms/step - loss: 0.0530\n",
      "Epoch 49/50\n",
      "40/40 [==============================] - 0s 3ms/step - loss: 0.0497\n",
      "Epoch 50/50\n",
      "40/40 [==============================] - 0s 3ms/step - loss: 0.0558\n"
     ]
    },
    {
     "data": {
      "text/plain": [
       "<keras.callbacks.History at 0x261a9963c70>"
      ]
     },
     "execution_count": 42,
     "metadata": {},
     "output_type": "execute_result"
    }
   ],
   "source": [
    "# Treinamento do modelo\n",
    "# Batch_size = alimenta 1 registro por vez\n",
    "# verbose mostra na tela o treinmaneot em andamento\n",
    "\n",
    "modelo.fit(X_treino, y_treino, epochs = 50, batch_size = 1, verbose = 1)"
   ]
  },
  {
   "cell_type": "code",
   "execution_count": 43,
   "metadata": {},
   "outputs": [
    {
     "name": "stdout",
     "output_type": "stream",
     "text": [
      "2/2 [==============================] - 1s 2ms/step\n",
      "1/1 [==============================] - 0s 23ms/step\n"
     ]
    }
   ],
   "source": [
    "# Fazendo previsões com o modelo\n",
    "\n",
    "previsão_treino = modelo.predict(X_treino)\n",
    "previsao_teste = modelo.predict(X_teste)"
   ]
  },
  {
   "cell_type": "markdown",
   "metadata": {},
   "source": [
    "## CALCULANDO ERRO"
   ]
  },
  {
   "cell_type": "code",
   "execution_count": null,
   "metadata": {},
   "outputs": [],
   "source": [
    "# Transformar de volta para a escala orignial e calcular o erro do modelo\n",
    "\n",
    "\n"
   ]
  },
  {
   "cell_type": "code",
   "execution_count": null,
   "metadata": {},
   "outputs": [],
   "source": []
  },
  {
   "cell_type": "code",
   "execution_count": null,
   "metadata": {},
   "outputs": [],
   "source": []
  },
  {
   "cell_type": "code",
   "execution_count": null,
   "metadata": {},
   "outputs": [],
   "source": []
  },
  {
   "cell_type": "code",
   "execution_count": null,
   "metadata": {},
   "outputs": [],
   "source": []
  }
 ],
 "metadata": {
  "kernelspec": {
   "display_name": "base",
   "language": "python",
   "name": "python3"
  },
  "language_info": {
   "codemirror_mode": {
    "name": "ipython",
    "version": 3
   },
   "file_extension": ".py",
   "mimetype": "text/x-python",
   "name": "python",
   "nbconvert_exporter": "python",
   "pygments_lexer": "ipython3",
   "version": "3.9.13"
  }
 },
 "nbformat": 4,
 "nbformat_minor": 2
}
